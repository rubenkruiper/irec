{
 "cells": [
  {
   "cell_type": "code",
   "execution_count": 1,
   "id": "788a8bca",
   "metadata": {},
   "outputs": [
    {
     "name": "stdout",
     "output_type": "stream",
     "text": [
      "KM cuda not found, defaulting to sklearn CPU version of kmeans\n"
     ]
    }
   ],
   "source": [
    "from typing import Union, List, Any, Optional, Dict\n",
    "\n",
    "import os\n",
    "import re\n",
    "import time\n",
    "import json\n",
    "import glob\n",
    "import pickle\n",
    "import random\n",
    "import urllib\n",
    "import requests\n",
    "import subprocess\n",
    "import concurrent.futures\n",
    "\n",
    "import numpy as np\n",
    "import pandas as pd\n",
    "import seaborn as sns\n",
    "\n",
    "from bs4 import BeautifulSoup\n",
    "from tqdm import tqdm\n",
    "from pathlib import Path\n",
    "from textblob import TextBlob\n",
    "from threading import current_thread\n",
    "from matplotlib import pyplot as plt\n",
    "from collections import Counter\n",
    "from transformers import BertTokenizer, BertModel\n",
    "from gap_statistic import OptimalK\n",
    "from sklearn.cluster import KMeans #, AgglomerativeClustering\n",
    "from sklearn.neighbors import kneighbors_graph\n",
    "\n",
    "from utils import cluster_utils\n",
    "from utils import cleaning_utils\n",
    "from utils import IDF_computation\n",
    "from utils import embedding_utils as embedding\n",
    "from utils.customdocument import CustomDocument"
   ]
  },
  {
   "cell_type": "markdown",
   "id": "d081bf43",
   "metadata": {},
   "source": [
    "<div class=\"alert alert-block alert-info\"> \n",
    "We will run our term extraction on the Merged Approved Documents, the .pdf file can be found in the `data/` directory. For filtering of out-of-domain terms we will also process a set of EU regulations for medical device design, the .html files for these can be found in the same directory.\n",
    "</div>\n",
    "\n",
    "1. Preprocessing will consist only of removing headers/footers from PDF files. \n",
    "\n",
    "2. Candidate terms are identified using SPaR.txt (Kruiper et al., 2021), sentence splitting is done with the PunkSentTokenizer (Strunk, 2006).\n",
    "\n",
    "3. Filtering of term candidates consists of:\n",
    "  * a set of regular expressions found in utils.py\n",
    "  * clustering of terms found in (1) the Approved Documents, and (2) a set of EU regulations for medical device design; any clusters containing terms from (2) will be designated as terms that are irrelevant to the AEC domain.\n",
    "  \n",
    " \n"
   ]
  },
  {
   "cell_type": "markdown",
   "id": "996a98d0",
   "metadata": {},
   "source": [
    "### 1 Preprocessing: get text from PDF and HTML\n",
    "\n",
    "<div class=\"alert alert-block alert-info\">\n",
    "Here, we grab the text from our foreground and background corpora.\n",
    "</div>\n"
   ]
  },
  {
   "cell_type": "code",
   "execution_count": 2,
   "id": "0f74d6fb",
   "metadata": {},
   "outputs": [
    {
     "name": "stdout",
     "output_type": "stream",
     "text": [
      "Approved Documents: data/term_extraction_input/The Merged Approved Documents.pdf\n",
      "Reference corpus: ['data/term_extraction_input/EUR-Lex - 31993L0042 - EN.html', 'data/term_extraction_input/CELEX 32017R0746 EN TXT.html', 'data/term_extraction_input/CELEX 32017R0745 EN TXT.html', 'data/term_extraction_input/EUR-Lex - 31998L0079 - EN.html', 'data/term_extraction_input/EUR-Lex - 31990L0385 - EN.html']\n"
     ]
    }
   ],
   "source": [
    "input_path = Path(\"data/term_extraction_input/\")\n",
    "output_dir = Path(\"data/converted_documents/\")\n",
    "output_dir.mkdir(parents=True, exist_ok=True) # create the converted_documents directory if needed\n",
    "\n",
    "# NOTE: in our case the foreground corpus is the merged_approved_pdf_file, \n",
    "#       and the background corpus is a set of html files\n",
    "merged_approved_pdf_file = [x for x in input_path.glob(\"*.pdf\")][0]\n",
    "eu_html_files = [x for x in input_path.glob(\"*.html\")]\n",
    "\n",
    "print(f\"Approved Documents: {merged_approved_pdf_file}\")\n",
    "print(f\"Reference corpus: {[str(x) for x in eu_html_files]}\")"
   ]
  },
  {
   "cell_type": "code",
   "execution_count": 3,
   "id": "75175bc6",
   "metadata": {},
   "outputs": [
    {
     "data": {
      "text/plain": [
       "True"
      ]
     },
     "execution_count": 3,
     "metadata": {},
     "output_type": "execute_result"
    }
   ],
   "source": [
    "merged_approved_pdf_file.exists()"
   ]
  },
  {
   "cell_type": "markdown",
   "id": "271bdc02",
   "metadata": {},
   "source": [
    "<div class=\"alert alert-block alert-info\">\n",
    "First we grab the text from the Merged Approved Documents pdf file. Our implementation on based on the pdf conversion pipeline in Haystack.\n",
    "</div>"
   ]
  },
  {
   "cell_type": "code",
   "execution_count": 4,
   "id": "3e0d20e7",
   "metadata": {},
   "outputs": [],
   "source": [
    "def read_pdf(file_path: Path, layout: bool = True, encoding: Optional[str] = \"Latin1\") -> List[str]:\n",
    "        \"\"\"\n",
    "        Extract pages from the pdf file at file_path; based on Haystack.\n",
    "\n",
    "        :param file_path: path of the pdf file\n",
    "        :param layout: whether to retain the original physical layout for a page. If disabled, PDF pages are read in\n",
    "                       the content stream order.\n",
    "        \"\"\"\n",
    "        if layout:\n",
    "            command = [\"pdftotext\", \"-enc\", encoding, \"-layout\", str(file_path), \"-\"]\n",
    "        else:\n",
    "            command = [\"pdftotext\", \"-enc\", encoding, str(file_path), \"-\"]\n",
    "        output = subprocess.run(command, stdout=subprocess.PIPE, shell=False)  # type: ignore\n",
    "        document = output.stdout.decode(errors=\"ignore\")\n",
    "        pages = document.split(\"\\f\")\n",
    "        pages = pages[:-1]  # the last page in the split is always empty.\n",
    "        return pages\n",
    "\n",
    "def convert_pdf_to_mydoc(source_file_path: Path, \n",
    "                         output_file_path: Path, \n",
    "                         meta: Optional[Dict[str, str]] = None,\n",
    "                         remove_header_and_footer: Optional[bool] = True,\n",
    "                         clean_whitespace: Optional[bool] = True,\n",
    "                         clean_empty_lines: Optional[bool] = True,\n",
    "                         encoding: Optional[str] = \"Latin1\") -> CustomDocument:\n",
    "        \"\"\"\n",
    "        Extract pages from the pdf file at file_path; based on Haystack.\n",
    "\n",
    "        :param output_file_path:    Path to the .json file to store the converted file.\n",
    "        :param source_file_path:    Path to the .pdf file you want to convert\n",
    "        :param meta: Optional dictionary with metadata that shall be attached to all resulting documents.\n",
    "                     Can be any custom keys and values.\n",
    "        :param encoding: Encoding that will be passed as -enc parameter to pdftotext. \"Latin 1\" is the default encoding\n",
    "                         of pdftotext. While this works well on many PDFs, it might be needed to switch to \"UTF-8\" or\n",
    "                         others if your doc contains special characters (e.g. German Umlauts, Cyrillic characters ...).\n",
    "                         Note: With \"UTF-8\" we experienced cases, where a simple \"fi\" gets wrongly parsed as\n",
    "                         \"xef\\xac\\x81c\" (see test cases). That's why we keep \"Latin 1\" as default here.\n",
    "                         (See list of available encodings by running `pdftotext -listenc` in the terminal)\n",
    "        \"\"\"\n",
    "        pages = read_pdf(source_file_path, layout=True, encoding=encoding)\n",
    "\n",
    "        if not pages:\n",
    "            # empty input file\n",
    "            return None\n",
    "        \n",
    "        pages = [\"\\n\".join(p.splitlines()) for p in pages]\n",
    "\n",
    "        # splitting text happens during preprocessing, so no split_size passed here;\n",
    "        # split_size will be set to -1 during conversion.\n",
    "        document = CustomDocument(output_file_path, source_file_path, split_size=-1)\n",
    "        \n",
    "        print(\"Converted PDF file to pages of text, combining to a single CustomDocument to keep track of page nrs.\")\n",
    "        for page_idx, page in tqdm(enumerate(pages)):\n",
    "            \n",
    "            # some simple cleaning -- roughly based on haystack.\n",
    "            lines = page.splitlines()\n",
    "            if remove_header_and_footer:\n",
    "                # simplest way for removing header and footer \n",
    "                lines = lines[1:-2]\n",
    "\n",
    "            if clean_whitespace:\n",
    "                cleaned_lines = []\n",
    "                for line in lines:\n",
    "                    line = line.strip()\n",
    "                    cleaned_lines.append(line)\n",
    "                text = \" \".join(cleaned_lines)\n",
    "\n",
    "            if clean_empty_lines:\n",
    "                text = re.sub(r\"\\n\\n+\", \"\\n\\n\", text)\n",
    "                text = re.sub(r\"[\\s]+\", \" \", text)\n",
    "            \n",
    "            # no splitting here yet, so simply using page_nr as a place holder and split_id is left blank\n",
    "            page_nr = str(page_idx + 1)\n",
    "            document.add_content(text=text, \n",
    "                                 page_nr=page_nr, \n",
    "                                 doc_title=source_file_path.name)   # we're using the pdf file name for simplicity\n",
    "\n",
    "        return document"
   ]
  },
  {
   "cell_type": "code",
   "execution_count": 5,
   "id": "71184fcf",
   "metadata": {},
   "outputs": [
    {
     "name": "stdout",
     "output_type": "stream",
     "text": [
      "Converted PDF file to pages of text, combining to a single CustomDocument to keep track of page nrs.\n"
     ]
    },
    {
     "name": "stderr",
     "output_type": "stream",
     "text": [
      "1274it [00:00, 7321.76it/s]\n"
     ]
    }
   ],
   "source": [
    "output_path = output_dir.joinpath(\"merged_approved.json\")\n",
    "merged_approved_document = convert_pdf_to_mydoc(merged_approved_pdf_file, output_path)"
   ]
  },
  {
   "cell_type": "code",
   "execution_count": 6,
   "id": "1473ee8b",
   "metadata": {},
   "outputs": [
    {
     "name": "stdout",
     "output_type": "stream",
     "text": [
      "Maximum character length for a single block of text: 5537\n"
     ]
    }
   ],
   "source": [
    "print(f\"Maximum character length for a single block of text: {max([len(c.text) for c in merged_approved_document.all_contents])}\")"
   ]
  },
  {
   "cell_type": "markdown",
   "id": "84117041",
   "metadata": {},
   "source": [
    "<div class=\"alert alert-block alert-info\">\n",
    "Second, we grab the text from the EU regulation HTML files. Because the text in HTML files isn't split into pages, the blocks of text are much longer.\n",
    "</div>"
   ]
  },
  {
   "cell_type": "code",
   "execution_count": 7,
   "id": "c5bb53f9",
   "metadata": {},
   "outputs": [],
   "source": [
    "def grab_HTML_text_simple(file_path: Path):\n",
    "    \"\"\"\n",
    "    All text in the EU htmls seems to be captured neatly in <p> tags, we don't care about structure currently.\n",
    "    We do remove all unicode characters, see `utils.remove_unicode_chars()`.\n",
    "    \"\"\" \n",
    "    with open(file_path, 'r') as f:\n",
    "        text = f.read()\n",
    "    soup = BeautifulSoup(text, 'html.parser')\n",
    "    return [cleaning_utils.remove_unicode_chars(x.text) for x in soup.body.find_all('p')]"
   ]
  },
  {
   "cell_type": "code",
   "execution_count": 8,
   "id": "6630e6ba",
   "metadata": {},
   "outputs": [],
   "source": [
    "def convert_html_to_mydoc(source_file_path: Path, \n",
    "                          output_file_path: Path) -> CustomDocument:\n",
    "    \n",
    "    document = CustomDocument(output_file_path, source_file_path, split_size=-1)\n",
    "    document_paragraphs = []\n",
    "    list_of_paragraphs = grab_HTML_text_simple(source_file_path)\n",
    "    for paragraph in list_of_paragraphs:\n",
    "        if paragraph.strip() != '':\n",
    "            document_paragraphs.append(paragraph)\n",
    "    \n",
    "    for paragraph_idx, paragraph in tqdm(enumerate(document_paragraphs)):\n",
    "            # no splitting here yet, so simply using page_nr as a place holder and split_id is left blank\n",
    "            paragraph_nr = str(paragraph_idx + 1)\n",
    "            document.add_content(text=paragraph, \n",
    "                                 page_nr=paragraph_nr, \n",
    "                                 doc_title=source_file_path.name) # we're using the html file name for simplicity\n",
    "    return document"
   ]
  },
  {
   "cell_type": "code",
   "execution_count": 9,
   "id": "91b68b58",
   "metadata": {},
   "outputs": [
    {
     "name": "stderr",
     "output_type": "stream",
     "text": [
      "  0%|                                                                                                                                                                               | 0/5 [00:00<?, ?it/s]\n",
      "826it [00:00, 281734.98it/s]\n",
      "\n",
      "4344it [00:00, 329071.97it/s]\n",
      " 40%|██████████████████████████████████████████████████████████████████▊                                                                                                    | 2/5 [00:00<00:01,  2.24it/s]\n",
      "4799it [00:00, 364507.43it/s]\n",
      " 60%|████████████████████████████████████████████████████████████████████████████████████████████████████▏                                                                  | 3/5 [00:01<00:01,  1.66it/s]\n",
      "623it [00:00, 221163.89it/s]\n",
      "\n",
      "511it [00:00, 277412.55it/s]\n",
      "100%|███████████████████████████████████████████████████████████████████████████████████████████████████████████████████████████████████████████████████████████████████████| 5/5 [00:01<00:00,  2.65it/s]\n"
     ]
    }
   ],
   "source": [
    "eu_regulation_documents = []\n",
    "\n",
    "for html_file in tqdm(eu_html_files):\n",
    "    output_path = output_dir.joinpath(html_file.stem + \".json\")\n",
    "    eu_regulation_documents.append(convert_html_to_mydoc(html_file, output_path))\n"
   ]
  },
  {
   "cell_type": "code",
   "execution_count": 10,
   "id": "033634ca",
   "metadata": {},
   "outputs": [
    {
     "name": "stdout",
     "output_type": "stream",
     "text": [
      "Maximum character length for a single paragraph: 143428\n"
     ]
    }
   ],
   "source": [
    "print(f\"Maximum character length for a single paragraph: {max([len(c.text) for d in eu_regulation_documents for c in d.all_contents])}\")"
   ]
  },
  {
   "cell_type": "markdown",
   "id": "77347abc",
   "metadata": {},
   "source": [
    "<div class=\"alert alert-block alert-info\">\n",
    "Third, if the output document doesn't exist (yet), we save the ConvertedDocument.\n",
    "</div>"
   ]
  },
  {
   "cell_type": "code",
   "execution_count": 11,
   "id": "24237e3e",
   "metadata": {},
   "outputs": [],
   "source": [
    "foreground_corpus = [merged_approved_document]\n",
    "background_corpus = eu_regulation_documents"
   ]
  },
  {
   "cell_type": "code",
   "execution_count": 12,
   "id": "7a00ed81",
   "metadata": {},
   "outputs": [],
   "source": [
    "for d in foreground_corpus + background_corpus:\n",
    "    if not os.path.exists(d.output_fp):\n",
    "        d.write_document()"
   ]
  },
  {
   "cell_type": "markdown",
   "id": "20f6e56a",
   "metadata": {},
   "source": [
    "### 2 Term extraction: identify object spans with SPaR.txt\n",
    "\n",
    "<div class=\"alert alert-block alert-info\">\n",
    "For each of the sentences in our corpora, we run SPaR.txt for object identification.\n",
    "</div>\n",
    "\n",
    "\n",
    "Note; on a mac, you may have to install the Xcode commandline developer tools. Open a terminal window and run `xcode-select --install` or download Xcode through the App store.\n",
    "\n"
   ]
  },
  {
   "cell_type": "code",
   "execution_count": 13,
   "id": "edf22a14",
   "metadata": {},
   "outputs": [],
   "source": [
    "# download SPaR.txt if required\n",
    "from pathlib import Path\n",
    "spartxt_path = Path(\"SPaR.txt/\")\n",
    "if not spartxt_path.exists():\n",
    "    !git clone https://github.com/rubenkruiper/SPaR.txt.git"
   ]
  },
  {
   "cell_type": "code",
   "execution_count": 14,
   "id": "b19aa4ce",
   "metadata": {},
   "outputs": [],
   "source": [
    "import imp\n",
    "with open(spartxt_path.joinpath('spar_predictor.py'), 'rb') as fp:\n",
    "    spar_predictor = imp.load_module(\n",
    "        'spar_predictor', fp, 'SPaR.txt.spar_predictor.py',\n",
    "        ('.py', 'rb', imp.PY_SOURCE)\n",
    "    )"
   ]
  },
  {
   "cell_type": "code",
   "execution_count": 15,
   "id": "9daef1de",
   "metadata": {
    "scrolled": true
   },
   "outputs": [
    {
     "name": "stderr",
     "output_type": "stream",
     "text": [
      "Some weights of the model checkpoint at bert-base-cased were not used when initializing BertModel: ['cls.predictions.decoder.weight', 'cls.predictions.transform.LayerNorm.weight', 'cls.predictions.transform.dense.bias', 'cls.predictions.bias', 'cls.predictions.transform.dense.weight', 'cls.seq_relationship.bias', 'cls.predictions.transform.LayerNorm.bias', 'cls.seq_relationship.weight']\n",
      "- This IS expected if you are initializing BertModel from the checkpoint of a model trained on another task or with another architecture (e.g. initializing a BertForSequenceClassification model from a BertForPreTraining model).\n",
      "- This IS NOT expected if you are initializing BertModel from the checkpoint of a model that you expect to be exactly identical (initializing a BertForSequenceClassification model from a BertForSequenceClassification model).\n"
     ]
    }
   ],
   "source": [
    "# trains a model if needed, otherwise loads from archive; \n",
    "# - best F1 on dev/validation in the paper is 80,96 trained on a GPU, CPU will be a bit lower ~77.x I think\n",
    "sp = spar_predictor.SparPredictor()"
   ]
  },
  {
   "cell_type": "code",
   "execution_count": 16,
   "id": "a0206ea8",
   "metadata": {},
   "outputs": [
    {
     "name": "stdout",
     "output_type": "stream",
     "text": [
      "Example input: An example sentence to show how ACC terminology will be extracted from the British Standards.\n",
      "{'obj': ['An example sentence', 'ACC terminology', 'the British Standards']}\n",
      "Parsing took 0.11167192459106445\n"
     ]
    }
   ],
   "source": [
    "# example \n",
    "example = \"An example sentence to show how ACC terminology will be extracted from the British Standards.\"\n",
    "start_time = time.time()\n",
    "# prepare instance and run model on single instance\n",
    "docid = ''                  # ToDo - add doc_id during pre_processing?\n",
    "token_list = sp.predictor._dataset_reader.tokenizer.tokenize(example)\n",
    "instance = sp.predictor._dataset_reader.text_to_instance(docid,\n",
    "                                                      example,\n",
    "                                                      token_list,\n",
    "                                                      sp.predictor._dataset_reader._token_indexer)\n",
    "result = sp.predictor.predict_instance(instance)\n",
    "printable_result = sp.parse_output(result, ['obj'])\n",
    "print(f\"Example input: {example}\")\n",
    "print(printable_result)\n",
    "print(\"Parsing took {}\".format(time.time() - start_time))"
   ]
  },
  {
   "cell_type": "markdown",
   "id": "faaf4fe0",
   "metadata": {},
   "source": [
    "* To run SPaR.txt, we split the text in our corpora into sentences. We set up multiple instances of SPaR.txt predictors to speed up the processing a little."
   ]
  },
  {
   "cell_type": "code",
   "execution_count": 17,
   "id": "bc415227",
   "metadata": {},
   "outputs": [],
   "source": [
    "from utils import spar_utils"
   ]
  },
  {
   "cell_type": "code",
   "execution_count": 18,
   "id": "c5f7c27f",
   "metadata": {},
   "outputs": [],
   "source": [
    "# We initialize `max_num_cpu_threads` number of SPaR.txt predictors (see spar_utils for details)\n",
    "te = spar_utils.TermExtractor(max_num_cpu_threads=4)"
   ]
  },
  {
   "cell_type": "code",
   "execution_count": 19,
   "id": "b3d086b3",
   "metadata": {},
   "outputs": [
    {
     "name": "stdout",
     "output_type": "stream",
     "text": [
      "Working on: data/input/The Merged Approved Documents.pdf\n"
     ]
    },
    {
     "name": "stderr",
     "output_type": "stream",
     "text": [
      "100%|████████████████████████████████████████████████████████████████████████████████████████████████████████████████████████████████████████████████████████████████| 1274/1274 [00:01<00:00, 775.02it/s]\n"
     ]
    },
    {
     "name": "stdout",
     "output_type": "stream",
     "text": [
      "Number of sentences found: 17745\n",
      "Working on: data/input/EUR-Lex - 31993L0042 - EN.html\n"
     ]
    },
    {
     "name": "stderr",
     "output_type": "stream",
     "text": [
      "100%|█████████████████████████████████████████████████████████████████████████████████████████████████████████████████████████████████████████████████████████████████| 826/826 [00:00<00:00, 3383.18it/s]\n"
     ]
    },
    {
     "name": "stdout",
     "output_type": "stream",
     "text": [
      "Number of sentences found: 1679\n",
      "Working on: data/input/CELEX 32017R0746 EN TXT.html\n"
     ]
    },
    {
     "name": "stderr",
     "output_type": "stream",
     "text": [
      "100%|███████████████████████████████████████████████████████████████████████████████████████████████████████████████████████████████████████████████████████████████| 4344/4344 [00:02<00:00, 2166.23it/s]\n"
     ]
    },
    {
     "name": "stdout",
     "output_type": "stream",
     "text": [
      "Number of sentences found: 3405\n",
      "Working on: data/input/CELEX 32017R0745 EN TXT.html\n"
     ]
    },
    {
     "name": "stderr",
     "output_type": "stream",
     "text": [
      "100%|███████████████████████████████████████████████████████████████████████████████████████████████████████████████████████████████████████████████████████████████| 4799/4799 [00:01<00:00, 2975.24it/s]\n"
     ]
    },
    {
     "name": "stdout",
     "output_type": "stream",
     "text": [
      "Number of sentences found: 3838\n",
      "Working on: data/input/EUR-Lex - 31998L0079 - EN.html\n"
     ]
    },
    {
     "name": "stderr",
     "output_type": "stream",
     "text": [
      "100%|█████████████████████████████████████████████████████████████████████████████████████████████████████████████████████████████████████████████████████████████████| 623/623 [00:00<00:00, 2493.98it/s]\n"
     ]
    },
    {
     "name": "stdout",
     "output_type": "stream",
     "text": [
      "Number of sentences found: 1255\n",
      "Working on: data/input/EUR-Lex - 31990L0385 - EN.html\n"
     ]
    },
    {
     "name": "stderr",
     "output_type": "stream",
     "text": [
      "100%|█████████████████████████████████████████████████████████████████████████████████████████████████████████████████████████████████████████████████████████████████| 511/511 [00:00<00:00, 3970.57it/s]\n"
     ]
    },
    {
     "name": "stdout",
     "output_type": "stream",
     "text": [
      "Number of sentences found: 771\n"
     ]
    }
   ],
   "source": [
    "# Run SPaR.txt on all documents and write to file\n",
    "for converted_document in foreground_corpus + background_corpus:\n",
    "    # re-load the document from file, to make sure we don't overwrite existing SPaR.txt labels\n",
    "    converted_document = converted_document.load_document(converted_document.output_fp)\n",
    "    te.process_custom_document(converted_document)\n",
    "    "
   ]
  },
  {
   "cell_type": "markdown",
   "id": "4835185f",
   "metadata": {},
   "source": [
    "<div class=\"alert alert-block alert-info\">\n",
    "Number of sentences (longer than 10 characters) found in: <ul>\n",
    "    <li>Merged Approved documents: 17745</li>\n",
    "    <li>Background corpus (1679+3405+3838+1255+771): 10948</li>\n",
    "    </ul>\n",
    "</div>"
   ]
  },
  {
   "cell_type": "markdown",
   "id": "c6b15878",
   "metadata": {},
   "source": [
    "### 3 Filtering\n",
    "<div class=\"alert alert-block alert-info\">\n",
    "The objects identified by SPaR.txt contain a lot of noise. Here, we clean and filter them; based on our background corpus we try to identify which terms belong to the AEC domain. \n",
    "</div>"
   ]
  },
  {
   "cell_type": "markdown",
   "id": "b511762d",
   "metadata": {},
   "source": [
    "<div class=\"alert alert-block alert-info\">\n",
    "First, load all terms from the processed files.\n",
    "</div>"
   ]
  },
  {
   "cell_type": "code",
   "execution_count": 20,
   "id": "4fb5373f",
   "metadata": {},
   "outputs": [
    {
     "name": "stdout",
     "output_type": "stream",
     "text": [
      "Total number of foreground terms: 114333\n",
      "Total number of UNIQUE foreground terms: 42657\n"
     ]
    },
    {
     "data": {
      "text/plain": [
       "[('the', 2130),\n",
       " ('a', 930),\n",
       " ('the building', 864),\n",
       " ('buildings', 839),\n",
       " ('guidance', 522),\n",
       " ('a building', 455),\n",
       " ('the Building Regulations', 434),\n",
       " ('document', 303),\n",
       " ('people', 301),\n",
       " ('the requirements', 297)]"
      ]
     },
     "execution_count": 20,
     "metadata": {},
     "output_type": "execute_result"
    }
   ],
   "source": [
    "foreground_terms_lists = [c.NER_labels for d in foreground_corpus for c in d.load_document(d.output_fp).all_contents]\n",
    "foreground_terms = [t for t_list in foreground_terms_lists for t in t_list if t]\n",
    "foreground_terms_c = Counter(foreground_terms)\n",
    "print(f\"Total number of foreground terms: {len(foreground_terms)}\")\n",
    "print(f\"Total number of UNIQUE foreground terms: {len(foreground_terms_c)}\")\n",
    "foreground_terms_c.most_common(10)"
   ]
  },
  {
   "cell_type": "code",
   "execution_count": 21,
   "id": "8006f6f0",
   "metadata": {},
   "outputs": [
    {
     "name": "stdout",
     "output_type": "stream",
     "text": [
      "Total number of background terms: 73124\n",
      "Total number of UNIQUE background terms: 10245\n"
     ]
    },
    {
     "data": {
      "text/plain": [
       "[('the', 2651),\n",
       " ('devices', 1641),\n",
       " ('the manufacturer', 1243),\n",
       " ('the device', 1187),\n",
       " ('Regulation', 624),\n",
       " ('the notified body', 595),\n",
       " ('information', 550),\n",
       " ('Member States', 489),\n",
       " ('a', 451),\n",
       " ('the market', 447)]"
      ]
     },
     "execution_count": 21,
     "metadata": {},
     "output_type": "execute_result"
    }
   ],
   "source": [
    "background_terms_lists = [c.NER_labels for d in background_corpus for c in d.load_document(d.output_fp).all_contents]\n",
    "background_terms = [t for t_list in background_terms_lists for t in t_list if t]\n",
    "background_terms_c = Counter(background_terms)\n",
    "print(f\"Total number of background terms: {len(background_terms)}\")\n",
    "print(f\"Total number of UNIQUE background terms: {len(background_terms_c)}\")\n",
    "background_terms_c.most_common(10)"
   ]
  },
  {
   "cell_type": "code",
   "execution_count": 22,
   "id": "e79727a3",
   "metadata": {},
   "outputs": [
    {
     "name": "stdout",
     "output_type": "stream",
     "text": [
      "Total number of unique spans identified by SPaR.txt:51296\n"
     ]
    }
   ],
   "source": [
    "print(f\"Total number of unique spans identified by SPaR.txt:{len(foreground_terms_c+background_terms_c)}\")"
   ]
  },
  {
   "cell_type": "markdown",
   "id": "464451e8",
   "metadata": {},
   "source": [
    "<div class=\"alert alert-block alert-info\">\n",
    "Second, clean the terms with the regular expressions we've defined in utils.py\n",
    "</div>"
   ]
  },
  {
   "cell_type": "code",
   "execution_count": 23,
   "id": "2503708d",
   "metadata": {},
   "outputs": [],
   "source": [
    "regex_filter = cleaning_utils.RegexFilter()\n",
    "def run_filters(input_counter):\n",
    "    cleaned_counter = Counter()\n",
    "    for k, v in input_counter.items():\n",
    "        # terms should occur twice at least\n",
    "        if v < 2:\n",
    "            continue\n",
    "\n",
    "        # todo; clean up these util functions and how to call them|\n",
    "        _, k = regex_filter.run_filter(k)\n",
    "        if k:\n",
    "            cleaned_k = cleaning_utils.custom_cleaning_rules(k)\n",
    "            if cleaned_k:\n",
    "                cleaned_counter[cleaned_k[0]] = v\n",
    "    return cleaned_counter"
   ]
  },
  {
   "cell_type": "code",
   "execution_count": 24,
   "id": "2e42c7fb",
   "metadata": {},
   "outputs": [
    {
     "name": "stdout",
     "output_type": "stream",
     "text": [
      "11177\n"
     ]
    },
    {
     "data": {
      "text/plain": [
       "[('guidance', 522),\n",
       " ('a building', 455),\n",
       " ('document', 303),\n",
       " ('the requirements', 297),\n",
       " ('requirements', 266),\n",
       " ('work', 242),\n",
       " ('the guidance', 240),\n",
       " ('the work', 232),\n",
       " ('Schedule 1', 226),\n",
       " ('the dwelling', 215)]"
      ]
     },
     "execution_count": 24,
     "metadata": {},
     "output_type": "execute_result"
    }
   ],
   "source": [
    "cleaned_foreground_terms_c = run_filters(foreground_terms_c)\n",
    "print(len(cleaned_foreground_terms_c))\n",
    "cleaned_foreground_terms_c.most_common(10)"
   ]
  },
  {
   "cell_type": "code",
   "execution_count": 25,
   "id": "899b1cbc",
   "metadata": {},
   "outputs": [
    {
     "name": "stdout",
     "output_type": "stream",
     "text": [
      "6188\n"
     ]
    },
    {
     "data": {
      "text/plain": [
       "[('devices', 1641),\n",
       " ('the device', 1187),\n",
       " ('the notified body', 595),\n",
       " ('Member States', 489),\n",
       " ('accordance', 429),\n",
       " ('a device', 405),\n",
       " ('conformity', 357),\n",
       " ('the requirements', 350),\n",
       " ('The notified body', 328),\n",
       " ('notified bodies', 324)]"
      ]
     },
     "execution_count": 25,
     "metadata": {},
     "output_type": "execute_result"
    }
   ],
   "source": [
    "cleaned_background_terms_c = run_filters(background_terms_c)\n",
    "print(len(cleaned_background_terms_c))\n",
    "cleaned_background_terms_c.most_common(10)"
   ]
  },
  {
   "cell_type": "markdown",
   "id": "406d6ca8",
   "metadata": {},
   "source": [
    "<div class=\"alert alert-block alert-info\">\n",
    "Third, we compute the embeddings for both foreground and background terms.\n",
    "</div>\n",
    "\n",
    "\n",
    "* Note: **embeddings** will be IDF weighted (IDF weights over both foreground and background corpora)\n",
    "  * Could add more sentences to the computation of IDF weights, e.g., definitions from vocabularies/WikiData."
   ]
  },
  {
   "cell_type": "code",
   "execution_count": 26,
   "id": "0b177bf4",
   "metadata": {},
   "outputs": [],
   "source": [
    "# Which tokenizer to use for IDF computation and Embedding;\n",
    "bert_model_name = 'bert-base-cased'\n",
    "embedding_output_fp = Path.cwd().joinpath(\"data\", \"term_embedding\")\n",
    "embedding_output_fp.mkdir(parents=True, exist_ok=True) # create the term_embedding directory if needed"
   ]
  },
  {
   "cell_type": "code",
   "execution_count": 27,
   "id": "b68eef07",
   "metadata": {},
   "outputs": [],
   "source": [
    "# store the cleaned unique_background_spans\n",
    "with open(Path(embedding_output_fp.joinpath(\"unique_background_spans.pkl\")), 'wb') as f:\n",
    "    pickle.dump([span for span in cleaned_background_terms_c.keys()], f)"
   ]
  },
  {
   "cell_type": "code",
   "execution_count": 28,
   "id": "10278f75",
   "metadata": {},
   "outputs": [],
   "source": [
    "all_terms_c = cleaned_foreground_terms_c + cleaned_background_terms_c"
   ]
  },
  {
   "cell_type": "code",
   "execution_count": 29,
   "id": "8f403d14",
   "metadata": {},
   "outputs": [
    {
     "data": {
      "text/plain": [
       "16430"
      ]
     },
     "execution_count": 29,
     "metadata": {},
     "output_type": "execute_result"
    }
   ],
   "source": [
    "len(all_terms_c)"
   ]
  },
  {
   "cell_type": "code",
   "execution_count": 30,
   "id": "a1000a90",
   "metadata": {},
   "outputs": [
    {
     "data": {
      "text/plain": [
       "[('devices', 1665),\n",
       " ('the device', 1195),\n",
       " ('the requirements', 647),\n",
       " ('accordance', 631),\n",
       " ('the notified body', 595),\n",
       " ('guidance', 539),\n",
       " ('Member States', 491),\n",
       " ('requirements', 457),\n",
       " ('a building', 455),\n",
       " ('a device', 412)]"
      ]
     },
     "execution_count": 30,
     "metadata": {},
     "output_type": "execute_result"
    }
   ],
   "source": [
    "all_terms_c.most_common(10)"
   ]
  },
  {
   "cell_type": "code",
   "execution_count": 31,
   "id": "ac5654c4",
   "metadata": {
    "scrolled": true
   },
   "outputs": [
    {
     "name": "stdout",
     "output_type": "stream",
     "text": [
      "Number of MWEs: 10818\n"
     ]
    },
    {
     "data": {
      "text/plain": [
       "['emergency lighting fire extinguishers',\n",
       " 'section 1',\n",
       " 'performance evaluations',\n",
       " 'The provisions 1 )',\n",
       " 'class 7',\n",
       " 'sterile y / n )',\n",
       " 'November 2001',\n",
       " 'an improvement notice',\n",
       " 'Design considerations',\n",
       " 'public building',\n",
       " 'a safe combination',\n",
       " 'chimney system',\n",
       " 'IT systems',\n",
       " 'graduated drawing',\n",
       " 'loft insulation',\n",
       " 'raw materials',\n",
       " 'heat exhaust doors fire resistance test [ 2018 ] ventilators [ 2017',\n",
       " 'BS EN 81 - 58',\n",
       " 'dynamic stiffness',\n",
       " 'the Lighting Industry Commissioning Scheme',\n",
       " 'the sample test',\n",
       " 'local circumstances',\n",
       " 'a type 2 separating wall',\n",
       " 'the correct identification',\n",
       " 'the notifications 1',\n",
       " 'in 1 )',\n",
       " 'the average U - value',\n",
       " 'the EC declaration of',\n",
       " 'the enclosure a',\n",
       " 'CWFT )',\n",
       " 'septic tank',\n",
       " 'the objective methodology',\n",
       " 'guidance THE APPROVED DOCUMENTS Paragraphs H2 J7',\n",
       " 'mechanical ventilation systems',\n",
       " 'a basement flat',\n",
       " 'household waste',\n",
       " 'CO2 emission rates',\n",
       " 'service penetrations',\n",
       " 'Code of use',\n",
       " 'Products Regulation',\n",
       " 'the beam type energy',\n",
       " 'Table K1',\n",
       " 'paragraph 2 7',\n",
       " 'litres /',\n",
       " 'Directive 83 / 189 / EEC',\n",
       " 'methodological aspects',\n",
       " 'smart cards',\n",
       " 'paragraph 11',\n",
       " 'Commission Decision 2000 / 367 / EC',\n",
       " 'material s3',\n",
       " 'pressure relief valve',\n",
       " 'Eurocode 2 : Design',\n",
       " 'the follow - up measures',\n",
       " 'the summary results',\n",
       " 'top lit',\n",
       " 'traditional construction',\n",
       " 'mechanical risks',\n",
       " 'Class 1',\n",
       " 'sound energy',\n",
       " 'fixed building service',\n",
       " 'falling Siting',\n",
       " 'thermoplastic substrate',\n",
       " 'Background ventilators',\n",
       " 'storage rooms',\n",
       " 'Part E1',\n",
       " 'a opening width',\n",
       " 'essential information',\n",
       " 'Paragraphs H2 J7',\n",
       " 'Brown plc ) Tel no',\n",
       " 'high - polluting',\n",
       " 'tread nosings',\n",
       " 'the National Calculation Methodology',\n",
       " 'public areas',\n",
       " 'international developments',\n",
       " 'BS EN 752 - 4',\n",
       " 'flat conversions',\n",
       " 'carbon - intensive option',\n",
       " 'sanitary appliance',\n",
       " 'Glass and Glazing Federation GGF )',\n",
       " 'Table B2',\n",
       " 'essential requirements',\n",
       " 'minutes )  1',\n",
       " 'individual rooms',\n",
       " 'opening width',\n",
       " 'Table B3 Position',\n",
       " 'Clinical performance studies',\n",
       " 'the First Secretary of State',\n",
       " 'windows skylights',\n",
       " 'an output report',\n",
       " 'For cavities',\n",
       " 'party accreditation',\n",
       " 'each step',\n",
       " 'the types risk',\n",
       " 'compartments floor slab',\n",
       " 'change of direction',\n",
       " 'operating systems',\n",
       " 'Wastes Management',\n",
       " 'personal protective equipment',\n",
       " 'envelope area',\n",
       " 'textile BS 7346 - 7 Components']"
      ]
     },
     "execution_count": 31,
     "metadata": {},
     "output_type": "execute_result"
    }
   ],
   "source": [
    "# some insight in number of MWEs\n",
    "mwes = []\n",
    "for t in all_terms_c.keys():\n",
    "    words = t.split(' ')\n",
    "    if words[0] in ['the', 'a', 'The', 'A', 'an', 'An', 'any', 'Any', 'this', 'This']:\n",
    "        words = words[1:]\n",
    "    if len(words) > 1:\n",
    "        mwes.append(t)\n",
    "\n",
    "print(f\"Number of MWEs: {len(mwes)}\")\n",
    "random.sample(mwes, 100)\n"
   ]
  },
  {
   "cell_type": "code",
   "execution_count": 32,
   "id": "d8d0d4ad",
   "metadata": {},
   "outputs": [],
   "source": [
    "# Compute IDF weights\n",
    "sentence_lists = [c.sentences for d in foreground_corpus + background_corpus for c in d.load_document(d.output_fp).all_contents]\n",
    "all_sentences = [s for sent_list in sentence_lists for s in sent_list if s]"
   ]
  },
  {
   "cell_type": "code",
   "execution_count": 33,
   "id": "7bf4a15f",
   "metadata": {},
   "outputs": [
    {
     "name": "stdout",
     "output_type": "stream",
     "text": [
      "28693\n"
     ]
    },
    {
     "data": {
      "text/plain": [
       "['The Merged Approved Documents',\n",
       " 'How to use the Merged Approved Documents This document combines the approved documents into a single PDF.',\n",
       " 'Each approved document is self-contained and has its own introduction.',\n",
       " 'Each introduction relates only to the corresponding approved document.',\n",
       " \"Each introduction also contains information on when the document's guidance came into effect (or will come into effect).\",\n",
       " 'It is important to check that the version of each approved document you are using remains current and is the correct version for your project.',\n",
       " 'Please refer to the Ministry of Housing, Communities and Local Government website to check, and confirm with your building control body if in doubt.',\n",
       " 'Key features The Merged Approved Documents enable the user to: undertake a word search across all of the approved documents cut and paste text and diagrams into other documents add notes to a saved copy use an index to access individual sections of the guidance Correction to Approved Document K The heading in section 1.18 of the online version of Approved Document K have been corrected to match the print version.',\n",
       " \"Forthcoming changes Please check the Ministry of Housing, Communities and Local Government's website to ensure that each approved document you are using is current for your project.\",\n",
       " 'This is particularly important in relation to Approved Document B as this has been subject to frequent update.']"
      ]
     },
     "execution_count": 33,
     "metadata": {},
     "output_type": "execute_result"
    }
   ],
   "source": [
    "print(len(all_sentences))\n",
    "all_sentences[:10]"
   ]
  },
  {
   "cell_type": "code",
   "execution_count": 34,
   "id": "c09c984e",
   "metadata": {},
   "outputs": [
    {
     "name": "stdout",
     "output_type": "stream",
     "text": [
      "Loading existing IDF weights.\n",
      "Printing some IDF values, should be subword units!\n",
      "['cluster']\n",
      "['##of']\n",
      "['deposits']\n",
      "['ultimate']\n",
      "['horizontal']\n",
      "['proximity']\n",
      "['estates']\n",
      "['exploration']\n",
      "['##most']\n",
      "['rendered']\n"
     ]
    }
   ],
   "source": [
    "IDF_path = embedding_output_fp.joinpath(\"IDF_weights.json\")\n",
    "IDF_c = IDF_computation.IdfComputer(IDF_path, bert_model_name=bert_model_name)\n",
    "IDF_path = IDF_c.compute_or_load_IDF_weights(all_sentences, overwrite=False)"
   ]
  },
  {
   "cell_type": "markdown",
   "id": "34c1e56d",
   "metadata": {},
   "source": [
    "#### Embed each of the terms identified by SPaR.txt\n",
    "* TF-IDF weighting and threshold"
   ]
  },
  {
   "cell_type": "code",
   "execution_count": 35,
   "id": "5b1959bd",
   "metadata": {},
   "outputs": [
    {
     "name": "stdout",
     "output_type": "stream",
     "text": [
      "Number of unique terms: 16430\n"
     ]
    },
    {
     "data": {
      "text/plain": [
       "['the Merged Approved Documents',\n",
       " 'document',\n",
       " 'documents',\n",
       " 'Each introduction',\n",
       " 'approved',\n",
       " 'information',\n",
       " 'guidance',\n",
       " 'the version',\n",
       " 'project',\n",
       " 'the Ministry']"
      ]
     },
     "execution_count": 35,
     "metadata": {},
     "output_type": "execute_result"
    }
   ],
   "source": [
    "all_terms = [k for k in all_terms_c.keys()] # counter keys, so already unique\n",
    "print(f\"Number of unique terms: {len(all_terms)}\")\n",
    "all_terms[:10]"
   ]
  },
  {
   "cell_type": "code",
   "execution_count": 36,
   "id": "26f20d44",
   "metadata": {},
   "outputs": [
    {
     "name": "stderr",
     "output_type": "stream",
     "text": [
      "Some weights of the model checkpoint at bert-base-cased were not used when initializing BertModel: ['cls.predictions.decoder.weight', 'cls.predictions.transform.LayerNorm.weight', 'cls.predictions.transform.dense.bias', 'cls.predictions.bias', 'cls.predictions.transform.dense.weight', 'cls.seq_relationship.bias', 'cls.predictions.transform.LayerNorm.bias', 'cls.seq_relationship.weight']\n",
      "- This IS expected if you are initializing BertModel from the checkpoint of a model trained on another task or with another architecture (e.g. initializing a BertForSequenceClassification model from a BertForPreTraining model).\n",
      "- This IS NOT expected if you are initializing BertModel from the checkpoint of a model that you expect to be exactly identical (initializing a BertForSequenceClassification model from a BertForSequenceClassification model).\n"
     ]
    }
   ],
   "source": [
    "tokenizer = BertTokenizer.from_pretrained(bert_model_name)\n",
    "bert_model = BertModel.from_pretrained(bert_model_name, output_hidden_states=True)"
   ]
  },
  {
   "cell_type": "code",
   "execution_count": 37,
   "id": "a669a4a8",
   "metadata": {},
   "outputs": [],
   "source": [
    "embedder = embedding.Embedder(tokenizer, bert_model, \n",
    "                              IDF_dict=json.load(open(IDF_path)), \n",
    "                              embedding_fp=embedding_output_fp,\n",
    "                              layers_to_use = [12],         # we'll use the output of the last layer\n",
    "                              layer_combination = \"avg\",    # how to combine layers if multiple are used\n",
    "                              idf_threshold = 1.5,          # minimum IDF value for a token to contribute\n",
    "                              idf_weight_factor = 1.0,      # modify how strong the influence of IDF weighting is\n",
    "                              not_found_idf_value = 0.5)    # IDF value for tokens that weren't seen during IDF computation (doesn't apply here)"
   ]
  },
  {
   "cell_type": "code",
   "execution_count": 38,
   "id": "ce59ea93",
   "metadata": {},
   "outputs": [
    {
     "name": "stdout",
     "output_type": "stream",
     "text": [
      "Preparing embeddings for 16430 spans, in groups of: 1000\n"
     ]
    },
    {
     "name": "stderr",
     "output_type": "stream",
     "text": [
      "100%|█████████████████████████████████████████████████████████████████████████████████████████████████████████████████████████████████████████████████████████████████████| 17/17 [04:48<00:00, 16.97s/it]\n"
     ]
    }
   ],
   "source": [
    "# Compute the embeddings, this is split into subsets so we don't overload your memory (adjust these values if needed)\n",
    "max_num_cpu_threads = 4\n",
    "subset_size = 1000\n",
    "\n",
    "# Checks which of the embeddings for the clustering cluster_data already exist, so they can be re-used\n",
    "term_subsets = cleaning_utils.split_list(all_terms, subset_size)\n",
    "embedding_files = [f for f in embedder.embedding_fp.glob('embeddings*.pkl')]\n",
    "span_and_embedding_pairs = []\n",
    "if len(embedding_files) == len(term_subsets):\n",
    "    for e in embedding_files:\n",
    "        span_and_embedding_pairs += pickle.load(open(e, 'rb'))\n",
    "else:\n",
    "    print(f\"Preparing embeddings for {len(all_terms)} spans, in groups of: {subset_size}\")\n",
    "    subset_idx = 0            # iterator index outside of tqdm \n",
    "    for subset in tqdm(term_subsets):\n",
    "        subset_embeddings = []\n",
    "        subset_file_name = embedder.embedding_fp.joinpath(\"embeddings_part_{}.pkl\".format(subset_idx))\n",
    "        subset_idx += 1\n",
    "        if subset_file_name.exists():\n",
    "            # already computed previously\n",
    "            continue\n",
    "        \n",
    "        with concurrent.futures.ThreadPoolExecutor(max_workers=max_num_cpu_threads) as executor:\n",
    "            futures = [executor.submit(embedder.embed_a_span, subset[idx]) for idx in range(len(subset))]\n",
    "\n",
    "        subset_embeddings += [f.result() for f in futures if f.result()]\n",
    "\n",
    "        with open(subset_file_name, 'wb') as f:\n",
    "            pickle.dump(subset_embeddings, f)\n",
    "\n",
    "    # Once all embeddings are created; combine them in span_and_embedding_pairs\n",
    "    embedding_files = [f for f in embedder.embedding_fp.glob('embeddings*.pkl')]\n",
    "    for e in embedding_files:\n",
    "        span_and_embedding_pairs += pickle.load(open(e, 'rb'))"
   ]
  },
  {
   "cell_type": "code",
   "execution_count": 41,
   "id": "b4e8b64b",
   "metadata": {},
   "outputs": [
    {
     "name": "stdout",
     "output_type": "stream",
     "text": [
      "Normalising and combining computed/existing 17 embeddings from files into single file\n"
     ]
    }
   ],
   "source": [
    "# Create a single file with all embeddings, in the meantime standardising the embeddings to improve the representation\n",
    "unique_spans, unique_embeddings = zip(*span_and_embedding_pairs)\n",
    "standardised_clustering_data_fp = embedder.embedding_fp.joinpath(\"standardised_embeddings.pkl\")\n",
    "\n",
    "if not standardised_clustering_data_fp.exists():\n",
    "    print(f\"Normalising and combining computed/existing {len(embedding_files)} embeddings from files into single file\")\n",
    "    with open(embedder.embedding_fp.joinpath(\"unique_spans.pkl\"), 'wb') as f:\n",
    "        pickle.dump(unique_spans, f)\n",
    "\n",
    "    with open(embedder.embedding_fp.joinpath(\"unique_embeddings.pkl\"), 'wb') as f:\n",
    "        # we average over the token embeddings in a term\n",
    "        unique_clustering_data = np.stack([np.mean(e, axis=0) if len(e.shape) > 1 else e for e in unique_embeddings])\n",
    "\n",
    "        # standardise the unique clustering data, as suggested by https://github.com/wtimkey/rogue-dimensions\n",
    "        embedder.emb_mean = unique_clustering_data.mean(axis=0)\n",
    "        embedder.emb_std = unique_clustering_data.std(axis=0)\n",
    "        pickle.dump(embedder.emb_mean, open(embedder.embedding_fp.joinpath(\"standardisation_mean.pkl\"), 'wb'))\n",
    "        pickle.dump(embedder.emb_std, open(embedder.embedding_fp.joinpath(\"standardisation_std.pkl\"), 'wb'))\n",
    "\n",
    "        standardised_clustering_data = (unique_clustering_data - embedder.emb_mean) / embedder.emb_std\n",
    "\n",
    "        pickle.dump(standardised_clustering_data, f)\n",
    "\n",
    "    # Store the standardised embeddings for reuse; could honeslty remove all the other embedding files but will keep them just in case\n",
    "    pickle.dump(standardised_clustering_data, open(standardised_clustering_data_fp, 'wb'))\n",
    "    spans_and_standardised_embeddings_dict = dict(zip(unique_spans, standardised_clustering_data))\n",
    "else:\n",
    "    standardised_clustering_data = pickle.load(open(standardised_clustering_data_fp, 'rb'))\n",
    "    spans_and_standardised_embeddings_dict = dict(zip(unique_spans, standardised_clustering_data))\n",
    "    print(f\"Loaded previously computed normalised embedding files.\")"
   ]
  },
  {
   "cell_type": "markdown",
   "id": "8409ece9",
   "metadata": {},
   "source": [
    "<div class=\"alert alert-block alert-info\">\n",
    "Fourth, we determine which terms may be domain-specific. We compare on (1) the number of nearest neighbours of a term that occur in the background corpus, (2) the frequency of terms in each corpus including a simplified version of KL divergence, and (3) a foreground/background TF-IDF for each span.\n",
    "</div>"
   ]
  },
  {
   "cell_type": "code",
   "execution_count": 42,
   "id": "3bfbbe80",
   "metadata": {},
   "outputs": [],
   "source": [
    "# 1 check the kNNs based on the standardised embeddings\n",
    "n_neighbors = 500 # the number of neighbours we compute for each term\n",
    "knn_graph = kneighbors_graph(standardised_clustering_data, \n",
    "                             n_neighbors,    \n",
    "                             metric=\"cosine\", \n",
    "                             n_jobs=8)"
   ]
  },
  {
   "cell_type": "code",
   "execution_count": 43,
   "id": "9701c2c5",
   "metadata": {},
   "outputs": [],
   "source": [
    "span_df_dict = {}\n",
    "for span_idx, span in enumerate(unique_spans):\n",
    "    number_of_background_corpus_neighbours = 0\n",
    "    for neighbour_idx in knn_graph[span_idx].indices:\n",
    "        if unique_spans[neighbour_idx] in cleaned_background_terms_c.keys():\n",
    "            number_of_background_corpus_neighbours += 1\n",
    "    \n",
    "    span_df_dict[span] = {'span_idx': span_idx, \n",
    "                          'num_background_neighbours': number_of_background_corpus_neighbours,\n",
    "                          'num_foreground_neighbours': n_neighbors - number_of_background_corpus_neighbours}"
   ]
  },
  {
   "cell_type": "code",
   "execution_count": 44,
   "id": "c58ead97",
   "metadata": {},
   "outputs": [],
   "source": [
    "# 2 Grab a KL divergence type of notion for each span\n",
    "total_foreground = sum(cleaned_foreground_terms_c.values())\n",
    "total_background = sum(cleaned_background_terms_c.values())\n",
    "    \n",
    "\n",
    "for span in unique_spans:\n",
    "    foreground_cnt = cleaned_foreground_terms_c[span]\n",
    "    background_cnt = cleaned_background_terms_c[span]\n",
    "    \n",
    "    span_df_dict[span]['foreground_cnt'] = foreground_cnt\n",
    "    span_df_dict[span]['background_cnt'] = background_cnt\n",
    "    if (foreground_cnt == 0 and background_cnt == 0):\n",
    "        print(span)\n",
    "#     TF_fore_back = foreground_cnt/(foreground_cnt+background_cnt)\n",
    "    TF_fore_back = np.log(1+ (foreground_cnt/(foreground_cnt+background_cnt)))\n",
    "    \n",
    "    tokens, indices = embedder.prepare_tokens(span)\n",
    "    idf_weights = embedder.get_IDF_weights_for_indices(tokens, indices)\n",
    "    TFIDF_fore_back = TF_fore_back * np.log(np.mean(idf_weights))\n",
    "    \n",
    "    span_df_dict[span]['TFIDF_fore_back'] = TFIDF_fore_back\n",
    "    \n",
    "    # DEPRECATED; simplified version of KL divergence based on Meyers et al. 2018, add + 1 above to avoid NAN and INF results\n",
    "    # The KLD feature has extreme outliers that occur VERY often in the foreground corpus, and a few times in the background corpus\n",
    "    # an  example is \"guidance\" (400+/17), which clearly is a general domain term. So the KLD doesn't necessarily provide the information we want\n",
    "#     KLD = (np.log(foreground_cnt + 1) - np.log(background_cnt + 1))* (foreground_cnt + 1)\n",
    "#     span_df_dict[span]['KLD'] = KLD\n",
    "    \n",
    "    "
   ]
  },
  {
   "cell_type": "code",
   "execution_count": 45,
   "id": "f39837e0",
   "metadata": {},
   "outputs": [
    {
     "data": {
      "text/plain": [
       "{'span_idx': 8848,\n",
       " 'num_background_neighbours': 233,\n",
       " 'num_foreground_neighbours': 267,\n",
       " 'foreground_cnt': 13,\n",
       " 'background_cnt': 0,\n",
       " 'TFIDF_fore_back': 0.8100886563679047}"
      ]
     },
     "execution_count": 45,
     "metadata": {},
     "output_type": "execute_result"
    }
   ],
   "source": [
    "# example of a clear AEC domain term\n",
    "span_df_dict['mortar']"
   ]
  },
  {
   "cell_type": "code",
   "execution_count": 46,
   "id": "fcfbc94c",
   "metadata": {},
   "outputs": [
    {
     "data": {
      "text/plain": [
       "{'span_idx': 2203,\n",
       " 'num_background_neighbours': 315,\n",
       " 'num_foreground_neighbours': 185,\n",
       " 'foreground_cnt': 0,\n",
       " 'background_cnt': 118,\n",
       " 'TFIDF_fore_back': 0.0}"
      ]
     },
     "execution_count": 46,
     "metadata": {},
     "output_type": "execute_result"
    }
   ],
   "source": [
    "# example of a clear medical domain term\n",
    "span_df_dict['patients']"
   ]
  },
  {
   "cell_type": "code",
   "execution_count": 47,
   "id": "d701ca89",
   "metadata": {},
   "outputs": [
    {
     "data": {
      "text/plain": [
       "{'span_idx': 8092,\n",
       " 'num_background_neighbours': 331,\n",
       " 'num_foreground_neighbours': 169,\n",
       " 'foreground_cnt': 2,\n",
       " 'background_cnt': 4,\n",
       " 'TFIDF_fore_back': 0.25761421149722813}"
      ]
     },
     "execution_count": 47,
     "metadata": {},
     "output_type": "execute_result"
    }
   ],
   "source": [
    "# example of a clear general domain term\n",
    "span_df_dict['test']"
   ]
  },
  {
   "cell_type": "code",
   "execution_count": 48,
   "id": "67ab9922",
   "metadata": {},
   "outputs": [
    {
     "data": {
      "text/plain": [
       "{'span_idx': 14274,\n",
       " 'num_background_neighbours': 44,\n",
       " 'num_foreground_neighbours': 456,\n",
       " 'foreground_cnt': 6,\n",
       " 'background_cnt': 0,\n",
       " 'TFIDF_fore_back': 0.9105500612603409}"
      ]
     },
     "execution_count": 48,
     "metadata": {},
     "output_type": "execute_result"
    }
   ],
   "source": [
    "# example of a long AEC domain term\n",
    "span_df_dict['hot water storage system']"
   ]
  },
  {
   "cell_type": "code",
   "execution_count": 49,
   "id": "1beb5f45",
   "metadata": {},
   "outputs": [
    {
     "data": {
      "text/html": [
       "<div>\n",
       "<style scoped>\n",
       "    .dataframe tbody tr th:only-of-type {\n",
       "        vertical-align: middle;\n",
       "    }\n",
       "\n",
       "    .dataframe tbody tr th {\n",
       "        vertical-align: top;\n",
       "    }\n",
       "\n",
       "    .dataframe thead th {\n",
       "        text-align: right;\n",
       "    }\n",
       "</style>\n",
       "<table border=\"1\" class=\"dataframe\">\n",
       "  <thead>\n",
       "    <tr style=\"text-align: right;\">\n",
       "      <th></th>\n",
       "      <th>span_idx</th>\n",
       "      <th>num_background_neighbours</th>\n",
       "      <th>num_foreground_neighbours</th>\n",
       "      <th>foreground_cnt</th>\n",
       "      <th>background_cnt</th>\n",
       "      <th>TFIDF_fore_back</th>\n",
       "    </tr>\n",
       "  </thead>\n",
       "  <tbody>\n",
       "    <tr>\n",
       "      <th>the safety devices</th>\n",
       "      <td>0</td>\n",
       "      <td>305</td>\n",
       "      <td>195</td>\n",
       "      <td>3</td>\n",
       "      <td>0</td>\n",
       "      <td>0.580085</td>\n",
       "    </tr>\n",
       "    <tr>\n",
       "      <th>the application</th>\n",
       "      <td>1</td>\n",
       "      <td>309</td>\n",
       "      <td>191</td>\n",
       "      <td>6</td>\n",
       "      <td>155</td>\n",
       "      <td>0.027328</td>\n",
       "    </tr>\n",
       "    <tr>\n",
       "      <th>the storage vessel</th>\n",
       "      <td>2</td>\n",
       "      <td>171</td>\n",
       "      <td>329</td>\n",
       "      <td>7</td>\n",
       "      <td>0</td>\n",
       "      <td>0.843945</td>\n",
       "    </tr>\n",
       "    <tr>\n",
       "      <th>the Gas Safety Installation Use</th>\n",
       "      <td>3</td>\n",
       "      <td>116</td>\n",
       "      <td>384</td>\n",
       "      <td>2</td>\n",
       "      <td>0</td>\n",
       "      <td>1.029256</td>\n",
       "    </tr>\n",
       "    <tr>\n",
       "      <th>Regulations 1994</th>\n",
       "      <td>4</td>\n",
       "      <td>300</td>\n",
       "      <td>200</td>\n",
       "      <td>2</td>\n",
       "      <td>0</td>\n",
       "      <td>0.842148</td>\n",
       "    </tr>\n",
       "    <tr>\n",
       "      <th>...</th>\n",
       "      <td>...</td>\n",
       "      <td>...</td>\n",
       "      <td>...</td>\n",
       "      <td>...</td>\n",
       "      <td>...</td>\n",
       "      <td>...</td>\n",
       "    </tr>\n",
       "    <tr>\n",
       "      <th>the imperatives</th>\n",
       "      <td>16425</td>\n",
       "      <td>321</td>\n",
       "      <td>179</td>\n",
       "      <td>0</td>\n",
       "      <td>2</td>\n",
       "      <td>0.000000</td>\n",
       "    </tr>\n",
       "    <tr>\n",
       "      <th>special conditions</th>\n",
       "      <td>16426</td>\n",
       "      <td>305</td>\n",
       "      <td>195</td>\n",
       "      <td>0</td>\n",
       "      <td>2</td>\n",
       "      <td>0.000000</td>\n",
       "    </tr>\n",
       "    <tr>\n",
       "      <th>transitional</th>\n",
       "      <td>16427</td>\n",
       "      <td>254</td>\n",
       "      <td>246</td>\n",
       "      <td>0</td>\n",
       "      <td>2</td>\n",
       "      <td>0.000000</td>\n",
       "    </tr>\n",
       "    <tr>\n",
       "      <th>the interested parties</th>\n",
       "      <td>16428</td>\n",
       "      <td>356</td>\n",
       "      <td>144</td>\n",
       "      <td>0</td>\n",
       "      <td>6</td>\n",
       "      <td>0.000000</td>\n",
       "    </tr>\n",
       "    <tr>\n",
       "      <th>Community measures</th>\n",
       "      <td>16429</td>\n",
       "      <td>378</td>\n",
       "      <td>122</td>\n",
       "      <td>0</td>\n",
       "      <td>5</td>\n",
       "      <td>0.000000</td>\n",
       "    </tr>\n",
       "  </tbody>\n",
       "</table>\n",
       "<p>16430 rows × 6 columns</p>\n",
       "</div>"
      ],
      "text/plain": [
       "                                 span_idx  num_background_neighbours  \\\n",
       "the safety devices                      0                        305   \n",
       "the application                         1                        309   \n",
       "the storage vessel                      2                        171   \n",
       "the Gas Safety Installation Use         3                        116   \n",
       "Regulations 1994                        4                        300   \n",
       "...                                   ...                        ...   \n",
       "the imperatives                     16425                        321   \n",
       "special conditions                  16426                        305   \n",
       "transitional                        16427                        254   \n",
       "the interested parties              16428                        356   \n",
       "Community measures                  16429                        378   \n",
       "\n",
       "                                 num_foreground_neighbours  foreground_cnt  \\\n",
       "the safety devices                                     195               3   \n",
       "the application                                        191               6   \n",
       "the storage vessel                                     329               7   \n",
       "the Gas Safety Installation Use                        384               2   \n",
       "Regulations 1994                                       200               2   \n",
       "...                                                    ...             ...   \n",
       "the imperatives                                        179               0   \n",
       "special conditions                                     195               0   \n",
       "transitional                                           246               0   \n",
       "the interested parties                                 144               0   \n",
       "Community measures                                     122               0   \n",
       "\n",
       "                                 background_cnt  TFIDF_fore_back  \n",
       "the safety devices                            0         0.580085  \n",
       "the application                             155         0.027328  \n",
       "the storage vessel                            0         0.843945  \n",
       "the Gas Safety Installation Use               0         1.029256  \n",
       "Regulations 1994                              0         0.842148  \n",
       "...                                         ...              ...  \n",
       "the imperatives                               2         0.000000  \n",
       "special conditions                            2         0.000000  \n",
       "transitional                                  2         0.000000  \n",
       "the interested parties                        6         0.000000  \n",
       "Community measures                            5         0.000000  \n",
       "\n",
       "[16430 rows x 6 columns]"
      ]
     },
     "execution_count": 49,
     "metadata": {},
     "output_type": "execute_result"
    }
   ],
   "source": [
    "span_features_df = pd.DataFrame.from_dict(span_df_dict, orient='index')\n",
    "span_features_df"
   ]
  },
  {
   "cell_type": "code",
   "execution_count": 50,
   "id": "0e3ddada",
   "metadata": {},
   "outputs": [
    {
     "name": "stdout",
     "output_type": "stream",
     "text": [
      "most FORE-groundy terms according to TF_fore_back:\n"
     ]
    },
    {
     "data": {
      "text/plain": [
       "Second Edition Safety of Sports Grounds Act 1975 ASFP Blue Book British Standard version Fire Regulatory Reform    1.314421\n",
       "photovoltaic array                                                                                                 1.309056\n",
       "HMPPSFireSafetyDesignGuide pdf                                                                                     1.304546\n",
       "Architectural Ironmongers                                                                                          1.301754\n",
       "Market Transformation Programme                                                                                    1.299072\n",
       "sleeping Nil Nil Nil Nil accommodation                                                                             1.296336\n",
       "ribabookshops com                                                                                                  1.294767\n",
       "Polyethylene                                                                                                       1.292763\n",
       "Education HM Prison Probation Service                                                                              1.290757\n",
       "ASFP Red Book Fire - Stopping : Linear Joint Seals                                                                 1.285543\n",
       "Name: TFIDF_fore_back, dtype: float64"
      ]
     },
     "execution_count": 50,
     "metadata": {},
     "output_type": "execute_result"
    }
   ],
   "source": [
    "print(\"most FORE-groundy terms according to TF_fore_back:\")\n",
    "span_features_df['TFIDF_fore_back'].nlargest(10)"
   ]
  },
  {
   "cell_type": "code",
   "execution_count": 51,
   "id": "47893d92",
   "metadata": {},
   "outputs": [
    {
     "name": "stdout",
     "output_type": "stream",
     "text": [
      "most BACK-groundy terms according to TF_fore_back:\n"
     ]
    },
    {
     "data": {
      "text/plain": [
       "Avis juridique                                     0.0\n",
       "Council Directive 93 / 42 / EEC of 14 June 1993    0.0\n",
       "medical devices                                    0.0\n",
       "COUNCIL DIRECTIVE 93 / 42 / EEC of 14 June 1993    0.0\n",
       "THE EUROPEAN COMMUNITIES                           0.0\n",
       "the Treaty                                         0.0\n",
       "the European Economic Community                    0.0\n",
       "Article 100a                                       0.0\n",
       "the proposal 1 )                                   0.0\n",
       "cooperation                                        0.0\n",
       "Name: TFIDF_fore_back, dtype: float64"
      ]
     },
     "execution_count": 51,
     "metadata": {},
     "output_type": "execute_result"
    }
   ],
   "source": [
    "print(\"most BACK-groundy terms according to TF_fore_back:\")\n",
    "span_features_df['TFIDF_fore_back'].nsmallest(10)"
   ]
  },
  {
   "cell_type": "code",
   "execution_count": 52,
   "id": "1acabd72",
   "metadata": {},
   "outputs": [
    {
     "data": {
      "image/png": "[encoded data removed]",
      "text/plain": [
       "<Figure size 432x288 with 1 Axes>"
      ]
     },
     "metadata": {
      "needs_background": "light"
     },
     "output_type": "display_data"
    }
   ],
   "source": [
    "sns.set_style (\"darkgrid\")\n",
    "sns.scatterplot(x=\"num_foreground_neighbours\",\n",
    "                y=\"TFIDF_fore_back\",\n",
    "                data=span_features_df)\n",
    "\n",
    "# we'll also save span_features_df for reuse elsewhere\n",
    "span_features_df.to_csv(embedding_output_fp.joinpath(\"span_features.csv\"))"
   ]
  },
  {
   "cell_type": "markdown",
   "id": "a0b38416",
   "metadata": {},
   "source": [
    "There seems to be some weak correlation between:\n",
    "1. the number of foreground neighbours (the rest of the neighbours occur in the background corpus as well)\n",
    "2. the TF-IDF inspired value for a span, a value of 0 indicating that the term only appears in the background corpus\n",
    "\n",
    "Our assumption is that at certain values this correlation indicates how 'domain-specific' a term is.\n",
    "We should do some more tests to validate this.\n",
    "For now, we'll assume that general background domain terms have:\n",
    "* a low TF-IDF value, e.g., smaller than 0.5\n",
    "* a relatively small number of foreground terms, e.g., cut-off at 200/500"
   ]
  },
  {
   "cell_type": "code",
   "execution_count": 53,
   "id": "a34e77c9",
   "metadata": {},
   "outputs": [],
   "source": [
    "min_TFIDF_value = 0.5\n",
    "min_num_foreground_neighbours = 200\n",
    "\n",
    "domain_terms = span_features_df[(span_features_df['TFIDF_fore_back'] >= min_TFIDF_value) & (span_features_df['num_foreground_neighbours'] >= min_num_foreground_neighbours)]\n",
    "ood_terms = span_features_df[(span_features_df['TFIDF_fore_back'] < min_TFIDF_value) | (span_features_df['num_foreground_neighbours'] < min_num_foreground_neighbours)]\n"
   ]
  },
  {
   "cell_type": "code",
   "execution_count": 54,
   "id": "98ac9022",
   "metadata": {},
   "outputs": [
    {
     "name": "stdout",
     "output_type": "stream",
     "text": [
      "Examples of our 10014 AEC domain terms\n"
     ]
    },
    {
     "data": {
      "text/plain": [
       "['iii )',\n",
       " 'flow',\n",
       " 'a ductwork system',\n",
       " 'Mini distance',\n",
       " 'wall common',\n",
       " 'the core materials',\n",
       " 'Appendix E',\n",
       " 'solids',\n",
       " 'permanent air vent openings',\n",
       " 'space']"
      ]
     },
     "execution_count": 54,
     "metadata": {},
     "output_type": "execute_result"
    }
   ],
   "source": [
    "print(f\"Examples of our {len(domain_terms)} AEC domain terms\")\n",
    "random.sample(domain_terms.index.tolist(), 10)"
   ]
  },
  {
   "cell_type": "code",
   "execution_count": 55,
   "id": "65828086",
   "metadata": {},
   "outputs": [
    {
     "name": "stdout",
     "output_type": "stream",
     "text": [
      "Examples of our 6416 general domain terms\n"
     ]
    },
    {
     "data": {
      "text/plain": [
       "['Article 109',\n",
       " 'Those personnel',\n",
       " 'points a ) c )',\n",
       " 'adverse incidents',\n",
       " 'compression',\n",
       " 'conformity assessment report',\n",
       " 'the appropriateness',\n",
       " 'The particulars',\n",
       " 'Product and',\n",
       " 'level of']"
      ]
     },
     "execution_count": 55,
     "metadata": {},
     "output_type": "execute_result"
    }
   ],
   "source": [
    "print(f\"Examples of our {len(ood_terms)} general domain terms\")\n",
    "random.sample(ood_terms.index.tolist(), 10)"
   ]
  },
  {
   "cell_type": "markdown",
   "id": "b93f80fc",
   "metadata": {},
   "source": []
  },
  {
   "cell_type": "markdown",
   "id": "9b65639c",
   "metadata": {},
   "source": [
    "### Grab acronyms from text (naive SPaR based approach)"
   ]
  },
  {
   "cell_type": "code",
   "execution_count": 56,
   "id": "b3b9245b",
   "metadata": {},
   "outputs": [
    {
     "name": "stderr",
     "output_type": "stream",
     "text": [
      "100%|██████████████████████████████████████████████████████████████████████████████████████████████████████████████████████████████████████████████████████████████| 10014/10014 [00:12<00:00, 803.10it/s]\n"
     ]
    }
   ],
   "source": [
    "# Grab the potential acronyms for spans\n",
    "span_acronym_dict = {}\n",
    "for span in tqdm(domain_terms.index.tolist()):\n",
    "    span_acronym_dict[span] = []\n",
    "    for content in foreground_corpus[0].all_contents:\n",
    "        if span in content.text:\n",
    "            # now we start looking for \n",
    "            text_splits = content.text.split(span)\n",
    "            for subsequent_text in text_splits[1:]:\n",
    "                potential_abbrev = re.match(r\"^\\s+\\([A-Z]+\\)\", subsequent_text)\n",
    "                if potential_abbrev:\n",
    "                    potential_abbrev = potential_abbrev.group(0).split('(', 1)[1][:-1]\n",
    "                    span_acronym_dict[span].append(potential_abbrev)\n",
    "\n",
    "    span_acronym_dict[span] = list(set(span_acronym_dict[span]))"
   ]
  },
  {
   "cell_type": "code",
   "execution_count": 57,
   "id": "86fb95da",
   "metadata": {},
   "outputs": [],
   "source": [
    "# turn around; {acronym: span}\n",
    "acronym_dict = {}\n",
    "for span, acronym_list in span_acronym_dict.items():\n",
    "    if acronym_list:\n",
    "        acronym_list = list(set(acronym_list))\n",
    "        for acronym in acronym_list:\n",
    "            if acronym not in acronym_dict:\n",
    "                acronym_dict[acronym] = [span]\n",
    "            else:\n",
    "                acronym_dict[acronym].append(span)\n",
    "        "
   ]
  },
  {
   "cell_type": "markdown",
   "id": "f567e12b",
   "metadata": {},
   "source": [
    "* As we can see below there are still many domain-specific patterns that SPaR.txt should be taught to recognise\n",
    "* Nevertheless, the acronyms can be useful to suggest acronym relations in the concept graph later on"
   ]
  },
  {
   "cell_type": "code",
   "execution_count": 58,
   "id": "e69ccc75",
   "metadata": {},
   "outputs": [
    {
     "data": {
      "text/plain": [
       "{'PAS': ['ecification', 'Specification'],\n",
       " 'CLG': ['package'],\n",
       " 'CHP': ['Power', 'power'],\n",
       " 'PE': ['Polyethylene', 'polyethylene'],\n",
       " 'HSE': ['Safety Executive',\n",
       "  'water systems',\n",
       "  'Health and Safety Executive',\n",
       "  'Regulations 2000'],\n",
       " 'PP': ['Polypropylene'],\n",
       " 'BCB': ['Control Body',\n",
       "  'Body',\n",
       "  'Building control body',\n",
       "  'building control body',\n",
       "  'the building control body',\n",
       "  'Building Control Body'],\n",
       " 'WC': ['sets', 'closets'],\n",
       " 'LRV': ['Light reflectance value', 'value'],\n",
       " 'TER': ['CO2 Emission Rate',\n",
       "  'the Target CO2 Emission Rate',\n",
       "  'Target CO2 Emission Rate'],\n",
       " 'BER': ['CO2 Emission Rate', 'Building CO2 Emission Rate'],\n",
       " 'DER': ['CO2 Emission Rate', 'the Dwelling CO2 Emission Rate'],\n",
       " 'TFEE': ['Target Fabric Energy Efficiency',\n",
       "  'Fixed building services',\n",
       "  'Energy Efficiency',\n",
       "  'services',\n",
       "  'building services'],\n",
       " 'DHF': ['the Door and Hardware Federation', 'Door and Hardware Federation'],\n",
       " 'REI': ['fire resistance', 'a fire resistance', 'stability', 'bility'],\n",
       " 'GSIUR': ['Regulations 1998'],\n",
       " 'E': ['integrity'],\n",
       " 'MVHR': ['locks', 'blocks', 'heat recovery'],\n",
       " 'PHE': ['horizontal evacuation', 'evacuation'],\n",
       " 'W': ['the final exit', 'final exit', 'exit'],\n",
       " 'DWELLINGS': ['RESIDENTIAL'],\n",
       " 'OTHER': ['RESIDENTIAL'],\n",
       " 'TSO': ['Office', 'The Stationery Office'],\n",
       " 'DN': ['pipe'],\n",
       " 'DECC': ['Climate Change'],\n",
       " 'NCM': ['the National Calculation Methodology'],\n",
       " 'ADCAS': ['Allied Services'],\n",
       " 'DFEE': ['Energy Efficiency'],\n",
       " 'EN': ['Standard'],\n",
       " 'FPA': ['the Fire Protection Association', 'Association'],\n",
       " 'TFA': ['the total floor area', 'floor area'],\n",
       " 'MEV': ['ventilation',\n",
       "  'extract ventilation',\n",
       "  'mechanical extract',\n",
       "  'extract'],\n",
       " 'LEV': ['ventilation'],\n",
       " 'PSV': ['ventilation', 'Passive stack ventilation'],\n",
       " 'DCLG': ['Local Government', 'England', 'land', 'ment'],\n",
       " 'UKAS': ['the United Kingdom Accreditation Service'],\n",
       " 'EA': ['Accreditation'],\n",
       " 'BSI': ['the British Standards Institution', 'Institution'],\n",
       " 'SPAB': ['Buildings', 'Ancient Buildings'],\n",
       " 'BGS': ['British Geological Survey'],\n",
       " 'NS': ['size'],\n",
       " 'NSB': ['size'],\n",
       " 'HBN': ['Notes'],\n",
       " 'O': ['volume'],\n",
       " 'VST': ['temperature', 'Vicat softening temperature'],\n",
       " 'SGV': ['Guide'],\n",
       " 'FSDG': ['Guide'],\n",
       " 'GGF': ['Glazing Federation'],\n",
       " 'TRADA': ['the Timber Research and Development Association', 'Association'],\n",
       " 'ACOP': ['Code of Practice'],\n",
       " 'ATTMA': ['Association'],\n",
       " 'CIRIA': ['Association'],\n",
       " 'DSMA': ['Association'],\n",
       " 'DSA': ['Association'],\n",
       " 'MCRMA': ['Association'],\n",
       " 'TEHVA': ['Association'],\n",
       " 'RVA': ['Association', 'the Residential Ventilation Association'],\n",
       " 'OFTEC': ['Association'],\n",
       " 'GAI': ['Architectural Ironmongers'],\n",
       " 'APEA': ['parks'],\n",
       " 'SCI': ['Guild Steel Construction Institute'],\n",
       " 'LPA': ['the local planning authority', 'planning authority'],\n",
       " 'FBE': ['the Built Environment', 'ment'],\n",
       " 'WER': ['Rating'],\n",
       " 'DSER': ['Rating'],\n",
       " 'BRE': ['ment', 'the Building Research Establishment'],\n",
       " 'CIWM': ['ment', 'Wastes Management'],\n",
       " 'GQRA': ['ment'],\n",
       " 'EOTA': ['ment'],\n",
       " 'PPS': ['ment'],\n",
       " 'SRHRV': ['ventilator',\n",
       "  'single room heat recovery ventilator',\n",
       "  'a single room heat recovery ventilator'],\n",
       " 'EST': ['the Energy Saving Trust'],\n",
       " 'CIBSE': ['Ventilation hygiene toolkit', 'Building Services Engineers'],\n",
       " 'HVAC': ['conditioning'],\n",
       " 'AGS': ['Geoenvironmental Specialists'],\n",
       " 'IP': ['Petroleum'],\n",
       " 'RH': ['humidity'],\n",
       " 'UF': ['urea formaldehyde'],\n",
       " 'ODPM': ['the Deputy Prime Minister'],\n",
       " 'WHO': ['Organisation'],\n",
       " 'AT': ['absorption area'],\n",
       " 'A': ['absorption area']}"
      ]
     },
     "execution_count": 58,
     "metadata": {},
     "output_type": "execute_result"
    }
   ],
   "source": [
    "acronym_dict"
   ]
  },
  {
   "cell_type": "code",
   "execution_count": null,
   "id": "04efb1cd",
   "metadata": {},
   "outputs": [],
   "source": []
  },
  {
   "cell_type": "code",
   "execution_count": null,
   "id": "8c9cacd4",
   "metadata": {},
   "outputs": [],
   "source": []
  }
 ],
 "metadata": {
  "kernelspec": {
   "display_name": "Python 3 (ipykernel)",
   "language": "python",
   "name": "python3"
  },
  "language_info": {
   "codemirror_mode": {
    "name": "ipython",
    "version": 3
   },
   "file_extension": ".py",
   "mimetype": "text/x-python",
   "name": "python",
   "nbconvert_exporter": "python",
   "pygments_lexer": "ipython3",
   "version": "3.9.7"
  }
 },
 "nbformat": 4,
 "nbformat_minor": 5
}
