{
 "cells": [
  {
   "cell_type": "markdown",
   "id": "95ac68d8",
   "metadata": {},
   "source": [
    "Run the code by either:\n",
    "1. selecting `Run all` from the `Cell` dropdown menu above\n",
    "2. run cell-by-cell, by pressing `Shift + Enter` on your keyboard\n",
    "  * note; `Alt + Enter` runs a cell and inserts an empty cell below"
   ]
  },
  {
   "cell_type": "code",
   "execution_count": 1,
   "id": "788a8bca",
   "metadata": {},
   "outputs": [],
   "source": [
    "from typing import Union, List, Any, Optional, Dict\n",
    "\n",
    "import os\n",
    "import re\n",
    "import time\n",
    "import json\n",
    "import glob\n",
    "import pickle\n",
    "import random\n",
    "import urllib\n",
    "import requests\n",
    "import subprocess\n",
    "import concurrent.futures\n",
    "\n",
    "import numpy as np\n",
    "import pandas as pd\n",
    "import seaborn as sns\n",
    "\n",
    "from bs4 import BeautifulSoup\n",
    "from tqdm import tqdm\n",
    "from pathlib import Path\n",
    "from textblob import TextBlob\n",
    "from threading import current_thread\n",
    "from matplotlib import pyplot as plt\n",
    "from collections import Counter\n",
    "from transformers import BertTokenizer, BertModel\n",
    "from gap_statistic import OptimalK\n",
    "from sklearn.cluster import KMeans #, AgglomerativeClustering\n",
    "from sklearn.neighbors import kneighbors_graph\n",
    "\n",
    "from utilities import cluster_utils\n",
    "from utilities import cleaning_utils\n",
    "from utilities import IDF_computation\n",
    "from utilities import embedding_utils as embedding\n",
    "from utilities.customdocument import CustomDocument\n",
    "from utilities.spar_utils import NER"
   ]
  },
  {
   "cell_type": "markdown",
   "id": "d081bf43",
   "metadata": {},
   "source": [
    "<div class=\"alert alert-block alert-info\"> \n",
    "We will run our term extraction on the Merged Approved Documents, the .pdf file can be found in the `data/` directory. For filtering of out-of-domain terms we will also process a set of EU regulations for medical device design, the .html files for these can be found in the same directory.\n",
    "</div>\n",
    "\n",
    "1. Preprocessing will consist only of removing headers/footers from PDF files. \n",
    "\n",
    "2. Candidate terms are identified using SPaR.txt (Kruiper et al., 2021), sentence splitting is done with the PunkSentTokenizer (Strunk, 2006).\n",
    "\n",
    "3. Filtering of term candidates consists of:\n",
    "  * a set of regular expressions found in utils.py\n",
    "  * clustering of terms found in (1) the Approved Documents, and (2) a set of EU regulations for medical device design; any clusters containing terms from (2) will be designated as terms that are irrelevant to the AEC domain.\n",
    "  \n",
    " \n"
   ]
  },
  {
   "cell_type": "markdown",
   "id": "996a98d0",
   "metadata": {},
   "source": [
    "### 1 Preprocessing: get text from PDF and HTML\n",
    "\n",
    "<div class=\"alert alert-block alert-info\">\n",
    "Here, we grab the text from our foreground and background corpora.\n",
    "</div>\n"
   ]
  },
  {
   "cell_type": "code",
   "execution_count": 2,
   "id": "0f74d6fb",
   "metadata": {},
   "outputs": [
    {
     "name": "stdout",
     "output_type": "stream",
     "text": [
      "Approved Documents: data/term_extraction_input/The Merged Approved Documents.pdf\n",
      "Reference corpus: ['data/term_extraction_input/EUR-Lex - 31993L0042 - EN.html', 'data/term_extraction_input/CELEX 32017R0746 EN TXT.html', 'data/term_extraction_input/CELEX 32017R0745 EN TXT.html', 'data/term_extraction_input/EUR-Lex - 31998L0079 - EN.html', 'data/term_extraction_input/EUR-Lex - 31990L0385 - EN.html']\n"
     ]
    }
   ],
   "source": [
    "input_path = Path(\"data/term_extraction_input/\")\n",
    "output_dir = Path(\"data/converted_documents/\")\n",
    "output_dir.mkdir(parents=True, exist_ok=True) # create the converted_documents directory if needed\n",
    "\n",
    "# NOTE: in our case the foreground corpus is the merged_approved_pdf_file, \n",
    "#       and the background corpus is a set of html files\n",
    "merged_approved_pdf_file = [x for x in input_path.glob(\"*.pdf\")][0]\n",
    "eu_html_files = [x for x in input_path.glob(\"*.html\")]\n",
    "\n",
    "print(f\"Approved Documents: {merged_approved_pdf_file}\")\n",
    "print(f\"Reference corpus: {[str(x) for x in eu_html_files]}\")"
   ]
  },
  {
   "cell_type": "markdown",
   "id": "cfff3737",
   "metadata": {},
   "source": [
    "### New heading"
   ]
  },
  {
   "cell_type": "code",
   "execution_count": 3,
   "id": "75175bc6",
   "metadata": {},
   "outputs": [
    {
     "data": {
      "text/plain": [
       "True"
      ]
     },
     "execution_count": 3,
     "metadata": {},
     "output_type": "execute_result"
    }
   ],
   "source": [
    "merged_approved_pdf_file.exists()"
   ]
  },
  {
   "cell_type": "markdown",
   "id": "271bdc02",
   "metadata": {},
   "source": [
    "<div class=\"alert alert-block alert-info\">\n",
    "First we grab the text from the Merged Approved Documents pdf file. Our implementation on based on the pdf conversion pipeline in Haystack.\n",
    "</div>"
   ]
  },
  {
   "cell_type": "code",
   "execution_count": 4,
   "id": "3e0d20e7",
   "metadata": {},
   "outputs": [],
   "source": [
    "def read_pdf(file_path: Path, layout: bool = True, encoding: Optional[str] = \"Latin1\") -> List[str]:\n",
    "        \"\"\"\n",
    "        Extract pages from the pdf file at file_path; based on Haystack.\n",
    "\n",
    "        :param file_path: path of the pdf file\n",
    "        :param layout: whether to retain the original physical layout for a page. If disabled, PDF pages are read in\n",
    "                       the content stream order.\n",
    "        \"\"\"\n",
    "        if layout:\n",
    "            command = [\"pdftotext\", \"-enc\", encoding, \"-layout\", str(file_path), \"-\"]\n",
    "        else:\n",
    "            command = [\"pdftotext\", \"-enc\", encoding, str(file_path), \"-\"]\n",
    "        output = subprocess.run(command, stdout=subprocess.PIPE, shell=False)  # type: ignore\n",
    "        document = output.stdout.decode(errors=\"ignore\")\n",
    "        pages = document.split(\"\\f\")\n",
    "        pages = pages[:-1]  # the last page in the split is always empty.\n",
    "        return pages\n",
    "\n",
    "def convert_pdf_to_mydoc(source_file_path: Path, \n",
    "                         output_file_path: Path, \n",
    "                         meta: Optional[Dict[str, str]] = None,\n",
    "                         remove_header_and_footer: Optional[bool] = True,\n",
    "                         clean_whitespace: Optional[bool] = True,\n",
    "                         clean_empty_lines: Optional[bool] = True,\n",
    "                         encoding: Optional[str] = \"Latin1\") -> CustomDocument:\n",
    "        \"\"\"\n",
    "        Extract pages from the pdf file at file_path; based on Haystack.\n",
    "\n",
    "        :param output_file_path:    Path to the .json file to store the converted file.\n",
    "        :param source_file_path:    Path to the .pdf file you want to convert\n",
    "        :param meta: Optional dictionary with metadata that shall be attached to all resulting documents.\n",
    "                     Can be any custom keys and values.\n",
    "        :param encoding: Encoding that will be passed as -enc parameter to pdftotext. \"Latin 1\" is the default encoding\n",
    "                         of pdftotext. While this works well on many PDFs, it might be needed to switch to \"UTF-8\" or\n",
    "                         others if your doc contains special characters (e.g. German Umlauts, Cyrillic characters ...).\n",
    "                         Note: With \"UTF-8\" we experienced cases, where a simple \"fi\" gets wrongly parsed as\n",
    "                         \"xef\\xac\\x81c\" (see test cases). That's why we keep \"Latin 1\" as default here.\n",
    "                         (See list of available encodings by running `pdftotext -listenc` in the terminal)\n",
    "        \"\"\"\n",
    "        pages = read_pdf(source_file_path, layout=True, encoding=encoding)\n",
    "\n",
    "        if not pages:\n",
    "            # empty input file\n",
    "            return None\n",
    "        \n",
    "        pages = [\"\\n\".join(p.splitlines()) for p in pages]\n",
    "\n",
    "        # splitting text happens during preprocessing, so no split_size passed here;\n",
    "        # split_size will be set to -1 during conversion.\n",
    "        document = CustomDocument(output_file_path, source_file_path, split_size=-1)\n",
    "        \n",
    "        print(\"Converted PDF file to pages of text, combining to a single CustomDocument to keep track of page nrs.\")\n",
    "        for page_idx, page in tqdm(enumerate(pages)):\n",
    "            \n",
    "            # some simple cleaning -- roughly based on haystack.\n",
    "            lines = page.splitlines()\n",
    "            if remove_header_and_footer:\n",
    "                # simplest way for removing header and footer \n",
    "                lines = lines[1:-2]\n",
    "\n",
    "            if clean_whitespace:\n",
    "                cleaned_lines = []\n",
    "                for line in lines:\n",
    "                    line = line.strip()\n",
    "                    cleaned_lines.append(line)\n",
    "                text = \" \".join(cleaned_lines)\n",
    "\n",
    "            if clean_empty_lines:\n",
    "                text = re.sub(r\"\\n\\n+\", \"\\n\\n\", text)\n",
    "                text = re.sub(r\"[\\s]+\", \" \", text)\n",
    "            \n",
    "            # no splitting here yet, so simply using page_nr as a place holder and split_id is left blank\n",
    "            page_nr = str(page_idx + 1)\n",
    "            document.add_content(text=text, \n",
    "                                 page_nr=page_nr, \n",
    "                                 doc_title=source_file_path.name)   # we're using the pdf file name for simplicity\n",
    "\n",
    "        return document"
   ]
  },
  {
   "cell_type": "code",
   "execution_count": 5,
   "id": "71184fcf",
   "metadata": {},
   "outputs": [
    {
     "name": "stdout",
     "output_type": "stream",
     "text": [
      "Converted PDF file to pages of text, combining to a single CustomDocument to keep track of page nrs.\n"
     ]
    },
    {
     "name": "stderr",
     "output_type": "stream",
     "text": [
      "1455it [00:00, 9588.71it/s]\n"
     ]
    }
   ],
   "source": [
    "output_path = output_dir.joinpath(\"merged_approved.json\")\n",
    "merged_approved_document = convert_pdf_to_mydoc(merged_approved_pdf_file, output_path)"
   ]
  },
  {
   "cell_type": "code",
   "execution_count": 6,
   "id": "1473ee8b",
   "metadata": {},
   "outputs": [
    {
     "name": "stdout",
     "output_type": "stream",
     "text": [
      "Maximum character length for a single block of text: 5349\n"
     ]
    }
   ],
   "source": [
    "print(f\"Maximum character length for a single block of text: {max([len(c.text) for c in merged_approved_document.all_contents])}\")"
   ]
  },
  {
   "cell_type": "markdown",
   "id": "84117041",
   "metadata": {},
   "source": [
    "<div class=\"alert alert-block alert-info\">\n",
    "Second, we grab the text from the EU regulation HTML files. Because the text in HTML files isn't split into pages, the blocks of text are much longer.\n",
    "</div>"
   ]
  },
  {
   "cell_type": "code",
   "execution_count": 7,
   "id": "c5bb53f9",
   "metadata": {},
   "outputs": [],
   "source": [
    "def grab_HTML_text_simple(file_path: Path):\n",
    "    \"\"\"\n",
    "    All text in the EU htmls seems to be captured neatly in <p> tags, we don't care about structure currently.\n",
    "    We do remove all unicode characters, see `utils.remove_unicode_chars()`.\n",
    "    \"\"\" \n",
    "    with open(file_path, 'r') as f:\n",
    "        text = f.read()\n",
    "    soup = BeautifulSoup(text, 'html.parser')\n",
    "    return [cleaning_utils.remove_unicode_chars(x.text) for x in soup.body.find_all('p')]"
   ]
  },
  {
   "cell_type": "code",
   "execution_count": 8,
   "id": "6630e6ba",
   "metadata": {},
   "outputs": [],
   "source": [
    "def convert_html_to_mydoc(source_file_path: Path, \n",
    "                          output_file_path: Path) -> CustomDocument:\n",
    "    \n",
    "    document = CustomDocument(output_file_path, source_file_path, split_size=-1)\n",
    "    document_paragraphs = []\n",
    "    list_of_paragraphs = grab_HTML_text_simple(source_file_path)\n",
    "    for paragraph in list_of_paragraphs:\n",
    "        if paragraph.strip() != '':\n",
    "            document_paragraphs.append(paragraph)\n",
    "    \n",
    "    for paragraph_idx, paragraph in tqdm(enumerate(document_paragraphs)):\n",
    "            # no splitting here yet, so simply using page_nr as a place holder and split_id is left blank\n",
    "            paragraph_nr = str(paragraph_idx + 1)\n",
    "            document.add_content(text=paragraph, \n",
    "                                 page_nr=paragraph_nr, \n",
    "                                 doc_title=source_file_path.name) # we're using the html file name for simplicity\n",
    "    return document"
   ]
  },
  {
   "cell_type": "code",
   "execution_count": 9,
   "id": "91b68b58",
   "metadata": {},
   "outputs": [
    {
     "name": "stderr",
     "output_type": "stream",
     "text": [
      "  0%|                                                     | 0/5 [00:00<?, ?it/s]\n",
      "826it [00:00, 240172.97it/s]\n",
      "\n",
      "4344it [00:00, 302041.62it/s]\n",
      " 40%|██████████████████                           | 2/5 [00:00<00:01,  2.69it/s]\n",
      "0it [00:00, ?it/s]\u001b[A\n",
      "4799it [00:00, 37249.76it/s]\u001b[A\n",
      " 60%|███████████████████████████                  | 3/5 [00:01<00:01,  1.75it/s]\n",
      "623it [00:00, 251714.81it/s]\n",
      "\n",
      "511it [00:00, 347147.61it/s]\n",
      "100%|█████████████████████████████████████████████| 5/5 [00:01<00:00,  3.02it/s]\n"
     ]
    }
   ],
   "source": [
    "eu_regulation_documents = []\n",
    "\n",
    "for html_file in tqdm(eu_html_files):\n",
    "    output_path = output_dir.joinpath(html_file.stem + \".json\")\n",
    "    eu_regulation_documents.append(convert_html_to_mydoc(html_file, output_path))\n"
   ]
  },
  {
   "cell_type": "code",
   "execution_count": 10,
   "id": "033634ca",
   "metadata": {},
   "outputs": [
    {
     "name": "stdout",
     "output_type": "stream",
     "text": [
      "Maximum character length for a single paragraph: 143428\n"
     ]
    }
   ],
   "source": [
    "print(f\"Maximum character length for a single paragraph: {max([len(c.text) for d in eu_regulation_documents for c in d.all_contents])}\")"
   ]
  },
  {
   "cell_type": "markdown",
   "id": "77347abc",
   "metadata": {},
   "source": [
    "<div class=\"alert alert-block alert-info\">\n",
    "Third, if the output document doesn't exist (yet), we save the ConvertedDocument.\n",
    "</div>"
   ]
  },
  {
   "cell_type": "code",
   "execution_count": 11,
   "id": "24237e3e",
   "metadata": {},
   "outputs": [],
   "source": [
    "foreground_corpus = [merged_approved_document]\n",
    "background_corpus = eu_regulation_documents"
   ]
  },
  {
   "cell_type": "code",
   "execution_count": 12,
   "id": "7a00ed81",
   "metadata": {},
   "outputs": [],
   "source": [
    "for d in foreground_corpus + background_corpus:\n",
    "    if not os.path.exists(d.output_fp):\n",
    "        d.write_document()"
   ]
  },
  {
   "cell_type": "markdown",
   "id": "20f6e56a",
   "metadata": {},
   "source": [
    "### 2 Term extraction: identify object spans with SPaR.txt\n",
    "\n",
    "<div class=\"alert alert-block alert-info\">\n",
    "For each of the sentences in our corpora, we run SPaR.txt for object identification.\n",
    "</div>\n",
    "\n",
    "\n",
    "Note; on a mac, you may have to install the Xcode commandline developer tools. Open a terminal window and run `xcode-select --install` or download Xcode through the App store.\n",
    "\n"
   ]
  },
  {
   "cell_type": "code",
   "execution_count": 13,
   "id": "edf22a14",
   "metadata": {},
   "outputs": [],
   "source": [
    "# download SPaR.txt if required\n",
    "from pathlib import Path\n",
    "spartxt_path = Path(\"SPaR.txt/\")\n",
    "if not spartxt_path.exists():\n",
    "    !git clone https://github.com/rubenkruiper/SPaR.txt.git"
   ]
  },
  {
   "cell_type": "code",
   "execution_count": 14,
   "id": "9daef1de",
   "metadata": {
    "scrolled": true
   },
   "outputs": [],
   "source": [
    "ner_api = \"http://localhost:8501/\"\n",
    "example = \"Thermoplastic materials in ceilings, rooflights and lighting diffusers provide a significant hazard in a fire.\""
   ]
  },
  {
   "cell_type": "code",
   "execution_count": 15,
   "id": "b19aa4ce",
   "metadata": {},
   "outputs": [
    {
     "name": "stdout",
     "output_type": "stream",
     "text": [
      "SPaR_API\n",
      "{'texts': ['Thermoplastic materials in ceilings, rooflights and lighting diffusers provide a significant hazard in a fire.'], 'sentences': [['Thermoplastic materials in ceilings, rooflights and lighting diffusers provide a significant hazard in a fire.']], 'predictions': [[{'obj': ['Thermoplastic materials', 'ceilings', 'rooflights', 'lighting diffusers', 'a hazard', 'a fire'], 'dis': ['in', ',', 'and', 'in', '.'], 'func': ['significant'], 'act': ['provide']}]]}\n"
     ]
    }
   ],
   "source": [
    "### Start our `SPaR_API` container if it exists\n",
    "!docker start SPaR_API\n",
    "container_exists = False\n",
    "try: \n",
    "    response = requests.post(ner_api + \"predict_objects/\",  json={\"texts\": example})\n",
    "    print(response.json())\n",
    "    container_exists = True\n",
    "except:\n",
    "    print(f\"Container exists: {container_exists}\")\n"
   ]
  },
  {
   "cell_type": "code",
   "execution_count": 16,
   "id": "bf916a8d",
   "metadata": {},
   "outputs": [],
   "source": [
    "if not container_exists:\n",
    "    print(\"Building image & preparing container, includes training SPaR.txt and takes some time (20 minutes on CPU)\")\n",
    "    !docker build --build-arg ONLY_CODE=$(date +%s) ./SPaR.txt/ -t spar\n",
    "    !docker run --name SPaR_API -p 8501:8501 spar "
   ]
  },
  {
   "cell_type": "code",
   "execution_count": 17,
   "id": "73156e45",
   "metadata": {},
   "outputs": [],
   "source": [
    "# we'll use the functionality provided in our utilities class to process customdocuments faster\n",
    "ner = NER(ner_api)"
   ]
  },
  {
   "cell_type": "code",
   "execution_count": 18,
   "id": "03d501a0",
   "metadata": {},
   "outputs": [
    {
     "data": {
      "text/plain": [
       "([['Thermoplastic materials in ceilings, rooflights and lighting diffusers provide a significant hazard in a fire.',\n",
       "   'A 2nd example, to show what the output looks like for a larger text.',\n",
       "   'And a 3rd sentence.']],\n",
       " [[{'obj': ['Thermoplastic materials',\n",
       "     'ceilings',\n",
       "     'rooflights',\n",
       "     'lighting diffusers',\n",
       "     'a hazard',\n",
       "     'a fire'],\n",
       "    'dis': ['in', ',', 'and', 'in', '.'],\n",
       "    'func': ['significant'],\n",
       "    'act': ['provide']},\n",
       "   {'obj': ['A 2nd example', 'the output', 'a larger text'],\n",
       "    'dis': [',', 'to', 'what', 'like', 'for', '.'],\n",
       "    'func': [],\n",
       "    'act': ['show', 'looks']},\n",
       "   {'obj': ['a 3rd sentence'], 'dis': ['And', '.'], 'func': [], 'act': []}]])"
      ]
     },
     "execution_count": 18,
     "metadata": {},
     "output_type": "execute_result"
    }
   ],
   "source": [
    "example = \"\"\"Thermoplastic materials in ceilings, rooflights and lighting diffusers provide a significant hazard in a fire.\n",
    "           A 2nd example, to show what the output looks like for a larger text. And a 3rd sentence.\n",
    "           \"\"\"\n",
    "ner.process_text(example)"
   ]
  },
  {
   "cell_type": "code",
   "execution_count": 19,
   "id": "2382eab8",
   "metadata": {},
   "outputs": [
    {
     "name": "stdout",
     "output_type": "stream",
     "text": [
      "[['Thermoplastic materials in ceilings, rooflights and lighting diffusers provide a significant hazard in a fire.', 'A 2nd example, to show what the output looks like for a larger text.'], ['More descriptions here please.']]\n"
     ]
    }
   ],
   "source": [
    "list_of_texts = [\"Thermoplastic materials in ceilings, rooflights and lighting diffusers provide a significant hazard in a fire. A 2nd example, to show what the output looks like for a larger text. \", \n",
    "        \"More descriptions here please.\"]\n",
    "sentences, predictions = ner.process_text(list_of_texts)\n",
    "print(sentences)"
   ]
  },
  {
   "cell_type": "code",
   "execution_count": 20,
   "id": "5b32756c",
   "metadata": {},
   "outputs": [
    {
     "name": "stdout",
     "output_type": "stream",
     "text": [
      "['Thermoplastic materials', 'ceilings', 'rooflights', 'lighting diffusers', 'a hazard', 'a fire']\n",
      "['A 2nd example', 'the output', 'a larger text']\n",
      "['descriptions']\n"
     ]
    },
    {
     "data": {
      "text/plain": [
       "[None, None, None]"
      ]
     },
     "execution_count": 20,
     "metadata": {},
     "output_type": "execute_result"
    }
   ],
   "source": [
    "[print(p['obj']) for pred_list in predictions for p in pred_list]"
   ]
  },
  {
   "cell_type": "code",
   "execution_count": 21,
   "id": "133a82bd",
   "metadata": {},
   "outputs": [],
   "source": [
    "# we'll be instantiating 4 SPaR.txt models, to increase processing speed\n",
    "requests.post(ner_api + \"set_number_of_predictors/\",  json={\"num_cpu_threads\": 4}).json()"
   ]
  },
  {
   "cell_type": "markdown",
   "id": "faaf4fe0",
   "metadata": {},
   "source": [
    "* Run SPaR.txt on all documents and write to file"
   ]
  },
  {
   "cell_type": "code",
   "execution_count": 22,
   "id": "4e884b1a",
   "metadata": {
    "scrolled": true
   },
   "outputs": [
    {
     "name": "stdout",
     "output_type": "stream",
     "text": [
      "Working on: data/term_extraction_input/The Merged Approved Documents.pdf\n"
     ]
    },
    {
     "name": "stderr",
     "output_type": "stream",
     "text": [
      "0it [00:00, ?it/s]\n"
     ]
    },
    {
     "name": "stdout",
     "output_type": "stream",
     "text": [
      "Number of sentences found: 20603\n",
      "Working on: data/term_extraction_input/EUR-Lex - 31993L0042 - EN.html\n"
     ]
    },
    {
     "name": "stderr",
     "output_type": "stream",
     "text": [
      "0it [00:00, ?it/s]"
     ]
    },
    {
     "name": "stdout",
     "output_type": "stream",
     "text": [
      "Number of sentences found: 1798\n"
     ]
    },
    {
     "name": "stderr",
     "output_type": "stream",
     "text": [
      "\n"
     ]
    },
    {
     "name": "stdout",
     "output_type": "stream",
     "text": [
      "Working on: data/term_extraction_input/CELEX 32017R0746 EN TXT.html\n"
     ]
    },
    {
     "name": "stderr",
     "output_type": "stream",
     "text": [
      "100%|███████████████████████████████████████████| 20/20 [00:03<00:00,  5.76it/s]\n"
     ]
    },
    {
     "name": "stdout",
     "output_type": "stream",
     "text": [
      "Number of sentences found: 4977\n",
      "Working on: data/term_extraction_input/CELEX 32017R0745 EN TXT.html\n"
     ]
    },
    {
     "name": "stderr",
     "output_type": "stream",
     "text": [
      "100%|███████████████████████████████████████████| 21/21 [00:03<00:00,  5.50it/s]\n"
     ]
    },
    {
     "name": "stdout",
     "output_type": "stream",
     "text": [
      "Number of sentences found: 5528\n",
      "Working on: data/term_extraction_input/EUR-Lex - 31998L0079 - EN.html\n"
     ]
    },
    {
     "name": "stderr",
     "output_type": "stream",
     "text": [
      "0it [00:00, ?it/s]\n"
     ]
    },
    {
     "name": "stdout",
     "output_type": "stream",
     "text": [
      "Number of sentences found: 1331\n",
      "Working on: data/term_extraction_input/EUR-Lex - 31990L0385 - EN.html\n"
     ]
    },
    {
     "name": "stderr",
     "output_type": "stream",
     "text": [
      "0it [00:00, ?it/s]\n"
     ]
    },
    {
     "name": "stdout",
     "output_type": "stream",
     "text": [
      "Number of sentences found: 912\n"
     ]
    }
   ],
   "source": [
    "for converted_document in foreground_corpus + background_corpus:\n",
    "    # re-load the document from file, to make sure we don't overwrite existing SPaR.txt labels\n",
    "    reloaded_file = CustomDocument.load_document(converted_document.output_fp)\n",
    "    ner.process_custom_document(reloaded_file)"
   ]
  },
  {
   "cell_type": "markdown",
   "id": "4835185f",
   "metadata": {},
   "source": [
    "<div class=\"alert alert-block alert-info\">\n",
    "Number of sentences (longer than 10 characters) found in: <ul>\n",
    "    <li>Merged Approved documents: 20598</li>\n",
    "    <li>Background corpus (1728+3422+3867+1300+789): 11106</li>\n",
    "    </ul>\n",
    "</div>"
   ]
  },
  {
   "cell_type": "markdown",
   "id": "c6b15878",
   "metadata": {},
   "source": [
    "### 3 Filtering\n",
    "<div class=\"alert alert-block alert-info\">\n",
    "The objects identified by SPaR.txt contain a lot of noise. Here, we clean and filter them; based on our background corpus we try to identify which terms belong to the AEC domain. \n",
    "</div>"
   ]
  },
  {
   "cell_type": "markdown",
   "id": "b511762d",
   "metadata": {},
   "source": [
    "<div class=\"alert alert-block alert-info\">\n",
    "First, load all terms from the processed files and apply some basic cleaning.\n",
    "</div>"
   ]
  },
  {
   "cell_type": "code",
   "execution_count": 23,
   "id": "80b48432",
   "metadata": {},
   "outputs": [],
   "source": [
    "regex_filter = cleaning_utils.RegexFilter()\n",
    "def run_filters(to_be_cleaned):\n",
    "    # some basic cleaning steps\n",
    "    _, regex_cleaned  = regex_filter.run_filter(to_be_cleaned) # _ would be the list of terms removed by our regex filters\n",
    "    basic_cleaned = cleaning_utils.custom_cleaning_rules(regex_cleaned)\n",
    "    determiners_removed = [cleaning_utils.remove_determiners(t) for t in basic_cleaned]\n",
    "    cleaned_terms = [t for t in determiners_removed if t]\n",
    "    cleaned_counter = Counter(cleaned_terms)\n",
    "    \n",
    "    # We only want terms to occur at least X times in a corpus, e.g., 3 times:\n",
    "    cleaned_terms = [t for t in cleaned_terms if cleaned_counter[t] >= 3]\n",
    "    cleaned_counter = Counter({t: c for t, c in cleaned_counter.items() if c >= 3})\n",
    "    return cleaned_terms, cleaned_counter"
   ]
  },
  {
   "cell_type": "code",
   "execution_count": 24,
   "id": "4fb5373f",
   "metadata": {},
   "outputs": [
    {
     "name": "stdout",
     "output_type": "stream",
     "text": [
      "Total number of extracted foreground terms: 132874\n",
      "Total unique extracted foreground terms: 43769\n",
      "Total number of cleaned foreground terms: 78978\n",
      "Total number of UNIQUE foreground terms: 5950\n"
     ]
    },
    {
     "data": {
      "text/plain": [
       "[('building', 1954),\n",
       " ('buildings', 1051),\n",
       " ('guidance', 856),\n",
       " ('Building Regulations', 726),\n",
       " ('requirements', 633),\n",
       " ('dwelling', 513),\n",
       " ('work', 493),\n",
       " ('dwellings', 458),\n",
       " ('building work', 356),\n",
       " ('NOTE', 354)]"
      ]
     },
     "execution_count": 24,
     "metadata": {},
     "output_type": "execute_result"
    }
   ],
   "source": [
    "foreground_terms_lists = [c.NER_labels for d in foreground_corpus for c in d.load_document(d.output_fp).all_contents]\n",
    "foreground_terms_raw = [t for t_list in foreground_terms_lists for t in t_list if t]\n",
    "print(f\"Total number of extracted foreground terms: {len(foreground_terms_raw)}\")\n",
    "print(f\"Total unique extracted foreground terms: {len(list(set(foreground_terms_raw)))}\")\n",
    "\n",
    "# cleaning of terms, including removal of determiners\n",
    "cleaned_foreground_terms, cleaned_foreground_terms_c = run_filters(foreground_terms_raw)\n",
    "print(f\"Total number of cleaned foreground terms: {len(cleaned_foreground_terms)}\")\n",
    "print(f\"Total number of UNIQUE foreground terms: {len(cleaned_foreground_terms_c)}\")\n",
    "cleaned_foreground_terms_c.most_common(10)"
   ]
  },
  {
   "cell_type": "code",
   "execution_count": 25,
   "id": "8006f6f0",
   "metadata": {},
   "outputs": [
    {
     "name": "stdout",
     "output_type": "stream",
     "text": [
      "Total number of extracted background terms: 72893\n",
      "Total unique extracted background terms: 10409\n",
      "Total number of cleaned background terms: 61312\n",
      "Total number of UNIQUE background terms: 2949\n"
     ]
    },
    {
     "data": {
      "text/plain": [
       "[('device', 1885),\n",
       " ('devices', 1696),\n",
       " ('manufacturer', 1587),\n",
       " ('notified body', 1199),\n",
       " ('information', 799),\n",
       " ('Member States', 686),\n",
       " ('Commission', 652),\n",
       " ('requirements', 604),\n",
       " ('Regulation', 596),\n",
       " ('conformity', 491)]"
      ]
     },
     "execution_count": 25,
     "metadata": {},
     "output_type": "execute_result"
    }
   ],
   "source": [
    "background_terms_lists = [c.NER_labels for d in background_corpus for c in d.load_document(d.output_fp).all_contents]\n",
    "background_terms_raw = [t for t_list in background_terms_lists for t in t_list if t]\n",
    "print(f\"Total number of extracted background terms: {len(background_terms_raw)}\")\n",
    "print(f\"Total unique extracted background terms: {len(list(set(background_terms_raw)))}\")\n",
    "\n",
    "# cleaning of terms, including removal of determiners\n",
    "cleaned_background_terms, cleaned_background_terms_c  = run_filters(background_terms_raw)\n",
    "\n",
    "print(f\"Total number of cleaned background terms: {len(cleaned_background_terms)}\")\n",
    "print(f\"Total number of UNIQUE background terms: {len(cleaned_background_terms_c)}\")\n",
    "cleaned_background_terms_c.most_common(10)"
   ]
  },
  {
   "cell_type": "code",
   "execution_count": 26,
   "id": "e79727a3",
   "metadata": {},
   "outputs": [
    {
     "name": "stdout",
     "output_type": "stream",
     "text": [
      "Total number of clean, unique term candidates identified by SPaR.txt:8287\n"
     ]
    }
   ],
   "source": [
    "print(f\"Total number of clean, unique term candidates identified by SPaR.txt:{len(cleaned_foreground_terms_c+cleaned_background_terms_c)}\")"
   ]
  },
  {
   "cell_type": "markdown",
   "id": "406d6ca8",
   "metadata": {},
   "source": [
    "<div class=\"alert alert-block alert-info\">\n",
    "Second, we compute the embeddings for both foreground and background terms.\n",
    "</div>\n",
    "\n",
    "\n",
    "* Note: **embeddings** will be IDF weighted (IDF weights over both foreground and background corpora)\n",
    "  * Could add more sentences to the computation of IDF weights, e.g., definitions from vocabularies/WikiData."
   ]
  },
  {
   "cell_type": "code",
   "execution_count": 27,
   "id": "0b177bf4",
   "metadata": {},
   "outputs": [],
   "source": [
    "# Which tokenizer to use for IDF computation and Embedding;\n",
    "bert_model_name = 'bert-base-cased'\n",
    "embedding_output_fp = Path.cwd().joinpath(\"data\", \"term_embedding\")\n",
    "embedding_output_fp.mkdir(parents=True, exist_ok=True) # create the term_embedding directory if needed"
   ]
  },
  {
   "cell_type": "code",
   "execution_count": 28,
   "id": "b68eef07",
   "metadata": {},
   "outputs": [],
   "source": [
    "# store the cleaned unique_background_spans\n",
    "with open(Path(embedding_output_fp.joinpath(\"unique_background_spans.pkl\")), 'wb') as f:\n",
    "    pickle.dump([span for span in cleaned_background_terms_c.keys()], f)"
   ]
  },
  {
   "cell_type": "code",
   "execution_count": 29,
   "id": "10278f75",
   "metadata": {},
   "outputs": [],
   "source": [
    "all_terms_c = cleaned_foreground_terms_c + cleaned_background_terms_c"
   ]
  },
  {
   "cell_type": "code",
   "execution_count": 30,
   "id": "8f403d14",
   "metadata": {},
   "outputs": [
    {
     "data": {
      "text/plain": [
       "8287"
      ]
     },
     "execution_count": 30,
     "metadata": {},
     "output_type": "execute_result"
    }
   ],
   "source": [
    "len(all_terms_c)"
   ]
  },
  {
   "cell_type": "code",
   "execution_count": 31,
   "id": "a1000a90",
   "metadata": {},
   "outputs": [
    {
     "data": {
      "text/plain": [
       "[('building', 1954),\n",
       " ('device', 1925),\n",
       " ('devices', 1716),\n",
       " ('manufacturer', 1677),\n",
       " ('requirements', 1237),\n",
       " ('notified body', 1202),\n",
       " ('buildings', 1051),\n",
       " ('information', 985),\n",
       " ('guidance', 873),\n",
       " ('Building Regulations', 726)]"
      ]
     },
     "execution_count": 31,
     "metadata": {},
     "output_type": "execute_result"
    }
   ],
   "source": [
    "all_terms_c.most_common(10)"
   ]
  },
  {
   "cell_type": "code",
   "execution_count": 32,
   "id": "ac5654c4",
   "metadata": {
    "scrolled": true
   },
   "outputs": [],
   "source": [
    "# identify which terms are MWEs\n",
    "mwes = []\n",
    "for t in cleaned_foreground_terms_c.keys():\n",
    "    words = t.split(' ')\n",
    "    if len(words) > 1:\n",
    "        mwes.append(t)"
   ]
  },
  {
   "cell_type": "code",
   "execution_count": 33,
   "id": "7fa5a153",
   "metadata": {},
   "outputs": [
    {
     "name": "stdout",
     "output_type": "stream",
     "text": [
      "Number of MWEs: 3390 (56.97%)\n"
     ]
    },
    {
     "data": {
      "text/plain": [
       "['approved document',\n",
       " 'initial notice',\n",
       " 'ground gases',\n",
       " 'Diagram 3 10',\n",
       " 'mg / m3',\n",
       " 'masonry chimneys',\n",
       " 'separating wall type 3 masonry',\n",
       " 'rtment walls',\n",
       " 'Free area',\n",
       " 'Chapter A']"
      ]
     },
     "execution_count": 33,
     "metadata": {},
     "output_type": "execute_result"
    }
   ],
   "source": [
    "# some insight in number of MWEs to be expected that these still contain a substantial amount of erroneous spans\n",
    "print(\"Number of MWEs: {} ({:.2f}%)\".format(len(mwes), (len(mwes)/len(cleaned_foreground_terms_c))*100))\n",
    "random.sample(mwes, 10)"
   ]
  },
  {
   "cell_type": "code",
   "execution_count": 34,
   "id": "1bfe6585",
   "metadata": {
    "scrolled": true
   },
   "outputs": [
    {
     "data": {
      "text/plain": [
       "[('Building Regulations', 726),\n",
       " ('building work', 356),\n",
       " ('approved document', 302),\n",
       " ('Schedule 1', 272),\n",
       " ('building control body', 189),\n",
       " ('Building Regulations 2010', 189),\n",
       " ('parking spaces', 177),\n",
       " ('Secretary of State', 147),\n",
       " ('fire resistance', 139),\n",
       " ('external wall', 115)]"
      ]
     },
     "execution_count": 34,
     "metadata": {},
     "output_type": "execute_result"
    }
   ],
   "source": [
    "# Most common MWEs (longer than 1 'word')\n",
    "mwe_c = Counter({k: v for k, v in cleaned_foreground_terms_c.items() if len(k.split(' ')) > 1})\n",
    "mwe_c.most_common(10)"
   ]
  },
  {
   "cell_type": "code",
   "execution_count": 35,
   "id": "d85f24d0",
   "metadata": {},
   "outputs": [
    {
     "data": {
      "text/plain": [
       "[('electric vehicle charge points', 95),\n",
       " ('mass per unit area', 52),\n",
       " ('electric vehicle charge point', 49),\n",
       " ('with UK National Annex', 46),\n",
       " ('on - site electricity generation', 43),\n",
       " ('mixed - use building', 34),\n",
       " ('building primary energy rate', 32),\n",
       " ('Volume 1 : Dwellings', 29),\n",
       " ('target primary energy rate', 28),\n",
       " ('high - efficiency alternative systems', 22)]"
      ]
     },
     "execution_count": 35,
     "metadata": {},
     "output_type": "execute_result"
    }
   ],
   "source": [
    "# Most common examples of MWEs (longer than 3 'words')\n",
    "mwe_c = Counter({k: v for k, v in cleaned_foreground_terms_c.items() if len(k.split(' ')) > 3})\n",
    "mwe_c.most_common(10)"
   ]
  },
  {
   "cell_type": "code",
   "execution_count": 36,
   "id": "d8d0d4ad",
   "metadata": {},
   "outputs": [],
   "source": [
    "# Compute IDF weights\n",
    "sentence_lists = [c.sentences for d in foreground_corpus + background_corpus for c in d.load_document(d.output_fp).all_contents]\n",
    "all_sentences = [s for sent_list in sentence_lists for s in sent_list if s]"
   ]
  },
  {
   "cell_type": "code",
   "execution_count": 37,
   "id": "7bf4a15f",
   "metadata": {},
   "outputs": [
    {
     "name": "stdout",
     "output_type": "stream",
     "text": [
      "31918\n"
     ]
    },
    {
     "data": {
      "text/plain": [
       "['The Merged Approved Documents',\n",
       " 'This document of the Approved Documents includes the 2021 editions of: Approved Document L Volume 1 Conservation of fuel and power Dwellings Approved Document L Volume 2 Conservation of fuel and power Buildings other than dwellings Approved Document F Volume 1 Ventilation Dwellings Approved Document F Volume 2 Ventilation Buildings other than dwellings',\n",
       " 'Approved Document O Overheatings, and Approved Document S Infrastructure for the charging of electric vehicles These Approved Documents took effect on 15 June 2022, for use in England.',\n",
       " 'Approved Document L Volume 1 and Volume 2 provides guidance on how to comply with Part L of Schedule 1 to the Building Regulations and in a number of specific building regulations regarding the energy efficiency requirements for dwellings and buildings other than dwellings.',\n",
       " 'Approved Document F Volume 1 and Volume 2 provides guidance on how to comply with Part F of Schedule 1 to the Building Regulations and in a number of specific building regulations regarding the ventilation requirements for dwellings and buildings other than dwellings.',\n",
       " 'Approved Document O provides guidance on how to comply with Part O of Schedule 1 to the Building Regulations and in a number of specific building regulations.',\n",
       " 'Approved Document O applies to new residential buildings.',\n",
       " 'Approved Document S provides guidance on how to comply with Part S of Schedule 1 of the Building Regulations, which mandates that the following properties should have a charge point: New dwellings with associated parking within the site boundary of the building New dwellings created through a material change of use, which have associated parking within the site boundary of the building.',\n",
       " 'Date Amendment July 2021 edition Incorporating 2020 editions of Approved Document B1 and Approved Document B2 June 2022 edition Incorporating 2021 edition of Approved Document L1, Approved Document L2, Approved',\n",
       " 'How to use the Merged Approved Documents This document combines the approved documents into a single PDF.']"
      ]
     },
     "execution_count": 37,
     "metadata": {},
     "output_type": "execute_result"
    }
   ],
   "source": [
    "print(len(all_sentences))\n",
    "all_sentences[:10]"
   ]
  },
  {
   "cell_type": "code",
   "execution_count": 38,
   "id": "c09c984e",
   "metadata": {},
   "outputs": [
    {
     "name": "stdout",
     "output_type": "stream",
     "text": [
      "Loading existing IDF weights.\n",
      "Printing some IDF values, should be subword units!\n",
      "['cluster']\n",
      "['##of']\n",
      "['deposits']\n",
      "['ultimate']\n",
      "['horizontal']\n",
      "['proximity']\n",
      "['estates']\n",
      "['exploration']\n",
      "['##most']\n",
      "['rendered']\n"
     ]
    }
   ],
   "source": [
    "IDF_path = embedding_output_fp.joinpath(\"IDF_weights.json\")\n",
    "IDF_c = IDF_computation.IdfComputer(IDF_path, bert_model_name=bert_model_name)\n",
    "IDF_path = IDF_c.compute_or_load_IDF_weights(all_sentences, overwrite=False)"
   ]
  },
  {
   "cell_type": "markdown",
   "id": "34c1e56d",
   "metadata": {},
   "source": [
    "#### Embed each of the terms identified by SPaR.txt\n",
    "* TF-IDF weighting and threshold"
   ]
  },
  {
   "cell_type": "code",
   "execution_count": 39,
   "id": "5b1959bd",
   "metadata": {},
   "outputs": [
    {
     "name": "stdout",
     "output_type": "stream",
     "text": [
      "Number of unique terms: 8287\n"
     ]
    },
    {
     "data": {
      "text/plain": [
       "['document',\n",
       " 'Approved Documents',\n",
       " 'editions',\n",
       " 'fuel',\n",
       " 'dwellings',\n",
       " 'electric vehicles',\n",
       " 'June 2022',\n",
       " 'England',\n",
       " 'Volume 2',\n",
       " 'guidance']"
      ]
     },
     "execution_count": 39,
     "metadata": {},
     "output_type": "execute_result"
    }
   ],
   "source": [
    "all_terms = [k for k in all_terms_c.keys()] # counter keys, so already unique\n",
    "print(f\"Number of unique terms: {len(all_terms)}\")\n",
    "all_terms[:10]"
   ]
  },
  {
   "cell_type": "code",
   "execution_count": 40,
   "id": "26f20d44",
   "metadata": {},
   "outputs": [
    {
     "name": "stderr",
     "output_type": "stream",
     "text": [
      "Some weights of the model checkpoint at bert-base-cased were not used when initializing BertModel: ['cls.seq_relationship.bias', 'cls.predictions.transform.LayerNorm.weight', 'cls.predictions.decoder.weight', 'cls.predictions.bias', 'cls.predictions.transform.LayerNorm.bias', 'cls.predictions.transform.dense.weight', 'cls.predictions.transform.dense.bias', 'cls.seq_relationship.weight']\n",
      "- This IS expected if you are initializing BertModel from the checkpoint of a model trained on another task or with another architecture (e.g. initializing a BertForSequenceClassification model from a BertForPreTraining model).\n",
      "- This IS NOT expected if you are initializing BertModel from the checkpoint of a model that you expect to be exactly identical (initializing a BertForSequenceClassification model from a BertForSequenceClassification model).\n"
     ]
    }
   ],
   "source": [
    "tokenizer = BertTokenizer.from_pretrained(bert_model_name)\n",
    "bert_model = BertModel.from_pretrained(bert_model_name, output_hidden_states=True)"
   ]
  },
  {
   "cell_type": "code",
   "execution_count": 41,
   "id": "a669a4a8",
   "metadata": {},
   "outputs": [],
   "source": [
    "embedder = embedding.Embedder(tokenizer, bert_model, \n",
    "                              IDF_dict=json.load(open(IDF_path)), \n",
    "                              embedding_fp=embedding_output_fp,\n",
    "                              layers_to_use = [12],         # we'll use the output of the last layer\n",
    "                              layer_combination = \"avg\",    # how to combine layers if multiple are used\n",
    "                              idf_threshold = 1.5,          # minimum IDF value for a token to contribute\n",
    "                              idf_weight_factor = 1.0,      # modify how strong the influence of IDF weighting is\n",
    "                              not_found_idf_value = 0.5)    # IDF value for tokens that weren't seen during IDF computation (doesn't apply here)"
   ]
  },
  {
   "cell_type": "code",
   "execution_count": 42,
   "id": "ce59ea93",
   "metadata": {},
   "outputs": [
    {
     "name": "stdout",
     "output_type": "stream",
     "text": [
      "Preparing embeddings for 8287 spans, in groups of: 1000\n"
     ]
    },
    {
     "name": "stderr",
     "output_type": "stream",
     "text": [
      "100%|█████████████████████████████████████████████| 9/9 [02:12<00:00, 14.67s/it]\n"
     ]
    }
   ],
   "source": [
    "# Compute the embeddings, this is split into subsets so we don't overload your memory (adjust these values if needed)\n",
    "max_num_cpu_threads = 4\n",
    "subset_size = 1000\n",
    "\n",
    "# Checks which of the embeddings for the clustering cluster_data already exist, so they can be re-used\n",
    "term_subsets = cleaning_utils.split_list(all_terms, subset_size)\n",
    "embedding_files = [f for f in embedder.embedding_fp.glob('embeddings*.pkl')]\n",
    "span_and_embedding_pairs = []\n",
    "if len(embedding_files) == len(term_subsets):\n",
    "    for e in embedding_files:\n",
    "        span_and_embedding_pairs += pickle.load(open(e, 'rb'))\n",
    "else:\n",
    "    print(f\"Preparing embeddings for {len(all_terms)} spans, in groups of: {subset_size}\")\n",
    "    subset_idx = 0            # iterator index outside of tqdm \n",
    "    for subset in tqdm(term_subsets):\n",
    "        subset_embeddings = []\n",
    "        subset_file_name = embedder.embedding_fp.joinpath(\"embeddings_part_{}.pkl\".format(subset_idx))\n",
    "        subset_idx += 1\n",
    "        if subset_file_name.exists():\n",
    "            # already computed previously\n",
    "            continue\n",
    "        \n",
    "        with concurrent.futures.ThreadPoolExecutor(max_workers=max_num_cpu_threads) as executor:\n",
    "            futures = [executor.submit(embedder.embed_a_span, subset[idx]) for idx in range(len(subset))]\n",
    "\n",
    "        subset_embeddings += [f.result() for f in futures if f.result()]\n",
    "\n",
    "        with open(subset_file_name, 'wb') as f:\n",
    "            pickle.dump(subset_embeddings, f)\n",
    "\n",
    "    # Once all embeddings are created; combine them in span_and_embedding_pairs\n",
    "    embedding_files = [f for f in embedder.embedding_fp.glob('embeddings*.pkl')]\n",
    "    for e in embedding_files:\n",
    "        span_and_embedding_pairs += pickle.load(open(e, 'rb'))"
   ]
  },
  {
   "cell_type": "code",
   "execution_count": 43,
   "id": "b4e8b64b",
   "metadata": {},
   "outputs": [
    {
     "name": "stdout",
     "output_type": "stream",
     "text": [
      "Normalising and combining computed/existing 9 embeddings from files into single file\n"
     ]
    }
   ],
   "source": [
    "# Create a single file with all embeddings, in the meantime standardising the embeddings to improve the representation\n",
    "unique_spans, unique_embeddings = zip(*span_and_embedding_pairs)\n",
    "standardised_clustering_data_fp = embedder.embedding_fp.joinpath(\"standardised_embeddings.pkl\")\n",
    "\n",
    "if not standardised_clustering_data_fp.exists():\n",
    "    print(f\"Normalising and combining computed/existing {len(embedding_files)} embeddings from files into single file\")\n",
    "    with open(embedder.embedding_fp.joinpath(\"unique_spans.pkl\"), 'wb') as f:\n",
    "        pickle.dump(unique_spans, f)\n",
    "\n",
    "    with open(embedder.embedding_fp.joinpath(\"unique_embeddings.pkl\"), 'wb') as f:\n",
    "        # we average over the token embeddings in a term\n",
    "        unique_clustering_data = np.stack([np.mean(e, axis=0) if len(e.shape) > 1 else e for e in unique_embeddings])\n",
    "\n",
    "        # standardise the unique clustering data, as suggested by https://github.com/wtimkey/rogue-dimensions\n",
    "        embedder.emb_mean = unique_clustering_data.mean(axis=0)\n",
    "        embedder.emb_std = unique_clustering_data.std(axis=0)\n",
    "        pickle.dump(embedder.emb_mean, open(embedder.embedding_fp.joinpath(\"standardisation_mean.pkl\"), 'wb'))\n",
    "        pickle.dump(embedder.emb_std, open(embedder.embedding_fp.joinpath(\"standardisation_std.pkl\"), 'wb'))\n",
    "\n",
    "        standardised_clustering_data = (unique_clustering_data - embedder.emb_mean) / embedder.emb_std\n",
    "\n",
    "        pickle.dump(standardised_clustering_data, f)\n",
    "\n",
    "    # Store the standardised embeddings for reuse; could honeslty remove all the other embedding files but will keep them just in case\n",
    "    pickle.dump(standardised_clustering_data, open(standardised_clustering_data_fp, 'wb'))\n",
    "    spans_and_standardised_embeddings_dict = dict(zip(unique_spans, standardised_clustering_data))\n",
    "else:\n",
    "    standardised_clustering_data = pickle.load(open(standardised_clustering_data_fp, 'rb'))\n",
    "    spans_and_standardised_embeddings_dict = dict(zip(unique_spans, standardised_clustering_data))\n",
    "    print(f\"Loaded previously computed normalised embedding files.\")"
   ]
  },
  {
   "cell_type": "markdown",
   "id": "8409ece9",
   "metadata": {},
   "source": [
    "<div class=\"alert alert-block alert-info\">\n",
    "Fourth, we determine which terms may be domain-specific. We compare on (1) the number of nearest neighbours of a term that occur in the background corpus, (2) the frequency of terms in each corpus including a simplified version of KL divergence, and (3) a foreground/background TF-IDF for each span.\n",
    "</div>"
   ]
  },
  {
   "cell_type": "code",
   "execution_count": 44,
   "id": "3bfbbe80",
   "metadata": {},
   "outputs": [],
   "source": [
    "# 1 check the kNNs based on the standardised embeddings\n",
    "n_neighbors = 500 # the number of neighbours we compute for each term\n",
    "knn_graph = kneighbors_graph(standardised_clustering_data, \n",
    "                             n_neighbors,    \n",
    "                             metric=\"cosine\", \n",
    "                             n_jobs=8)"
   ]
  },
  {
   "cell_type": "code",
   "execution_count": 45,
   "id": "9701c2c5",
   "metadata": {},
   "outputs": [],
   "source": [
    "span_df_dict = {}\n",
    "for span_idx, span in enumerate(unique_spans):\n",
    "    number_of_background_corpus_neighbours = 0\n",
    "    for neighbour_idx in knn_graph[span_idx].indices:\n",
    "        if unique_spans[neighbour_idx] in cleaned_background_terms_c.keys():\n",
    "            number_of_background_corpus_neighbours += 1\n",
    "    \n",
    "    span_df_dict[span] = {'span_idx': span_idx, \n",
    "                          'num_background_neighbours': number_of_background_corpus_neighbours,\n",
    "                          'num_foreground_neighbours': n_neighbors - number_of_background_corpus_neighbours}"
   ]
  },
  {
   "cell_type": "code",
   "execution_count": 46,
   "id": "c58ead97",
   "metadata": {},
   "outputs": [],
   "source": [
    "# 2 Grab a KL divergence type of notion for each span --> only modified TFIDF \n",
    "total_foreground = sum(cleaned_foreground_terms_c.values())\n",
    "total_background = sum(cleaned_background_terms_c.values())\n",
    "    \n",
    "\n",
    "for span in unique_spans:\n",
    "    foreground_cnt = cleaned_foreground_terms_c[span]\n",
    "    background_cnt = cleaned_background_terms_c[span]\n",
    "    \n",
    "    span_df_dict[span]['foreground_cnt'] = foreground_cnt\n",
    "    span_df_dict[span]['background_cnt'] = background_cnt\n",
    "    if (foreground_cnt == 0 and background_cnt == 0):\n",
    "        print(span)\n",
    "#     TF_fore_back = foreground_cnt/(foreground_cnt+background_cnt) Adding +1 above to avoid NAN and INF results\n",
    "    TF_fore_back = np.log(1+(foreground_cnt/(foreground_cnt+background_cnt)))\n",
    "    \n",
    "    tokens, indices = embedder.prepare_tokens(span)\n",
    "    idf_weights = embedder.get_IDF_weights_for_indices(tokens, indices)\n",
    "    TFIDF_fore_back = TF_fore_back * np.log(np.mean(idf_weights))\n",
    "    \n",
    "    span_df_dict[span]['TFIDF_fore_back'] = TFIDF_fore_back\n",
    "    \n",
    "    # DEPRECATED; simplified version of KL divergence based on Meyers et al. 2018. \n",
    "    # The KLD feature has extreme outliers that occur VERY often in the foreground corpus, and a few times in the background corpus\n",
    "    # an  example is \"guidance\" (400+/17), which clearly is a general domain term. So the KLD doesn't necessarily provide the information we want\n",
    "#     KLD = (np.log(foreground_cnt + 1) - np.log(background_cnt + 1))* (foreground_cnt + 1)\n",
    "#     span_df_dict[span]['KLD'] = KLD\n",
    "    \n",
    "    "
   ]
  },
  {
   "cell_type": "code",
   "execution_count": 47,
   "id": "f39837e0",
   "metadata": {},
   "outputs": [
    {
     "data": {
      "text/plain": [
       "{'span_idx': 4060,\n",
       " 'num_background_neighbours': 214,\n",
       " 'num_foreground_neighbours': 286,\n",
       " 'foreground_cnt': 24,\n",
       " 'background_cnt': 0,\n",
       " 'TFIDF_fore_back': 0.8064534127161667}"
      ]
     },
     "execution_count": 47,
     "metadata": {},
     "output_type": "execute_result"
    }
   ],
   "source": [
    "# example of a clear AEC domain term\n",
    "span_df_dict['mortar']"
   ]
  },
  {
   "cell_type": "code",
   "execution_count": 48,
   "id": "fcfbc94c",
   "metadata": {},
   "outputs": [
    {
     "data": {
      "text/plain": [
       "{'span_idx': 6256,\n",
       " 'num_background_neighbours': 292,\n",
       " 'num_foreground_neighbours': 208,\n",
       " 'foreground_cnt': 0,\n",
       " 'background_cnt': 132,\n",
       " 'TFIDF_fore_back': 0.0}"
      ]
     },
     "execution_count": 48,
     "metadata": {},
     "output_type": "execute_result"
    }
   ],
   "source": [
    "# example of a clear medical domain term\n",
    "span_df_dict['patients']"
   ]
  },
  {
   "cell_type": "code",
   "execution_count": 49,
   "id": "d701ca89",
   "metadata": {},
   "outputs": [
    {
     "data": {
      "text/plain": [
       "{'span_idx': 3615,\n",
       " 'num_background_neighbours': 318,\n",
       " 'num_foreground_neighbours': 182,\n",
       " 'foreground_cnt': 57,\n",
       " 'background_cnt': 9,\n",
       " 'TFIDF_fore_back': 0.5627674953615226}"
      ]
     },
     "execution_count": 49,
     "metadata": {},
     "output_type": "execute_result"
    }
   ],
   "source": [
    "# example of a clear general domain term\n",
    "span_df_dict['test']"
   ]
  },
  {
   "cell_type": "code",
   "execution_count": 50,
   "id": "67ab9922",
   "metadata": {},
   "outputs": [
    {
     "data": {
      "text/plain": [
       "{'span_idx': 4554,\n",
       " 'num_background_neighbours': 77,\n",
       " 'num_foreground_neighbours': 423,\n",
       " 'foreground_cnt': 10,\n",
       " 'background_cnt': 0,\n",
       " 'TFIDF_fore_back': 0.8983407716830061}"
      ]
     },
     "execution_count": 50,
     "metadata": {},
     "output_type": "execute_result"
    }
   ],
   "source": [
    "# example of a long AEC domain term\n",
    "span_df_dict['hot water storage system']"
   ]
  },
  {
   "cell_type": "code",
   "execution_count": 51,
   "id": "1beb5f45",
   "metadata": {},
   "outputs": [
    {
     "data": {
      "text/html": [
       "<div>\n",
       "<style scoped>\n",
       "    .dataframe tbody tr th:only-of-type {\n",
       "        vertical-align: middle;\n",
       "    }\n",
       "\n",
       "    .dataframe tbody tr th {\n",
       "        vertical-align: top;\n",
       "    }\n",
       "\n",
       "    .dataframe thead th {\n",
       "        text-align: right;\n",
       "    }\n",
       "</style>\n",
       "<table border=\"1\" class=\"dataframe\">\n",
       "  <thead>\n",
       "    <tr style=\"text-align: right;\">\n",
       "      <th></th>\n",
       "      <th>span_idx</th>\n",
       "      <th>num_background_neighbours</th>\n",
       "      <th>num_foreground_neighbours</th>\n",
       "      <th>foreground_cnt</th>\n",
       "      <th>background_cnt</th>\n",
       "      <th>TFIDF_fore_back</th>\n",
       "    </tr>\n",
       "  </thead>\n",
       "  <tbody>\n",
       "    <tr>\n",
       "      <th>divergence</th>\n",
       "      <td>0</td>\n",
       "      <td>179</td>\n",
       "      <td>321</td>\n",
       "      <td>0</td>\n",
       "      <td>3</td>\n",
       "      <td>0.0</td>\n",
       "    </tr>\n",
       "    <tr>\n",
       "      <th>device reviewers</th>\n",
       "      <td>1</td>\n",
       "      <td>311</td>\n",
       "      <td>189</td>\n",
       "      <td>0</td>\n",
       "      <td>4</td>\n",
       "      <td>0.0</td>\n",
       "    </tr>\n",
       "    <tr>\n",
       "      <th>clinical application</th>\n",
       "      <td>2</td>\n",
       "      <td>378</td>\n",
       "      <td>122</td>\n",
       "      <td>0</td>\n",
       "      <td>4</td>\n",
       "      <td>0.0</td>\n",
       "    </tr>\n",
       "    <tr>\n",
       "      <th>EU technical documentation assessment certificate</th>\n",
       "      <td>3</td>\n",
       "      <td>286</td>\n",
       "      <td>214</td>\n",
       "      <td>0</td>\n",
       "      <td>26</td>\n",
       "      <td>0.0</td>\n",
       "    </tr>\n",
       "    <tr>\n",
       "      <th>initial consultation</th>\n",
       "      <td>4</td>\n",
       "      <td>263</td>\n",
       "      <td>237</td>\n",
       "      <td>0</td>\n",
       "      <td>4</td>\n",
       "      <td>0.0</td>\n",
       "    </tr>\n",
       "    <tr>\n",
       "      <th>...</th>\n",
       "      <td>...</td>\n",
       "      <td>...</td>\n",
       "      <td>...</td>\n",
       "      <td>...</td>\n",
       "      <td>...</td>\n",
       "      <td>...</td>\n",
       "    </tr>\n",
       "    <tr>\n",
       "      <th>Regulation EC ) No 45 / 2001</th>\n",
       "      <td>8282</td>\n",
       "      <td>171</td>\n",
       "      <td>329</td>\n",
       "      <td>0</td>\n",
       "      <td>4</td>\n",
       "      <td>0.0</td>\n",
       "    </tr>\n",
       "    <tr>\n",
       "      <th>controller</th>\n",
       "      <td>8283</td>\n",
       "      <td>234</td>\n",
       "      <td>266</td>\n",
       "      <td>0</td>\n",
       "      <td>3</td>\n",
       "      <td>0.0</td>\n",
       "    </tr>\n",
       "    <tr>\n",
       "      <th>class C devices</th>\n",
       "      <td>8284</td>\n",
       "      <td>177</td>\n",
       "      <td>323</td>\n",
       "      <td>0</td>\n",
       "      <td>13</td>\n",
       "      <td>0.0</td>\n",
       "    </tr>\n",
       "    <tr>\n",
       "      <th>level of health</th>\n",
       "      <td>8285</td>\n",
       "      <td>295</td>\n",
       "      <td>205</td>\n",
       "      <td>0</td>\n",
       "      <td>4</td>\n",
       "      <td>0.0</td>\n",
       "    </tr>\n",
       "    <tr>\n",
       "      <th>Designation</th>\n",
       "      <td>8286</td>\n",
       "      <td>261</td>\n",
       "      <td>239</td>\n",
       "      <td>0</td>\n",
       "      <td>4</td>\n",
       "      <td>0.0</td>\n",
       "    </tr>\n",
       "  </tbody>\n",
       "</table>\n",
       "<p>8287 rows × 6 columns</p>\n",
       "</div>"
      ],
      "text/plain": [
       "                                                   span_idx  \\\n",
       "divergence                                                0   \n",
       "device reviewers                                          1   \n",
       "clinical application                                      2   \n",
       "EU technical documentation assessment certificate         3   \n",
       "initial consultation                                      4   \n",
       "...                                                     ...   \n",
       "Regulation EC ) No 45 / 2001                           8282   \n",
       "controller                                             8283   \n",
       "class C devices                                        8284   \n",
       "level of health                                        8285   \n",
       "Designation                                            8286   \n",
       "\n",
       "                                                   num_background_neighbours  \\\n",
       "divergence                                                               179   \n",
       "device reviewers                                                         311   \n",
       "clinical application                                                     378   \n",
       "EU technical documentation assessment certificate                        286   \n",
       "initial consultation                                                     263   \n",
       "...                                                                      ...   \n",
       "Regulation EC ) No 45 / 2001                                             171   \n",
       "controller                                                               234   \n",
       "class C devices                                                          177   \n",
       "level of health                                                          295   \n",
       "Designation                                                              261   \n",
       "\n",
       "                                                   num_foreground_neighbours  \\\n",
       "divergence                                                               321   \n",
       "device reviewers                                                         189   \n",
       "clinical application                                                     122   \n",
       "EU technical documentation assessment certificate                        214   \n",
       "initial consultation                                                     237   \n",
       "...                                                                      ...   \n",
       "Regulation EC ) No 45 / 2001                                             329   \n",
       "controller                                                               266   \n",
       "class C devices                                                          323   \n",
       "level of health                                                          205   \n",
       "Designation                                                              239   \n",
       "\n",
       "                                                   foreground_cnt  \\\n",
       "divergence                                                      0   \n",
       "device reviewers                                                0   \n",
       "clinical application                                            0   \n",
       "EU technical documentation assessment certificate               0   \n",
       "initial consultation                                            0   \n",
       "...                                                           ...   \n",
       "Regulation EC ) No 45 / 2001                                    0   \n",
       "controller                                                      0   \n",
       "class C devices                                                 0   \n",
       "level of health                                                 0   \n",
       "Designation                                                     0   \n",
       "\n",
       "                                                   background_cnt  \\\n",
       "divergence                                                      3   \n",
       "device reviewers                                                4   \n",
       "clinical application                                            4   \n",
       "EU technical documentation assessment certificate              26   \n",
       "initial consultation                                            4   \n",
       "...                                                           ...   \n",
       "Regulation EC ) No 45 / 2001                                    4   \n",
       "controller                                                      3   \n",
       "class C devices                                                13   \n",
       "level of health                                                 4   \n",
       "Designation                                                     4   \n",
       "\n",
       "                                                   TFIDF_fore_back  \n",
       "divergence                                                     0.0  \n",
       "device reviewers                                               0.0  \n",
       "clinical application                                           0.0  \n",
       "EU technical documentation assessment certificate              0.0  \n",
       "initial consultation                                           0.0  \n",
       "...                                                            ...  \n",
       "Regulation EC ) No 45 / 2001                                   0.0  \n",
       "controller                                                     0.0  \n",
       "class C devices                                                0.0  \n",
       "level of health                                                0.0  \n",
       "Designation                                                    0.0  \n",
       "\n",
       "[8287 rows x 6 columns]"
      ]
     },
     "execution_count": 51,
     "metadata": {},
     "output_type": "execute_result"
    }
   ],
   "source": [
    "span_features_df = pd.DataFrame.from_dict(span_df_dict, orient='index')\n",
    "span_features_df"
   ]
  },
  {
   "cell_type": "code",
   "execution_count": 52,
   "id": "0e3ddada",
   "metadata": {},
   "outputs": [
    {
     "name": "stdout",
     "output_type": "stream",
     "text": [
      "most FORE-groundy terms according to TF_fore_back:\n"
     ]
    },
    {
     "data": {
      "text/plain": [
       "Architectural Ironmongers                                        1.310824\n",
       "Volatile Organic Compounds                                       1.300064\n",
       "expanded polystyrene beads                                       1.274529\n",
       "Deputy Prime Minister                                            1.270567\n",
       "urea formaldehyde                                                1.253544\n",
       "photovoltaic panels                                              1.245708\n",
       "Table C1Continued Proposed works Target construction Comments    1.241300\n",
       "Orography Factor O                                               1.240135\n",
       "Burning Solid Mineral Fuels                                      1.236294\n",
       "United Kingdom Accreditation Service                             1.235163\n",
       "Name: TFIDF_fore_back, dtype: float64"
      ]
     },
     "execution_count": 52,
     "metadata": {},
     "output_type": "execute_result"
    }
   ],
   "source": [
    "print(\"most FORE-groundy terms according to TF_fore_back:\")\n",
    "span_features_df['TFIDF_fore_back'].nlargest(10)"
   ]
  },
  {
   "cell_type": "code",
   "execution_count": 53,
   "id": "47893d92",
   "metadata": {},
   "outputs": [
    {
     "name": "stdout",
     "output_type": "stream",
     "text": [
      "most BACK-groundy terms according to TF_fore_back:\n"
     ]
    },
    {
     "data": {
      "text/plain": [
       "unlimited                                           -0.126376\n",
       "lets                                                -0.126376\n",
       "divergence                                           0.000000\n",
       "device reviewers                                     0.000000\n",
       "clinical application                                 0.000000\n",
       "EU technical documentation assessment certificate    0.000000\n",
       "initial consultation                                 0.000000\n",
       "condition of                                         0.000000\n",
       "design - related requirements                        0.000000\n",
       "medicinal products authority consulted               0.000000\n",
       "Name: TFIDF_fore_back, dtype: float64"
      ]
     },
     "execution_count": 53,
     "metadata": {},
     "output_type": "execute_result"
    }
   ],
   "source": [
    "print(\"most BACK-groundy terms according to TF_fore_back:\")\n",
    "span_features_df['TFIDF_fore_back'].nsmallest(10)"
   ]
  },
  {
   "cell_type": "code",
   "execution_count": 54,
   "id": "d54164a1",
   "metadata": {},
   "outputs": [],
   "source": [
    "from matplotlib.patches import Rectangle"
   ]
  },
  {
   "cell_type": "code",
   "execution_count": 55,
   "id": "a06f579f",
   "metadata": {},
   "outputs": [
    {
     "data": {
      "text/plain": [
       "Text(0, 0.5, 'Foreground/Background TFIDF')"
      ]
     },
     "execution_count": 55,
     "metadata": {},
     "output_type": "execute_result"
    },
    {
     "data": {
      "image/png": "[encoded data removed]",
      "text/plain": [
       "<Figure size 640x480 with 1 Axes>"
      ]
     },
     "metadata": {},
     "output_type": "display_data"
    }
   ],
   "source": [
    "sns.set_style (\"darkgrid\")\n",
    "axes = sns.scatterplot(x=\"num_foreground_neighbours\",\n",
    "                       y=\"TFIDF_fore_back\",\n",
    "                       data=span_features_df)\n",
    "\n",
    "axes.set_xlabel(\"Nr. of neighbours that occur only in the foreground corpus\")\n",
    "axes.set_ylabel(\"Foreground/Background TFIDF\")"
   ]
  },
  {
   "cell_type": "markdown",
   "id": "a0b38416",
   "metadata": {},
   "source": [
    "This plot shows:\n",
    "1. the number of foreground neighbours (the rest of the neighbours occur in the background corpus as well)\n",
    "2. the TF-IDF inspired value for a span, a value of 0 indicating that the term only appears in the background corpus\n",
    "\n",
    "Our assumption is that at certain combinations of these two values, a term is more likely to be 'domain-specific'. This allows for a crude division into domain vs out-of-domain/general domain terms. For now, we'll assume that general background domain terms have:\n",
    "* a low TF-IDF value, e.g., smaller than 0.6\n",
    "* at least half of the NNs being foreground terms, e.g., cut-off at 250/500"
   ]
  },
  {
   "cell_type": "code",
   "execution_count": 56,
   "id": "a34e77c9",
   "metadata": {},
   "outputs": [],
   "source": [
    "min_TFIDF_value = 0.6\n",
    "min_num_foreground_neighbours = 200"
   ]
  },
  {
   "cell_type": "code",
   "execution_count": 57,
   "id": "4bb923fc",
   "metadata": {},
   "outputs": [
    {
     "data": {
      "text/html": [
       "<div>\n",
       "<style scoped>\n",
       "    .dataframe tbody tr th:only-of-type {\n",
       "        vertical-align: middle;\n",
       "    }\n",
       "\n",
       "    .dataframe tbody tr th {\n",
       "        vertical-align: top;\n",
       "    }\n",
       "\n",
       "    .dataframe thead th {\n",
       "        text-align: right;\n",
       "    }\n",
       "</style>\n",
       "<table border=\"1\" class=\"dataframe\">\n",
       "  <thead>\n",
       "    <tr style=\"text-align: right;\">\n",
       "      <th></th>\n",
       "      <th>span_idx</th>\n",
       "      <th>num_background_neighbours</th>\n",
       "      <th>num_foreground_neighbours</th>\n",
       "      <th>foreground_cnt</th>\n",
       "      <th>background_cnt</th>\n",
       "      <th>TFIDF_fore_back</th>\n",
       "    </tr>\n",
       "  </thead>\n",
       "  <tbody>\n",
       "    <tr>\n",
       "      <th>test standards</th>\n",
       "      <td>691</td>\n",
       "      <td>354</td>\n",
       "      <td>146</td>\n",
       "      <td>4</td>\n",
       "      <td>0</td>\n",
       "      <td>0.782034</td>\n",
       "    </tr>\n",
       "    <tr>\n",
       "      <th>integrity when</th>\n",
       "      <td>872</td>\n",
       "      <td>351</td>\n",
       "      <td>149</td>\n",
       "      <td>4</td>\n",
       "      <td>0</td>\n",
       "      <td>0.859025</td>\n",
       "    </tr>\n",
       "    <tr>\n",
       "      <th>management procedures</th>\n",
       "      <td>1101</td>\n",
       "      <td>341</td>\n",
       "      <td>159</td>\n",
       "      <td>3</td>\n",
       "      <td>0</td>\n",
       "      <td>0.792067</td>\n",
       "    </tr>\n",
       "    <tr>\n",
       "      <th>integrity performance</th>\n",
       "      <td>2953</td>\n",
       "      <td>358</td>\n",
       "      <td>142</td>\n",
       "      <td>3</td>\n",
       "      <td>0</td>\n",
       "      <td>0.828132</td>\n",
       "    </tr>\n",
       "    <tr>\n",
       "      <th>certification body</th>\n",
       "      <td>3552</td>\n",
       "      <td>354</td>\n",
       "      <td>146</td>\n",
       "      <td>3</td>\n",
       "      <td>0</td>\n",
       "      <td>0.802906</td>\n",
       "    </tr>\n",
       "    <tr>\n",
       "      <th>documented assessment</th>\n",
       "      <td>5689</td>\n",
       "      <td>386</td>\n",
       "      <td>114</td>\n",
       "      <td>3</td>\n",
       "      <td>0</td>\n",
       "      <td>0.809756</td>\n",
       "    </tr>\n",
       "  </tbody>\n",
       "</table>\n",
       "</div>"
      ],
      "text/plain": [
       "                       span_idx  num_background_neighbours  \\\n",
       "test standards              691                        354   \n",
       "integrity when              872                        351   \n",
       "management procedures      1101                        341   \n",
       "integrity performance      2953                        358   \n",
       "certification body         3552                        354   \n",
       "documented assessment      5689                        386   \n",
       "\n",
       "                       num_foreground_neighbours  foreground_cnt  \\\n",
       "test standards                               146               4   \n",
       "integrity when                               149               4   \n",
       "management procedures                        159               3   \n",
       "integrity performance                        142               3   \n",
       "certification body                           146               3   \n",
       "documented assessment                        114               3   \n",
       "\n",
       "                       background_cnt  TFIDF_fore_back  \n",
       "test standards                      0         0.782034  \n",
       "integrity when                      0         0.859025  \n",
       "management procedures               0         0.792067  \n",
       "integrity performance               0         0.828132  \n",
       "certification body                  0         0.802906  \n",
       "documented assessment               0         0.809756  "
      ]
     },
     "execution_count": 57,
     "metadata": {},
     "output_type": "execute_result"
    }
   ],
   "source": [
    "# Example terms VERY TOP LEFT of the plot (expectinggeneral domain)\n",
    "top = span_features_df['TFIDF_fore_back'] > 1.3 * min_TFIDF_value\n",
    "left = span_features_df['num_foreground_neighbours'] < 160\n",
    "span_features_df.loc[top & left]"
   ]
  },
  {
   "cell_type": "code",
   "execution_count": 58,
   "id": "b2f5262b",
   "metadata": {},
   "outputs": [
    {
     "data": {
      "text/html": [
       "<div>\n",
       "<style scoped>\n",
       "    .dataframe tbody tr th:only-of-type {\n",
       "        vertical-align: middle;\n",
       "    }\n",
       "\n",
       "    .dataframe tbody tr th {\n",
       "        vertical-align: top;\n",
       "    }\n",
       "\n",
       "    .dataframe thead th {\n",
       "        text-align: right;\n",
       "    }\n",
       "</style>\n",
       "<table border=\"1\" class=\"dataframe\">\n",
       "  <thead>\n",
       "    <tr style=\"text-align: right;\">\n",
       "      <th></th>\n",
       "      <th>span_idx</th>\n",
       "      <th>num_background_neighbours</th>\n",
       "      <th>num_foreground_neighbours</th>\n",
       "      <th>foreground_cnt</th>\n",
       "      <th>background_cnt</th>\n",
       "      <th>TFIDF_fore_back</th>\n",
       "    </tr>\n",
       "  </thead>\n",
       "  <tbody>\n",
       "    <tr>\n",
       "      <th>fire main inlet connection point</th>\n",
       "      <td>499</td>\n",
       "      <td>19</td>\n",
       "      <td>481</td>\n",
       "      <td>4</td>\n",
       "      <td>0</td>\n",
       "      <td>1.054288</td>\n",
       "    </tr>\n",
       "    <tr>\n",
       "      <th>Rooflight</th>\n",
       "      <td>656</td>\n",
       "      <td>9</td>\n",
       "      <td>491</td>\n",
       "      <td>4</td>\n",
       "      <td>0</td>\n",
       "      <td>0.995921</td>\n",
       "    </tr>\n",
       "    <tr>\n",
       "      <th>depth timber blocking</th>\n",
       "      <td>1853</td>\n",
       "      <td>14</td>\n",
       "      <td>486</td>\n",
       "      <td>3</td>\n",
       "      <td>0</td>\n",
       "      <td>1.107963</td>\n",
       "    </tr>\n",
       "    <tr>\n",
       "      <th>solid masonry core</th>\n",
       "      <td>1855</td>\n",
       "      <td>17</td>\n",
       "      <td>483</td>\n",
       "      <td>5</td>\n",
       "      <td>0</td>\n",
       "      <td>0.993631</td>\n",
       "    </tr>\n",
       "    <tr>\n",
       "      <th>Rolling shutters</th>\n",
       "      <td>2398</td>\n",
       "      <td>17</td>\n",
       "      <td>483</td>\n",
       "      <td>8</td>\n",
       "      <td>0</td>\n",
       "      <td>1.139773</td>\n",
       "    </tr>\n",
       "    <tr>\n",
       "      <th>plastic rooflights</th>\n",
       "      <td>3040</td>\n",
       "      <td>18</td>\n",
       "      <td>482</td>\n",
       "      <td>11</td>\n",
       "      <td>0</td>\n",
       "      <td>0.993525</td>\n",
       "    </tr>\n",
       "    <tr>\n",
       "      <th>Plastic rooflights</th>\n",
       "      <td>3043</td>\n",
       "      <td>18</td>\n",
       "      <td>482</td>\n",
       "      <td>4</td>\n",
       "      <td>0</td>\n",
       "      <td>0.999231</td>\n",
       "    </tr>\n",
       "    <tr>\n",
       "      <th>fire - protecting suspended ceilings</th>\n",
       "      <td>3056</td>\n",
       "      <td>14</td>\n",
       "      <td>486</td>\n",
       "      <td>4</td>\n",
       "      <td>0</td>\n",
       "      <td>1.048071</td>\n",
       "    </tr>\n",
       "    <tr>\n",
       "      <th>rafters</th>\n",
       "      <td>3121</td>\n",
       "      <td>12</td>\n",
       "      <td>488</td>\n",
       "      <td>12</td>\n",
       "      <td>0</td>\n",
       "      <td>1.040589</td>\n",
       "    </tr>\n",
       "    <tr>\n",
       "      <th>timber tiling</th>\n",
       "      <td>3140</td>\n",
       "      <td>15</td>\n",
       "      <td>485</td>\n",
       "      <td>5</td>\n",
       "      <td>0</td>\n",
       "      <td>1.009156</td>\n",
       "    </tr>\n",
       "    <tr>\n",
       "      <th>glazed screens</th>\n",
       "      <td>3239</td>\n",
       "      <td>15</td>\n",
       "      <td>485</td>\n",
       "      <td>10</td>\n",
       "      <td>0</td>\n",
       "      <td>1.006365</td>\n",
       "    </tr>\n",
       "    <tr>\n",
       "      <th>natural stone cladding</th>\n",
       "      <td>4266</td>\n",
       "      <td>7</td>\n",
       "      <td>493</td>\n",
       "      <td>5</td>\n",
       "      <td>0</td>\n",
       "      <td>1.104269</td>\n",
       "    </tr>\n",
       "    <tr>\n",
       "      <th>Open vented copper cylinders</th>\n",
       "      <td>4673</td>\n",
       "      <td>15</td>\n",
       "      <td>485</td>\n",
       "      <td>3</td>\n",
       "      <td>0</td>\n",
       "      <td>1.144012</td>\n",
       "    </tr>\n",
       "    <tr>\n",
       "      <th>exposed perimeter floor area</th>\n",
       "      <td>5549</td>\n",
       "      <td>14</td>\n",
       "      <td>486</td>\n",
       "      <td>4</td>\n",
       "      <td>0</td>\n",
       "      <td>1.000420</td>\n",
       "    </tr>\n",
       "    <tr>\n",
       "      <th>principal communal entrance</th>\n",
       "      <td>5942</td>\n",
       "      <td>16</td>\n",
       "      <td>484</td>\n",
       "      <td>4</td>\n",
       "      <td>0</td>\n",
       "      <td>1.021394</td>\n",
       "    </tr>\n",
       "  </tbody>\n",
       "</table>\n",
       "</div>"
      ],
      "text/plain": [
       "                                      span_idx  num_background_neighbours  \\\n",
       "fire main inlet connection point           499                         19   \n",
       "Rooflight                                  656                          9   \n",
       "depth timber blocking                     1853                         14   \n",
       "solid masonry core                        1855                         17   \n",
       "Rolling shutters                          2398                         17   \n",
       "plastic rooflights                        3040                         18   \n",
       "Plastic rooflights                        3043                         18   \n",
       "fire - protecting suspended ceilings      3056                         14   \n",
       "rafters                                   3121                         12   \n",
       "timber tiling                             3140                         15   \n",
       "glazed screens                            3239                         15   \n",
       "natural stone cladding                    4266                          7   \n",
       "Open vented copper cylinders              4673                         15   \n",
       "exposed perimeter floor area              5549                         14   \n",
       "principal communal entrance               5942                         16   \n",
       "\n",
       "                                      num_foreground_neighbours  \\\n",
       "fire main inlet connection point                            481   \n",
       "Rooflight                                                   491   \n",
       "depth timber blocking                                       486   \n",
       "solid masonry core                                          483   \n",
       "Rolling shutters                                            483   \n",
       "plastic rooflights                                          482   \n",
       "Plastic rooflights                                          482   \n",
       "fire - protecting suspended ceilings                        486   \n",
       "rafters                                                     488   \n",
       "timber tiling                                               485   \n",
       "glazed screens                                              485   \n",
       "natural stone cladding                                      493   \n",
       "Open vented copper cylinders                                485   \n",
       "exposed perimeter floor area                                486   \n",
       "principal communal entrance                                 484   \n",
       "\n",
       "                                      foreground_cnt  background_cnt  \\\n",
       "fire main inlet connection point                   4               0   \n",
       "Rooflight                                          4               0   \n",
       "depth timber blocking                              3               0   \n",
       "solid masonry core                                 5               0   \n",
       "Rolling shutters                                   8               0   \n",
       "plastic rooflights                                11               0   \n",
       "Plastic rooflights                                 4               0   \n",
       "fire - protecting suspended ceilings               4               0   \n",
       "rafters                                           12               0   \n",
       "timber tiling                                      5               0   \n",
       "glazed screens                                    10               0   \n",
       "natural stone cladding                             5               0   \n",
       "Open vented copper cylinders                       3               0   \n",
       "exposed perimeter floor area                       4               0   \n",
       "principal communal entrance                        4               0   \n",
       "\n",
       "                                      TFIDF_fore_back  \n",
       "fire main inlet connection point             1.054288  \n",
       "Rooflight                                    0.995921  \n",
       "depth timber blocking                        1.107963  \n",
       "solid masonry core                           0.993631  \n",
       "Rolling shutters                             1.139773  \n",
       "plastic rooflights                           0.993525  \n",
       "Plastic rooflights                           0.999231  \n",
       "fire - protecting suspended ceilings         1.048071  \n",
       "rafters                                      1.040589  \n",
       "timber tiling                                1.009156  \n",
       "glazed screens                               1.006365  \n",
       "natural stone cladding                       1.104269  \n",
       "Open vented copper cylinders                 1.144012  \n",
       "exposed perimeter floor area                 1.000420  \n",
       "principal communal entrance                  1.021394  "
      ]
     },
     "execution_count": 58,
     "metadata": {},
     "output_type": "execute_result"
    }
   ],
   "source": [
    "# Example terms very TOP RIGHT of the plot (expecting very foreground domainy)\n",
    "top = span_features_df['TFIDF_fore_back'] > 1.65 * min_TFIDF_value\n",
    "right = span_features_df['num_foreground_neighbours'] > 480\n",
    "span_features_df.loc[top & right]"
   ]
  },
  {
   "cell_type": "code",
   "execution_count": 59,
   "id": "817b3fd4",
   "metadata": {},
   "outputs": [
    {
     "data": {
      "text/html": [
       "<div>\n",
       "<style scoped>\n",
       "    .dataframe tbody tr th:only-of-type {\n",
       "        vertical-align: middle;\n",
       "    }\n",
       "\n",
       "    .dataframe tbody tr th {\n",
       "        vertical-align: top;\n",
       "    }\n",
       "\n",
       "    .dataframe thead th {\n",
       "        text-align: right;\n",
       "    }\n",
       "</style>\n",
       "<table border=\"1\" class=\"dataframe\">\n",
       "  <thead>\n",
       "    <tr style=\"text-align: right;\">\n",
       "      <th></th>\n",
       "      <th>span_idx</th>\n",
       "      <th>num_background_neighbours</th>\n",
       "      <th>num_foreground_neighbours</th>\n",
       "      <th>foreground_cnt</th>\n",
       "      <th>background_cnt</th>\n",
       "      <th>TFIDF_fore_back</th>\n",
       "    </tr>\n",
       "  </thead>\n",
       "  <tbody>\n",
       "    <tr>\n",
       "      <th>clinical application</th>\n",
       "      <td>2</td>\n",
       "      <td>378</td>\n",
       "      <td>122</td>\n",
       "      <td>0</td>\n",
       "      <td>4</td>\n",
       "      <td>0.0</td>\n",
       "    </tr>\n",
       "    <tr>\n",
       "      <th>clinical evaluation</th>\n",
       "      <td>54</td>\n",
       "      <td>381</td>\n",
       "      <td>119</td>\n",
       "      <td>0</td>\n",
       "      <td>73</td>\n",
       "      <td>0.0</td>\n",
       "    </tr>\n",
       "    <tr>\n",
       "      <th>clinical investigations</th>\n",
       "      <td>7354</td>\n",
       "      <td>394</td>\n",
       "      <td>106</td>\n",
       "      <td>0</td>\n",
       "      <td>139</td>\n",
       "      <td>0.0</td>\n",
       "    </tr>\n",
       "    <tr>\n",
       "      <th>clinical investigation</th>\n",
       "      <td>7387</td>\n",
       "      <td>405</td>\n",
       "      <td>95</td>\n",
       "      <td>0</td>\n",
       "      <td>220</td>\n",
       "      <td>0.0</td>\n",
       "    </tr>\n",
       "    <tr>\n",
       "      <th>clinical data</th>\n",
       "      <td>7786</td>\n",
       "      <td>388</td>\n",
       "      <td>112</td>\n",
       "      <td>0</td>\n",
       "      <td>61</td>\n",
       "      <td>0.0</td>\n",
       "    </tr>\n",
       "    <tr>\n",
       "      <th>clinical evidence</th>\n",
       "      <td>8166</td>\n",
       "      <td>393</td>\n",
       "      <td>107</td>\n",
       "      <td>0</td>\n",
       "      <td>59</td>\n",
       "      <td>0.0</td>\n",
       "    </tr>\n",
       "  </tbody>\n",
       "</table>\n",
       "</div>"
      ],
      "text/plain": [
       "                         span_idx  num_background_neighbours  \\\n",
       "clinical application            2                        378   \n",
       "clinical evaluation            54                        381   \n",
       "clinical investigations      7354                        394   \n",
       "clinical investigation       7387                        405   \n",
       "clinical data                7786                        388   \n",
       "clinical evidence            8166                        393   \n",
       "\n",
       "                         num_foreground_neighbours  foreground_cnt  \\\n",
       "clinical application                           122               0   \n",
       "clinical evaluation                            119               0   \n",
       "clinical investigations                        106               0   \n",
       "clinical investigation                          95               0   \n",
       "clinical data                                  112               0   \n",
       "clinical evidence                              107               0   \n",
       "\n",
       "                         background_cnt  TFIDF_fore_back  \n",
       "clinical application                  4              0.0  \n",
       "clinical evaluation                  73              0.0  \n",
       "clinical investigations             139              0.0  \n",
       "clinical investigation              220              0.0  \n",
       "clinical data                        61              0.0  \n",
       "clinical evidence                    59              0.0  "
      ]
     },
     "execution_count": 59,
     "metadata": {},
     "output_type": "execute_result"
    }
   ],
   "source": [
    "# Example terms very BOTTOM LEFT of the plot (expecting very background domainy)\n",
    "bottom = span_features_df['TFIDF_fore_back'] < .1 * min_TFIDF_value\n",
    "left = span_features_df['num_foreground_neighbours'] < 125\n",
    "span_features_df.loc[bottom & left]"
   ]
  },
  {
   "cell_type": "code",
   "execution_count": 60,
   "id": "196d8f8f",
   "metadata": {},
   "outputs": [
    {
     "data": {
      "text/html": [
       "<div>\n",
       "<style scoped>\n",
       "    .dataframe tbody tr th:only-of-type {\n",
       "        vertical-align: middle;\n",
       "    }\n",
       "\n",
       "    .dataframe tbody tr th {\n",
       "        vertical-align: top;\n",
       "    }\n",
       "\n",
       "    .dataframe thead th {\n",
       "        text-align: right;\n",
       "    }\n",
       "</style>\n",
       "<table border=\"1\" class=\"dataframe\">\n",
       "  <thead>\n",
       "    <tr style=\"text-align: right;\">\n",
       "      <th></th>\n",
       "      <th>span_idx</th>\n",
       "      <th>num_background_neighbours</th>\n",
       "      <th>num_foreground_neighbours</th>\n",
       "      <th>foreground_cnt</th>\n",
       "      <th>background_cnt</th>\n",
       "      <th>TFIDF_fore_back</th>\n",
       "    </tr>\n",
       "  </thead>\n",
       "  <tbody>\n",
       "    <tr>\n",
       "      <th>tooth crowns</th>\n",
       "      <td>104</td>\n",
       "      <td>86</td>\n",
       "      <td>414</td>\n",
       "      <td>0</td>\n",
       "      <td>3</td>\n",
       "      <td>0.0</td>\n",
       "    </tr>\n",
       "    <tr>\n",
       "      <th>leakage currents</th>\n",
       "      <td>160</td>\n",
       "      <td>89</td>\n",
       "      <td>411</td>\n",
       "      <td>0</td>\n",
       "      <td>4</td>\n",
       "      <td>0.0</td>\n",
       "    </tr>\n",
       "    <tr>\n",
       "      <th>indents 3 13</th>\n",
       "      <td>239</td>\n",
       "      <td>86</td>\n",
       "      <td>414</td>\n",
       "      <td>0</td>\n",
       "      <td>4</td>\n",
       "      <td>0.0</td>\n",
       "    </tr>\n",
       "    <tr>\n",
       "      <th>vacuum - type</th>\n",
       "      <td>6416</td>\n",
       "      <td>93</td>\n",
       "      <td>407</td>\n",
       "      <td>0</td>\n",
       "      <td>5</td>\n",
       "      <td>0.0</td>\n",
       "    </tr>\n",
       "    <tr>\n",
       "      <th>Bodies</th>\n",
       "      <td>7573</td>\n",
       "      <td>93</td>\n",
       "      <td>407</td>\n",
       "      <td>0</td>\n",
       "      <td>6</td>\n",
       "      <td>0.0</td>\n",
       "    </tr>\n",
       "    <tr>\n",
       "      <th>Instructions</th>\n",
       "      <td>7747</td>\n",
       "      <td>84</td>\n",
       "      <td>416</td>\n",
       "      <td>0</td>\n",
       "      <td>8</td>\n",
       "      <td>0.0</td>\n",
       "    </tr>\n",
       "    <tr>\n",
       "      <th>thermal ignition sources</th>\n",
       "      <td>7784</td>\n",
       "      <td>87</td>\n",
       "      <td>413</td>\n",
       "      <td>0</td>\n",
       "      <td>4</td>\n",
       "      <td>0.0</td>\n",
       "    </tr>\n",
       "    <tr>\n",
       "      <th>artificial opening</th>\n",
       "      <td>7933</td>\n",
       "      <td>48</td>\n",
       "      <td>452</td>\n",
       "      <td>0</td>\n",
       "      <td>3</td>\n",
       "      <td>0.0</td>\n",
       "    </tr>\n",
       "    <tr>\n",
       "      <th>drilling sawing</th>\n",
       "      <td>7943</td>\n",
       "      <td>55</td>\n",
       "      <td>445</td>\n",
       "      <td>0</td>\n",
       "      <td>3</td>\n",
       "      <td>0.0</td>\n",
       "    </tr>\n",
       "    <tr>\n",
       "      <th>retracting</th>\n",
       "      <td>7947</td>\n",
       "      <td>79</td>\n",
       "      <td>421</td>\n",
       "      <td>0</td>\n",
       "      <td>3</td>\n",
       "      <td>0.0</td>\n",
       "    </tr>\n",
       "    <tr>\n",
       "      <th>therapeutic window</th>\n",
       "      <td>8188</td>\n",
       "      <td>94</td>\n",
       "      <td>406</td>\n",
       "      <td>0</td>\n",
       "      <td>5</td>\n",
       "      <td>0.0</td>\n",
       "    </tr>\n",
       "  </tbody>\n",
       "</table>\n",
       "</div>"
      ],
      "text/plain": [
       "                          span_idx  num_background_neighbours  \\\n",
       "tooth crowns                   104                         86   \n",
       "leakage currents               160                         89   \n",
       "indents 3 13                   239                         86   \n",
       "vacuum - type                 6416                         93   \n",
       "Bodies                        7573                         93   \n",
       "Instructions                  7747                         84   \n",
       "thermal ignition sources      7784                         87   \n",
       "artificial opening            7933                         48   \n",
       "drilling sawing               7943                         55   \n",
       "retracting                    7947                         79   \n",
       "therapeutic window            8188                         94   \n",
       "\n",
       "                          num_foreground_neighbours  foreground_cnt  \\\n",
       "tooth crowns                                    414               0   \n",
       "leakage currents                                411               0   \n",
       "indents 3 13                                    414               0   \n",
       "vacuum - type                                   407               0   \n",
       "Bodies                                          407               0   \n",
       "Instructions                                    416               0   \n",
       "thermal ignition sources                        413               0   \n",
       "artificial opening                              452               0   \n",
       "drilling sawing                                 445               0   \n",
       "retracting                                      421               0   \n",
       "therapeutic window                              406               0   \n",
       "\n",
       "                          background_cnt  TFIDF_fore_back  \n",
       "tooth crowns                           3              0.0  \n",
       "leakage currents                       4              0.0  \n",
       "indents 3 13                           4              0.0  \n",
       "vacuum - type                          5              0.0  \n",
       "Bodies                                 6              0.0  \n",
       "Instructions                           8              0.0  \n",
       "thermal ignition sources               4              0.0  \n",
       "artificial opening                     3              0.0  \n",
       "drilling sawing                        3              0.0  \n",
       "retracting                             3              0.0  \n",
       "therapeutic window                     5              0.0  "
      ]
     },
     "execution_count": 60,
     "metadata": {},
     "output_type": "execute_result"
    }
   ],
   "source": [
    "# Example terms BOTTOM RIGHT of the plot (expecting general domain)\n",
    "bottom = span_features_df['TFIDF_fore_back'] < .1 * min_TFIDF_value\n",
    "right = span_features_df['num_foreground_neighbours'] > 405\n",
    "span_features_df.loc[bottom & right]"
   ]
  },
  {
   "cell_type": "code",
   "execution_count": 61,
   "id": "1acabd72",
   "metadata": {},
   "outputs": [
    {
     "data": {
      "image/png": "[encoded data removed]",
      "text/plain": [
       "<Figure size 640x480 with 1 Axes>"
      ]
     },
     "metadata": {},
     "output_type": "display_data"
    }
   ],
   "source": [
    "# We'll save the plot as a figure with example terms\n",
    "fig = plt.figure()\n",
    "sns.set_style (\"darkgrid\")\n",
    "axes = sns.scatterplot(x=\"num_foreground_neighbours\",\n",
    "                       y=\"TFIDF_fore_back\",\n",
    "                       data=span_features_df)\n",
    "\n",
    "axes.set_xlabel(\"Nr. of neighbours that occur only in the foreground corpus\")\n",
    "axes.set_ylabel(\"Foreground/Background TFIDF\")\n",
    "\n",
    "axes.axhline(y=min_TFIDF_value, color=(1,0,0,.8), linestyle='dotted')\n",
    "axes.axvline(x=min_num_foreground_neighbours, color=(1,0,0,.8), linestyle='dotted')\n",
    "\n",
    "topleft_term = \"general domain:\\t\\t \" + \"test standards\"\n",
    "topright_term = \"building regulations:\\t \" + \"natural stone cladding\"\n",
    "bottomleft_term = \"medical domain:\\t\\t \" + \"clinical investigation\"\n",
    "bottomright_term = \"general domain:\\t\\t \" + \"artificial opening\"\n",
    "\n",
    "plt.text(530, 1.1, \"Expected domains and example terms:\", fontsize = 10)\n",
    "for idx, term in enumerate([topleft_term, topright_term, bottomleft_term, bottomright_term]):\n",
    "    x = span_features_df[\"num_foreground_neighbours\"][term.split(\"\\t \")[1]]\n",
    "    y = span_features_df[\"TFIDF_fore_back\"][term.split(\"\\t \")[1]]\n",
    "    colour = \"green\" if (x > min_num_foreground_neighbours and y > min_TFIDF_value) else \"red\"\n",
    "    plt.text(x, y, f\"${chr(97 + idx).upper()}$\", fontsize = 10, bbox = dict(facecolor=colour, \n",
    "                                                                            boxstyle='circle',\n",
    "                                                                            alpha = 0.5))\n",
    "    plt.text(530, 1 - (.1 * idx), f\"${chr(97 + idx).upper()}$) \" + term, fontsize = 10)\n",
    "\n",
    "    \n",
    "# Create a Rectangle patch\n",
    "rect = Rectangle((min_num_foreground_neighbours, min_TFIDF_value), \n",
    "                 520 - min_num_foreground_neighbours, \n",
    "                 1.4 - min_TFIDF_value, facecolor=(0,0.8,0.2,0.2))\n",
    "# Add the patch to the Axes\n",
    "axes.add_patch(rect)\n",
    "fig.savefig(embedding_output_fp.joinpath(\"plot.jpg\"), dpi=300, bbox_inches = \"tight\") #save as jpg\n",
    "\n",
    "# we'll also save span_features_df for reuse elsewhere\n",
    "span_features_df.to_csv(embedding_output_fp.joinpath(\"span_features.csv\"))"
   ]
  },
  {
   "cell_type": "markdown",
   "id": "74b3ad55",
   "metadata": {},
   "source": [
    "* compute domain terms and exemplify"
   ]
  },
  {
   "cell_type": "code",
   "execution_count": 62,
   "id": "50de716f",
   "metadata": {},
   "outputs": [],
   "source": [
    "domain_terms = span_features_df[(span_features_df['TFIDF_fore_back'] >= min_TFIDF_value) & (span_features_df['num_foreground_neighbours'] >= min_num_foreground_neighbours)]\n",
    "ood_terms = span_features_df[(span_features_df['TFIDF_fore_back'] < min_TFIDF_value) | (span_features_df['num_foreground_neighbours'] < min_num_foreground_neighbours)]\n"
   ]
  },
  {
   "cell_type": "code",
   "execution_count": 63,
   "id": "d2062da2",
   "metadata": {
    "scrolled": true
   },
   "outputs": [],
   "source": [
    "# we will store the domain / out-of-domain decision so we can re-use it as a dataset for a kNN voting classifier\n",
    "domain_term_list = domain_terms.index.tolist()\n",
    "for term in span_df_dict.keys():\n",
    "    span_df_dict[term]['domain'] = 'y' if term in domain_term_list else 'n'\n",
    "\n",
    "with open(embedding_output_fp.joinpath(\"span_domain_ood_dict.json\"), 'w') as f:\n",
    "    json.dump(span_df_dict, f)  "
   ]
  },
  {
   "cell_type": "code",
   "execution_count": 64,
   "id": "98ac9022",
   "metadata": {},
   "outputs": [
    {
     "name": "stdout",
     "output_type": "stream",
     "text": [
      "Examples of our 5332 AEC domain terms\n"
     ]
    },
    {
     "data": {
      "text/plain": [
       "['regulation 9',\n",
       " 'Wall type 3',\n",
       " 'fan units',\n",
       " 'floor surface',\n",
       " 'higher',\n",
       " 'consumption',\n",
       " 'litres / sec',\n",
       " 'corrections',\n",
       " 'facility',\n",
       " 'Timber']"
      ]
     },
     "execution_count": 64,
     "metadata": {},
     "output_type": "execute_result"
    }
   ],
   "source": [
    "\n",
    "domain_unique = list(set(domain_terms.index.tolist()))\n",
    "print(f\"Examples of our {len(domain_unique)} AEC domain terms\")\n",
    "random.sample(domain_unique, 10)"
   ]
  },
  {
   "cell_type": "code",
   "execution_count": 65,
   "id": "65828086",
   "metadata": {},
   "outputs": [
    {
     "name": "stdout",
     "output_type": "stream",
     "text": [
      "Examples of our 2955 general domain terms\n"
     ]
    },
    {
     "data": {
      "text/plain": [
       "['information society services',\n",
       " 'Council',\n",
       " 'medical practitioner',\n",
       " 'Member State s',\n",
       " 'patient care',\n",
       " 'technical specification',\n",
       " 'quality policies',\n",
       " 'mechanism',\n",
       " 'sales packaging',\n",
       " 'UDI carriers']"
      ]
     },
     "execution_count": 65,
     "metadata": {},
     "output_type": "execute_result"
    }
   ],
   "source": [
    "print(f\"Examples of our {len(ood_terms)} general domain terms\")\n",
    "random.sample(ood_terms.index.tolist(), 10)"
   ]
  },
  {
   "cell_type": "markdown",
   "id": "3e875c60",
   "metadata": {},
   "source": [
    "* save the domain terms in the folder with inputs for our graph"
   ]
  },
  {
   "cell_type": "code",
   "execution_count": 66,
   "id": "35e57bc3",
   "metadata": {},
   "outputs": [],
   "source": [
    "graph_data_fp = Path(\"data/graph_data/\")\n",
    "pickle.dump(domain_unique, open(graph_data_fp.joinpath('domain_terms.pkl'), 'wb'))"
   ]
  },
  {
   "cell_type": "code",
   "execution_count": null,
   "id": "58381bfa",
   "metadata": {},
   "outputs": [],
   "source": []
  },
  {
   "cell_type": "code",
   "execution_count": null,
   "id": "5af0c2a0",
   "metadata": {},
   "outputs": [],
   "source": []
  },
  {
   "cell_type": "code",
   "execution_count": null,
   "id": "19480b95",
   "metadata": {},
   "outputs": [],
   "source": []
  },
  {
   "cell_type": "code",
   "execution_count": null,
   "id": "5ce1d943",
   "metadata": {},
   "outputs": [],
   "source": []
  }
 ],
 "metadata": {
  "kernelspec": {
   "display_name": "Python 3 (ipykernel)",
   "language": "python",
   "name": "python3"
  },
  "language_info": {
   "codemirror_mode": {
    "name": "ipython",
    "version": 3
   },
   "file_extension": ".py",
   "mimetype": "text/x-python",
   "name": "python",
   "nbconvert_exporter": "python",
   "pygments_lexer": "ipython3",
   "version": "3.9.16"
  }
 },
 "nbformat": 4,
 "nbformat_minor": 5
}
