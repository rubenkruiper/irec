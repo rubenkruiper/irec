{
 "cells": [
  {
   "cell_type": "markdown",
   "id": "95ac68d8",
   "metadata": {},
   "source": [
    "Run the code by either:\n",
    "1. selecting `Run all` from the `Cell` dropdown menu above\n",
    "2. run cell-by-cell, by pressing `Shift + Enter` on your keyboard\n",
    "  * note; `Alt + Enter` runs a cell and inserts an empty cell below"
   ]
  },
  {
   "cell_type": "code",
   "execution_count": 1,
   "id": "788a8bca",
   "metadata": {},
   "outputs": [],
   "source": [
    "from typing import Union, List, Any, Optional, Dict\n",
    "\n",
    "import os\n",
    "import re\n",
    "import time\n",
    "import json\n",
    "import glob\n",
    "import pickle\n",
    "import random\n",
    "import urllib\n",
    "import requests\n",
    "import subprocess\n",
    "import concurrent.futures\n",
    "\n",
    "import numpy as np\n",
    "import pandas as pd\n",
    "import seaborn as sns\n",
    "\n",
    "from bs4 import BeautifulSoup\n",
    "from tqdm import tqdm\n",
    "from pathlib import Path\n",
    "from textblob import TextBlob\n",
    "from threading import current_thread\n",
    "from matplotlib import pyplot as plt\n",
    "from collections import Counter\n",
    "from transformers import BertTokenizer, BertModel\n",
    "from gap_statistic import OptimalK\n",
    "from sklearn.cluster import KMeans #, AgglomerativeClustering\n",
    "from sklearn.neighbors import kneighbors_graph\n",
    "\n",
    "from utils import cluster_utils\n",
    "from utils import cleaning_utils\n",
    "from utils import IDF_computation\n",
    "from utils import embedding_utils as embedding\n",
    "from utils.customdocument import CustomDocument"
   ]
  },
  {
   "cell_type": "markdown",
   "id": "d081bf43",
   "metadata": {},
   "source": [
    "<div class=\"alert alert-block alert-info\"> \n",
    "We will run our term extraction on the Merged Approved Documents, the .pdf file can be found in the `data/` directory. For filtering of out-of-domain terms we will also process a set of EU regulations for medical device design, the .html files for these can be found in the same directory.\n",
    "</div>\n",
    "\n",
    "1. Preprocessing will consist only of removing headers/footers from PDF files. \n",
    "\n",
    "2. Candidate terms are identified using SPaR.txt (Kruiper et al., 2021), sentence splitting is done with the PunkSentTokenizer (Strunk, 2006).\n",
    "\n",
    "3. Filtering of term candidates consists of:\n",
    "  * a set of regular expressions found in utils.py\n",
    "  * clustering of terms found in (1) the Approved Documents, and (2) a set of EU regulations for medical device design; any clusters containing terms from (2) will be designated as terms that are irrelevant to the AEC domain.\n",
    "  \n",
    " \n"
   ]
  },
  {
   "cell_type": "markdown",
   "id": "996a98d0",
   "metadata": {},
   "source": [
    "### 1 Preprocessing: get text from PDF and HTML\n",
    "\n",
    "<div class=\"alert alert-block alert-info\">\n",
    "Here, we grab the text from our foreground and background corpora.\n",
    "</div>\n"
   ]
  },
  {
   "cell_type": "code",
   "execution_count": 2,
   "id": "0f74d6fb",
   "metadata": {},
   "outputs": [
    {
     "name": "stdout",
     "output_type": "stream",
     "text": [
      "Approved Documents: data/term_extraction_input/The Merged Approved Documents.pdf\n",
      "Reference corpus: ['data/term_extraction_input/EUR-Lex - 31993L0042 - EN.html', 'data/term_extraction_input/CELEX 32017R0746 EN TXT.html', 'data/term_extraction_input/CELEX 32017R0745 EN TXT.html', 'data/term_extraction_input/EUR-Lex - 31998L0079 - EN.html', 'data/term_extraction_input/EUR-Lex - 31990L0385 - EN.html']\n"
     ]
    }
   ],
   "source": [
    "input_path = Path(\"data/term_extraction_input/\")\n",
    "output_dir = Path(\"data/converted_documents/\")\n",
    "output_dir.mkdir(parents=True, exist_ok=True) # create the converted_documents directory if needed\n",
    "\n",
    "# NOTE: in our case the foreground corpus is the merged_approved_pdf_file, \n",
    "#       and the background corpus is a set of html files\n",
    "merged_approved_pdf_file = [x for x in input_path.glob(\"*.pdf\")][0]\n",
    "eu_html_files = [x for x in input_path.glob(\"*.html\")]\n",
    "\n",
    "print(f\"Approved Documents: {merged_approved_pdf_file}\")\n",
    "print(f\"Reference corpus: {[str(x) for x in eu_html_files]}\")"
   ]
  },
  {
   "cell_type": "code",
   "execution_count": 3,
   "id": "75175bc6",
   "metadata": {},
   "outputs": [
    {
     "data": {
      "text/plain": [
       "True"
      ]
     },
     "execution_count": 3,
     "metadata": {},
     "output_type": "execute_result"
    }
   ],
   "source": [
    "merged_approved_pdf_file.exists()"
   ]
  },
  {
   "cell_type": "markdown",
   "id": "271bdc02",
   "metadata": {},
   "source": [
    "<div class=\"alert alert-block alert-info\">\n",
    "First we grab the text from the Merged Approved Documents pdf file. Our implementation on based on the pdf conversion pipeline in Haystack.\n",
    "</div>"
   ]
  },
  {
   "cell_type": "code",
   "execution_count": 4,
   "id": "3e0d20e7",
   "metadata": {},
   "outputs": [],
   "source": [
    "def read_pdf(file_path: Path, layout: bool = True, encoding: Optional[str] = \"Latin1\") -> List[str]:\n",
    "        \"\"\"\n",
    "        Extract pages from the pdf file at file_path; based on Haystack.\n",
    "\n",
    "        :param file_path: path of the pdf file\n",
    "        :param layout: whether to retain the original physical layout for a page. If disabled, PDF pages are read in\n",
    "                       the content stream order.\n",
    "        \"\"\"\n",
    "        if layout:\n",
    "            command = [\"pdftotext\", \"-enc\", encoding, \"-layout\", str(file_path), \"-\"]\n",
    "        else:\n",
    "            command = [\"pdftotext\", \"-enc\", encoding, str(file_path), \"-\"]\n",
    "        output = subprocess.run(command, stdout=subprocess.PIPE, shell=False)  # type: ignore\n",
    "        document = output.stdout.decode(errors=\"ignore\")\n",
    "        pages = document.split(\"\\f\")\n",
    "        pages = pages[:-1]  # the last page in the split is always empty.\n",
    "        return pages\n",
    "\n",
    "def convert_pdf_to_mydoc(source_file_path: Path, \n",
    "                         output_file_path: Path, \n",
    "                         meta: Optional[Dict[str, str]] = None,\n",
    "                         remove_header_and_footer: Optional[bool] = True,\n",
    "                         clean_whitespace: Optional[bool] = True,\n",
    "                         clean_empty_lines: Optional[bool] = True,\n",
    "                         encoding: Optional[str] = \"Latin1\") -> CustomDocument:\n",
    "        \"\"\"\n",
    "        Extract pages from the pdf file at file_path; based on Haystack.\n",
    "\n",
    "        :param output_file_path:    Path to the .json file to store the converted file.\n",
    "        :param source_file_path:    Path to the .pdf file you want to convert\n",
    "        :param meta: Optional dictionary with metadata that shall be attached to all resulting documents.\n",
    "                     Can be any custom keys and values.\n",
    "        :param encoding: Encoding that will be passed as -enc parameter to pdftotext. \"Latin 1\" is the default encoding\n",
    "                         of pdftotext. While this works well on many PDFs, it might be needed to switch to \"UTF-8\" or\n",
    "                         others if your doc contains special characters (e.g. German Umlauts, Cyrillic characters ...).\n",
    "                         Note: With \"UTF-8\" we experienced cases, where a simple \"fi\" gets wrongly parsed as\n",
    "                         \"xef\\xac\\x81c\" (see test cases). That's why we keep \"Latin 1\" as default here.\n",
    "                         (See list of available encodings by running `pdftotext -listenc` in the terminal)\n",
    "        \"\"\"\n",
    "        pages = read_pdf(source_file_path, layout=True, encoding=encoding)\n",
    "\n",
    "        if not pages:\n",
    "            # empty input file\n",
    "            return None\n",
    "        \n",
    "        pages = [\"\\n\".join(p.splitlines()) for p in pages]\n",
    "\n",
    "        # splitting text happens during preprocessing, so no split_size passed here;\n",
    "        # split_size will be set to -1 during conversion.\n",
    "        document = CustomDocument(output_file_path, source_file_path, split_size=-1)\n",
    "        \n",
    "        print(\"Converted PDF file to pages of text, combining to a single CustomDocument to keep track of page nrs.\")\n",
    "        for page_idx, page in tqdm(enumerate(pages)):\n",
    "            \n",
    "            # some simple cleaning -- roughly based on haystack.\n",
    "            lines = page.splitlines()\n",
    "            if remove_header_and_footer:\n",
    "                # simplest way for removing header and footer \n",
    "                lines = lines[1:-2]\n",
    "\n",
    "            if clean_whitespace:\n",
    "                cleaned_lines = []\n",
    "                for line in lines:\n",
    "                    line = line.strip()\n",
    "                    cleaned_lines.append(line)\n",
    "                text = \" \".join(cleaned_lines)\n",
    "\n",
    "            if clean_empty_lines:\n",
    "                text = re.sub(r\"\\n\\n+\", \"\\n\\n\", text)\n",
    "                text = re.sub(r\"[\\s]+\", \" \", text)\n",
    "            \n",
    "            # no splitting here yet, so simply using page_nr as a place holder and split_id is left blank\n",
    "            page_nr = str(page_idx + 1)\n",
    "            document.add_content(text=text, \n",
    "                                 page_nr=page_nr, \n",
    "                                 doc_title=source_file_path.name)   # we're using the pdf file name for simplicity\n",
    "\n",
    "        return document"
   ]
  },
  {
   "cell_type": "code",
   "execution_count": 5,
   "id": "71184fcf",
   "metadata": {},
   "outputs": [
    {
     "name": "stdout",
     "output_type": "stream",
     "text": [
      "Converted PDF file to pages of text, combining to a single CustomDocument to keep track of page nrs.\n"
     ]
    },
    {
     "name": "stderr",
     "output_type": "stream",
     "text": [
      "1455it [00:00, 8701.59it/s]\n"
     ]
    }
   ],
   "source": [
    "output_path = output_dir.joinpath(\"merged_approved.json\")\n",
    "merged_approved_document = convert_pdf_to_mydoc(merged_approved_pdf_file, output_path)"
   ]
  },
  {
   "cell_type": "code",
   "execution_count": 6,
   "id": "1473ee8b",
   "metadata": {},
   "outputs": [
    {
     "name": "stdout",
     "output_type": "stream",
     "text": [
      "Maximum character length for a single block of text: 5349\n"
     ]
    }
   ],
   "source": [
    "print(f\"Maximum character length for a single block of text: {max([len(c.text) for c in merged_approved_document.all_contents])}\")"
   ]
  },
  {
   "cell_type": "markdown",
   "id": "84117041",
   "metadata": {},
   "source": [
    "<div class=\"alert alert-block alert-info\">\n",
    "Second, we grab the text from the EU regulation HTML files. Because the text in HTML files isn't split into pages, the blocks of text are much longer.\n",
    "</div>"
   ]
  },
  {
   "cell_type": "code",
   "execution_count": 7,
   "id": "c5bb53f9",
   "metadata": {},
   "outputs": [],
   "source": [
    "def grab_HTML_text_simple(file_path: Path):\n",
    "    \"\"\"\n",
    "    All text in the EU htmls seems to be captured neatly in <p> tags, we don't care about structure currently.\n",
    "    We do remove all unicode characters, see `utils.remove_unicode_chars()`.\n",
    "    \"\"\" \n",
    "    with open(file_path, 'r') as f:\n",
    "        text = f.read()\n",
    "    soup = BeautifulSoup(text, 'html.parser')\n",
    "    return [cleaning_utils.remove_unicode_chars(x.text) for x in soup.body.find_all('p')]"
   ]
  },
  {
   "cell_type": "code",
   "execution_count": 8,
   "id": "6630e6ba",
   "metadata": {},
   "outputs": [],
   "source": [
    "def convert_html_to_mydoc(source_file_path: Path, \n",
    "                          output_file_path: Path) -> CustomDocument:\n",
    "    \n",
    "    document = CustomDocument(output_file_path, source_file_path, split_size=-1)\n",
    "    document_paragraphs = []\n",
    "    list_of_paragraphs = grab_HTML_text_simple(source_file_path)\n",
    "    for paragraph in list_of_paragraphs:\n",
    "        if paragraph.strip() != '':\n",
    "            document_paragraphs.append(paragraph)\n",
    "    \n",
    "    for paragraph_idx, paragraph in tqdm(enumerate(document_paragraphs)):\n",
    "            # no splitting here yet, so simply using page_nr as a place holder and split_id is left blank\n",
    "            paragraph_nr = str(paragraph_idx + 1)\n",
    "            document.add_content(text=paragraph, \n",
    "                                 page_nr=paragraph_nr, \n",
    "                                 doc_title=source_file_path.name) # we're using the html file name for simplicity\n",
    "    return document"
   ]
  },
  {
   "cell_type": "code",
   "execution_count": 9,
   "id": "91b68b58",
   "metadata": {},
   "outputs": [
    {
     "name": "stderr",
     "output_type": "stream",
     "text": [
      "  0%|                                                                                                                                                                                 | 0/5 [00:00<?, ?it/s]\n",
      "826it [00:00, 249298.06it/s]\n",
      "\n",
      "4344it [00:00, 361122.14it/s]\n",
      " 40%|███████████████████████████████████████████████████████████████████▌                                                                                                     | 2/5 [00:00<00:01,  2.49it/s]\n",
      "4799it [00:00, 378319.05it/s]\n",
      " 60%|█████████████████████████████████████████████████████████████████████████████████████████████████████▍                                                                   | 3/5 [00:01<00:01,  1.94it/s]\n",
      "623it [00:00, 316887.14it/s]\n",
      " 80%|███████████████████████████████████████████████████████████████████████████████████████████████████████████████████████████████████████▏                                 | 4/5 [00:01<00:00,  2.64it/s]\n",
      "511it [00:00, 297637.74it/s]\n",
      "100%|█████████████████████████████████████████████████████████████████████████████████████████████████████████████████████████████████████████████████████████████████████████| 5/5 [00:01<00:00,  3.03it/s]\n"
     ]
    }
   ],
   "source": [
    "eu_regulation_documents = []\n",
    "\n",
    "for html_file in tqdm(eu_html_files):\n",
    "    output_path = output_dir.joinpath(html_file.stem + \".json\")\n",
    "    eu_regulation_documents.append(convert_html_to_mydoc(html_file, output_path))\n"
   ]
  },
  {
   "cell_type": "code",
   "execution_count": 10,
   "id": "033634ca",
   "metadata": {},
   "outputs": [
    {
     "name": "stdout",
     "output_type": "stream",
     "text": [
      "Maximum character length for a single paragraph: 143428\n"
     ]
    }
   ],
   "source": [
    "print(f\"Maximum character length for a single paragraph: {max([len(c.text) for d in eu_regulation_documents for c in d.all_contents])}\")"
   ]
  },
  {
   "cell_type": "markdown",
   "id": "77347abc",
   "metadata": {},
   "source": [
    "<div class=\"alert alert-block alert-info\">\n",
    "Third, if the output document doesn't exist (yet), we save the ConvertedDocument.\n",
    "</div>"
   ]
  },
  {
   "cell_type": "code",
   "execution_count": 11,
   "id": "24237e3e",
   "metadata": {},
   "outputs": [],
   "source": [
    "foreground_corpus = [merged_approved_document]\n",
    "background_corpus = eu_regulation_documents"
   ]
  },
  {
   "cell_type": "code",
   "execution_count": 12,
   "id": "7a00ed81",
   "metadata": {},
   "outputs": [],
   "source": [
    "for d in foreground_corpus + background_corpus:\n",
    "    if not os.path.exists(d.output_fp):\n",
    "        d.write_document()"
   ]
  },
  {
   "cell_type": "markdown",
   "id": "20f6e56a",
   "metadata": {},
   "source": [
    "### 2 Term extraction: identify object spans with SPaR.txt\n",
    "\n",
    "<div class=\"alert alert-block alert-info\">\n",
    "For each of the sentences in our corpora, we run SPaR.txt for object identification.\n",
    "</div>\n",
    "\n",
    "\n",
    "Note; on a mac, you may have to install the Xcode commandline developer tools. Open a terminal window and run `xcode-select --install` or download Xcode through the App store.\n",
    "\n"
   ]
  },
  {
   "cell_type": "code",
   "execution_count": 13,
   "id": "edf22a14",
   "metadata": {},
   "outputs": [
    {
     "name": "stdout",
     "output_type": "stream",
     "text": [
      "Cloning into 'SPaR.txt'...\n",
      "remote: Enumerating objects: 11890, done.\u001b[K\n",
      "remote: Counting objects: 100% (2223/2223), done.\u001b[K\n",
      "remote: Compressing objects: 100% (1170/1170), done.\u001b[K\n",
      "remote: Total 11890 (delta 881), reused 2199 (delta 859), pack-reused 9667\u001b[K\n",
      "Receiving objects: 100% (11890/11890), 4.85 MiB | 2.69 MiB/s, done.\n",
      "Resolving deltas: 100% (1258/1258), done.\n",
      "Updating files: 100% (14621/14621), done.\n"
     ]
    }
   ],
   "source": [
    "# download SPaR.txt if required\n",
    "from pathlib import Path\n",
    "spartxt_path = Path(\"SPaR.txt/\")\n",
    "if not spartxt_path.exists():\n",
    "    !git clone https://github.com/rubenkruiper/SPaR.txt.git"
   ]
  },
  {
   "cell_type": "code",
   "execution_count": 14,
   "id": "b19aa4ce",
   "metadata": {},
   "outputs": [
    {
     "name": "stderr",
     "output_type": "stream",
     "text": [
      "/var/folders/lp/l_mzhpjs6bg95plfkl_n_vsc0000gn/T/ipykernel_74303/67904731.py:1: DeprecationWarning: the imp module is deprecated in favour of importlib; see the module's documentation for alternative uses\n",
      "  import imp\n"
     ]
    }
   ],
   "source": [
    "import imp\n",
    "with open(spartxt_path.joinpath('spar_predictor.py'), 'rb') as fp:\n",
    "    spar_predictor = imp.load_module(\n",
    "        'spar_predictor', fp, 'SPaR.txt.spar_predictor.py',\n",
    "        ('.py', 'rb', imp.PY_SOURCE)\n",
    "    )"
   ]
  },
  {
   "cell_type": "code",
   "execution_count": 15,
   "id": "9daef1de",
   "metadata": {
    "scrolled": true
   },
   "outputs": [
    {
     "name": "stdout",
     "output_type": "stream",
     "text": [
      "No trained model found, creating one at /Users/rubenkruiper/dev/irec/SPaR.txt/trained_models/debugger_train. \n",
      "If a GPU is available, this will take several minutes. If no GPU is available, this will take 20+ minutes.\n",
      "2023-04-12 15:17:19,690 - INFO - allennlp.common.params - random_seed = 13370\n",
      "2023-04-12 15:17:19,691 - INFO - allennlp.common.params - numpy_seed = 1337\n",
      "2023-04-12 15:17:19,692 - INFO - allennlp.common.params - pytorch_seed = 133\n",
      "2023-04-12 15:17:19,699 - INFO - allennlp.common.checks - Pytorch version: 1.8.1\n",
      "2023-04-12 15:17:19,700 - INFO - allennlp.common.params - type = default\n",
      "2023-04-12 15:17:19,701 - INFO - allennlp.common.params - dataset_reader.type = tag_reader\n",
      "2023-04-12 15:17:19,702 - INFO - allennlp.common.params - dataset_reader.max_instances = None\n",
      "2023-04-12 15:17:19,703 - INFO - allennlp.common.params - dataset_reader.manual_distributed_sharding = False\n",
      "2023-04-12 15:17:19,704 - INFO - allennlp.common.params - dataset_reader.manual_multiprocess_sharding = False\n",
      "2023-04-12 15:17:19,705 - INFO - allennlp.common.params - dataset_reader.bert_model_name = bert-base-cased\n",
      "2023-04-12 15:17:19,706 - INFO - allennlp.common.params - dataset_reader.token_indexers.tokens.type = pretrained_transformer\n",
      "2023-04-12 15:17:19,707 - INFO - allennlp.common.params - dataset_reader.token_indexers.tokens.token_min_padding_length = 0\n",
      "2023-04-12 15:17:19,708 - INFO - allennlp.common.params - dataset_reader.token_indexers.tokens.model_name = bert-base-cased\n",
      "2023-04-12 15:17:19,709 - INFO - allennlp.common.params - dataset_reader.token_indexers.tokens.namespace = tags\n",
      "2023-04-12 15:17:19,710 - INFO - allennlp.common.params - dataset_reader.token_indexers.tokens.max_length = 512\n",
      "2023-04-12 15:17:19,711 - INFO - allennlp.common.params - dataset_reader.token_indexers.tokens.tokenizer_kwargs.use_fast = False\n",
      "2023-04-12 15:17:23,371 - INFO - allennlp.common.params - train_data_path = ./SPaR.txt/data/train/\n",
      "2023-04-12 15:17:23,372 - INFO - allennlp.common.params - vocabulary = <allennlp.common.lazy.Lazy object at 0x7fe3b3560fd0>\n",
      "2023-04-12 15:17:23,373 - INFO - allennlp.common.params - datasets_for_vocab_creation = None\n",
      "2023-04-12 15:17:23,373 - INFO - allennlp.common.params - validation_dataset_reader = None\n",
      "2023-04-12 15:17:23,374 - INFO - allennlp.common.params - validation_data_path = ./SPaR.txt/data/val/\n",
      "2023-04-12 15:17:23,375 - INFO - allennlp.common.params - validation_data_loader = None\n",
      "2023-04-12 15:17:23,376 - INFO - allennlp.common.params - test_data_path = None\n",
      "2023-04-12 15:17:23,377 - INFO - allennlp.common.params - evaluate_on_test = False\n",
      "2023-04-12 15:17:23,378 - INFO - allennlp.common.params - batch_weight_key = \n",
      "2023-04-12 15:17:23,379 - INFO - allennlp.common.params - data_loader.type = multiprocess\n",
      "2023-04-12 15:17:23,380 - INFO - allennlp.common.params - data_loader.batch_size = None\n",
      "2023-04-12 15:17:23,381 - INFO - allennlp.common.params - data_loader.drop_last = False\n",
      "2023-04-12 15:17:23,381 - INFO - allennlp.common.params - data_loader.shuffle = False\n",
      "2023-04-12 15:17:23,382 - INFO - allennlp.common.params - data_loader.batch_sampler.type = bucket\n",
      "2023-04-12 15:17:23,383 - INFO - allennlp.common.params - data_loader.batch_sampler.batch_size = 16\n",
      "2023-04-12 15:17:23,384 - INFO - allennlp.common.params - data_loader.batch_sampler.sorting_keys = ['tokens']\n",
      "2023-04-12 15:17:23,385 - INFO - allennlp.common.params - data_loader.batch_sampler.padding_noise = 0.1\n",
      "2023-04-12 15:17:23,386 - INFO - allennlp.common.params - data_loader.batch_sampler.drop_last = False\n",
      "2023-04-12 15:17:23,386 - INFO - allennlp.common.params - data_loader.batch_sampler.shuffle = True\n",
      "2023-04-12 15:17:23,387 - INFO - allennlp.common.params - data_loader.batches_per_epoch = None\n",
      "2023-04-12 15:17:23,388 - INFO - allennlp.common.params - data_loader.num_workers = 0\n",
      "2023-04-12 15:17:23,389 - INFO - allennlp.common.params - data_loader.max_instances_in_memory = None\n",
      "2023-04-12 15:17:23,389 - INFO - allennlp.common.params - data_loader.start_method = fork\n",
      "2023-04-12 15:17:23,390 - INFO - allennlp.common.params - data_loader.cuda_device = None\n",
      "2023-04-12 15:17:23,391 - INFO - allennlp.common.params - data_loader.quiet = False\n",
      "2023-04-12 15:17:23,392 - INFO - allennlp.common.params - data_loader.collate_fn = <allennlp.data.data_loaders.data_collator.DefaultDataCollator object at 0x7fe3b2ab20d0>\n"
     ]
    },
    {
     "data": {
      "application/vnd.jupyter.widget-view+json": {
       "model_id": "b5ef251acc5846698ead527c45170969",
       "version_major": 2,
       "version_minor": 0
      },
      "text/plain": [
       "loading instances: 0it [00:00, ?it/s]"
      ]
     },
     "metadata": {},
     "output_type": "display_data"
    },
    {
     "name": "stdout",
     "output_type": "stream",
     "text": [
      "2023-04-12 15:17:23,561 - INFO - allennlp.common.params - data_loader.type = multiprocess\n",
      "2023-04-12 15:17:23,562 - INFO - allennlp.common.params - data_loader.batch_size = None\n",
      "2023-04-12 15:17:23,563 - INFO - allennlp.common.params - data_loader.drop_last = False\n",
      "2023-04-12 15:17:23,564 - INFO - allennlp.common.params - data_loader.shuffle = False\n",
      "2023-04-12 15:17:23,565 - INFO - allennlp.common.params - data_loader.batch_sampler.type = bucket\n",
      "2023-04-12 15:17:23,566 - INFO - allennlp.common.params - data_loader.batch_sampler.batch_size = 16\n",
      "2023-04-12 15:17:23,567 - INFO - allennlp.common.params - data_loader.batch_sampler.sorting_keys = ['tokens']\n",
      "2023-04-12 15:17:23,567 - INFO - allennlp.common.params - data_loader.batch_sampler.padding_noise = 0.1\n",
      "2023-04-12 15:17:23,568 - INFO - allennlp.common.params - data_loader.batch_sampler.drop_last = False\n",
      "2023-04-12 15:17:23,569 - INFO - allennlp.common.params - data_loader.batch_sampler.shuffle = True\n",
      "2023-04-12 15:17:23,569 - INFO - allennlp.common.params - data_loader.batches_per_epoch = None\n",
      "2023-04-12 15:17:23,570 - INFO - allennlp.common.params - data_loader.num_workers = 0\n",
      "2023-04-12 15:17:23,571 - INFO - allennlp.common.params - data_loader.max_instances_in_memory = None\n",
      "2023-04-12 15:17:23,571 - INFO - allennlp.common.params - data_loader.start_method = fork\n",
      "2023-04-12 15:17:23,572 - INFO - allennlp.common.params - data_loader.cuda_device = None\n",
      "2023-04-12 15:17:23,573 - INFO - allennlp.common.params - data_loader.quiet = False\n",
      "2023-04-12 15:17:23,573 - INFO - allennlp.common.params - data_loader.collate_fn = <allennlp.data.data_loaders.data_collator.DefaultDataCollator object at 0x7fe3b2ab20d0>\n"
     ]
    },
    {
     "data": {
      "application/vnd.jupyter.widget-view+json": {
       "model_id": "00e6ac66797c4836b7e8d55c23a028ac",
       "version_major": 2,
       "version_minor": 0
      },
      "text/plain": [
       "loading instances: 0it [00:00, ?it/s]"
      ]
     },
     "metadata": {},
     "output_type": "display_data"
    },
    {
     "name": "stdout",
     "output_type": "stream",
     "text": [
      "2023-04-12 15:17:23,646 - INFO - allennlp.common.params - type = from_instances\n",
      "2023-04-12 15:17:23,648 - INFO - allennlp.common.params - min_count = None\n",
      "2023-04-12 15:17:23,649 - INFO - allennlp.common.params - max_vocab_size = None\n",
      "2023-04-12 15:17:23,650 - INFO - allennlp.common.params - non_padded_namespaces = ('*tags', '*labels')\n",
      "2023-04-12 15:17:23,651 - INFO - allennlp.common.params - pretrained_files = None\n",
      "2023-04-12 15:17:23,651 - INFO - allennlp.common.params - only_include_pretrained_words = False\n",
      "2023-04-12 15:17:23,652 - INFO - allennlp.common.params - tokens_to_add = None\n",
      "2023-04-12 15:17:23,653 - INFO - allennlp.common.params - min_pretrained_embeddings = None\n",
      "2023-04-12 15:17:23,654 - INFO - allennlp.common.params - padding_token = @@PADDING@@\n",
      "2023-04-12 15:17:23,655 - INFO - allennlp.common.params - oov_token = @@UNKNOWN@@\n",
      "2023-04-12 15:17:23,656 - INFO - allennlp.data.vocabulary - Fitting token dictionary from dataset.\n"
     ]
    },
    {
     "data": {
      "application/vnd.jupyter.widget-view+json": {
       "model_id": "38195628f5954aaa9eafbaa94ea56e07",
       "version_major": 2,
       "version_minor": 0
      },
      "text/plain": [
       "building vocab: 0it [00:00, ?it/s]"
      ]
     },
     "metadata": {},
     "output_type": "display_data"
    },
    {
     "name": "stdout",
     "output_type": "stream",
     "text": [
      "2023-04-12 15:17:23,669 - INFO - allennlp.common.params - model.type = attention_tagger\n",
      "2023-04-12 15:17:23,670 - INFO - allennlp.common.params - model.regularizer = None\n",
      "2023-04-12 15:17:23,671 - INFO - allennlp.common.params - model.text_field_embedder.type = basic\n",
      "2023-04-12 15:17:23,672 - INFO - allennlp.common.params - model.text_field_embedder.token_embedders.tokens.type = pretrained_transformer\n",
      "2023-04-12 15:17:23,673 - INFO - allennlp.common.params - model.text_field_embedder.token_embedders.tokens.model_name = bert-base-cased\n",
      "2023-04-12 15:17:23,674 - INFO - allennlp.common.params - model.text_field_embedder.token_embedders.tokens.max_length = 512\n",
      "2023-04-12 15:17:23,674 - INFO - allennlp.common.params - model.text_field_embedder.token_embedders.tokens.sub_module = None\n",
      "2023-04-12 15:17:23,675 - INFO - allennlp.common.params - model.text_field_embedder.token_embedders.tokens.train_parameters = False\n",
      "2023-04-12 15:17:23,676 - INFO - allennlp.common.params - model.text_field_embedder.token_embedders.tokens.eval_mode = False\n",
      "2023-04-12 15:17:23,676 - INFO - allennlp.common.params - model.text_field_embedder.token_embedders.tokens.last_layer_only = True\n",
      "2023-04-12 15:17:23,677 - INFO - allennlp.common.params - model.text_field_embedder.token_embedders.tokens.override_weights_file = None\n",
      "2023-04-12 15:17:23,678 - INFO - allennlp.common.params - model.text_field_embedder.token_embedders.tokens.override_weights_strip_prefix = None\n",
      "2023-04-12 15:17:23,678 - INFO - allennlp.common.params - model.text_field_embedder.token_embedders.tokens.load_weights = True\n",
      "2023-04-12 15:17:23,679 - INFO - allennlp.common.params - model.text_field_embedder.token_embedders.tokens.gradient_checkpointing = None\n",
      "2023-04-12 15:17:23,680 - INFO - allennlp.common.params - model.text_field_embedder.token_embedders.tokens.tokenizer_kwargs.use_fast = False\n",
      "2023-04-12 15:17:23,681 - INFO - allennlp.common.params - model.text_field_embedder.token_embedders.tokens.transformer_kwargs = None\n"
     ]
    },
    {
     "name": "stderr",
     "output_type": "stream",
     "text": [
      "Some weights of the model checkpoint at bert-base-cased were not used when initializing BertModel: ['cls.predictions.transform.dense.weight', 'cls.seq_relationship.weight', 'cls.predictions.transform.LayerNorm.weight', 'cls.predictions.bias', 'cls.predictions.transform.dense.bias', 'cls.predictions.transform.LayerNorm.bias', 'cls.predictions.decoder.weight', 'cls.seq_relationship.bias']\n",
      "- This IS expected if you are initializing BertModel from the checkpoint of a model trained on another task or with another architecture (e.g. initializing a BertForSequenceClassification model from a BertForPreTraining model).\n",
      "- This IS NOT expected if you are initializing BertModel from the checkpoint of a model that you expect to be exactly identical (initializing a BertForSequenceClassification model from a BertForSequenceClassification model).\n"
     ]
    },
    {
     "name": "stdout",
     "output_type": "stream",
     "text": [
      "2023-04-12 15:17:25,258 - INFO - allennlp.common.params - model.encoder.type = lstm\n",
      "2023-04-12 15:17:25,259 - INFO - allennlp.common.params - model.encoder.input_size = 768\n",
      "2023-04-12 15:17:25,259 - INFO - allennlp.common.params - model.encoder.hidden_size = 384\n",
      "2023-04-12 15:17:25,260 - INFO - allennlp.common.params - model.encoder.num_layers = 1\n",
      "2023-04-12 15:17:25,261 - INFO - allennlp.common.params - model.encoder.bias = True\n",
      "2023-04-12 15:17:25,262 - INFO - allennlp.common.params - model.encoder.dropout = 0.0\n",
      "2023-04-12 15:17:25,262 - INFO - allennlp.common.params - model.encoder.bidirectional = True\n",
      "2023-04-12 15:17:25,263 - INFO - allennlp.common.params - model.encoder.stateful = False\n",
      "2023-04-12 15:17:25,284 - INFO - allennlp.common.params - model.label_namespace = labels\n",
      "2023-04-12 15:17:25,285 - INFO - allennlp.common.params - model.feedforward.input_dim = 1536\n",
      "2023-04-12 15:17:25,286 - INFO - allennlp.common.params - model.feedforward.num_layers = 1\n",
      "2023-04-12 15:17:25,286 - INFO - allennlp.common.params - model.feedforward.hidden_dims = 60\n",
      "2023-04-12 15:17:25,287 - INFO - allennlp.common.params - model.feedforward.activations = relu\n",
      "2023-04-12 15:17:25,288 - INFO - allennlp.common.params - type = relu\n",
      "2023-04-12 15:17:25,289 - INFO - allennlp.common.params - model.feedforward.dropout = 0.05\n",
      "2023-04-12 15:17:25,291 - INFO - allennlp.common.params - model.label_encoding = DiscontiguousTest\n",
      "2023-04-12 15:17:25,292 - INFO - allennlp.common.params - model.include_start_end_transitions = False\n",
      "2023-04-12 15:17:25,293 - INFO - allennlp.common.params - model.constrain_crf_decoding = None\n",
      "2023-04-12 15:17:25,294 - INFO - allennlp.common.params - model.calculate_span_f1 = None\n",
      "2023-04-12 15:17:25,294 - INFO - allennlp.common.params - model.dropout = 0.05\n",
      "2023-04-12 15:17:25,295 - INFO - allennlp.common.params - model.verbose_metrics = False\n",
      "2023-04-12 15:17:25,296 - INFO - allennlp.common.params - model.initializer = <allennlp.nn.initializers.InitializerApplicator object at 0x7fe3bbdf5f10>\n",
      "2023-04-12 15:17:25,297 - INFO - allennlp.common.params - model.top_k = 1\n",
      "2023-04-12 15:17:25,298 - INFO - allennlp.common.params - model.ignore_loss_on_o_tags = False\n",
      "2023-04-12 15:17:25,314 - INFO - allennlp.nn.initializers - Initializing parameters\n",
      "2023-04-12 15:17:25,316 - INFO - allennlp.nn.initializers - Done initializing parameters; the following parameters are using their default initialization from their code\n",
      "2023-04-12 15:17:25,317 - INFO - allennlp.nn.initializers -    _attention.Er\n",
      "2023-04-12 15:17:25,318 - INFO - allennlp.nn.initializers -    _attention.key.bias\n",
      "2023-04-12 15:17:25,318 - INFO - allennlp.nn.initializers -    _attention.key.weight\n",
      "2023-04-12 15:17:25,319 - INFO - allennlp.nn.initializers -    _attention.query.bias\n",
      "2023-04-12 15:17:25,320 - INFO - allennlp.nn.initializers -    _attention.query.weight\n",
      "2023-04-12 15:17:25,320 - INFO - allennlp.nn.initializers -    _attention.value.bias\n",
      "2023-04-12 15:17:25,321 - INFO - allennlp.nn.initializers -    _attention.value.weight\n",
      "2023-04-12 15:17:25,321 - INFO - allennlp.nn.initializers -    _feedforward._linear_layers.0.bias\n",
      "2023-04-12 15:17:25,322 - INFO - allennlp.nn.initializers -    _feedforward._linear_layers.0.weight\n",
      "2023-04-12 15:17:25,323 - INFO - allennlp.nn.initializers -    crf._constraint_mask\n",
      "2023-04-12 15:17:25,323 - INFO - allennlp.nn.initializers -    crf.transitions\n",
      "2023-04-12 15:17:25,324 - INFO - allennlp.nn.initializers -    encoder._module.bias_hh_l0\n",
      "2023-04-12 15:17:25,325 - INFO - allennlp.nn.initializers -    encoder._module.bias_hh_l0_reverse\n",
      "2023-04-12 15:17:25,326 - INFO - allennlp.nn.initializers -    encoder._module.bias_ih_l0\n",
      "2023-04-12 15:17:25,326 - INFO - allennlp.nn.initializers -    encoder._module.bias_ih_l0_reverse\n",
      "2023-04-12 15:17:25,327 - INFO - allennlp.nn.initializers -    encoder._module.weight_hh_l0\n",
      "2023-04-12 15:17:25,327 - INFO - allennlp.nn.initializers -    encoder._module.weight_hh_l0_reverse\n",
      "2023-04-12 15:17:25,328 - INFO - allennlp.nn.initializers -    encoder._module.weight_ih_l0\n",
      "2023-04-12 15:17:25,329 - INFO - allennlp.nn.initializers -    encoder._module.weight_ih_l0_reverse\n",
      "2023-04-12 15:17:25,329 - INFO - allennlp.nn.initializers -    tag_projection_layer._module.bias\n",
      "2023-04-12 15:17:25,330 - INFO - allennlp.nn.initializers -    tag_projection_layer._module.weight\n",
      "2023-04-12 15:17:25,331 - INFO - allennlp.nn.initializers -    text_field_embedder.token_embedder_tokens.transformer_model.embeddings.LayerNorm.bias\n",
      "2023-04-12 15:17:25,331 - INFO - allennlp.nn.initializers -    text_field_embedder.token_embedder_tokens.transformer_model.embeddings.LayerNorm.weight\n",
      "2023-04-12 15:17:25,332 - INFO - allennlp.nn.initializers -    text_field_embedder.token_embedder_tokens.transformer_model.embeddings.position_embeddings.weight\n",
      "2023-04-12 15:17:25,333 - INFO - allennlp.nn.initializers -    text_field_embedder.token_embedder_tokens.transformer_model.embeddings.token_type_embeddings.weight\n",
      "2023-04-12 15:17:25,333 - INFO - allennlp.nn.initializers -    text_field_embedder.token_embedder_tokens.transformer_model.embeddings.word_embeddings.weight\n",
      "2023-04-12 15:17:25,334 - INFO - allennlp.nn.initializers -    text_field_embedder.token_embedder_tokens.transformer_model.encoder.layer.0.attention.output.LayerNorm.bias\n",
      "2023-04-12 15:17:25,335 - INFO - allennlp.nn.initializers -    text_field_embedder.token_embedder_tokens.transformer_model.encoder.layer.0.attention.output.LayerNorm.weight\n",
      "2023-04-12 15:17:25,335 - INFO - allennlp.nn.initializers -    text_field_embedder.token_embedder_tokens.transformer_model.encoder.layer.0.attention.output.dense.bias\n",
      "2023-04-12 15:17:25,336 - INFO - allennlp.nn.initializers -    text_field_embedder.token_embedder_tokens.transformer_model.encoder.layer.0.attention.output.dense.weight\n",
      "2023-04-12 15:17:25,336 - INFO - allennlp.nn.initializers -    text_field_embedder.token_embedder_tokens.transformer_model.encoder.layer.0.attention.self.key.bias\n",
      "2023-04-12 15:17:25,337 - INFO - allennlp.nn.initializers -    text_field_embedder.token_embedder_tokens.transformer_model.encoder.layer.0.attention.self.key.weight\n",
      "2023-04-12 15:17:25,338 - INFO - allennlp.nn.initializers -    text_field_embedder.token_embedder_tokens.transformer_model.encoder.layer.0.attention.self.query.bias\n",
      "2023-04-12 15:17:25,338 - INFO - allennlp.nn.initializers -    text_field_embedder.token_embedder_tokens.transformer_model.encoder.layer.0.attention.self.query.weight\n",
      "2023-04-12 15:17:25,339 - INFO - allennlp.nn.initializers -    text_field_embedder.token_embedder_tokens.transformer_model.encoder.layer.0.attention.self.value.bias\n",
      "2023-04-12 15:17:25,340 - INFO - allennlp.nn.initializers -    text_field_embedder.token_embedder_tokens.transformer_model.encoder.layer.0.attention.self.value.weight\n",
      "2023-04-12 15:17:25,341 - INFO - allennlp.nn.initializers -    text_field_embedder.token_embedder_tokens.transformer_model.encoder.layer.0.intermediate.dense.bias\n",
      "2023-04-12 15:17:25,341 - INFO - allennlp.nn.initializers -    text_field_embedder.token_embedder_tokens.transformer_model.encoder.layer.0.intermediate.dense.weight\n",
      "2023-04-12 15:17:25,342 - INFO - allennlp.nn.initializers -    text_field_embedder.token_embedder_tokens.transformer_model.encoder.layer.0.output.LayerNorm.bias\n",
      "2023-04-12 15:17:25,342 - INFO - allennlp.nn.initializers -    text_field_embedder.token_embedder_tokens.transformer_model.encoder.layer.0.output.LayerNorm.weight\n",
      "2023-04-12 15:17:25,343 - INFO - allennlp.nn.initializers -    text_field_embedder.token_embedder_tokens.transformer_model.encoder.layer.0.output.dense.bias\n",
      "2023-04-12 15:17:25,344 - INFO - allennlp.nn.initializers -    text_field_embedder.token_embedder_tokens.transformer_model.encoder.layer.0.output.dense.weight\n",
      "2023-04-12 15:17:25,344 - INFO - allennlp.nn.initializers -    text_field_embedder.token_embedder_tokens.transformer_model.encoder.layer.1.attention.output.LayerNorm.bias\n",
      "2023-04-12 15:17:25,345 - INFO - allennlp.nn.initializers -    text_field_embedder.token_embedder_tokens.transformer_model.encoder.layer.1.attention.output.LayerNorm.weight\n",
      "2023-04-12 15:17:25,345 - INFO - allennlp.nn.initializers -    text_field_embedder.token_embedder_tokens.transformer_model.encoder.layer.1.attention.output.dense.bias\n"
     ]
    },
    {
     "name": "stdout",
     "output_type": "stream",
     "text": [
      "2023-04-12 15:17:25,346 - INFO - allennlp.nn.initializers -    text_field_embedder.token_embedder_tokens.transformer_model.encoder.layer.1.attention.output.dense.weight\n",
      "2023-04-12 15:17:25,347 - INFO - allennlp.nn.initializers -    text_field_embedder.token_embedder_tokens.transformer_model.encoder.layer.1.attention.self.key.bias\n",
      "2023-04-12 15:17:25,347 - INFO - allennlp.nn.initializers -    text_field_embedder.token_embedder_tokens.transformer_model.encoder.layer.1.attention.self.key.weight\n",
      "2023-04-12 15:17:25,348 - INFO - allennlp.nn.initializers -    text_field_embedder.token_embedder_tokens.transformer_model.encoder.layer.1.attention.self.query.bias\n",
      "2023-04-12 15:17:25,349 - INFO - allennlp.nn.initializers -    text_field_embedder.token_embedder_tokens.transformer_model.encoder.layer.1.attention.self.query.weight\n",
      "2023-04-12 15:17:25,350 - INFO - allennlp.nn.initializers -    text_field_embedder.token_embedder_tokens.transformer_model.encoder.layer.1.attention.self.value.bias\n",
      "2023-04-12 15:17:25,350 - INFO - allennlp.nn.initializers -    text_field_embedder.token_embedder_tokens.transformer_model.encoder.layer.1.attention.self.value.weight\n",
      "2023-04-12 15:17:25,351 - INFO - allennlp.nn.initializers -    text_field_embedder.token_embedder_tokens.transformer_model.encoder.layer.1.intermediate.dense.bias\n",
      "2023-04-12 15:17:25,352 - INFO - allennlp.nn.initializers -    text_field_embedder.token_embedder_tokens.transformer_model.encoder.layer.1.intermediate.dense.weight\n",
      "2023-04-12 15:17:25,352 - INFO - allennlp.nn.initializers -    text_field_embedder.token_embedder_tokens.transformer_model.encoder.layer.1.output.LayerNorm.bias\n",
      "2023-04-12 15:17:25,353 - INFO - allennlp.nn.initializers -    text_field_embedder.token_embedder_tokens.transformer_model.encoder.layer.1.output.LayerNorm.weight\n",
      "2023-04-12 15:17:25,354 - INFO - allennlp.nn.initializers -    text_field_embedder.token_embedder_tokens.transformer_model.encoder.layer.1.output.dense.bias\n",
      "2023-04-12 15:17:25,354 - INFO - allennlp.nn.initializers -    text_field_embedder.token_embedder_tokens.transformer_model.encoder.layer.1.output.dense.weight\n",
      "2023-04-12 15:17:25,355 - INFO - allennlp.nn.initializers -    text_field_embedder.token_embedder_tokens.transformer_model.encoder.layer.10.attention.output.LayerNorm.bias\n",
      "2023-04-12 15:17:25,356 - INFO - allennlp.nn.initializers -    text_field_embedder.token_embedder_tokens.transformer_model.encoder.layer.10.attention.output.LayerNorm.weight\n",
      "2023-04-12 15:17:25,357 - INFO - allennlp.nn.initializers -    text_field_embedder.token_embedder_tokens.transformer_model.encoder.layer.10.attention.output.dense.bias\n",
      "2023-04-12 15:17:25,357 - INFO - allennlp.nn.initializers -    text_field_embedder.token_embedder_tokens.transformer_model.encoder.layer.10.attention.output.dense.weight\n",
      "2023-04-12 15:17:25,358 - INFO - allennlp.nn.initializers -    text_field_embedder.token_embedder_tokens.transformer_model.encoder.layer.10.attention.self.key.bias\n",
      "2023-04-12 15:17:25,358 - INFO - allennlp.nn.initializers -    text_field_embedder.token_embedder_tokens.transformer_model.encoder.layer.10.attention.self.key.weight\n",
      "2023-04-12 15:17:25,359 - INFO - allennlp.nn.initializers -    text_field_embedder.token_embedder_tokens.transformer_model.encoder.layer.10.attention.self.query.bias\n",
      "2023-04-12 15:17:25,360 - INFO - allennlp.nn.initializers -    text_field_embedder.token_embedder_tokens.transformer_model.encoder.layer.10.attention.self.query.weight\n",
      "2023-04-12 15:17:25,360 - INFO - allennlp.nn.initializers -    text_field_embedder.token_embedder_tokens.transformer_model.encoder.layer.10.attention.self.value.bias\n",
      "2023-04-12 15:17:25,361 - INFO - allennlp.nn.initializers -    text_field_embedder.token_embedder_tokens.transformer_model.encoder.layer.10.attention.self.value.weight\n",
      "2023-04-12 15:17:25,362 - INFO - allennlp.nn.initializers -    text_field_embedder.token_embedder_tokens.transformer_model.encoder.layer.10.intermediate.dense.bias\n",
      "2023-04-12 15:17:25,362 - INFO - allennlp.nn.initializers -    text_field_embedder.token_embedder_tokens.transformer_model.encoder.layer.10.intermediate.dense.weight\n",
      "2023-04-12 15:17:25,363 - INFO - allennlp.nn.initializers -    text_field_embedder.token_embedder_tokens.transformer_model.encoder.layer.10.output.LayerNorm.bias\n",
      "2023-04-12 15:17:25,363 - INFO - allennlp.nn.initializers -    text_field_embedder.token_embedder_tokens.transformer_model.encoder.layer.10.output.LayerNorm.weight\n",
      "2023-04-12 15:17:25,364 - INFO - allennlp.nn.initializers -    text_field_embedder.token_embedder_tokens.transformer_model.encoder.layer.10.output.dense.bias\n",
      "2023-04-12 15:17:25,365 - INFO - allennlp.nn.initializers -    text_field_embedder.token_embedder_tokens.transformer_model.encoder.layer.10.output.dense.weight\n",
      "2023-04-12 15:17:25,365 - INFO - allennlp.nn.initializers -    text_field_embedder.token_embedder_tokens.transformer_model.encoder.layer.11.attention.output.LayerNorm.bias\n",
      "2023-04-12 15:17:25,366 - INFO - allennlp.nn.initializers -    text_field_embedder.token_embedder_tokens.transformer_model.encoder.layer.11.attention.output.LayerNorm.weight\n",
      "2023-04-12 15:17:25,367 - INFO - allennlp.nn.initializers -    text_field_embedder.token_embedder_tokens.transformer_model.encoder.layer.11.attention.output.dense.bias\n",
      "2023-04-12 15:17:25,367 - INFO - allennlp.nn.initializers -    text_field_embedder.token_embedder_tokens.transformer_model.encoder.layer.11.attention.output.dense.weight\n",
      "2023-04-12 15:17:25,368 - INFO - allennlp.nn.initializers -    text_field_embedder.token_embedder_tokens.transformer_model.encoder.layer.11.attention.self.key.bias\n",
      "2023-04-12 15:17:25,368 - INFO - allennlp.nn.initializers -    text_field_embedder.token_embedder_tokens.transformer_model.encoder.layer.11.attention.self.key.weight\n",
      "2023-04-12 15:17:25,369 - INFO - allennlp.nn.initializers -    text_field_embedder.token_embedder_tokens.transformer_model.encoder.layer.11.attention.self.query.bias\n",
      "2023-04-12 15:17:25,369 - INFO - allennlp.nn.initializers -    text_field_embedder.token_embedder_tokens.transformer_model.encoder.layer.11.attention.self.query.weight\n",
      "2023-04-12 15:17:25,370 - INFO - allennlp.nn.initializers -    text_field_embedder.token_embedder_tokens.transformer_model.encoder.layer.11.attention.self.value.bias\n",
      "2023-04-12 15:17:25,370 - INFO - allennlp.nn.initializers -    text_field_embedder.token_embedder_tokens.transformer_model.encoder.layer.11.attention.self.value.weight\n",
      "2023-04-12 15:17:25,371 - INFO - allennlp.nn.initializers -    text_field_embedder.token_embedder_tokens.transformer_model.encoder.layer.11.intermediate.dense.bias\n",
      "2023-04-12 15:17:25,371 - INFO - allennlp.nn.initializers -    text_field_embedder.token_embedder_tokens.transformer_model.encoder.layer.11.intermediate.dense.weight\n",
      "2023-04-12 15:17:25,372 - INFO - allennlp.nn.initializers -    text_field_embedder.token_embedder_tokens.transformer_model.encoder.layer.11.output.LayerNorm.bias\n",
      "2023-04-12 15:17:25,373 - INFO - allennlp.nn.initializers -    text_field_embedder.token_embedder_tokens.transformer_model.encoder.layer.11.output.LayerNorm.weight\n",
      "2023-04-12 15:17:25,373 - INFO - allennlp.nn.initializers -    text_field_embedder.token_embedder_tokens.transformer_model.encoder.layer.11.output.dense.bias\n",
      "2023-04-12 15:17:25,374 - INFO - allennlp.nn.initializers -    text_field_embedder.token_embedder_tokens.transformer_model.encoder.layer.11.output.dense.weight\n",
      "2023-04-12 15:17:25,374 - INFO - allennlp.nn.initializers -    text_field_embedder.token_embedder_tokens.transformer_model.encoder.layer.2.attention.output.LayerNorm.bias\n",
      "2023-04-12 15:17:25,375 - INFO - allennlp.nn.initializers -    text_field_embedder.token_embedder_tokens.transformer_model.encoder.layer.2.attention.output.LayerNorm.weight\n",
      "2023-04-12 15:17:25,375 - INFO - allennlp.nn.initializers -    text_field_embedder.token_embedder_tokens.transformer_model.encoder.layer.2.attention.output.dense.bias\n",
      "2023-04-12 15:17:25,376 - INFO - allennlp.nn.initializers -    text_field_embedder.token_embedder_tokens.transformer_model.encoder.layer.2.attention.output.dense.weight\n",
      "2023-04-12 15:17:25,376 - INFO - allennlp.nn.initializers -    text_field_embedder.token_embedder_tokens.transformer_model.encoder.layer.2.attention.self.key.bias\n"
     ]
    },
    {
     "name": "stdout",
     "output_type": "stream",
     "text": [
      "2023-04-12 15:17:25,377 - INFO - allennlp.nn.initializers -    text_field_embedder.token_embedder_tokens.transformer_model.encoder.layer.2.attention.self.key.weight\n",
      "2023-04-12 15:17:25,377 - INFO - allennlp.nn.initializers -    text_field_embedder.token_embedder_tokens.transformer_model.encoder.layer.2.attention.self.query.bias\n",
      "2023-04-12 15:17:25,378 - INFO - allennlp.nn.initializers -    text_field_embedder.token_embedder_tokens.transformer_model.encoder.layer.2.attention.self.query.weight\n",
      "2023-04-12 15:17:25,379 - INFO - allennlp.nn.initializers -    text_field_embedder.token_embedder_tokens.transformer_model.encoder.layer.2.attention.self.value.bias\n",
      "2023-04-12 15:17:25,379 - INFO - allennlp.nn.initializers -    text_field_embedder.token_embedder_tokens.transformer_model.encoder.layer.2.attention.self.value.weight\n",
      "2023-04-12 15:17:25,380 - INFO - allennlp.nn.initializers -    text_field_embedder.token_embedder_tokens.transformer_model.encoder.layer.2.intermediate.dense.bias\n",
      "2023-04-12 15:17:25,381 - INFO - allennlp.nn.initializers -    text_field_embedder.token_embedder_tokens.transformer_model.encoder.layer.2.intermediate.dense.weight\n",
      "2023-04-12 15:17:25,381 - INFO - allennlp.nn.initializers -    text_field_embedder.token_embedder_tokens.transformer_model.encoder.layer.2.output.LayerNorm.bias\n",
      "2023-04-12 15:17:25,382 - INFO - allennlp.nn.initializers -    text_field_embedder.token_embedder_tokens.transformer_model.encoder.layer.2.output.LayerNorm.weight\n",
      "2023-04-12 15:17:25,383 - INFO - allennlp.nn.initializers -    text_field_embedder.token_embedder_tokens.transformer_model.encoder.layer.2.output.dense.bias\n",
      "2023-04-12 15:17:25,383 - INFO - allennlp.nn.initializers -    text_field_embedder.token_embedder_tokens.transformer_model.encoder.layer.2.output.dense.weight\n",
      "2023-04-12 15:17:25,384 - INFO - allennlp.nn.initializers -    text_field_embedder.token_embedder_tokens.transformer_model.encoder.layer.3.attention.output.LayerNorm.bias\n",
      "2023-04-12 15:17:25,385 - INFO - allennlp.nn.initializers -    text_field_embedder.token_embedder_tokens.transformer_model.encoder.layer.3.attention.output.LayerNorm.weight\n",
      "2023-04-12 15:17:25,385 - INFO - allennlp.nn.initializers -    text_field_embedder.token_embedder_tokens.transformer_model.encoder.layer.3.attention.output.dense.bias\n",
      "2023-04-12 15:17:25,386 - INFO - allennlp.nn.initializers -    text_field_embedder.token_embedder_tokens.transformer_model.encoder.layer.3.attention.output.dense.weight\n",
      "2023-04-12 15:17:25,386 - INFO - allennlp.nn.initializers -    text_field_embedder.token_embedder_tokens.transformer_model.encoder.layer.3.attention.self.key.bias\n",
      "2023-04-12 15:17:25,387 - INFO - allennlp.nn.initializers -    text_field_embedder.token_embedder_tokens.transformer_model.encoder.layer.3.attention.self.key.weight\n",
      "2023-04-12 15:17:25,388 - INFO - allennlp.nn.initializers -    text_field_embedder.token_embedder_tokens.transformer_model.encoder.layer.3.attention.self.query.bias\n",
      "2023-04-12 15:17:25,388 - INFO - allennlp.nn.initializers -    text_field_embedder.token_embedder_tokens.transformer_model.encoder.layer.3.attention.self.query.weight\n",
      "2023-04-12 15:17:25,389 - INFO - allennlp.nn.initializers -    text_field_embedder.token_embedder_tokens.transformer_model.encoder.layer.3.attention.self.value.bias\n",
      "2023-04-12 15:17:25,390 - INFO - allennlp.nn.initializers -    text_field_embedder.token_embedder_tokens.transformer_model.encoder.layer.3.attention.self.value.weight\n",
      "2023-04-12 15:17:25,390 - INFO - allennlp.nn.initializers -    text_field_embedder.token_embedder_tokens.transformer_model.encoder.layer.3.intermediate.dense.bias\n",
      "2023-04-12 15:17:25,391 - INFO - allennlp.nn.initializers -    text_field_embedder.token_embedder_tokens.transformer_model.encoder.layer.3.intermediate.dense.weight\n",
      "2023-04-12 15:17:25,391 - INFO - allennlp.nn.initializers -    text_field_embedder.token_embedder_tokens.transformer_model.encoder.layer.3.output.LayerNorm.bias\n",
      "2023-04-12 15:17:25,392 - INFO - allennlp.nn.initializers -    text_field_embedder.token_embedder_tokens.transformer_model.encoder.layer.3.output.LayerNorm.weight\n",
      "2023-04-12 15:17:25,393 - INFO - allennlp.nn.initializers -    text_field_embedder.token_embedder_tokens.transformer_model.encoder.layer.3.output.dense.bias\n",
      "2023-04-12 15:17:25,393 - INFO - allennlp.nn.initializers -    text_field_embedder.token_embedder_tokens.transformer_model.encoder.layer.3.output.dense.weight\n",
      "2023-04-12 15:17:25,394 - INFO - allennlp.nn.initializers -    text_field_embedder.token_embedder_tokens.transformer_model.encoder.layer.4.attention.output.LayerNorm.bias\n",
      "2023-04-12 15:17:25,394 - INFO - allennlp.nn.initializers -    text_field_embedder.token_embedder_tokens.transformer_model.encoder.layer.4.attention.output.LayerNorm.weight\n",
      "2023-04-12 15:17:25,395 - INFO - allennlp.nn.initializers -    text_field_embedder.token_embedder_tokens.transformer_model.encoder.layer.4.attention.output.dense.bias\n",
      "2023-04-12 15:17:25,396 - INFO - allennlp.nn.initializers -    text_field_embedder.token_embedder_tokens.transformer_model.encoder.layer.4.attention.output.dense.weight\n",
      "2023-04-12 15:17:25,396 - INFO - allennlp.nn.initializers -    text_field_embedder.token_embedder_tokens.transformer_model.encoder.layer.4.attention.self.key.bias\n",
      "2023-04-12 15:17:25,397 - INFO - allennlp.nn.initializers -    text_field_embedder.token_embedder_tokens.transformer_model.encoder.layer.4.attention.self.key.weight\n",
      "2023-04-12 15:17:25,398 - INFO - allennlp.nn.initializers -    text_field_embedder.token_embedder_tokens.transformer_model.encoder.layer.4.attention.self.query.bias\n",
      "2023-04-12 15:17:25,399 - INFO - allennlp.nn.initializers -    text_field_embedder.token_embedder_tokens.transformer_model.encoder.layer.4.attention.self.query.weight\n",
      "2023-04-12 15:17:25,400 - INFO - allennlp.nn.initializers -    text_field_embedder.token_embedder_tokens.transformer_model.encoder.layer.4.attention.self.value.bias\n",
      "2023-04-12 15:17:25,400 - INFO - allennlp.nn.initializers -    text_field_embedder.token_embedder_tokens.transformer_model.encoder.layer.4.attention.self.value.weight\n",
      "2023-04-12 15:17:25,401 - INFO - allennlp.nn.initializers -    text_field_embedder.token_embedder_tokens.transformer_model.encoder.layer.4.intermediate.dense.bias\n",
      "2023-04-12 15:17:25,401 - INFO - allennlp.nn.initializers -    text_field_embedder.token_embedder_tokens.transformer_model.encoder.layer.4.intermediate.dense.weight\n",
      "2023-04-12 15:17:25,402 - INFO - allennlp.nn.initializers -    text_field_embedder.token_embedder_tokens.transformer_model.encoder.layer.4.output.LayerNorm.bias\n",
      "2023-04-12 15:17:25,403 - INFO - allennlp.nn.initializers -    text_field_embedder.token_embedder_tokens.transformer_model.encoder.layer.4.output.LayerNorm.weight\n",
      "2023-04-12 15:17:25,403 - INFO - allennlp.nn.initializers -    text_field_embedder.token_embedder_tokens.transformer_model.encoder.layer.4.output.dense.bias\n",
      "2023-04-12 15:17:25,404 - INFO - allennlp.nn.initializers -    text_field_embedder.token_embedder_tokens.transformer_model.encoder.layer.4.output.dense.weight\n",
      "2023-04-12 15:17:25,405 - INFO - allennlp.nn.initializers -    text_field_embedder.token_embedder_tokens.transformer_model.encoder.layer.5.attention.output.LayerNorm.bias\n",
      "2023-04-12 15:17:25,405 - INFO - allennlp.nn.initializers -    text_field_embedder.token_embedder_tokens.transformer_model.encoder.layer.5.attention.output.LayerNorm.weight\n",
      "2023-04-12 15:17:25,406 - INFO - allennlp.nn.initializers -    text_field_embedder.token_embedder_tokens.transformer_model.encoder.layer.5.attention.output.dense.bias\n",
      "2023-04-12 15:17:25,407 - INFO - allennlp.nn.initializers -    text_field_embedder.token_embedder_tokens.transformer_model.encoder.layer.5.attention.output.dense.weight\n",
      "2023-04-12 15:17:25,407 - INFO - allennlp.nn.initializers -    text_field_embedder.token_embedder_tokens.transformer_model.encoder.layer.5.attention.self.key.bias\n",
      "2023-04-12 15:17:25,408 - INFO - allennlp.nn.initializers -    text_field_embedder.token_embedder_tokens.transformer_model.encoder.layer.5.attention.self.key.weight\n",
      "2023-04-12 15:17:25,408 - INFO - allennlp.nn.initializers -    text_field_embedder.token_embedder_tokens.transformer_model.encoder.layer.5.attention.self.query.bias\n"
     ]
    },
    {
     "name": "stdout",
     "output_type": "stream",
     "text": [
      "2023-04-12 15:17:25,409 - INFO - allennlp.nn.initializers -    text_field_embedder.token_embedder_tokens.transformer_model.encoder.layer.5.attention.self.query.weight\n",
      "2023-04-12 15:17:25,410 - INFO - allennlp.nn.initializers -    text_field_embedder.token_embedder_tokens.transformer_model.encoder.layer.5.attention.self.value.bias\n",
      "2023-04-12 15:17:25,410 - INFO - allennlp.nn.initializers -    text_field_embedder.token_embedder_tokens.transformer_model.encoder.layer.5.attention.self.value.weight\n",
      "2023-04-12 15:17:25,411 - INFO - allennlp.nn.initializers -    text_field_embedder.token_embedder_tokens.transformer_model.encoder.layer.5.intermediate.dense.bias\n",
      "2023-04-12 15:17:25,412 - INFO - allennlp.nn.initializers -    text_field_embedder.token_embedder_tokens.transformer_model.encoder.layer.5.intermediate.dense.weight\n",
      "2023-04-12 15:17:25,412 - INFO - allennlp.nn.initializers -    text_field_embedder.token_embedder_tokens.transformer_model.encoder.layer.5.output.LayerNorm.bias\n",
      "2023-04-12 15:17:25,413 - INFO - allennlp.nn.initializers -    text_field_embedder.token_embedder_tokens.transformer_model.encoder.layer.5.output.LayerNorm.weight\n",
      "2023-04-12 15:17:25,413 - INFO - allennlp.nn.initializers -    text_field_embedder.token_embedder_tokens.transformer_model.encoder.layer.5.output.dense.bias\n",
      "2023-04-12 15:17:25,414 - INFO - allennlp.nn.initializers -    text_field_embedder.token_embedder_tokens.transformer_model.encoder.layer.5.output.dense.weight\n",
      "2023-04-12 15:17:25,415 - INFO - allennlp.nn.initializers -    text_field_embedder.token_embedder_tokens.transformer_model.encoder.layer.6.attention.output.LayerNorm.bias\n",
      "2023-04-12 15:17:25,415 - INFO - allennlp.nn.initializers -    text_field_embedder.token_embedder_tokens.transformer_model.encoder.layer.6.attention.output.LayerNorm.weight\n",
      "2023-04-12 15:17:25,416 - INFO - allennlp.nn.initializers -    text_field_embedder.token_embedder_tokens.transformer_model.encoder.layer.6.attention.output.dense.bias\n",
      "2023-04-12 15:17:25,417 - INFO - allennlp.nn.initializers -    text_field_embedder.token_embedder_tokens.transformer_model.encoder.layer.6.attention.output.dense.weight\n",
      "2023-04-12 15:17:25,417 - INFO - allennlp.nn.initializers -    text_field_embedder.token_embedder_tokens.transformer_model.encoder.layer.6.attention.self.key.bias\n",
      "2023-04-12 15:17:25,418 - INFO - allennlp.nn.initializers -    text_field_embedder.token_embedder_tokens.transformer_model.encoder.layer.6.attention.self.key.weight\n",
      "2023-04-12 15:17:25,418 - INFO - allennlp.nn.initializers -    text_field_embedder.token_embedder_tokens.transformer_model.encoder.layer.6.attention.self.query.bias\n",
      "2023-04-12 15:17:25,419 - INFO - allennlp.nn.initializers -    text_field_embedder.token_embedder_tokens.transformer_model.encoder.layer.6.attention.self.query.weight\n",
      "2023-04-12 15:17:25,420 - INFO - allennlp.nn.initializers -    text_field_embedder.token_embedder_tokens.transformer_model.encoder.layer.6.attention.self.value.bias\n",
      "2023-04-12 15:17:25,420 - INFO - allennlp.nn.initializers -    text_field_embedder.token_embedder_tokens.transformer_model.encoder.layer.6.attention.self.value.weight\n",
      "2023-04-12 15:17:25,421 - INFO - allennlp.nn.initializers -    text_field_embedder.token_embedder_tokens.transformer_model.encoder.layer.6.intermediate.dense.bias\n",
      "2023-04-12 15:17:25,421 - INFO - allennlp.nn.initializers -    text_field_embedder.token_embedder_tokens.transformer_model.encoder.layer.6.intermediate.dense.weight\n",
      "2023-04-12 15:17:25,422 - INFO - allennlp.nn.initializers -    text_field_embedder.token_embedder_tokens.transformer_model.encoder.layer.6.output.LayerNorm.bias\n",
      "2023-04-12 15:17:25,423 - INFO - allennlp.nn.initializers -    text_field_embedder.token_embedder_tokens.transformer_model.encoder.layer.6.output.LayerNorm.weight\n",
      "2023-04-12 15:17:25,423 - INFO - allennlp.nn.initializers -    text_field_embedder.token_embedder_tokens.transformer_model.encoder.layer.6.output.dense.bias\n",
      "2023-04-12 15:17:25,424 - INFO - allennlp.nn.initializers -    text_field_embedder.token_embedder_tokens.transformer_model.encoder.layer.6.output.dense.weight\n",
      "2023-04-12 15:17:25,424 - INFO - allennlp.nn.initializers -    text_field_embedder.token_embedder_tokens.transformer_model.encoder.layer.7.attention.output.LayerNorm.bias\n",
      "2023-04-12 15:17:25,425 - INFO - allennlp.nn.initializers -    text_field_embedder.token_embedder_tokens.transformer_model.encoder.layer.7.attention.output.LayerNorm.weight\n",
      "2023-04-12 15:17:25,425 - INFO - allennlp.nn.initializers -    text_field_embedder.token_embedder_tokens.transformer_model.encoder.layer.7.attention.output.dense.bias\n",
      "2023-04-12 15:17:25,426 - INFO - allennlp.nn.initializers -    text_field_embedder.token_embedder_tokens.transformer_model.encoder.layer.7.attention.output.dense.weight\n",
      "2023-04-12 15:17:25,426 - INFO - allennlp.nn.initializers -    text_field_embedder.token_embedder_tokens.transformer_model.encoder.layer.7.attention.self.key.bias\n",
      "2023-04-12 15:17:25,427 - INFO - allennlp.nn.initializers -    text_field_embedder.token_embedder_tokens.transformer_model.encoder.layer.7.attention.self.key.weight\n",
      "2023-04-12 15:17:25,428 - INFO - allennlp.nn.initializers -    text_field_embedder.token_embedder_tokens.transformer_model.encoder.layer.7.attention.self.query.bias\n",
      "2023-04-12 15:17:25,428 - INFO - allennlp.nn.initializers -    text_field_embedder.token_embedder_tokens.transformer_model.encoder.layer.7.attention.self.query.weight\n",
      "2023-04-12 15:17:25,429 - INFO - allennlp.nn.initializers -    text_field_embedder.token_embedder_tokens.transformer_model.encoder.layer.7.attention.self.value.bias\n",
      "2023-04-12 15:17:25,429 - INFO - allennlp.nn.initializers -    text_field_embedder.token_embedder_tokens.transformer_model.encoder.layer.7.attention.self.value.weight\n",
      "2023-04-12 15:17:25,430 - INFO - allennlp.nn.initializers -    text_field_embedder.token_embedder_tokens.transformer_model.encoder.layer.7.intermediate.dense.bias\n",
      "2023-04-12 15:17:25,431 - INFO - allennlp.nn.initializers -    text_field_embedder.token_embedder_tokens.transformer_model.encoder.layer.7.intermediate.dense.weight\n",
      "2023-04-12 15:17:25,432 - INFO - allennlp.nn.initializers -    text_field_embedder.token_embedder_tokens.transformer_model.encoder.layer.7.output.LayerNorm.bias\n",
      "2023-04-12 15:17:25,432 - INFO - allennlp.nn.initializers -    text_field_embedder.token_embedder_tokens.transformer_model.encoder.layer.7.output.LayerNorm.weight\n",
      "2023-04-12 15:17:25,433 - INFO - allennlp.nn.initializers -    text_field_embedder.token_embedder_tokens.transformer_model.encoder.layer.7.output.dense.bias\n",
      "2023-04-12 15:17:25,434 - INFO - allennlp.nn.initializers -    text_field_embedder.token_embedder_tokens.transformer_model.encoder.layer.7.output.dense.weight\n",
      "2023-04-12 15:17:25,434 - INFO - allennlp.nn.initializers -    text_field_embedder.token_embedder_tokens.transformer_model.encoder.layer.8.attention.output.LayerNorm.bias\n",
      "2023-04-12 15:17:25,435 - INFO - allennlp.nn.initializers -    text_field_embedder.token_embedder_tokens.transformer_model.encoder.layer.8.attention.output.LayerNorm.weight\n",
      "2023-04-12 15:17:25,436 - INFO - allennlp.nn.initializers -    text_field_embedder.token_embedder_tokens.transformer_model.encoder.layer.8.attention.output.dense.bias\n",
      "2023-04-12 15:17:25,436 - INFO - allennlp.nn.initializers -    text_field_embedder.token_embedder_tokens.transformer_model.encoder.layer.8.attention.output.dense.weight\n",
      "2023-04-12 15:17:25,437 - INFO - allennlp.nn.initializers -    text_field_embedder.token_embedder_tokens.transformer_model.encoder.layer.8.attention.self.key.bias\n",
      "2023-04-12 15:17:25,438 - INFO - allennlp.nn.initializers -    text_field_embedder.token_embedder_tokens.transformer_model.encoder.layer.8.attention.self.key.weight\n",
      "2023-04-12 15:17:25,438 - INFO - allennlp.nn.initializers -    text_field_embedder.token_embedder_tokens.transformer_model.encoder.layer.8.attention.self.query.bias\n",
      "2023-04-12 15:17:25,439 - INFO - allennlp.nn.initializers -    text_field_embedder.token_embedder_tokens.transformer_model.encoder.layer.8.attention.self.query.weight\n",
      "2023-04-12 15:17:25,440 - INFO - allennlp.nn.initializers -    text_field_embedder.token_embedder_tokens.transformer_model.encoder.layer.8.attention.self.value.bias\n"
     ]
    },
    {
     "name": "stdout",
     "output_type": "stream",
     "text": [
      "2023-04-12 15:17:25,440 - INFO - allennlp.nn.initializers -    text_field_embedder.token_embedder_tokens.transformer_model.encoder.layer.8.attention.self.value.weight\n",
      "2023-04-12 15:17:25,441 - INFO - allennlp.nn.initializers -    text_field_embedder.token_embedder_tokens.transformer_model.encoder.layer.8.intermediate.dense.bias\n",
      "2023-04-12 15:17:25,442 - INFO - allennlp.nn.initializers -    text_field_embedder.token_embedder_tokens.transformer_model.encoder.layer.8.intermediate.dense.weight\n",
      "2023-04-12 15:17:25,443 - INFO - allennlp.nn.initializers -    text_field_embedder.token_embedder_tokens.transformer_model.encoder.layer.8.output.LayerNorm.bias\n",
      "2023-04-12 15:17:25,443 - INFO - allennlp.nn.initializers -    text_field_embedder.token_embedder_tokens.transformer_model.encoder.layer.8.output.LayerNorm.weight\n",
      "2023-04-12 15:17:25,444 - INFO - allennlp.nn.initializers -    text_field_embedder.token_embedder_tokens.transformer_model.encoder.layer.8.output.dense.bias\n",
      "2023-04-12 15:17:25,444 - INFO - allennlp.nn.initializers -    text_field_embedder.token_embedder_tokens.transformer_model.encoder.layer.8.output.dense.weight\n",
      "2023-04-12 15:17:25,445 - INFO - allennlp.nn.initializers -    text_field_embedder.token_embedder_tokens.transformer_model.encoder.layer.9.attention.output.LayerNorm.bias\n",
      "2023-04-12 15:17:25,446 - INFO - allennlp.nn.initializers -    text_field_embedder.token_embedder_tokens.transformer_model.encoder.layer.9.attention.output.LayerNorm.weight\n",
      "2023-04-12 15:17:25,446 - INFO - allennlp.nn.initializers -    text_field_embedder.token_embedder_tokens.transformer_model.encoder.layer.9.attention.output.dense.bias\n",
      "2023-04-12 15:17:25,447 - INFO - allennlp.nn.initializers -    text_field_embedder.token_embedder_tokens.transformer_model.encoder.layer.9.attention.output.dense.weight\n",
      "2023-04-12 15:17:25,448 - INFO - allennlp.nn.initializers -    text_field_embedder.token_embedder_tokens.transformer_model.encoder.layer.9.attention.self.key.bias\n",
      "2023-04-12 15:17:25,449 - INFO - allennlp.nn.initializers -    text_field_embedder.token_embedder_tokens.transformer_model.encoder.layer.9.attention.self.key.weight\n",
      "2023-04-12 15:17:25,450 - INFO - allennlp.nn.initializers -    text_field_embedder.token_embedder_tokens.transformer_model.encoder.layer.9.attention.self.query.bias\n",
      "2023-04-12 15:17:25,450 - INFO - allennlp.nn.initializers -    text_field_embedder.token_embedder_tokens.transformer_model.encoder.layer.9.attention.self.query.weight\n",
      "2023-04-12 15:17:25,451 - INFO - allennlp.nn.initializers -    text_field_embedder.token_embedder_tokens.transformer_model.encoder.layer.9.attention.self.value.bias\n",
      "2023-04-12 15:17:25,451 - INFO - allennlp.nn.initializers -    text_field_embedder.token_embedder_tokens.transformer_model.encoder.layer.9.attention.self.value.weight\n",
      "2023-04-12 15:17:25,452 - INFO - allennlp.nn.initializers -    text_field_embedder.token_embedder_tokens.transformer_model.encoder.layer.9.intermediate.dense.bias\n",
      "2023-04-12 15:17:25,453 - INFO - allennlp.nn.initializers -    text_field_embedder.token_embedder_tokens.transformer_model.encoder.layer.9.intermediate.dense.weight\n",
      "2023-04-12 15:17:25,453 - INFO - allennlp.nn.initializers -    text_field_embedder.token_embedder_tokens.transformer_model.encoder.layer.9.output.LayerNorm.bias\n",
      "2023-04-12 15:17:25,454 - INFO - allennlp.nn.initializers -    text_field_embedder.token_embedder_tokens.transformer_model.encoder.layer.9.output.LayerNorm.weight\n",
      "2023-04-12 15:17:25,455 - INFO - allennlp.nn.initializers -    text_field_embedder.token_embedder_tokens.transformer_model.encoder.layer.9.output.dense.bias\n",
      "2023-04-12 15:17:25,456 - INFO - allennlp.nn.initializers -    text_field_embedder.token_embedder_tokens.transformer_model.encoder.layer.9.output.dense.weight\n",
      "2023-04-12 15:17:25,456 - INFO - allennlp.nn.initializers -    text_field_embedder.token_embedder_tokens.transformer_model.pooler.dense.bias\n",
      "2023-04-12 15:17:25,457 - INFO - allennlp.nn.initializers -    text_field_embedder.token_embedder_tokens.transformer_model.pooler.dense.weight\n",
      "2023-04-12 15:17:25,458 - INFO - filelock - Lock 140616106977648 acquired on /Users/rubenkruiper/dev/irec/SPaR.txt/trained_models/debugger_train/vocabulary/.lock\n",
      "2023-04-12 15:17:25,460 - INFO - filelock - Lock 140616106977648 released on /Users/rubenkruiper/dev/irec/SPaR.txt/trained_models/debugger_train/vocabulary/.lock\n",
      "2023-04-12 15:17:25,480 - INFO - allennlp.common.params - trainer.type = gradient_descent\n",
      "2023-04-12 15:17:25,481 - INFO - allennlp.common.params - trainer.cuda_device = -1\n",
      "2023-04-12 15:17:25,482 - INFO - allennlp.common.params - trainer.distributed = False\n",
      "2023-04-12 15:17:25,483 - INFO - allennlp.common.params - trainer.world_size = 1\n",
      "2023-04-12 15:17:25,483 - INFO - allennlp.common.params - trainer.patience = 20\n",
      "2023-04-12 15:17:25,484 - INFO - allennlp.common.params - trainer.validation_metric = +f1-measure-overall\n",
      "2023-04-12 15:17:25,485 - INFO - allennlp.common.params - trainer.num_epochs = 50\n",
      "2023-04-12 15:17:25,486 - INFO - allennlp.common.params - trainer.grad_norm = 1\n",
      "2023-04-12 15:17:25,487 - INFO - allennlp.common.params - trainer.grad_clipping = None\n",
      "2023-04-12 15:17:25,487 - INFO - allennlp.common.params - trainer.num_gradient_accumulation_steps = 1\n",
      "2023-04-12 15:17:25,488 - INFO - allennlp.common.params - trainer.use_amp = False\n",
      "2023-04-12 15:17:25,489 - INFO - allennlp.common.params - trainer.no_grad = None\n",
      "2023-04-12 15:17:25,490 - INFO - allennlp.common.params - trainer.momentum_scheduler = None\n",
      "2023-04-12 15:17:25,491 - INFO - allennlp.common.params - trainer.moving_average = None\n",
      "2023-04-12 15:17:25,491 - INFO - allennlp.common.params - trainer.checkpointer = <allennlp.common.lazy.Lazy object at 0x7fe3b3383280>\n",
      "2023-04-12 15:17:25,492 - INFO - allennlp.common.params - trainer.enable_default_callbacks = True\n",
      "2023-04-12 15:17:25,493 - INFO - allennlp.common.params - trainer.run_confidence_checks = True\n",
      "2023-04-12 15:17:25,494 - INFO - allennlp.common.params - trainer.optimizer.type = huggingface_adamw\n",
      "2023-04-12 15:17:25,495 - INFO - allennlp.common.params - trainer.optimizer.lr = 0.005\n",
      "2023-04-12 15:17:25,496 - INFO - allennlp.common.params - trainer.optimizer.betas = (0.9, 0.999)\n",
      "2023-04-12 15:17:25,497 - INFO - allennlp.common.params - trainer.optimizer.eps = 1e-08\n",
      "2023-04-12 15:17:25,498 - INFO - allennlp.common.params - trainer.optimizer.weight_decay = 0.1\n",
      "2023-04-12 15:17:25,499 - INFO - allennlp.common.params - trainer.optimizer.correct_bias = True\n",
      "2023-04-12 15:17:25,500 - INFO - allennlp.training.optimizers - Done constructing parameter groups.\n",
      "2023-04-12 15:17:25,501 - INFO - allennlp.training.optimizers - Group 0: ['encoder._module.bias_ih_l0', '_attention.value.bias', '_attention.key.bias', '_feedforward._linear_layers.0.bias', 'encoder._module.bias_ih_l0_reverse', 'encoder._module.bias_hh_l0', '_attention.query.bias', 'tag_projection_layer._module.bias', 'encoder._module.bias_hh_l0_reverse'], {'weight_decay': 0.05}\n",
      "2023-04-12 15:17:25,502 - INFO - allennlp.training.optimizers - Group 1: ['encoder._module.weight_hh_l0_reverse', '_feedforward._linear_layers.0.weight', '_attention.Er', 'encoder._module.weight_hh_l0', 'encoder._module.weight_ih_l0_reverse', 'tag_projection_layer._module.weight', '_attention.key.weight', '_attention.value.weight', '_attention.query.weight', 'crf.transitions', 'encoder._module.weight_ih_l0'], {}\n",
      "2023-04-12 15:17:25,502 - WARNING - allennlp.training.optimizers - When constructing parameter groups, LayerNorm\\.weight does not match any parameter name\n",
      "2023-04-12 15:17:25,503 - WARNING - allennlp.training.optimizers - When constructing parameter groups, layer_norm\\.weight does not match any parameter name\n",
      "2023-04-12 15:17:25,504 - INFO - allennlp.training.optimizers - Number of trainable parameters: 5475582\n",
      "2023-04-12 15:17:25,505 - INFO - allennlp.common.util - The following parameters are Frozen (without gradient):\n",
      "2023-04-12 15:17:25,506 - INFO - allennlp.common.util - text_field_embedder.token_embedder_tokens.transformer_model.embeddings.word_embeddings.weight\n",
      "2023-04-12 15:17:25,506 - INFO - allennlp.common.util - text_field_embedder.token_embedder_tokens.transformer_model.embeddings.position_embeddings.weight\n"
     ]
    },
    {
     "name": "stdout",
     "output_type": "stream",
     "text": [
      "2023-04-12 15:17:25,507 - INFO - allennlp.common.util - text_field_embedder.token_embedder_tokens.transformer_model.embeddings.token_type_embeddings.weight\n",
      "2023-04-12 15:17:25,508 - INFO - allennlp.common.util - text_field_embedder.token_embedder_tokens.transformer_model.embeddings.LayerNorm.weight\n",
      "2023-04-12 15:17:25,508 - INFO - allennlp.common.util - text_field_embedder.token_embedder_tokens.transformer_model.embeddings.LayerNorm.bias\n",
      "2023-04-12 15:17:25,509 - INFO - allennlp.common.util - text_field_embedder.token_embedder_tokens.transformer_model.encoder.layer.0.attention.self.query.weight\n",
      "2023-04-12 15:17:25,510 - INFO - allennlp.common.util - text_field_embedder.token_embedder_tokens.transformer_model.encoder.layer.0.attention.self.query.bias\n",
      "2023-04-12 15:17:25,510 - INFO - allennlp.common.util - text_field_embedder.token_embedder_tokens.transformer_model.encoder.layer.0.attention.self.key.weight\n",
      "2023-04-12 15:17:25,511 - INFO - allennlp.common.util - text_field_embedder.token_embedder_tokens.transformer_model.encoder.layer.0.attention.self.key.bias\n",
      "2023-04-12 15:17:25,512 - INFO - allennlp.common.util - text_field_embedder.token_embedder_tokens.transformer_model.encoder.layer.0.attention.self.value.weight\n",
      "2023-04-12 15:17:25,512 - INFO - allennlp.common.util - text_field_embedder.token_embedder_tokens.transformer_model.encoder.layer.0.attention.self.value.bias\n",
      "2023-04-12 15:17:25,513 - INFO - allennlp.common.util - text_field_embedder.token_embedder_tokens.transformer_model.encoder.layer.0.attention.output.dense.weight\n",
      "2023-04-12 15:17:25,513 - INFO - allennlp.common.util - text_field_embedder.token_embedder_tokens.transformer_model.encoder.layer.0.attention.output.dense.bias\n",
      "2023-04-12 15:17:25,514 - INFO - allennlp.common.util - text_field_embedder.token_embedder_tokens.transformer_model.encoder.layer.0.attention.output.LayerNorm.weight\n",
      "2023-04-12 15:17:25,515 - INFO - allennlp.common.util - text_field_embedder.token_embedder_tokens.transformer_model.encoder.layer.0.attention.output.LayerNorm.bias\n",
      "2023-04-12 15:17:25,515 - INFO - allennlp.common.util - text_field_embedder.token_embedder_tokens.transformer_model.encoder.layer.0.intermediate.dense.weight\n",
      "2023-04-12 15:17:25,516 - INFO - allennlp.common.util - text_field_embedder.token_embedder_tokens.transformer_model.encoder.layer.0.intermediate.dense.bias\n",
      "2023-04-12 15:17:25,517 - INFO - allennlp.common.util - text_field_embedder.token_embedder_tokens.transformer_model.encoder.layer.0.output.dense.weight\n",
      "2023-04-12 15:17:25,517 - INFO - allennlp.common.util - text_field_embedder.token_embedder_tokens.transformer_model.encoder.layer.0.output.dense.bias\n",
      "2023-04-12 15:17:25,518 - INFO - allennlp.common.util - text_field_embedder.token_embedder_tokens.transformer_model.encoder.layer.0.output.LayerNorm.weight\n",
      "2023-04-12 15:17:25,518 - INFO - allennlp.common.util - text_field_embedder.token_embedder_tokens.transformer_model.encoder.layer.0.output.LayerNorm.bias\n",
      "2023-04-12 15:17:25,519 - INFO - allennlp.common.util - text_field_embedder.token_embedder_tokens.transformer_model.encoder.layer.1.attention.self.query.weight\n",
      "2023-04-12 15:17:25,520 - INFO - allennlp.common.util - text_field_embedder.token_embedder_tokens.transformer_model.encoder.layer.1.attention.self.query.bias\n",
      "2023-04-12 15:17:25,520 - INFO - allennlp.common.util - text_field_embedder.token_embedder_tokens.transformer_model.encoder.layer.1.attention.self.key.weight\n",
      "2023-04-12 15:17:25,521 - INFO - allennlp.common.util - text_field_embedder.token_embedder_tokens.transformer_model.encoder.layer.1.attention.self.key.bias\n",
      "2023-04-12 15:17:25,522 - INFO - allennlp.common.util - text_field_embedder.token_embedder_tokens.transformer_model.encoder.layer.1.attention.self.value.weight\n",
      "2023-04-12 15:17:25,522 - INFO - allennlp.common.util - text_field_embedder.token_embedder_tokens.transformer_model.encoder.layer.1.attention.self.value.bias\n",
      "2023-04-12 15:17:25,523 - INFO - allennlp.common.util - text_field_embedder.token_embedder_tokens.transformer_model.encoder.layer.1.attention.output.dense.weight\n",
      "2023-04-12 15:17:25,524 - INFO - allennlp.common.util - text_field_embedder.token_embedder_tokens.transformer_model.encoder.layer.1.attention.output.dense.bias\n",
      "2023-04-12 15:17:25,524 - INFO - allennlp.common.util - text_field_embedder.token_embedder_tokens.transformer_model.encoder.layer.1.attention.output.LayerNorm.weight\n",
      "2023-04-12 15:17:25,525 - INFO - allennlp.common.util - text_field_embedder.token_embedder_tokens.transformer_model.encoder.layer.1.attention.output.LayerNorm.bias\n",
      "2023-04-12 15:17:25,525 - INFO - allennlp.common.util - text_field_embedder.token_embedder_tokens.transformer_model.encoder.layer.1.intermediate.dense.weight\n",
      "2023-04-12 15:17:25,526 - INFO - allennlp.common.util - text_field_embedder.token_embedder_tokens.transformer_model.encoder.layer.1.intermediate.dense.bias\n",
      "2023-04-12 15:17:25,526 - INFO - allennlp.common.util - text_field_embedder.token_embedder_tokens.transformer_model.encoder.layer.1.output.dense.weight\n",
      "2023-04-12 15:17:25,527 - INFO - allennlp.common.util - text_field_embedder.token_embedder_tokens.transformer_model.encoder.layer.1.output.dense.bias\n",
      "2023-04-12 15:17:25,527 - INFO - allennlp.common.util - text_field_embedder.token_embedder_tokens.transformer_model.encoder.layer.1.output.LayerNorm.weight\n",
      "2023-04-12 15:17:25,528 - INFO - allennlp.common.util - text_field_embedder.token_embedder_tokens.transformer_model.encoder.layer.1.output.LayerNorm.bias\n",
      "2023-04-12 15:17:25,529 - INFO - allennlp.common.util - text_field_embedder.token_embedder_tokens.transformer_model.encoder.layer.2.attention.self.query.weight\n",
      "2023-04-12 15:17:25,529 - INFO - allennlp.common.util - text_field_embedder.token_embedder_tokens.transformer_model.encoder.layer.2.attention.self.query.bias\n",
      "2023-04-12 15:17:25,530 - INFO - allennlp.common.util - text_field_embedder.token_embedder_tokens.transformer_model.encoder.layer.2.attention.self.key.weight\n",
      "2023-04-12 15:17:25,531 - INFO - allennlp.common.util - text_field_embedder.token_embedder_tokens.transformer_model.encoder.layer.2.attention.self.key.bias\n",
      "2023-04-12 15:17:25,531 - INFO - allennlp.common.util - text_field_embedder.token_embedder_tokens.transformer_model.encoder.layer.2.attention.self.value.weight\n",
      "2023-04-12 15:17:25,532 - INFO - allennlp.common.util - text_field_embedder.token_embedder_tokens.transformer_model.encoder.layer.2.attention.self.value.bias\n",
      "2023-04-12 15:17:25,533 - INFO - allennlp.common.util - text_field_embedder.token_embedder_tokens.transformer_model.encoder.layer.2.attention.output.dense.weight\n",
      "2023-04-12 15:17:25,534 - INFO - allennlp.common.util - text_field_embedder.token_embedder_tokens.transformer_model.encoder.layer.2.attention.output.dense.bias\n",
      "2023-04-12 15:17:25,534 - INFO - allennlp.common.util - text_field_embedder.token_embedder_tokens.transformer_model.encoder.layer.2.attention.output.LayerNorm.weight\n",
      "2023-04-12 15:17:25,535 - INFO - allennlp.common.util - text_field_embedder.token_embedder_tokens.transformer_model.encoder.layer.2.attention.output.LayerNorm.bias\n",
      "2023-04-12 15:17:25,536 - INFO - allennlp.common.util - text_field_embedder.token_embedder_tokens.transformer_model.encoder.layer.2.intermediate.dense.weight\n",
      "2023-04-12 15:17:25,536 - INFO - allennlp.common.util - text_field_embedder.token_embedder_tokens.transformer_model.encoder.layer.2.intermediate.dense.bias\n",
      "2023-04-12 15:17:25,537 - INFO - allennlp.common.util - text_field_embedder.token_embedder_tokens.transformer_model.encoder.layer.2.output.dense.weight\n",
      "2023-04-12 15:17:25,537 - INFO - allennlp.common.util - text_field_embedder.token_embedder_tokens.transformer_model.encoder.layer.2.output.dense.bias\n",
      "2023-04-12 15:17:25,538 - INFO - allennlp.common.util - text_field_embedder.token_embedder_tokens.transformer_model.encoder.layer.2.output.LayerNorm.weight\n",
      "2023-04-12 15:17:25,539 - INFO - allennlp.common.util - text_field_embedder.token_embedder_tokens.transformer_model.encoder.layer.2.output.LayerNorm.bias\n",
      "2023-04-12 15:17:25,539 - INFO - allennlp.common.util - text_field_embedder.token_embedder_tokens.transformer_model.encoder.layer.3.attention.self.query.weight\n",
      "2023-04-12 15:17:25,540 - INFO - allennlp.common.util - text_field_embedder.token_embedder_tokens.transformer_model.encoder.layer.3.attention.self.query.bias\n"
     ]
    },
    {
     "name": "stdout",
     "output_type": "stream",
     "text": [
      "2023-04-12 15:17:25,541 - INFO - allennlp.common.util - text_field_embedder.token_embedder_tokens.transformer_model.encoder.layer.3.attention.self.key.weight\n",
      "2023-04-12 15:17:25,541 - INFO - allennlp.common.util - text_field_embedder.token_embedder_tokens.transformer_model.encoder.layer.3.attention.self.key.bias\n",
      "2023-04-12 15:17:25,542 - INFO - allennlp.common.util - text_field_embedder.token_embedder_tokens.transformer_model.encoder.layer.3.attention.self.value.weight\n",
      "2023-04-12 15:17:25,542 - INFO - allennlp.common.util - text_field_embedder.token_embedder_tokens.transformer_model.encoder.layer.3.attention.self.value.bias\n",
      "2023-04-12 15:17:25,543 - INFO - allennlp.common.util - text_field_embedder.token_embedder_tokens.transformer_model.encoder.layer.3.attention.output.dense.weight\n",
      "2023-04-12 15:17:25,544 - INFO - allennlp.common.util - text_field_embedder.token_embedder_tokens.transformer_model.encoder.layer.3.attention.output.dense.bias\n",
      "2023-04-12 15:17:25,544 - INFO - allennlp.common.util - text_field_embedder.token_embedder_tokens.transformer_model.encoder.layer.3.attention.output.LayerNorm.weight\n",
      "2023-04-12 15:17:25,545 - INFO - allennlp.common.util - text_field_embedder.token_embedder_tokens.transformer_model.encoder.layer.3.attention.output.LayerNorm.bias\n",
      "2023-04-12 15:17:25,545 - INFO - allennlp.common.util - text_field_embedder.token_embedder_tokens.transformer_model.encoder.layer.3.intermediate.dense.weight\n",
      "2023-04-12 15:17:25,546 - INFO - allennlp.common.util - text_field_embedder.token_embedder_tokens.transformer_model.encoder.layer.3.intermediate.dense.bias\n",
      "2023-04-12 15:17:25,547 - INFO - allennlp.common.util - text_field_embedder.token_embedder_tokens.transformer_model.encoder.layer.3.output.dense.weight\n",
      "2023-04-12 15:17:25,547 - INFO - allennlp.common.util - text_field_embedder.token_embedder_tokens.transformer_model.encoder.layer.3.output.dense.bias\n",
      "2023-04-12 15:17:25,548 - INFO - allennlp.common.util - text_field_embedder.token_embedder_tokens.transformer_model.encoder.layer.3.output.LayerNorm.weight\n",
      "2023-04-12 15:17:25,548 - INFO - allennlp.common.util - text_field_embedder.token_embedder_tokens.transformer_model.encoder.layer.3.output.LayerNorm.bias\n",
      "2023-04-12 15:17:25,549 - INFO - allennlp.common.util - text_field_embedder.token_embedder_tokens.transformer_model.encoder.layer.4.attention.self.query.weight\n",
      "2023-04-12 15:17:25,550 - INFO - allennlp.common.util - text_field_embedder.token_embedder_tokens.transformer_model.encoder.layer.4.attention.self.query.bias\n",
      "2023-04-12 15:17:25,551 - INFO - allennlp.common.util - text_field_embedder.token_embedder_tokens.transformer_model.encoder.layer.4.attention.self.key.weight\n",
      "2023-04-12 15:17:25,552 - INFO - allennlp.common.util - text_field_embedder.token_embedder_tokens.transformer_model.encoder.layer.4.attention.self.key.bias\n",
      "2023-04-12 15:17:25,552 - INFO - allennlp.common.util - text_field_embedder.token_embedder_tokens.transformer_model.encoder.layer.4.attention.self.value.weight\n",
      "2023-04-12 15:17:25,553 - INFO - allennlp.common.util - text_field_embedder.token_embedder_tokens.transformer_model.encoder.layer.4.attention.self.value.bias\n",
      "2023-04-12 15:17:25,553 - INFO - allennlp.common.util - text_field_embedder.token_embedder_tokens.transformer_model.encoder.layer.4.attention.output.dense.weight\n",
      "2023-04-12 15:17:25,554 - INFO - allennlp.common.util - text_field_embedder.token_embedder_tokens.transformer_model.encoder.layer.4.attention.output.dense.bias\n",
      "2023-04-12 15:17:25,555 - INFO - allennlp.common.util - text_field_embedder.token_embedder_tokens.transformer_model.encoder.layer.4.attention.output.LayerNorm.weight\n",
      "2023-04-12 15:17:25,556 - INFO - allennlp.common.util - text_field_embedder.token_embedder_tokens.transformer_model.encoder.layer.4.attention.output.LayerNorm.bias\n",
      "2023-04-12 15:17:25,557 - INFO - allennlp.common.util - text_field_embedder.token_embedder_tokens.transformer_model.encoder.layer.4.intermediate.dense.weight\n",
      "2023-04-12 15:17:25,558 - INFO - allennlp.common.util - text_field_embedder.token_embedder_tokens.transformer_model.encoder.layer.4.intermediate.dense.bias\n",
      "2023-04-12 15:17:25,559 - INFO - allennlp.common.util - text_field_embedder.token_embedder_tokens.transformer_model.encoder.layer.4.output.dense.weight\n",
      "2023-04-12 15:17:25,560 - INFO - allennlp.common.util - text_field_embedder.token_embedder_tokens.transformer_model.encoder.layer.4.output.dense.bias\n",
      "2023-04-12 15:17:25,561 - INFO - allennlp.common.util - text_field_embedder.token_embedder_tokens.transformer_model.encoder.layer.4.output.LayerNorm.weight\n",
      "2023-04-12 15:17:25,561 - INFO - allennlp.common.util - text_field_embedder.token_embedder_tokens.transformer_model.encoder.layer.4.output.LayerNorm.bias\n",
      "2023-04-12 15:17:25,562 - INFO - allennlp.common.util - text_field_embedder.token_embedder_tokens.transformer_model.encoder.layer.5.attention.self.query.weight\n",
      "2023-04-12 15:17:25,563 - INFO - allennlp.common.util - text_field_embedder.token_embedder_tokens.transformer_model.encoder.layer.5.attention.self.query.bias\n",
      "2023-04-12 15:17:25,563 - INFO - allennlp.common.util - text_field_embedder.token_embedder_tokens.transformer_model.encoder.layer.5.attention.self.key.weight\n",
      "2023-04-12 15:17:25,564 - INFO - allennlp.common.util - text_field_embedder.token_embedder_tokens.transformer_model.encoder.layer.5.attention.self.key.bias\n",
      "2023-04-12 15:17:25,565 - INFO - allennlp.common.util - text_field_embedder.token_embedder_tokens.transformer_model.encoder.layer.5.attention.self.value.weight\n",
      "2023-04-12 15:17:25,566 - INFO - allennlp.common.util - text_field_embedder.token_embedder_tokens.transformer_model.encoder.layer.5.attention.self.value.bias\n",
      "2023-04-12 15:17:25,567 - INFO - allennlp.common.util - text_field_embedder.token_embedder_tokens.transformer_model.encoder.layer.5.attention.output.dense.weight\n",
      "2023-04-12 15:17:25,567 - INFO - allennlp.common.util - text_field_embedder.token_embedder_tokens.transformer_model.encoder.layer.5.attention.output.dense.bias\n",
      "2023-04-12 15:17:25,568 - INFO - allennlp.common.util - text_field_embedder.token_embedder_tokens.transformer_model.encoder.layer.5.attention.output.LayerNorm.weight\n",
      "2023-04-12 15:17:25,569 - INFO - allennlp.common.util - text_field_embedder.token_embedder_tokens.transformer_model.encoder.layer.5.attention.output.LayerNorm.bias\n",
      "2023-04-12 15:17:25,570 - INFO - allennlp.common.util - text_field_embedder.token_embedder_tokens.transformer_model.encoder.layer.5.intermediate.dense.weight\n",
      "2023-04-12 15:17:25,570 - INFO - allennlp.common.util - text_field_embedder.token_embedder_tokens.transformer_model.encoder.layer.5.intermediate.dense.bias\n",
      "2023-04-12 15:17:25,571 - INFO - allennlp.common.util - text_field_embedder.token_embedder_tokens.transformer_model.encoder.layer.5.output.dense.weight\n",
      "2023-04-12 15:17:25,571 - INFO - allennlp.common.util - text_field_embedder.token_embedder_tokens.transformer_model.encoder.layer.5.output.dense.bias\n",
      "2023-04-12 15:17:25,572 - INFO - allennlp.common.util - text_field_embedder.token_embedder_tokens.transformer_model.encoder.layer.5.output.LayerNorm.weight\n",
      "2023-04-12 15:17:25,573 - INFO - allennlp.common.util - text_field_embedder.token_embedder_tokens.transformer_model.encoder.layer.5.output.LayerNorm.bias\n",
      "2023-04-12 15:17:25,573 - INFO - allennlp.common.util - text_field_embedder.token_embedder_tokens.transformer_model.encoder.layer.6.attention.self.query.weight\n",
      "2023-04-12 15:17:25,574 - INFO - allennlp.common.util - text_field_embedder.token_embedder_tokens.transformer_model.encoder.layer.6.attention.self.query.bias\n",
      "2023-04-12 15:17:25,574 - INFO - allennlp.common.util - text_field_embedder.token_embedder_tokens.transformer_model.encoder.layer.6.attention.self.key.weight\n",
      "2023-04-12 15:17:25,575 - INFO - allennlp.common.util - text_field_embedder.token_embedder_tokens.transformer_model.encoder.layer.6.attention.self.key.bias\n",
      "2023-04-12 15:17:25,575 - INFO - allennlp.common.util - text_field_embedder.token_embedder_tokens.transformer_model.encoder.layer.6.attention.self.value.weight\n",
      "2023-04-12 15:17:25,576 - INFO - allennlp.common.util - text_field_embedder.token_embedder_tokens.transformer_model.encoder.layer.6.attention.self.value.bias\n"
     ]
    },
    {
     "name": "stdout",
     "output_type": "stream",
     "text": [
      "2023-04-12 15:17:25,576 - INFO - allennlp.common.util - text_field_embedder.token_embedder_tokens.transformer_model.encoder.layer.6.attention.output.dense.weight\n",
      "2023-04-12 15:17:25,577 - INFO - allennlp.common.util - text_field_embedder.token_embedder_tokens.transformer_model.encoder.layer.6.attention.output.dense.bias\n",
      "2023-04-12 15:17:25,577 - INFO - allennlp.common.util - text_field_embedder.token_embedder_tokens.transformer_model.encoder.layer.6.attention.output.LayerNorm.weight\n",
      "2023-04-12 15:17:25,578 - INFO - allennlp.common.util - text_field_embedder.token_embedder_tokens.transformer_model.encoder.layer.6.attention.output.LayerNorm.bias\n",
      "2023-04-12 15:17:25,579 - INFO - allennlp.common.util - text_field_embedder.token_embedder_tokens.transformer_model.encoder.layer.6.intermediate.dense.weight\n",
      "2023-04-12 15:17:25,580 - INFO - allennlp.common.util - text_field_embedder.token_embedder_tokens.transformer_model.encoder.layer.6.intermediate.dense.bias\n",
      "2023-04-12 15:17:25,580 - INFO - allennlp.common.util - text_field_embedder.token_embedder_tokens.transformer_model.encoder.layer.6.output.dense.weight\n",
      "2023-04-12 15:17:25,581 - INFO - allennlp.common.util - text_field_embedder.token_embedder_tokens.transformer_model.encoder.layer.6.output.dense.bias\n",
      "2023-04-12 15:17:25,582 - INFO - allennlp.common.util - text_field_embedder.token_embedder_tokens.transformer_model.encoder.layer.6.output.LayerNorm.weight\n",
      "2023-04-12 15:17:25,583 - INFO - allennlp.common.util - text_field_embedder.token_embedder_tokens.transformer_model.encoder.layer.6.output.LayerNorm.bias\n",
      "2023-04-12 15:17:25,584 - INFO - allennlp.common.util - text_field_embedder.token_embedder_tokens.transformer_model.encoder.layer.7.attention.self.query.weight\n",
      "2023-04-12 15:17:25,585 - INFO - allennlp.common.util - text_field_embedder.token_embedder_tokens.transformer_model.encoder.layer.7.attention.self.query.bias\n",
      "2023-04-12 15:17:25,585 - INFO - allennlp.common.util - text_field_embedder.token_embedder_tokens.transformer_model.encoder.layer.7.attention.self.key.weight\n",
      "2023-04-12 15:17:25,587 - INFO - allennlp.common.util - text_field_embedder.token_embedder_tokens.transformer_model.encoder.layer.7.attention.self.key.bias\n",
      "2023-04-12 15:17:25,587 - INFO - allennlp.common.util - text_field_embedder.token_embedder_tokens.transformer_model.encoder.layer.7.attention.self.value.weight\n",
      "2023-04-12 15:17:25,588 - INFO - allennlp.common.util - text_field_embedder.token_embedder_tokens.transformer_model.encoder.layer.7.attention.self.value.bias\n",
      "2023-04-12 15:17:25,589 - INFO - allennlp.common.util - text_field_embedder.token_embedder_tokens.transformer_model.encoder.layer.7.attention.output.dense.weight\n",
      "2023-04-12 15:17:25,590 - INFO - allennlp.common.util - text_field_embedder.token_embedder_tokens.transformer_model.encoder.layer.7.attention.output.dense.bias\n",
      "2023-04-12 15:17:25,591 - INFO - allennlp.common.util - text_field_embedder.token_embedder_tokens.transformer_model.encoder.layer.7.attention.output.LayerNorm.weight\n",
      "2023-04-12 15:17:25,592 - INFO - allennlp.common.util - text_field_embedder.token_embedder_tokens.transformer_model.encoder.layer.7.attention.output.LayerNorm.bias\n",
      "2023-04-12 15:17:25,592 - INFO - allennlp.common.util - text_field_embedder.token_embedder_tokens.transformer_model.encoder.layer.7.intermediate.dense.weight\n",
      "2023-04-12 15:17:25,593 - INFO - allennlp.common.util - text_field_embedder.token_embedder_tokens.transformer_model.encoder.layer.7.intermediate.dense.bias\n",
      "2023-04-12 15:17:25,594 - INFO - allennlp.common.util - text_field_embedder.token_embedder_tokens.transformer_model.encoder.layer.7.output.dense.weight\n",
      "2023-04-12 15:17:25,595 - INFO - allennlp.common.util - text_field_embedder.token_embedder_tokens.transformer_model.encoder.layer.7.output.dense.bias\n",
      "2023-04-12 15:17:25,596 - INFO - allennlp.common.util - text_field_embedder.token_embedder_tokens.transformer_model.encoder.layer.7.output.LayerNorm.weight\n",
      "2023-04-12 15:17:25,597 - INFO - allennlp.common.util - text_field_embedder.token_embedder_tokens.transformer_model.encoder.layer.7.output.LayerNorm.bias\n",
      "2023-04-12 15:17:25,598 - INFO - allennlp.common.util - text_field_embedder.token_embedder_tokens.transformer_model.encoder.layer.8.attention.self.query.weight\n",
      "2023-04-12 15:17:25,598 - INFO - allennlp.common.util - text_field_embedder.token_embedder_tokens.transformer_model.encoder.layer.8.attention.self.query.bias\n",
      "2023-04-12 15:17:25,599 - INFO - allennlp.common.util - text_field_embedder.token_embedder_tokens.transformer_model.encoder.layer.8.attention.self.key.weight\n",
      "2023-04-12 15:17:25,600 - INFO - allennlp.common.util - text_field_embedder.token_embedder_tokens.transformer_model.encoder.layer.8.attention.self.key.bias\n",
      "2023-04-12 15:17:25,601 - INFO - allennlp.common.util - text_field_embedder.token_embedder_tokens.transformer_model.encoder.layer.8.attention.self.value.weight\n",
      "2023-04-12 15:17:25,602 - INFO - allennlp.common.util - text_field_embedder.token_embedder_tokens.transformer_model.encoder.layer.8.attention.self.value.bias\n",
      "2023-04-12 15:17:25,603 - INFO - allennlp.common.util - text_field_embedder.token_embedder_tokens.transformer_model.encoder.layer.8.attention.output.dense.weight\n",
      "2023-04-12 15:17:25,603 - INFO - allennlp.common.util - text_field_embedder.token_embedder_tokens.transformer_model.encoder.layer.8.attention.output.dense.bias\n",
      "2023-04-12 15:17:25,604 - INFO - allennlp.common.util - text_field_embedder.token_embedder_tokens.transformer_model.encoder.layer.8.attention.output.LayerNorm.weight\n",
      "2023-04-12 15:17:25,605 - INFO - allennlp.common.util - text_field_embedder.token_embedder_tokens.transformer_model.encoder.layer.8.attention.output.LayerNorm.bias\n",
      "2023-04-12 15:17:25,606 - INFO - allennlp.common.util - text_field_embedder.token_embedder_tokens.transformer_model.encoder.layer.8.intermediate.dense.weight\n",
      "2023-04-12 15:17:25,607 - INFO - allennlp.common.util - text_field_embedder.token_embedder_tokens.transformer_model.encoder.layer.8.intermediate.dense.bias\n",
      "2023-04-12 15:17:25,608 - INFO - allennlp.common.util - text_field_embedder.token_embedder_tokens.transformer_model.encoder.layer.8.output.dense.weight\n",
      "2023-04-12 15:17:25,608 - INFO - allennlp.common.util - text_field_embedder.token_embedder_tokens.transformer_model.encoder.layer.8.output.dense.bias\n",
      "2023-04-12 15:17:25,609 - INFO - allennlp.common.util - text_field_embedder.token_embedder_tokens.transformer_model.encoder.layer.8.output.LayerNorm.weight\n",
      "2023-04-12 15:17:25,610 - INFO - allennlp.common.util - text_field_embedder.token_embedder_tokens.transformer_model.encoder.layer.8.output.LayerNorm.bias\n",
      "2023-04-12 15:17:25,611 - INFO - allennlp.common.util - text_field_embedder.token_embedder_tokens.transformer_model.encoder.layer.9.attention.self.query.weight\n",
      "2023-04-12 15:17:25,612 - INFO - allennlp.common.util - text_field_embedder.token_embedder_tokens.transformer_model.encoder.layer.9.attention.self.query.bias\n",
      "2023-04-12 15:17:25,612 - INFO - allennlp.common.util - text_field_embedder.token_embedder_tokens.transformer_model.encoder.layer.9.attention.self.key.weight\n",
      "2023-04-12 15:17:25,613 - INFO - allennlp.common.util - text_field_embedder.token_embedder_tokens.transformer_model.encoder.layer.9.attention.self.key.bias\n",
      "2023-04-12 15:17:25,613 - INFO - allennlp.common.util - text_field_embedder.token_embedder_tokens.transformer_model.encoder.layer.9.attention.self.value.weight\n",
      "2023-04-12 15:17:25,614 - INFO - allennlp.common.util - text_field_embedder.token_embedder_tokens.transformer_model.encoder.layer.9.attention.self.value.bias\n",
      "2023-04-12 15:17:25,615 - INFO - allennlp.common.util - text_field_embedder.token_embedder_tokens.transformer_model.encoder.layer.9.attention.output.dense.weight\n",
      "2023-04-12 15:17:25,616 - INFO - allennlp.common.util - text_field_embedder.token_embedder_tokens.transformer_model.encoder.layer.9.attention.output.dense.bias\n",
      "2023-04-12 15:17:25,617 - INFO - allennlp.common.util - text_field_embedder.token_embedder_tokens.transformer_model.encoder.layer.9.attention.output.LayerNorm.weight\n",
      "2023-04-12 15:17:25,618 - INFO - allennlp.common.util - text_field_embedder.token_embedder_tokens.transformer_model.encoder.layer.9.attention.output.LayerNorm.bias\n"
     ]
    },
    {
     "name": "stdout",
     "output_type": "stream",
     "text": [
      "2023-04-12 15:17:25,619 - INFO - allennlp.common.util - text_field_embedder.token_embedder_tokens.transformer_model.encoder.layer.9.intermediate.dense.weight\n",
      "2023-04-12 15:17:25,619 - INFO - allennlp.common.util - text_field_embedder.token_embedder_tokens.transformer_model.encoder.layer.9.intermediate.dense.bias\n",
      "2023-04-12 15:17:25,620 - INFO - allennlp.common.util - text_field_embedder.token_embedder_tokens.transformer_model.encoder.layer.9.output.dense.weight\n",
      "2023-04-12 15:17:25,620 - INFO - allennlp.common.util - text_field_embedder.token_embedder_tokens.transformer_model.encoder.layer.9.output.dense.bias\n",
      "2023-04-12 15:17:25,621 - INFO - allennlp.common.util - text_field_embedder.token_embedder_tokens.transformer_model.encoder.layer.9.output.LayerNorm.weight\n",
      "2023-04-12 15:17:25,622 - INFO - allennlp.common.util - text_field_embedder.token_embedder_tokens.transformer_model.encoder.layer.9.output.LayerNorm.bias\n",
      "2023-04-12 15:17:25,623 - INFO - allennlp.common.util - text_field_embedder.token_embedder_tokens.transformer_model.encoder.layer.10.attention.self.query.weight\n",
      "2023-04-12 15:17:25,623 - INFO - allennlp.common.util - text_field_embedder.token_embedder_tokens.transformer_model.encoder.layer.10.attention.self.query.bias\n",
      "2023-04-12 15:17:25,624 - INFO - allennlp.common.util - text_field_embedder.token_embedder_tokens.transformer_model.encoder.layer.10.attention.self.key.weight\n",
      "2023-04-12 15:17:25,624 - INFO - allennlp.common.util - text_field_embedder.token_embedder_tokens.transformer_model.encoder.layer.10.attention.self.key.bias\n",
      "2023-04-12 15:17:25,625 - INFO - allennlp.common.util - text_field_embedder.token_embedder_tokens.transformer_model.encoder.layer.10.attention.self.value.weight\n",
      "2023-04-12 15:17:25,625 - INFO - allennlp.common.util - text_field_embedder.token_embedder_tokens.transformer_model.encoder.layer.10.attention.self.value.bias\n",
      "2023-04-12 15:17:25,626 - INFO - allennlp.common.util - text_field_embedder.token_embedder_tokens.transformer_model.encoder.layer.10.attention.output.dense.weight\n",
      "2023-04-12 15:17:25,626 - INFO - allennlp.common.util - text_field_embedder.token_embedder_tokens.transformer_model.encoder.layer.10.attention.output.dense.bias\n",
      "2023-04-12 15:17:25,627 - INFO - allennlp.common.util - text_field_embedder.token_embedder_tokens.transformer_model.encoder.layer.10.attention.output.LayerNorm.weight\n",
      "2023-04-12 15:17:25,627 - INFO - allennlp.common.util - text_field_embedder.token_embedder_tokens.transformer_model.encoder.layer.10.attention.output.LayerNorm.bias\n",
      "2023-04-12 15:17:25,628 - INFO - allennlp.common.util - text_field_embedder.token_embedder_tokens.transformer_model.encoder.layer.10.intermediate.dense.weight\n",
      "2023-04-12 15:17:25,629 - INFO - allennlp.common.util - text_field_embedder.token_embedder_tokens.transformer_model.encoder.layer.10.intermediate.dense.bias\n",
      "2023-04-12 15:17:25,630 - INFO - allennlp.common.util - text_field_embedder.token_embedder_tokens.transformer_model.encoder.layer.10.output.dense.weight\n",
      "2023-04-12 15:17:25,631 - INFO - allennlp.common.util - text_field_embedder.token_embedder_tokens.transformer_model.encoder.layer.10.output.dense.bias\n",
      "2023-04-12 15:17:25,632 - INFO - allennlp.common.util - text_field_embedder.token_embedder_tokens.transformer_model.encoder.layer.10.output.LayerNorm.weight\n",
      "2023-04-12 15:17:25,633 - INFO - allennlp.common.util - text_field_embedder.token_embedder_tokens.transformer_model.encoder.layer.10.output.LayerNorm.bias\n",
      "2023-04-12 15:17:25,633 - INFO - allennlp.common.util - text_field_embedder.token_embedder_tokens.transformer_model.encoder.layer.11.attention.self.query.weight\n",
      "2023-04-12 15:17:25,634 - INFO - allennlp.common.util - text_field_embedder.token_embedder_tokens.transformer_model.encoder.layer.11.attention.self.query.bias\n",
      "2023-04-12 15:17:25,635 - INFO - allennlp.common.util - text_field_embedder.token_embedder_tokens.transformer_model.encoder.layer.11.attention.self.key.weight\n",
      "2023-04-12 15:17:25,636 - INFO - allennlp.common.util - text_field_embedder.token_embedder_tokens.transformer_model.encoder.layer.11.attention.self.key.bias\n",
      "2023-04-12 15:17:25,636 - INFO - allennlp.common.util - text_field_embedder.token_embedder_tokens.transformer_model.encoder.layer.11.attention.self.value.weight\n",
      "2023-04-12 15:17:25,637 - INFO - allennlp.common.util - text_field_embedder.token_embedder_tokens.transformer_model.encoder.layer.11.attention.self.value.bias\n",
      "2023-04-12 15:17:25,638 - INFO - allennlp.common.util - text_field_embedder.token_embedder_tokens.transformer_model.encoder.layer.11.attention.output.dense.weight\n",
      "2023-04-12 15:17:25,639 - INFO - allennlp.common.util - text_field_embedder.token_embedder_tokens.transformer_model.encoder.layer.11.attention.output.dense.bias\n",
      "2023-04-12 15:17:25,640 - INFO - allennlp.common.util - text_field_embedder.token_embedder_tokens.transformer_model.encoder.layer.11.attention.output.LayerNorm.weight\n",
      "2023-04-12 15:17:25,640 - INFO - allennlp.common.util - text_field_embedder.token_embedder_tokens.transformer_model.encoder.layer.11.attention.output.LayerNorm.bias\n",
      "2023-04-12 15:17:25,641 - INFO - allennlp.common.util - text_field_embedder.token_embedder_tokens.transformer_model.encoder.layer.11.intermediate.dense.weight\n",
      "2023-04-12 15:17:25,642 - INFO - allennlp.common.util - text_field_embedder.token_embedder_tokens.transformer_model.encoder.layer.11.intermediate.dense.bias\n",
      "2023-04-12 15:17:25,643 - INFO - allennlp.common.util - text_field_embedder.token_embedder_tokens.transformer_model.encoder.layer.11.output.dense.weight\n",
      "2023-04-12 15:17:25,644 - INFO - allennlp.common.util - text_field_embedder.token_embedder_tokens.transformer_model.encoder.layer.11.output.dense.bias\n",
      "2023-04-12 15:17:25,644 - INFO - allennlp.common.util - text_field_embedder.token_embedder_tokens.transformer_model.encoder.layer.11.output.LayerNorm.weight\n",
      "2023-04-12 15:17:25,645 - INFO - allennlp.common.util - text_field_embedder.token_embedder_tokens.transformer_model.encoder.layer.11.output.LayerNorm.bias\n",
      "2023-04-12 15:17:25,646 - INFO - allennlp.common.util - text_field_embedder.token_embedder_tokens.transformer_model.pooler.dense.weight\n",
      "2023-04-12 15:17:25,647 - INFO - allennlp.common.util - text_field_embedder.token_embedder_tokens.transformer_model.pooler.dense.bias\n",
      "2023-04-12 15:17:25,648 - INFO - allennlp.common.util - crf._constraint_mask\n",
      "2023-04-12 15:17:25,649 - INFO - allennlp.common.util - The following parameters are Tunable (with gradient):\n",
      "2023-04-12 15:17:25,650 - INFO - allennlp.common.util - encoder._module.weight_ih_l0\n",
      "2023-04-12 15:17:25,651 - INFO - allennlp.common.util - encoder._module.weight_hh_l0\n",
      "2023-04-12 15:17:25,652 - INFO - allennlp.common.util - encoder._module.bias_ih_l0\n",
      "2023-04-12 15:17:25,653 - INFO - allennlp.common.util - encoder._module.bias_hh_l0\n",
      "2023-04-12 15:17:25,653 - INFO - allennlp.common.util - encoder._module.weight_ih_l0_reverse\n",
      "2023-04-12 15:17:25,654 - INFO - allennlp.common.util - encoder._module.weight_hh_l0_reverse\n",
      "2023-04-12 15:17:25,655 - INFO - allennlp.common.util - encoder._module.bias_ih_l0_reverse\n",
      "2023-04-12 15:17:25,656 - INFO - allennlp.common.util - encoder._module.bias_hh_l0_reverse\n",
      "2023-04-12 15:17:25,657 - INFO - allennlp.common.util - _attention.Er\n",
      "2023-04-12 15:17:25,658 - INFO - allennlp.common.util - _attention.key.weight\n",
      "2023-04-12 15:17:25,659 - INFO - allennlp.common.util - _attention.key.bias\n",
      "2023-04-12 15:17:25,660 - INFO - allennlp.common.util - _attention.value.weight\n",
      "2023-04-12 15:17:25,660 - INFO - allennlp.common.util - _attention.value.bias\n",
      "2023-04-12 15:17:25,661 - INFO - allennlp.common.util - _attention.query.weight\n",
      "2023-04-12 15:17:25,662 - INFO - allennlp.common.util - _attention.query.bias\n",
      "2023-04-12 15:17:25,662 - INFO - allennlp.common.util - _feedforward._linear_layers.0.weight\n",
      "2023-04-12 15:17:25,663 - INFO - allennlp.common.util - _feedforward._linear_layers.0.bias\n",
      "2023-04-12 15:17:25,664 - INFO - allennlp.common.util - tag_projection_layer._module.weight\n",
      "2023-04-12 15:17:25,665 - INFO - allennlp.common.util - tag_projection_layer._module.bias\n",
      "2023-04-12 15:17:25,666 - INFO - allennlp.common.util - crf.transitions\n",
      "2023-04-12 15:17:25,666 - INFO - allennlp.common.params - trainer.learning_rate_scheduler.type = slanted_triangular\n"
     ]
    },
    {
     "name": "stdout",
     "output_type": "stream",
     "text": [
      "2023-04-12 15:17:25,668 - INFO - allennlp.common.params - trainer.learning_rate_scheduler.cut_frac = 0.1\n",
      "2023-04-12 15:17:25,668 - INFO - allennlp.common.params - trainer.learning_rate_scheduler.ratio = 32\n",
      "2023-04-12 15:17:25,669 - INFO - allennlp.common.params - trainer.learning_rate_scheduler.last_epoch = -1\n",
      "2023-04-12 15:17:25,670 - INFO - allennlp.common.params - trainer.learning_rate_scheduler.gradual_unfreezing = False\n",
      "2023-04-12 15:17:25,670 - INFO - allennlp.common.params - trainer.learning_rate_scheduler.discriminative_fine_tuning = False\n",
      "2023-04-12 15:17:25,671 - INFO - allennlp.common.params - trainer.learning_rate_scheduler.decay_factor = 0.38\n",
      "2023-04-12 15:17:25,672 - INFO - allennlp.common.params - type = default\n",
      "2023-04-12 15:17:25,673 - INFO - allennlp.common.params - save_completed_epochs = True\n",
      "2023-04-12 15:17:25,673 - INFO - allennlp.common.params - save_every_num_seconds = None\n",
      "2023-04-12 15:17:25,674 - INFO - allennlp.common.params - save_every_num_batches = None\n",
      "2023-04-12 15:17:25,674 - INFO - allennlp.common.params - keep_most_recent_by_count = 2\n",
      "2023-04-12 15:17:25,675 - INFO - allennlp.common.params - keep_most_recent_by_age = None\n",
      "2023-04-12 15:17:25,678 - INFO - allennlp.training.gradient_descent_trainer - Beginning training.\n",
      "2023-04-12 15:17:25,678 - INFO - allennlp.training.gradient_descent_trainer - Epoch 0/49\n",
      "2023-04-12 15:17:25,679 - INFO - allennlp.training.gradient_descent_trainer - Worker 0 memory usage: 1.4G\n",
      "2023-04-12 15:17:25,681 - INFO - allennlp.training.gradient_descent_trainer - Training\n"
     ]
    },
    {
     "data": {
      "application/vnd.jupyter.widget-view+json": {
       "model_id": "ae51ef74ff3c44e5b8352f20b66a18c2",
       "version_major": 2,
       "version_minor": 0
      },
      "text/plain": [
       "  0%|          | 0/8 [00:00<?, ?it/s]"
      ]
     },
     "metadata": {},
     "output_type": "display_data"
    },
    {
     "name": "stdout",
     "output_type": "stream",
     "text": [
      "2023-04-12 15:17:27,128 - INFO - allennlp.training.callbacks.console_logger - Batch inputs\n",
      "2023-04-12 15:17:27,129 - INFO - allennlp.training.callbacks.console_logger - batch_input/tokens/tokens/token_ids (Shape: 16 x 29)\n",
      "tensor([[  101,  1370,  1501,  ...,     0,     0,     0],\n",
      "        [  101,  1188,  1110,  ...,     0,     0,     0],\n",
      "        [  101,  1109,  1396,  ...,     0,     0,     0],\n",
      "        ...,\n",
      "        [  101, 21948,   142,  ...,   102,     0,     0],\n",
      "        [  101,   152,  4832,  ...,     0,     0,     0],\n",
      "        [  101,  3367,  1105,  ...,  1839,  6580,   102]])\n",
      "2023-04-12 15:17:27,132 - INFO - allennlp.training.callbacks.console_logger - batch_input/tokens/tokens/mask (Shape: 16 x 29)\n",
      "tensor([[ True,  True,  True,  ..., False, False, False],\n",
      "        [ True,  True,  True,  ..., False, False, False],\n",
      "        [ True,  True,  True,  ..., False, False, False],\n",
      "        ...,\n",
      "        [ True,  True,  True,  ...,  True, False, False],\n",
      "        [ True,  True,  True,  ..., False, False, False],\n",
      "        [ True,  True,  True,  ...,  True,  True,  True]])\n",
      "2023-04-12 15:17:27,134 - INFO - allennlp.training.callbacks.console_logger - batch_input/tokens/tokens/type_ids (Shape: 16 x 29)\n",
      "tensor([[0, 0, 0,  ..., 0, 0, 0],\n",
      "        [0, 0, 0,  ..., 0, 0, 0],\n",
      "        [0, 0, 0,  ..., 0, 0, 0],\n",
      "        ...,\n",
      "        [0, 0, 0,  ..., 0, 0, 0],\n",
      "        [0, 0, 0,  ..., 0, 0, 0],\n",
      "        [0, 0, 0,  ..., 0, 0, 0]])\n",
      "2023-04-12 15:17:27,136 - INFO - allennlp.training.callbacks.console_logger - batch_input/tokens/tokens/segment_concat_mask (Shape: 16 x 29)\n",
      "tensor([[ True,  True,  True,  ..., False, False, False],\n",
      "        [ True,  True,  True,  ..., False, False, False],\n",
      "        [ True,  True,  True,  ..., False, False, False],\n",
      "        ...,\n",
      "        [ True,  True,  True,  ...,  True, False, False],\n",
      "        [ True,  True,  True,  ..., False, False, False],\n",
      "        [ True,  True,  True,  ...,  True,  True,  True]])\n",
      "2023-04-12 15:17:27,139 - INFO - allennlp.training.callbacks.console_logger - Field : \"batch_input/metadata\" : (Length 16 of type \"<class 'dict'>\")\n",
      "2023-04-12 15:17:27,140 - INFO - allennlp.training.callbacks.console_logger - batch_input/gold_labels (Shape: 16 x 29)\n",
      "tensor([[4, 1, 2,  ..., 0, 0, 0],\n",
      "        [4, 1, 3,  ..., 0, 0, 0],\n",
      "        [4, 2, 0,  ..., 0, 0, 0],\n",
      "        ...,\n",
      "        [4, 2, 0,  ..., 4, 0, 0],\n",
      "        [4, 2, 0,  ..., 0, 0, 0],\n",
      "        [4, 2, 1,  ..., 8, 8, 4]])\n",
      "2023-04-12 15:17:36,346 - INFO - allennlp.training.gradient_descent_trainer - Validating\n"
     ]
    },
    {
     "data": {
      "application/vnd.jupyter.widget-view+json": {
       "model_id": "6fb30f56e10746fd825b063255059c98",
       "version_major": 2,
       "version_minor": 0
      },
      "text/plain": [
       "  0%|          | 0/3 [00:00<?, ?it/s]"
      ]
     },
     "metadata": {},
     "output_type": "display_data"
    },
    {
     "name": "stdout",
     "output_type": "stream",
     "text": [
      "2023-04-12 15:17:37,589 - INFO - allennlp.training.callbacks.console_logger - Batch inputs\n",
      "2023-04-12 15:17:37,590 - INFO - allennlp.training.callbacks.console_logger - batch_input/tokens/tokens/token_ids (Shape: 16 x 41)\n",
      "tensor([[  101,  6940,  1869,  ...,     0,     0,     0],\n",
      "        [  101,  1130,   170,  ...,     0,     0,     0],\n",
      "        [  101,   138, 19515,  ...,     0,     0,     0],\n",
      "        ...,\n",
      "        [  101,  1188,  1110,  ...,   119,   102,     0],\n",
      "        [  101,  1109,  6973,  ...,     0,     0,     0],\n",
      "        [  101,  1706,  2393,  ...,  2820,   119,   102]])\n",
      "2023-04-12 15:17:37,592 - INFO - allennlp.training.callbacks.console_logger - batch_input/tokens/tokens/mask (Shape: 16 x 41)\n",
      "tensor([[ True,  True,  True,  ..., False, False, False],\n",
      "        [ True,  True,  True,  ..., False, False, False],\n",
      "        [ True,  True,  True,  ..., False, False, False],\n",
      "        ...,\n",
      "        [ True,  True,  True,  ...,  True,  True, False],\n",
      "        [ True,  True,  True,  ..., False, False, False],\n",
      "        [ True,  True,  True,  ...,  True,  True,  True]])\n",
      "2023-04-12 15:17:37,594 - INFO - allennlp.training.callbacks.console_logger - batch_input/tokens/tokens/type_ids (Shape: 16 x 41)\n",
      "tensor([[0, 0, 0,  ..., 0, 0, 0],\n",
      "        [0, 0, 0,  ..., 0, 0, 0],\n",
      "        [0, 0, 0,  ..., 0, 0, 0],\n",
      "        ...,\n",
      "        [0, 0, 0,  ..., 0, 0, 0],\n",
      "        [0, 0, 0,  ..., 0, 0, 0],\n",
      "        [0, 0, 0,  ..., 0, 0, 0]])\n",
      "2023-04-12 15:17:37,596 - INFO - allennlp.training.callbacks.console_logger - batch_input/tokens/tokens/segment_concat_mask (Shape: 16 x 41)\n",
      "tensor([[ True,  True,  True,  ..., False, False, False],\n",
      "        [ True,  True,  True,  ..., False, False, False],\n",
      "        [ True,  True,  True,  ..., False, False, False],\n",
      "        ...,\n",
      "        [ True,  True,  True,  ...,  True,  True, False],\n",
      "        [ True,  True,  True,  ..., False, False, False],\n",
      "        [ True,  True,  True,  ...,  True,  True,  True]])\n",
      "2023-04-12 15:17:37,599 - INFO - allennlp.training.callbacks.console_logger - Field : \"batch_input/metadata\" : (Length 16 of type \"<class 'dict'>\")\n",
      "2023-04-12 15:17:37,600 - INFO - allennlp.training.callbacks.console_logger - batch_input/gold_labels (Shape: 16 x 41)\n",
      "tensor([[4, 2, 0,  ..., 0, 0, 0],\n",
      "        [4, 1, 2,  ..., 0, 0, 0],\n",
      "        [4, 3, 6,  ..., 0, 0, 0],\n",
      "        ...,\n",
      "        [4, 1, 3,  ..., 1, 4, 0],\n",
      "        [4, 2, 0,  ..., 0, 0, 0],\n",
      "        [4, 3, 6,  ..., 2, 1, 4]])\n",
      "2023-04-12 15:17:39,321 - INFO - allennlp.training.callbacks.console_logger -                        Training |  Validation\n",
      "2023-04-12 15:17:39,321 - INFO - allennlp.training.callbacks.console_logger - accuracy           |     0.224  |     0.249\n",
      "2023-04-12 15:17:39,322 - INFO - allennlp.training.callbacks.console_logger - accuracy3          |     0.607  |     0.743\n",
      "2023-04-12 15:17:39,323 - INFO - allennlp.training.callbacks.console_logger - f1-measure-overall |     0.120  |     0.108\n",
      "2023-04-12 15:17:39,324 - INFO - allennlp.training.callbacks.console_logger - loss               |  1101.260  |   865.206\n",
      "2023-04-12 15:17:39,325 - INFO - allennlp.training.callbacks.console_logger - precision-overall  |     0.197  |     0.086\n",
      "2023-04-12 15:17:39,326 - INFO - allennlp.training.callbacks.console_logger - recall-overall     |     0.086  |     0.146\n",
      "2023-04-12 15:17:39,327 - INFO - allennlp.training.callbacks.console_logger - worker_0_memory_MB |  1456.027  |       N/A\n",
      "2023-04-12 15:17:40,062 - INFO - allennlp.training.gradient_descent_trainer - Epoch duration: 0:00:14.383282\n",
      "2023-04-12 15:17:40,066 - INFO - allennlp.training.gradient_descent_trainer - Estimated training time remaining: 0:11:08\n",
      "2023-04-12 15:17:40,066 - INFO - allennlp.training.gradient_descent_trainer - Epoch 1/49\n",
      "2023-04-12 15:17:40,067 - INFO - allennlp.training.gradient_descent_trainer - Worker 0 memory usage: 1.5G\n",
      "2023-04-12 15:17:40,068 - INFO - allennlp.training.gradient_descent_trainer - Training\n"
     ]
    },
    {
     "data": {
      "application/vnd.jupyter.widget-view+json": {
       "model_id": "58027d62e54847ddabfd3a7629a4bf00",
       "version_major": 2,
       "version_minor": 0
      },
      "text/plain": [
       "  0%|          | 0/8 [00:00<?, ?it/s]"
      ]
     },
     "metadata": {},
     "output_type": "display_data"
    },
    {
     "name": "stdout",
     "output_type": "stream",
     "text": [
      "2023-04-12 15:17:50,299 - INFO - allennlp.training.gradient_descent_trainer - Validating\n"
     ]
    },
    {
     "data": {
      "application/vnd.jupyter.widget-view+json": {
       "model_id": "bbc99bde299a440db17dd0d12e453e07",
       "version_major": 2,
       "version_minor": 0
      },
      "text/plain": [
       "  0%|          | 0/3 [00:00<?, ?it/s]"
      ]
     },
     "metadata": {},
     "output_type": "display_data"
    },
    {
     "name": "stdout",
     "output_type": "stream",
     "text": [
      "2023-04-12 15:17:53,283 - INFO - allennlp.training.callbacks.console_logger -                        Training |  Validation\n",
      "2023-04-12 15:17:53,284 - INFO - allennlp.training.callbacks.console_logger - accuracy           |     0.338  |     0.420\n",
      "2023-04-12 15:17:53,284 - INFO - allennlp.training.callbacks.console_logger - accuracy3          |     0.708  |     0.743\n",
      "2023-04-12 15:17:53,285 - INFO - allennlp.training.callbacks.console_logger - f1-measure-overall |     0.167  |     0.326\n",
      "2023-04-12 15:17:53,286 - INFO - allennlp.training.callbacks.console_logger - loss               |   911.696  |   695.059\n",
      "2023-04-12 15:17:53,286 - INFO - allennlp.training.callbacks.console_logger - precision-overall  |     0.188  |     0.277\n",
      "2023-04-12 15:17:53,287 - INFO - allennlp.training.callbacks.console_logger - recall-overall     |     0.150  |     0.395\n",
      "2023-04-12 15:17:53,288 - INFO - allennlp.training.callbacks.console_logger - worker_0_memory_MB |  1565.422  |       N/A\n",
      "2023-04-12 15:17:54,062 - INFO - allennlp.training.gradient_descent_trainer - Epoch duration: 0:00:13.995438\n",
      "2023-04-12 15:17:54,063 - INFO - allennlp.training.gradient_descent_trainer - Estimated training time remaining: 0:11:02\n",
      "2023-04-12 15:17:54,064 - INFO - allennlp.training.gradient_descent_trainer - Epoch 2/49\n",
      "2023-04-12 15:17:54,064 - INFO - allennlp.training.gradient_descent_trainer - Worker 0 memory usage: 1.5G\n",
      "2023-04-12 15:17:54,065 - INFO - allennlp.training.gradient_descent_trainer - Training\n"
     ]
    },
    {
     "data": {
      "application/vnd.jupyter.widget-view+json": {
       "model_id": "1ec7320f7980435c99c9527a55ab26e0",
       "version_major": 2,
       "version_minor": 0
      },
      "text/plain": [
       "  0%|          | 0/8 [00:00<?, ?it/s]"
      ]
     },
     "metadata": {},
     "output_type": "display_data"
    },
    {
     "name": "stdout",
     "output_type": "stream",
     "text": [
      "2023-04-12 15:18:05,198 - INFO - allennlp.training.gradient_descent_trainer - Validating\n"
     ]
    },
    {
     "data": {
      "application/vnd.jupyter.widget-view+json": {
       "model_id": "142da265ab4c496eba079c5d8e2554d6",
       "version_major": 2,
       "version_minor": 0
      },
      "text/plain": [
       "  0%|          | 0/3 [00:00<?, ?it/s]"
      ]
     },
     "metadata": {},
     "output_type": "display_data"
    },
    {
     "name": "stdout",
     "output_type": "stream",
     "text": [
      "2023-04-12 15:18:08,249 - INFO - allennlp.training.callbacks.console_logger -                        Training |  Validation\n",
      "2023-04-12 15:18:08,250 - INFO - allennlp.training.callbacks.console_logger - accuracy           |     0.533  |     0.661\n",
      "2023-04-12 15:18:08,251 - INFO - allennlp.training.callbacks.console_logger - accuracy3          |     0.734  |     0.778\n",
      "2023-04-12 15:18:08,252 - INFO - allennlp.training.callbacks.console_logger - f1-measure-overall |     0.388  |     0.528\n",
      "2023-04-12 15:18:08,252 - INFO - allennlp.training.callbacks.console_logger - loss               |   668.963  |   473.694\n",
      "2023-04-12 15:18:08,253 - INFO - allennlp.training.callbacks.console_logger - precision-overall  |     0.385  |     0.547\n",
      "2023-04-12 15:18:08,253 - INFO - allennlp.training.callbacks.console_logger - recall-overall     |     0.391  |     0.511\n",
      "2023-04-12 15:18:08,254 - INFO - allennlp.training.callbacks.console_logger - worker_0_memory_MB |  1571.934  |       N/A\n",
      "2023-04-12 15:18:09,088 - INFO - allennlp.training.gradient_descent_trainer - Epoch duration: 0:00:15.024444\n",
      "2023-04-12 15:18:09,091 - INFO - allennlp.training.gradient_descent_trainer - Estimated training time remaining: 0:11:06\n",
      "2023-04-12 15:18:09,091 - INFO - allennlp.training.gradient_descent_trainer - Epoch 3/49\n",
      "2023-04-12 15:18:09,092 - INFO - allennlp.training.gradient_descent_trainer - Worker 0 memory usage: 1.5G\n",
      "2023-04-12 15:18:09,093 - INFO - allennlp.training.gradient_descent_trainer - Training\n"
     ]
    },
    {
     "data": {
      "application/vnd.jupyter.widget-view+json": {
       "model_id": "9b3ef47928ad450fa90206dd802764e7",
       "version_major": 2,
       "version_minor": 0
      },
      "text/plain": [
       "  0%|          | 0/8 [00:00<?, ?it/s]"
      ]
     },
     "metadata": {},
     "output_type": "display_data"
    },
    {
     "name": "stdout",
     "output_type": "stream",
     "text": [
      "2023-04-12 15:18:19,639 - INFO - allennlp.training.gradient_descent_trainer - Validating\n"
     ]
    },
    {
     "data": {
      "application/vnd.jupyter.widget-view+json": {
       "model_id": "afdf021173c849cc8060b1e23dbedebd",
       "version_major": 2,
       "version_minor": 0
      },
      "text/plain": [
       "  0%|          | 0/3 [00:00<?, ?it/s]"
      ]
     },
     "metadata": {},
     "output_type": "display_data"
    },
    {
     "name": "stdout",
     "output_type": "stream",
     "text": [
      "2023-04-12 15:18:22,777 - INFO - allennlp.training.callbacks.console_logger -                        Training |  Validation\n",
      "2023-04-12 15:18:22,778 - INFO - allennlp.training.callbacks.console_logger - accuracy           |     0.706  |     0.719\n",
      "2023-04-12 15:18:22,779 - INFO - allennlp.training.callbacks.console_logger - accuracy3          |     0.792  |     0.822\n",
      "2023-04-12 15:18:22,780 - INFO - allennlp.training.callbacks.console_logger - f1-measure-overall |     0.588  |     0.630\n",
      "2023-04-12 15:18:22,781 - INFO - allennlp.training.callbacks.console_logger - loss               |   478.670  |   382.512\n",
      "2023-04-12 15:18:22,782 - INFO - allennlp.training.callbacks.console_logger - precision-overall  |     0.581  |     0.630\n",
      "2023-04-12 15:18:22,783 - INFO - allennlp.training.callbacks.console_logger - recall-overall     |     0.594  |     0.629\n",
      "2023-04-12 15:18:22,784 - INFO - allennlp.training.callbacks.console_logger - worker_0_memory_MB |  1571.934  |       N/A\n",
      "2023-04-12 15:18:23,612 - INFO - allennlp.training.gradient_descent_trainer - Epoch duration: 0:00:14.520925\n",
      "2023-04-12 15:18:23,615 - INFO - allennlp.training.gradient_descent_trainer - Estimated training time remaining: 0:10:56\n",
      "2023-04-12 15:18:23,616 - INFO - allennlp.training.gradient_descent_trainer - Epoch 4/49\n",
      "2023-04-12 15:18:23,617 - INFO - allennlp.training.gradient_descent_trainer - Worker 0 memory usage: 1.5G\n",
      "2023-04-12 15:18:23,618 - INFO - allennlp.training.gradient_descent_trainer - Training\n"
     ]
    },
    {
     "data": {
      "application/vnd.jupyter.widget-view+json": {
       "model_id": "f19bbeafdbf74136ba759286e195f44a",
       "version_major": 2,
       "version_minor": 0
      },
      "text/plain": [
       "  0%|          | 0/8 [00:00<?, ?it/s]"
      ]
     },
     "metadata": {},
     "output_type": "display_data"
    },
    {
     "name": "stdout",
     "output_type": "stream",
     "text": [
      "2023-04-12 15:18:34,413 - INFO - allennlp.training.gradient_descent_trainer - Validating\n"
     ]
    },
    {
     "data": {
      "application/vnd.jupyter.widget-view+json": {
       "model_id": "5f780efe89054c6db52189f1d6a1dde5",
       "version_major": 2,
       "version_minor": 0
      },
      "text/plain": [
       "  0%|          | 0/3 [00:00<?, ?it/s]"
      ]
     },
     "metadata": {},
     "output_type": "display_data"
    },
    {
     "name": "stdout",
     "output_type": "stream",
     "text": [
      "2023-04-12 15:18:37,634 - INFO - allennlp.training.callbacks.console_logger -                        Training |  Validation\n",
      "2023-04-12 15:18:37,635 - INFO - allennlp.training.callbacks.console_logger - accuracy           |     0.746  |     0.720\n",
      "2023-04-12 15:18:37,636 - INFO - allennlp.training.callbacks.console_logger - accuracy3          |     0.820  |     0.809\n",
      "2023-04-12 15:18:37,636 - INFO - allennlp.training.callbacks.console_logger - f1-measure-overall |     0.653  |     0.630\n",
      "2023-04-12 15:18:37,637 - INFO - allennlp.training.callbacks.console_logger - loss               |   385.755  |   362.656\n",
      "2023-04-12 15:18:37,637 - INFO - allennlp.training.callbacks.console_logger - precision-overall  |     0.659  |     0.611\n",
      "2023-04-12 15:18:37,638 - INFO - allennlp.training.callbacks.console_logger - recall-overall     |     0.647  |     0.650\n",
      "2023-04-12 15:18:37,638 - INFO - allennlp.training.callbacks.console_logger - worker_0_memory_MB |  1571.934  |       N/A\n",
      "2023-04-12 15:18:38,402 - INFO - allennlp.training.gradient_descent_trainer - Epoch duration: 0:00:14.786158\n",
      "2023-04-12 15:18:38,405 - INFO - allennlp.training.gradient_descent_trainer - Estimated training time remaining: 0:10:47\n",
      "2023-04-12 15:18:38,406 - INFO - allennlp.training.gradient_descent_trainer - Epoch 5/49\n",
      "2023-04-12 15:18:38,407 - INFO - allennlp.training.gradient_descent_trainer - Worker 0 memory usage: 1.5G\n",
      "2023-04-12 15:18:38,408 - INFO - allennlp.training.gradient_descent_trainer - Training\n"
     ]
    },
    {
     "data": {
      "application/vnd.jupyter.widget-view+json": {
       "model_id": "d057358ff1884f429c3fa7721f6e7bbc",
       "version_major": 2,
       "version_minor": 0
      },
      "text/plain": [
       "  0%|          | 0/8 [00:00<?, ?it/s]"
      ]
     },
     "metadata": {},
     "output_type": "display_data"
    },
    {
     "name": "stdout",
     "output_type": "stream",
     "text": [
      "2023-04-12 15:18:49,260 - INFO - allennlp.training.gradient_descent_trainer - Validating\n"
     ]
    },
    {
     "data": {
      "application/vnd.jupyter.widget-view+json": {
       "model_id": "ed66972398774d5fab7dd234948fdaf8",
       "version_major": 2,
       "version_minor": 0
      },
      "text/plain": [
       "  0%|          | 0/3 [00:00<?, ?it/s]"
      ]
     },
     "metadata": {},
     "output_type": "display_data"
    },
    {
     "name": "stdout",
     "output_type": "stream",
     "text": [
      "2023-04-12 15:18:52,192 - INFO - allennlp.training.callbacks.console_logger -                        Training |  Validation\n",
      "2023-04-12 15:18:52,193 - INFO - allennlp.training.callbacks.console_logger - accuracy           |     0.816  |     0.776\n",
      "2023-04-12 15:18:52,194 - INFO - allennlp.training.callbacks.console_logger - accuracy3          |     0.861  |     0.853\n",
      "2023-04-12 15:18:52,194 - INFO - allennlp.training.callbacks.console_logger - f1-measure-overall |     0.747  |     0.725\n",
      "2023-04-12 15:18:52,195 - INFO - allennlp.training.callbacks.console_logger - loss               |   276.494  |   311.513\n",
      "2023-04-12 15:18:52,196 - INFO - allennlp.training.callbacks.console_logger - precision-overall  |     0.735  |     0.729\n",
      "2023-04-12 15:18:52,197 - INFO - allennlp.training.callbacks.console_logger - recall-overall     |     0.758  |     0.720\n",
      "2023-04-12 15:18:52,197 - INFO - allennlp.training.callbacks.console_logger - worker_0_memory_MB |  1574.148  |       N/A\n",
      "2023-04-12 15:18:53,001 - INFO - allennlp.training.gradient_descent_trainer - Epoch duration: 0:00:14.595038\n",
      "2023-04-12 15:18:53,005 - INFO - allennlp.training.gradient_descent_trainer - Estimated training time remaining: 0:10:34\n",
      "2023-04-12 15:18:53,005 - INFO - allennlp.training.gradient_descent_trainer - Epoch 6/49\n",
      "2023-04-12 15:18:53,006 - INFO - allennlp.training.gradient_descent_trainer - Worker 0 memory usage: 1.5G\n",
      "2023-04-12 15:18:53,007 - INFO - allennlp.training.gradient_descent_trainer - Training\n"
     ]
    },
    {
     "data": {
      "application/vnd.jupyter.widget-view+json": {
       "model_id": "efd2ee1540d84ed3aed928159c66c214",
       "version_major": 2,
       "version_minor": 0
      },
      "text/plain": [
       "  0%|          | 0/8 [00:00<?, ?it/s]"
      ]
     },
     "metadata": {},
     "output_type": "display_data"
    },
    {
     "name": "stdout",
     "output_type": "stream",
     "text": [
      "2023-04-12 15:19:03,617 - INFO - allennlp.training.gradient_descent_trainer - Validating\n"
     ]
    },
    {
     "data": {
      "application/vnd.jupyter.widget-view+json": {
       "model_id": "84f6ba23e54947089ea6c214d191275a",
       "version_major": 2,
       "version_minor": 0
      },
      "text/plain": [
       "  0%|          | 0/3 [00:00<?, ?it/s]"
      ]
     },
     "metadata": {},
     "output_type": "display_data"
    },
    {
     "name": "stdout",
     "output_type": "stream",
     "text": [
      "2023-04-12 15:19:06,605 - INFO - allennlp.training.callbacks.console_logger -                        Training |  Validation\n",
      "2023-04-12 15:19:06,606 - INFO - allennlp.training.callbacks.console_logger - accuracy           |     0.866  |     0.785\n",
      "2023-04-12 15:19:06,607 - INFO - allennlp.training.callbacks.console_logger - accuracy3          |     0.904  |     0.874\n",
      "2023-04-12 15:19:06,608 - INFO - allennlp.training.callbacks.console_logger - f1-measure-overall |     0.818  |     0.722\n",
      "2023-04-12 15:19:06,609 - INFO - allennlp.training.callbacks.console_logger - loss               |   205.554  |   323.666\n",
      "2023-04-12 15:19:06,610 - INFO - allennlp.training.callbacks.console_logger - precision-overall  |     0.816  |     0.724\n",
      "2023-04-12 15:19:06,611 - INFO - allennlp.training.callbacks.console_logger - recall-overall     |     0.820  |     0.719\n",
      "2023-04-12 15:19:06,611 - INFO - allennlp.training.callbacks.console_logger - worker_0_memory_MB |  1574.148  |       N/A\n",
      "2023-04-12 15:19:07,068 - INFO - allennlp.training.gradient_descent_trainer - Epoch duration: 0:00:14.062955\n",
      "2023-04-12 15:19:07,069 - INFO - allennlp.training.gradient_descent_trainer - Estimated training time remaining: 0:10:19\n",
      "2023-04-12 15:19:07,070 - INFO - allennlp.training.gradient_descent_trainer - Epoch 7/49\n",
      "2023-04-12 15:19:07,071 - INFO - allennlp.training.gradient_descent_trainer - Worker 0 memory usage: 1.5G\n",
      "2023-04-12 15:19:07,073 - INFO - allennlp.training.gradient_descent_trainer - Training\n"
     ]
    },
    {
     "data": {
      "application/vnd.jupyter.widget-view+json": {
       "model_id": "74e81f99d35a4ff0913942778a73e76d",
       "version_major": 2,
       "version_minor": 0
      },
      "text/plain": [
       "  0%|          | 0/8 [00:00<?, ?it/s]"
      ]
     },
     "metadata": {},
     "output_type": "display_data"
    },
    {
     "name": "stdout",
     "output_type": "stream",
     "text": [
      "2023-04-12 15:19:17,964 - INFO - allennlp.training.gradient_descent_trainer - Validating\n"
     ]
    },
    {
     "data": {
      "application/vnd.jupyter.widget-view+json": {
       "model_id": "5e46ab157ba64456b1df6a099c28c02b",
       "version_major": 2,
       "version_minor": 0
      },
      "text/plain": [
       "  0%|          | 0/3 [00:00<?, ?it/s]"
      ]
     },
     "metadata": {},
     "output_type": "display_data"
    },
    {
     "name": "stdout",
     "output_type": "stream",
     "text": [
      "2023-04-12 15:19:20,969 - INFO - allennlp.training.callbacks.console_logger -                        Training |  Validation\n",
      "2023-04-12 15:19:20,970 - INFO - allennlp.training.callbacks.console_logger - accuracy           |     0.907  |     0.776\n",
      "2023-04-12 15:19:20,971 - INFO - allennlp.training.callbacks.console_logger - accuracy3          |     0.934  |     0.857\n",
      "2023-04-12 15:19:20,972 - INFO - allennlp.training.callbacks.console_logger - f1-measure-overall |     0.863  |     0.762\n",
      "2023-04-12 15:19:20,973 - INFO - allennlp.training.callbacks.console_logger - loss               |   137.947  |   334.824\n",
      "2023-04-12 15:19:20,973 - INFO - allennlp.training.callbacks.console_logger - precision-overall  |     0.863  |     0.746\n",
      "2023-04-12 15:19:20,974 - INFO - allennlp.training.callbacks.console_logger - recall-overall     |     0.862  |     0.778\n",
      "2023-04-12 15:19:20,974 - INFO - allennlp.training.callbacks.console_logger - worker_0_memory_MB |  1574.148  |       N/A\n",
      "2023-04-12 15:19:21,751 - INFO - allennlp.training.gradient_descent_trainer - Epoch duration: 0:00:14.681499\n",
      "2023-04-12 15:19:21,755 - INFO - allennlp.training.gradient_descent_trainer - Estimated training time remaining: 0:10:05\n",
      "2023-04-12 15:19:21,755 - INFO - allennlp.training.gradient_descent_trainer - Epoch 8/49\n",
      "2023-04-12 15:19:21,756 - INFO - allennlp.training.gradient_descent_trainer - Worker 0 memory usage: 1.5G\n",
      "2023-04-12 15:19:21,757 - INFO - allennlp.training.gradient_descent_trainer - Training\n"
     ]
    },
    {
     "data": {
      "application/vnd.jupyter.widget-view+json": {
       "model_id": "3ff124c98dc74118990aa528d8534a86",
       "version_major": 2,
       "version_minor": 0
      },
      "text/plain": [
       "  0%|          | 0/8 [00:00<?, ?it/s]"
      ]
     },
     "metadata": {},
     "output_type": "display_data"
    },
    {
     "name": "stdout",
     "output_type": "stream",
     "text": [
      "2023-04-12 15:19:31,862 - INFO - allennlp.training.gradient_descent_trainer - Validating\n"
     ]
    },
    {
     "data": {
      "application/vnd.jupyter.widget-view+json": {
       "model_id": "7ec44e589b2045deb7caf2689c7a0477",
       "version_major": 2,
       "version_minor": 0
      },
      "text/plain": [
       "  0%|          | 0/3 [00:00<?, ?it/s]"
      ]
     },
     "metadata": {},
     "output_type": "display_data"
    },
    {
     "name": "stdout",
     "output_type": "stream",
     "text": [
      "2023-04-12 15:19:34,742 - INFO - allennlp.training.callbacks.console_logger -                        Training |  Validation\n",
      "2023-04-12 15:19:34,743 - INFO - allennlp.training.callbacks.console_logger - accuracy           |     0.930  |     0.815\n",
      "2023-04-12 15:19:34,743 - INFO - allennlp.training.callbacks.console_logger - accuracy3          |     0.947  |     0.886\n",
      "2023-04-12 15:19:34,744 - INFO - allennlp.training.callbacks.console_logger - f1-measure-overall |     0.903  |     0.778\n",
      "2023-04-12 15:19:34,745 - INFO - allennlp.training.callbacks.console_logger - loss               |   113.310  |   332.791\n",
      "2023-04-12 15:19:34,746 - INFO - allennlp.training.callbacks.console_logger - precision-overall  |     0.892  |     0.761\n",
      "2023-04-12 15:19:34,747 - INFO - allennlp.training.callbacks.console_logger - recall-overall     |     0.913  |     0.795\n",
      "2023-04-12 15:19:34,747 - INFO - allennlp.training.callbacks.console_logger - worker_0_memory_MB |  1574.148  |       N/A\n",
      "2023-04-12 15:19:35,578 - INFO - allennlp.training.gradient_descent_trainer - Epoch duration: 0:00:13.822342\n",
      "2023-04-12 15:19:35,581 - INFO - allennlp.training.gradient_descent_trainer - Estimated training time remaining: 0:09:47\n",
      "2023-04-12 15:19:35,581 - INFO - allennlp.training.gradient_descent_trainer - Epoch 9/49\n",
      "2023-04-12 15:19:35,582 - INFO - allennlp.training.gradient_descent_trainer - Worker 0 memory usage: 1.5G\n",
      "2023-04-12 15:19:35,583 - INFO - allennlp.training.gradient_descent_trainer - Training\n"
     ]
    },
    {
     "data": {
      "application/vnd.jupyter.widget-view+json": {
       "model_id": "35866e88f6244150a1fed73211c82415",
       "version_major": 2,
       "version_minor": 0
      },
      "text/plain": [
       "  0%|          | 0/8 [00:00<?, ?it/s]"
      ]
     },
     "metadata": {},
     "output_type": "display_data"
    },
    {
     "name": "stdout",
     "output_type": "stream",
     "text": [
      "2023-04-12 15:19:47,210 - INFO - allennlp.training.gradient_descent_trainer - Validating\n"
     ]
    },
    {
     "data": {
      "application/vnd.jupyter.widget-view+json": {
       "model_id": "fa3b712fd5ac424eb1876c57f0514af8",
       "version_major": 2,
       "version_minor": 0
      },
      "text/plain": [
       "  0%|          | 0/3 [00:00<?, ?it/s]"
      ]
     },
     "metadata": {},
     "output_type": "display_data"
    },
    {
     "name": "stdout",
     "output_type": "stream",
     "text": [
      "2023-04-12 15:19:50,208 - INFO - allennlp.training.callbacks.console_logger -                        Training |  Validation\n",
      "2023-04-12 15:19:50,209 - INFO - allennlp.training.callbacks.console_logger - accuracy           |     0.946  |     0.805\n",
      "2023-04-12 15:19:50,209 - INFO - allennlp.training.callbacks.console_logger - accuracy3          |     0.964  |     0.881\n",
      "2023-04-12 15:19:50,210 - INFO - allennlp.training.callbacks.console_logger - f1-measure-overall |     0.924  |     0.753\n",
      "2023-04-12 15:19:50,210 - INFO - allennlp.training.callbacks.console_logger - loss               |    84.356  |   389.793\n",
      "2023-04-12 15:19:50,211 - INFO - allennlp.training.callbacks.console_logger - precision-overall  |     0.919  |     0.726\n",
      "2023-04-12 15:19:50,211 - INFO - allennlp.training.callbacks.console_logger - recall-overall     |     0.928  |     0.781\n",
      "2023-04-12 15:19:50,212 - INFO - allennlp.training.callbacks.console_logger - worker_0_memory_MB |  1574.148  |       N/A\n",
      "2023-04-12 15:19:50,652 - INFO - allennlp.training.gradient_descent_trainer - Epoch duration: 0:00:15.070698\n",
      "2023-04-12 15:19:50,653 - INFO - allennlp.training.gradient_descent_trainer - Estimated training time remaining: 0:09:38\n",
      "2023-04-12 15:19:50,654 - INFO - allennlp.training.gradient_descent_trainer - Epoch 10/49\n",
      "2023-04-12 15:19:50,654 - INFO - allennlp.training.gradient_descent_trainer - Worker 0 memory usage: 1.5G\n",
      "2023-04-12 15:19:50,656 - INFO - allennlp.training.gradient_descent_trainer - Training\n"
     ]
    },
    {
     "data": {
      "application/vnd.jupyter.widget-view+json": {
       "model_id": "8cbf0cbaa2d9477591d04c891f55ac0a",
       "version_major": 2,
       "version_minor": 0
      },
      "text/plain": [
       "  0%|          | 0/8 [00:00<?, ?it/s]"
      ]
     },
     "metadata": {},
     "output_type": "display_data"
    },
    {
     "name": "stdout",
     "output_type": "stream",
     "text": [
      "2023-04-12 15:20:00,854 - INFO - allennlp.training.gradient_descent_trainer - Validating\n"
     ]
    },
    {
     "data": {
      "application/vnd.jupyter.widget-view+json": {
       "model_id": "84355b8550ce4c5694ac0166ed3d05ad",
       "version_major": 2,
       "version_minor": 0
      },
      "text/plain": [
       "  0%|          | 0/3 [00:00<?, ?it/s]"
      ]
     },
     "metadata": {},
     "output_type": "display_data"
    },
    {
     "name": "stdout",
     "output_type": "stream",
     "text": [
      "2023-04-12 15:20:03,745 - INFO - allennlp.training.callbacks.console_logger -                        Training |  Validation\n",
      "2023-04-12 15:20:03,746 - INFO - allennlp.training.callbacks.console_logger - accuracy           |     0.956  |     0.824\n",
      "2023-04-12 15:20:03,747 - INFO - allennlp.training.callbacks.console_logger - accuracy3          |     0.970  |     0.876\n",
      "2023-04-12 15:20:03,747 - INFO - allennlp.training.callbacks.console_logger - f1-measure-overall |     0.927  |     0.799\n",
      "2023-04-12 15:20:03,748 - INFO - allennlp.training.callbacks.console_logger - loss               |    71.437  |   378.504\n",
      "2023-04-12 15:20:03,749 - INFO - allennlp.training.callbacks.console_logger - precision-overall  |     0.921  |     0.782\n",
      "2023-04-12 15:20:03,750 - INFO - allennlp.training.callbacks.console_logger - recall-overall     |     0.934  |     0.816\n",
      "2023-04-12 15:20:03,750 - INFO - allennlp.training.callbacks.console_logger - worker_0_memory_MB |  1574.148  |       N/A\n",
      "2023-04-12 15:20:04,569 - INFO - allennlp.training.gradient_descent_trainer - Epoch duration: 0:00:13.915199\n",
      "2023-04-12 15:20:04,572 - INFO - allennlp.training.gradient_descent_trainer - Estimated training time remaining: 0:09:20\n",
      "2023-04-12 15:20:04,572 - INFO - allennlp.training.gradient_descent_trainer - Epoch 11/49\n",
      "2023-04-12 15:20:04,573 - INFO - allennlp.training.gradient_descent_trainer - Worker 0 memory usage: 1.6G\n",
      "2023-04-12 15:20:04,574 - INFO - allennlp.training.gradient_descent_trainer - Training\n"
     ]
    },
    {
     "data": {
      "application/vnd.jupyter.widget-view+json": {
       "model_id": "4afcbd00ea044562974537ed86c0c719",
       "version_major": 2,
       "version_minor": 0
      },
      "text/plain": [
       "  0%|          | 0/8 [00:00<?, ?it/s]"
      ]
     },
     "metadata": {},
     "output_type": "display_data"
    },
    {
     "name": "stdout",
     "output_type": "stream",
     "text": [
      "2023-04-12 15:20:15,055 - INFO - allennlp.training.gradient_descent_trainer - Validating\n"
     ]
    },
    {
     "data": {
      "application/vnd.jupyter.widget-view+json": {
       "model_id": "3e38129252b44efaa3a2b567c5adb502",
       "version_major": 2,
       "version_minor": 0
      },
      "text/plain": [
       "  0%|          | 0/3 [00:00<?, ?it/s]"
      ]
     },
     "metadata": {},
     "output_type": "display_data"
    },
    {
     "name": "stdout",
     "output_type": "stream",
     "text": [
      "2023-04-12 15:20:18,023 - INFO - allennlp.training.callbacks.console_logger -                        Training |  Validation\n",
      "2023-04-12 15:20:18,024 - INFO - allennlp.training.callbacks.console_logger - accuracy           |     0.969  |     0.813\n",
      "2023-04-12 15:20:18,025 - INFO - allennlp.training.callbacks.console_logger - accuracy3          |     0.976  |     0.877\n",
      "2023-04-12 15:20:18,026 - INFO - allennlp.training.callbacks.console_logger - f1-measure-overall |     0.953  |     0.793\n",
      "2023-04-12 15:20:18,027 - INFO - allennlp.training.callbacks.console_logger - loss               |    45.628  |   450.153\n",
      "2023-04-12 15:20:18,028 - INFO - allennlp.training.callbacks.console_logger - precision-overall  |     0.949  |     0.781\n",
      "2023-04-12 15:20:18,028 - INFO - allennlp.training.callbacks.console_logger - recall-overall     |     0.957  |     0.805\n",
      "2023-04-12 15:20:18,029 - INFO - allennlp.training.callbacks.console_logger - worker_0_memory_MB |  1601.043  |       N/A\n",
      "2023-04-12 15:20:18,435 - INFO - allennlp.training.gradient_descent_trainer - Epoch duration: 0:00:13.862951\n",
      "2023-04-12 15:20:18,436 - INFO - allennlp.training.gradient_descent_trainer - Estimated training time remaining: 0:09:05\n",
      "2023-04-12 15:20:18,437 - INFO - allennlp.training.gradient_descent_trainer - Epoch 12/49\n",
      "2023-04-12 15:20:18,438 - INFO - allennlp.training.gradient_descent_trainer - Worker 0 memory usage: 1.6G\n",
      "2023-04-12 15:20:18,439 - INFO - allennlp.training.gradient_descent_trainer - Training\n"
     ]
    },
    {
     "data": {
      "application/vnd.jupyter.widget-view+json": {
       "model_id": "c26dcc036bcc4eae90082d2d11c5c4d9",
       "version_major": 2,
       "version_minor": 0
      },
      "text/plain": [
       "  0%|          | 0/8 [00:00<?, ?it/s]"
      ]
     },
     "metadata": {},
     "output_type": "display_data"
    },
    {
     "name": "stdout",
     "output_type": "stream",
     "text": [
      "2023-04-12 15:20:29,819 - INFO - allennlp.training.gradient_descent_trainer - Validating\n"
     ]
    },
    {
     "data": {
      "application/vnd.jupyter.widget-view+json": {
       "model_id": "d507d21822a74e419e955879e76e2848",
       "version_major": 2,
       "version_minor": 0
      },
      "text/plain": [
       "  0%|          | 0/3 [00:00<?, ?it/s]"
      ]
     },
     "metadata": {},
     "output_type": "display_data"
    },
    {
     "name": "stdout",
     "output_type": "stream",
     "text": [
      "2023-04-12 15:20:33,496 - INFO - allennlp.training.callbacks.console_logger -                        Training |  Validation\n",
      "2023-04-12 15:20:33,497 - INFO - allennlp.training.callbacks.console_logger - accuracy           |     0.957  |     0.809\n",
      "2023-04-12 15:20:33,497 - INFO - allennlp.training.callbacks.console_logger - accuracy3          |     0.968  |     0.876\n",
      "2023-04-12 15:20:33,498 - INFO - allennlp.training.callbacks.console_logger - f1-measure-overall |     0.956  |     0.769\n",
      "2023-04-12 15:20:33,498 - INFO - allennlp.training.callbacks.console_logger - loss               |    66.026  |   372.066\n",
      "2023-04-12 15:20:33,499 - INFO - allennlp.training.callbacks.console_logger - precision-overall  |     0.957  |     0.758\n",
      "2023-04-12 15:20:33,499 - INFO - allennlp.training.callbacks.console_logger - recall-overall     |     0.954  |     0.781\n",
      "2023-04-12 15:20:33,500 - INFO - allennlp.training.callbacks.console_logger - worker_0_memory_MB |  1601.043  |       N/A\n",
      "2023-04-12 15:20:33,936 - INFO - allennlp.training.gradient_descent_trainer - Epoch duration: 0:00:15.498997\n",
      "2023-04-12 15:20:33,939 - INFO - allennlp.training.gradient_descent_trainer - Estimated training time remaining: 0:08:54\n",
      "2023-04-12 15:20:33,940 - INFO - allennlp.training.gradient_descent_trainer - Epoch 13/49\n",
      "2023-04-12 15:20:33,941 - INFO - allennlp.training.gradient_descent_trainer - Worker 0 memory usage: 1.6G\n",
      "2023-04-12 15:20:33,942 - INFO - allennlp.training.gradient_descent_trainer - Training\n"
     ]
    },
    {
     "data": {
      "application/vnd.jupyter.widget-view+json": {
       "model_id": "23751ace549143b4953b279ab7f3d1d6",
       "version_major": 2,
       "version_minor": 0
      },
      "text/plain": [
       "  0%|          | 0/8 [00:00<?, ?it/s]"
      ]
     },
     "metadata": {},
     "output_type": "display_data"
    },
    {
     "name": "stdout",
     "output_type": "stream",
     "text": [
      "2023-04-12 15:20:44,651 - INFO - allennlp.training.gradient_descent_trainer - Validating\n"
     ]
    },
    {
     "data": {
      "application/vnd.jupyter.widget-view+json": {
       "model_id": "cfbc2538fb8642ffbb5a8233e035711f",
       "version_major": 2,
       "version_minor": 0
      },
      "text/plain": [
       "  0%|          | 0/3 [00:00<?, ?it/s]"
      ]
     },
     "metadata": {},
     "output_type": "display_data"
    },
    {
     "name": "stdout",
     "output_type": "stream",
     "text": [
      "2023-04-12 15:20:47,616 - INFO - allennlp.training.callbacks.console_logger -                        Training |  Validation\n",
      "2023-04-12 15:20:47,617 - INFO - allennlp.training.callbacks.console_logger - accuracy           |     0.980  |     0.809\n",
      "2023-04-12 15:20:47,618 - INFO - allennlp.training.callbacks.console_logger - accuracy3          |     0.988  |     0.876\n",
      "2023-04-12 15:20:47,619 - INFO - allennlp.training.callbacks.console_logger - f1-measure-overall |     0.973  |     0.800\n",
      "2023-04-12 15:20:47,619 - INFO - allennlp.training.callbacks.console_logger - loss               |    34.583  |   399.033\n",
      "2023-04-12 15:20:47,620 - INFO - allennlp.training.callbacks.console_logger - precision-overall  |     0.973  |     0.778\n",
      "2023-04-12 15:20:47,620 - INFO - allennlp.training.callbacks.console_logger - recall-overall     |     0.973  |     0.822\n",
      "2023-04-12 15:20:47,621 - INFO - allennlp.training.callbacks.console_logger - worker_0_memory_MB |  1601.043  |       N/A\n",
      "2023-04-12 15:20:48,374 - INFO - allennlp.training.gradient_descent_trainer - Epoch duration: 0:00:14.433984\n",
      "2023-04-12 15:20:48,377 - INFO - allennlp.training.gradient_descent_trainer - Estimated training time remaining: 0:08:39\n",
      "2023-04-12 15:20:48,378 - INFO - allennlp.training.gradient_descent_trainer - Epoch 14/49\n",
      "2023-04-12 15:20:48,378 - INFO - allennlp.training.gradient_descent_trainer - Worker 0 memory usage: 1.6G\n",
      "2023-04-12 15:20:48,379 - INFO - allennlp.training.gradient_descent_trainer - Training\n"
     ]
    },
    {
     "data": {
      "application/vnd.jupyter.widget-view+json": {
       "model_id": "a36d52cf360d4f2e92d5950f960d2838",
       "version_major": 2,
       "version_minor": 0
      },
      "text/plain": [
       "  0%|          | 0/8 [00:00<?, ?it/s]"
      ]
     },
     "metadata": {},
     "output_type": "display_data"
    },
    {
     "name": "stdout",
     "output_type": "stream",
     "text": [
      "2023-04-12 15:20:59,149 - INFO - allennlp.training.gradient_descent_trainer - Validating\n"
     ]
    },
    {
     "data": {
      "application/vnd.jupyter.widget-view+json": {
       "model_id": "3e77c25606ad4940b81dda421c1b0e61",
       "version_major": 2,
       "version_minor": 0
      },
      "text/plain": [
       "  0%|          | 0/3 [00:00<?, ?it/s]"
      ]
     },
     "metadata": {},
     "output_type": "display_data"
    },
    {
     "name": "stdout",
     "output_type": "stream",
     "text": [
      "2023-04-12 15:21:02,047 - INFO - allennlp.training.callbacks.console_logger -                        Training |  Validation\n",
      "2023-04-12 15:21:02,048 - INFO - allennlp.training.callbacks.console_logger - accuracy           |     0.977  |     0.825\n",
      "2023-04-12 15:21:02,048 - INFO - allennlp.training.callbacks.console_logger - accuracy3          |     0.984  |     0.889\n",
      "2023-04-12 15:21:02,049 - INFO - allennlp.training.callbacks.console_logger - f1-measure-overall |     0.961  |     0.797\n",
      "2023-04-12 15:21:02,050 - INFO - allennlp.training.callbacks.console_logger - loss               |    35.503  |   450.785\n",
      "2023-04-12 15:21:02,051 - INFO - allennlp.training.callbacks.console_logger - precision-overall  |     0.959  |     0.795\n",
      "2023-04-12 15:21:02,051 - INFO - allennlp.training.callbacks.console_logger - recall-overall     |     0.963  |     0.798\n",
      "2023-04-12 15:21:02,052 - INFO - allennlp.training.callbacks.console_logger - worker_0_memory_MB |  1624.180  |       N/A\n",
      "2023-04-12 15:21:02,500 - INFO - allennlp.training.gradient_descent_trainer - Epoch duration: 0:00:14.122466\n",
      "2023-04-12 15:21:02,501 - INFO - allennlp.training.gradient_descent_trainer - Estimated training time remaining: 0:08:24\n",
      "2023-04-12 15:21:02,501 - INFO - allennlp.training.gradient_descent_trainer - Epoch 15/49\n",
      "2023-04-12 15:21:02,502 - INFO - allennlp.training.gradient_descent_trainer - Worker 0 memory usage: 1.6G\n",
      "2023-04-12 15:21:02,503 - INFO - allennlp.training.gradient_descent_trainer - Training\n"
     ]
    },
    {
     "data": {
      "application/vnd.jupyter.widget-view+json": {
       "model_id": "dbc622d7af8641e787789ca170896691",
       "version_major": 2,
       "version_minor": 0
      },
      "text/plain": [
       "  0%|          | 0/8 [00:00<?, ?it/s]"
      ]
     },
     "metadata": {},
     "output_type": "display_data"
    },
    {
     "name": "stdout",
     "output_type": "stream",
     "text": [
      "2023-04-12 15:21:13,055 - INFO - allennlp.training.gradient_descent_trainer - Validating\n"
     ]
    },
    {
     "data": {
      "application/vnd.jupyter.widget-view+json": {
       "model_id": "b80b357191204cc8bec6942f3c7d3595",
       "version_major": 2,
       "version_minor": 0
      },
      "text/plain": [
       "  0%|          | 0/3 [00:00<?, ?it/s]"
      ]
     },
     "metadata": {},
     "output_type": "display_data"
    },
    {
     "name": "stdout",
     "output_type": "stream",
     "text": [
      "2023-04-12 15:21:15,954 - INFO - allennlp.training.callbacks.console_logger -                        Training |  Validation\n",
      "2023-04-12 15:21:15,954 - INFO - allennlp.training.callbacks.console_logger - accuracy           |     0.986  |     0.816\n",
      "2023-04-12 15:21:15,955 - INFO - allennlp.training.callbacks.console_logger - accuracy3          |     0.993  |     0.885\n",
      "2023-04-12 15:21:15,956 - INFO - allennlp.training.callbacks.console_logger - f1-measure-overall |     0.976  |     0.788\n",
      "2023-04-12 15:21:15,956 - INFO - allennlp.training.callbacks.console_logger - loss               |    23.685  |   421.854\n",
      "2023-04-12 15:21:15,957 - INFO - allennlp.training.callbacks.console_logger - precision-overall  |     0.973  |     0.776\n",
      "2023-04-12 15:21:15,958 - INFO - allennlp.training.callbacks.console_logger - recall-overall     |     0.978  |     0.801\n",
      "2023-04-12 15:21:15,958 - INFO - allennlp.training.callbacks.console_logger - worker_0_memory_MB |  1624.180  |       N/A\n",
      "2023-04-12 15:21:16,378 - INFO - allennlp.training.gradient_descent_trainer - Epoch duration: 0:00:13.876321\n",
      "2023-04-12 15:21:16,381 - INFO - allennlp.training.gradient_descent_trainer - Estimated training time remaining: 0:08:09\n",
      "2023-04-12 15:21:16,382 - INFO - allennlp.training.gradient_descent_trainer - Epoch 16/49\n",
      "2023-04-12 15:21:16,383 - INFO - allennlp.training.gradient_descent_trainer - Worker 0 memory usage: 1.6G\n",
      "2023-04-12 15:21:16,384 - INFO - allennlp.training.gradient_descent_trainer - Training\n"
     ]
    },
    {
     "data": {
      "application/vnd.jupyter.widget-view+json": {
       "model_id": "7de75430be51450bb40f15f87df1f87a",
       "version_major": 2,
       "version_minor": 0
      },
      "text/plain": [
       "  0%|          | 0/8 [00:00<?, ?it/s]"
      ]
     },
     "metadata": {},
     "output_type": "display_data"
    },
    {
     "name": "stdout",
     "output_type": "stream",
     "text": [
      "2023-04-12 15:21:26,304 - INFO - allennlp.training.gradient_descent_trainer - Validating\n"
     ]
    },
    {
     "data": {
      "application/vnd.jupyter.widget-view+json": {
       "model_id": "2010ba4e47024d7987e94b0d4c0289b4",
       "version_major": 2,
       "version_minor": 0
      },
      "text/plain": [
       "  0%|          | 0/3 [00:00<?, ?it/s]"
      ]
     },
     "metadata": {},
     "output_type": "display_data"
    },
    {
     "name": "stdout",
     "output_type": "stream",
     "text": [
      "2023-04-12 15:21:29,266 - INFO - allennlp.training.callbacks.console_logger -                        Training |  Validation\n",
      "2023-04-12 15:21:29,267 - INFO - allennlp.training.callbacks.console_logger - accuracy           |     0.981  |     0.803\n",
      "2023-04-12 15:21:29,268 - INFO - allennlp.training.callbacks.console_logger - accuracy3          |     0.990  |     0.866\n",
      "2023-04-12 15:21:29,269 - INFO - allennlp.training.callbacks.console_logger - f1-measure-overall |     0.964  |     0.771\n",
      "2023-04-12 15:21:29,269 - INFO - allennlp.training.callbacks.console_logger - loss               |    32.703  |   522.810\n",
      "2023-04-12 15:21:29,270 - INFO - allennlp.training.callbacks.console_logger - precision-overall  |     0.960  |     0.789\n",
      "2023-04-12 15:21:29,270 - INFO - allennlp.training.callbacks.console_logger - recall-overall     |     0.968  |     0.754\n",
      "2023-04-12 15:21:29,271 - INFO - allennlp.training.callbacks.console_logger - worker_0_memory_MB |  1624.180  |       N/A\n",
      "2023-04-12 15:21:29,687 - INFO - allennlp.training.gradient_descent_trainer - Epoch duration: 0:00:13.305245\n",
      "2023-04-12 15:21:29,688 - INFO - allennlp.training.gradient_descent_trainer - Estimated training time remaining: 0:07:52\n",
      "2023-04-12 15:21:29,688 - INFO - allennlp.training.gradient_descent_trainer - Epoch 17/49\n",
      "2023-04-12 15:21:29,689 - INFO - allennlp.training.gradient_descent_trainer - Worker 0 memory usage: 1.6G\n",
      "2023-04-12 15:21:29,691 - INFO - allennlp.training.gradient_descent_trainer - Training\n"
     ]
    },
    {
     "data": {
      "application/vnd.jupyter.widget-view+json": {
       "model_id": "b71591bcd4a44ca2ab95c510f8f10d22",
       "version_major": 2,
       "version_minor": 0
      },
      "text/plain": [
       "  0%|          | 0/8 [00:00<?, ?it/s]"
      ]
     },
     "metadata": {},
     "output_type": "display_data"
    },
    {
     "name": "stdout",
     "output_type": "stream",
     "text": [
      "2023-04-12 15:21:39,902 - INFO - allennlp.training.gradient_descent_trainer - Validating\n"
     ]
    },
    {
     "data": {
      "application/vnd.jupyter.widget-view+json": {
       "model_id": "ba63f5a45663437b97cf9e85e30a9bd5",
       "version_major": 2,
       "version_minor": 0
      },
      "text/plain": [
       "  0%|          | 0/3 [00:00<?, ?it/s]"
      ]
     },
     "metadata": {},
     "output_type": "display_data"
    },
    {
     "name": "stdout",
     "output_type": "stream",
     "text": [
      "2023-04-12 15:21:43,008 - INFO - allennlp.training.callbacks.console_logger -                        Training |  Validation\n",
      "2023-04-12 15:21:43,009 - INFO - allennlp.training.callbacks.console_logger - accuracy           |     0.989  |     0.809\n",
      "2023-04-12 15:21:43,010 - INFO - allennlp.training.callbacks.console_logger - accuracy3          |     0.994  |     0.884\n",
      "2023-04-12 15:21:43,011 - INFO - allennlp.training.callbacks.console_logger - f1-measure-overall |     0.983  |     0.790\n",
      "2023-04-12 15:21:43,011 - INFO - allennlp.training.callbacks.console_logger - loss               |    17.906  |   460.916\n",
      "2023-04-12 15:21:43,012 - INFO - allennlp.training.callbacks.console_logger - precision-overall  |     0.982  |     0.774\n",
      "2023-04-12 15:21:43,013 - INFO - allennlp.training.callbacks.console_logger - recall-overall     |     0.984  |     0.807\n",
      "2023-04-12 15:21:43,014 - INFO - allennlp.training.callbacks.console_logger - worker_0_memory_MB |  1624.180  |       N/A\n",
      "2023-04-12 15:21:43,406 - INFO - allennlp.training.gradient_descent_trainer - Epoch duration: 0:00:13.717606\n",
      "2023-04-12 15:21:43,409 - INFO - allennlp.training.gradient_descent_trainer - Estimated training time remaining: 0:07:37\n",
      "2023-04-12 15:21:43,410 - INFO - allennlp.training.gradient_descent_trainer - Epoch 18/49\n",
      "2023-04-12 15:21:43,411 - INFO - allennlp.training.gradient_descent_trainer - Worker 0 memory usage: 1.6G\n",
      "2023-04-12 15:21:43,412 - INFO - allennlp.training.gradient_descent_trainer - Training\n"
     ]
    },
    {
     "data": {
      "application/vnd.jupyter.widget-view+json": {
       "model_id": "466fa54ead36437a8271eb21b2b41eac",
       "version_major": 2,
       "version_minor": 0
      },
      "text/plain": [
       "  0%|          | 0/8 [00:00<?, ?it/s]"
      ]
     },
     "metadata": {},
     "output_type": "display_data"
    },
    {
     "name": "stdout",
     "output_type": "stream",
     "text": [
      "2023-04-12 15:21:54,258 - INFO - allennlp.training.gradient_descent_trainer - Validating\n"
     ]
    },
    {
     "data": {
      "application/vnd.jupyter.widget-view+json": {
       "model_id": "d51d6cbabea74d9c9ef2a65aa3366e6e",
       "version_major": 2,
       "version_minor": 0
      },
      "text/plain": [
       "  0%|          | 0/3 [00:00<?, ?it/s]"
      ]
     },
     "metadata": {},
     "output_type": "display_data"
    },
    {
     "name": "stdout",
     "output_type": "stream",
     "text": [
      "2023-04-12 15:21:57,340 - INFO - allennlp.training.callbacks.console_logger -                        Training |  Validation\n",
      "2023-04-12 15:21:57,341 - INFO - allennlp.training.callbacks.console_logger - accuracy           |     0.990  |     0.811\n",
      "2023-04-12 15:21:57,342 - INFO - allennlp.training.callbacks.console_logger - accuracy3          |     0.995  |     0.873\n",
      "2023-04-12 15:21:57,343 - INFO - allennlp.training.callbacks.console_logger - f1-measure-overall |     0.983  |     0.773\n",
      "2023-04-12 15:21:57,343 - INFO - allennlp.training.callbacks.console_logger - loss               |    17.100  |   501.635\n",
      "2023-04-12 15:21:57,344 - INFO - allennlp.training.callbacks.console_logger - precision-overall  |     0.984  |     0.767\n",
      "2023-04-12 15:21:57,345 - INFO - allennlp.training.callbacks.console_logger - recall-overall     |     0.983  |     0.780\n",
      "2023-04-12 15:21:57,346 - INFO - allennlp.training.callbacks.console_logger - worker_0_memory_MB |  1624.180  |       N/A\n",
      "2023-04-12 15:21:57,764 - INFO - allennlp.training.gradient_descent_trainer - Epoch duration: 0:00:14.353822\n",
      "2023-04-12 15:21:57,769 - INFO - allennlp.training.gradient_descent_trainer - Estimated training time remaining: 0:07:23\n",
      "2023-04-12 15:21:57,770 - INFO - allennlp.training.gradient_descent_trainer - Epoch 19/49\n",
      "2023-04-12 15:21:57,770 - INFO - allennlp.training.gradient_descent_trainer - Worker 0 memory usage: 1.6G\n",
      "2023-04-12 15:21:57,772 - INFO - allennlp.training.gradient_descent_trainer - Training\n"
     ]
    },
    {
     "data": {
      "application/vnd.jupyter.widget-view+json": {
       "model_id": "9bdbd41624cf4712a8c0ff155b63b93c",
       "version_major": 2,
       "version_minor": 0
      },
      "text/plain": [
       "  0%|          | 0/8 [00:00<?, ?it/s]"
      ]
     },
     "metadata": {},
     "output_type": "display_data"
    },
    {
     "name": "stdout",
     "output_type": "stream",
     "text": [
      "2023-04-12 15:22:09,184 - INFO - allennlp.training.gradient_descent_trainer - Validating\n"
     ]
    },
    {
     "data": {
      "application/vnd.jupyter.widget-view+json": {
       "model_id": "8c95911e083b421486e81ea5ac34d7ff",
       "version_major": 2,
       "version_minor": 0
      },
      "text/plain": [
       "  0%|          | 0/3 [00:00<?, ?it/s]"
      ]
     },
     "metadata": {},
     "output_type": "display_data"
    },
    {
     "name": "stdout",
     "output_type": "stream",
     "text": [
      "2023-04-12 15:22:12,126 - INFO - allennlp.training.callbacks.console_logger -                        Training |  Validation\n",
      "2023-04-12 15:22:12,127 - INFO - allennlp.training.callbacks.console_logger - accuracy           |     0.990  |     0.803\n",
      "2023-04-12 15:22:12,128 - INFO - allennlp.training.callbacks.console_logger - accuracy3          |     0.994  |     0.874\n",
      "2023-04-12 15:22:12,129 - INFO - allennlp.training.callbacks.console_logger - f1-measure-overall |     0.981  |     0.774\n",
      "2023-04-12 15:22:12,129 - INFO - allennlp.training.callbacks.console_logger - loss               |    16.653  |   583.687\n",
      "2023-04-12 15:22:12,130 - INFO - allennlp.training.callbacks.console_logger - precision-overall  |     0.979  |     0.767\n",
      "2023-04-12 15:22:12,131 - INFO - allennlp.training.callbacks.console_logger - recall-overall     |     0.984  |     0.781\n",
      "2023-04-12 15:22:12,132 - INFO - allennlp.training.callbacks.console_logger - worker_0_memory_MB |  1624.180  |       N/A\n",
      "2023-04-12 15:22:12,552 - INFO - allennlp.training.gradient_descent_trainer - Epoch duration: 0:00:14.782193\n",
      "2023-04-12 15:22:12,553 - INFO - allennlp.training.gradient_descent_trainer - Estimated training time remaining: 0:07:09\n",
      "2023-04-12 15:22:12,553 - INFO - allennlp.training.gradient_descent_trainer - Epoch 20/49\n",
      "2023-04-12 15:22:12,554 - INFO - allennlp.training.gradient_descent_trainer - Worker 0 memory usage: 1.6G\n",
      "2023-04-12 15:22:12,555 - INFO - allennlp.training.gradient_descent_trainer - Training\n"
     ]
    },
    {
     "data": {
      "application/vnd.jupyter.widget-view+json": {
       "model_id": "c1028d7dc5e04610b368813db1ed27bd",
       "version_major": 2,
       "version_minor": 0
      },
      "text/plain": [
       "  0%|          | 0/8 [00:00<?, ?it/s]"
      ]
     },
     "metadata": {},
     "output_type": "display_data"
    },
    {
     "name": "stdout",
     "output_type": "stream",
     "text": [
      "2023-04-12 15:22:23,282 - INFO - allennlp.training.gradient_descent_trainer - Validating\n"
     ]
    },
    {
     "data": {
      "application/vnd.jupyter.widget-view+json": {
       "model_id": "46a2b5e86894470086bdfaad52f32b3c",
       "version_major": 2,
       "version_minor": 0
      },
      "text/plain": [
       "  0%|          | 0/3 [00:00<?, ?it/s]"
      ]
     },
     "metadata": {},
     "output_type": "display_data"
    },
    {
     "name": "stdout",
     "output_type": "stream",
     "text": [
      "2023-04-12 15:22:26,816 - INFO - allennlp.training.callbacks.console_logger -                        Training |  Validation\n",
      "2023-04-12 15:22:26,817 - INFO - allennlp.training.callbacks.console_logger - accuracy           |     0.994  |     0.790\n",
      "2023-04-12 15:22:26,818 - INFO - allennlp.training.callbacks.console_logger - accuracy3          |     0.996  |     0.860\n",
      "2023-04-12 15:22:26,819 - INFO - allennlp.training.callbacks.console_logger - f1-measure-overall |     0.986  |     0.773\n",
      "2023-04-12 15:22:26,819 - INFO - allennlp.training.callbacks.console_logger - loss               |     8.766  |   603.808\n",
      "2023-04-12 15:22:26,820 - INFO - allennlp.training.callbacks.console_logger - precision-overall  |     0.985  |     0.748\n",
      "2023-04-12 15:22:26,820 - INFO - allennlp.training.callbacks.console_logger - recall-overall     |     0.988  |     0.799\n",
      "2023-04-12 15:22:26,821 - INFO - allennlp.training.callbacks.console_logger - worker_0_memory_MB |  1624.180  |       N/A\n",
      "2023-04-12 15:22:27,245 - INFO - allennlp.training.gradient_descent_trainer - Epoch duration: 0:00:14.691691\n",
      "2023-04-12 15:22:27,248 - INFO - allennlp.training.gradient_descent_trainer - Estimated training time remaining: 0:06:55\n",
      "2023-04-12 15:22:27,248 - INFO - allennlp.training.gradient_descent_trainer - Epoch 21/49\n",
      "2023-04-12 15:22:27,249 - INFO - allennlp.training.gradient_descent_trainer - Worker 0 memory usage: 1.6G\n",
      "2023-04-12 15:22:27,250 - INFO - allennlp.training.gradient_descent_trainer - Training\n"
     ]
    },
    {
     "data": {
      "application/vnd.jupyter.widget-view+json": {
       "model_id": "193cf09424a24d8b9bd22c1510c0c3b8",
       "version_major": 2,
       "version_minor": 0
      },
      "text/plain": [
       "  0%|          | 0/8 [00:00<?, ?it/s]"
      ]
     },
     "metadata": {},
     "output_type": "display_data"
    },
    {
     "name": "stdout",
     "output_type": "stream",
     "text": [
      "2023-04-12 15:22:38,530 - INFO - allennlp.training.gradient_descent_trainer - Validating\n"
     ]
    },
    {
     "data": {
      "application/vnd.jupyter.widget-view+json": {
       "model_id": "ff60e9d1a51143418cafa59025be5890",
       "version_major": 2,
       "version_minor": 0
      },
      "text/plain": [
       "  0%|          | 0/3 [00:00<?, ?it/s]"
      ]
     },
     "metadata": {},
     "output_type": "display_data"
    },
    {
     "name": "stdout",
     "output_type": "stream",
     "text": [
      "2023-04-12 15:22:41,665 - INFO - allennlp.training.callbacks.console_logger -                        Training |  Validation\n",
      "2023-04-12 15:22:41,666 - INFO - allennlp.training.callbacks.console_logger - accuracy           |     0.991  |     0.824\n",
      "2023-04-12 15:22:41,667 - INFO - allennlp.training.callbacks.console_logger - accuracy3          |     0.993  |     0.884\n",
      "2023-04-12 15:22:41,668 - INFO - allennlp.training.callbacks.console_logger - f1-measure-overall |     0.983  |     0.792\n",
      "2023-04-12 15:22:41,668 - INFO - allennlp.training.callbacks.console_logger - loss               |    19.408  |   594.671\n",
      "2023-04-12 15:22:41,669 - INFO - allennlp.training.callbacks.console_logger - precision-overall  |     0.981  |     0.785\n",
      "2023-04-12 15:22:41,670 - INFO - allennlp.training.callbacks.console_logger - recall-overall     |     0.985  |     0.799\n",
      "2023-04-12 15:22:41,671 - INFO - allennlp.training.callbacks.console_logger - worker_0_memory_MB |  1626.309  |       N/A\n",
      "2023-04-12 15:22:42,110 - INFO - allennlp.training.gradient_descent_trainer - Epoch duration: 0:00:14.861316\n",
      "2023-04-12 15:22:42,110 - INFO - allennlp.training.gradient_descent_trainer - Estimated training time remaining: 0:06:42\n",
      "2023-04-12 15:22:42,111 - INFO - allennlp.training.gradient_descent_trainer - Epoch 22/49\n",
      "2023-04-12 15:22:42,111 - INFO - allennlp.training.gradient_descent_trainer - Worker 0 memory usage: 1.6G\n",
      "2023-04-12 15:22:42,113 - INFO - allennlp.training.gradient_descent_trainer - Training\n"
     ]
    },
    {
     "data": {
      "application/vnd.jupyter.widget-view+json": {
       "model_id": "1c92ae108e734a3d9ccd189f6dd09964",
       "version_major": 2,
       "version_minor": 0
      },
      "text/plain": [
       "  0%|          | 0/8 [00:00<?, ?it/s]"
      ]
     },
     "metadata": {},
     "output_type": "display_data"
    },
    {
     "name": "stdout",
     "output_type": "stream",
     "text": [
      "2023-04-12 15:22:52,593 - INFO - allennlp.training.gradient_descent_trainer - Validating\n"
     ]
    },
    {
     "data": {
      "application/vnd.jupyter.widget-view+json": {
       "model_id": "5f8789e9e45944ec8a93b45a7089193e",
       "version_major": 2,
       "version_minor": 0
      },
      "text/plain": [
       "  0%|          | 0/3 [00:00<?, ?it/s]"
      ]
     },
     "metadata": {},
     "output_type": "display_data"
    },
    {
     "name": "stdout",
     "output_type": "stream",
     "text": [
      "2023-04-12 15:22:55,620 - INFO - allennlp.training.callbacks.console_logger -                        Training |  Validation\n",
      "2023-04-12 15:22:55,621 - INFO - allennlp.training.callbacks.console_logger - accuracy           |     0.996  |     0.814\n",
      "2023-04-12 15:22:55,622 - INFO - allennlp.training.callbacks.console_logger - accuracy3          |     0.998  |     0.884\n",
      "2023-04-12 15:22:55,623 - INFO - allennlp.training.callbacks.console_logger - f1-measure-overall |     0.992  |     0.793\n",
      "2023-04-12 15:22:55,624 - INFO - allennlp.training.callbacks.console_logger - loss               |     9.286  |   538.817\n",
      "2023-04-12 15:22:55,624 - INFO - allennlp.training.callbacks.console_logger - precision-overall  |     0.992  |     0.772\n",
      "2023-04-12 15:22:55,625 - INFO - allennlp.training.callbacks.console_logger - recall-overall     |     0.992  |     0.815\n",
      "2023-04-12 15:22:55,626 - INFO - allennlp.training.callbacks.console_logger - worker_0_memory_MB |  1626.309  |       N/A\n",
      "2023-04-12 15:22:56,049 - INFO - allennlp.training.gradient_descent_trainer - Epoch duration: 0:00:13.938568\n",
      "2023-04-12 15:22:56,050 - INFO - allennlp.training.gradient_descent_trainer - Estimated training time remaining: 0:06:27\n",
      "2023-04-12 15:22:56,051 - INFO - allennlp.training.gradient_descent_trainer - Epoch 23/49\n",
      "2023-04-12 15:22:56,052 - INFO - allennlp.training.gradient_descent_trainer - Worker 0 memory usage: 1.6G\n",
      "2023-04-12 15:22:56,053 - INFO - allennlp.training.gradient_descent_trainer - Training\n"
     ]
    },
    {
     "data": {
      "application/vnd.jupyter.widget-view+json": {
       "model_id": "8ae57153eb684d039799ed11dce5cfbf",
       "version_major": 2,
       "version_minor": 0
      },
      "text/plain": [
       "  0%|          | 0/8 [00:00<?, ?it/s]"
      ]
     },
     "metadata": {},
     "output_type": "display_data"
    },
    {
     "name": "stdout",
     "output_type": "stream",
     "text": [
      "2023-04-12 15:23:06,711 - INFO - allennlp.training.gradient_descent_trainer - Validating\n"
     ]
    },
    {
     "data": {
      "application/vnd.jupyter.widget-view+json": {
       "model_id": "bdac04c112a94484b61a2276a4821655",
       "version_major": 2,
       "version_minor": 0
      },
      "text/plain": [
       "  0%|          | 0/3 [00:00<?, ?it/s]"
      ]
     },
     "metadata": {},
     "output_type": "display_data"
    },
    {
     "name": "stdout",
     "output_type": "stream",
     "text": [
      "2023-04-12 15:23:09,673 - INFO - allennlp.training.callbacks.console_logger -                        Training |  Validation\n",
      "2023-04-12 15:23:09,674 - INFO - allennlp.training.callbacks.console_logger - accuracy           |     0.989  |     0.829\n",
      "2023-04-12 15:23:09,675 - INFO - allennlp.training.callbacks.console_logger - accuracy3          |     0.996  |     0.892\n",
      "2023-04-12 15:23:09,676 - INFO - allennlp.training.callbacks.console_logger - f1-measure-overall |     0.982  |     0.796\n",
      "2023-04-12 15:23:09,677 - INFO - allennlp.training.callbacks.console_logger - loss               |    16.394  |   589.977\n",
      "2023-04-12 15:23:09,677 - INFO - allennlp.training.callbacks.console_logger - precision-overall  |     0.982  |     0.788\n",
      "2023-04-12 15:23:09,678 - INFO - allennlp.training.callbacks.console_logger - recall-overall     |     0.982  |     0.804\n",
      "2023-04-12 15:23:09,679 - INFO - allennlp.training.callbacks.console_logger - worker_0_memory_MB |  1626.309  |       N/A\n",
      "2023-04-12 15:23:10,136 - INFO - allennlp.training.gradient_descent_trainer - Epoch duration: 0:00:14.085130\n",
      "2023-04-12 15:23:10,139 - INFO - allennlp.training.gradient_descent_trainer - Estimated training time remaining: 0:06:12\n",
      "2023-04-12 15:23:10,140 - INFO - allennlp.training.gradient_descent_trainer - Epoch 24/49\n",
      "2023-04-12 15:23:10,141 - INFO - allennlp.training.gradient_descent_trainer - Worker 0 memory usage: 1.6G\n",
      "2023-04-12 15:23:10,143 - INFO - allennlp.training.gradient_descent_trainer - Training\n"
     ]
    },
    {
     "data": {
      "application/vnd.jupyter.widget-view+json": {
       "model_id": "fcb9882c9cd1413f9faea805528ab53c",
       "version_major": 2,
       "version_minor": 0
      },
      "text/plain": [
       "  0%|          | 0/8 [00:00<?, ?it/s]"
      ]
     },
     "metadata": {},
     "output_type": "display_data"
    },
    {
     "name": "stdout",
     "output_type": "stream",
     "text": [
      "2023-04-12 15:23:20,611 - INFO - allennlp.training.gradient_descent_trainer - Validating\n"
     ]
    },
    {
     "data": {
      "application/vnd.jupyter.widget-view+json": {
       "model_id": "4e3c4ce481d24f1a8eec34ee420e2b9e",
       "version_major": 2,
       "version_minor": 0
      },
      "text/plain": [
       "  0%|          | 0/3 [00:00<?, ?it/s]"
      ]
     },
     "metadata": {},
     "output_type": "display_data"
    },
    {
     "name": "stdout",
     "output_type": "stream",
     "text": [
      "2023-04-12 15:23:23,775 - INFO - allennlp.training.callbacks.console_logger -                        Training |  Validation\n",
      "2023-04-12 15:23:23,776 - INFO - allennlp.training.callbacks.console_logger - accuracy           |     0.993  |     0.824\n",
      "2023-04-12 15:23:23,776 - INFO - allennlp.training.callbacks.console_logger - accuracy3          |     0.996  |     0.885\n",
      "2023-04-12 15:23:23,777 - INFO - allennlp.training.callbacks.console_logger - f1-measure-overall |     0.988  |     0.796\n",
      "2023-04-12 15:23:23,778 - INFO - allennlp.training.callbacks.console_logger - loss               |    15.194  |   567.486\n",
      "2023-04-12 15:23:23,779 - INFO - allennlp.training.callbacks.console_logger - precision-overall  |     0.986  |     0.795\n",
      "2023-04-12 15:23:23,780 - INFO - allennlp.training.callbacks.console_logger - recall-overall     |     0.991  |     0.796\n",
      "2023-04-12 15:23:23,781 - INFO - allennlp.training.callbacks.console_logger - worker_0_memory_MB |  1626.309  |       N/A\n",
      "2023-04-12 15:23:24,213 - INFO - allennlp.training.gradient_descent_trainer - Epoch duration: 0:00:14.072982\n",
      "2023-04-12 15:23:24,214 - INFO - allennlp.training.gradient_descent_trainer - Estimated training time remaining: 0:05:58\n",
      "2023-04-12 15:23:24,215 - INFO - allennlp.training.gradient_descent_trainer - Epoch 25/49\n",
      "2023-04-12 15:23:24,216 - INFO - allennlp.training.gradient_descent_trainer - Worker 0 memory usage: 1.6G\n",
      "2023-04-12 15:23:24,217 - INFO - allennlp.training.gradient_descent_trainer - Training\n"
     ]
    },
    {
     "data": {
      "application/vnd.jupyter.widget-view+json": {
       "model_id": "c99f04218756497f827bb4db609156fc",
       "version_major": 2,
       "version_minor": 0
      },
      "text/plain": [
       "  0%|          | 0/8 [00:00<?, ?it/s]"
      ]
     },
     "metadata": {},
     "output_type": "display_data"
    },
    {
     "name": "stdout",
     "output_type": "stream",
     "text": [
      "2023-04-12 15:23:35,204 - INFO - allennlp.training.gradient_descent_trainer - Validating\n"
     ]
    },
    {
     "data": {
      "application/vnd.jupyter.widget-view+json": {
       "model_id": "a160723b76064051b19201047419af4d",
       "version_major": 2,
       "version_minor": 0
      },
      "text/plain": [
       "  0%|          | 0/3 [00:00<?, ?it/s]"
      ]
     },
     "metadata": {},
     "output_type": "display_data"
    },
    {
     "name": "stdout",
     "output_type": "stream",
     "text": [
      "2023-04-12 15:23:38,547 - INFO - allennlp.training.callbacks.console_logger -                        Training |  Validation\n",
      "2023-04-12 15:23:38,548 - INFO - allennlp.training.callbacks.console_logger - accuracy           |     0.998  |     0.829\n",
      "2023-04-12 15:23:38,549 - INFO - allennlp.training.callbacks.console_logger - accuracy3          |     0.999  |     0.889\n",
      "2023-04-12 15:23:38,549 - INFO - allennlp.training.callbacks.console_logger - f1-measure-overall |     0.995  |     0.787\n",
      "2023-04-12 15:23:38,550 - INFO - allennlp.training.callbacks.console_logger - loss               |     8.064  |   570.019\n",
      "2023-04-12 15:23:38,550 - INFO - allennlp.training.callbacks.console_logger - precision-overall  |     0.995  |     0.777\n",
      "2023-04-12 15:23:38,551 - INFO - allennlp.training.callbacks.console_logger - recall-overall     |     0.995  |     0.796\n",
      "2023-04-12 15:23:38,551 - INFO - allennlp.training.callbacks.console_logger - worker_0_memory_MB |  1626.309  |       N/A\n",
      "2023-04-12 15:23:38,968 - INFO - allennlp.training.gradient_descent_trainer - Epoch duration: 0:00:14.753300\n",
      "2023-04-12 15:23:38,971 - INFO - allennlp.training.gradient_descent_trainer - Estimated training time remaining: 0:05:44\n",
      "2023-04-12 15:23:38,972 - INFO - allennlp.training.gradient_descent_trainer - Epoch 26/49\n",
      "2023-04-12 15:23:38,972 - INFO - allennlp.training.gradient_descent_trainer - Worker 0 memory usage: 1.6G\n",
      "2023-04-12 15:23:38,973 - INFO - allennlp.training.gradient_descent_trainer - Training\n"
     ]
    },
    {
     "data": {
      "application/vnd.jupyter.widget-view+json": {
       "model_id": "fffff3da08774bdfb3dca21f7b4dc9d7",
       "version_major": 2,
       "version_minor": 0
      },
      "text/plain": [
       "  0%|          | 0/8 [00:00<?, ?it/s]"
      ]
     },
     "metadata": {},
     "output_type": "display_data"
    },
    {
     "name": "stdout",
     "output_type": "stream",
     "text": [
      "2023-04-12 15:23:49,515 - INFO - allennlp.training.gradient_descent_trainer - Validating\n"
     ]
    },
    {
     "data": {
      "application/vnd.jupyter.widget-view+json": {
       "model_id": "50a75661e14349a38622fd6cf398322e",
       "version_major": 2,
       "version_minor": 0
      },
      "text/plain": [
       "  0%|          | 0/3 [00:00<?, ?it/s]"
      ]
     },
     "metadata": {},
     "output_type": "display_data"
    },
    {
     "name": "stdout",
     "output_type": "stream",
     "text": [
      "2023-04-12 15:23:52,638 - INFO - allennlp.training.callbacks.console_logger -                        Training |  Validation\n",
      "2023-04-12 15:23:52,639 - INFO - allennlp.training.callbacks.console_logger - accuracy           |     0.997  |     0.812\n",
      "2023-04-12 15:23:52,640 - INFO - allennlp.training.callbacks.console_logger - accuracy3          |     0.998  |     0.872\n",
      "2023-04-12 15:23:52,641 - INFO - allennlp.training.callbacks.console_logger - f1-measure-overall |     0.995  |     0.798\n",
      "2023-04-12 15:23:52,642 - INFO - allennlp.training.callbacks.console_logger - loss               |     4.221  |   587.580\n",
      "2023-04-12 15:23:52,643 - INFO - allennlp.training.callbacks.console_logger - precision-overall  |     0.994  |     0.794\n",
      "2023-04-12 15:23:52,644 - INFO - allennlp.training.callbacks.console_logger - recall-overall     |     0.995  |     0.802\n",
      "2023-04-12 15:23:52,644 - INFO - allennlp.training.callbacks.console_logger - worker_0_memory_MB |  1626.309  |       N/A\n",
      "2023-04-12 15:23:53,067 - INFO - allennlp.training.gradient_descent_trainer - Epoch duration: 0:00:14.095747\n",
      "2023-04-12 15:23:53,068 - INFO - allennlp.training.gradient_descent_trainer - Estimated training time remaining: 0:05:29\n",
      "2023-04-12 15:23:53,068 - INFO - allennlp.training.gradient_descent_trainer - Epoch 27/49\n",
      "2023-04-12 15:23:53,069 - INFO - allennlp.training.gradient_descent_trainer - Worker 0 memory usage: 1.6G\n",
      "2023-04-12 15:23:53,070 - INFO - allennlp.training.gradient_descent_trainer - Training\n"
     ]
    },
    {
     "data": {
      "application/vnd.jupyter.widget-view+json": {
       "model_id": "70829b2e07ab43de829578248bb68283",
       "version_major": 2,
       "version_minor": 0
      },
      "text/plain": [
       "  0%|          | 0/8 [00:00<?, ?it/s]"
      ]
     },
     "metadata": {},
     "output_type": "display_data"
    },
    {
     "name": "stdout",
     "output_type": "stream",
     "text": [
      "2023-04-12 15:24:03,240 - INFO - allennlp.training.gradient_descent_trainer - Validating\n"
     ]
    },
    {
     "data": {
      "application/vnd.jupyter.widget-view+json": {
       "model_id": "6ebad55836ab436a95b6294a68bd19c1",
       "version_major": 2,
       "version_minor": 0
      },
      "text/plain": [
       "  0%|          | 0/3 [00:00<?, ?it/s]"
      ]
     },
     "metadata": {},
     "output_type": "display_data"
    },
    {
     "name": "stdout",
     "output_type": "stream",
     "text": [
      "2023-04-12 15:24:06,114 - INFO - allennlp.training.callbacks.console_logger -                        Training |  Validation\n",
      "2023-04-12 15:24:06,115 - INFO - allennlp.training.callbacks.console_logger - accuracy           |     0.996  |     0.824\n",
      "2023-04-12 15:24:06,116 - INFO - allennlp.training.callbacks.console_logger - accuracy3          |     0.998  |     0.888\n",
      "2023-04-12 15:24:06,117 - INFO - allennlp.training.callbacks.console_logger - f1-measure-overall |     0.993  |     0.791\n",
      "2023-04-12 15:24:06,117 - INFO - allennlp.training.callbacks.console_logger - loss               |     7.969  |   644.530\n",
      "2023-04-12 15:24:06,118 - INFO - allennlp.training.callbacks.console_logger - precision-overall  |     0.992  |     0.789\n",
      "2023-04-12 15:24:06,118 - INFO - allennlp.training.callbacks.console_logger - recall-overall     |     0.994  |     0.792\n",
      "2023-04-12 15:24:06,119 - INFO - allennlp.training.callbacks.console_logger - worker_0_memory_MB |  1626.309  |       N/A\n",
      "2023-04-12 15:24:06,535 - INFO - allennlp.training.gradient_descent_trainer - Epoch duration: 0:00:13.466721\n",
      "2023-04-12 15:24:06,538 - INFO - allennlp.training.gradient_descent_trainer - Estimated training time remaining: 0:05:14\n",
      "2023-04-12 15:24:06,539 - INFO - allennlp.training.gradient_descent_trainer - Epoch 28/49\n",
      "2023-04-12 15:24:06,539 - INFO - allennlp.training.gradient_descent_trainer - Worker 0 memory usage: 1.6G\n",
      "2023-04-12 15:24:06,541 - INFO - allennlp.training.gradient_descent_trainer - Training\n"
     ]
    },
    {
     "data": {
      "application/vnd.jupyter.widget-view+json": {
       "model_id": "0c9b6b37148a43d78c3899f3ea46fead",
       "version_major": 2,
       "version_minor": 0
      },
      "text/plain": [
       "  0%|          | 0/8 [00:00<?, ?it/s]"
      ]
     },
     "metadata": {},
     "output_type": "display_data"
    },
    {
     "name": "stdout",
     "output_type": "stream",
     "text": [
      "2023-04-12 15:24:16,909 - INFO - allennlp.training.gradient_descent_trainer - Validating\n"
     ]
    },
    {
     "data": {
      "application/vnd.jupyter.widget-view+json": {
       "model_id": "e8a380993ba74ebf8a1ecc1ce2c48d15",
       "version_major": 2,
       "version_minor": 0
      },
      "text/plain": [
       "  0%|          | 0/3 [00:00<?, ?it/s]"
      ]
     },
     "metadata": {},
     "output_type": "display_data"
    },
    {
     "name": "stdout",
     "output_type": "stream",
     "text": [
      "2023-04-12 15:24:19,946 - INFO - allennlp.training.callbacks.console_logger -                        Training |  Validation\n",
      "2023-04-12 15:24:19,947 - INFO - allennlp.training.callbacks.console_logger - accuracy           |     0.995  |     0.816\n",
      "2023-04-12 15:24:19,947 - INFO - allennlp.training.callbacks.console_logger - accuracy3          |     0.996  |     0.886\n",
      "2023-04-12 15:24:19,948 - INFO - allennlp.training.callbacks.console_logger - f1-measure-overall |     0.989  |     0.800\n",
      "2023-04-12 15:24:19,949 - INFO - allennlp.training.callbacks.console_logger - loss               |    10.021  |   581.687\n",
      "2023-04-12 15:24:19,949 - INFO - allennlp.training.callbacks.console_logger - precision-overall  |     0.988  |     0.789\n",
      "2023-04-12 15:24:19,950 - INFO - allennlp.training.callbacks.console_logger - recall-overall     |     0.990  |     0.812\n",
      "2023-04-12 15:24:19,950 - INFO - allennlp.training.callbacks.console_logger - worker_0_memory_MB |  1626.309  |       N/A\n",
      "2023-04-12 15:24:20,745 - INFO - allennlp.training.gradient_descent_trainer - Epoch duration: 0:00:14.206090\n",
      "2023-04-12 15:24:20,745 - INFO - allennlp.training.gradient_descent_trainer - Estimated training time remaining: 0:04:59\n",
      "2023-04-12 15:24:20,746 - INFO - allennlp.training.gradient_descent_trainer - Epoch 29/49\n",
      "2023-04-12 15:24:20,747 - INFO - allennlp.training.gradient_descent_trainer - Worker 0 memory usage: 1.6G\n",
      "2023-04-12 15:24:20,748 - INFO - allennlp.training.gradient_descent_trainer - Training\n"
     ]
    },
    {
     "data": {
      "application/vnd.jupyter.widget-view+json": {
       "model_id": "519cfcf602614235824a403ebd8c2497",
       "version_major": 2,
       "version_minor": 0
      },
      "text/plain": [
       "  0%|          | 0/8 [00:00<?, ?it/s]"
      ]
     },
     "metadata": {},
     "output_type": "display_data"
    },
    {
     "name": "stdout",
     "output_type": "stream",
     "text": [
      "2023-04-12 15:24:31,494 - INFO - allennlp.training.gradient_descent_trainer - Validating\n"
     ]
    },
    {
     "data": {
      "application/vnd.jupyter.widget-view+json": {
       "model_id": "7c0aa1b977e1460ba1ac077e1f642a15",
       "version_major": 2,
       "version_minor": 0
      },
      "text/plain": [
       "  0%|          | 0/3 [00:00<?, ?it/s]"
      ]
     },
     "metadata": {},
     "output_type": "display_data"
    },
    {
     "name": "stdout",
     "output_type": "stream",
     "text": [
      "2023-04-12 15:24:34,698 - INFO - allennlp.training.callbacks.console_logger -                        Training |  Validation\n",
      "2023-04-12 15:24:34,699 - INFO - allennlp.training.callbacks.console_logger - accuracy           |     0.998  |     0.821\n",
      "2023-04-12 15:24:34,699 - INFO - allennlp.training.callbacks.console_logger - accuracy3          |     0.998  |     0.884\n",
      "2023-04-12 15:24:34,700 - INFO - allennlp.training.callbacks.console_logger - f1-measure-overall |     0.995  |     0.781\n",
      "2023-04-12 15:24:34,701 - INFO - allennlp.training.callbacks.console_logger - loss               |     4.839  |   664.387\n",
      "2023-04-12 15:24:34,701 - INFO - allennlp.training.callbacks.console_logger - precision-overall  |     0.995  |     0.778\n",
      "2023-04-12 15:24:34,702 - INFO - allennlp.training.callbacks.console_logger - recall-overall     |     0.995  |     0.784\n",
      "2023-04-12 15:24:34,703 - INFO - allennlp.training.callbacks.console_logger - worker_0_memory_MB |  1626.309  |       N/A\n",
      "2023-04-12 15:24:35,118 - INFO - allennlp.training.gradient_descent_trainer - Epoch duration: 0:00:14.371806\n",
      "2023-04-12 15:24:35,119 - INFO - allennlp.training.gradient_descent_trainer - Estimated training time remaining: 0:04:46\n",
      "2023-04-12 15:24:35,119 - INFO - allennlp.training.gradient_descent_trainer - Epoch 30/49\n",
      "2023-04-12 15:24:35,120 - INFO - allennlp.training.gradient_descent_trainer - Worker 0 memory usage: 1.6G\n",
      "2023-04-12 15:24:35,121 - INFO - allennlp.training.gradient_descent_trainer - Training\n"
     ]
    },
    {
     "data": {
      "application/vnd.jupyter.widget-view+json": {
       "model_id": "a600d25970ee492d990af27731d923ba",
       "version_major": 2,
       "version_minor": 0
      },
      "text/plain": [
       "  0%|          | 0/8 [00:00<?, ?it/s]"
      ]
     },
     "metadata": {},
     "output_type": "display_data"
    },
    {
     "name": "stdout",
     "output_type": "stream",
     "text": [
      "2023-04-12 15:24:45,752 - INFO - allennlp.training.gradient_descent_trainer - Validating\n"
     ]
    },
    {
     "data": {
      "application/vnd.jupyter.widget-view+json": {
       "model_id": "130a2acf6d08492d8761ed3821200a75",
       "version_major": 2,
       "version_minor": 0
      },
      "text/plain": [
       "  0%|          | 0/3 [00:00<?, ?it/s]"
      ]
     },
     "metadata": {},
     "output_type": "display_data"
    },
    {
     "name": "stdout",
     "output_type": "stream",
     "text": [
      "2023-04-12 15:24:49,007 - INFO - allennlp.training.callbacks.console_logger -                        Training |  Validation\n",
      "2023-04-12 15:24:49,008 - INFO - allennlp.training.callbacks.console_logger - accuracy           |     0.998  |     0.816\n",
      "2023-04-12 15:24:49,009 - INFO - allennlp.training.callbacks.console_logger - accuracy3          |     0.998  |     0.879\n",
      "2023-04-12 15:24:49,009 - INFO - allennlp.training.callbacks.console_logger - f1-measure-overall |     0.996  |     0.788\n",
      "2023-04-12 15:24:49,010 - INFO - allennlp.training.callbacks.console_logger - loss               |     3.657  |   614.240\n",
      "2023-04-12 15:24:49,011 - INFO - allennlp.training.callbacks.console_logger - precision-overall  |     0.995  |     0.775\n",
      "2023-04-12 15:24:49,011 - INFO - allennlp.training.callbacks.console_logger - recall-overall     |     0.997  |     0.801\n",
      "2023-04-12 15:24:49,012 - INFO - allennlp.training.callbacks.console_logger - worker_0_memory_MB |  1626.309  |       N/A\n",
      "2023-04-12 15:24:49,423 - INFO - allennlp.training.gradient_descent_trainer - Epoch duration: 0:00:14.303675\n",
      "2023-04-12 15:24:49,426 - INFO - allennlp.training.gradient_descent_trainer - Estimated training time remaining: 0:04:31\n",
      "2023-04-12 15:24:49,427 - INFO - allennlp.training.gradient_descent_trainer - Epoch 31/49\n",
      "2023-04-12 15:24:49,427 - INFO - allennlp.training.gradient_descent_trainer - Worker 0 memory usage: 1.6G\n",
      "2023-04-12 15:24:49,429 - INFO - allennlp.training.gradient_descent_trainer - Training\n"
     ]
    },
    {
     "data": {
      "application/vnd.jupyter.widget-view+json": {
       "model_id": "b97e49bb25664a35917ca2062a05ad37",
       "version_major": 2,
       "version_minor": 0
      },
      "text/plain": [
       "  0%|          | 0/8 [00:00<?, ?it/s]"
      ]
     },
     "metadata": {},
     "output_type": "display_data"
    },
    {
     "name": "stdout",
     "output_type": "stream",
     "text": [
      "2023-04-12 15:24:59,622 - INFO - allennlp.training.gradient_descent_trainer - Validating\n"
     ]
    },
    {
     "data": {
      "application/vnd.jupyter.widget-view+json": {
       "model_id": "44390403533346a4a910bffb146b0310",
       "version_major": 2,
       "version_minor": 0
      },
      "text/plain": [
       "  0%|          | 0/3 [00:00<?, ?it/s]"
      ]
     },
     "metadata": {},
     "output_type": "display_data"
    },
    {
     "name": "stdout",
     "output_type": "stream",
     "text": [
      "2023-04-12 15:25:02,485 - INFO - allennlp.training.callbacks.console_logger -                        Training |  Validation\n",
      "2023-04-12 15:25:02,486 - INFO - allennlp.training.callbacks.console_logger - accuracy           |     0.998  |     0.806\n",
      "2023-04-12 15:25:02,486 - INFO - allennlp.training.callbacks.console_logger - accuracy3          |     0.999  |     0.877\n",
      "2023-04-12 15:25:02,487 - INFO - allennlp.training.callbacks.console_logger - f1-measure-overall |     0.997  |     0.791\n",
      "2023-04-12 15:25:02,488 - INFO - allennlp.training.callbacks.console_logger - loss               |     6.049  |   611.939\n",
      "2023-04-12 15:25:02,488 - INFO - allennlp.training.callbacks.console_logger - precision-overall  |     0.997  |     0.791\n",
      "2023-04-12 15:25:02,489 - INFO - allennlp.training.callbacks.console_logger - recall-overall     |     0.997  |     0.790\n",
      "2023-04-12 15:25:02,489 - INFO - allennlp.training.callbacks.console_logger - worker_0_memory_MB |  1627.551  |       N/A\n",
      "2023-04-12 15:25:02,919 - INFO - allennlp.training.gradient_descent_trainer - Epoch duration: 0:00:13.492121\n",
      "2023-04-12 15:25:02,920 - INFO - allennlp.training.gradient_descent_trainer - Estimated training time remaining: 0:04:16\n",
      "2023-04-12 15:25:02,920 - INFO - allennlp.training.gradient_descent_trainer - Epoch 32/49\n",
      "2023-04-12 15:25:02,921 - INFO - allennlp.training.gradient_descent_trainer - Worker 0 memory usage: 1.6G\n",
      "2023-04-12 15:25:02,922 - INFO - allennlp.training.gradient_descent_trainer - Training\n"
     ]
    },
    {
     "data": {
      "application/vnd.jupyter.widget-view+json": {
       "model_id": "cbb4d25ea93641488994b30efe0892c7",
       "version_major": 2,
       "version_minor": 0
      },
      "text/plain": [
       "  0%|          | 0/8 [00:00<?, ?it/s]"
      ]
     },
     "metadata": {},
     "output_type": "display_data"
    },
    {
     "name": "stdout",
     "output_type": "stream",
     "text": [
      "2023-04-12 15:25:13,081 - INFO - allennlp.training.gradient_descent_trainer - Validating\n"
     ]
    },
    {
     "data": {
      "application/vnd.jupyter.widget-view+json": {
       "model_id": "2fdc60ad6d98443492822012d789111a",
       "version_major": 2,
       "version_minor": 0
      },
      "text/plain": [
       "  0%|          | 0/3 [00:00<?, ?it/s]"
      ]
     },
     "metadata": {},
     "output_type": "display_data"
    },
    {
     "name": "stdout",
     "output_type": "stream",
     "text": [
      "2023-04-12 15:25:16,309 - INFO - allennlp.training.callbacks.console_logger -                        Training |  Validation\n",
      "2023-04-12 15:25:16,310 - INFO - allennlp.training.callbacks.console_logger - accuracy           |     0.998  |     0.819\n",
      "2023-04-12 15:25:16,310 - INFO - allennlp.training.callbacks.console_logger - accuracy3          |     0.999  |     0.879\n",
      "2023-04-12 15:25:16,311 - INFO - allennlp.training.callbacks.console_logger - f1-measure-overall |     0.995  |     0.780\n",
      "2023-04-12 15:25:16,311 - INFO - allennlp.training.callbacks.console_logger - loss               |     3.986  |   659.291\n",
      "2023-04-12 15:25:16,312 - INFO - allennlp.training.callbacks.console_logger - precision-overall  |     0.995  |     0.775\n",
      "2023-04-12 15:25:16,313 - INFO - allennlp.training.callbacks.console_logger - recall-overall     |     0.995  |     0.786\n",
      "2023-04-12 15:25:16,313 - INFO - allennlp.training.callbacks.console_logger - worker_0_memory_MB |  1627.551  |       N/A\n",
      "2023-04-12 15:25:16,795 - INFO - allennlp.training.gradient_descent_trainer - Epoch duration: 0:00:13.875121\n",
      "2023-04-12 15:25:16,798 - INFO - allennlp.training.gradient_descent_trainer - Estimated training time remaining: 0:04:02\n",
      "2023-04-12 15:25:16,799 - INFO - allennlp.training.gradient_descent_trainer - Epoch 33/49\n",
      "2023-04-12 15:25:16,799 - INFO - allennlp.training.gradient_descent_trainer - Worker 0 memory usage: 1.6G\n",
      "2023-04-12 15:25:16,801 - INFO - allennlp.training.gradient_descent_trainer - Training\n"
     ]
    },
    {
     "data": {
      "application/vnd.jupyter.widget-view+json": {
       "model_id": "ec66e2bc9d8c44a7b538957176f5568f",
       "version_major": 2,
       "version_minor": 0
      },
      "text/plain": [
       "  0%|          | 0/8 [00:00<?, ?it/s]"
      ]
     },
     "metadata": {},
     "output_type": "display_data"
    },
    {
     "name": "stdout",
     "output_type": "stream",
     "text": [
      "2023-04-12 15:25:27,957 - INFO - allennlp.training.gradient_descent_trainer - Validating\n"
     ]
    },
    {
     "data": {
      "application/vnd.jupyter.widget-view+json": {
       "model_id": "e2605f3324f34f91b974d7e021984053",
       "version_major": 2,
       "version_minor": 0
      },
      "text/plain": [
       "  0%|          | 0/3 [00:00<?, ?it/s]"
      ]
     },
     "metadata": {},
     "output_type": "display_data"
    },
    {
     "name": "stdout",
     "output_type": "stream",
     "text": [
      "2023-04-12 15:25:31,187 - INFO - allennlp.training.callbacks.console_logger -                        Training |  Validation\n",
      "2023-04-12 15:25:31,188 - INFO - allennlp.training.callbacks.console_logger - accuracy           |     0.998  |     0.826\n",
      "2023-04-12 15:25:31,189 - INFO - allennlp.training.callbacks.console_logger - accuracy3          |     0.999  |     0.889\n",
      "2023-04-12 15:25:31,190 - INFO - allennlp.training.callbacks.console_logger - f1-measure-overall |     0.996  |     0.785\n",
      "2023-04-12 15:25:31,190 - INFO - allennlp.training.callbacks.console_logger - loss               |     2.797  |   642.240\n",
      "2023-04-12 15:25:31,191 - INFO - allennlp.training.callbacks.console_logger - precision-overall  |     0.996  |     0.776\n",
      "2023-04-12 15:25:31,192 - INFO - allennlp.training.callbacks.console_logger - recall-overall     |     0.997  |     0.795\n",
      "2023-04-12 15:25:31,193 - INFO - allennlp.training.callbacks.console_logger - worker_0_memory_MB |  1627.551  |       N/A\n",
      "2023-04-12 15:25:31,672 - INFO - allennlp.training.gradient_descent_trainer - Epoch duration: 0:00:14.873869\n",
      "2023-04-12 15:25:31,674 - INFO - allennlp.training.gradient_descent_trainer - Estimated training time remaining: 0:03:48\n",
      "2023-04-12 15:25:31,675 - INFO - allennlp.training.gradient_descent_trainer - Epoch 34/49\n",
      "2023-04-12 15:25:31,676 - INFO - allennlp.training.gradient_descent_trainer - Worker 0 memory usage: 1.6G\n",
      "2023-04-12 15:25:31,678 - INFO - allennlp.training.gradient_descent_trainer - Training\n"
     ]
    },
    {
     "data": {
      "application/vnd.jupyter.widget-view+json": {
       "model_id": "58da3417c34343ba94af2c82dd1de1f4",
       "version_major": 2,
       "version_minor": 0
      },
      "text/plain": [
       "  0%|          | 0/8 [00:00<?, ?it/s]"
      ]
     },
     "metadata": {},
     "output_type": "display_data"
    },
    {
     "name": "stdout",
     "output_type": "stream",
     "text": [
      "2023-04-12 15:25:42,617 - INFO - allennlp.training.gradient_descent_trainer - Validating\n"
     ]
    },
    {
     "data": {
      "application/vnd.jupyter.widget-view+json": {
       "model_id": "9fa597fbc3804c549e78ec28af49a157",
       "version_major": 2,
       "version_minor": 0
      },
      "text/plain": [
       "  0%|          | 0/3 [00:00<?, ?it/s]"
      ]
     },
     "metadata": {},
     "output_type": "display_data"
    },
    {
     "name": "stdout",
     "output_type": "stream",
     "text": [
      "2023-04-12 15:25:45,707 - INFO - allennlp.training.callbacks.console_logger -                        Training |  Validation\n",
      "2023-04-12 15:25:45,708 - INFO - allennlp.training.callbacks.console_logger - accuracy           |     0.998  |     0.825\n",
      "2023-04-12 15:25:45,709 - INFO - allennlp.training.callbacks.console_logger - accuracy3          |     0.999  |     0.890\n",
      "2023-04-12 15:25:45,710 - INFO - allennlp.training.callbacks.console_logger - f1-measure-overall |     0.994  |     0.791\n",
      "2023-04-12 15:25:45,711 - INFO - allennlp.training.callbacks.console_logger - loss               |     2.666  |   641.021\n",
      "2023-04-12 15:25:45,711 - INFO - allennlp.training.callbacks.console_logger - precision-overall  |     0.994  |     0.789\n",
      "2023-04-12 15:25:45,713 - INFO - allennlp.training.callbacks.console_logger - recall-overall     |     0.995  |     0.793\n",
      "2023-04-12 15:25:45,713 - INFO - allennlp.training.callbacks.console_logger - worker_0_memory_MB |  1627.551  |       N/A\n",
      "2023-04-12 15:25:46,129 - INFO - allennlp.training.gradient_descent_trainer - Epoch duration: 0:00:14.454293\n",
      "2023-04-12 15:25:46,133 - INFO - allennlp.training.gradient_descent_trainer - Estimated training time remaining: 0:03:34\n",
      "2023-04-12 15:25:46,133 - INFO - allennlp.training.gradient_descent_trainer - Epoch 35/49\n",
      "2023-04-12 15:25:46,134 - INFO - allennlp.training.gradient_descent_trainer - Worker 0 memory usage: 1.6G\n",
      "2023-04-12 15:25:46,135 - INFO - allennlp.training.gradient_descent_trainer - Training\n"
     ]
    },
    {
     "data": {
      "application/vnd.jupyter.widget-view+json": {
       "model_id": "09793594c4a645b4a085ab0d5f13d701",
       "version_major": 2,
       "version_minor": 0
      },
      "text/plain": [
       "  0%|          | 0/8 [00:00<?, ?it/s]"
      ]
     },
     "metadata": {},
     "output_type": "display_data"
    },
    {
     "name": "stdout",
     "output_type": "stream",
     "text": [
      "2023-04-12 15:25:56,918 - INFO - allennlp.training.gradient_descent_trainer - Validating\n"
     ]
    },
    {
     "data": {
      "application/vnd.jupyter.widget-view+json": {
       "model_id": "6b2a506af57544f9be6c7c99ff4e0f26",
       "version_major": 2,
       "version_minor": 0
      },
      "text/plain": [
       "  0%|          | 0/3 [00:00<?, ?it/s]"
      ]
     },
     "metadata": {},
     "output_type": "display_data"
    },
    {
     "name": "stdout",
     "output_type": "stream",
     "text": [
      "2023-04-12 15:25:59,876 - INFO - allennlp.training.callbacks.console_logger -                        Training |  Validation\n",
      "2023-04-12 15:25:59,878 - INFO - allennlp.training.callbacks.console_logger - accuracy           |     0.998  |     0.819\n",
      "2023-04-12 15:25:59,878 - INFO - allennlp.training.callbacks.console_logger - accuracy3          |     0.999  |     0.884\n",
      "2023-04-12 15:25:59,879 - INFO - allennlp.training.callbacks.console_logger - f1-measure-overall |     0.997  |     0.784\n",
      "2023-04-12 15:25:59,880 - INFO - allennlp.training.callbacks.console_logger - loss               |     2.727  |   664.997\n",
      "2023-04-12 15:25:59,880 - INFO - allennlp.training.callbacks.console_logger - precision-overall  |     0.996  |     0.767\n",
      "2023-04-12 15:25:59,881 - INFO - allennlp.training.callbacks.console_logger - recall-overall     |     0.997  |     0.801\n",
      "2023-04-12 15:25:59,881 - INFO - allennlp.training.callbacks.console_logger - worker_0_memory_MB |  1627.551  |       N/A\n",
      "2023-04-12 15:26:00,327 - INFO - allennlp.training.gradient_descent_trainer - Epoch duration: 0:00:14.193224\n",
      "2023-04-12 15:26:00,327 - INFO - allennlp.training.gradient_descent_trainer - Estimated training time remaining: 0:03:19\n",
      "2023-04-12 15:26:00,328 - INFO - allennlp.training.gradient_descent_trainer - Epoch 36/49\n",
      "2023-04-12 15:26:00,329 - INFO - allennlp.training.gradient_descent_trainer - Worker 0 memory usage: 1.6G\n",
      "2023-04-12 15:26:00,330 - INFO - allennlp.training.gradient_descent_trainer - Training\n"
     ]
    },
    {
     "data": {
      "application/vnd.jupyter.widget-view+json": {
       "model_id": "3771c89acf7741a2a647c6a21d2ec7ca",
       "version_major": 2,
       "version_minor": 0
      },
      "text/plain": [
       "  0%|          | 0/8 [00:00<?, ?it/s]"
      ]
     },
     "metadata": {},
     "output_type": "display_data"
    },
    {
     "name": "stdout",
     "output_type": "stream",
     "text": [
      "2023-04-12 15:26:11,122 - INFO - allennlp.training.gradient_descent_trainer - Validating\n"
     ]
    },
    {
     "data": {
      "application/vnd.jupyter.widget-view+json": {
       "model_id": "9cd8183dbd464172ad7286c6d1fc92b5",
       "version_major": 2,
       "version_minor": 0
      },
      "text/plain": [
       "  0%|          | 0/3 [00:00<?, ?it/s]"
      ]
     },
     "metadata": {},
     "output_type": "display_data"
    },
    {
     "name": "stdout",
     "output_type": "stream",
     "text": [
      "2023-04-12 15:26:14,014 - INFO - allennlp.training.callbacks.console_logger -                        Training |  Validation\n",
      "2023-04-12 15:26:14,015 - INFO - allennlp.training.callbacks.console_logger - accuracy           |     0.999  |     0.826\n",
      "2023-04-12 15:26:14,016 - INFO - allennlp.training.callbacks.console_logger - accuracy3          |     0.999  |     0.882\n",
      "2023-04-12 15:26:14,016 - INFO - allennlp.training.callbacks.console_logger - f1-measure-overall |     0.998  |     0.794\n",
      "2023-04-12 15:26:14,017 - INFO - allennlp.training.callbacks.console_logger - loss               |     2.351  |   721.308\n",
      "2023-04-12 15:26:14,018 - INFO - allennlp.training.callbacks.console_logger - precision-overall  |     0.997  |     0.779\n",
      "2023-04-12 15:26:14,018 - INFO - allennlp.training.callbacks.console_logger - recall-overall     |     0.998  |     0.810\n",
      "2023-04-12 15:26:14,019 - INFO - allennlp.training.callbacks.console_logger - worker_0_memory_MB |  1627.551  |       N/A\n",
      "2023-04-12 15:26:14,431 - INFO - allennlp.training.gradient_descent_trainer - Epoch duration: 0:00:14.103422\n",
      "2023-04-12 15:26:14,437 - INFO - allennlp.training.gradient_descent_trainer - Estimated training time remaining: 0:03:05\n",
      "2023-04-12 15:26:14,437 - INFO - allennlp.training.gradient_descent_trainer - Epoch 37/49\n",
      "2023-04-12 15:26:14,438 - INFO - allennlp.training.gradient_descent_trainer - Worker 0 memory usage: 1.6G\n",
      "2023-04-12 15:26:14,440 - INFO - allennlp.training.gradient_descent_trainer - Training\n"
     ]
    },
    {
     "data": {
      "application/vnd.jupyter.widget-view+json": {
       "model_id": "29d8c4ccbb144f1fb0cd40406f4412c4",
       "version_major": 2,
       "version_minor": 0
      },
      "text/plain": [
       "  0%|          | 0/8 [00:00<?, ?it/s]"
      ]
     },
     "metadata": {},
     "output_type": "display_data"
    },
    {
     "name": "stdout",
     "output_type": "stream",
     "text": [
      "2023-04-12 15:26:24,896 - INFO - allennlp.training.gradient_descent_trainer - Validating\n"
     ]
    },
    {
     "data": {
      "application/vnd.jupyter.widget-view+json": {
       "model_id": "39ce5140985643cea2a70c1959468168",
       "version_major": 2,
       "version_minor": 0
      },
      "text/plain": [
       "  0%|          | 0/3 [00:00<?, ?it/s]"
      ]
     },
     "metadata": {},
     "output_type": "display_data"
    },
    {
     "name": "stdout",
     "output_type": "stream",
     "text": [
      "2023-04-12 15:26:27,887 - INFO - allennlp.training.callbacks.console_logger -                        Training |  Validation\n",
      "2023-04-12 15:26:27,888 - INFO - allennlp.training.callbacks.console_logger - accuracy           |     0.999  |     0.824\n",
      "2023-04-12 15:26:27,889 - INFO - allennlp.training.callbacks.console_logger - accuracy3          |     0.999  |     0.889\n",
      "2023-04-12 15:26:27,890 - INFO - allennlp.training.callbacks.console_logger - f1-measure-overall |     0.998  |     0.786\n",
      "2023-04-12 15:26:27,890 - INFO - allennlp.training.callbacks.console_logger - loss               |     1.671  |   702.438\n",
      "2023-04-12 15:26:27,891 - INFO - allennlp.training.callbacks.console_logger - precision-overall  |     0.998  |     0.780\n",
      "2023-04-12 15:26:27,892 - INFO - allennlp.training.callbacks.console_logger - recall-overall     |     0.998  |     0.792\n",
      "2023-04-12 15:26:27,892 - INFO - allennlp.training.callbacks.console_logger - worker_0_memory_MB |  1627.551  |       N/A\n",
      "2023-04-12 15:26:28,359 - INFO - allennlp.training.gradient_descent_trainer - Epoch duration: 0:00:13.921951\n",
      "2023-04-12 15:26:28,360 - INFO - allennlp.training.gradient_descent_trainer - Estimated training time remaining: 0:02:51\n",
      "2023-04-12 15:26:28,363 - INFO - allennlp.training.gradient_descent_trainer - Epoch 38/49\n",
      "2023-04-12 15:26:28,364 - INFO - allennlp.training.gradient_descent_trainer - Worker 0 memory usage: 1.6G\n",
      "2023-04-12 15:26:28,365 - INFO - allennlp.training.gradient_descent_trainer - Training\n"
     ]
    },
    {
     "data": {
      "application/vnd.jupyter.widget-view+json": {
       "model_id": "16c3f401d518447ab786b8665f75a2e2",
       "version_major": 2,
       "version_minor": 0
      },
      "text/plain": [
       "  0%|          | 0/8 [00:00<?, ?it/s]"
      ]
     },
     "metadata": {},
     "output_type": "display_data"
    },
    {
     "name": "stdout",
     "output_type": "stream",
     "text": [
      "2023-04-12 15:26:39,179 - INFO - allennlp.training.gradient_descent_trainer - Validating\n"
     ]
    },
    {
     "data": {
      "application/vnd.jupyter.widget-view+json": {
       "model_id": "afb4d04b4b8449fba4062b931ca62f47",
       "version_major": 2,
       "version_minor": 0
      },
      "text/plain": [
       "  0%|          | 0/3 [00:00<?, ?it/s]"
      ]
     },
     "metadata": {},
     "output_type": "display_data"
    },
    {
     "name": "stdout",
     "output_type": "stream",
     "text": [
      "2023-04-12 15:26:42,375 - INFO - allennlp.training.callbacks.console_logger -                        Training |  Validation\n",
      "2023-04-12 15:26:42,375 - INFO - allennlp.training.callbacks.console_logger - accuracy           |     0.998  |     0.826\n",
      "2023-04-12 15:26:42,376 - INFO - allennlp.training.callbacks.console_logger - accuracy3          |     0.999  |     0.882\n",
      "2023-04-12 15:26:42,377 - INFO - allennlp.training.callbacks.console_logger - f1-measure-overall |     0.996  |     0.786\n",
      "2023-04-12 15:26:42,377 - INFO - allennlp.training.callbacks.console_logger - loss               |     2.855  |   767.118\n",
      "2023-04-12 15:26:42,378 - INFO - allennlp.training.callbacks.console_logger - precision-overall  |     0.996  |     0.776\n",
      "2023-04-12 15:26:42,378 - INFO - allennlp.training.callbacks.console_logger - recall-overall     |     0.996  |     0.796\n",
      "2023-04-12 15:26:42,379 - INFO - allennlp.training.callbacks.console_logger - worker_0_memory_MB |  1627.551  |       N/A\n",
      "2023-04-12 15:26:42,829 - INFO - allennlp.training.gradient_descent_trainer - Epoch duration: 0:00:14.466940\n",
      "2023-04-12 15:26:42,830 - INFO - allennlp.training.gradient_descent_trainer - Estimated training time remaining: 0:02:37\n",
      "2023-04-12 15:26:42,830 - INFO - allennlp.training.gradient_descent_trainer - Epoch 39/49\n",
      "2023-04-12 15:26:42,831 - INFO - allennlp.training.gradient_descent_trainer - Worker 0 memory usage: 1.6G\n",
      "2023-04-12 15:26:42,832 - INFO - allennlp.training.gradient_descent_trainer - Training\n"
     ]
    },
    {
     "data": {
      "application/vnd.jupyter.widget-view+json": {
       "model_id": "36c1b8c946594322bf23f1660ba70525",
       "version_major": 2,
       "version_minor": 0
      },
      "text/plain": [
       "  0%|          | 0/8 [00:00<?, ?it/s]"
      ]
     },
     "metadata": {},
     "output_type": "display_data"
    },
    {
     "name": "stdout",
     "output_type": "stream",
     "text": [
      "2023-04-12 15:26:53,880 - INFO - allennlp.training.gradient_descent_trainer - Validating\n"
     ]
    },
    {
     "data": {
      "application/vnd.jupyter.widget-view+json": {
       "model_id": "c4a48b97eb43439f99c91d3c2d53f4e6",
       "version_major": 2,
       "version_minor": 0
      },
      "text/plain": [
       "  0%|          | 0/3 [00:00<?, ?it/s]"
      ]
     },
     "metadata": {},
     "output_type": "display_data"
    },
    {
     "name": "stdout",
     "output_type": "stream",
     "text": [
      "2023-04-12 15:26:57,004 - INFO - allennlp.training.callbacks.console_logger -                        Training |  Validation\n",
      "2023-04-12 15:26:57,005 - INFO - allennlp.training.callbacks.console_logger - accuracy           |     0.998  |     0.824\n",
      "2023-04-12 15:26:57,006 - INFO - allennlp.training.callbacks.console_logger - accuracy3          |     0.999  |     0.888\n",
      "2023-04-12 15:26:57,007 - INFO - allennlp.training.callbacks.console_logger - f1-measure-overall |     0.997  |     0.785\n",
      "2023-04-12 15:26:57,007 - INFO - allennlp.training.callbacks.console_logger - loss               |     2.576  |   705.972\n",
      "2023-04-12 15:26:57,008 - INFO - allennlp.training.callbacks.console_logger - precision-overall  |     0.997  |     0.767\n",
      "2023-04-12 15:26:57,009 - INFO - allennlp.training.callbacks.console_logger - recall-overall     |     0.998  |     0.802\n",
      "2023-04-12 15:26:57,010 - INFO - allennlp.training.callbacks.console_logger - worker_0_memory_MB |  1627.551  |       N/A\n",
      "2023-04-12 15:26:57,441 - INFO - allennlp.training.gradient_descent_trainer - Epoch duration: 0:00:14.610378\n",
      "2023-04-12 15:26:57,442 - INFO - allennlp.training.gradient_descent_trainer - Estimated training time remaining: 0:02:22\n",
      "2023-04-12 15:26:57,443 - INFO - allennlp.training.gradient_descent_trainer - Epoch 40/49\n",
      "2023-04-12 15:26:57,443 - INFO - allennlp.training.gradient_descent_trainer - Worker 0 memory usage: 1.6G\n",
      "2023-04-12 15:26:57,445 - INFO - allennlp.training.gradient_descent_trainer - Training\n"
     ]
    },
    {
     "data": {
      "application/vnd.jupyter.widget-view+json": {
       "model_id": "793c84a84dfb44379f60d04b6a83f562",
       "version_major": 2,
       "version_minor": 0
      },
      "text/plain": [
       "  0%|          | 0/8 [00:00<?, ?it/s]"
      ]
     },
     "metadata": {},
     "output_type": "display_data"
    },
    {
     "name": "stdout",
     "output_type": "stream",
     "text": [
      "2023-04-12 15:27:08,440 - INFO - allennlp.training.gradient_descent_trainer - Validating\n"
     ]
    },
    {
     "data": {
      "application/vnd.jupyter.widget-view+json": {
       "model_id": "49781862bca1438088abc70b46bbde51",
       "version_major": 2,
       "version_minor": 0
      },
      "text/plain": [
       "  0%|          | 0/3 [00:00<?, ?it/s]"
      ]
     },
     "metadata": {},
     "output_type": "display_data"
    },
    {
     "name": "stdout",
     "output_type": "stream",
     "text": [
      "2023-04-12 15:27:11,520 - INFO - allennlp.training.callbacks.console_logger -                        Training |  Validation\n",
      "2023-04-12 15:27:11,521 - INFO - allennlp.training.callbacks.console_logger - accuracy           |     1.000  |     0.832\n",
      "2023-04-12 15:27:11,522 - INFO - allennlp.training.callbacks.console_logger - accuracy3          |     1.000  |     0.888\n",
      "2023-04-12 15:27:11,523 - INFO - allennlp.training.callbacks.console_logger - f1-measure-overall |     1.000  |     0.797\n",
      "2023-04-12 15:27:11,523 - INFO - allennlp.training.callbacks.console_logger - loss               |     0.972  |   771.519\n",
      "2023-04-12 15:27:11,524 - INFO - allennlp.training.callbacks.console_logger - precision-overall  |     1.000  |     0.795\n",
      "2023-04-12 15:27:11,525 - INFO - allennlp.training.callbacks.console_logger - recall-overall     |     1.000  |     0.799\n",
      "2023-04-12 15:27:11,525 - INFO - allennlp.training.callbacks.console_logger - worker_0_memory_MB |  1630.031  |       N/A\n",
      "2023-04-12 15:27:11,952 - INFO - allennlp.training.gradient_descent_trainer - Epoch duration: 0:00:14.509606\n",
      "2023-04-12 15:27:11,953 - INFO - allennlp.training.gradient_descent_trainer - Estimated training time remaining: 0:02:08\n",
      "2023-04-12 15:27:11,954 - INFO - allennlp.training.gradient_descent_trainer - Epoch 41/49\n",
      "2023-04-12 15:27:11,954 - INFO - allennlp.training.gradient_descent_trainer - Worker 0 memory usage: 1.6G\n",
      "2023-04-12 15:27:11,956 - INFO - allennlp.training.gradient_descent_trainer - Training\n"
     ]
    },
    {
     "data": {
      "application/vnd.jupyter.widget-view+json": {
       "model_id": "5d40a9b595e54e6abeea47b89450cb77",
       "version_major": 2,
       "version_minor": 0
      },
      "text/plain": [
       "  0%|          | 0/8 [00:00<?, ?it/s]"
      ]
     },
     "metadata": {},
     "output_type": "display_data"
    },
    {
     "name": "stdout",
     "output_type": "stream",
     "text": [
      "2023-04-12 15:27:22,887 - INFO - allennlp.training.gradient_descent_trainer - Validating\n"
     ]
    },
    {
     "data": {
      "application/vnd.jupyter.widget-view+json": {
       "model_id": "08607f1704a54c62a8a08b70a19d44b5",
       "version_major": 2,
       "version_minor": 0
      },
      "text/plain": [
       "  0%|          | 0/3 [00:00<?, ?it/s]"
      ]
     },
     "metadata": {},
     "output_type": "display_data"
    },
    {
     "name": "stdout",
     "output_type": "stream",
     "text": [
      "2023-04-12 15:27:25,841 - INFO - allennlp.training.callbacks.console_logger -                        Training |  Validation\n",
      "2023-04-12 15:27:25,842 - INFO - allennlp.training.callbacks.console_logger - accuracy           |     0.999  |     0.826\n",
      "2023-04-12 15:27:25,843 - INFO - allennlp.training.callbacks.console_logger - accuracy3          |     0.999  |     0.889\n",
      "2023-04-12 15:27:25,843 - INFO - allennlp.training.callbacks.console_logger - f1-measure-overall |     0.999  |     0.796\n",
      "2023-04-12 15:27:25,844 - INFO - allennlp.training.callbacks.console_logger - loss               |     1.633  |   741.541\n",
      "2023-04-12 15:27:25,845 - INFO - allennlp.training.callbacks.console_logger - precision-overall  |     0.999  |     0.784\n",
      "2023-04-12 15:27:25,846 - INFO - allennlp.training.callbacks.console_logger - recall-overall     |     1.000  |     0.807\n",
      "2023-04-12 15:27:25,847 - INFO - allennlp.training.callbacks.console_logger - worker_0_memory_MB |  1630.031  |       N/A\n",
      "2023-04-12 15:27:26,261 - INFO - allennlp.training.gradient_descent_trainer - Epoch duration: 0:00:14.307349\n",
      "2023-04-12 15:27:26,262 - INFO - allennlp.training.gradient_descent_trainer - Estimated training time remaining: 0:01:54\n",
      "2023-04-12 15:27:26,262 - INFO - allennlp.training.gradient_descent_trainer - Epoch 42/49\n",
      "2023-04-12 15:27:26,263 - INFO - allennlp.training.gradient_descent_trainer - Worker 0 memory usage: 1.6G\n",
      "2023-04-12 15:27:26,264 - INFO - allennlp.training.gradient_descent_trainer - Training\n"
     ]
    },
    {
     "data": {
      "application/vnd.jupyter.widget-view+json": {
       "model_id": "729461d5d1284093911e2239e810037d",
       "version_major": 2,
       "version_minor": 0
      },
      "text/plain": [
       "  0%|          | 0/8 [00:00<?, ?it/s]"
      ]
     },
     "metadata": {},
     "output_type": "display_data"
    },
    {
     "name": "stdout",
     "output_type": "stream",
     "text": [
      "2023-04-12 15:27:37,010 - INFO - allennlp.training.gradient_descent_trainer - Validating\n"
     ]
    },
    {
     "data": {
      "application/vnd.jupyter.widget-view+json": {
       "model_id": "eb1fbc7fa05745cf8b3e1f84be31ea11",
       "version_major": 2,
       "version_minor": 0
      },
      "text/plain": [
       "  0%|          | 0/3 [00:00<?, ?it/s]"
      ]
     },
     "metadata": {},
     "output_type": "display_data"
    },
    {
     "name": "stdout",
     "output_type": "stream",
     "text": [
      "2023-04-12 15:27:39,996 - INFO - allennlp.training.callbacks.console_logger -                        Training |  Validation\n",
      "2023-04-12 15:27:39,997 - INFO - allennlp.training.callbacks.console_logger - accuracy           |     0.999  |     0.824\n",
      "2023-04-12 15:27:39,998 - INFO - allennlp.training.callbacks.console_logger - accuracy3          |     0.999  |     0.884\n",
      "2023-04-12 15:27:39,998 - INFO - allennlp.training.callbacks.console_logger - f1-measure-overall |     1.000  |     0.796\n",
      "2023-04-12 15:27:39,999 - INFO - allennlp.training.callbacks.console_logger - loss               |     0.412  |   790.143\n",
      "2023-04-12 15:27:39,999 - INFO - allennlp.training.callbacks.console_logger - precision-overall  |     1.000  |     0.785\n",
      "2023-04-12 15:27:40,000 - INFO - allennlp.training.callbacks.console_logger - recall-overall     |     1.000  |     0.809\n",
      "2023-04-12 15:27:40,000 - INFO - allennlp.training.callbacks.console_logger - worker_0_memory_MB |  1630.031  |       N/A\n",
      "2023-04-12 15:27:40,446 - INFO - allennlp.training.gradient_descent_trainer - Epoch duration: 0:00:14.183646\n",
      "2023-04-12 15:27:40,447 - INFO - allennlp.training.gradient_descent_trainer - Estimated training time remaining: 0:01:40\n",
      "2023-04-12 15:27:40,448 - INFO - allennlp.training.gradient_descent_trainer - Epoch 43/49\n",
      "2023-04-12 15:27:40,449 - INFO - allennlp.training.gradient_descent_trainer - Worker 0 memory usage: 1.6G\n",
      "2023-04-12 15:27:40,450 - INFO - allennlp.training.gradient_descent_trainer - Training\n"
     ]
    },
    {
     "data": {
      "application/vnd.jupyter.widget-view+json": {
       "model_id": "518ec722c26e44468a9919266e892efe",
       "version_major": 2,
       "version_minor": 0
      },
      "text/plain": [
       "  0%|          | 0/8 [00:00<?, ?it/s]"
      ]
     },
     "metadata": {},
     "output_type": "display_data"
    },
    {
     "name": "stdout",
     "output_type": "stream",
     "text": [
      "2023-04-12 15:27:51,463 - INFO - allennlp.training.gradient_descent_trainer - Validating\n"
     ]
    },
    {
     "data": {
      "application/vnd.jupyter.widget-view+json": {
       "model_id": "134b3dee11ff493c8fa7b4ac81a4ec3f",
       "version_major": 2,
       "version_minor": 0
      },
      "text/plain": [
       "  0%|          | 0/3 [00:00<?, ?it/s]"
      ]
     },
     "metadata": {},
     "output_type": "display_data"
    },
    {
     "name": "stdout",
     "output_type": "stream",
     "text": [
      "2023-04-12 15:27:54,571 - INFO - allennlp.training.callbacks.console_logger -                        Training |  Validation\n",
      "2023-04-12 15:27:54,572 - INFO - allennlp.training.callbacks.console_logger - accuracy           |     1.000  |     0.826\n",
      "2023-04-12 15:27:54,573 - INFO - allennlp.training.callbacks.console_logger - accuracy3          |     1.000  |     0.888\n",
      "2023-04-12 15:27:54,573 - INFO - allennlp.training.callbacks.console_logger - f1-measure-overall |     1.000  |     0.799\n",
      "2023-04-12 15:27:54,574 - INFO - allennlp.training.callbacks.console_logger - loss               |     0.296  |   834.813\n",
      "2023-04-12 15:27:54,575 - INFO - allennlp.training.callbacks.console_logger - precision-overall  |     1.000  |     0.796\n",
      "2023-04-12 15:27:54,575 - INFO - allennlp.training.callbacks.console_logger - recall-overall     |     1.000  |     0.802\n",
      "2023-04-12 15:27:54,576 - INFO - allennlp.training.callbacks.console_logger - worker_0_memory_MB |  1630.031  |       N/A\n",
      "2023-04-12 15:27:55,014 - INFO - allennlp.training.gradient_descent_trainer - Epoch duration: 0:00:14.566208\n",
      "2023-04-12 15:27:55,015 - INFO - allennlp.training.gradient_descent_trainer - Estimated training time remaining: 0:01:25\n",
      "2023-04-12 15:27:55,016 - INFO - allennlp.training.gradient_descent_trainer - Epoch 44/49\n",
      "2023-04-12 15:27:55,016 - INFO - allennlp.training.gradient_descent_trainer - Worker 0 memory usage: 1.6G\n",
      "2023-04-12 15:27:55,017 - INFO - allennlp.training.gradient_descent_trainer - Training\n"
     ]
    },
    {
     "data": {
      "application/vnd.jupyter.widget-view+json": {
       "model_id": "b726a31cf2c9427fa923787be86739ec",
       "version_major": 2,
       "version_minor": 0
      },
      "text/plain": [
       "  0%|          | 0/8 [00:00<?, ?it/s]"
      ]
     },
     "metadata": {},
     "output_type": "display_data"
    },
    {
     "name": "stdout",
     "output_type": "stream",
     "text": [
      "2023-04-12 15:28:05,502 - INFO - allennlp.training.gradient_descent_trainer - Validating\n"
     ]
    },
    {
     "data": {
      "application/vnd.jupyter.widget-view+json": {
       "model_id": "6705987de1c24900b5f8aa46bcb4201a",
       "version_major": 2,
       "version_minor": 0
      },
      "text/plain": [
       "  0%|          | 0/3 [00:00<?, ?it/s]"
      ]
     },
     "metadata": {},
     "output_type": "display_data"
    },
    {
     "name": "stdout",
     "output_type": "stream",
     "text": [
      "2023-04-12 15:28:08,429 - INFO - allennlp.training.callbacks.console_logger -                        Training |  Validation\n",
      "2023-04-12 15:28:08,430 - INFO - allennlp.training.callbacks.console_logger - accuracy           |     1.000  |     0.832\n",
      "2023-04-12 15:28:08,431 - INFO - allennlp.training.callbacks.console_logger - accuracy3          |     1.000  |     0.889\n",
      "2023-04-12 15:28:08,431 - INFO - allennlp.training.callbacks.console_logger - f1-measure-overall |     0.999  |     0.807\n",
      "2023-04-12 15:28:08,432 - INFO - allennlp.training.callbacks.console_logger - loss               |     0.238  |   832.774\n",
      "2023-04-12 15:28:08,433 - INFO - allennlp.training.callbacks.console_logger - precision-overall  |     0.999  |     0.805\n",
      "2023-04-12 15:28:08,433 - INFO - allennlp.training.callbacks.console_logger - recall-overall     |     1.000  |     0.809\n",
      "2023-04-12 15:28:08,434 - INFO - allennlp.training.callbacks.console_logger - worker_0_memory_MB |  1630.031  |       N/A\n",
      "2023-04-12 15:28:09,281 - INFO - allennlp.training.gradient_descent_trainer - Epoch duration: 0:00:14.264931\n",
      "2023-04-12 15:28:09,284 - INFO - allennlp.training.gradient_descent_trainer - Estimated training time remaining: 0:01:11\n",
      "2023-04-12 15:28:09,285 - INFO - allennlp.training.gradient_descent_trainer - Epoch 45/49\n",
      "2023-04-12 15:28:09,286 - INFO - allennlp.training.gradient_descent_trainer - Worker 0 memory usage: 1.6G\n",
      "2023-04-12 15:28:09,287 - INFO - allennlp.training.gradient_descent_trainer - Training\n"
     ]
    },
    {
     "data": {
      "application/vnd.jupyter.widget-view+json": {
       "model_id": "edce8d4ce5194b1192fa28778450cfe6",
       "version_major": 2,
       "version_minor": 0
      },
      "text/plain": [
       "  0%|          | 0/8 [00:00<?, ?it/s]"
      ]
     },
     "metadata": {},
     "output_type": "display_data"
    },
    {
     "name": "stdout",
     "output_type": "stream",
     "text": [
      "2023-04-12 15:28:20,169 - INFO - allennlp.training.gradient_descent_trainer - Validating\n"
     ]
    },
    {
     "data": {
      "application/vnd.jupyter.widget-view+json": {
       "model_id": "14fb16027c6b4003bc9d16bc0f0dd343",
       "version_major": 2,
       "version_minor": 0
      },
      "text/plain": [
       "  0%|          | 0/3 [00:00<?, ?it/s]"
      ]
     },
     "metadata": {},
     "output_type": "display_data"
    },
    {
     "name": "stdout",
     "output_type": "stream",
     "text": [
      "2023-04-12 15:28:23,266 - INFO - allennlp.training.callbacks.console_logger -                        Training |  Validation\n",
      "2023-04-12 15:28:23,267 - INFO - allennlp.training.callbacks.console_logger - accuracy           |     1.000  |     0.829\n",
      "2023-04-12 15:28:23,268 - INFO - allennlp.training.callbacks.console_logger - accuracy3          |     1.000  |     0.888\n",
      "2023-04-12 15:28:23,269 - INFO - allennlp.training.callbacks.console_logger - f1-measure-overall |     1.000  |     0.804\n",
      "2023-04-12 15:28:23,269 - INFO - allennlp.training.callbacks.console_logger - loss               |     0.114  |   829.303\n",
      "2023-04-12 15:28:23,270 - INFO - allennlp.training.callbacks.console_logger - precision-overall  |     1.000  |     0.797\n",
      "2023-04-12 15:28:23,270 - INFO - allennlp.training.callbacks.console_logger - recall-overall     |     1.000  |     0.812\n",
      "2023-04-12 15:28:23,271 - INFO - allennlp.training.callbacks.console_logger - worker_0_memory_MB |  1630.031  |       N/A\n",
      "2023-04-12 15:28:23,749 - INFO - allennlp.training.gradient_descent_trainer - Epoch duration: 0:00:14.463820\n",
      "2023-04-12 15:28:23,750 - INFO - allennlp.training.gradient_descent_trainer - Estimated training time remaining: 0:00:57\n",
      "2023-04-12 15:28:23,751 - INFO - allennlp.training.gradient_descent_trainer - Epoch 46/49\n",
      "2023-04-12 15:28:23,751 - INFO - allennlp.training.gradient_descent_trainer - Worker 0 memory usage: 1.6G\n",
      "2023-04-12 15:28:23,753 - INFO - allennlp.training.gradient_descent_trainer - Training\n"
     ]
    },
    {
     "data": {
      "application/vnd.jupyter.widget-view+json": {
       "model_id": "c77d79cb20894ebfb0d6d94dab3caca2",
       "version_major": 2,
       "version_minor": 0
      },
      "text/plain": [
       "  0%|          | 0/8 [00:00<?, ?it/s]"
      ]
     },
     "metadata": {},
     "output_type": "display_data"
    },
    {
     "name": "stdout",
     "output_type": "stream",
     "text": [
      "2023-04-12 15:28:34,096 - INFO - allennlp.training.gradient_descent_trainer - Validating\n"
     ]
    },
    {
     "data": {
      "application/vnd.jupyter.widget-view+json": {
       "model_id": "0557b2e4def147af897a45b752a6e669",
       "version_major": 2,
       "version_minor": 0
      },
      "text/plain": [
       "  0%|          | 0/3 [00:00<?, ?it/s]"
      ]
     },
     "metadata": {},
     "output_type": "display_data"
    },
    {
     "name": "stdout",
     "output_type": "stream",
     "text": [
      "2023-04-12 15:28:38,151 - INFO - allennlp.training.callbacks.console_logger -                        Training |  Validation\n",
      "2023-04-12 15:28:38,156 - INFO - allennlp.training.callbacks.console_logger - accuracy           |     1.000  |     0.834\n",
      "2023-04-12 15:28:38,159 - INFO - allennlp.training.callbacks.console_logger - accuracy3          |     1.000  |     0.890\n",
      "2023-04-12 15:28:38,163 - INFO - allennlp.training.callbacks.console_logger - f1-measure-overall |     1.000  |     0.811\n",
      "2023-04-12 15:28:38,164 - INFO - allennlp.training.callbacks.console_logger - loss               |     0.038  |   833.847\n",
      "2023-04-12 15:28:38,166 - INFO - allennlp.training.callbacks.console_logger - precision-overall  |     1.000  |     0.805\n",
      "2023-04-12 15:28:38,168 - INFO - allennlp.training.callbacks.console_logger - recall-overall     |     1.000  |     0.818\n",
      "2023-04-12 15:28:38,173 - INFO - allennlp.training.callbacks.console_logger - worker_0_memory_MB |  1630.031  |       N/A\n",
      "2023-04-12 15:28:39,563 - INFO - allennlp.training.gradient_descent_trainer - Epoch duration: 0:00:15.812454\n",
      "2023-04-12 15:28:39,565 - INFO - allennlp.training.gradient_descent_trainer - Estimated training time remaining: 0:00:42\n",
      "2023-04-12 15:28:39,565 - INFO - allennlp.training.gradient_descent_trainer - Epoch 47/49\n",
      "2023-04-12 15:28:39,566 - INFO - allennlp.training.gradient_descent_trainer - Worker 0 memory usage: 1.6G\n",
      "2023-04-12 15:28:39,568 - INFO - allennlp.training.gradient_descent_trainer - Training\n"
     ]
    },
    {
     "data": {
      "application/vnd.jupyter.widget-view+json": {
       "model_id": "6413288f736b4f40aa3529ada0ff15c8",
       "version_major": 2,
       "version_minor": 0
      },
      "text/plain": [
       "  0%|          | 0/8 [00:00<?, ?it/s]"
      ]
     },
     "metadata": {},
     "output_type": "display_data"
    },
    {
     "name": "stdout",
     "output_type": "stream",
     "text": [
      "2023-04-12 15:28:51,437 - INFO - allennlp.training.gradient_descent_trainer - Validating\n"
     ]
    },
    {
     "data": {
      "application/vnd.jupyter.widget-view+json": {
       "model_id": "11799afacb1a4a7b8ad22130d6547b38",
       "version_major": 2,
       "version_minor": 0
      },
      "text/plain": [
       "  0%|          | 0/3 [00:00<?, ?it/s]"
      ]
     },
     "metadata": {},
     "output_type": "display_data"
    },
    {
     "name": "stdout",
     "output_type": "stream",
     "text": [
      "2023-04-12 15:28:54,733 - INFO - allennlp.training.callbacks.console_logger -                        Training |  Validation\n",
      "2023-04-12 15:28:54,734 - INFO - allennlp.training.callbacks.console_logger - accuracy           |     1.000  |     0.836\n",
      "2023-04-12 15:28:54,735 - INFO - allennlp.training.callbacks.console_logger - accuracy3          |     1.000  |     0.892\n",
      "2023-04-12 15:28:54,736 - INFO - allennlp.training.callbacks.console_logger - f1-measure-overall |     0.999  |     0.809\n",
      "2023-04-12 15:28:54,737 - INFO - allennlp.training.callbacks.console_logger - loss               |     0.124  |   838.550\n",
      "2023-04-12 15:28:54,738 - INFO - allennlp.training.callbacks.console_logger - precision-overall  |     1.000  |     0.805\n",
      "2023-04-12 15:28:54,738 - INFO - allennlp.training.callbacks.console_logger - recall-overall     |     0.999  |     0.813\n",
      "2023-04-12 15:28:54,739 - INFO - allennlp.training.callbacks.console_logger - worker_0_memory_MB |  1630.031  |       N/A\n",
      "2023-04-12 15:28:55,163 - INFO - allennlp.training.gradient_descent_trainer - Epoch duration: 0:00:15.597799\n",
      "2023-04-12 15:28:55,164 - INFO - allennlp.training.gradient_descent_trainer - Estimated training time remaining: 0:00:28\n",
      "2023-04-12 15:28:55,164 - INFO - allennlp.training.gradient_descent_trainer - Epoch 48/49\n",
      "2023-04-12 15:28:55,165 - INFO - allennlp.training.gradient_descent_trainer - Worker 0 memory usage: 1.6G\n",
      "2023-04-12 15:28:55,166 - INFO - allennlp.training.gradient_descent_trainer - Training\n"
     ]
    },
    {
     "data": {
      "application/vnd.jupyter.widget-view+json": {
       "model_id": "6734d2faf06340ae88637f825d5c968f",
       "version_major": 2,
       "version_minor": 0
      },
      "text/plain": [
       "  0%|          | 0/8 [00:00<?, ?it/s]"
      ]
     },
     "metadata": {},
     "output_type": "display_data"
    },
    {
     "name": "stdout",
     "output_type": "stream",
     "text": [
      "2023-04-12 15:29:05,361 - INFO - allennlp.training.gradient_descent_trainer - Validating\n"
     ]
    },
    {
     "data": {
      "application/vnd.jupyter.widget-view+json": {
       "model_id": "f7c2439208b4446abfafe415f43acf36",
       "version_major": 2,
       "version_minor": 0
      },
      "text/plain": [
       "  0%|          | 0/3 [00:00<?, ?it/s]"
      ]
     },
     "metadata": {},
     "output_type": "display_data"
    },
    {
     "name": "stdout",
     "output_type": "stream",
     "text": [
      "2023-04-12 15:29:08,300 - INFO - allennlp.training.callbacks.console_logger -                        Training |  Validation\n",
      "2023-04-12 15:29:08,301 - INFO - allennlp.training.callbacks.console_logger - accuracy           |     1.000  |     0.833\n",
      "2023-04-12 15:29:08,302 - INFO - allennlp.training.callbacks.console_logger - accuracy3          |     1.000  |     0.891\n",
      "2023-04-12 15:29:08,302 - INFO - allennlp.training.callbacks.console_logger - f1-measure-overall |     0.999  |     0.805\n",
      "2023-04-12 15:29:08,303 - INFO - allennlp.training.callbacks.console_logger - loss               |     1.002  |   840.779\n",
      "2023-04-12 15:29:08,303 - INFO - allennlp.training.callbacks.console_logger - precision-overall  |     1.000  |     0.799\n",
      "2023-04-12 15:29:08,304 - INFO - allennlp.training.callbacks.console_logger - recall-overall     |     0.999  |     0.810\n",
      "2023-04-12 15:29:08,304 - INFO - allennlp.training.callbacks.console_logger - worker_0_memory_MB |  1630.031  |       N/A\n",
      "2023-04-12 15:29:08,756 - INFO - allennlp.training.gradient_descent_trainer - Epoch duration: 0:00:13.591455\n",
      "2023-04-12 15:29:08,760 - INFO - allennlp.training.gradient_descent_trainer - Estimated training time remaining: 0:00:14\n",
      "2023-04-12 15:29:08,760 - INFO - allennlp.training.gradient_descent_trainer - Epoch 49/49\n",
      "2023-04-12 15:29:08,761 - INFO - allennlp.training.gradient_descent_trainer - Worker 0 memory usage: 1.6G\n",
      "2023-04-12 15:29:08,762 - INFO - allennlp.training.gradient_descent_trainer - Training\n"
     ]
    },
    {
     "data": {
      "application/vnd.jupyter.widget-view+json": {
       "model_id": "2b865ade30b24336a33439783ae226d2",
       "version_major": 2,
       "version_minor": 0
      },
      "text/plain": [
       "  0%|          | 0/8 [00:00<?, ?it/s]"
      ]
     },
     "metadata": {},
     "output_type": "display_data"
    },
    {
     "name": "stdout",
     "output_type": "stream",
     "text": [
      "2023-04-12 15:29:18,921 - INFO - allennlp.training.gradient_descent_trainer - Validating\n"
     ]
    },
    {
     "data": {
      "application/vnd.jupyter.widget-view+json": {
       "model_id": "d955a6d390904961a8dfe6e56048f477",
       "version_major": 2,
       "version_minor": 0
      },
      "text/plain": [
       "  0%|          | 0/3 [00:00<?, ?it/s]"
      ]
     },
     "metadata": {},
     "output_type": "display_data"
    },
    {
     "name": "stdout",
     "output_type": "stream",
     "text": [
      "2023-04-12 15:29:22,086 - INFO - allennlp.training.callbacks.console_logger -                        Training |  Validation\n",
      "2023-04-12 15:29:22,087 - INFO - allennlp.training.callbacks.console_logger - accuracy           |     1.000  |     0.834\n",
      "2023-04-12 15:29:22,087 - INFO - allennlp.training.callbacks.console_logger - accuracy3          |     1.000  |     0.891\n",
      "2023-04-12 15:29:22,088 - INFO - allennlp.training.callbacks.console_logger - f1-measure-overall |     1.000  |     0.808\n",
      "2023-04-12 15:29:22,088 - INFO - allennlp.training.callbacks.console_logger - loss               |     0.222  |   843.998\n",
      "2023-04-12 15:29:22,089 - INFO - allennlp.training.callbacks.console_logger - precision-overall  |     1.000  |     0.801\n",
      "2023-04-12 15:29:22,090 - INFO - allennlp.training.callbacks.console_logger - recall-overall     |     1.000  |     0.815\n",
      "2023-04-12 15:29:22,090 - INFO - allennlp.training.callbacks.console_logger - worker_0_memory_MB |  1630.031  |       N/A\n",
      "2023-04-12 15:29:22,512 - INFO - allennlp.training.gradient_descent_trainer - Epoch duration: 0:00:13.752066\n",
      "2023-04-12 15:29:22,913 - INFO - allennlp.common.util - Metrics: {\n",
      "  \"best_epoch\": 46,\n",
      "  \"peak_worker_0_memory_MB\": 1630.03125,\n",
      "  \"training_duration\": \"0:11:56.405153\",\n",
      "  \"epoch\": 49,\n",
      "  \"training_accuracy\": 1.0,\n",
      "  \"training_accuracy3\": 1.0,\n",
      "  \"training_precision-overall\": 1.0,\n",
      "  \"training_recall-overall\": 1.0,\n",
      "  \"training_f1-measure-overall\": 0.99999999999995,\n",
      "  \"training_loss\": 0.22212886810302734,\n",
      "  \"training_worker_0_memory_MB\": 1630.03125,\n",
      "  \"validation_accuracy\": 0.8336106489184693,\n",
      "  \"validation_accuracy3\": 0.8910149750415973,\n",
      "  \"validation_precision-overall\": 0.8011958146487294,\n",
      "  \"validation_recall-overall\": 0.8145896656534953,\n",
      "  \"validation_f1-measure-overall\": 0.8078372268273802,\n",
      "  \"validation_loss\": 843.9983113606771,\n",
      "  \"best_validation_accuracy\": 0.8344425956738769,\n",
      "  \"best_validation_accuracy3\": 0.8901830282861897,\n",
      "  \"best_validation_precision-overall\": 0.8053892215568861,\n",
      "  \"best_validation_recall-overall\": 0.8176291793313069,\n",
      "  \"best_validation_f1-measure-overall\": 0.8114630467571142,\n",
      "  \"best_validation_loss\": 833.8473103841146\n",
      "}\n",
      "2023-04-12 15:29:22,914 - INFO - allennlp.models.archival - archiving weights and vocabulary to /Users/rubenkruiper/dev/irec/SPaR.txt/trained_models/debugger_train/model.tar.gz\n",
      "2023-04-12 15:29:37,337 - INFO - allennlp.models.archival - loading archive file /Users/rubenkruiper/dev/irec/SPaR.txt/trained_models/debugger_train/model.tar.gz from cache at /Users/rubenkruiper/dev/irec/SPaR.txt/trained_models/debugger_train/model.tar.gz\n",
      "2023-04-12 15:29:37,339 - INFO - allennlp.models.archival - extracting archive file /Users/rubenkruiper/dev/irec/SPaR.txt/trained_models/debugger_train/model.tar.gz to temp dir /var/folders/lp/l_mzhpjs6bg95plfkl_n_vsc0000gn/T/tmpenu7bvc2\n",
      "2023-04-12 15:29:39,926 - INFO - allennlp.common.params - dataset_reader.type = tag_reader\n",
      "2023-04-12 15:29:39,927 - INFO - allennlp.common.params - dataset_reader.max_instances = None\n",
      "2023-04-12 15:29:39,928 - INFO - allennlp.common.params - dataset_reader.manual_distributed_sharding = False\n",
      "2023-04-12 15:29:39,929 - INFO - allennlp.common.params - dataset_reader.manual_multiprocess_sharding = False\n",
      "2023-04-12 15:29:39,929 - INFO - allennlp.common.params - dataset_reader.bert_model_name = bert-base-cased\n",
      "2023-04-12 15:29:39,931 - INFO - allennlp.common.params - dataset_reader.token_indexers.tokens.type = pretrained_transformer\n",
      "2023-04-12 15:29:39,932 - INFO - allennlp.common.params - dataset_reader.token_indexers.tokens.token_min_padding_length = 0\n",
      "2023-04-12 15:29:39,932 - INFO - allennlp.common.params - dataset_reader.token_indexers.tokens.model_name = bert-base-cased\n",
      "2023-04-12 15:29:39,933 - INFO - allennlp.common.params - dataset_reader.token_indexers.tokens.namespace = tags\n",
      "2023-04-12 15:29:39,934 - INFO - allennlp.common.params - dataset_reader.token_indexers.tokens.max_length = 512\n",
      "2023-04-12 15:29:39,934 - INFO - allennlp.common.params - dataset_reader.token_indexers.tokens.tokenizer_kwargs.use_fast = False\n",
      "2023-04-12 15:29:39,936 - INFO - allennlp.common.params - dataset_reader.type = tag_reader\n",
      "2023-04-12 15:29:39,937 - INFO - allennlp.common.params - dataset_reader.max_instances = None\n",
      "2023-04-12 15:29:39,937 - INFO - allennlp.common.params - dataset_reader.manual_distributed_sharding = False\n",
      "2023-04-12 15:29:39,938 - INFO - allennlp.common.params - dataset_reader.manual_multiprocess_sharding = False\n",
      "2023-04-12 15:29:39,939 - INFO - allennlp.common.params - dataset_reader.bert_model_name = bert-base-cased\n",
      "2023-04-12 15:29:39,939 - INFO - allennlp.common.params - dataset_reader.token_indexers.tokens.type = pretrained_transformer\n",
      "2023-04-12 15:29:39,940 - INFO - allennlp.common.params - dataset_reader.token_indexers.tokens.token_min_padding_length = 0\n",
      "2023-04-12 15:29:39,940 - INFO - allennlp.common.params - dataset_reader.token_indexers.tokens.model_name = bert-base-cased\n",
      "2023-04-12 15:29:39,941 - INFO - allennlp.common.params - dataset_reader.token_indexers.tokens.namespace = tags\n",
      "2023-04-12 15:29:39,941 - INFO - allennlp.common.params - dataset_reader.token_indexers.tokens.max_length = 512\n",
      "2023-04-12 15:29:39,942 - INFO - allennlp.common.params - dataset_reader.token_indexers.tokens.tokenizer_kwargs.use_fast = False\n",
      "2023-04-12 15:29:39,943 - INFO - allennlp.common.params - type = from_instances\n",
      "2023-04-12 15:29:39,944 - INFO - allennlp.data.vocabulary - Loading token dictionary from /var/folders/lp/l_mzhpjs6bg95plfkl_n_vsc0000gn/T/tmpenu7bvc2/vocabulary.\n",
      "2023-04-12 15:29:39,945 - INFO - filelock - Lock 140614551565744 acquired on /var/folders/lp/l_mzhpjs6bg95plfkl_n_vsc0000gn/T/tmpenu7bvc2/vocabulary/.lock\n",
      "2023-04-12 15:29:39,947 - INFO - filelock - Lock 140614551565744 released on /var/folders/lp/l_mzhpjs6bg95plfkl_n_vsc0000gn/T/tmpenu7bvc2/vocabulary/.lock\n",
      "2023-04-12 15:29:39,948 - INFO - allennlp.common.params - model.type = attention_tagger\n",
      "2023-04-12 15:29:39,948 - INFO - allennlp.common.params - model.regularizer = None\n",
      "2023-04-12 15:29:39,949 - INFO - allennlp.common.params - model.text_field_embedder.type = basic\n",
      "2023-04-12 15:29:39,950 - INFO - allennlp.common.params - model.text_field_embedder.token_embedders.tokens.type = pretrained_transformer\n",
      "2023-04-12 15:29:39,951 - INFO - allennlp.common.params - model.text_field_embedder.token_embedders.tokens.model_name = bert-base-cased\n",
      "2023-04-12 15:29:39,951 - INFO - allennlp.common.params - model.text_field_embedder.token_embedders.tokens.max_length = 512\n",
      "2023-04-12 15:29:39,952 - INFO - allennlp.common.params - model.text_field_embedder.token_embedders.tokens.sub_module = None\n",
      "2023-04-12 15:29:39,952 - INFO - allennlp.common.params - model.text_field_embedder.token_embedders.tokens.train_parameters = False\n",
      "2023-04-12 15:29:39,953 - INFO - allennlp.common.params - model.text_field_embedder.token_embedders.tokens.eval_mode = False\n",
      "2023-04-12 15:29:39,953 - INFO - allennlp.common.params - model.text_field_embedder.token_embedders.tokens.last_layer_only = True\n",
      "2023-04-12 15:29:39,954 - INFO - allennlp.common.params - model.text_field_embedder.token_embedders.tokens.override_weights_file = None\n",
      "2023-04-12 15:29:39,955 - INFO - allennlp.common.params - model.text_field_embedder.token_embedders.tokens.override_weights_strip_prefix = None\n",
      "2023-04-12 15:29:39,955 - INFO - allennlp.common.params - model.text_field_embedder.token_embedders.tokens.load_weights = True\n",
      "2023-04-12 15:29:39,956 - INFO - allennlp.common.params - model.text_field_embedder.token_embedders.tokens.gradient_checkpointing = None\n",
      "2023-04-12 15:29:39,956 - INFO - allennlp.common.params - model.text_field_embedder.token_embedders.tokens.tokenizer_kwargs.use_fast = False\n",
      "2023-04-12 15:29:39,957 - INFO - allennlp.common.params - model.text_field_embedder.token_embedders.tokens.transformer_kwargs = None\n",
      "2023-04-12 15:29:40,087 - INFO - allennlp.common.params - model.encoder.type = lstm\n",
      "2023-04-12 15:29:40,088 - INFO - allennlp.common.params - model.encoder.input_size = 768\n",
      "2023-04-12 15:29:40,089 - INFO - allennlp.common.params - model.encoder.hidden_size = 384\n",
      "2023-04-12 15:29:40,090 - INFO - allennlp.common.params - model.encoder.num_layers = 1\n",
      "2023-04-12 15:29:40,090 - INFO - allennlp.common.params - model.encoder.bias = True\n"
     ]
    },
    {
     "name": "stdout",
     "output_type": "stream",
     "text": [
      "2023-04-12 15:29:40,091 - INFO - allennlp.common.params - model.encoder.dropout = 0.0\n",
      "2023-04-12 15:29:40,091 - INFO - allennlp.common.params - model.encoder.bidirectional = True\n",
      "2023-04-12 15:29:40,092 - INFO - allennlp.common.params - model.encoder.stateful = False\n",
      "2023-04-12 15:29:40,108 - INFO - allennlp.common.params - model.label_namespace = labels\n",
      "2023-04-12 15:29:40,108 - INFO - allennlp.common.params - model.feedforward.input_dim = 1536\n",
      "2023-04-12 15:29:40,109 - INFO - allennlp.common.params - model.feedforward.num_layers = 1\n",
      "2023-04-12 15:29:40,110 - INFO - allennlp.common.params - model.feedforward.hidden_dims = 60\n",
      "2023-04-12 15:29:40,110 - INFO - allennlp.common.params - model.feedforward.activations = relu\n",
      "2023-04-12 15:29:40,111 - INFO - allennlp.common.params - type = relu\n",
      "2023-04-12 15:29:40,112 - INFO - allennlp.common.params - model.feedforward.dropout = 0.05\n",
      "2023-04-12 15:29:40,114 - INFO - allennlp.common.params - model.label_encoding = DiscontiguousTest\n",
      "2023-04-12 15:29:40,115 - INFO - allennlp.common.params - model.include_start_end_transitions = False\n",
      "2023-04-12 15:29:40,116 - INFO - allennlp.common.params - model.constrain_crf_decoding = None\n",
      "2023-04-12 15:29:40,117 - INFO - allennlp.common.params - model.calculate_span_f1 = None\n",
      "2023-04-12 15:29:40,117 - INFO - allennlp.common.params - model.dropout = 0.05\n",
      "2023-04-12 15:29:40,118 - INFO - allennlp.common.params - model.verbose_metrics = False\n",
      "2023-04-12 15:29:40,119 - INFO - allennlp.common.params - model.initializer = <allennlp.nn.initializers.InitializerApplicator object at 0x7fe3bbdf5f10>\n",
      "2023-04-12 15:29:40,119 - INFO - allennlp.common.params - model.top_k = 1\n",
      "2023-04-12 15:29:40,120 - INFO - allennlp.common.params - model.ignore_loss_on_o_tags = False\n",
      "2023-04-12 15:29:40,134 - INFO - allennlp.nn.initializers - Initializing parameters\n",
      "2023-04-12 15:29:40,135 - INFO - allennlp.nn.initializers - Done initializing parameters; the following parameters are using their default initialization from their code\n",
      "2023-04-12 15:29:40,136 - INFO - allennlp.nn.initializers -    _attention.Er\n",
      "2023-04-12 15:29:40,137 - INFO - allennlp.nn.initializers -    _attention.key.bias\n",
      "2023-04-12 15:29:40,138 - INFO - allennlp.nn.initializers -    _attention.key.weight\n",
      "2023-04-12 15:29:40,138 - INFO - allennlp.nn.initializers -    _attention.query.bias\n",
      "2023-04-12 15:29:40,139 - INFO - allennlp.nn.initializers -    _attention.query.weight\n",
      "2023-04-12 15:29:40,139 - INFO - allennlp.nn.initializers -    _attention.value.bias\n",
      "2023-04-12 15:29:40,140 - INFO - allennlp.nn.initializers -    _attention.value.weight\n",
      "2023-04-12 15:29:40,141 - INFO - allennlp.nn.initializers -    _feedforward._linear_layers.0.bias\n",
      "2023-04-12 15:29:40,141 - INFO - allennlp.nn.initializers -    _feedforward._linear_layers.0.weight\n",
      "2023-04-12 15:29:40,142 - INFO - allennlp.nn.initializers -    crf._constraint_mask\n",
      "2023-04-12 15:29:40,142 - INFO - allennlp.nn.initializers -    crf.transitions\n",
      "2023-04-12 15:29:40,143 - INFO - allennlp.nn.initializers -    encoder._module.bias_hh_l0\n",
      "2023-04-12 15:29:40,143 - INFO - allennlp.nn.initializers -    encoder._module.bias_hh_l0_reverse\n",
      "2023-04-12 15:29:40,144 - INFO - allennlp.nn.initializers -    encoder._module.bias_ih_l0\n",
      "2023-04-12 15:29:40,144 - INFO - allennlp.nn.initializers -    encoder._module.bias_ih_l0_reverse\n",
      "2023-04-12 15:29:40,145 - INFO - allennlp.nn.initializers -    encoder._module.weight_hh_l0\n",
      "2023-04-12 15:29:40,145 - INFO - allennlp.nn.initializers -    encoder._module.weight_hh_l0_reverse\n",
      "2023-04-12 15:29:40,146 - INFO - allennlp.nn.initializers -    encoder._module.weight_ih_l0\n",
      "2023-04-12 15:29:40,146 - INFO - allennlp.nn.initializers -    encoder._module.weight_ih_l0_reverse\n",
      "2023-04-12 15:29:40,147 - INFO - allennlp.nn.initializers -    tag_projection_layer._module.bias\n",
      "2023-04-12 15:29:40,147 - INFO - allennlp.nn.initializers -    tag_projection_layer._module.weight\n",
      "2023-04-12 15:29:40,148 - INFO - allennlp.nn.initializers -    text_field_embedder.token_embedder_tokens.transformer_model.embeddings.LayerNorm.bias\n",
      "2023-04-12 15:29:40,148 - INFO - allennlp.nn.initializers -    text_field_embedder.token_embedder_tokens.transformer_model.embeddings.LayerNorm.weight\n",
      "2023-04-12 15:29:40,149 - INFO - allennlp.nn.initializers -    text_field_embedder.token_embedder_tokens.transformer_model.embeddings.position_embeddings.weight\n",
      "2023-04-12 15:29:40,149 - INFO - allennlp.nn.initializers -    text_field_embedder.token_embedder_tokens.transformer_model.embeddings.token_type_embeddings.weight\n",
      "2023-04-12 15:29:40,150 - INFO - allennlp.nn.initializers -    text_field_embedder.token_embedder_tokens.transformer_model.embeddings.word_embeddings.weight\n",
      "2023-04-12 15:29:40,150 - INFO - allennlp.nn.initializers -    text_field_embedder.token_embedder_tokens.transformer_model.encoder.layer.0.attention.output.LayerNorm.bias\n",
      "2023-04-12 15:29:40,151 - INFO - allennlp.nn.initializers -    text_field_embedder.token_embedder_tokens.transformer_model.encoder.layer.0.attention.output.LayerNorm.weight\n",
      "2023-04-12 15:29:40,151 - INFO - allennlp.nn.initializers -    text_field_embedder.token_embedder_tokens.transformer_model.encoder.layer.0.attention.output.dense.bias\n",
      "2023-04-12 15:29:40,152 - INFO - allennlp.nn.initializers -    text_field_embedder.token_embedder_tokens.transformer_model.encoder.layer.0.attention.output.dense.weight\n",
      "2023-04-12 15:29:40,152 - INFO - allennlp.nn.initializers -    text_field_embedder.token_embedder_tokens.transformer_model.encoder.layer.0.attention.self.key.bias\n",
      "2023-04-12 15:29:40,153 - INFO - allennlp.nn.initializers -    text_field_embedder.token_embedder_tokens.transformer_model.encoder.layer.0.attention.self.key.weight\n",
      "2023-04-12 15:29:40,153 - INFO - allennlp.nn.initializers -    text_field_embedder.token_embedder_tokens.transformer_model.encoder.layer.0.attention.self.query.bias\n",
      "2023-04-12 15:29:40,154 - INFO - allennlp.nn.initializers -    text_field_embedder.token_embedder_tokens.transformer_model.encoder.layer.0.attention.self.query.weight\n",
      "2023-04-12 15:29:40,154 - INFO - allennlp.nn.initializers -    text_field_embedder.token_embedder_tokens.transformer_model.encoder.layer.0.attention.self.value.bias\n",
      "2023-04-12 15:29:40,155 - INFO - allennlp.nn.initializers -    text_field_embedder.token_embedder_tokens.transformer_model.encoder.layer.0.attention.self.value.weight\n",
      "2023-04-12 15:29:40,155 - INFO - allennlp.nn.initializers -    text_field_embedder.token_embedder_tokens.transformer_model.encoder.layer.0.intermediate.dense.bias\n",
      "2023-04-12 15:29:40,156 - INFO - allennlp.nn.initializers -    text_field_embedder.token_embedder_tokens.transformer_model.encoder.layer.0.intermediate.dense.weight\n",
      "2023-04-12 15:29:40,156 - INFO - allennlp.nn.initializers -    text_field_embedder.token_embedder_tokens.transformer_model.encoder.layer.0.output.LayerNorm.bias\n",
      "2023-04-12 15:29:40,157 - INFO - allennlp.nn.initializers -    text_field_embedder.token_embedder_tokens.transformer_model.encoder.layer.0.output.LayerNorm.weight\n",
      "2023-04-12 15:29:40,157 - INFO - allennlp.nn.initializers -    text_field_embedder.token_embedder_tokens.transformer_model.encoder.layer.0.output.dense.bias\n",
      "2023-04-12 15:29:40,158 - INFO - allennlp.nn.initializers -    text_field_embedder.token_embedder_tokens.transformer_model.encoder.layer.0.output.dense.weight\n",
      "2023-04-12 15:29:40,158 - INFO - allennlp.nn.initializers -    text_field_embedder.token_embedder_tokens.transformer_model.encoder.layer.1.attention.output.LayerNorm.bias\n",
      "2023-04-12 15:29:40,159 - INFO - allennlp.nn.initializers -    text_field_embedder.token_embedder_tokens.transformer_model.encoder.layer.1.attention.output.LayerNorm.weight\n",
      "2023-04-12 15:29:40,159 - INFO - allennlp.nn.initializers -    text_field_embedder.token_embedder_tokens.transformer_model.encoder.layer.1.attention.output.dense.bias\n",
      "2023-04-12 15:29:40,160 - INFO - allennlp.nn.initializers -    text_field_embedder.token_embedder_tokens.transformer_model.encoder.layer.1.attention.output.dense.weight\n",
      "2023-04-12 15:29:40,160 - INFO - allennlp.nn.initializers -    text_field_embedder.token_embedder_tokens.transformer_model.encoder.layer.1.attention.self.key.bias\n",
      "2023-04-12 15:29:40,161 - INFO - allennlp.nn.initializers -    text_field_embedder.token_embedder_tokens.transformer_model.encoder.layer.1.attention.self.key.weight\n"
     ]
    },
    {
     "name": "stdout",
     "output_type": "stream",
     "text": [
      "2023-04-12 15:29:40,161 - INFO - allennlp.nn.initializers -    text_field_embedder.token_embedder_tokens.transformer_model.encoder.layer.1.attention.self.query.bias\n",
      "2023-04-12 15:29:40,162 - INFO - allennlp.nn.initializers -    text_field_embedder.token_embedder_tokens.transformer_model.encoder.layer.1.attention.self.query.weight\n",
      "2023-04-12 15:29:40,162 - INFO - allennlp.nn.initializers -    text_field_embedder.token_embedder_tokens.transformer_model.encoder.layer.1.attention.self.value.bias\n",
      "2023-04-12 15:29:40,163 - INFO - allennlp.nn.initializers -    text_field_embedder.token_embedder_tokens.transformer_model.encoder.layer.1.attention.self.value.weight\n",
      "2023-04-12 15:29:40,163 - INFO - allennlp.nn.initializers -    text_field_embedder.token_embedder_tokens.transformer_model.encoder.layer.1.intermediate.dense.bias\n",
      "2023-04-12 15:29:40,164 - INFO - allennlp.nn.initializers -    text_field_embedder.token_embedder_tokens.transformer_model.encoder.layer.1.intermediate.dense.weight\n",
      "2023-04-12 15:29:40,164 - INFO - allennlp.nn.initializers -    text_field_embedder.token_embedder_tokens.transformer_model.encoder.layer.1.output.LayerNorm.bias\n",
      "2023-04-12 15:29:40,165 - INFO - allennlp.nn.initializers -    text_field_embedder.token_embedder_tokens.transformer_model.encoder.layer.1.output.LayerNorm.weight\n",
      "2023-04-12 15:29:40,166 - INFO - allennlp.nn.initializers -    text_field_embedder.token_embedder_tokens.transformer_model.encoder.layer.1.output.dense.bias\n",
      "2023-04-12 15:29:40,166 - INFO - allennlp.nn.initializers -    text_field_embedder.token_embedder_tokens.transformer_model.encoder.layer.1.output.dense.weight\n",
      "2023-04-12 15:29:40,167 - INFO - allennlp.nn.initializers -    text_field_embedder.token_embedder_tokens.transformer_model.encoder.layer.10.attention.output.LayerNorm.bias\n",
      "2023-04-12 15:29:40,167 - INFO - allennlp.nn.initializers -    text_field_embedder.token_embedder_tokens.transformer_model.encoder.layer.10.attention.output.LayerNorm.weight\n",
      "2023-04-12 15:29:40,168 - INFO - allennlp.nn.initializers -    text_field_embedder.token_embedder_tokens.transformer_model.encoder.layer.10.attention.output.dense.bias\n",
      "2023-04-12 15:29:40,168 - INFO - allennlp.nn.initializers -    text_field_embedder.token_embedder_tokens.transformer_model.encoder.layer.10.attention.output.dense.weight\n",
      "2023-04-12 15:29:40,169 - INFO - allennlp.nn.initializers -    text_field_embedder.token_embedder_tokens.transformer_model.encoder.layer.10.attention.self.key.bias\n",
      "2023-04-12 15:29:40,169 - INFO - allennlp.nn.initializers -    text_field_embedder.token_embedder_tokens.transformer_model.encoder.layer.10.attention.self.key.weight\n",
      "2023-04-12 15:29:40,170 - INFO - allennlp.nn.initializers -    text_field_embedder.token_embedder_tokens.transformer_model.encoder.layer.10.attention.self.query.bias\n",
      "2023-04-12 15:29:40,170 - INFO - allennlp.nn.initializers -    text_field_embedder.token_embedder_tokens.transformer_model.encoder.layer.10.attention.self.query.weight\n",
      "2023-04-12 15:29:40,170 - INFO - allennlp.nn.initializers -    text_field_embedder.token_embedder_tokens.transformer_model.encoder.layer.10.attention.self.value.bias\n",
      "2023-04-12 15:29:40,171 - INFO - allennlp.nn.initializers -    text_field_embedder.token_embedder_tokens.transformer_model.encoder.layer.10.attention.self.value.weight\n",
      "2023-04-12 15:29:40,171 - INFO - allennlp.nn.initializers -    text_field_embedder.token_embedder_tokens.transformer_model.encoder.layer.10.intermediate.dense.bias\n",
      "2023-04-12 15:29:40,172 - INFO - allennlp.nn.initializers -    text_field_embedder.token_embedder_tokens.transformer_model.encoder.layer.10.intermediate.dense.weight\n",
      "2023-04-12 15:29:40,173 - INFO - allennlp.nn.initializers -    text_field_embedder.token_embedder_tokens.transformer_model.encoder.layer.10.output.LayerNorm.bias\n",
      "2023-04-12 15:29:40,173 - INFO - allennlp.nn.initializers -    text_field_embedder.token_embedder_tokens.transformer_model.encoder.layer.10.output.LayerNorm.weight\n",
      "2023-04-12 15:29:40,174 - INFO - allennlp.nn.initializers -    text_field_embedder.token_embedder_tokens.transformer_model.encoder.layer.10.output.dense.bias\n",
      "2023-04-12 15:29:40,174 - INFO - allennlp.nn.initializers -    text_field_embedder.token_embedder_tokens.transformer_model.encoder.layer.10.output.dense.weight\n",
      "2023-04-12 15:29:40,175 - INFO - allennlp.nn.initializers -    text_field_embedder.token_embedder_tokens.transformer_model.encoder.layer.11.attention.output.LayerNorm.bias\n",
      "2023-04-12 15:29:40,175 - INFO - allennlp.nn.initializers -    text_field_embedder.token_embedder_tokens.transformer_model.encoder.layer.11.attention.output.LayerNorm.weight\n",
      "2023-04-12 15:29:40,176 - INFO - allennlp.nn.initializers -    text_field_embedder.token_embedder_tokens.transformer_model.encoder.layer.11.attention.output.dense.bias\n",
      "2023-04-12 15:29:40,177 - INFO - allennlp.nn.initializers -    text_field_embedder.token_embedder_tokens.transformer_model.encoder.layer.11.attention.output.dense.weight\n",
      "2023-04-12 15:29:40,177 - INFO - allennlp.nn.initializers -    text_field_embedder.token_embedder_tokens.transformer_model.encoder.layer.11.attention.self.key.bias\n",
      "2023-04-12 15:29:40,178 - INFO - allennlp.nn.initializers -    text_field_embedder.token_embedder_tokens.transformer_model.encoder.layer.11.attention.self.key.weight\n",
      "2023-04-12 15:29:40,178 - INFO - allennlp.nn.initializers -    text_field_embedder.token_embedder_tokens.transformer_model.encoder.layer.11.attention.self.query.bias\n",
      "2023-04-12 15:29:40,179 - INFO - allennlp.nn.initializers -    text_field_embedder.token_embedder_tokens.transformer_model.encoder.layer.11.attention.self.query.weight\n",
      "2023-04-12 15:29:40,179 - INFO - allennlp.nn.initializers -    text_field_embedder.token_embedder_tokens.transformer_model.encoder.layer.11.attention.self.value.bias\n",
      "2023-04-12 15:29:40,180 - INFO - allennlp.nn.initializers -    text_field_embedder.token_embedder_tokens.transformer_model.encoder.layer.11.attention.self.value.weight\n",
      "2023-04-12 15:29:40,180 - INFO - allennlp.nn.initializers -    text_field_embedder.token_embedder_tokens.transformer_model.encoder.layer.11.intermediate.dense.bias\n",
      "2023-04-12 15:29:40,181 - INFO - allennlp.nn.initializers -    text_field_embedder.token_embedder_tokens.transformer_model.encoder.layer.11.intermediate.dense.weight\n",
      "2023-04-12 15:29:40,181 - INFO - allennlp.nn.initializers -    text_field_embedder.token_embedder_tokens.transformer_model.encoder.layer.11.output.LayerNorm.bias\n",
      "2023-04-12 15:29:40,182 - INFO - allennlp.nn.initializers -    text_field_embedder.token_embedder_tokens.transformer_model.encoder.layer.11.output.LayerNorm.weight\n",
      "2023-04-12 15:29:40,182 - INFO - allennlp.nn.initializers -    text_field_embedder.token_embedder_tokens.transformer_model.encoder.layer.11.output.dense.bias\n",
      "2023-04-12 15:29:40,183 - INFO - allennlp.nn.initializers -    text_field_embedder.token_embedder_tokens.transformer_model.encoder.layer.11.output.dense.weight\n",
      "2023-04-12 15:29:40,183 - INFO - allennlp.nn.initializers -    text_field_embedder.token_embedder_tokens.transformer_model.encoder.layer.2.attention.output.LayerNorm.bias\n",
      "2023-04-12 15:29:40,184 - INFO - allennlp.nn.initializers -    text_field_embedder.token_embedder_tokens.transformer_model.encoder.layer.2.attention.output.LayerNorm.weight\n",
      "2023-04-12 15:29:40,184 - INFO - allennlp.nn.initializers -    text_field_embedder.token_embedder_tokens.transformer_model.encoder.layer.2.attention.output.dense.bias\n",
      "2023-04-12 15:29:40,185 - INFO - allennlp.nn.initializers -    text_field_embedder.token_embedder_tokens.transformer_model.encoder.layer.2.attention.output.dense.weight\n",
      "2023-04-12 15:29:40,185 - INFO - allennlp.nn.initializers -    text_field_embedder.token_embedder_tokens.transformer_model.encoder.layer.2.attention.self.key.bias\n",
      "2023-04-12 15:29:40,186 - INFO - allennlp.nn.initializers -    text_field_embedder.token_embedder_tokens.transformer_model.encoder.layer.2.attention.self.key.weight\n",
      "2023-04-12 15:29:40,186 - INFO - allennlp.nn.initializers -    text_field_embedder.token_embedder_tokens.transformer_model.encoder.layer.2.attention.self.query.bias\n",
      "2023-04-12 15:29:40,187 - INFO - allennlp.nn.initializers -    text_field_embedder.token_embedder_tokens.transformer_model.encoder.layer.2.attention.self.query.weight\n"
     ]
    },
    {
     "name": "stdout",
     "output_type": "stream",
     "text": [
      "2023-04-12 15:29:40,187 - INFO - allennlp.nn.initializers -    text_field_embedder.token_embedder_tokens.transformer_model.encoder.layer.2.attention.self.value.bias\n",
      "2023-04-12 15:29:40,188 - INFO - allennlp.nn.initializers -    text_field_embedder.token_embedder_tokens.transformer_model.encoder.layer.2.attention.self.value.weight\n",
      "2023-04-12 15:29:40,188 - INFO - allennlp.nn.initializers -    text_field_embedder.token_embedder_tokens.transformer_model.encoder.layer.2.intermediate.dense.bias\n",
      "2023-04-12 15:29:40,189 - INFO - allennlp.nn.initializers -    text_field_embedder.token_embedder_tokens.transformer_model.encoder.layer.2.intermediate.dense.weight\n",
      "2023-04-12 15:29:40,189 - INFO - allennlp.nn.initializers -    text_field_embedder.token_embedder_tokens.transformer_model.encoder.layer.2.output.LayerNorm.bias\n",
      "2023-04-12 15:29:40,190 - INFO - allennlp.nn.initializers -    text_field_embedder.token_embedder_tokens.transformer_model.encoder.layer.2.output.LayerNorm.weight\n",
      "2023-04-12 15:29:40,190 - INFO - allennlp.nn.initializers -    text_field_embedder.token_embedder_tokens.transformer_model.encoder.layer.2.output.dense.bias\n",
      "2023-04-12 15:29:40,191 - INFO - allennlp.nn.initializers -    text_field_embedder.token_embedder_tokens.transformer_model.encoder.layer.2.output.dense.weight\n",
      "2023-04-12 15:29:40,191 - INFO - allennlp.nn.initializers -    text_field_embedder.token_embedder_tokens.transformer_model.encoder.layer.3.attention.output.LayerNorm.bias\n",
      "2023-04-12 15:29:40,192 - INFO - allennlp.nn.initializers -    text_field_embedder.token_embedder_tokens.transformer_model.encoder.layer.3.attention.output.LayerNorm.weight\n",
      "2023-04-12 15:29:40,192 - INFO - allennlp.nn.initializers -    text_field_embedder.token_embedder_tokens.transformer_model.encoder.layer.3.attention.output.dense.bias\n",
      "2023-04-12 15:29:40,193 - INFO - allennlp.nn.initializers -    text_field_embedder.token_embedder_tokens.transformer_model.encoder.layer.3.attention.output.dense.weight\n",
      "2023-04-12 15:29:40,193 - INFO - allennlp.nn.initializers -    text_field_embedder.token_embedder_tokens.transformer_model.encoder.layer.3.attention.self.key.bias\n",
      "2023-04-12 15:29:40,194 - INFO - allennlp.nn.initializers -    text_field_embedder.token_embedder_tokens.transformer_model.encoder.layer.3.attention.self.key.weight\n",
      "2023-04-12 15:29:40,194 - INFO - allennlp.nn.initializers -    text_field_embedder.token_embedder_tokens.transformer_model.encoder.layer.3.attention.self.query.bias\n",
      "2023-04-12 15:29:40,195 - INFO - allennlp.nn.initializers -    text_field_embedder.token_embedder_tokens.transformer_model.encoder.layer.3.attention.self.query.weight\n",
      "2023-04-12 15:29:40,195 - INFO - allennlp.nn.initializers -    text_field_embedder.token_embedder_tokens.transformer_model.encoder.layer.3.attention.self.value.bias\n",
      "2023-04-12 15:29:40,196 - INFO - allennlp.nn.initializers -    text_field_embedder.token_embedder_tokens.transformer_model.encoder.layer.3.attention.self.value.weight\n",
      "2023-04-12 15:29:40,196 - INFO - allennlp.nn.initializers -    text_field_embedder.token_embedder_tokens.transformer_model.encoder.layer.3.intermediate.dense.bias\n",
      "2023-04-12 15:29:40,197 - INFO - allennlp.nn.initializers -    text_field_embedder.token_embedder_tokens.transformer_model.encoder.layer.3.intermediate.dense.weight\n",
      "2023-04-12 15:29:40,198 - INFO - allennlp.nn.initializers -    text_field_embedder.token_embedder_tokens.transformer_model.encoder.layer.3.output.LayerNorm.bias\n",
      "2023-04-12 15:29:40,198 - INFO - allennlp.nn.initializers -    text_field_embedder.token_embedder_tokens.transformer_model.encoder.layer.3.output.LayerNorm.weight\n",
      "2023-04-12 15:29:40,199 - INFO - allennlp.nn.initializers -    text_field_embedder.token_embedder_tokens.transformer_model.encoder.layer.3.output.dense.bias\n",
      "2023-04-12 15:29:40,199 - INFO - allennlp.nn.initializers -    text_field_embedder.token_embedder_tokens.transformer_model.encoder.layer.3.output.dense.weight\n",
      "2023-04-12 15:29:40,200 - INFO - allennlp.nn.initializers -    text_field_embedder.token_embedder_tokens.transformer_model.encoder.layer.4.attention.output.LayerNorm.bias\n",
      "2023-04-12 15:29:40,200 - INFO - allennlp.nn.initializers -    text_field_embedder.token_embedder_tokens.transformer_model.encoder.layer.4.attention.output.LayerNorm.weight\n",
      "2023-04-12 15:29:40,201 - INFO - allennlp.nn.initializers -    text_field_embedder.token_embedder_tokens.transformer_model.encoder.layer.4.attention.output.dense.bias\n",
      "2023-04-12 15:29:40,201 - INFO - allennlp.nn.initializers -    text_field_embedder.token_embedder_tokens.transformer_model.encoder.layer.4.attention.output.dense.weight\n",
      "2023-04-12 15:29:40,202 - INFO - allennlp.nn.initializers -    text_field_embedder.token_embedder_tokens.transformer_model.encoder.layer.4.attention.self.key.bias\n",
      "2023-04-12 15:29:40,202 - INFO - allennlp.nn.initializers -    text_field_embedder.token_embedder_tokens.transformer_model.encoder.layer.4.attention.self.key.weight\n",
      "2023-04-12 15:29:40,203 - INFO - allennlp.nn.initializers -    text_field_embedder.token_embedder_tokens.transformer_model.encoder.layer.4.attention.self.query.bias\n",
      "2023-04-12 15:29:40,203 - INFO - allennlp.nn.initializers -    text_field_embedder.token_embedder_tokens.transformer_model.encoder.layer.4.attention.self.query.weight\n",
      "2023-04-12 15:29:40,204 - INFO - allennlp.nn.initializers -    text_field_embedder.token_embedder_tokens.transformer_model.encoder.layer.4.attention.self.value.bias\n",
      "2023-04-12 15:29:40,204 - INFO - allennlp.nn.initializers -    text_field_embedder.token_embedder_tokens.transformer_model.encoder.layer.4.attention.self.value.weight\n",
      "2023-04-12 15:29:40,205 - INFO - allennlp.nn.initializers -    text_field_embedder.token_embedder_tokens.transformer_model.encoder.layer.4.intermediate.dense.bias\n",
      "2023-04-12 15:29:40,205 - INFO - allennlp.nn.initializers -    text_field_embedder.token_embedder_tokens.transformer_model.encoder.layer.4.intermediate.dense.weight\n",
      "2023-04-12 15:29:40,206 - INFO - allennlp.nn.initializers -    text_field_embedder.token_embedder_tokens.transformer_model.encoder.layer.4.output.LayerNorm.bias\n",
      "2023-04-12 15:29:40,206 - INFO - allennlp.nn.initializers -    text_field_embedder.token_embedder_tokens.transformer_model.encoder.layer.4.output.LayerNorm.weight\n",
      "2023-04-12 15:29:40,207 - INFO - allennlp.nn.initializers -    text_field_embedder.token_embedder_tokens.transformer_model.encoder.layer.4.output.dense.bias\n",
      "2023-04-12 15:29:40,207 - INFO - allennlp.nn.initializers -    text_field_embedder.token_embedder_tokens.transformer_model.encoder.layer.4.output.dense.weight\n",
      "2023-04-12 15:29:40,208 - INFO - allennlp.nn.initializers -    text_field_embedder.token_embedder_tokens.transformer_model.encoder.layer.5.attention.output.LayerNorm.bias\n",
      "2023-04-12 15:29:40,208 - INFO - allennlp.nn.initializers -    text_field_embedder.token_embedder_tokens.transformer_model.encoder.layer.5.attention.output.LayerNorm.weight\n",
      "2023-04-12 15:29:40,209 - INFO - allennlp.nn.initializers -    text_field_embedder.token_embedder_tokens.transformer_model.encoder.layer.5.attention.output.dense.bias\n",
      "2023-04-12 15:29:40,209 - INFO - allennlp.nn.initializers -    text_field_embedder.token_embedder_tokens.transformer_model.encoder.layer.5.attention.output.dense.weight\n",
      "2023-04-12 15:29:40,210 - INFO - allennlp.nn.initializers -    text_field_embedder.token_embedder_tokens.transformer_model.encoder.layer.5.attention.self.key.bias\n",
      "2023-04-12 15:29:40,210 - INFO - allennlp.nn.initializers -    text_field_embedder.token_embedder_tokens.transformer_model.encoder.layer.5.attention.self.key.weight\n",
      "2023-04-12 15:29:40,211 - INFO - allennlp.nn.initializers -    text_field_embedder.token_embedder_tokens.transformer_model.encoder.layer.5.attention.self.query.bias\n",
      "2023-04-12 15:29:40,212 - INFO - allennlp.nn.initializers -    text_field_embedder.token_embedder_tokens.transformer_model.encoder.layer.5.attention.self.query.weight\n",
      "2023-04-12 15:29:40,212 - INFO - allennlp.nn.initializers -    text_field_embedder.token_embedder_tokens.transformer_model.encoder.layer.5.attention.self.value.bias\n",
      "2023-04-12 15:29:40,213 - INFO - allennlp.nn.initializers -    text_field_embedder.token_embedder_tokens.transformer_model.encoder.layer.5.attention.self.value.weight\n"
     ]
    },
    {
     "name": "stdout",
     "output_type": "stream",
     "text": [
      "2023-04-12 15:29:40,213 - INFO - allennlp.nn.initializers -    text_field_embedder.token_embedder_tokens.transformer_model.encoder.layer.5.intermediate.dense.bias\n",
      "2023-04-12 15:29:40,213 - INFO - allennlp.nn.initializers -    text_field_embedder.token_embedder_tokens.transformer_model.encoder.layer.5.intermediate.dense.weight\n",
      "2023-04-12 15:29:40,214 - INFO - allennlp.nn.initializers -    text_field_embedder.token_embedder_tokens.transformer_model.encoder.layer.5.output.LayerNorm.bias\n",
      "2023-04-12 15:29:40,215 - INFO - allennlp.nn.initializers -    text_field_embedder.token_embedder_tokens.transformer_model.encoder.layer.5.output.LayerNorm.weight\n",
      "2023-04-12 15:29:40,215 - INFO - allennlp.nn.initializers -    text_field_embedder.token_embedder_tokens.transformer_model.encoder.layer.5.output.dense.bias\n",
      "2023-04-12 15:29:40,216 - INFO - allennlp.nn.initializers -    text_field_embedder.token_embedder_tokens.transformer_model.encoder.layer.5.output.dense.weight\n",
      "2023-04-12 15:29:40,216 - INFO - allennlp.nn.initializers -    text_field_embedder.token_embedder_tokens.transformer_model.encoder.layer.6.attention.output.LayerNorm.bias\n",
      "2023-04-12 15:29:40,217 - INFO - allennlp.nn.initializers -    text_field_embedder.token_embedder_tokens.transformer_model.encoder.layer.6.attention.output.LayerNorm.weight\n",
      "2023-04-12 15:29:40,217 - INFO - allennlp.nn.initializers -    text_field_embedder.token_embedder_tokens.transformer_model.encoder.layer.6.attention.output.dense.bias\n",
      "2023-04-12 15:29:40,218 - INFO - allennlp.nn.initializers -    text_field_embedder.token_embedder_tokens.transformer_model.encoder.layer.6.attention.output.dense.weight\n",
      "2023-04-12 15:29:40,218 - INFO - allennlp.nn.initializers -    text_field_embedder.token_embedder_tokens.transformer_model.encoder.layer.6.attention.self.key.bias\n",
      "2023-04-12 15:29:40,219 - INFO - allennlp.nn.initializers -    text_field_embedder.token_embedder_tokens.transformer_model.encoder.layer.6.attention.self.key.weight\n",
      "2023-04-12 15:29:40,219 - INFO - allennlp.nn.initializers -    text_field_embedder.token_embedder_tokens.transformer_model.encoder.layer.6.attention.self.query.bias\n",
      "2023-04-12 15:29:40,220 - INFO - allennlp.nn.initializers -    text_field_embedder.token_embedder_tokens.transformer_model.encoder.layer.6.attention.self.query.weight\n",
      "2023-04-12 15:29:40,220 - INFO - allennlp.nn.initializers -    text_field_embedder.token_embedder_tokens.transformer_model.encoder.layer.6.attention.self.value.bias\n",
      "2023-04-12 15:29:40,221 - INFO - allennlp.nn.initializers -    text_field_embedder.token_embedder_tokens.transformer_model.encoder.layer.6.attention.self.value.weight\n",
      "2023-04-12 15:29:40,222 - INFO - allennlp.nn.initializers -    text_field_embedder.token_embedder_tokens.transformer_model.encoder.layer.6.intermediate.dense.bias\n",
      "2023-04-12 15:29:40,222 - INFO - allennlp.nn.initializers -    text_field_embedder.token_embedder_tokens.transformer_model.encoder.layer.6.intermediate.dense.weight\n",
      "2023-04-12 15:29:40,223 - INFO - allennlp.nn.initializers -    text_field_embedder.token_embedder_tokens.transformer_model.encoder.layer.6.output.LayerNorm.bias\n",
      "2023-04-12 15:29:40,223 - INFO - allennlp.nn.initializers -    text_field_embedder.token_embedder_tokens.transformer_model.encoder.layer.6.output.LayerNorm.weight\n",
      "2023-04-12 15:29:40,224 - INFO - allennlp.nn.initializers -    text_field_embedder.token_embedder_tokens.transformer_model.encoder.layer.6.output.dense.bias\n",
      "2023-04-12 15:29:40,224 - INFO - allennlp.nn.initializers -    text_field_embedder.token_embedder_tokens.transformer_model.encoder.layer.6.output.dense.weight\n",
      "2023-04-12 15:29:40,225 - INFO - allennlp.nn.initializers -    text_field_embedder.token_embedder_tokens.transformer_model.encoder.layer.7.attention.output.LayerNorm.bias\n",
      "2023-04-12 15:29:40,225 - INFO - allennlp.nn.initializers -    text_field_embedder.token_embedder_tokens.transformer_model.encoder.layer.7.attention.output.LayerNorm.weight\n",
      "2023-04-12 15:29:40,226 - INFO - allennlp.nn.initializers -    text_field_embedder.token_embedder_tokens.transformer_model.encoder.layer.7.attention.output.dense.bias\n",
      "2023-04-12 15:29:40,226 - INFO - allennlp.nn.initializers -    text_field_embedder.token_embedder_tokens.transformer_model.encoder.layer.7.attention.output.dense.weight\n",
      "2023-04-12 15:29:40,227 - INFO - allennlp.nn.initializers -    text_field_embedder.token_embedder_tokens.transformer_model.encoder.layer.7.attention.self.key.bias\n",
      "2023-04-12 15:29:40,227 - INFO - allennlp.nn.initializers -    text_field_embedder.token_embedder_tokens.transformer_model.encoder.layer.7.attention.self.key.weight\n",
      "2023-04-12 15:29:40,228 - INFO - allennlp.nn.initializers -    text_field_embedder.token_embedder_tokens.transformer_model.encoder.layer.7.attention.self.query.bias\n",
      "2023-04-12 15:29:40,228 - INFO - allennlp.nn.initializers -    text_field_embedder.token_embedder_tokens.transformer_model.encoder.layer.7.attention.self.query.weight\n",
      "2023-04-12 15:29:40,229 - INFO - allennlp.nn.initializers -    text_field_embedder.token_embedder_tokens.transformer_model.encoder.layer.7.attention.self.value.bias\n",
      "2023-04-12 15:29:40,229 - INFO - allennlp.nn.initializers -    text_field_embedder.token_embedder_tokens.transformer_model.encoder.layer.7.attention.self.value.weight\n",
      "2023-04-12 15:29:40,230 - INFO - allennlp.nn.initializers -    text_field_embedder.token_embedder_tokens.transformer_model.encoder.layer.7.intermediate.dense.bias\n",
      "2023-04-12 15:29:40,230 - INFO - allennlp.nn.initializers -    text_field_embedder.token_embedder_tokens.transformer_model.encoder.layer.7.intermediate.dense.weight\n",
      "2023-04-12 15:29:40,231 - INFO - allennlp.nn.initializers -    text_field_embedder.token_embedder_tokens.transformer_model.encoder.layer.7.output.LayerNorm.bias\n",
      "2023-04-12 15:29:40,231 - INFO - allennlp.nn.initializers -    text_field_embedder.token_embedder_tokens.transformer_model.encoder.layer.7.output.LayerNorm.weight\n",
      "2023-04-12 15:29:40,232 - INFO - allennlp.nn.initializers -    text_field_embedder.token_embedder_tokens.transformer_model.encoder.layer.7.output.dense.bias\n",
      "2023-04-12 15:29:40,232 - INFO - allennlp.nn.initializers -    text_field_embedder.token_embedder_tokens.transformer_model.encoder.layer.7.output.dense.weight\n",
      "2023-04-12 15:29:40,233 - INFO - allennlp.nn.initializers -    text_field_embedder.token_embedder_tokens.transformer_model.encoder.layer.8.attention.output.LayerNorm.bias\n",
      "2023-04-12 15:29:40,233 - INFO - allennlp.nn.initializers -    text_field_embedder.token_embedder_tokens.transformer_model.encoder.layer.8.attention.output.LayerNorm.weight\n",
      "2023-04-12 15:29:40,234 - INFO - allennlp.nn.initializers -    text_field_embedder.token_embedder_tokens.transformer_model.encoder.layer.8.attention.output.dense.bias\n",
      "2023-04-12 15:29:40,234 - INFO - allennlp.nn.initializers -    text_field_embedder.token_embedder_tokens.transformer_model.encoder.layer.8.attention.output.dense.weight\n",
      "2023-04-12 15:29:40,235 - INFO - allennlp.nn.initializers -    text_field_embedder.token_embedder_tokens.transformer_model.encoder.layer.8.attention.self.key.bias\n",
      "2023-04-12 15:29:40,235 - INFO - allennlp.nn.initializers -    text_field_embedder.token_embedder_tokens.transformer_model.encoder.layer.8.attention.self.key.weight\n",
      "2023-04-12 15:29:40,236 - INFO - allennlp.nn.initializers -    text_field_embedder.token_embedder_tokens.transformer_model.encoder.layer.8.attention.self.query.bias\n",
      "2023-04-12 15:29:40,236 - INFO - allennlp.nn.initializers -    text_field_embedder.token_embedder_tokens.transformer_model.encoder.layer.8.attention.self.query.weight\n",
      "2023-04-12 15:29:40,237 - INFO - allennlp.nn.initializers -    text_field_embedder.token_embedder_tokens.transformer_model.encoder.layer.8.attention.self.value.bias\n",
      "2023-04-12 15:29:40,237 - INFO - allennlp.nn.initializers -    text_field_embedder.token_embedder_tokens.transformer_model.encoder.layer.8.attention.self.value.weight\n",
      "2023-04-12 15:29:40,238 - INFO - allennlp.nn.initializers -    text_field_embedder.token_embedder_tokens.transformer_model.encoder.layer.8.intermediate.dense.bias\n",
      "2023-04-12 15:29:40,238 - INFO - allennlp.nn.initializers -    text_field_embedder.token_embedder_tokens.transformer_model.encoder.layer.8.intermediate.dense.weight\n"
     ]
    },
    {
     "name": "stdout",
     "output_type": "stream",
     "text": [
      "2023-04-12 15:29:40,239 - INFO - allennlp.nn.initializers -    text_field_embedder.token_embedder_tokens.transformer_model.encoder.layer.8.output.LayerNorm.bias\n",
      "2023-04-12 15:29:40,239 - INFO - allennlp.nn.initializers -    text_field_embedder.token_embedder_tokens.transformer_model.encoder.layer.8.output.LayerNorm.weight\n",
      "2023-04-12 15:29:40,240 - INFO - allennlp.nn.initializers -    text_field_embedder.token_embedder_tokens.transformer_model.encoder.layer.8.output.dense.bias\n",
      "2023-04-12 15:29:40,240 - INFO - allennlp.nn.initializers -    text_field_embedder.token_embedder_tokens.transformer_model.encoder.layer.8.output.dense.weight\n",
      "2023-04-12 15:29:40,241 - INFO - allennlp.nn.initializers -    text_field_embedder.token_embedder_tokens.transformer_model.encoder.layer.9.attention.output.LayerNorm.bias\n",
      "2023-04-12 15:29:40,241 - INFO - allennlp.nn.initializers -    text_field_embedder.token_embedder_tokens.transformer_model.encoder.layer.9.attention.output.LayerNorm.weight\n",
      "2023-04-12 15:29:40,242 - INFO - allennlp.nn.initializers -    text_field_embedder.token_embedder_tokens.transformer_model.encoder.layer.9.attention.output.dense.bias\n",
      "2023-04-12 15:29:40,242 - INFO - allennlp.nn.initializers -    text_field_embedder.token_embedder_tokens.transformer_model.encoder.layer.9.attention.output.dense.weight\n",
      "2023-04-12 15:29:40,243 - INFO - allennlp.nn.initializers -    text_field_embedder.token_embedder_tokens.transformer_model.encoder.layer.9.attention.self.key.bias\n",
      "2023-04-12 15:29:40,243 - INFO - allennlp.nn.initializers -    text_field_embedder.token_embedder_tokens.transformer_model.encoder.layer.9.attention.self.key.weight\n",
      "2023-04-12 15:29:40,244 - INFO - allennlp.nn.initializers -    text_field_embedder.token_embedder_tokens.transformer_model.encoder.layer.9.attention.self.query.bias\n",
      "2023-04-12 15:29:40,244 - INFO - allennlp.nn.initializers -    text_field_embedder.token_embedder_tokens.transformer_model.encoder.layer.9.attention.self.query.weight\n",
      "2023-04-12 15:29:40,245 - INFO - allennlp.nn.initializers -    text_field_embedder.token_embedder_tokens.transformer_model.encoder.layer.9.attention.self.value.bias\n",
      "2023-04-12 15:29:40,245 - INFO - allennlp.nn.initializers -    text_field_embedder.token_embedder_tokens.transformer_model.encoder.layer.9.attention.self.value.weight\n",
      "2023-04-12 15:29:40,246 - INFO - allennlp.nn.initializers -    text_field_embedder.token_embedder_tokens.transformer_model.encoder.layer.9.intermediate.dense.bias\n",
      "2023-04-12 15:29:40,246 - INFO - allennlp.nn.initializers -    text_field_embedder.token_embedder_tokens.transformer_model.encoder.layer.9.intermediate.dense.weight\n",
      "2023-04-12 15:29:40,247 - INFO - allennlp.nn.initializers -    text_field_embedder.token_embedder_tokens.transformer_model.encoder.layer.9.output.LayerNorm.bias\n",
      "2023-04-12 15:29:40,247 - INFO - allennlp.nn.initializers -    text_field_embedder.token_embedder_tokens.transformer_model.encoder.layer.9.output.LayerNorm.weight\n",
      "2023-04-12 15:29:40,248 - INFO - allennlp.nn.initializers -    text_field_embedder.token_embedder_tokens.transformer_model.encoder.layer.9.output.dense.bias\n",
      "2023-04-12 15:29:40,248 - INFO - allennlp.nn.initializers -    text_field_embedder.token_embedder_tokens.transformer_model.encoder.layer.9.output.dense.weight\n",
      "2023-04-12 15:29:40,249 - INFO - allennlp.nn.initializers -    text_field_embedder.token_embedder_tokens.transformer_model.pooler.dense.bias\n",
      "2023-04-12 15:29:40,249 - INFO - allennlp.nn.initializers -    text_field_embedder.token_embedder_tokens.transformer_model.pooler.dense.weight\n",
      "2023-04-12 15:29:40,608 - INFO - allennlp.models.archival - removing temporary unarchived model dir at /var/folders/lp/l_mzhpjs6bg95plfkl_n_vsc0000gn/T/tmpenu7bvc2\n"
     ]
    }
   ],
   "source": [
    "# trains a model if needed, otherwise loads from archive; \n",
    "# - best F1 on dev/validation in the paper is 80,96 trained on a GPU, CPU will be a bit lower ~77.x I think\n",
    "sp = spar_predictor.SparPredictor()"
   ]
  },
  {
   "cell_type": "code",
   "execution_count": 16,
   "id": "a0206ea8",
   "metadata": {},
   "outputs": [
    {
     "name": "stdout",
     "output_type": "stream",
     "text": [
      "Example input: An example sentence to show how ACC terminology will be extracted from the British Standards.\n",
      "{'obj': ['An', 'sentence', 'ACC terminology', 'the British Standards']}\n",
      "Parsing took 0.10483098030090332\n"
     ]
    }
   ],
   "source": [
    "# example \n",
    "example = \"An example sentence to show how ACC terminology will be extracted from the British Standards.\"\n",
    "start_time = time.time()\n",
    "# prepare instance and run model on single instance\n",
    "docid = ''                  # ToDo - add doc_id during pre_processing?\n",
    "token_list = sp.predictor._dataset_reader.tokenizer.tokenize(example)\n",
    "instance = sp.predictor._dataset_reader.text_to_instance(docid,\n",
    "                                                      example,\n",
    "                                                      token_list,\n",
    "                                                      sp.predictor._dataset_reader._token_indexer)\n",
    "result = sp.predictor.predict_instance(instance)\n",
    "printable_result = sp.parse_output(result, ['obj'])\n",
    "print(f\"Example input: {example}\")\n",
    "print(printable_result)\n",
    "print(\"Parsing took {}\".format(time.time() - start_time))"
   ]
  },
  {
   "cell_type": "markdown",
   "id": "faaf4fe0",
   "metadata": {},
   "source": [
    "* To run SPaR.txt, we split the text in our corpora into sentences. We set up multiple instances of SPaR.txt predictors to speed up the processing a little."
   ]
  },
  {
   "cell_type": "code",
   "execution_count": 17,
   "id": "bc415227",
   "metadata": {},
   "outputs": [],
   "source": [
    "from utils import spar_utils"
   ]
  },
  {
   "cell_type": "code",
   "execution_count": 18,
   "id": "c5f7c27f",
   "metadata": {},
   "outputs": [
    {
     "name": "stdout",
     "output_type": "stream",
     "text": [
      "2023-04-12 15:29:40,772 - INFO - allennlp.models.archival - loading archive file /Users/rubenkruiper/dev/irec/SPaR.txt/trained_models/debugger_train/model.tar.gz from cache at /Users/rubenkruiper/dev/irec/SPaR.txt/trained_models/debugger_train/model.tar.gz\n",
      "2023-04-12 15:29:40,773 - INFO - allennlp.models.archival - extracting archive file /Users/rubenkruiper/dev/irec/SPaR.txt/trained_models/debugger_train/model.tar.gz to temp dir /var/folders/lp/l_mzhpjs6bg95plfkl_n_vsc0000gn/T/tmpl1w_62nl\n",
      "2023-04-12 15:29:43,348 - INFO - allennlp.common.params - dataset_reader.type = tag_reader\n",
      "2023-04-12 15:29:43,348 - INFO - allennlp.common.params - dataset_reader.max_instances = None\n",
      "2023-04-12 15:29:43,349 - INFO - allennlp.common.params - dataset_reader.manual_distributed_sharding = False\n",
      "2023-04-12 15:29:43,350 - INFO - allennlp.common.params - dataset_reader.manual_multiprocess_sharding = False\n",
      "2023-04-12 15:29:43,350 - INFO - allennlp.common.params - dataset_reader.bert_model_name = bert-base-cased\n",
      "2023-04-12 15:29:43,352 - INFO - allennlp.common.params - dataset_reader.token_indexers.tokens.type = pretrained_transformer\n",
      "2023-04-12 15:29:43,353 - INFO - allennlp.common.params - dataset_reader.token_indexers.tokens.token_min_padding_length = 0\n",
      "2023-04-12 15:29:43,353 - INFO - allennlp.common.params - dataset_reader.token_indexers.tokens.model_name = bert-base-cased\n",
      "2023-04-12 15:29:43,354 - INFO - allennlp.common.params - dataset_reader.token_indexers.tokens.namespace = tags\n",
      "2023-04-12 15:29:43,355 - INFO - allennlp.common.params - dataset_reader.token_indexers.tokens.max_length = 512\n",
      "2023-04-12 15:29:43,356 - INFO - allennlp.common.params - dataset_reader.token_indexers.tokens.tokenizer_kwargs.use_fast = False\n",
      "2023-04-12 15:29:43,358 - INFO - allennlp.common.params - dataset_reader.type = tag_reader\n",
      "2023-04-12 15:29:43,359 - INFO - allennlp.common.params - dataset_reader.max_instances = None\n",
      "2023-04-12 15:29:43,359 - INFO - allennlp.common.params - dataset_reader.manual_distributed_sharding = False\n",
      "2023-04-12 15:29:43,360 - INFO - allennlp.common.params - dataset_reader.manual_multiprocess_sharding = False\n",
      "2023-04-12 15:29:43,360 - INFO - allennlp.common.params - dataset_reader.bert_model_name = bert-base-cased\n",
      "2023-04-12 15:29:43,361 - INFO - allennlp.common.params - dataset_reader.token_indexers.tokens.type = pretrained_transformer\n",
      "2023-04-12 15:29:43,362 - INFO - allennlp.common.params - dataset_reader.token_indexers.tokens.token_min_padding_length = 0\n",
      "2023-04-12 15:29:43,362 - INFO - allennlp.common.params - dataset_reader.token_indexers.tokens.model_name = bert-base-cased\n",
      "2023-04-12 15:29:43,363 - INFO - allennlp.common.params - dataset_reader.token_indexers.tokens.namespace = tags\n",
      "2023-04-12 15:29:43,363 - INFO - allennlp.common.params - dataset_reader.token_indexers.tokens.max_length = 512\n",
      "2023-04-12 15:29:43,364 - INFO - allennlp.common.params - dataset_reader.token_indexers.tokens.tokenizer_kwargs.use_fast = False\n",
      "2023-04-12 15:29:43,366 - INFO - allennlp.common.params - type = from_instances\n",
      "2023-04-12 15:29:43,366 - INFO - allennlp.data.vocabulary - Loading token dictionary from /var/folders/lp/l_mzhpjs6bg95plfkl_n_vsc0000gn/T/tmpl1w_62nl/vocabulary.\n",
      "2023-04-12 15:29:43,367 - INFO - filelock - Lock 140614564719872 acquired on /var/folders/lp/l_mzhpjs6bg95plfkl_n_vsc0000gn/T/tmpl1w_62nl/vocabulary/.lock\n",
      "2023-04-12 15:29:43,369 - INFO - filelock - Lock 140614564719872 released on /var/folders/lp/l_mzhpjs6bg95plfkl_n_vsc0000gn/T/tmpl1w_62nl/vocabulary/.lock\n",
      "2023-04-12 15:29:43,369 - INFO - allennlp.common.params - model.type = attention_tagger\n",
      "2023-04-12 15:29:43,370 - INFO - allennlp.common.params - model.regularizer = None\n",
      "2023-04-12 15:29:43,371 - INFO - allennlp.common.params - model.text_field_embedder.type = basic\n",
      "2023-04-12 15:29:43,371 - INFO - allennlp.common.params - model.text_field_embedder.token_embedders.tokens.type = pretrained_transformer\n",
      "2023-04-12 15:29:43,372 - INFO - allennlp.common.params - model.text_field_embedder.token_embedders.tokens.model_name = bert-base-cased\n",
      "2023-04-12 15:29:43,373 - INFO - allennlp.common.params - model.text_field_embedder.token_embedders.tokens.max_length = 512\n",
      "2023-04-12 15:29:43,373 - INFO - allennlp.common.params - model.text_field_embedder.token_embedders.tokens.sub_module = None\n",
      "2023-04-12 15:29:43,374 - INFO - allennlp.common.params - model.text_field_embedder.token_embedders.tokens.train_parameters = False\n",
      "2023-04-12 15:29:43,375 - INFO - allennlp.common.params - model.text_field_embedder.token_embedders.tokens.eval_mode = False\n",
      "2023-04-12 15:29:43,375 - INFO - allennlp.common.params - model.text_field_embedder.token_embedders.tokens.last_layer_only = True\n",
      "2023-04-12 15:29:43,376 - INFO - allennlp.common.params - model.text_field_embedder.token_embedders.tokens.override_weights_file = None\n",
      "2023-04-12 15:29:43,376 - INFO - allennlp.common.params - model.text_field_embedder.token_embedders.tokens.override_weights_strip_prefix = None\n",
      "2023-04-12 15:29:43,377 - INFO - allennlp.common.params - model.text_field_embedder.token_embedders.tokens.load_weights = True\n",
      "2023-04-12 15:29:43,377 - INFO - allennlp.common.params - model.text_field_embedder.token_embedders.tokens.gradient_checkpointing = None\n",
      "2023-04-12 15:29:43,378 - INFO - allennlp.common.params - model.text_field_embedder.token_embedders.tokens.tokenizer_kwargs.use_fast = False\n",
      "2023-04-12 15:29:43,379 - INFO - allennlp.common.params - model.text_field_embedder.token_embedders.tokens.transformer_kwargs = None\n",
      "2023-04-12 15:29:43,516 - INFO - allennlp.common.params - model.encoder.type = lstm\n",
      "2023-04-12 15:29:43,517 - INFO - allennlp.common.params - model.encoder.input_size = 768\n",
      "2023-04-12 15:29:43,518 - INFO - allennlp.common.params - model.encoder.hidden_size = 384\n",
      "2023-04-12 15:29:43,518 - INFO - allennlp.common.params - model.encoder.num_layers = 1\n",
      "2023-04-12 15:29:43,519 - INFO - allennlp.common.params - model.encoder.bias = True\n",
      "2023-04-12 15:29:43,520 - INFO - allennlp.common.params - model.encoder.dropout = 0.0\n",
      "2023-04-12 15:29:43,520 - INFO - allennlp.common.params - model.encoder.bidirectional = True\n",
      "2023-04-12 15:29:43,521 - INFO - allennlp.common.params - model.encoder.stateful = False\n",
      "2023-04-12 15:29:43,540 - INFO - allennlp.common.params - model.label_namespace = labels\n",
      "2023-04-12 15:29:43,541 - INFO - allennlp.common.params - model.feedforward.input_dim = 1536\n",
      "2023-04-12 15:29:43,541 - INFO - allennlp.common.params - model.feedforward.num_layers = 1\n",
      "2023-04-12 15:29:43,542 - INFO - allennlp.common.params - model.feedforward.hidden_dims = 60\n",
      "2023-04-12 15:29:43,543 - INFO - allennlp.common.params - model.feedforward.activations = relu\n",
      "2023-04-12 15:29:43,543 - INFO - allennlp.common.params - type = relu\n",
      "2023-04-12 15:29:43,544 - INFO - allennlp.common.params - model.feedforward.dropout = 0.05\n",
      "2023-04-12 15:29:43,546 - INFO - allennlp.common.params - model.label_encoding = DiscontiguousTest\n",
      "2023-04-12 15:29:43,547 - INFO - allennlp.common.params - model.include_start_end_transitions = False\n",
      "2023-04-12 15:29:43,547 - INFO - allennlp.common.params - model.constrain_crf_decoding = None\n",
      "2023-04-12 15:29:43,548 - INFO - allennlp.common.params - model.calculate_span_f1 = None\n",
      "2023-04-12 15:29:43,549 - INFO - allennlp.common.params - model.dropout = 0.05\n",
      "2023-04-12 15:29:43,549 - INFO - allennlp.common.params - model.verbose_metrics = False\n",
      "2023-04-12 15:29:43,550 - INFO - allennlp.common.params - model.initializer = <allennlp.nn.initializers.InitializerApplicator object at 0x7fe3bbdf5f10>\n",
      "2023-04-12 15:29:43,551 - INFO - allennlp.common.params - model.top_k = 1\n",
      "2023-04-12 15:29:43,551 - INFO - allennlp.common.params - model.ignore_loss_on_o_tags = False\n",
      "2023-04-12 15:29:43,566 - INFO - allennlp.nn.initializers - Initializing parameters\n",
      "2023-04-12 15:29:43,567 - INFO - allennlp.nn.initializers - Done initializing parameters; the following parameters are using their default initialization from their code\n",
      "2023-04-12 15:29:43,568 - INFO - allennlp.nn.initializers -    _attention.Er\n",
      "2023-04-12 15:29:43,568 - INFO - allennlp.nn.initializers -    _attention.key.bias\n",
      "2023-04-12 15:29:43,569 - INFO - allennlp.nn.initializers -    _attention.key.weight\n"
     ]
    },
    {
     "name": "stdout",
     "output_type": "stream",
     "text": [
      "2023-04-12 15:29:43,570 - INFO - allennlp.nn.initializers -    _attention.query.bias\n",
      "2023-04-12 15:29:43,570 - INFO - allennlp.nn.initializers -    _attention.query.weight\n",
      "2023-04-12 15:29:43,571 - INFO - allennlp.nn.initializers -    _attention.value.bias\n",
      "2023-04-12 15:29:43,572 - INFO - allennlp.nn.initializers -    _attention.value.weight\n",
      "2023-04-12 15:29:43,572 - INFO - allennlp.nn.initializers -    _feedforward._linear_layers.0.bias\n",
      "2023-04-12 15:29:43,573 - INFO - allennlp.nn.initializers -    _feedforward._linear_layers.0.weight\n",
      "2023-04-12 15:29:43,573 - INFO - allennlp.nn.initializers -    crf._constraint_mask\n",
      "2023-04-12 15:29:43,574 - INFO - allennlp.nn.initializers -    crf.transitions\n",
      "2023-04-12 15:29:43,574 - INFO - allennlp.nn.initializers -    encoder._module.bias_hh_l0\n",
      "2023-04-12 15:29:43,575 - INFO - allennlp.nn.initializers -    encoder._module.bias_hh_l0_reverse\n",
      "2023-04-12 15:29:43,575 - INFO - allennlp.nn.initializers -    encoder._module.bias_ih_l0\n",
      "2023-04-12 15:29:43,576 - INFO - allennlp.nn.initializers -    encoder._module.bias_ih_l0_reverse\n",
      "2023-04-12 15:29:43,576 - INFO - allennlp.nn.initializers -    encoder._module.weight_hh_l0\n",
      "2023-04-12 15:29:43,577 - INFO - allennlp.nn.initializers -    encoder._module.weight_hh_l0_reverse\n",
      "2023-04-12 15:29:43,577 - INFO - allennlp.nn.initializers -    encoder._module.weight_ih_l0\n",
      "2023-04-12 15:29:43,578 - INFO - allennlp.nn.initializers -    encoder._module.weight_ih_l0_reverse\n",
      "2023-04-12 15:29:43,578 - INFO - allennlp.nn.initializers -    tag_projection_layer._module.bias\n",
      "2023-04-12 15:29:43,579 - INFO - allennlp.nn.initializers -    tag_projection_layer._module.weight\n",
      "2023-04-12 15:29:43,579 - INFO - allennlp.nn.initializers -    text_field_embedder.token_embedder_tokens.transformer_model.embeddings.LayerNorm.bias\n",
      "2023-04-12 15:29:43,580 - INFO - allennlp.nn.initializers -    text_field_embedder.token_embedder_tokens.transformer_model.embeddings.LayerNorm.weight\n",
      "2023-04-12 15:29:43,580 - INFO - allennlp.nn.initializers -    text_field_embedder.token_embedder_tokens.transformer_model.embeddings.position_embeddings.weight\n",
      "2023-04-12 15:29:43,581 - INFO - allennlp.nn.initializers -    text_field_embedder.token_embedder_tokens.transformer_model.embeddings.token_type_embeddings.weight\n",
      "2023-04-12 15:29:43,581 - INFO - allennlp.nn.initializers -    text_field_embedder.token_embedder_tokens.transformer_model.embeddings.word_embeddings.weight\n",
      "2023-04-12 15:29:43,582 - INFO - allennlp.nn.initializers -    text_field_embedder.token_embedder_tokens.transformer_model.encoder.layer.0.attention.output.LayerNorm.bias\n",
      "2023-04-12 15:29:43,582 - INFO - allennlp.nn.initializers -    text_field_embedder.token_embedder_tokens.transformer_model.encoder.layer.0.attention.output.LayerNorm.weight\n",
      "2023-04-12 15:29:43,583 - INFO - allennlp.nn.initializers -    text_field_embedder.token_embedder_tokens.transformer_model.encoder.layer.0.attention.output.dense.bias\n",
      "2023-04-12 15:29:43,583 - INFO - allennlp.nn.initializers -    text_field_embedder.token_embedder_tokens.transformer_model.encoder.layer.0.attention.output.dense.weight\n",
      "2023-04-12 15:29:43,584 - INFO - allennlp.nn.initializers -    text_field_embedder.token_embedder_tokens.transformer_model.encoder.layer.0.attention.self.key.bias\n",
      "2023-04-12 15:29:43,584 - INFO - allennlp.nn.initializers -    text_field_embedder.token_embedder_tokens.transformer_model.encoder.layer.0.attention.self.key.weight\n",
      "2023-04-12 15:29:43,585 - INFO - allennlp.nn.initializers -    text_field_embedder.token_embedder_tokens.transformer_model.encoder.layer.0.attention.self.query.bias\n",
      "2023-04-12 15:29:43,586 - INFO - allennlp.nn.initializers -    text_field_embedder.token_embedder_tokens.transformer_model.encoder.layer.0.attention.self.query.weight\n",
      "2023-04-12 15:29:43,586 - INFO - allennlp.nn.initializers -    text_field_embedder.token_embedder_tokens.transformer_model.encoder.layer.0.attention.self.value.bias\n",
      "2023-04-12 15:29:43,586 - INFO - allennlp.nn.initializers -    text_field_embedder.token_embedder_tokens.transformer_model.encoder.layer.0.attention.self.value.weight\n",
      "2023-04-12 15:29:43,587 - INFO - allennlp.nn.initializers -    text_field_embedder.token_embedder_tokens.transformer_model.encoder.layer.0.intermediate.dense.bias\n",
      "2023-04-12 15:29:43,587 - INFO - allennlp.nn.initializers -    text_field_embedder.token_embedder_tokens.transformer_model.encoder.layer.0.intermediate.dense.weight\n",
      "2023-04-12 15:29:43,588 - INFO - allennlp.nn.initializers -    text_field_embedder.token_embedder_tokens.transformer_model.encoder.layer.0.output.LayerNorm.bias\n",
      "2023-04-12 15:29:43,589 - INFO - allennlp.nn.initializers -    text_field_embedder.token_embedder_tokens.transformer_model.encoder.layer.0.output.LayerNorm.weight\n",
      "2023-04-12 15:29:43,589 - INFO - allennlp.nn.initializers -    text_field_embedder.token_embedder_tokens.transformer_model.encoder.layer.0.output.dense.bias\n",
      "2023-04-12 15:29:43,590 - INFO - allennlp.nn.initializers -    text_field_embedder.token_embedder_tokens.transformer_model.encoder.layer.0.output.dense.weight\n",
      "2023-04-12 15:29:43,590 - INFO - allennlp.nn.initializers -    text_field_embedder.token_embedder_tokens.transformer_model.encoder.layer.1.attention.output.LayerNorm.bias\n",
      "2023-04-12 15:29:43,591 - INFO - allennlp.nn.initializers -    text_field_embedder.token_embedder_tokens.transformer_model.encoder.layer.1.attention.output.LayerNorm.weight\n",
      "2023-04-12 15:29:43,591 - INFO - allennlp.nn.initializers -    text_field_embedder.token_embedder_tokens.transformer_model.encoder.layer.1.attention.output.dense.bias\n",
      "2023-04-12 15:29:43,592 - INFO - allennlp.nn.initializers -    text_field_embedder.token_embedder_tokens.transformer_model.encoder.layer.1.attention.output.dense.weight\n",
      "2023-04-12 15:29:43,592 - INFO - allennlp.nn.initializers -    text_field_embedder.token_embedder_tokens.transformer_model.encoder.layer.1.attention.self.key.bias\n",
      "2023-04-12 15:29:43,593 - INFO - allennlp.nn.initializers -    text_field_embedder.token_embedder_tokens.transformer_model.encoder.layer.1.attention.self.key.weight\n",
      "2023-04-12 15:29:43,593 - INFO - allennlp.nn.initializers -    text_field_embedder.token_embedder_tokens.transformer_model.encoder.layer.1.attention.self.query.bias\n",
      "2023-04-12 15:29:43,594 - INFO - allennlp.nn.initializers -    text_field_embedder.token_embedder_tokens.transformer_model.encoder.layer.1.attention.self.query.weight\n",
      "2023-04-12 15:29:43,594 - INFO - allennlp.nn.initializers -    text_field_embedder.token_embedder_tokens.transformer_model.encoder.layer.1.attention.self.value.bias\n",
      "2023-04-12 15:29:43,595 - INFO - allennlp.nn.initializers -    text_field_embedder.token_embedder_tokens.transformer_model.encoder.layer.1.attention.self.value.weight\n",
      "2023-04-12 15:29:43,595 - INFO - allennlp.nn.initializers -    text_field_embedder.token_embedder_tokens.transformer_model.encoder.layer.1.intermediate.dense.bias\n",
      "2023-04-12 15:29:43,596 - INFO - allennlp.nn.initializers -    text_field_embedder.token_embedder_tokens.transformer_model.encoder.layer.1.intermediate.dense.weight\n",
      "2023-04-12 15:29:43,596 - INFO - allennlp.nn.initializers -    text_field_embedder.token_embedder_tokens.transformer_model.encoder.layer.1.output.LayerNorm.bias\n",
      "2023-04-12 15:29:43,597 - INFO - allennlp.nn.initializers -    text_field_embedder.token_embedder_tokens.transformer_model.encoder.layer.1.output.LayerNorm.weight\n",
      "2023-04-12 15:29:43,597 - INFO - allennlp.nn.initializers -    text_field_embedder.token_embedder_tokens.transformer_model.encoder.layer.1.output.dense.bias\n",
      "2023-04-12 15:29:43,598 - INFO - allennlp.nn.initializers -    text_field_embedder.token_embedder_tokens.transformer_model.encoder.layer.1.output.dense.weight\n",
      "2023-04-12 15:29:43,598 - INFO - allennlp.nn.initializers -    text_field_embedder.token_embedder_tokens.transformer_model.encoder.layer.10.attention.output.LayerNorm.bias\n",
      "2023-04-12 15:29:43,599 - INFO - allennlp.nn.initializers -    text_field_embedder.token_embedder_tokens.transformer_model.encoder.layer.10.attention.output.LayerNorm.weight\n",
      "2023-04-12 15:29:43,599 - INFO - allennlp.nn.initializers -    text_field_embedder.token_embedder_tokens.transformer_model.encoder.layer.10.attention.output.dense.bias\n"
     ]
    },
    {
     "name": "stdout",
     "output_type": "stream",
     "text": [
      "2023-04-12 15:29:43,600 - INFO - allennlp.nn.initializers -    text_field_embedder.token_embedder_tokens.transformer_model.encoder.layer.10.attention.output.dense.weight\n",
      "2023-04-12 15:29:43,600 - INFO - allennlp.nn.initializers -    text_field_embedder.token_embedder_tokens.transformer_model.encoder.layer.10.attention.self.key.bias\n",
      "2023-04-12 15:29:43,601 - INFO - allennlp.nn.initializers -    text_field_embedder.token_embedder_tokens.transformer_model.encoder.layer.10.attention.self.key.weight\n",
      "2023-04-12 15:29:43,601 - INFO - allennlp.nn.initializers -    text_field_embedder.token_embedder_tokens.transformer_model.encoder.layer.10.attention.self.query.bias\n",
      "2023-04-12 15:29:43,602 - INFO - allennlp.nn.initializers -    text_field_embedder.token_embedder_tokens.transformer_model.encoder.layer.10.attention.self.query.weight\n",
      "2023-04-12 15:29:43,602 - INFO - allennlp.nn.initializers -    text_field_embedder.token_embedder_tokens.transformer_model.encoder.layer.10.attention.self.value.bias\n",
      "2023-04-12 15:29:43,603 - INFO - allennlp.nn.initializers -    text_field_embedder.token_embedder_tokens.transformer_model.encoder.layer.10.attention.self.value.weight\n",
      "2023-04-12 15:29:43,603 - INFO - allennlp.nn.initializers -    text_field_embedder.token_embedder_tokens.transformer_model.encoder.layer.10.intermediate.dense.bias\n",
      "2023-04-12 15:29:43,604 - INFO - allennlp.nn.initializers -    text_field_embedder.token_embedder_tokens.transformer_model.encoder.layer.10.intermediate.dense.weight\n",
      "2023-04-12 15:29:43,604 - INFO - allennlp.nn.initializers -    text_field_embedder.token_embedder_tokens.transformer_model.encoder.layer.10.output.LayerNorm.bias\n",
      "2023-04-12 15:29:43,605 - INFO - allennlp.nn.initializers -    text_field_embedder.token_embedder_tokens.transformer_model.encoder.layer.10.output.LayerNorm.weight\n",
      "2023-04-12 15:29:43,605 - INFO - allennlp.nn.initializers -    text_field_embedder.token_embedder_tokens.transformer_model.encoder.layer.10.output.dense.bias\n",
      "2023-04-12 15:29:43,606 - INFO - allennlp.nn.initializers -    text_field_embedder.token_embedder_tokens.transformer_model.encoder.layer.10.output.dense.weight\n",
      "2023-04-12 15:29:43,606 - INFO - allennlp.nn.initializers -    text_field_embedder.token_embedder_tokens.transformer_model.encoder.layer.11.attention.output.LayerNorm.bias\n",
      "2023-04-12 15:29:43,607 - INFO - allennlp.nn.initializers -    text_field_embedder.token_embedder_tokens.transformer_model.encoder.layer.11.attention.output.LayerNorm.weight\n",
      "2023-04-12 15:29:43,607 - INFO - allennlp.nn.initializers -    text_field_embedder.token_embedder_tokens.transformer_model.encoder.layer.11.attention.output.dense.bias\n",
      "2023-04-12 15:29:43,608 - INFO - allennlp.nn.initializers -    text_field_embedder.token_embedder_tokens.transformer_model.encoder.layer.11.attention.output.dense.weight\n",
      "2023-04-12 15:29:43,608 - INFO - allennlp.nn.initializers -    text_field_embedder.token_embedder_tokens.transformer_model.encoder.layer.11.attention.self.key.bias\n",
      "2023-04-12 15:29:43,609 - INFO - allennlp.nn.initializers -    text_field_embedder.token_embedder_tokens.transformer_model.encoder.layer.11.attention.self.key.weight\n",
      "2023-04-12 15:29:43,609 - INFO - allennlp.nn.initializers -    text_field_embedder.token_embedder_tokens.transformer_model.encoder.layer.11.attention.self.query.bias\n",
      "2023-04-12 15:29:43,610 - INFO - allennlp.nn.initializers -    text_field_embedder.token_embedder_tokens.transformer_model.encoder.layer.11.attention.self.query.weight\n",
      "2023-04-12 15:29:43,610 - INFO - allennlp.nn.initializers -    text_field_embedder.token_embedder_tokens.transformer_model.encoder.layer.11.attention.self.value.bias\n",
      "2023-04-12 15:29:43,611 - INFO - allennlp.nn.initializers -    text_field_embedder.token_embedder_tokens.transformer_model.encoder.layer.11.attention.self.value.weight\n",
      "2023-04-12 15:29:43,611 - INFO - allennlp.nn.initializers -    text_field_embedder.token_embedder_tokens.transformer_model.encoder.layer.11.intermediate.dense.bias\n",
      "2023-04-12 15:29:43,612 - INFO - allennlp.nn.initializers -    text_field_embedder.token_embedder_tokens.transformer_model.encoder.layer.11.intermediate.dense.weight\n",
      "2023-04-12 15:29:43,612 - INFO - allennlp.nn.initializers -    text_field_embedder.token_embedder_tokens.transformer_model.encoder.layer.11.output.LayerNorm.bias\n",
      "2023-04-12 15:29:43,613 - INFO - allennlp.nn.initializers -    text_field_embedder.token_embedder_tokens.transformer_model.encoder.layer.11.output.LayerNorm.weight\n",
      "2023-04-12 15:29:43,613 - INFO - allennlp.nn.initializers -    text_field_embedder.token_embedder_tokens.transformer_model.encoder.layer.11.output.dense.bias\n",
      "2023-04-12 15:29:43,614 - INFO - allennlp.nn.initializers -    text_field_embedder.token_embedder_tokens.transformer_model.encoder.layer.11.output.dense.weight\n",
      "2023-04-12 15:29:43,614 - INFO - allennlp.nn.initializers -    text_field_embedder.token_embedder_tokens.transformer_model.encoder.layer.2.attention.output.LayerNorm.bias\n",
      "2023-04-12 15:29:43,615 - INFO - allennlp.nn.initializers -    text_field_embedder.token_embedder_tokens.transformer_model.encoder.layer.2.attention.output.LayerNorm.weight\n",
      "2023-04-12 15:29:43,615 - INFO - allennlp.nn.initializers -    text_field_embedder.token_embedder_tokens.transformer_model.encoder.layer.2.attention.output.dense.bias\n",
      "2023-04-12 15:29:43,616 - INFO - allennlp.nn.initializers -    text_field_embedder.token_embedder_tokens.transformer_model.encoder.layer.2.attention.output.dense.weight\n",
      "2023-04-12 15:29:43,616 - INFO - allennlp.nn.initializers -    text_field_embedder.token_embedder_tokens.transformer_model.encoder.layer.2.attention.self.key.bias\n",
      "2023-04-12 15:29:43,617 - INFO - allennlp.nn.initializers -    text_field_embedder.token_embedder_tokens.transformer_model.encoder.layer.2.attention.self.key.weight\n",
      "2023-04-12 15:29:43,617 - INFO - allennlp.nn.initializers -    text_field_embedder.token_embedder_tokens.transformer_model.encoder.layer.2.attention.self.query.bias\n",
      "2023-04-12 15:29:43,618 - INFO - allennlp.nn.initializers -    text_field_embedder.token_embedder_tokens.transformer_model.encoder.layer.2.attention.self.query.weight\n",
      "2023-04-12 15:29:43,618 - INFO - allennlp.nn.initializers -    text_field_embedder.token_embedder_tokens.transformer_model.encoder.layer.2.attention.self.value.bias\n",
      "2023-04-12 15:29:43,619 - INFO - allennlp.nn.initializers -    text_field_embedder.token_embedder_tokens.transformer_model.encoder.layer.2.attention.self.value.weight\n",
      "2023-04-12 15:29:43,619 - INFO - allennlp.nn.initializers -    text_field_embedder.token_embedder_tokens.transformer_model.encoder.layer.2.intermediate.dense.bias\n",
      "2023-04-12 15:29:43,620 - INFO - allennlp.nn.initializers -    text_field_embedder.token_embedder_tokens.transformer_model.encoder.layer.2.intermediate.dense.weight\n",
      "2023-04-12 15:29:43,620 - INFO - allennlp.nn.initializers -    text_field_embedder.token_embedder_tokens.transformer_model.encoder.layer.2.output.LayerNorm.bias\n",
      "2023-04-12 15:29:43,621 - INFO - allennlp.nn.initializers -    text_field_embedder.token_embedder_tokens.transformer_model.encoder.layer.2.output.LayerNorm.weight\n",
      "2023-04-12 15:29:43,621 - INFO - allennlp.nn.initializers -    text_field_embedder.token_embedder_tokens.transformer_model.encoder.layer.2.output.dense.bias\n",
      "2023-04-12 15:29:43,622 - INFO - allennlp.nn.initializers -    text_field_embedder.token_embedder_tokens.transformer_model.encoder.layer.2.output.dense.weight\n",
      "2023-04-12 15:29:43,622 - INFO - allennlp.nn.initializers -    text_field_embedder.token_embedder_tokens.transformer_model.encoder.layer.3.attention.output.LayerNorm.bias\n",
      "2023-04-12 15:29:43,623 - INFO - allennlp.nn.initializers -    text_field_embedder.token_embedder_tokens.transformer_model.encoder.layer.3.attention.output.LayerNorm.weight\n",
      "2023-04-12 15:29:43,623 - INFO - allennlp.nn.initializers -    text_field_embedder.token_embedder_tokens.transformer_model.encoder.layer.3.attention.output.dense.bias\n",
      "2023-04-12 15:29:43,624 - INFO - allennlp.nn.initializers -    text_field_embedder.token_embedder_tokens.transformer_model.encoder.layer.3.attention.output.dense.weight\n",
      "2023-04-12 15:29:43,624 - INFO - allennlp.nn.initializers -    text_field_embedder.token_embedder_tokens.transformer_model.encoder.layer.3.attention.self.key.bias\n"
     ]
    },
    {
     "name": "stdout",
     "output_type": "stream",
     "text": [
      "2023-04-12 15:29:43,625 - INFO - allennlp.nn.initializers -    text_field_embedder.token_embedder_tokens.transformer_model.encoder.layer.3.attention.self.key.weight\n",
      "2023-04-12 15:29:43,625 - INFO - allennlp.nn.initializers -    text_field_embedder.token_embedder_tokens.transformer_model.encoder.layer.3.attention.self.query.bias\n",
      "2023-04-12 15:29:43,626 - INFO - allennlp.nn.initializers -    text_field_embedder.token_embedder_tokens.transformer_model.encoder.layer.3.attention.self.query.weight\n",
      "2023-04-12 15:29:43,626 - INFO - allennlp.nn.initializers -    text_field_embedder.token_embedder_tokens.transformer_model.encoder.layer.3.attention.self.value.bias\n",
      "2023-04-12 15:29:43,627 - INFO - allennlp.nn.initializers -    text_field_embedder.token_embedder_tokens.transformer_model.encoder.layer.3.attention.self.value.weight\n",
      "2023-04-12 15:29:43,627 - INFO - allennlp.nn.initializers -    text_field_embedder.token_embedder_tokens.transformer_model.encoder.layer.3.intermediate.dense.bias\n",
      "2023-04-12 15:29:43,628 - INFO - allennlp.nn.initializers -    text_field_embedder.token_embedder_tokens.transformer_model.encoder.layer.3.intermediate.dense.weight\n",
      "2023-04-12 15:29:43,628 - INFO - allennlp.nn.initializers -    text_field_embedder.token_embedder_tokens.transformer_model.encoder.layer.3.output.LayerNorm.bias\n",
      "2023-04-12 15:29:43,629 - INFO - allennlp.nn.initializers -    text_field_embedder.token_embedder_tokens.transformer_model.encoder.layer.3.output.LayerNorm.weight\n",
      "2023-04-12 15:29:43,630 - INFO - allennlp.nn.initializers -    text_field_embedder.token_embedder_tokens.transformer_model.encoder.layer.3.output.dense.bias\n",
      "2023-04-12 15:29:43,630 - INFO - allennlp.nn.initializers -    text_field_embedder.token_embedder_tokens.transformer_model.encoder.layer.3.output.dense.weight\n",
      "2023-04-12 15:29:43,631 - INFO - allennlp.nn.initializers -    text_field_embedder.token_embedder_tokens.transformer_model.encoder.layer.4.attention.output.LayerNorm.bias\n",
      "2023-04-12 15:29:43,631 - INFO - allennlp.nn.initializers -    text_field_embedder.token_embedder_tokens.transformer_model.encoder.layer.4.attention.output.LayerNorm.weight\n",
      "2023-04-12 15:29:43,632 - INFO - allennlp.nn.initializers -    text_field_embedder.token_embedder_tokens.transformer_model.encoder.layer.4.attention.output.dense.bias\n",
      "2023-04-12 15:29:43,632 - INFO - allennlp.nn.initializers -    text_field_embedder.token_embedder_tokens.transformer_model.encoder.layer.4.attention.output.dense.weight\n",
      "2023-04-12 15:29:43,633 - INFO - allennlp.nn.initializers -    text_field_embedder.token_embedder_tokens.transformer_model.encoder.layer.4.attention.self.key.bias\n",
      "2023-04-12 15:29:43,633 - INFO - allennlp.nn.initializers -    text_field_embedder.token_embedder_tokens.transformer_model.encoder.layer.4.attention.self.key.weight\n",
      "2023-04-12 15:29:43,634 - INFO - allennlp.nn.initializers -    text_field_embedder.token_embedder_tokens.transformer_model.encoder.layer.4.attention.self.query.bias\n",
      "2023-04-12 15:29:43,634 - INFO - allennlp.nn.initializers -    text_field_embedder.token_embedder_tokens.transformer_model.encoder.layer.4.attention.self.query.weight\n",
      "2023-04-12 15:29:43,635 - INFO - allennlp.nn.initializers -    text_field_embedder.token_embedder_tokens.transformer_model.encoder.layer.4.attention.self.value.bias\n",
      "2023-04-12 15:29:43,635 - INFO - allennlp.nn.initializers -    text_field_embedder.token_embedder_tokens.transformer_model.encoder.layer.4.attention.self.value.weight\n",
      "2023-04-12 15:29:43,636 - INFO - allennlp.nn.initializers -    text_field_embedder.token_embedder_tokens.transformer_model.encoder.layer.4.intermediate.dense.bias\n",
      "2023-04-12 15:29:43,636 - INFO - allennlp.nn.initializers -    text_field_embedder.token_embedder_tokens.transformer_model.encoder.layer.4.intermediate.dense.weight\n",
      "2023-04-12 15:29:43,637 - INFO - allennlp.nn.initializers -    text_field_embedder.token_embedder_tokens.transformer_model.encoder.layer.4.output.LayerNorm.bias\n",
      "2023-04-12 15:29:43,637 - INFO - allennlp.nn.initializers -    text_field_embedder.token_embedder_tokens.transformer_model.encoder.layer.4.output.LayerNorm.weight\n",
      "2023-04-12 15:29:43,638 - INFO - allennlp.nn.initializers -    text_field_embedder.token_embedder_tokens.transformer_model.encoder.layer.4.output.dense.bias\n",
      "2023-04-12 15:29:43,638 - INFO - allennlp.nn.initializers -    text_field_embedder.token_embedder_tokens.transformer_model.encoder.layer.4.output.dense.weight\n",
      "2023-04-12 15:29:43,639 - INFO - allennlp.nn.initializers -    text_field_embedder.token_embedder_tokens.transformer_model.encoder.layer.5.attention.output.LayerNorm.bias\n",
      "2023-04-12 15:29:43,639 - INFO - allennlp.nn.initializers -    text_field_embedder.token_embedder_tokens.transformer_model.encoder.layer.5.attention.output.LayerNorm.weight\n",
      "2023-04-12 15:29:43,640 - INFO - allennlp.nn.initializers -    text_field_embedder.token_embedder_tokens.transformer_model.encoder.layer.5.attention.output.dense.bias\n",
      "2023-04-12 15:29:43,640 - INFO - allennlp.nn.initializers -    text_field_embedder.token_embedder_tokens.transformer_model.encoder.layer.5.attention.output.dense.weight\n",
      "2023-04-12 15:29:43,641 - INFO - allennlp.nn.initializers -    text_field_embedder.token_embedder_tokens.transformer_model.encoder.layer.5.attention.self.key.bias\n",
      "2023-04-12 15:29:43,641 - INFO - allennlp.nn.initializers -    text_field_embedder.token_embedder_tokens.transformer_model.encoder.layer.5.attention.self.key.weight\n",
      "2023-04-12 15:29:43,642 - INFO - allennlp.nn.initializers -    text_field_embedder.token_embedder_tokens.transformer_model.encoder.layer.5.attention.self.query.bias\n",
      "2023-04-12 15:29:43,642 - INFO - allennlp.nn.initializers -    text_field_embedder.token_embedder_tokens.transformer_model.encoder.layer.5.attention.self.query.weight\n",
      "2023-04-12 15:29:43,643 - INFO - allennlp.nn.initializers -    text_field_embedder.token_embedder_tokens.transformer_model.encoder.layer.5.attention.self.value.bias\n",
      "2023-04-12 15:29:43,643 - INFO - allennlp.nn.initializers -    text_field_embedder.token_embedder_tokens.transformer_model.encoder.layer.5.attention.self.value.weight\n",
      "2023-04-12 15:29:43,644 - INFO - allennlp.nn.initializers -    text_field_embedder.token_embedder_tokens.transformer_model.encoder.layer.5.intermediate.dense.bias\n",
      "2023-04-12 15:29:43,644 - INFO - allennlp.nn.initializers -    text_field_embedder.token_embedder_tokens.transformer_model.encoder.layer.5.intermediate.dense.weight\n",
      "2023-04-12 15:29:43,645 - INFO - allennlp.nn.initializers -    text_field_embedder.token_embedder_tokens.transformer_model.encoder.layer.5.output.LayerNorm.bias\n",
      "2023-04-12 15:29:43,645 - INFO - allennlp.nn.initializers -    text_field_embedder.token_embedder_tokens.transformer_model.encoder.layer.5.output.LayerNorm.weight\n",
      "2023-04-12 15:29:43,646 - INFO - allennlp.nn.initializers -    text_field_embedder.token_embedder_tokens.transformer_model.encoder.layer.5.output.dense.bias\n",
      "2023-04-12 15:29:43,646 - INFO - allennlp.nn.initializers -    text_field_embedder.token_embedder_tokens.transformer_model.encoder.layer.5.output.dense.weight\n",
      "2023-04-12 15:29:43,647 - INFO - allennlp.nn.initializers -    text_field_embedder.token_embedder_tokens.transformer_model.encoder.layer.6.attention.output.LayerNorm.bias\n",
      "2023-04-12 15:29:43,647 - INFO - allennlp.nn.initializers -    text_field_embedder.token_embedder_tokens.transformer_model.encoder.layer.6.attention.output.LayerNorm.weight\n",
      "2023-04-12 15:29:43,648 - INFO - allennlp.nn.initializers -    text_field_embedder.token_embedder_tokens.transformer_model.encoder.layer.6.attention.output.dense.bias\n",
      "2023-04-12 15:29:43,648 - INFO - allennlp.nn.initializers -    text_field_embedder.token_embedder_tokens.transformer_model.encoder.layer.6.attention.output.dense.weight\n",
      "2023-04-12 15:29:43,649 - INFO - allennlp.nn.initializers -    text_field_embedder.token_embedder_tokens.transformer_model.encoder.layer.6.attention.self.key.bias\n",
      "2023-04-12 15:29:43,649 - INFO - allennlp.nn.initializers -    text_field_embedder.token_embedder_tokens.transformer_model.encoder.layer.6.attention.self.key.weight\n",
      "2023-04-12 15:29:43,650 - INFO - allennlp.nn.initializers -    text_field_embedder.token_embedder_tokens.transformer_model.encoder.layer.6.attention.self.query.bias\n"
     ]
    },
    {
     "name": "stdout",
     "output_type": "stream",
     "text": [
      "2023-04-12 15:29:43,650 - INFO - allennlp.nn.initializers -    text_field_embedder.token_embedder_tokens.transformer_model.encoder.layer.6.attention.self.query.weight\n",
      "2023-04-12 15:29:43,651 - INFO - allennlp.nn.initializers -    text_field_embedder.token_embedder_tokens.transformer_model.encoder.layer.6.attention.self.value.bias\n",
      "2023-04-12 15:29:43,651 - INFO - allennlp.nn.initializers -    text_field_embedder.token_embedder_tokens.transformer_model.encoder.layer.6.attention.self.value.weight\n",
      "2023-04-12 15:29:43,652 - INFO - allennlp.nn.initializers -    text_field_embedder.token_embedder_tokens.transformer_model.encoder.layer.6.intermediate.dense.bias\n",
      "2023-04-12 15:29:43,652 - INFO - allennlp.nn.initializers -    text_field_embedder.token_embedder_tokens.transformer_model.encoder.layer.6.intermediate.dense.weight\n",
      "2023-04-12 15:29:43,653 - INFO - allennlp.nn.initializers -    text_field_embedder.token_embedder_tokens.transformer_model.encoder.layer.6.output.LayerNorm.bias\n",
      "2023-04-12 15:29:43,653 - INFO - allennlp.nn.initializers -    text_field_embedder.token_embedder_tokens.transformer_model.encoder.layer.6.output.LayerNorm.weight\n",
      "2023-04-12 15:29:43,654 - INFO - allennlp.nn.initializers -    text_field_embedder.token_embedder_tokens.transformer_model.encoder.layer.6.output.dense.bias\n",
      "2023-04-12 15:29:43,654 - INFO - allennlp.nn.initializers -    text_field_embedder.token_embedder_tokens.transformer_model.encoder.layer.6.output.dense.weight\n",
      "2023-04-12 15:29:43,655 - INFO - allennlp.nn.initializers -    text_field_embedder.token_embedder_tokens.transformer_model.encoder.layer.7.attention.output.LayerNorm.bias\n",
      "2023-04-12 15:29:43,655 - INFO - allennlp.nn.initializers -    text_field_embedder.token_embedder_tokens.transformer_model.encoder.layer.7.attention.output.LayerNorm.weight\n",
      "2023-04-12 15:29:43,656 - INFO - allennlp.nn.initializers -    text_field_embedder.token_embedder_tokens.transformer_model.encoder.layer.7.attention.output.dense.bias\n",
      "2023-04-12 15:29:43,656 - INFO - allennlp.nn.initializers -    text_field_embedder.token_embedder_tokens.transformer_model.encoder.layer.7.attention.output.dense.weight\n",
      "2023-04-12 15:29:43,657 - INFO - allennlp.nn.initializers -    text_field_embedder.token_embedder_tokens.transformer_model.encoder.layer.7.attention.self.key.bias\n",
      "2023-04-12 15:29:43,657 - INFO - allennlp.nn.initializers -    text_field_embedder.token_embedder_tokens.transformer_model.encoder.layer.7.attention.self.key.weight\n",
      "2023-04-12 15:29:43,658 - INFO - allennlp.nn.initializers -    text_field_embedder.token_embedder_tokens.transformer_model.encoder.layer.7.attention.self.query.bias\n",
      "2023-04-12 15:29:43,658 - INFO - allennlp.nn.initializers -    text_field_embedder.token_embedder_tokens.transformer_model.encoder.layer.7.attention.self.query.weight\n",
      "2023-04-12 15:29:43,659 - INFO - allennlp.nn.initializers -    text_field_embedder.token_embedder_tokens.transformer_model.encoder.layer.7.attention.self.value.bias\n",
      "2023-04-12 15:29:43,659 - INFO - allennlp.nn.initializers -    text_field_embedder.token_embedder_tokens.transformer_model.encoder.layer.7.attention.self.value.weight\n",
      "2023-04-12 15:29:43,660 - INFO - allennlp.nn.initializers -    text_field_embedder.token_embedder_tokens.transformer_model.encoder.layer.7.intermediate.dense.bias\n",
      "2023-04-12 15:29:43,660 - INFO - allennlp.nn.initializers -    text_field_embedder.token_embedder_tokens.transformer_model.encoder.layer.7.intermediate.dense.weight\n",
      "2023-04-12 15:29:43,661 - INFO - allennlp.nn.initializers -    text_field_embedder.token_embedder_tokens.transformer_model.encoder.layer.7.output.LayerNorm.bias\n",
      "2023-04-12 15:29:43,661 - INFO - allennlp.nn.initializers -    text_field_embedder.token_embedder_tokens.transformer_model.encoder.layer.7.output.LayerNorm.weight\n",
      "2023-04-12 15:29:43,662 - INFO - allennlp.nn.initializers -    text_field_embedder.token_embedder_tokens.transformer_model.encoder.layer.7.output.dense.bias\n",
      "2023-04-12 15:29:43,662 - INFO - allennlp.nn.initializers -    text_field_embedder.token_embedder_tokens.transformer_model.encoder.layer.7.output.dense.weight\n",
      "2023-04-12 15:29:43,663 - INFO - allennlp.nn.initializers -    text_field_embedder.token_embedder_tokens.transformer_model.encoder.layer.8.attention.output.LayerNorm.bias\n",
      "2023-04-12 15:29:43,663 - INFO - allennlp.nn.initializers -    text_field_embedder.token_embedder_tokens.transformer_model.encoder.layer.8.attention.output.LayerNorm.weight\n",
      "2023-04-12 15:29:43,664 - INFO - allennlp.nn.initializers -    text_field_embedder.token_embedder_tokens.transformer_model.encoder.layer.8.attention.output.dense.bias\n",
      "2023-04-12 15:29:43,664 - INFO - allennlp.nn.initializers -    text_field_embedder.token_embedder_tokens.transformer_model.encoder.layer.8.attention.output.dense.weight\n",
      "2023-04-12 15:29:43,665 - INFO - allennlp.nn.initializers -    text_field_embedder.token_embedder_tokens.transformer_model.encoder.layer.8.attention.self.key.bias\n",
      "2023-04-12 15:29:43,665 - INFO - allennlp.nn.initializers -    text_field_embedder.token_embedder_tokens.transformer_model.encoder.layer.8.attention.self.key.weight\n",
      "2023-04-12 15:29:43,666 - INFO - allennlp.nn.initializers -    text_field_embedder.token_embedder_tokens.transformer_model.encoder.layer.8.attention.self.query.bias\n",
      "2023-04-12 15:29:43,666 - INFO - allennlp.nn.initializers -    text_field_embedder.token_embedder_tokens.transformer_model.encoder.layer.8.attention.self.query.weight\n",
      "2023-04-12 15:29:43,667 - INFO - allennlp.nn.initializers -    text_field_embedder.token_embedder_tokens.transformer_model.encoder.layer.8.attention.self.value.bias\n",
      "2023-04-12 15:29:43,667 - INFO - allennlp.nn.initializers -    text_field_embedder.token_embedder_tokens.transformer_model.encoder.layer.8.attention.self.value.weight\n",
      "2023-04-12 15:29:43,668 - INFO - allennlp.nn.initializers -    text_field_embedder.token_embedder_tokens.transformer_model.encoder.layer.8.intermediate.dense.bias\n",
      "2023-04-12 15:29:43,668 - INFO - allennlp.nn.initializers -    text_field_embedder.token_embedder_tokens.transformer_model.encoder.layer.8.intermediate.dense.weight\n",
      "2023-04-12 15:29:43,669 - INFO - allennlp.nn.initializers -    text_field_embedder.token_embedder_tokens.transformer_model.encoder.layer.8.output.LayerNorm.bias\n",
      "2023-04-12 15:29:43,669 - INFO - allennlp.nn.initializers -    text_field_embedder.token_embedder_tokens.transformer_model.encoder.layer.8.output.LayerNorm.weight\n",
      "2023-04-12 15:29:43,670 - INFO - allennlp.nn.initializers -    text_field_embedder.token_embedder_tokens.transformer_model.encoder.layer.8.output.dense.bias\n",
      "2023-04-12 15:29:43,670 - INFO - allennlp.nn.initializers -    text_field_embedder.token_embedder_tokens.transformer_model.encoder.layer.8.output.dense.weight\n",
      "2023-04-12 15:29:43,671 - INFO - allennlp.nn.initializers -    text_field_embedder.token_embedder_tokens.transformer_model.encoder.layer.9.attention.output.LayerNorm.bias\n",
      "2023-04-12 15:29:43,671 - INFO - allennlp.nn.initializers -    text_field_embedder.token_embedder_tokens.transformer_model.encoder.layer.9.attention.output.LayerNorm.weight\n",
      "2023-04-12 15:29:43,672 - INFO - allennlp.nn.initializers -    text_field_embedder.token_embedder_tokens.transformer_model.encoder.layer.9.attention.output.dense.bias\n",
      "2023-04-12 15:29:43,672 - INFO - allennlp.nn.initializers -    text_field_embedder.token_embedder_tokens.transformer_model.encoder.layer.9.attention.output.dense.weight\n",
      "2023-04-12 15:29:43,673 - INFO - allennlp.nn.initializers -    text_field_embedder.token_embedder_tokens.transformer_model.encoder.layer.9.attention.self.key.bias\n",
      "2023-04-12 15:29:43,673 - INFO - allennlp.nn.initializers -    text_field_embedder.token_embedder_tokens.transformer_model.encoder.layer.9.attention.self.key.weight\n",
      "2023-04-12 15:29:43,674 - INFO - allennlp.nn.initializers -    text_field_embedder.token_embedder_tokens.transformer_model.encoder.layer.9.attention.self.query.bias\n",
      "2023-04-12 15:29:43,674 - INFO - allennlp.nn.initializers -    text_field_embedder.token_embedder_tokens.transformer_model.encoder.layer.9.attention.self.query.weight\n",
      "2023-04-12 15:29:43,675 - INFO - allennlp.nn.initializers -    text_field_embedder.token_embedder_tokens.transformer_model.encoder.layer.9.attention.self.value.bias\n"
     ]
    },
    {
     "name": "stdout",
     "output_type": "stream",
     "text": [
      "2023-04-12 15:29:43,675 - INFO - allennlp.nn.initializers -    text_field_embedder.token_embedder_tokens.transformer_model.encoder.layer.9.attention.self.value.weight\n",
      "2023-04-12 15:29:43,676 - INFO - allennlp.nn.initializers -    text_field_embedder.token_embedder_tokens.transformer_model.encoder.layer.9.intermediate.dense.bias\n",
      "2023-04-12 15:29:43,676 - INFO - allennlp.nn.initializers -    text_field_embedder.token_embedder_tokens.transformer_model.encoder.layer.9.intermediate.dense.weight\n",
      "2023-04-12 15:29:43,677 - INFO - allennlp.nn.initializers -    text_field_embedder.token_embedder_tokens.transformer_model.encoder.layer.9.output.LayerNorm.bias\n",
      "2023-04-12 15:29:43,677 - INFO - allennlp.nn.initializers -    text_field_embedder.token_embedder_tokens.transformer_model.encoder.layer.9.output.LayerNorm.weight\n",
      "2023-04-12 15:29:43,678 - INFO - allennlp.nn.initializers -    text_field_embedder.token_embedder_tokens.transformer_model.encoder.layer.9.output.dense.bias\n",
      "2023-04-12 15:29:43,678 - INFO - allennlp.nn.initializers -    text_field_embedder.token_embedder_tokens.transformer_model.encoder.layer.9.output.dense.weight\n",
      "2023-04-12 15:29:43,679 - INFO - allennlp.nn.initializers -    text_field_embedder.token_embedder_tokens.transformer_model.pooler.dense.bias\n",
      "2023-04-12 15:29:43,679 - INFO - allennlp.nn.initializers -    text_field_embedder.token_embedder_tokens.transformer_model.pooler.dense.weight\n",
      "2023-04-12 15:29:44,040 - INFO - allennlp.models.archival - removing temporary unarchived model dir at /var/folders/lp/l_mzhpjs6bg95plfkl_n_vsc0000gn/T/tmpl1w_62nl\n",
      "2023-04-12 15:29:44,119 - INFO - allennlp.models.archival - loading archive file /Users/rubenkruiper/dev/irec/SPaR.txt/trained_models/debugger_train/model.tar.gz from cache at /Users/rubenkruiper/dev/irec/SPaR.txt/trained_models/debugger_train/model.tar.gz\n",
      "2023-04-12 15:29:44,121 - INFO - allennlp.models.archival - extracting archive file /Users/rubenkruiper/dev/irec/SPaR.txt/trained_models/debugger_train/model.tar.gz to temp dir /var/folders/lp/l_mzhpjs6bg95plfkl_n_vsc0000gn/T/tmp421ghaxv\n",
      "2023-04-12 15:29:46,627 - INFO - allennlp.common.params - dataset_reader.type = tag_reader\n",
      "2023-04-12 15:29:46,628 - INFO - allennlp.common.params - dataset_reader.max_instances = None\n",
      "2023-04-12 15:29:46,629 - INFO - allennlp.common.params - dataset_reader.manual_distributed_sharding = False\n",
      "2023-04-12 15:29:46,630 - INFO - allennlp.common.params - dataset_reader.manual_multiprocess_sharding = False\n",
      "2023-04-12 15:29:46,631 - INFO - allennlp.common.params - dataset_reader.bert_model_name = bert-base-cased\n",
      "2023-04-12 15:29:46,632 - INFO - allennlp.common.params - dataset_reader.token_indexers.tokens.type = pretrained_transformer\n",
      "2023-04-12 15:29:46,633 - INFO - allennlp.common.params - dataset_reader.token_indexers.tokens.token_min_padding_length = 0\n",
      "2023-04-12 15:29:46,633 - INFO - allennlp.common.params - dataset_reader.token_indexers.tokens.model_name = bert-base-cased\n",
      "2023-04-12 15:29:46,634 - INFO - allennlp.common.params - dataset_reader.token_indexers.tokens.namespace = tags\n",
      "2023-04-12 15:29:46,634 - INFO - allennlp.common.params - dataset_reader.token_indexers.tokens.max_length = 512\n",
      "2023-04-12 15:29:46,635 - INFO - allennlp.common.params - dataset_reader.token_indexers.tokens.tokenizer_kwargs.use_fast = False\n",
      "2023-04-12 15:29:46,636 - INFO - allennlp.common.params - dataset_reader.type = tag_reader\n",
      "2023-04-12 15:29:46,637 - INFO - allennlp.common.params - dataset_reader.max_instances = None\n",
      "2023-04-12 15:29:46,638 - INFO - allennlp.common.params - dataset_reader.manual_distributed_sharding = False\n",
      "2023-04-12 15:29:46,638 - INFO - allennlp.common.params - dataset_reader.manual_multiprocess_sharding = False\n",
      "2023-04-12 15:29:46,639 - INFO - allennlp.common.params - dataset_reader.bert_model_name = bert-base-cased\n",
      "2023-04-12 15:29:46,639 - INFO - allennlp.common.params - dataset_reader.token_indexers.tokens.type = pretrained_transformer\n",
      "2023-04-12 15:29:46,640 - INFO - allennlp.common.params - dataset_reader.token_indexers.tokens.token_min_padding_length = 0\n",
      "2023-04-12 15:29:46,641 - INFO - allennlp.common.params - dataset_reader.token_indexers.tokens.model_name = bert-base-cased\n",
      "2023-04-12 15:29:46,641 - INFO - allennlp.common.params - dataset_reader.token_indexers.tokens.namespace = tags\n",
      "2023-04-12 15:29:46,642 - INFO - allennlp.common.params - dataset_reader.token_indexers.tokens.max_length = 512\n",
      "2023-04-12 15:29:46,642 - INFO - allennlp.common.params - dataset_reader.token_indexers.tokens.tokenizer_kwargs.use_fast = False\n",
      "2023-04-12 15:29:46,644 - INFO - allennlp.common.params - type = from_instances\n",
      "2023-04-12 15:29:46,645 - INFO - allennlp.data.vocabulary - Loading token dictionary from /var/folders/lp/l_mzhpjs6bg95plfkl_n_vsc0000gn/T/tmp421ghaxv/vocabulary.\n",
      "2023-04-12 15:29:46,645 - INFO - filelock - Lock 140614564696464 acquired on /var/folders/lp/l_mzhpjs6bg95plfkl_n_vsc0000gn/T/tmp421ghaxv/vocabulary/.lock\n",
      "2023-04-12 15:29:46,647 - INFO - filelock - Lock 140614564696464 released on /var/folders/lp/l_mzhpjs6bg95plfkl_n_vsc0000gn/T/tmp421ghaxv/vocabulary/.lock\n",
      "2023-04-12 15:29:46,648 - INFO - allennlp.common.params - model.type = attention_tagger\n",
      "2023-04-12 15:29:46,649 - INFO - allennlp.common.params - model.regularizer = None\n",
      "2023-04-12 15:29:46,649 - INFO - allennlp.common.params - model.text_field_embedder.type = basic\n",
      "2023-04-12 15:29:46,650 - INFO - allennlp.common.params - model.text_field_embedder.token_embedders.tokens.type = pretrained_transformer\n",
      "2023-04-12 15:29:46,651 - INFO - allennlp.common.params - model.text_field_embedder.token_embedders.tokens.model_name = bert-base-cased\n",
      "2023-04-12 15:29:46,651 - INFO - allennlp.common.params - model.text_field_embedder.token_embedders.tokens.max_length = 512\n",
      "2023-04-12 15:29:46,652 - INFO - allennlp.common.params - model.text_field_embedder.token_embedders.tokens.sub_module = None\n",
      "2023-04-12 15:29:46,652 - INFO - allennlp.common.params - model.text_field_embedder.token_embedders.tokens.train_parameters = False\n",
      "2023-04-12 15:29:46,653 - INFO - allennlp.common.params - model.text_field_embedder.token_embedders.tokens.eval_mode = False\n",
      "2023-04-12 15:29:46,653 - INFO - allennlp.common.params - model.text_field_embedder.token_embedders.tokens.last_layer_only = True\n",
      "2023-04-12 15:29:46,654 - INFO - allennlp.common.params - model.text_field_embedder.token_embedders.tokens.override_weights_file = None\n",
      "2023-04-12 15:29:46,654 - INFO - allennlp.common.params - model.text_field_embedder.token_embedders.tokens.override_weights_strip_prefix = None\n",
      "2023-04-12 15:29:46,655 - INFO - allennlp.common.params - model.text_field_embedder.token_embedders.tokens.load_weights = True\n",
      "2023-04-12 15:29:46,655 - INFO - allennlp.common.params - model.text_field_embedder.token_embedders.tokens.gradient_checkpointing = None\n",
      "2023-04-12 15:29:46,656 - INFO - allennlp.common.params - model.text_field_embedder.token_embedders.tokens.tokenizer_kwargs.use_fast = False\n",
      "2023-04-12 15:29:46,656 - INFO - allennlp.common.params - model.text_field_embedder.token_embedders.tokens.transformer_kwargs = None\n",
      "2023-04-12 15:29:46,784 - INFO - allennlp.common.params - model.encoder.type = lstm\n",
      "2023-04-12 15:29:46,785 - INFO - allennlp.common.params - model.encoder.input_size = 768\n",
      "2023-04-12 15:29:46,786 - INFO - allennlp.common.params - model.encoder.hidden_size = 384\n",
      "2023-04-12 15:29:46,787 - INFO - allennlp.common.params - model.encoder.num_layers = 1\n",
      "2023-04-12 15:29:46,787 - INFO - allennlp.common.params - model.encoder.bias = True\n",
      "2023-04-12 15:29:46,788 - INFO - allennlp.common.params - model.encoder.dropout = 0.0\n",
      "2023-04-12 15:29:46,789 - INFO - allennlp.common.params - model.encoder.bidirectional = True\n",
      "2023-04-12 15:29:46,790 - INFO - allennlp.common.params - model.encoder.stateful = False\n",
      "2023-04-12 15:29:46,805 - INFO - allennlp.common.params - model.label_namespace = labels\n",
      "2023-04-12 15:29:46,806 - INFO - allennlp.common.params - model.feedforward.input_dim = 1536\n",
      "2023-04-12 15:29:46,806 - INFO - allennlp.common.params - model.feedforward.num_layers = 1\n",
      "2023-04-12 15:29:46,807 - INFO - allennlp.common.params - model.feedforward.hidden_dims = 60\n",
      "2023-04-12 15:29:46,807 - INFO - allennlp.common.params - model.feedforward.activations = relu\n"
     ]
    },
    {
     "name": "stdout",
     "output_type": "stream",
     "text": [
      "2023-04-12 15:29:46,808 - INFO - allennlp.common.params - type = relu\n",
      "2023-04-12 15:29:46,809 - INFO - allennlp.common.params - model.feedforward.dropout = 0.05\n",
      "2023-04-12 15:29:46,811 - INFO - allennlp.common.params - model.label_encoding = DiscontiguousTest\n",
      "2023-04-12 15:29:46,811 - INFO - allennlp.common.params - model.include_start_end_transitions = False\n",
      "2023-04-12 15:29:46,812 - INFO - allennlp.common.params - model.constrain_crf_decoding = None\n",
      "2023-04-12 15:29:46,813 - INFO - allennlp.common.params - model.calculate_span_f1 = None\n",
      "2023-04-12 15:29:46,813 - INFO - allennlp.common.params - model.dropout = 0.05\n",
      "2023-04-12 15:29:46,814 - INFO - allennlp.common.params - model.verbose_metrics = False\n",
      "2023-04-12 15:29:46,814 - INFO - allennlp.common.params - model.initializer = <allennlp.nn.initializers.InitializerApplicator object at 0x7fe3bbdf5f10>\n",
      "2023-04-12 15:29:46,815 - INFO - allennlp.common.params - model.top_k = 1\n",
      "2023-04-12 15:29:46,815 - INFO - allennlp.common.params - model.ignore_loss_on_o_tags = False\n",
      "2023-04-12 15:29:46,829 - INFO - allennlp.nn.initializers - Initializing parameters\n",
      "2023-04-12 15:29:46,831 - INFO - allennlp.nn.initializers - Done initializing parameters; the following parameters are using their default initialization from their code\n",
      "2023-04-12 15:29:46,831 - INFO - allennlp.nn.initializers -    _attention.Er\n",
      "2023-04-12 15:29:46,832 - INFO - allennlp.nn.initializers -    _attention.key.bias\n",
      "2023-04-12 15:29:46,833 - INFO - allennlp.nn.initializers -    _attention.key.weight\n",
      "2023-04-12 15:29:46,833 - INFO - allennlp.nn.initializers -    _attention.query.bias\n",
      "2023-04-12 15:29:46,834 - INFO - allennlp.nn.initializers -    _attention.query.weight\n",
      "2023-04-12 15:29:46,835 - INFO - allennlp.nn.initializers -    _attention.value.bias\n",
      "2023-04-12 15:29:46,836 - INFO - allennlp.nn.initializers -    _attention.value.weight\n",
      "2023-04-12 15:29:46,836 - INFO - allennlp.nn.initializers -    _feedforward._linear_layers.0.bias\n",
      "2023-04-12 15:29:46,837 - INFO - allennlp.nn.initializers -    _feedforward._linear_layers.0.weight\n",
      "2023-04-12 15:29:46,837 - INFO - allennlp.nn.initializers -    crf._constraint_mask\n",
      "2023-04-12 15:29:46,838 - INFO - allennlp.nn.initializers -    crf.transitions\n",
      "2023-04-12 15:29:46,839 - INFO - allennlp.nn.initializers -    encoder._module.bias_hh_l0\n",
      "2023-04-12 15:29:46,839 - INFO - allennlp.nn.initializers -    encoder._module.bias_hh_l0_reverse\n",
      "2023-04-12 15:29:46,840 - INFO - allennlp.nn.initializers -    encoder._module.bias_ih_l0\n",
      "2023-04-12 15:29:46,840 - INFO - allennlp.nn.initializers -    encoder._module.bias_ih_l0_reverse\n",
      "2023-04-12 15:29:46,841 - INFO - allennlp.nn.initializers -    encoder._module.weight_hh_l0\n",
      "2023-04-12 15:29:46,841 - INFO - allennlp.nn.initializers -    encoder._module.weight_hh_l0_reverse\n",
      "2023-04-12 15:29:46,842 - INFO - allennlp.nn.initializers -    encoder._module.weight_ih_l0\n",
      "2023-04-12 15:29:46,842 - INFO - allennlp.nn.initializers -    encoder._module.weight_ih_l0_reverse\n",
      "2023-04-12 15:29:46,843 - INFO - allennlp.nn.initializers -    tag_projection_layer._module.bias\n",
      "2023-04-12 15:29:46,843 - INFO - allennlp.nn.initializers -    tag_projection_layer._module.weight\n",
      "2023-04-12 15:29:46,844 - INFO - allennlp.nn.initializers -    text_field_embedder.token_embedder_tokens.transformer_model.embeddings.LayerNorm.bias\n",
      "2023-04-12 15:29:46,844 - INFO - allennlp.nn.initializers -    text_field_embedder.token_embedder_tokens.transformer_model.embeddings.LayerNorm.weight\n",
      "2023-04-12 15:29:46,845 - INFO - allennlp.nn.initializers -    text_field_embedder.token_embedder_tokens.transformer_model.embeddings.position_embeddings.weight\n",
      "2023-04-12 15:29:46,845 - INFO - allennlp.nn.initializers -    text_field_embedder.token_embedder_tokens.transformer_model.embeddings.token_type_embeddings.weight\n",
      "2023-04-12 15:29:46,846 - INFO - allennlp.nn.initializers -    text_field_embedder.token_embedder_tokens.transformer_model.embeddings.word_embeddings.weight\n",
      "2023-04-12 15:29:46,846 - INFO - allennlp.nn.initializers -    text_field_embedder.token_embedder_tokens.transformer_model.encoder.layer.0.attention.output.LayerNorm.bias\n",
      "2023-04-12 15:29:46,847 - INFO - allennlp.nn.initializers -    text_field_embedder.token_embedder_tokens.transformer_model.encoder.layer.0.attention.output.LayerNorm.weight\n",
      "2023-04-12 15:29:46,847 - INFO - allennlp.nn.initializers -    text_field_embedder.token_embedder_tokens.transformer_model.encoder.layer.0.attention.output.dense.bias\n",
      "2023-04-12 15:29:46,848 - INFO - allennlp.nn.initializers -    text_field_embedder.token_embedder_tokens.transformer_model.encoder.layer.0.attention.output.dense.weight\n",
      "2023-04-12 15:29:46,848 - INFO - allennlp.nn.initializers -    text_field_embedder.token_embedder_tokens.transformer_model.encoder.layer.0.attention.self.key.bias\n",
      "2023-04-12 15:29:46,849 - INFO - allennlp.nn.initializers -    text_field_embedder.token_embedder_tokens.transformer_model.encoder.layer.0.attention.self.key.weight\n",
      "2023-04-12 15:29:46,849 - INFO - allennlp.nn.initializers -    text_field_embedder.token_embedder_tokens.transformer_model.encoder.layer.0.attention.self.query.bias\n",
      "2023-04-12 15:29:46,850 - INFO - allennlp.nn.initializers -    text_field_embedder.token_embedder_tokens.transformer_model.encoder.layer.0.attention.self.query.weight\n",
      "2023-04-12 15:29:46,850 - INFO - allennlp.nn.initializers -    text_field_embedder.token_embedder_tokens.transformer_model.encoder.layer.0.attention.self.value.bias\n",
      "2023-04-12 15:29:46,851 - INFO - allennlp.nn.initializers -    text_field_embedder.token_embedder_tokens.transformer_model.encoder.layer.0.attention.self.value.weight\n",
      "2023-04-12 15:29:46,851 - INFO - allennlp.nn.initializers -    text_field_embedder.token_embedder_tokens.transformer_model.encoder.layer.0.intermediate.dense.bias\n",
      "2023-04-12 15:29:46,852 - INFO - allennlp.nn.initializers -    text_field_embedder.token_embedder_tokens.transformer_model.encoder.layer.0.intermediate.dense.weight\n",
      "2023-04-12 15:29:46,852 - INFO - allennlp.nn.initializers -    text_field_embedder.token_embedder_tokens.transformer_model.encoder.layer.0.output.LayerNorm.bias\n",
      "2023-04-12 15:29:46,853 - INFO - allennlp.nn.initializers -    text_field_embedder.token_embedder_tokens.transformer_model.encoder.layer.0.output.LayerNorm.weight\n",
      "2023-04-12 15:29:46,853 - INFO - allennlp.nn.initializers -    text_field_embedder.token_embedder_tokens.transformer_model.encoder.layer.0.output.dense.bias\n",
      "2023-04-12 15:29:46,853 - INFO - allennlp.nn.initializers -    text_field_embedder.token_embedder_tokens.transformer_model.encoder.layer.0.output.dense.weight\n",
      "2023-04-12 15:29:46,854 - INFO - allennlp.nn.initializers -    text_field_embedder.token_embedder_tokens.transformer_model.encoder.layer.1.attention.output.LayerNorm.bias\n",
      "2023-04-12 15:29:46,855 - INFO - allennlp.nn.initializers -    text_field_embedder.token_embedder_tokens.transformer_model.encoder.layer.1.attention.output.LayerNorm.weight\n",
      "2023-04-12 15:29:46,855 - INFO - allennlp.nn.initializers -    text_field_embedder.token_embedder_tokens.transformer_model.encoder.layer.1.attention.output.dense.bias\n",
      "2023-04-12 15:29:46,855 - INFO - allennlp.nn.initializers -    text_field_embedder.token_embedder_tokens.transformer_model.encoder.layer.1.attention.output.dense.weight\n",
      "2023-04-12 15:29:46,856 - INFO - allennlp.nn.initializers -    text_field_embedder.token_embedder_tokens.transformer_model.encoder.layer.1.attention.self.key.bias\n",
      "2023-04-12 15:29:46,856 - INFO - allennlp.nn.initializers -    text_field_embedder.token_embedder_tokens.transformer_model.encoder.layer.1.attention.self.key.weight\n",
      "2023-04-12 15:29:46,857 - INFO - allennlp.nn.initializers -    text_field_embedder.token_embedder_tokens.transformer_model.encoder.layer.1.attention.self.query.bias\n",
      "2023-04-12 15:29:46,857 - INFO - allennlp.nn.initializers -    text_field_embedder.token_embedder_tokens.transformer_model.encoder.layer.1.attention.self.query.weight\n",
      "2023-04-12 15:29:46,858 - INFO - allennlp.nn.initializers -    text_field_embedder.token_embedder_tokens.transformer_model.encoder.layer.1.attention.self.value.bias\n",
      "2023-04-12 15:29:46,858 - INFO - allennlp.nn.initializers -    text_field_embedder.token_embedder_tokens.transformer_model.encoder.layer.1.attention.self.value.weight\n"
     ]
    },
    {
     "name": "stdout",
     "output_type": "stream",
     "text": [
      "2023-04-12 15:29:46,859 - INFO - allennlp.nn.initializers -    text_field_embedder.token_embedder_tokens.transformer_model.encoder.layer.1.intermediate.dense.bias\n",
      "2023-04-12 15:29:46,859 - INFO - allennlp.nn.initializers -    text_field_embedder.token_embedder_tokens.transformer_model.encoder.layer.1.intermediate.dense.weight\n",
      "2023-04-12 15:29:46,860 - INFO - allennlp.nn.initializers -    text_field_embedder.token_embedder_tokens.transformer_model.encoder.layer.1.output.LayerNorm.bias\n",
      "2023-04-12 15:29:46,860 - INFO - allennlp.nn.initializers -    text_field_embedder.token_embedder_tokens.transformer_model.encoder.layer.1.output.LayerNorm.weight\n",
      "2023-04-12 15:29:46,861 - INFO - allennlp.nn.initializers -    text_field_embedder.token_embedder_tokens.transformer_model.encoder.layer.1.output.dense.bias\n",
      "2023-04-12 15:29:46,861 - INFO - allennlp.nn.initializers -    text_field_embedder.token_embedder_tokens.transformer_model.encoder.layer.1.output.dense.weight\n",
      "2023-04-12 15:29:46,862 - INFO - allennlp.nn.initializers -    text_field_embedder.token_embedder_tokens.transformer_model.encoder.layer.10.attention.output.LayerNorm.bias\n",
      "2023-04-12 15:29:46,862 - INFO - allennlp.nn.initializers -    text_field_embedder.token_embedder_tokens.transformer_model.encoder.layer.10.attention.output.LayerNorm.weight\n",
      "2023-04-12 15:29:46,863 - INFO - allennlp.nn.initializers -    text_field_embedder.token_embedder_tokens.transformer_model.encoder.layer.10.attention.output.dense.bias\n",
      "2023-04-12 15:29:46,863 - INFO - allennlp.nn.initializers -    text_field_embedder.token_embedder_tokens.transformer_model.encoder.layer.10.attention.output.dense.weight\n",
      "2023-04-12 15:29:46,864 - INFO - allennlp.nn.initializers -    text_field_embedder.token_embedder_tokens.transformer_model.encoder.layer.10.attention.self.key.bias\n",
      "2023-04-12 15:29:46,864 - INFO - allennlp.nn.initializers -    text_field_embedder.token_embedder_tokens.transformer_model.encoder.layer.10.attention.self.key.weight\n",
      "2023-04-12 15:29:46,865 - INFO - allennlp.nn.initializers -    text_field_embedder.token_embedder_tokens.transformer_model.encoder.layer.10.attention.self.query.bias\n",
      "2023-04-12 15:29:46,865 - INFO - allennlp.nn.initializers -    text_field_embedder.token_embedder_tokens.transformer_model.encoder.layer.10.attention.self.query.weight\n",
      "2023-04-12 15:29:46,866 - INFO - allennlp.nn.initializers -    text_field_embedder.token_embedder_tokens.transformer_model.encoder.layer.10.attention.self.value.bias\n",
      "2023-04-12 15:29:46,866 - INFO - allennlp.nn.initializers -    text_field_embedder.token_embedder_tokens.transformer_model.encoder.layer.10.attention.self.value.weight\n",
      "2023-04-12 15:29:46,867 - INFO - allennlp.nn.initializers -    text_field_embedder.token_embedder_tokens.transformer_model.encoder.layer.10.intermediate.dense.bias\n",
      "2023-04-12 15:29:46,867 - INFO - allennlp.nn.initializers -    text_field_embedder.token_embedder_tokens.transformer_model.encoder.layer.10.intermediate.dense.weight\n",
      "2023-04-12 15:29:46,868 - INFO - allennlp.nn.initializers -    text_field_embedder.token_embedder_tokens.transformer_model.encoder.layer.10.output.LayerNorm.bias\n",
      "2023-04-12 15:29:46,868 - INFO - allennlp.nn.initializers -    text_field_embedder.token_embedder_tokens.transformer_model.encoder.layer.10.output.LayerNorm.weight\n",
      "2023-04-12 15:29:46,869 - INFO - allennlp.nn.initializers -    text_field_embedder.token_embedder_tokens.transformer_model.encoder.layer.10.output.dense.bias\n",
      "2023-04-12 15:29:46,869 - INFO - allennlp.nn.initializers -    text_field_embedder.token_embedder_tokens.transformer_model.encoder.layer.10.output.dense.weight\n",
      "2023-04-12 15:29:46,870 - INFO - allennlp.nn.initializers -    text_field_embedder.token_embedder_tokens.transformer_model.encoder.layer.11.attention.output.LayerNorm.bias\n",
      "2023-04-12 15:29:46,870 - INFO - allennlp.nn.initializers -    text_field_embedder.token_embedder_tokens.transformer_model.encoder.layer.11.attention.output.LayerNorm.weight\n",
      "2023-04-12 15:29:46,871 - INFO - allennlp.nn.initializers -    text_field_embedder.token_embedder_tokens.transformer_model.encoder.layer.11.attention.output.dense.bias\n",
      "2023-04-12 15:29:46,871 - INFO - allennlp.nn.initializers -    text_field_embedder.token_embedder_tokens.transformer_model.encoder.layer.11.attention.output.dense.weight\n",
      "2023-04-12 15:29:46,872 - INFO - allennlp.nn.initializers -    text_field_embedder.token_embedder_tokens.transformer_model.encoder.layer.11.attention.self.key.bias\n",
      "2023-04-12 15:29:46,873 - INFO - allennlp.nn.initializers -    text_field_embedder.token_embedder_tokens.transformer_model.encoder.layer.11.attention.self.key.weight\n",
      "2023-04-12 15:29:46,873 - INFO - allennlp.nn.initializers -    text_field_embedder.token_embedder_tokens.transformer_model.encoder.layer.11.attention.self.query.bias\n",
      "2023-04-12 15:29:46,874 - INFO - allennlp.nn.initializers -    text_field_embedder.token_embedder_tokens.transformer_model.encoder.layer.11.attention.self.query.weight\n",
      "2023-04-12 15:29:46,874 - INFO - allennlp.nn.initializers -    text_field_embedder.token_embedder_tokens.transformer_model.encoder.layer.11.attention.self.value.bias\n",
      "2023-04-12 15:29:46,875 - INFO - allennlp.nn.initializers -    text_field_embedder.token_embedder_tokens.transformer_model.encoder.layer.11.attention.self.value.weight\n",
      "2023-04-12 15:29:46,875 - INFO - allennlp.nn.initializers -    text_field_embedder.token_embedder_tokens.transformer_model.encoder.layer.11.intermediate.dense.bias\n",
      "2023-04-12 15:29:46,876 - INFO - allennlp.nn.initializers -    text_field_embedder.token_embedder_tokens.transformer_model.encoder.layer.11.intermediate.dense.weight\n",
      "2023-04-12 15:29:46,876 - INFO - allennlp.nn.initializers -    text_field_embedder.token_embedder_tokens.transformer_model.encoder.layer.11.output.LayerNorm.bias\n",
      "2023-04-12 15:29:46,877 - INFO - allennlp.nn.initializers -    text_field_embedder.token_embedder_tokens.transformer_model.encoder.layer.11.output.LayerNorm.weight\n",
      "2023-04-12 15:29:46,877 - INFO - allennlp.nn.initializers -    text_field_embedder.token_embedder_tokens.transformer_model.encoder.layer.11.output.dense.bias\n",
      "2023-04-12 15:29:46,878 - INFO - allennlp.nn.initializers -    text_field_embedder.token_embedder_tokens.transformer_model.encoder.layer.11.output.dense.weight\n",
      "2023-04-12 15:29:46,878 - INFO - allennlp.nn.initializers -    text_field_embedder.token_embedder_tokens.transformer_model.encoder.layer.2.attention.output.LayerNorm.bias\n",
      "2023-04-12 15:29:46,879 - INFO - allennlp.nn.initializers -    text_field_embedder.token_embedder_tokens.transformer_model.encoder.layer.2.attention.output.LayerNorm.weight\n",
      "2023-04-12 15:29:46,879 - INFO - allennlp.nn.initializers -    text_field_embedder.token_embedder_tokens.transformer_model.encoder.layer.2.attention.output.dense.bias\n",
      "2023-04-12 15:29:46,880 - INFO - allennlp.nn.initializers -    text_field_embedder.token_embedder_tokens.transformer_model.encoder.layer.2.attention.output.dense.weight\n",
      "2023-04-12 15:29:46,880 - INFO - allennlp.nn.initializers -    text_field_embedder.token_embedder_tokens.transformer_model.encoder.layer.2.attention.self.key.bias\n",
      "2023-04-12 15:29:46,881 - INFO - allennlp.nn.initializers -    text_field_embedder.token_embedder_tokens.transformer_model.encoder.layer.2.attention.self.key.weight\n",
      "2023-04-12 15:29:46,881 - INFO - allennlp.nn.initializers -    text_field_embedder.token_embedder_tokens.transformer_model.encoder.layer.2.attention.self.query.bias\n",
      "2023-04-12 15:29:46,882 - INFO - allennlp.nn.initializers -    text_field_embedder.token_embedder_tokens.transformer_model.encoder.layer.2.attention.self.query.weight\n",
      "2023-04-12 15:29:46,882 - INFO - allennlp.nn.initializers -    text_field_embedder.token_embedder_tokens.transformer_model.encoder.layer.2.attention.self.value.bias\n",
      "2023-04-12 15:29:46,883 - INFO - allennlp.nn.initializers -    text_field_embedder.token_embedder_tokens.transformer_model.encoder.layer.2.attention.self.value.weight\n",
      "2023-04-12 15:29:46,883 - INFO - allennlp.nn.initializers -    text_field_embedder.token_embedder_tokens.transformer_model.encoder.layer.2.intermediate.dense.bias\n",
      "2023-04-12 15:29:46,884 - INFO - allennlp.nn.initializers -    text_field_embedder.token_embedder_tokens.transformer_model.encoder.layer.2.intermediate.dense.weight\n"
     ]
    },
    {
     "name": "stdout",
     "output_type": "stream",
     "text": [
      "2023-04-12 15:29:46,884 - INFO - allennlp.nn.initializers -    text_field_embedder.token_embedder_tokens.transformer_model.encoder.layer.2.output.LayerNorm.bias\n",
      "2023-04-12 15:29:46,885 - INFO - allennlp.nn.initializers -    text_field_embedder.token_embedder_tokens.transformer_model.encoder.layer.2.output.LayerNorm.weight\n",
      "2023-04-12 15:29:46,885 - INFO - allennlp.nn.initializers -    text_field_embedder.token_embedder_tokens.transformer_model.encoder.layer.2.output.dense.bias\n",
      "2023-04-12 15:29:46,886 - INFO - allennlp.nn.initializers -    text_field_embedder.token_embedder_tokens.transformer_model.encoder.layer.2.output.dense.weight\n",
      "2023-04-12 15:29:46,886 - INFO - allennlp.nn.initializers -    text_field_embedder.token_embedder_tokens.transformer_model.encoder.layer.3.attention.output.LayerNorm.bias\n",
      "2023-04-12 15:29:46,887 - INFO - allennlp.nn.initializers -    text_field_embedder.token_embedder_tokens.transformer_model.encoder.layer.3.attention.output.LayerNorm.weight\n",
      "2023-04-12 15:29:46,887 - INFO - allennlp.nn.initializers -    text_field_embedder.token_embedder_tokens.transformer_model.encoder.layer.3.attention.output.dense.bias\n",
      "2023-04-12 15:29:46,888 - INFO - allennlp.nn.initializers -    text_field_embedder.token_embedder_tokens.transformer_model.encoder.layer.3.attention.output.dense.weight\n",
      "2023-04-12 15:29:46,888 - INFO - allennlp.nn.initializers -    text_field_embedder.token_embedder_tokens.transformer_model.encoder.layer.3.attention.self.key.bias\n",
      "2023-04-12 15:29:46,889 - INFO - allennlp.nn.initializers -    text_field_embedder.token_embedder_tokens.transformer_model.encoder.layer.3.attention.self.key.weight\n",
      "2023-04-12 15:29:46,889 - INFO - allennlp.nn.initializers -    text_field_embedder.token_embedder_tokens.transformer_model.encoder.layer.3.attention.self.query.bias\n",
      "2023-04-12 15:29:46,890 - INFO - allennlp.nn.initializers -    text_field_embedder.token_embedder_tokens.transformer_model.encoder.layer.3.attention.self.query.weight\n",
      "2023-04-12 15:29:46,890 - INFO - allennlp.nn.initializers -    text_field_embedder.token_embedder_tokens.transformer_model.encoder.layer.3.attention.self.value.bias\n",
      "2023-04-12 15:29:46,891 - INFO - allennlp.nn.initializers -    text_field_embedder.token_embedder_tokens.transformer_model.encoder.layer.3.attention.self.value.weight\n",
      "2023-04-12 15:29:46,891 - INFO - allennlp.nn.initializers -    text_field_embedder.token_embedder_tokens.transformer_model.encoder.layer.3.intermediate.dense.bias\n",
      "2023-04-12 15:29:46,892 - INFO - allennlp.nn.initializers -    text_field_embedder.token_embedder_tokens.transformer_model.encoder.layer.3.intermediate.dense.weight\n",
      "2023-04-12 15:29:46,892 - INFO - allennlp.nn.initializers -    text_field_embedder.token_embedder_tokens.transformer_model.encoder.layer.3.output.LayerNorm.bias\n",
      "2023-04-12 15:29:46,893 - INFO - allennlp.nn.initializers -    text_field_embedder.token_embedder_tokens.transformer_model.encoder.layer.3.output.LayerNorm.weight\n",
      "2023-04-12 15:29:46,893 - INFO - allennlp.nn.initializers -    text_field_embedder.token_embedder_tokens.transformer_model.encoder.layer.3.output.dense.bias\n",
      "2023-04-12 15:29:46,894 - INFO - allennlp.nn.initializers -    text_field_embedder.token_embedder_tokens.transformer_model.encoder.layer.3.output.dense.weight\n",
      "2023-04-12 15:29:46,894 - INFO - allennlp.nn.initializers -    text_field_embedder.token_embedder_tokens.transformer_model.encoder.layer.4.attention.output.LayerNorm.bias\n",
      "2023-04-12 15:29:46,895 - INFO - allennlp.nn.initializers -    text_field_embedder.token_embedder_tokens.transformer_model.encoder.layer.4.attention.output.LayerNorm.weight\n",
      "2023-04-12 15:29:46,895 - INFO - allennlp.nn.initializers -    text_field_embedder.token_embedder_tokens.transformer_model.encoder.layer.4.attention.output.dense.bias\n",
      "2023-04-12 15:29:46,896 - INFO - allennlp.nn.initializers -    text_field_embedder.token_embedder_tokens.transformer_model.encoder.layer.4.attention.output.dense.weight\n",
      "2023-04-12 15:29:46,896 - INFO - allennlp.nn.initializers -    text_field_embedder.token_embedder_tokens.transformer_model.encoder.layer.4.attention.self.key.bias\n",
      "2023-04-12 15:29:46,897 - INFO - allennlp.nn.initializers -    text_field_embedder.token_embedder_tokens.transformer_model.encoder.layer.4.attention.self.key.weight\n",
      "2023-04-12 15:29:46,897 - INFO - allennlp.nn.initializers -    text_field_embedder.token_embedder_tokens.transformer_model.encoder.layer.4.attention.self.query.bias\n",
      "2023-04-12 15:29:46,898 - INFO - allennlp.nn.initializers -    text_field_embedder.token_embedder_tokens.transformer_model.encoder.layer.4.attention.self.query.weight\n",
      "2023-04-12 15:29:46,898 - INFO - allennlp.nn.initializers -    text_field_embedder.token_embedder_tokens.transformer_model.encoder.layer.4.attention.self.value.bias\n",
      "2023-04-12 15:29:46,899 - INFO - allennlp.nn.initializers -    text_field_embedder.token_embedder_tokens.transformer_model.encoder.layer.4.attention.self.value.weight\n",
      "2023-04-12 15:29:46,899 - INFO - allennlp.nn.initializers -    text_field_embedder.token_embedder_tokens.transformer_model.encoder.layer.4.intermediate.dense.bias\n",
      "2023-04-12 15:29:46,900 - INFO - allennlp.nn.initializers -    text_field_embedder.token_embedder_tokens.transformer_model.encoder.layer.4.intermediate.dense.weight\n",
      "2023-04-12 15:29:46,901 - INFO - allennlp.nn.initializers -    text_field_embedder.token_embedder_tokens.transformer_model.encoder.layer.4.output.LayerNorm.bias\n",
      "2023-04-12 15:29:46,901 - INFO - allennlp.nn.initializers -    text_field_embedder.token_embedder_tokens.transformer_model.encoder.layer.4.output.LayerNorm.weight\n",
      "2023-04-12 15:29:46,902 - INFO - allennlp.nn.initializers -    text_field_embedder.token_embedder_tokens.transformer_model.encoder.layer.4.output.dense.bias\n",
      "2023-04-12 15:29:46,902 - INFO - allennlp.nn.initializers -    text_field_embedder.token_embedder_tokens.transformer_model.encoder.layer.4.output.dense.weight\n",
      "2023-04-12 15:29:46,902 - INFO - allennlp.nn.initializers -    text_field_embedder.token_embedder_tokens.transformer_model.encoder.layer.5.attention.output.LayerNorm.bias\n",
      "2023-04-12 15:29:46,903 - INFO - allennlp.nn.initializers -    text_field_embedder.token_embedder_tokens.transformer_model.encoder.layer.5.attention.output.LayerNorm.weight\n",
      "2023-04-12 15:29:46,903 - INFO - allennlp.nn.initializers -    text_field_embedder.token_embedder_tokens.transformer_model.encoder.layer.5.attention.output.dense.bias\n",
      "2023-04-12 15:29:46,904 - INFO - allennlp.nn.initializers -    text_field_embedder.token_embedder_tokens.transformer_model.encoder.layer.5.attention.output.dense.weight\n",
      "2023-04-12 15:29:46,904 - INFO - allennlp.nn.initializers -    text_field_embedder.token_embedder_tokens.transformer_model.encoder.layer.5.attention.self.key.bias\n",
      "2023-04-12 15:29:46,905 - INFO - allennlp.nn.initializers -    text_field_embedder.token_embedder_tokens.transformer_model.encoder.layer.5.attention.self.key.weight\n",
      "2023-04-12 15:29:46,905 - INFO - allennlp.nn.initializers -    text_field_embedder.token_embedder_tokens.transformer_model.encoder.layer.5.attention.self.query.bias\n",
      "2023-04-12 15:29:46,906 - INFO - allennlp.nn.initializers -    text_field_embedder.token_embedder_tokens.transformer_model.encoder.layer.5.attention.self.query.weight\n",
      "2023-04-12 15:29:46,906 - INFO - allennlp.nn.initializers -    text_field_embedder.token_embedder_tokens.transformer_model.encoder.layer.5.attention.self.value.bias\n",
      "2023-04-12 15:29:46,907 - INFO - allennlp.nn.initializers -    text_field_embedder.token_embedder_tokens.transformer_model.encoder.layer.5.attention.self.value.weight\n",
      "2023-04-12 15:29:46,907 - INFO - allennlp.nn.initializers -    text_field_embedder.token_embedder_tokens.transformer_model.encoder.layer.5.intermediate.dense.bias\n",
      "2023-04-12 15:29:46,908 - INFO - allennlp.nn.initializers -    text_field_embedder.token_embedder_tokens.transformer_model.encoder.layer.5.intermediate.dense.weight\n",
      "2023-04-12 15:29:46,908 - INFO - allennlp.nn.initializers -    text_field_embedder.token_embedder_tokens.transformer_model.encoder.layer.5.output.LayerNorm.bias\n",
      "2023-04-12 15:29:46,909 - INFO - allennlp.nn.initializers -    text_field_embedder.token_embedder_tokens.transformer_model.encoder.layer.5.output.LayerNorm.weight\n"
     ]
    },
    {
     "name": "stdout",
     "output_type": "stream",
     "text": [
      "2023-04-12 15:29:46,910 - INFO - allennlp.nn.initializers -    text_field_embedder.token_embedder_tokens.transformer_model.encoder.layer.5.output.dense.bias\n",
      "2023-04-12 15:29:46,910 - INFO - allennlp.nn.initializers -    text_field_embedder.token_embedder_tokens.transformer_model.encoder.layer.5.output.dense.weight\n",
      "2023-04-12 15:29:46,911 - INFO - allennlp.nn.initializers -    text_field_embedder.token_embedder_tokens.transformer_model.encoder.layer.6.attention.output.LayerNorm.bias\n",
      "2023-04-12 15:29:46,911 - INFO - allennlp.nn.initializers -    text_field_embedder.token_embedder_tokens.transformer_model.encoder.layer.6.attention.output.LayerNorm.weight\n",
      "2023-04-12 15:29:46,911 - INFO - allennlp.nn.initializers -    text_field_embedder.token_embedder_tokens.transformer_model.encoder.layer.6.attention.output.dense.bias\n",
      "2023-04-12 15:29:46,912 - INFO - allennlp.nn.initializers -    text_field_embedder.token_embedder_tokens.transformer_model.encoder.layer.6.attention.output.dense.weight\n",
      "2023-04-12 15:29:46,913 - INFO - allennlp.nn.initializers -    text_field_embedder.token_embedder_tokens.transformer_model.encoder.layer.6.attention.self.key.bias\n",
      "2023-04-12 15:29:46,913 - INFO - allennlp.nn.initializers -    text_field_embedder.token_embedder_tokens.transformer_model.encoder.layer.6.attention.self.key.weight\n",
      "2023-04-12 15:29:46,914 - INFO - allennlp.nn.initializers -    text_field_embedder.token_embedder_tokens.transformer_model.encoder.layer.6.attention.self.query.bias\n",
      "2023-04-12 15:29:46,914 - INFO - allennlp.nn.initializers -    text_field_embedder.token_embedder_tokens.transformer_model.encoder.layer.6.attention.self.query.weight\n",
      "2023-04-12 15:29:46,915 - INFO - allennlp.nn.initializers -    text_field_embedder.token_embedder_tokens.transformer_model.encoder.layer.6.attention.self.value.bias\n",
      "2023-04-12 15:29:46,915 - INFO - allennlp.nn.initializers -    text_field_embedder.token_embedder_tokens.transformer_model.encoder.layer.6.attention.self.value.weight\n",
      "2023-04-12 15:29:46,916 - INFO - allennlp.nn.initializers -    text_field_embedder.token_embedder_tokens.transformer_model.encoder.layer.6.intermediate.dense.bias\n",
      "2023-04-12 15:29:46,916 - INFO - allennlp.nn.initializers -    text_field_embedder.token_embedder_tokens.transformer_model.encoder.layer.6.intermediate.dense.weight\n",
      "2023-04-12 15:29:46,917 - INFO - allennlp.nn.initializers -    text_field_embedder.token_embedder_tokens.transformer_model.encoder.layer.6.output.LayerNorm.bias\n",
      "2023-04-12 15:29:46,917 - INFO - allennlp.nn.initializers -    text_field_embedder.token_embedder_tokens.transformer_model.encoder.layer.6.output.LayerNorm.weight\n",
      "2023-04-12 15:29:46,918 - INFO - allennlp.nn.initializers -    text_field_embedder.token_embedder_tokens.transformer_model.encoder.layer.6.output.dense.bias\n",
      "2023-04-12 15:29:46,918 - INFO - allennlp.nn.initializers -    text_field_embedder.token_embedder_tokens.transformer_model.encoder.layer.6.output.dense.weight\n",
      "2023-04-12 15:29:46,918 - INFO - allennlp.nn.initializers -    text_field_embedder.token_embedder_tokens.transformer_model.encoder.layer.7.attention.output.LayerNorm.bias\n",
      "2023-04-12 15:29:46,919 - INFO - allennlp.nn.initializers -    text_field_embedder.token_embedder_tokens.transformer_model.encoder.layer.7.attention.output.LayerNorm.weight\n",
      "2023-04-12 15:29:46,920 - INFO - allennlp.nn.initializers -    text_field_embedder.token_embedder_tokens.transformer_model.encoder.layer.7.attention.output.dense.bias\n",
      "2023-04-12 15:29:46,920 - INFO - allennlp.nn.initializers -    text_field_embedder.token_embedder_tokens.transformer_model.encoder.layer.7.attention.output.dense.weight\n",
      "2023-04-12 15:29:46,921 - INFO - allennlp.nn.initializers -    text_field_embedder.token_embedder_tokens.transformer_model.encoder.layer.7.attention.self.key.bias\n",
      "2023-04-12 15:29:46,921 - INFO - allennlp.nn.initializers -    text_field_embedder.token_embedder_tokens.transformer_model.encoder.layer.7.attention.self.key.weight\n",
      "2023-04-12 15:29:46,922 - INFO - allennlp.nn.initializers -    text_field_embedder.token_embedder_tokens.transformer_model.encoder.layer.7.attention.self.query.bias\n",
      "2023-04-12 15:29:46,922 - INFO - allennlp.nn.initializers -    text_field_embedder.token_embedder_tokens.transformer_model.encoder.layer.7.attention.self.query.weight\n",
      "2023-04-12 15:29:46,923 - INFO - allennlp.nn.initializers -    text_field_embedder.token_embedder_tokens.transformer_model.encoder.layer.7.attention.self.value.bias\n",
      "2023-04-12 15:29:46,923 - INFO - allennlp.nn.initializers -    text_field_embedder.token_embedder_tokens.transformer_model.encoder.layer.7.attention.self.value.weight\n",
      "2023-04-12 15:29:46,924 - INFO - allennlp.nn.initializers -    text_field_embedder.token_embedder_tokens.transformer_model.encoder.layer.7.intermediate.dense.bias\n",
      "2023-04-12 15:29:46,924 - INFO - allennlp.nn.initializers -    text_field_embedder.token_embedder_tokens.transformer_model.encoder.layer.7.intermediate.dense.weight\n",
      "2023-04-12 15:29:46,925 - INFO - allennlp.nn.initializers -    text_field_embedder.token_embedder_tokens.transformer_model.encoder.layer.7.output.LayerNorm.bias\n",
      "2023-04-12 15:29:46,925 - INFO - allennlp.nn.initializers -    text_field_embedder.token_embedder_tokens.transformer_model.encoder.layer.7.output.LayerNorm.weight\n",
      "2023-04-12 15:29:46,926 - INFO - allennlp.nn.initializers -    text_field_embedder.token_embedder_tokens.transformer_model.encoder.layer.7.output.dense.bias\n",
      "2023-04-12 15:29:46,926 - INFO - allennlp.nn.initializers -    text_field_embedder.token_embedder_tokens.transformer_model.encoder.layer.7.output.dense.weight\n",
      "2023-04-12 15:29:46,927 - INFO - allennlp.nn.initializers -    text_field_embedder.token_embedder_tokens.transformer_model.encoder.layer.8.attention.output.LayerNorm.bias\n",
      "2023-04-12 15:29:46,927 - INFO - allennlp.nn.initializers -    text_field_embedder.token_embedder_tokens.transformer_model.encoder.layer.8.attention.output.LayerNorm.weight\n",
      "2023-04-12 15:29:46,928 - INFO - allennlp.nn.initializers -    text_field_embedder.token_embedder_tokens.transformer_model.encoder.layer.8.attention.output.dense.bias\n",
      "2023-04-12 15:29:46,928 - INFO - allennlp.nn.initializers -    text_field_embedder.token_embedder_tokens.transformer_model.encoder.layer.8.attention.output.dense.weight\n",
      "2023-04-12 15:29:46,929 - INFO - allennlp.nn.initializers -    text_field_embedder.token_embedder_tokens.transformer_model.encoder.layer.8.attention.self.key.bias\n",
      "2023-04-12 15:29:46,929 - INFO - allennlp.nn.initializers -    text_field_embedder.token_embedder_tokens.transformer_model.encoder.layer.8.attention.self.key.weight\n",
      "2023-04-12 15:29:46,930 - INFO - allennlp.nn.initializers -    text_field_embedder.token_embedder_tokens.transformer_model.encoder.layer.8.attention.self.query.bias\n",
      "2023-04-12 15:29:46,930 - INFO - allennlp.nn.initializers -    text_field_embedder.token_embedder_tokens.transformer_model.encoder.layer.8.attention.self.query.weight\n",
      "2023-04-12 15:29:46,931 - INFO - allennlp.nn.initializers -    text_field_embedder.token_embedder_tokens.transformer_model.encoder.layer.8.attention.self.value.bias\n",
      "2023-04-12 15:29:46,931 - INFO - allennlp.nn.initializers -    text_field_embedder.token_embedder_tokens.transformer_model.encoder.layer.8.attention.self.value.weight\n",
      "2023-04-12 15:29:46,932 - INFO - allennlp.nn.initializers -    text_field_embedder.token_embedder_tokens.transformer_model.encoder.layer.8.intermediate.dense.bias\n",
      "2023-04-12 15:29:46,932 - INFO - allennlp.nn.initializers -    text_field_embedder.token_embedder_tokens.transformer_model.encoder.layer.8.intermediate.dense.weight\n",
      "2023-04-12 15:29:46,933 - INFO - allennlp.nn.initializers -    text_field_embedder.token_embedder_tokens.transformer_model.encoder.layer.8.output.LayerNorm.bias\n",
      "2023-04-12 15:29:46,933 - INFO - allennlp.nn.initializers -    text_field_embedder.token_embedder_tokens.transformer_model.encoder.layer.8.output.LayerNorm.weight\n",
      "2023-04-12 15:29:46,934 - INFO - allennlp.nn.initializers -    text_field_embedder.token_embedder_tokens.transformer_model.encoder.layer.8.output.dense.bias\n",
      "2023-04-12 15:29:46,934 - INFO - allennlp.nn.initializers -    text_field_embedder.token_embedder_tokens.transformer_model.encoder.layer.8.output.dense.weight\n"
     ]
    },
    {
     "name": "stdout",
     "output_type": "stream",
     "text": [
      "2023-04-12 15:29:46,935 - INFO - allennlp.nn.initializers -    text_field_embedder.token_embedder_tokens.transformer_model.encoder.layer.9.attention.output.LayerNorm.bias\n",
      "2023-04-12 15:29:46,935 - INFO - allennlp.nn.initializers -    text_field_embedder.token_embedder_tokens.transformer_model.encoder.layer.9.attention.output.LayerNorm.weight\n",
      "2023-04-12 15:29:46,936 - INFO - allennlp.nn.initializers -    text_field_embedder.token_embedder_tokens.transformer_model.encoder.layer.9.attention.output.dense.bias\n",
      "2023-04-12 15:29:46,936 - INFO - allennlp.nn.initializers -    text_field_embedder.token_embedder_tokens.transformer_model.encoder.layer.9.attention.output.dense.weight\n",
      "2023-04-12 15:29:46,937 - INFO - allennlp.nn.initializers -    text_field_embedder.token_embedder_tokens.transformer_model.encoder.layer.9.attention.self.key.bias\n",
      "2023-04-12 15:29:46,937 - INFO - allennlp.nn.initializers -    text_field_embedder.token_embedder_tokens.transformer_model.encoder.layer.9.attention.self.key.weight\n",
      "2023-04-12 15:29:46,938 - INFO - allennlp.nn.initializers -    text_field_embedder.token_embedder_tokens.transformer_model.encoder.layer.9.attention.self.query.bias\n",
      "2023-04-12 15:29:46,938 - INFO - allennlp.nn.initializers -    text_field_embedder.token_embedder_tokens.transformer_model.encoder.layer.9.attention.self.query.weight\n",
      "2023-04-12 15:29:46,939 - INFO - allennlp.nn.initializers -    text_field_embedder.token_embedder_tokens.transformer_model.encoder.layer.9.attention.self.value.bias\n",
      "2023-04-12 15:29:46,939 - INFO - allennlp.nn.initializers -    text_field_embedder.token_embedder_tokens.transformer_model.encoder.layer.9.attention.self.value.weight\n",
      "2023-04-12 15:29:46,940 - INFO - allennlp.nn.initializers -    text_field_embedder.token_embedder_tokens.transformer_model.encoder.layer.9.intermediate.dense.bias\n",
      "2023-04-12 15:29:46,940 - INFO - allennlp.nn.initializers -    text_field_embedder.token_embedder_tokens.transformer_model.encoder.layer.9.intermediate.dense.weight\n",
      "2023-04-12 15:29:46,941 - INFO - allennlp.nn.initializers -    text_field_embedder.token_embedder_tokens.transformer_model.encoder.layer.9.output.LayerNorm.bias\n",
      "2023-04-12 15:29:46,941 - INFO - allennlp.nn.initializers -    text_field_embedder.token_embedder_tokens.transformer_model.encoder.layer.9.output.LayerNorm.weight\n",
      "2023-04-12 15:29:46,942 - INFO - allennlp.nn.initializers -    text_field_embedder.token_embedder_tokens.transformer_model.encoder.layer.9.output.dense.bias\n",
      "2023-04-12 15:29:46,942 - INFO - allennlp.nn.initializers -    text_field_embedder.token_embedder_tokens.transformer_model.encoder.layer.9.output.dense.weight\n",
      "2023-04-12 15:29:46,943 - INFO - allennlp.nn.initializers -    text_field_embedder.token_embedder_tokens.transformer_model.pooler.dense.bias\n",
      "2023-04-12 15:29:46,943 - INFO - allennlp.nn.initializers -    text_field_embedder.token_embedder_tokens.transformer_model.pooler.dense.weight\n",
      "2023-04-12 15:29:47,296 - INFO - allennlp.models.archival - removing temporary unarchived model dir at /var/folders/lp/l_mzhpjs6bg95plfkl_n_vsc0000gn/T/tmp421ghaxv\n",
      "2023-04-12 15:29:47,325 - INFO - allennlp.models.archival - loading archive file /Users/rubenkruiper/dev/irec/SPaR.txt/trained_models/debugger_train/model.tar.gz from cache at /Users/rubenkruiper/dev/irec/SPaR.txt/trained_models/debugger_train/model.tar.gz\n",
      "2023-04-12 15:29:47,326 - INFO - allennlp.models.archival - extracting archive file /Users/rubenkruiper/dev/irec/SPaR.txt/trained_models/debugger_train/model.tar.gz to temp dir /var/folders/lp/l_mzhpjs6bg95plfkl_n_vsc0000gn/T/tmpgs2z04q5\n",
      "2023-04-12 15:29:49,877 - INFO - allennlp.common.params - dataset_reader.type = tag_reader\n",
      "2023-04-12 15:29:49,878 - INFO - allennlp.common.params - dataset_reader.max_instances = None\n",
      "2023-04-12 15:29:49,879 - INFO - allennlp.common.params - dataset_reader.manual_distributed_sharding = False\n",
      "2023-04-12 15:29:49,880 - INFO - allennlp.common.params - dataset_reader.manual_multiprocess_sharding = False\n",
      "2023-04-12 15:29:49,881 - INFO - allennlp.common.params - dataset_reader.bert_model_name = bert-base-cased\n",
      "2023-04-12 15:29:49,882 - INFO - allennlp.common.params - dataset_reader.token_indexers.tokens.type = pretrained_transformer\n",
      "2023-04-12 15:29:49,882 - INFO - allennlp.common.params - dataset_reader.token_indexers.tokens.token_min_padding_length = 0\n",
      "2023-04-12 15:29:49,883 - INFO - allennlp.common.params - dataset_reader.token_indexers.tokens.model_name = bert-base-cased\n",
      "2023-04-12 15:29:49,884 - INFO - allennlp.common.params - dataset_reader.token_indexers.tokens.namespace = tags\n",
      "2023-04-12 15:29:49,884 - INFO - allennlp.common.params - dataset_reader.token_indexers.tokens.max_length = 512\n",
      "2023-04-12 15:29:49,885 - INFO - allennlp.common.params - dataset_reader.token_indexers.tokens.tokenizer_kwargs.use_fast = False\n",
      "2023-04-12 15:29:49,887 - INFO - allennlp.common.params - dataset_reader.type = tag_reader\n",
      "2023-04-12 15:29:49,888 - INFO - allennlp.common.params - dataset_reader.max_instances = None\n",
      "2023-04-12 15:29:49,888 - INFO - allennlp.common.params - dataset_reader.manual_distributed_sharding = False\n",
      "2023-04-12 15:29:49,889 - INFO - allennlp.common.params - dataset_reader.manual_multiprocess_sharding = False\n",
      "2023-04-12 15:29:49,889 - INFO - allennlp.common.params - dataset_reader.bert_model_name = bert-base-cased\n",
      "2023-04-12 15:29:49,890 - INFO - allennlp.common.params - dataset_reader.token_indexers.tokens.type = pretrained_transformer\n",
      "2023-04-12 15:29:49,891 - INFO - allennlp.common.params - dataset_reader.token_indexers.tokens.token_min_padding_length = 0\n",
      "2023-04-12 15:29:49,891 - INFO - allennlp.common.params - dataset_reader.token_indexers.tokens.model_name = bert-base-cased\n",
      "2023-04-12 15:29:49,892 - INFO - allennlp.common.params - dataset_reader.token_indexers.tokens.namespace = tags\n",
      "2023-04-12 15:29:49,892 - INFO - allennlp.common.params - dataset_reader.token_indexers.tokens.max_length = 512\n",
      "2023-04-12 15:29:49,893 - INFO - allennlp.common.params - dataset_reader.token_indexers.tokens.tokenizer_kwargs.use_fast = False\n",
      "2023-04-12 15:29:49,894 - INFO - allennlp.common.params - type = from_instances\n",
      "2023-04-12 15:29:49,895 - INFO - allennlp.data.vocabulary - Loading token dictionary from /var/folders/lp/l_mzhpjs6bg95plfkl_n_vsc0000gn/T/tmpgs2z04q5/vocabulary.\n",
      "2023-04-12 15:29:49,896 - INFO - filelock - Lock 140613798104944 acquired on /var/folders/lp/l_mzhpjs6bg95plfkl_n_vsc0000gn/T/tmpgs2z04q5/vocabulary/.lock\n",
      "2023-04-12 15:29:49,897 - INFO - filelock - Lock 140613798104944 released on /var/folders/lp/l_mzhpjs6bg95plfkl_n_vsc0000gn/T/tmpgs2z04q5/vocabulary/.lock\n",
      "2023-04-12 15:29:49,898 - INFO - allennlp.common.params - model.type = attention_tagger\n",
      "2023-04-12 15:29:49,899 - INFO - allennlp.common.params - model.regularizer = None\n",
      "2023-04-12 15:29:49,899 - INFO - allennlp.common.params - model.text_field_embedder.type = basic\n",
      "2023-04-12 15:29:49,900 - INFO - allennlp.common.params - model.text_field_embedder.token_embedders.tokens.type = pretrained_transformer\n",
      "2023-04-12 15:29:49,901 - INFO - allennlp.common.params - model.text_field_embedder.token_embedders.tokens.model_name = bert-base-cased\n",
      "2023-04-12 15:29:49,901 - INFO - allennlp.common.params - model.text_field_embedder.token_embedders.tokens.max_length = 512\n",
      "2023-04-12 15:29:49,902 - INFO - allennlp.common.params - model.text_field_embedder.token_embedders.tokens.sub_module = None\n",
      "2023-04-12 15:29:49,902 - INFO - allennlp.common.params - model.text_field_embedder.token_embedders.tokens.train_parameters = False\n",
      "2023-04-12 15:29:49,903 - INFO - allennlp.common.params - model.text_field_embedder.token_embedders.tokens.eval_mode = False\n",
      "2023-04-12 15:29:49,903 - INFO - allennlp.common.params - model.text_field_embedder.token_embedders.tokens.last_layer_only = True\n",
      "2023-04-12 15:29:49,904 - INFO - allennlp.common.params - model.text_field_embedder.token_embedders.tokens.override_weights_file = None\n",
      "2023-04-12 15:29:49,904 - INFO - allennlp.common.params - model.text_field_embedder.token_embedders.tokens.override_weights_strip_prefix = None\n",
      "2023-04-12 15:29:49,905 - INFO - allennlp.common.params - model.text_field_embedder.token_embedders.tokens.load_weights = True\n"
     ]
    },
    {
     "name": "stdout",
     "output_type": "stream",
     "text": [
      "2023-04-12 15:29:49,906 - INFO - allennlp.common.params - model.text_field_embedder.token_embedders.tokens.gradient_checkpointing = None\n",
      "2023-04-12 15:29:49,906 - INFO - allennlp.common.params - model.text_field_embedder.token_embedders.tokens.tokenizer_kwargs.use_fast = False\n",
      "2023-04-12 15:29:49,907 - INFO - allennlp.common.params - model.text_field_embedder.token_embedders.tokens.transformer_kwargs = None\n",
      "2023-04-12 15:29:50,034 - INFO - allennlp.common.params - model.encoder.type = lstm\n",
      "2023-04-12 15:29:50,035 - INFO - allennlp.common.params - model.encoder.input_size = 768\n",
      "2023-04-12 15:29:50,036 - INFO - allennlp.common.params - model.encoder.hidden_size = 384\n",
      "2023-04-12 15:29:50,036 - INFO - allennlp.common.params - model.encoder.num_layers = 1\n",
      "2023-04-12 15:29:50,037 - INFO - allennlp.common.params - model.encoder.bias = True\n",
      "2023-04-12 15:29:50,038 - INFO - allennlp.common.params - model.encoder.dropout = 0.0\n",
      "2023-04-12 15:29:50,039 - INFO - allennlp.common.params - model.encoder.bidirectional = True\n",
      "2023-04-12 15:29:50,040 - INFO - allennlp.common.params - model.encoder.stateful = False\n",
      "2023-04-12 15:29:50,055 - INFO - allennlp.common.params - model.label_namespace = labels\n",
      "2023-04-12 15:29:50,056 - INFO - allennlp.common.params - model.feedforward.input_dim = 1536\n",
      "2023-04-12 15:29:50,056 - INFO - allennlp.common.params - model.feedforward.num_layers = 1\n",
      "2023-04-12 15:29:50,057 - INFO - allennlp.common.params - model.feedforward.hidden_dims = 60\n",
      "2023-04-12 15:29:50,058 - INFO - allennlp.common.params - model.feedforward.activations = relu\n",
      "2023-04-12 15:29:50,059 - INFO - allennlp.common.params - type = relu\n",
      "2023-04-12 15:29:50,059 - INFO - allennlp.common.params - model.feedforward.dropout = 0.05\n",
      "2023-04-12 15:29:50,061 - INFO - allennlp.common.params - model.label_encoding = DiscontiguousTest\n",
      "2023-04-12 15:29:50,062 - INFO - allennlp.common.params - model.include_start_end_transitions = False\n",
      "2023-04-12 15:29:50,062 - INFO - allennlp.common.params - model.constrain_crf_decoding = None\n",
      "2023-04-12 15:29:50,063 - INFO - allennlp.common.params - model.calculate_span_f1 = None\n",
      "2023-04-12 15:29:50,063 - INFO - allennlp.common.params - model.dropout = 0.05\n",
      "2023-04-12 15:29:50,064 - INFO - allennlp.common.params - model.verbose_metrics = False\n",
      "2023-04-12 15:29:50,065 - INFO - allennlp.common.params - model.initializer = <allennlp.nn.initializers.InitializerApplicator object at 0x7fe3bbdf5f10>\n",
      "2023-04-12 15:29:50,065 - INFO - allennlp.common.params - model.top_k = 1\n",
      "2023-04-12 15:29:50,066 - INFO - allennlp.common.params - model.ignore_loss_on_o_tags = False\n",
      "2023-04-12 15:29:50,080 - INFO - allennlp.nn.initializers - Initializing parameters\n",
      "2023-04-12 15:29:50,081 - INFO - allennlp.nn.initializers - Done initializing parameters; the following parameters are using their default initialization from their code\n",
      "2023-04-12 15:29:50,082 - INFO - allennlp.nn.initializers -    _attention.Er\n",
      "2023-04-12 15:29:50,082 - INFO - allennlp.nn.initializers -    _attention.key.bias\n",
      "2023-04-12 15:29:50,083 - INFO - allennlp.nn.initializers -    _attention.key.weight\n",
      "2023-04-12 15:29:50,083 - INFO - allennlp.nn.initializers -    _attention.query.bias\n",
      "2023-04-12 15:29:50,084 - INFO - allennlp.nn.initializers -    _attention.query.weight\n",
      "2023-04-12 15:29:50,085 - INFO - allennlp.nn.initializers -    _attention.value.bias\n",
      "2023-04-12 15:29:50,085 - INFO - allennlp.nn.initializers -    _attention.value.weight\n",
      "2023-04-12 15:29:50,086 - INFO - allennlp.nn.initializers -    _feedforward._linear_layers.0.bias\n",
      "2023-04-12 15:29:50,087 - INFO - allennlp.nn.initializers -    _feedforward._linear_layers.0.weight\n",
      "2023-04-12 15:29:50,087 - INFO - allennlp.nn.initializers -    crf._constraint_mask\n",
      "2023-04-12 15:29:50,088 - INFO - allennlp.nn.initializers -    crf.transitions\n",
      "2023-04-12 15:29:50,088 - INFO - allennlp.nn.initializers -    encoder._module.bias_hh_l0\n",
      "2023-04-12 15:29:50,089 - INFO - allennlp.nn.initializers -    encoder._module.bias_hh_l0_reverse\n",
      "2023-04-12 15:29:50,089 - INFO - allennlp.nn.initializers -    encoder._module.bias_ih_l0\n",
      "2023-04-12 15:29:50,090 - INFO - allennlp.nn.initializers -    encoder._module.bias_ih_l0_reverse\n",
      "2023-04-12 15:29:50,090 - INFO - allennlp.nn.initializers -    encoder._module.weight_hh_l0\n",
      "2023-04-12 15:29:50,091 - INFO - allennlp.nn.initializers -    encoder._module.weight_hh_l0_reverse\n",
      "2023-04-12 15:29:50,091 - INFO - allennlp.nn.initializers -    encoder._module.weight_ih_l0\n",
      "2023-04-12 15:29:50,092 - INFO - allennlp.nn.initializers -    encoder._module.weight_ih_l0_reverse\n",
      "2023-04-12 15:29:50,092 - INFO - allennlp.nn.initializers -    tag_projection_layer._module.bias\n",
      "2023-04-12 15:29:50,093 - INFO - allennlp.nn.initializers -    tag_projection_layer._module.weight\n",
      "2023-04-12 15:29:50,093 - INFO - allennlp.nn.initializers -    text_field_embedder.token_embedder_tokens.transformer_model.embeddings.LayerNorm.bias\n",
      "2023-04-12 15:29:50,094 - INFO - allennlp.nn.initializers -    text_field_embedder.token_embedder_tokens.transformer_model.embeddings.LayerNorm.weight\n",
      "2023-04-12 15:29:50,094 - INFO - allennlp.nn.initializers -    text_field_embedder.token_embedder_tokens.transformer_model.embeddings.position_embeddings.weight\n",
      "2023-04-12 15:29:50,095 - INFO - allennlp.nn.initializers -    text_field_embedder.token_embedder_tokens.transformer_model.embeddings.token_type_embeddings.weight\n",
      "2023-04-12 15:29:50,095 - INFO - allennlp.nn.initializers -    text_field_embedder.token_embedder_tokens.transformer_model.embeddings.word_embeddings.weight\n",
      "2023-04-12 15:29:50,096 - INFO - allennlp.nn.initializers -    text_field_embedder.token_embedder_tokens.transformer_model.encoder.layer.0.attention.output.LayerNorm.bias\n",
      "2023-04-12 15:29:50,096 - INFO - allennlp.nn.initializers -    text_field_embedder.token_embedder_tokens.transformer_model.encoder.layer.0.attention.output.LayerNorm.weight\n",
      "2023-04-12 15:29:50,097 - INFO - allennlp.nn.initializers -    text_field_embedder.token_embedder_tokens.transformer_model.encoder.layer.0.attention.output.dense.bias\n",
      "2023-04-12 15:29:50,097 - INFO - allennlp.nn.initializers -    text_field_embedder.token_embedder_tokens.transformer_model.encoder.layer.0.attention.output.dense.weight\n",
      "2023-04-12 15:29:50,098 - INFO - allennlp.nn.initializers -    text_field_embedder.token_embedder_tokens.transformer_model.encoder.layer.0.attention.self.key.bias\n",
      "2023-04-12 15:29:50,098 - INFO - allennlp.nn.initializers -    text_field_embedder.token_embedder_tokens.transformer_model.encoder.layer.0.attention.self.key.weight\n",
      "2023-04-12 15:29:50,098 - INFO - allennlp.nn.initializers -    text_field_embedder.token_embedder_tokens.transformer_model.encoder.layer.0.attention.self.query.bias\n",
      "2023-04-12 15:29:50,099 - INFO - allennlp.nn.initializers -    text_field_embedder.token_embedder_tokens.transformer_model.encoder.layer.0.attention.self.query.weight\n",
      "2023-04-12 15:29:50,099 - INFO - allennlp.nn.initializers -    text_field_embedder.token_embedder_tokens.transformer_model.encoder.layer.0.attention.self.value.bias\n",
      "2023-04-12 15:29:50,100 - INFO - allennlp.nn.initializers -    text_field_embedder.token_embedder_tokens.transformer_model.encoder.layer.0.attention.self.value.weight\n",
      "2023-04-12 15:29:50,100 - INFO - allennlp.nn.initializers -    text_field_embedder.token_embedder_tokens.transformer_model.encoder.layer.0.intermediate.dense.bias\n",
      "2023-04-12 15:29:50,101 - INFO - allennlp.nn.initializers -    text_field_embedder.token_embedder_tokens.transformer_model.encoder.layer.0.intermediate.dense.weight\n",
      "2023-04-12 15:29:50,101 - INFO - allennlp.nn.initializers -    text_field_embedder.token_embedder_tokens.transformer_model.encoder.layer.0.output.LayerNorm.bias\n",
      "2023-04-12 15:29:50,102 - INFO - allennlp.nn.initializers -    text_field_embedder.token_embedder_tokens.transformer_model.encoder.layer.0.output.LayerNorm.weight\n",
      "2023-04-12 15:29:50,102 - INFO - allennlp.nn.initializers -    text_field_embedder.token_embedder_tokens.transformer_model.encoder.layer.0.output.dense.bias\n",
      "2023-04-12 15:29:50,103 - INFO - allennlp.nn.initializers -    text_field_embedder.token_embedder_tokens.transformer_model.encoder.layer.0.output.dense.weight\n",
      "2023-04-12 15:29:50,103 - INFO - allennlp.nn.initializers -    text_field_embedder.token_embedder_tokens.transformer_model.encoder.layer.1.attention.output.LayerNorm.bias\n"
     ]
    },
    {
     "name": "stdout",
     "output_type": "stream",
     "text": [
      "2023-04-12 15:29:50,104 - INFO - allennlp.nn.initializers -    text_field_embedder.token_embedder_tokens.transformer_model.encoder.layer.1.attention.output.LayerNorm.weight\n",
      "2023-04-12 15:29:50,104 - INFO - allennlp.nn.initializers -    text_field_embedder.token_embedder_tokens.transformer_model.encoder.layer.1.attention.output.dense.bias\n",
      "2023-04-12 15:29:50,105 - INFO - allennlp.nn.initializers -    text_field_embedder.token_embedder_tokens.transformer_model.encoder.layer.1.attention.output.dense.weight\n",
      "2023-04-12 15:29:50,105 - INFO - allennlp.nn.initializers -    text_field_embedder.token_embedder_tokens.transformer_model.encoder.layer.1.attention.self.key.bias\n",
      "2023-04-12 15:29:50,106 - INFO - allennlp.nn.initializers -    text_field_embedder.token_embedder_tokens.transformer_model.encoder.layer.1.attention.self.key.weight\n",
      "2023-04-12 15:29:50,106 - INFO - allennlp.nn.initializers -    text_field_embedder.token_embedder_tokens.transformer_model.encoder.layer.1.attention.self.query.bias\n",
      "2023-04-12 15:29:50,107 - INFO - allennlp.nn.initializers -    text_field_embedder.token_embedder_tokens.transformer_model.encoder.layer.1.attention.self.query.weight\n",
      "2023-04-12 15:29:50,107 - INFO - allennlp.nn.initializers -    text_field_embedder.token_embedder_tokens.transformer_model.encoder.layer.1.attention.self.value.bias\n",
      "2023-04-12 15:29:50,108 - INFO - allennlp.nn.initializers -    text_field_embedder.token_embedder_tokens.transformer_model.encoder.layer.1.attention.self.value.weight\n",
      "2023-04-12 15:29:50,108 - INFO - allennlp.nn.initializers -    text_field_embedder.token_embedder_tokens.transformer_model.encoder.layer.1.intermediate.dense.bias\n",
      "2023-04-12 15:29:50,109 - INFO - allennlp.nn.initializers -    text_field_embedder.token_embedder_tokens.transformer_model.encoder.layer.1.intermediate.dense.weight\n",
      "2023-04-12 15:29:50,109 - INFO - allennlp.nn.initializers -    text_field_embedder.token_embedder_tokens.transformer_model.encoder.layer.1.output.LayerNorm.bias\n",
      "2023-04-12 15:29:50,110 - INFO - allennlp.nn.initializers -    text_field_embedder.token_embedder_tokens.transformer_model.encoder.layer.1.output.LayerNorm.weight\n",
      "2023-04-12 15:29:50,110 - INFO - allennlp.nn.initializers -    text_field_embedder.token_embedder_tokens.transformer_model.encoder.layer.1.output.dense.bias\n",
      "2023-04-12 15:29:50,111 - INFO - allennlp.nn.initializers -    text_field_embedder.token_embedder_tokens.transformer_model.encoder.layer.1.output.dense.weight\n",
      "2023-04-12 15:29:50,111 - INFO - allennlp.nn.initializers -    text_field_embedder.token_embedder_tokens.transformer_model.encoder.layer.10.attention.output.LayerNorm.bias\n",
      "2023-04-12 15:29:50,112 - INFO - allennlp.nn.initializers -    text_field_embedder.token_embedder_tokens.transformer_model.encoder.layer.10.attention.output.LayerNorm.weight\n",
      "2023-04-12 15:29:50,112 - INFO - allennlp.nn.initializers -    text_field_embedder.token_embedder_tokens.transformer_model.encoder.layer.10.attention.output.dense.bias\n",
      "2023-04-12 15:29:50,113 - INFO - allennlp.nn.initializers -    text_field_embedder.token_embedder_tokens.transformer_model.encoder.layer.10.attention.output.dense.weight\n",
      "2023-04-12 15:29:50,113 - INFO - allennlp.nn.initializers -    text_field_embedder.token_embedder_tokens.transformer_model.encoder.layer.10.attention.self.key.bias\n",
      "2023-04-12 15:29:50,114 - INFO - allennlp.nn.initializers -    text_field_embedder.token_embedder_tokens.transformer_model.encoder.layer.10.attention.self.key.weight\n",
      "2023-04-12 15:29:50,114 - INFO - allennlp.nn.initializers -    text_field_embedder.token_embedder_tokens.transformer_model.encoder.layer.10.attention.self.query.bias\n",
      "2023-04-12 15:29:50,115 - INFO - allennlp.nn.initializers -    text_field_embedder.token_embedder_tokens.transformer_model.encoder.layer.10.attention.self.query.weight\n",
      "2023-04-12 15:29:50,115 - INFO - allennlp.nn.initializers -    text_field_embedder.token_embedder_tokens.transformer_model.encoder.layer.10.attention.self.value.bias\n",
      "2023-04-12 15:29:50,116 - INFO - allennlp.nn.initializers -    text_field_embedder.token_embedder_tokens.transformer_model.encoder.layer.10.attention.self.value.weight\n",
      "2023-04-12 15:29:50,116 - INFO - allennlp.nn.initializers -    text_field_embedder.token_embedder_tokens.transformer_model.encoder.layer.10.intermediate.dense.bias\n",
      "2023-04-12 15:29:50,117 - INFO - allennlp.nn.initializers -    text_field_embedder.token_embedder_tokens.transformer_model.encoder.layer.10.intermediate.dense.weight\n",
      "2023-04-12 15:29:50,117 - INFO - allennlp.nn.initializers -    text_field_embedder.token_embedder_tokens.transformer_model.encoder.layer.10.output.LayerNorm.bias\n",
      "2023-04-12 15:29:50,118 - INFO - allennlp.nn.initializers -    text_field_embedder.token_embedder_tokens.transformer_model.encoder.layer.10.output.LayerNorm.weight\n",
      "2023-04-12 15:29:50,118 - INFO - allennlp.nn.initializers -    text_field_embedder.token_embedder_tokens.transformer_model.encoder.layer.10.output.dense.bias\n",
      "2023-04-12 15:29:50,119 - INFO - allennlp.nn.initializers -    text_field_embedder.token_embedder_tokens.transformer_model.encoder.layer.10.output.dense.weight\n",
      "2023-04-12 15:29:50,119 - INFO - allennlp.nn.initializers -    text_field_embedder.token_embedder_tokens.transformer_model.encoder.layer.11.attention.output.LayerNorm.bias\n",
      "2023-04-12 15:29:50,120 - INFO - allennlp.nn.initializers -    text_field_embedder.token_embedder_tokens.transformer_model.encoder.layer.11.attention.output.LayerNorm.weight\n",
      "2023-04-12 15:29:50,120 - INFO - allennlp.nn.initializers -    text_field_embedder.token_embedder_tokens.transformer_model.encoder.layer.11.attention.output.dense.bias\n",
      "2023-04-12 15:29:50,121 - INFO - allennlp.nn.initializers -    text_field_embedder.token_embedder_tokens.transformer_model.encoder.layer.11.attention.output.dense.weight\n",
      "2023-04-12 15:29:50,121 - INFO - allennlp.nn.initializers -    text_field_embedder.token_embedder_tokens.transformer_model.encoder.layer.11.attention.self.key.bias\n",
      "2023-04-12 15:29:50,122 - INFO - allennlp.nn.initializers -    text_field_embedder.token_embedder_tokens.transformer_model.encoder.layer.11.attention.self.key.weight\n",
      "2023-04-12 15:29:50,122 - INFO - allennlp.nn.initializers -    text_field_embedder.token_embedder_tokens.transformer_model.encoder.layer.11.attention.self.query.bias\n",
      "2023-04-12 15:29:50,123 - INFO - allennlp.nn.initializers -    text_field_embedder.token_embedder_tokens.transformer_model.encoder.layer.11.attention.self.query.weight\n",
      "2023-04-12 15:29:50,123 - INFO - allennlp.nn.initializers -    text_field_embedder.token_embedder_tokens.transformer_model.encoder.layer.11.attention.self.value.bias\n",
      "2023-04-12 15:29:50,124 - INFO - allennlp.nn.initializers -    text_field_embedder.token_embedder_tokens.transformer_model.encoder.layer.11.attention.self.value.weight\n",
      "2023-04-12 15:29:50,124 - INFO - allennlp.nn.initializers -    text_field_embedder.token_embedder_tokens.transformer_model.encoder.layer.11.intermediate.dense.bias\n",
      "2023-04-12 15:29:50,125 - INFO - allennlp.nn.initializers -    text_field_embedder.token_embedder_tokens.transformer_model.encoder.layer.11.intermediate.dense.weight\n",
      "2023-04-12 15:29:50,125 - INFO - allennlp.nn.initializers -    text_field_embedder.token_embedder_tokens.transformer_model.encoder.layer.11.output.LayerNorm.bias\n",
      "2023-04-12 15:29:50,126 - INFO - allennlp.nn.initializers -    text_field_embedder.token_embedder_tokens.transformer_model.encoder.layer.11.output.LayerNorm.weight\n",
      "2023-04-12 15:29:50,126 - INFO - allennlp.nn.initializers -    text_field_embedder.token_embedder_tokens.transformer_model.encoder.layer.11.output.dense.bias\n",
      "2023-04-12 15:29:50,127 - INFO - allennlp.nn.initializers -    text_field_embedder.token_embedder_tokens.transformer_model.encoder.layer.11.output.dense.weight\n",
      "2023-04-12 15:29:50,127 - INFO - allennlp.nn.initializers -    text_field_embedder.token_embedder_tokens.transformer_model.encoder.layer.2.attention.output.LayerNorm.bias\n",
      "2023-04-12 15:29:50,128 - INFO - allennlp.nn.initializers -    text_field_embedder.token_embedder_tokens.transformer_model.encoder.layer.2.attention.output.LayerNorm.weight\n",
      "2023-04-12 15:29:50,128 - INFO - allennlp.nn.initializers -    text_field_embedder.token_embedder_tokens.transformer_model.encoder.layer.2.attention.output.dense.bias\n"
     ]
    },
    {
     "name": "stdout",
     "output_type": "stream",
     "text": [
      "2023-04-12 15:29:50,129 - INFO - allennlp.nn.initializers -    text_field_embedder.token_embedder_tokens.transformer_model.encoder.layer.2.attention.output.dense.weight\n",
      "2023-04-12 15:29:50,129 - INFO - allennlp.nn.initializers -    text_field_embedder.token_embedder_tokens.transformer_model.encoder.layer.2.attention.self.key.bias\n",
      "2023-04-12 15:29:50,130 - INFO - allennlp.nn.initializers -    text_field_embedder.token_embedder_tokens.transformer_model.encoder.layer.2.attention.self.key.weight\n",
      "2023-04-12 15:29:50,130 - INFO - allennlp.nn.initializers -    text_field_embedder.token_embedder_tokens.transformer_model.encoder.layer.2.attention.self.query.bias\n",
      "2023-04-12 15:29:50,131 - INFO - allennlp.nn.initializers -    text_field_embedder.token_embedder_tokens.transformer_model.encoder.layer.2.attention.self.query.weight\n",
      "2023-04-12 15:29:50,131 - INFO - allennlp.nn.initializers -    text_field_embedder.token_embedder_tokens.transformer_model.encoder.layer.2.attention.self.value.bias\n",
      "2023-04-12 15:29:50,132 - INFO - allennlp.nn.initializers -    text_field_embedder.token_embedder_tokens.transformer_model.encoder.layer.2.attention.self.value.weight\n",
      "2023-04-12 15:29:50,132 - INFO - allennlp.nn.initializers -    text_field_embedder.token_embedder_tokens.transformer_model.encoder.layer.2.intermediate.dense.bias\n",
      "2023-04-12 15:29:50,133 - INFO - allennlp.nn.initializers -    text_field_embedder.token_embedder_tokens.transformer_model.encoder.layer.2.intermediate.dense.weight\n",
      "2023-04-12 15:29:50,133 - INFO - allennlp.nn.initializers -    text_field_embedder.token_embedder_tokens.transformer_model.encoder.layer.2.output.LayerNorm.bias\n",
      "2023-04-12 15:29:50,134 - INFO - allennlp.nn.initializers -    text_field_embedder.token_embedder_tokens.transformer_model.encoder.layer.2.output.LayerNorm.weight\n",
      "2023-04-12 15:29:50,134 - INFO - allennlp.nn.initializers -    text_field_embedder.token_embedder_tokens.transformer_model.encoder.layer.2.output.dense.bias\n",
      "2023-04-12 15:29:50,135 - INFO - allennlp.nn.initializers -    text_field_embedder.token_embedder_tokens.transformer_model.encoder.layer.2.output.dense.weight\n",
      "2023-04-12 15:29:50,135 - INFO - allennlp.nn.initializers -    text_field_embedder.token_embedder_tokens.transformer_model.encoder.layer.3.attention.output.LayerNorm.bias\n",
      "2023-04-12 15:29:50,136 - INFO - allennlp.nn.initializers -    text_field_embedder.token_embedder_tokens.transformer_model.encoder.layer.3.attention.output.LayerNorm.weight\n",
      "2023-04-12 15:29:50,136 - INFO - allennlp.nn.initializers -    text_field_embedder.token_embedder_tokens.transformer_model.encoder.layer.3.attention.output.dense.bias\n",
      "2023-04-12 15:29:50,137 - INFO - allennlp.nn.initializers -    text_field_embedder.token_embedder_tokens.transformer_model.encoder.layer.3.attention.output.dense.weight\n",
      "2023-04-12 15:29:50,137 - INFO - allennlp.nn.initializers -    text_field_embedder.token_embedder_tokens.transformer_model.encoder.layer.3.attention.self.key.bias\n",
      "2023-04-12 15:29:50,138 - INFO - allennlp.nn.initializers -    text_field_embedder.token_embedder_tokens.transformer_model.encoder.layer.3.attention.self.key.weight\n",
      "2023-04-12 15:29:50,138 - INFO - allennlp.nn.initializers -    text_field_embedder.token_embedder_tokens.transformer_model.encoder.layer.3.attention.self.query.bias\n",
      "2023-04-12 15:29:50,139 - INFO - allennlp.nn.initializers -    text_field_embedder.token_embedder_tokens.transformer_model.encoder.layer.3.attention.self.query.weight\n",
      "2023-04-12 15:29:50,139 - INFO - allennlp.nn.initializers -    text_field_embedder.token_embedder_tokens.transformer_model.encoder.layer.3.attention.self.value.bias\n",
      "2023-04-12 15:29:50,140 - INFO - allennlp.nn.initializers -    text_field_embedder.token_embedder_tokens.transformer_model.encoder.layer.3.attention.self.value.weight\n",
      "2023-04-12 15:29:50,140 - INFO - allennlp.nn.initializers -    text_field_embedder.token_embedder_tokens.transformer_model.encoder.layer.3.intermediate.dense.bias\n",
      "2023-04-12 15:29:50,141 - INFO - allennlp.nn.initializers -    text_field_embedder.token_embedder_tokens.transformer_model.encoder.layer.3.intermediate.dense.weight\n",
      "2023-04-12 15:29:50,141 - INFO - allennlp.nn.initializers -    text_field_embedder.token_embedder_tokens.transformer_model.encoder.layer.3.output.LayerNorm.bias\n",
      "2023-04-12 15:29:50,142 - INFO - allennlp.nn.initializers -    text_field_embedder.token_embedder_tokens.transformer_model.encoder.layer.3.output.LayerNorm.weight\n",
      "2023-04-12 15:29:50,142 - INFO - allennlp.nn.initializers -    text_field_embedder.token_embedder_tokens.transformer_model.encoder.layer.3.output.dense.bias\n",
      "2023-04-12 15:29:50,143 - INFO - allennlp.nn.initializers -    text_field_embedder.token_embedder_tokens.transformer_model.encoder.layer.3.output.dense.weight\n",
      "2023-04-12 15:29:50,144 - INFO - allennlp.nn.initializers -    text_field_embedder.token_embedder_tokens.transformer_model.encoder.layer.4.attention.output.LayerNorm.bias\n",
      "2023-04-12 15:29:50,144 - INFO - allennlp.nn.initializers -    text_field_embedder.token_embedder_tokens.transformer_model.encoder.layer.4.attention.output.LayerNorm.weight\n",
      "2023-04-12 15:29:50,145 - INFO - allennlp.nn.initializers -    text_field_embedder.token_embedder_tokens.transformer_model.encoder.layer.4.attention.output.dense.bias\n",
      "2023-04-12 15:29:50,145 - INFO - allennlp.nn.initializers -    text_field_embedder.token_embedder_tokens.transformer_model.encoder.layer.4.attention.output.dense.weight\n",
      "2023-04-12 15:29:50,146 - INFO - allennlp.nn.initializers -    text_field_embedder.token_embedder_tokens.transformer_model.encoder.layer.4.attention.self.key.bias\n",
      "2023-04-12 15:29:50,146 - INFO - allennlp.nn.initializers -    text_field_embedder.token_embedder_tokens.transformer_model.encoder.layer.4.attention.self.key.weight\n",
      "2023-04-12 15:29:50,146 - INFO - allennlp.nn.initializers -    text_field_embedder.token_embedder_tokens.transformer_model.encoder.layer.4.attention.self.query.bias\n",
      "2023-04-12 15:29:50,147 - INFO - allennlp.nn.initializers -    text_field_embedder.token_embedder_tokens.transformer_model.encoder.layer.4.attention.self.query.weight\n",
      "2023-04-12 15:29:50,147 - INFO - allennlp.nn.initializers -    text_field_embedder.token_embedder_tokens.transformer_model.encoder.layer.4.attention.self.value.bias\n",
      "2023-04-12 15:29:50,148 - INFO - allennlp.nn.initializers -    text_field_embedder.token_embedder_tokens.transformer_model.encoder.layer.4.attention.self.value.weight\n",
      "2023-04-12 15:29:50,149 - INFO - allennlp.nn.initializers -    text_field_embedder.token_embedder_tokens.transformer_model.encoder.layer.4.intermediate.dense.bias\n",
      "2023-04-12 15:29:50,149 - INFO - allennlp.nn.initializers -    text_field_embedder.token_embedder_tokens.transformer_model.encoder.layer.4.intermediate.dense.weight\n",
      "2023-04-12 15:29:50,149 - INFO - allennlp.nn.initializers -    text_field_embedder.token_embedder_tokens.transformer_model.encoder.layer.4.output.LayerNorm.bias\n",
      "2023-04-12 15:29:50,150 - INFO - allennlp.nn.initializers -    text_field_embedder.token_embedder_tokens.transformer_model.encoder.layer.4.output.LayerNorm.weight\n",
      "2023-04-12 15:29:50,150 - INFO - allennlp.nn.initializers -    text_field_embedder.token_embedder_tokens.transformer_model.encoder.layer.4.output.dense.bias\n",
      "2023-04-12 15:29:50,151 - INFO - allennlp.nn.initializers -    text_field_embedder.token_embedder_tokens.transformer_model.encoder.layer.4.output.dense.weight\n",
      "2023-04-12 15:29:50,151 - INFO - allennlp.nn.initializers -    text_field_embedder.token_embedder_tokens.transformer_model.encoder.layer.5.attention.output.LayerNorm.bias\n",
      "2023-04-12 15:29:50,152 - INFO - allennlp.nn.initializers -    text_field_embedder.token_embedder_tokens.transformer_model.encoder.layer.5.attention.output.LayerNorm.weight\n",
      "2023-04-12 15:29:50,152 - INFO - allennlp.nn.initializers -    text_field_embedder.token_embedder_tokens.transformer_model.encoder.layer.5.attention.output.dense.bias\n",
      "2023-04-12 15:29:50,153 - INFO - allennlp.nn.initializers -    text_field_embedder.token_embedder_tokens.transformer_model.encoder.layer.5.attention.output.dense.weight\n",
      "2023-04-12 15:29:50,153 - INFO - allennlp.nn.initializers -    text_field_embedder.token_embedder_tokens.transformer_model.encoder.layer.5.attention.self.key.bias\n"
     ]
    },
    {
     "name": "stdout",
     "output_type": "stream",
     "text": [
      "2023-04-12 15:29:50,154 - INFO - allennlp.nn.initializers -    text_field_embedder.token_embedder_tokens.transformer_model.encoder.layer.5.attention.self.key.weight\n",
      "2023-04-12 15:29:50,154 - INFO - allennlp.nn.initializers -    text_field_embedder.token_embedder_tokens.transformer_model.encoder.layer.5.attention.self.query.bias\n",
      "2023-04-12 15:29:50,155 - INFO - allennlp.nn.initializers -    text_field_embedder.token_embedder_tokens.transformer_model.encoder.layer.5.attention.self.query.weight\n",
      "2023-04-12 15:29:50,155 - INFO - allennlp.nn.initializers -    text_field_embedder.token_embedder_tokens.transformer_model.encoder.layer.5.attention.self.value.bias\n",
      "2023-04-12 15:29:50,156 - INFO - allennlp.nn.initializers -    text_field_embedder.token_embedder_tokens.transformer_model.encoder.layer.5.attention.self.value.weight\n",
      "2023-04-12 15:29:50,156 - INFO - allennlp.nn.initializers -    text_field_embedder.token_embedder_tokens.transformer_model.encoder.layer.5.intermediate.dense.bias\n",
      "2023-04-12 15:29:50,157 - INFO - allennlp.nn.initializers -    text_field_embedder.token_embedder_tokens.transformer_model.encoder.layer.5.intermediate.dense.weight\n",
      "2023-04-12 15:29:50,157 - INFO - allennlp.nn.initializers -    text_field_embedder.token_embedder_tokens.transformer_model.encoder.layer.5.output.LayerNorm.bias\n",
      "2023-04-12 15:29:50,158 - INFO - allennlp.nn.initializers -    text_field_embedder.token_embedder_tokens.transformer_model.encoder.layer.5.output.LayerNorm.weight\n",
      "2023-04-12 15:29:50,158 - INFO - allennlp.nn.initializers -    text_field_embedder.token_embedder_tokens.transformer_model.encoder.layer.5.output.dense.bias\n",
      "2023-04-12 15:29:50,159 - INFO - allennlp.nn.initializers -    text_field_embedder.token_embedder_tokens.transformer_model.encoder.layer.5.output.dense.weight\n",
      "2023-04-12 15:29:50,159 - INFO - allennlp.nn.initializers -    text_field_embedder.token_embedder_tokens.transformer_model.encoder.layer.6.attention.output.LayerNorm.bias\n",
      "2023-04-12 15:29:50,160 - INFO - allennlp.nn.initializers -    text_field_embedder.token_embedder_tokens.transformer_model.encoder.layer.6.attention.output.LayerNorm.weight\n",
      "2023-04-12 15:29:50,160 - INFO - allennlp.nn.initializers -    text_field_embedder.token_embedder_tokens.transformer_model.encoder.layer.6.attention.output.dense.bias\n",
      "2023-04-12 15:29:50,161 - INFO - allennlp.nn.initializers -    text_field_embedder.token_embedder_tokens.transformer_model.encoder.layer.6.attention.output.dense.weight\n",
      "2023-04-12 15:29:50,161 - INFO - allennlp.nn.initializers -    text_field_embedder.token_embedder_tokens.transformer_model.encoder.layer.6.attention.self.key.bias\n",
      "2023-04-12 15:29:50,162 - INFO - allennlp.nn.initializers -    text_field_embedder.token_embedder_tokens.transformer_model.encoder.layer.6.attention.self.key.weight\n",
      "2023-04-12 15:29:50,162 - INFO - allennlp.nn.initializers -    text_field_embedder.token_embedder_tokens.transformer_model.encoder.layer.6.attention.self.query.bias\n",
      "2023-04-12 15:29:50,163 - INFO - allennlp.nn.initializers -    text_field_embedder.token_embedder_tokens.transformer_model.encoder.layer.6.attention.self.query.weight\n",
      "2023-04-12 15:29:50,163 - INFO - allennlp.nn.initializers -    text_field_embedder.token_embedder_tokens.transformer_model.encoder.layer.6.attention.self.value.bias\n",
      "2023-04-12 15:29:50,164 - INFO - allennlp.nn.initializers -    text_field_embedder.token_embedder_tokens.transformer_model.encoder.layer.6.attention.self.value.weight\n",
      "2023-04-12 15:29:50,164 - INFO - allennlp.nn.initializers -    text_field_embedder.token_embedder_tokens.transformer_model.encoder.layer.6.intermediate.dense.bias\n",
      "2023-04-12 15:29:50,165 - INFO - allennlp.nn.initializers -    text_field_embedder.token_embedder_tokens.transformer_model.encoder.layer.6.intermediate.dense.weight\n",
      "2023-04-12 15:29:50,165 - INFO - allennlp.nn.initializers -    text_field_embedder.token_embedder_tokens.transformer_model.encoder.layer.6.output.LayerNorm.bias\n",
      "2023-04-12 15:29:50,166 - INFO - allennlp.nn.initializers -    text_field_embedder.token_embedder_tokens.transformer_model.encoder.layer.6.output.LayerNorm.weight\n",
      "2023-04-12 15:29:50,166 - INFO - allennlp.nn.initializers -    text_field_embedder.token_embedder_tokens.transformer_model.encoder.layer.6.output.dense.bias\n",
      "2023-04-12 15:29:50,167 - INFO - allennlp.nn.initializers -    text_field_embedder.token_embedder_tokens.transformer_model.encoder.layer.6.output.dense.weight\n",
      "2023-04-12 15:29:50,167 - INFO - allennlp.nn.initializers -    text_field_embedder.token_embedder_tokens.transformer_model.encoder.layer.7.attention.output.LayerNorm.bias\n",
      "2023-04-12 15:29:50,168 - INFO - allennlp.nn.initializers -    text_field_embedder.token_embedder_tokens.transformer_model.encoder.layer.7.attention.output.LayerNorm.weight\n",
      "2023-04-12 15:29:50,168 - INFO - allennlp.nn.initializers -    text_field_embedder.token_embedder_tokens.transformer_model.encoder.layer.7.attention.output.dense.bias\n",
      "2023-04-12 15:29:50,169 - INFO - allennlp.nn.initializers -    text_field_embedder.token_embedder_tokens.transformer_model.encoder.layer.7.attention.output.dense.weight\n",
      "2023-04-12 15:29:50,169 - INFO - allennlp.nn.initializers -    text_field_embedder.token_embedder_tokens.transformer_model.encoder.layer.7.attention.self.key.bias\n",
      "2023-04-12 15:29:50,170 - INFO - allennlp.nn.initializers -    text_field_embedder.token_embedder_tokens.transformer_model.encoder.layer.7.attention.self.key.weight\n",
      "2023-04-12 15:29:50,171 - INFO - allennlp.nn.initializers -    text_field_embedder.token_embedder_tokens.transformer_model.encoder.layer.7.attention.self.query.bias\n",
      "2023-04-12 15:29:50,171 - INFO - allennlp.nn.initializers -    text_field_embedder.token_embedder_tokens.transformer_model.encoder.layer.7.attention.self.query.weight\n",
      "2023-04-12 15:29:50,171 - INFO - allennlp.nn.initializers -    text_field_embedder.token_embedder_tokens.transformer_model.encoder.layer.7.attention.self.value.bias\n",
      "2023-04-12 15:29:50,172 - INFO - allennlp.nn.initializers -    text_field_embedder.token_embedder_tokens.transformer_model.encoder.layer.7.attention.self.value.weight\n",
      "2023-04-12 15:29:50,172 - INFO - allennlp.nn.initializers -    text_field_embedder.token_embedder_tokens.transformer_model.encoder.layer.7.intermediate.dense.bias\n",
      "2023-04-12 15:29:50,173 - INFO - allennlp.nn.initializers -    text_field_embedder.token_embedder_tokens.transformer_model.encoder.layer.7.intermediate.dense.weight\n",
      "2023-04-12 15:29:50,174 - INFO - allennlp.nn.initializers -    text_field_embedder.token_embedder_tokens.transformer_model.encoder.layer.7.output.LayerNorm.bias\n",
      "2023-04-12 15:29:50,174 - INFO - allennlp.nn.initializers -    text_field_embedder.token_embedder_tokens.transformer_model.encoder.layer.7.output.LayerNorm.weight\n",
      "2023-04-12 15:29:50,174 - INFO - allennlp.nn.initializers -    text_field_embedder.token_embedder_tokens.transformer_model.encoder.layer.7.output.dense.bias\n",
      "2023-04-12 15:29:50,175 - INFO - allennlp.nn.initializers -    text_field_embedder.token_embedder_tokens.transformer_model.encoder.layer.7.output.dense.weight\n",
      "2023-04-12 15:29:50,175 - INFO - allennlp.nn.initializers -    text_field_embedder.token_embedder_tokens.transformer_model.encoder.layer.8.attention.output.LayerNorm.bias\n",
      "2023-04-12 15:29:50,176 - INFO - allennlp.nn.initializers -    text_field_embedder.token_embedder_tokens.transformer_model.encoder.layer.8.attention.output.LayerNorm.weight\n",
      "2023-04-12 15:29:50,177 - INFO - allennlp.nn.initializers -    text_field_embedder.token_embedder_tokens.transformer_model.encoder.layer.8.attention.output.dense.bias\n",
      "2023-04-12 15:29:50,177 - INFO - allennlp.nn.initializers -    text_field_embedder.token_embedder_tokens.transformer_model.encoder.layer.8.attention.output.dense.weight\n",
      "2023-04-12 15:29:50,178 - INFO - allennlp.nn.initializers -    text_field_embedder.token_embedder_tokens.transformer_model.encoder.layer.8.attention.self.key.bias\n",
      "2023-04-12 15:29:50,178 - INFO - allennlp.nn.initializers -    text_field_embedder.token_embedder_tokens.transformer_model.encoder.layer.8.attention.self.key.weight\n",
      "2023-04-12 15:29:50,179 - INFO - allennlp.nn.initializers -    text_field_embedder.token_embedder_tokens.transformer_model.encoder.layer.8.attention.self.query.bias\n"
     ]
    },
    {
     "name": "stdout",
     "output_type": "stream",
     "text": [
      "2023-04-12 15:29:50,179 - INFO - allennlp.nn.initializers -    text_field_embedder.token_embedder_tokens.transformer_model.encoder.layer.8.attention.self.query.weight\n",
      "2023-04-12 15:29:50,180 - INFO - allennlp.nn.initializers -    text_field_embedder.token_embedder_tokens.transformer_model.encoder.layer.8.attention.self.value.bias\n",
      "2023-04-12 15:29:50,180 - INFO - allennlp.nn.initializers -    text_field_embedder.token_embedder_tokens.transformer_model.encoder.layer.8.attention.self.value.weight\n",
      "2023-04-12 15:29:50,181 - INFO - allennlp.nn.initializers -    text_field_embedder.token_embedder_tokens.transformer_model.encoder.layer.8.intermediate.dense.bias\n",
      "2023-04-12 15:29:50,181 - INFO - allennlp.nn.initializers -    text_field_embedder.token_embedder_tokens.transformer_model.encoder.layer.8.intermediate.dense.weight\n",
      "2023-04-12 15:29:50,182 - INFO - allennlp.nn.initializers -    text_field_embedder.token_embedder_tokens.transformer_model.encoder.layer.8.output.LayerNorm.bias\n",
      "2023-04-12 15:29:50,182 - INFO - allennlp.nn.initializers -    text_field_embedder.token_embedder_tokens.transformer_model.encoder.layer.8.output.LayerNorm.weight\n",
      "2023-04-12 15:29:50,183 - INFO - allennlp.nn.initializers -    text_field_embedder.token_embedder_tokens.transformer_model.encoder.layer.8.output.dense.bias\n",
      "2023-04-12 15:29:50,183 - INFO - allennlp.nn.initializers -    text_field_embedder.token_embedder_tokens.transformer_model.encoder.layer.8.output.dense.weight\n",
      "2023-04-12 15:29:50,184 - INFO - allennlp.nn.initializers -    text_field_embedder.token_embedder_tokens.transformer_model.encoder.layer.9.attention.output.LayerNorm.bias\n",
      "2023-04-12 15:29:50,184 - INFO - allennlp.nn.initializers -    text_field_embedder.token_embedder_tokens.transformer_model.encoder.layer.9.attention.output.LayerNorm.weight\n",
      "2023-04-12 15:29:50,185 - INFO - allennlp.nn.initializers -    text_field_embedder.token_embedder_tokens.transformer_model.encoder.layer.9.attention.output.dense.bias\n",
      "2023-04-12 15:29:50,185 - INFO - allennlp.nn.initializers -    text_field_embedder.token_embedder_tokens.transformer_model.encoder.layer.9.attention.output.dense.weight\n",
      "2023-04-12 15:29:50,186 - INFO - allennlp.nn.initializers -    text_field_embedder.token_embedder_tokens.transformer_model.encoder.layer.9.attention.self.key.bias\n",
      "2023-04-12 15:29:50,186 - INFO - allennlp.nn.initializers -    text_field_embedder.token_embedder_tokens.transformer_model.encoder.layer.9.attention.self.key.weight\n",
      "2023-04-12 15:29:50,187 - INFO - allennlp.nn.initializers -    text_field_embedder.token_embedder_tokens.transformer_model.encoder.layer.9.attention.self.query.bias\n",
      "2023-04-12 15:29:50,187 - INFO - allennlp.nn.initializers -    text_field_embedder.token_embedder_tokens.transformer_model.encoder.layer.9.attention.self.query.weight\n",
      "2023-04-12 15:29:50,188 - INFO - allennlp.nn.initializers -    text_field_embedder.token_embedder_tokens.transformer_model.encoder.layer.9.attention.self.value.bias\n",
      "2023-04-12 15:29:50,188 - INFO - allennlp.nn.initializers -    text_field_embedder.token_embedder_tokens.transformer_model.encoder.layer.9.attention.self.value.weight\n",
      "2023-04-12 15:29:50,189 - INFO - allennlp.nn.initializers -    text_field_embedder.token_embedder_tokens.transformer_model.encoder.layer.9.intermediate.dense.bias\n",
      "2023-04-12 15:29:50,189 - INFO - allennlp.nn.initializers -    text_field_embedder.token_embedder_tokens.transformer_model.encoder.layer.9.intermediate.dense.weight\n",
      "2023-04-12 15:29:50,190 - INFO - allennlp.nn.initializers -    text_field_embedder.token_embedder_tokens.transformer_model.encoder.layer.9.output.LayerNorm.bias\n",
      "2023-04-12 15:29:50,190 - INFO - allennlp.nn.initializers -    text_field_embedder.token_embedder_tokens.transformer_model.encoder.layer.9.output.LayerNorm.weight\n",
      "2023-04-12 15:29:50,191 - INFO - allennlp.nn.initializers -    text_field_embedder.token_embedder_tokens.transformer_model.encoder.layer.9.output.dense.bias\n",
      "2023-04-12 15:29:50,191 - INFO - allennlp.nn.initializers -    text_field_embedder.token_embedder_tokens.transformer_model.encoder.layer.9.output.dense.weight\n",
      "2023-04-12 15:29:50,192 - INFO - allennlp.nn.initializers -    text_field_embedder.token_embedder_tokens.transformer_model.pooler.dense.bias\n",
      "2023-04-12 15:29:50,192 - INFO - allennlp.nn.initializers -    text_field_embedder.token_embedder_tokens.transformer_model.pooler.dense.weight\n",
      "2023-04-12 15:29:50,541 - INFO - allennlp.models.archival - removing temporary unarchived model dir at /var/folders/lp/l_mzhpjs6bg95plfkl_n_vsc0000gn/T/tmpgs2z04q5\n",
      "2023-04-12 15:29:50,571 - INFO - allennlp.models.archival - loading archive file /Users/rubenkruiper/dev/irec/SPaR.txt/trained_models/debugger_train/model.tar.gz from cache at /Users/rubenkruiper/dev/irec/SPaR.txt/trained_models/debugger_train/model.tar.gz\n",
      "2023-04-12 15:29:50,572 - INFO - allennlp.models.archival - extracting archive file /Users/rubenkruiper/dev/irec/SPaR.txt/trained_models/debugger_train/model.tar.gz to temp dir /var/folders/lp/l_mzhpjs6bg95plfkl_n_vsc0000gn/T/tmpgcp4fpvn\n",
      "2023-04-12 15:29:53,152 - INFO - allennlp.common.params - dataset_reader.type = tag_reader\n",
      "2023-04-12 15:29:53,153 - INFO - allennlp.common.params - dataset_reader.max_instances = None\n",
      "2023-04-12 15:29:53,153 - INFO - allennlp.common.params - dataset_reader.manual_distributed_sharding = False\n",
      "2023-04-12 15:29:53,154 - INFO - allennlp.common.params - dataset_reader.manual_multiprocess_sharding = False\n",
      "2023-04-12 15:29:53,155 - INFO - allennlp.common.params - dataset_reader.bert_model_name = bert-base-cased\n",
      "2023-04-12 15:29:53,156 - INFO - allennlp.common.params - dataset_reader.token_indexers.tokens.type = pretrained_transformer\n",
      "2023-04-12 15:29:53,157 - INFO - allennlp.common.params - dataset_reader.token_indexers.tokens.token_min_padding_length = 0\n",
      "2023-04-12 15:29:53,157 - INFO - allennlp.common.params - dataset_reader.token_indexers.tokens.model_name = bert-base-cased\n",
      "2023-04-12 15:29:53,158 - INFO - allennlp.common.params - dataset_reader.token_indexers.tokens.namespace = tags\n",
      "2023-04-12 15:29:53,159 - INFO - allennlp.common.params - dataset_reader.token_indexers.tokens.max_length = 512\n",
      "2023-04-12 15:29:53,159 - INFO - allennlp.common.params - dataset_reader.token_indexers.tokens.tokenizer_kwargs.use_fast = False\n",
      "2023-04-12 15:29:53,161 - INFO - allennlp.common.params - dataset_reader.type = tag_reader\n",
      "2023-04-12 15:29:53,162 - INFO - allennlp.common.params - dataset_reader.max_instances = None\n",
      "2023-04-12 15:29:53,162 - INFO - allennlp.common.params - dataset_reader.manual_distributed_sharding = False\n",
      "2023-04-12 15:29:53,163 - INFO - allennlp.common.params - dataset_reader.manual_multiprocess_sharding = False\n",
      "2023-04-12 15:29:53,163 - INFO - allennlp.common.params - dataset_reader.bert_model_name = bert-base-cased\n",
      "2023-04-12 15:29:53,164 - INFO - allennlp.common.params - dataset_reader.token_indexers.tokens.type = pretrained_transformer\n",
      "2023-04-12 15:29:53,164 - INFO - allennlp.common.params - dataset_reader.token_indexers.tokens.token_min_padding_length = 0\n",
      "2023-04-12 15:29:53,165 - INFO - allennlp.common.params - dataset_reader.token_indexers.tokens.model_name = bert-base-cased\n",
      "2023-04-12 15:29:53,166 - INFO - allennlp.common.params - dataset_reader.token_indexers.tokens.namespace = tags\n",
      "2023-04-12 15:29:53,166 - INFO - allennlp.common.params - dataset_reader.token_indexers.tokens.max_length = 512\n",
      "2023-04-12 15:29:53,167 - INFO - allennlp.common.params - dataset_reader.token_indexers.tokens.tokenizer_kwargs.use_fast = False\n",
      "2023-04-12 15:29:53,168 - INFO - allennlp.common.params - type = from_instances\n",
      "2023-04-12 15:29:53,169 - INFO - allennlp.data.vocabulary - Loading token dictionary from /var/folders/lp/l_mzhpjs6bg95plfkl_n_vsc0000gn/T/tmpgcp4fpvn/vocabulary.\n",
      "2023-04-12 15:29:53,170 - INFO - filelock - Lock 140613798187072 acquired on /var/folders/lp/l_mzhpjs6bg95plfkl_n_vsc0000gn/T/tmpgcp4fpvn/vocabulary/.lock\n",
      "2023-04-12 15:29:53,172 - INFO - filelock - Lock 140613798187072 released on /var/folders/lp/l_mzhpjs6bg95plfkl_n_vsc0000gn/T/tmpgcp4fpvn/vocabulary/.lock\n",
      "2023-04-12 15:29:53,172 - INFO - allennlp.common.params - model.type = attention_tagger\n",
      "2023-04-12 15:29:53,173 - INFO - allennlp.common.params - model.regularizer = None\n"
     ]
    },
    {
     "name": "stdout",
     "output_type": "stream",
     "text": [
      "2023-04-12 15:29:53,174 - INFO - allennlp.common.params - model.text_field_embedder.type = basic\n",
      "2023-04-12 15:29:53,175 - INFO - allennlp.common.params - model.text_field_embedder.token_embedders.tokens.type = pretrained_transformer\n",
      "2023-04-12 15:29:53,175 - INFO - allennlp.common.params - model.text_field_embedder.token_embedders.tokens.model_name = bert-base-cased\n",
      "2023-04-12 15:29:53,176 - INFO - allennlp.common.params - model.text_field_embedder.token_embedders.tokens.max_length = 512\n",
      "2023-04-12 15:29:53,176 - INFO - allennlp.common.params - model.text_field_embedder.token_embedders.tokens.sub_module = None\n",
      "2023-04-12 15:29:53,177 - INFO - allennlp.common.params - model.text_field_embedder.token_embedders.tokens.train_parameters = False\n",
      "2023-04-12 15:29:53,177 - INFO - allennlp.common.params - model.text_field_embedder.token_embedders.tokens.eval_mode = False\n",
      "2023-04-12 15:29:53,178 - INFO - allennlp.common.params - model.text_field_embedder.token_embedders.tokens.last_layer_only = True\n",
      "2023-04-12 15:29:53,178 - INFO - allennlp.common.params - model.text_field_embedder.token_embedders.tokens.override_weights_file = None\n",
      "2023-04-12 15:29:53,180 - INFO - allennlp.common.params - model.text_field_embedder.token_embedders.tokens.override_weights_strip_prefix = None\n",
      "2023-04-12 15:29:53,181 - INFO - allennlp.common.params - model.text_field_embedder.token_embedders.tokens.load_weights = True\n",
      "2023-04-12 15:29:53,181 - INFO - allennlp.common.params - model.text_field_embedder.token_embedders.tokens.gradient_checkpointing = None\n",
      "2023-04-12 15:29:53,182 - INFO - allennlp.common.params - model.text_field_embedder.token_embedders.tokens.tokenizer_kwargs.use_fast = False\n",
      "2023-04-12 15:29:53,183 - INFO - allennlp.common.params - model.text_field_embedder.token_embedders.tokens.transformer_kwargs = None\n",
      "2023-04-12 15:29:53,311 - INFO - allennlp.common.params - model.encoder.type = lstm\n",
      "2023-04-12 15:29:53,312 - INFO - allennlp.common.params - model.encoder.input_size = 768\n",
      "2023-04-12 15:29:53,313 - INFO - allennlp.common.params - model.encoder.hidden_size = 384\n",
      "2023-04-12 15:29:53,313 - INFO - allennlp.common.params - model.encoder.num_layers = 1\n",
      "2023-04-12 15:29:53,314 - INFO - allennlp.common.params - model.encoder.bias = True\n",
      "2023-04-12 15:29:53,315 - INFO - allennlp.common.params - model.encoder.dropout = 0.0\n",
      "2023-04-12 15:29:53,316 - INFO - allennlp.common.params - model.encoder.bidirectional = True\n",
      "2023-04-12 15:29:53,317 - INFO - allennlp.common.params - model.encoder.stateful = False\n",
      "2023-04-12 15:29:53,333 - INFO - allennlp.common.params - model.label_namespace = labels\n",
      "2023-04-12 15:29:53,334 - INFO - allennlp.common.params - model.feedforward.input_dim = 1536\n",
      "2023-04-12 15:29:53,334 - INFO - allennlp.common.params - model.feedforward.num_layers = 1\n",
      "2023-04-12 15:29:53,335 - INFO - allennlp.common.params - model.feedforward.hidden_dims = 60\n",
      "2023-04-12 15:29:53,336 - INFO - allennlp.common.params - model.feedforward.activations = relu\n",
      "2023-04-12 15:29:53,337 - INFO - allennlp.common.params - type = relu\n",
      "2023-04-12 15:29:53,337 - INFO - allennlp.common.params - model.feedforward.dropout = 0.05\n",
      "2023-04-12 15:29:53,340 - INFO - allennlp.common.params - model.label_encoding = DiscontiguousTest\n",
      "2023-04-12 15:29:53,341 - INFO - allennlp.common.params - model.include_start_end_transitions = False\n",
      "2023-04-12 15:29:53,341 - INFO - allennlp.common.params - model.constrain_crf_decoding = None\n",
      "2023-04-12 15:29:53,342 - INFO - allennlp.common.params - model.calculate_span_f1 = None\n",
      "2023-04-12 15:29:53,343 - INFO - allennlp.common.params - model.dropout = 0.05\n",
      "2023-04-12 15:29:53,343 - INFO - allennlp.common.params - model.verbose_metrics = False\n",
      "2023-04-12 15:29:53,344 - INFO - allennlp.common.params - model.initializer = <allennlp.nn.initializers.InitializerApplicator object at 0x7fe3bbdf5f10>\n",
      "2023-04-12 15:29:53,344 - INFO - allennlp.common.params - model.top_k = 1\n",
      "2023-04-12 15:29:53,345 - INFO - allennlp.common.params - model.ignore_loss_on_o_tags = False\n",
      "2023-04-12 15:29:53,359 - INFO - allennlp.nn.initializers - Initializing parameters\n",
      "2023-04-12 15:29:53,360 - INFO - allennlp.nn.initializers - Done initializing parameters; the following parameters are using their default initialization from their code\n",
      "2023-04-12 15:29:53,361 - INFO - allennlp.nn.initializers -    _attention.Er\n",
      "2023-04-12 15:29:53,361 - INFO - allennlp.nn.initializers -    _attention.key.bias\n",
      "2023-04-12 15:29:53,362 - INFO - allennlp.nn.initializers -    _attention.key.weight\n",
      "2023-04-12 15:29:53,363 - INFO - allennlp.nn.initializers -    _attention.query.bias\n",
      "2023-04-12 15:29:53,364 - INFO - allennlp.nn.initializers -    _attention.query.weight\n",
      "2023-04-12 15:29:53,364 - INFO - allennlp.nn.initializers -    _attention.value.bias\n",
      "2023-04-12 15:29:53,365 - INFO - allennlp.nn.initializers -    _attention.value.weight\n",
      "2023-04-12 15:29:53,365 - INFO - allennlp.nn.initializers -    _feedforward._linear_layers.0.bias\n",
      "2023-04-12 15:29:53,366 - INFO - allennlp.nn.initializers -    _feedforward._linear_layers.0.weight\n",
      "2023-04-12 15:29:53,366 - INFO - allennlp.nn.initializers -    crf._constraint_mask\n",
      "2023-04-12 15:29:53,367 - INFO - allennlp.nn.initializers -    crf.transitions\n",
      "2023-04-12 15:29:53,367 - INFO - allennlp.nn.initializers -    encoder._module.bias_hh_l0\n",
      "2023-04-12 15:29:53,368 - INFO - allennlp.nn.initializers -    encoder._module.bias_hh_l0_reverse\n",
      "2023-04-12 15:29:53,368 - INFO - allennlp.nn.initializers -    encoder._module.bias_ih_l0\n",
      "2023-04-12 15:29:53,369 - INFO - allennlp.nn.initializers -    encoder._module.bias_ih_l0_reverse\n",
      "2023-04-12 15:29:53,369 - INFO - allennlp.nn.initializers -    encoder._module.weight_hh_l0\n",
      "2023-04-12 15:29:53,370 - INFO - allennlp.nn.initializers -    encoder._module.weight_hh_l0_reverse\n",
      "2023-04-12 15:29:53,370 - INFO - allennlp.nn.initializers -    encoder._module.weight_ih_l0\n",
      "2023-04-12 15:29:53,371 - INFO - allennlp.nn.initializers -    encoder._module.weight_ih_l0_reverse\n",
      "2023-04-12 15:29:53,371 - INFO - allennlp.nn.initializers -    tag_projection_layer._module.bias\n",
      "2023-04-12 15:29:53,372 - INFO - allennlp.nn.initializers -    tag_projection_layer._module.weight\n",
      "2023-04-12 15:29:53,372 - INFO - allennlp.nn.initializers -    text_field_embedder.token_embedder_tokens.transformer_model.embeddings.LayerNorm.bias\n",
      "2023-04-12 15:29:53,373 - INFO - allennlp.nn.initializers -    text_field_embedder.token_embedder_tokens.transformer_model.embeddings.LayerNorm.weight\n",
      "2023-04-12 15:29:53,373 - INFO - allennlp.nn.initializers -    text_field_embedder.token_embedder_tokens.transformer_model.embeddings.position_embeddings.weight\n",
      "2023-04-12 15:29:53,374 - INFO - allennlp.nn.initializers -    text_field_embedder.token_embedder_tokens.transformer_model.embeddings.token_type_embeddings.weight\n",
      "2023-04-12 15:29:53,374 - INFO - allennlp.nn.initializers -    text_field_embedder.token_embedder_tokens.transformer_model.embeddings.word_embeddings.weight\n",
      "2023-04-12 15:29:53,375 - INFO - allennlp.nn.initializers -    text_field_embedder.token_embedder_tokens.transformer_model.encoder.layer.0.attention.output.LayerNorm.bias\n",
      "2023-04-12 15:29:53,376 - INFO - allennlp.nn.initializers -    text_field_embedder.token_embedder_tokens.transformer_model.encoder.layer.0.attention.output.LayerNorm.weight\n",
      "2023-04-12 15:29:53,376 - INFO - allennlp.nn.initializers -    text_field_embedder.token_embedder_tokens.transformer_model.encoder.layer.0.attention.output.dense.bias\n",
      "2023-04-12 15:29:53,377 - INFO - allennlp.nn.initializers -    text_field_embedder.token_embedder_tokens.transformer_model.encoder.layer.0.attention.output.dense.weight\n",
      "2023-04-12 15:29:53,377 - INFO - allennlp.nn.initializers -    text_field_embedder.token_embedder_tokens.transformer_model.encoder.layer.0.attention.self.key.bias\n",
      "2023-04-12 15:29:53,378 - INFO - allennlp.nn.initializers -    text_field_embedder.token_embedder_tokens.transformer_model.encoder.layer.0.attention.self.key.weight\n",
      "2023-04-12 15:29:53,378 - INFO - allennlp.nn.initializers -    text_field_embedder.token_embedder_tokens.transformer_model.encoder.layer.0.attention.self.query.bias\n",
      "2023-04-12 15:29:53,379 - INFO - allennlp.nn.initializers -    text_field_embedder.token_embedder_tokens.transformer_model.encoder.layer.0.attention.self.query.weight\n"
     ]
    },
    {
     "name": "stdout",
     "output_type": "stream",
     "text": [
      "2023-04-12 15:29:53,379 - INFO - allennlp.nn.initializers -    text_field_embedder.token_embedder_tokens.transformer_model.encoder.layer.0.attention.self.value.bias\n",
      "2023-04-12 15:29:53,380 - INFO - allennlp.nn.initializers -    text_field_embedder.token_embedder_tokens.transformer_model.encoder.layer.0.attention.self.value.weight\n",
      "2023-04-12 15:29:53,381 - INFO - allennlp.nn.initializers -    text_field_embedder.token_embedder_tokens.transformer_model.encoder.layer.0.intermediate.dense.bias\n",
      "2023-04-12 15:29:53,381 - INFO - allennlp.nn.initializers -    text_field_embedder.token_embedder_tokens.transformer_model.encoder.layer.0.intermediate.dense.weight\n",
      "2023-04-12 15:29:53,382 - INFO - allennlp.nn.initializers -    text_field_embedder.token_embedder_tokens.transformer_model.encoder.layer.0.output.LayerNorm.bias\n",
      "2023-04-12 15:29:53,382 - INFO - allennlp.nn.initializers -    text_field_embedder.token_embedder_tokens.transformer_model.encoder.layer.0.output.LayerNorm.weight\n",
      "2023-04-12 15:29:53,383 - INFO - allennlp.nn.initializers -    text_field_embedder.token_embedder_tokens.transformer_model.encoder.layer.0.output.dense.bias\n",
      "2023-04-12 15:29:53,383 - INFO - allennlp.nn.initializers -    text_field_embedder.token_embedder_tokens.transformer_model.encoder.layer.0.output.dense.weight\n",
      "2023-04-12 15:29:53,383 - INFO - allennlp.nn.initializers -    text_field_embedder.token_embedder_tokens.transformer_model.encoder.layer.1.attention.output.LayerNorm.bias\n",
      "2023-04-12 15:29:53,384 - INFO - allennlp.nn.initializers -    text_field_embedder.token_embedder_tokens.transformer_model.encoder.layer.1.attention.output.LayerNorm.weight\n",
      "2023-04-12 15:29:53,385 - INFO - allennlp.nn.initializers -    text_field_embedder.token_embedder_tokens.transformer_model.encoder.layer.1.attention.output.dense.bias\n",
      "2023-04-12 15:29:53,385 - INFO - allennlp.nn.initializers -    text_field_embedder.token_embedder_tokens.transformer_model.encoder.layer.1.attention.output.dense.weight\n",
      "2023-04-12 15:29:53,386 - INFO - allennlp.nn.initializers -    text_field_embedder.token_embedder_tokens.transformer_model.encoder.layer.1.attention.self.key.bias\n",
      "2023-04-12 15:29:53,386 - INFO - allennlp.nn.initializers -    text_field_embedder.token_embedder_tokens.transformer_model.encoder.layer.1.attention.self.key.weight\n",
      "2023-04-12 15:29:53,387 - INFO - allennlp.nn.initializers -    text_field_embedder.token_embedder_tokens.transformer_model.encoder.layer.1.attention.self.query.bias\n",
      "2023-04-12 15:29:53,388 - INFO - allennlp.nn.initializers -    text_field_embedder.token_embedder_tokens.transformer_model.encoder.layer.1.attention.self.query.weight\n",
      "2023-04-12 15:29:53,388 - INFO - allennlp.nn.initializers -    text_field_embedder.token_embedder_tokens.transformer_model.encoder.layer.1.attention.self.value.bias\n",
      "2023-04-12 15:29:53,389 - INFO - allennlp.nn.initializers -    text_field_embedder.token_embedder_tokens.transformer_model.encoder.layer.1.attention.self.value.weight\n",
      "2023-04-12 15:29:53,389 - INFO - allennlp.nn.initializers -    text_field_embedder.token_embedder_tokens.transformer_model.encoder.layer.1.intermediate.dense.bias\n",
      "2023-04-12 15:29:53,390 - INFO - allennlp.nn.initializers -    text_field_embedder.token_embedder_tokens.transformer_model.encoder.layer.1.intermediate.dense.weight\n",
      "2023-04-12 15:29:53,390 - INFO - allennlp.nn.initializers -    text_field_embedder.token_embedder_tokens.transformer_model.encoder.layer.1.output.LayerNorm.bias\n",
      "2023-04-12 15:29:53,391 - INFO - allennlp.nn.initializers -    text_field_embedder.token_embedder_tokens.transformer_model.encoder.layer.1.output.LayerNorm.weight\n",
      "2023-04-12 15:29:53,391 - INFO - allennlp.nn.initializers -    text_field_embedder.token_embedder_tokens.transformer_model.encoder.layer.1.output.dense.bias\n",
      "2023-04-12 15:29:53,392 - INFO - allennlp.nn.initializers -    text_field_embedder.token_embedder_tokens.transformer_model.encoder.layer.1.output.dense.weight\n",
      "2023-04-12 15:29:53,392 - INFO - allennlp.nn.initializers -    text_field_embedder.token_embedder_tokens.transformer_model.encoder.layer.10.attention.output.LayerNorm.bias\n",
      "2023-04-12 15:29:53,393 - INFO - allennlp.nn.initializers -    text_field_embedder.token_embedder_tokens.transformer_model.encoder.layer.10.attention.output.LayerNorm.weight\n",
      "2023-04-12 15:29:53,393 - INFO - allennlp.nn.initializers -    text_field_embedder.token_embedder_tokens.transformer_model.encoder.layer.10.attention.output.dense.bias\n",
      "2023-04-12 15:29:53,394 - INFO - allennlp.nn.initializers -    text_field_embedder.token_embedder_tokens.transformer_model.encoder.layer.10.attention.output.dense.weight\n",
      "2023-04-12 15:29:53,394 - INFO - allennlp.nn.initializers -    text_field_embedder.token_embedder_tokens.transformer_model.encoder.layer.10.attention.self.key.bias\n",
      "2023-04-12 15:29:53,395 - INFO - allennlp.nn.initializers -    text_field_embedder.token_embedder_tokens.transformer_model.encoder.layer.10.attention.self.key.weight\n",
      "2023-04-12 15:29:53,396 - INFO - allennlp.nn.initializers -    text_field_embedder.token_embedder_tokens.transformer_model.encoder.layer.10.attention.self.query.bias\n",
      "2023-04-12 15:29:53,396 - INFO - allennlp.nn.initializers -    text_field_embedder.token_embedder_tokens.transformer_model.encoder.layer.10.attention.self.query.weight\n",
      "2023-04-12 15:29:53,397 - INFO - allennlp.nn.initializers -    text_field_embedder.token_embedder_tokens.transformer_model.encoder.layer.10.attention.self.value.bias\n",
      "2023-04-12 15:29:53,397 - INFO - allennlp.nn.initializers -    text_field_embedder.token_embedder_tokens.transformer_model.encoder.layer.10.attention.self.value.weight\n",
      "2023-04-12 15:29:53,398 - INFO - allennlp.nn.initializers -    text_field_embedder.token_embedder_tokens.transformer_model.encoder.layer.10.intermediate.dense.bias\n",
      "2023-04-12 15:29:53,398 - INFO - allennlp.nn.initializers -    text_field_embedder.token_embedder_tokens.transformer_model.encoder.layer.10.intermediate.dense.weight\n",
      "2023-04-12 15:29:53,399 - INFO - allennlp.nn.initializers -    text_field_embedder.token_embedder_tokens.transformer_model.encoder.layer.10.output.LayerNorm.bias\n",
      "2023-04-12 15:29:53,399 - INFO - allennlp.nn.initializers -    text_field_embedder.token_embedder_tokens.transformer_model.encoder.layer.10.output.LayerNorm.weight\n",
      "2023-04-12 15:29:53,400 - INFO - allennlp.nn.initializers -    text_field_embedder.token_embedder_tokens.transformer_model.encoder.layer.10.output.dense.bias\n",
      "2023-04-12 15:29:53,400 - INFO - allennlp.nn.initializers -    text_field_embedder.token_embedder_tokens.transformer_model.encoder.layer.10.output.dense.weight\n",
      "2023-04-12 15:29:53,401 - INFO - allennlp.nn.initializers -    text_field_embedder.token_embedder_tokens.transformer_model.encoder.layer.11.attention.output.LayerNorm.bias\n",
      "2023-04-12 15:29:53,401 - INFO - allennlp.nn.initializers -    text_field_embedder.token_embedder_tokens.transformer_model.encoder.layer.11.attention.output.LayerNorm.weight\n",
      "2023-04-12 15:29:53,402 - INFO - allennlp.nn.initializers -    text_field_embedder.token_embedder_tokens.transformer_model.encoder.layer.11.attention.output.dense.bias\n",
      "2023-04-12 15:29:53,402 - INFO - allennlp.nn.initializers -    text_field_embedder.token_embedder_tokens.transformer_model.encoder.layer.11.attention.output.dense.weight\n",
      "2023-04-12 15:29:53,403 - INFO - allennlp.nn.initializers -    text_field_embedder.token_embedder_tokens.transformer_model.encoder.layer.11.attention.self.key.bias\n",
      "2023-04-12 15:29:53,404 - INFO - allennlp.nn.initializers -    text_field_embedder.token_embedder_tokens.transformer_model.encoder.layer.11.attention.self.key.weight\n",
      "2023-04-12 15:29:53,404 - INFO - allennlp.nn.initializers -    text_field_embedder.token_embedder_tokens.transformer_model.encoder.layer.11.attention.self.query.bias\n",
      "2023-04-12 15:29:53,405 - INFO - allennlp.nn.initializers -    text_field_embedder.token_embedder_tokens.transformer_model.encoder.layer.11.attention.self.query.weight\n",
      "2023-04-12 15:29:53,405 - INFO - allennlp.nn.initializers -    text_field_embedder.token_embedder_tokens.transformer_model.encoder.layer.11.attention.self.value.bias\n",
      "2023-04-12 15:29:53,406 - INFO - allennlp.nn.initializers -    text_field_embedder.token_embedder_tokens.transformer_model.encoder.layer.11.attention.self.value.weight\n"
     ]
    },
    {
     "name": "stdout",
     "output_type": "stream",
     "text": [
      "2023-04-12 15:29:53,406 - INFO - allennlp.nn.initializers -    text_field_embedder.token_embedder_tokens.transformer_model.encoder.layer.11.intermediate.dense.bias\n",
      "2023-04-12 15:29:53,407 - INFO - allennlp.nn.initializers -    text_field_embedder.token_embedder_tokens.transformer_model.encoder.layer.11.intermediate.dense.weight\n",
      "2023-04-12 15:29:53,407 - INFO - allennlp.nn.initializers -    text_field_embedder.token_embedder_tokens.transformer_model.encoder.layer.11.output.LayerNorm.bias\n",
      "2023-04-12 15:29:53,408 - INFO - allennlp.nn.initializers -    text_field_embedder.token_embedder_tokens.transformer_model.encoder.layer.11.output.LayerNorm.weight\n",
      "2023-04-12 15:29:53,408 - INFO - allennlp.nn.initializers -    text_field_embedder.token_embedder_tokens.transformer_model.encoder.layer.11.output.dense.bias\n",
      "2023-04-12 15:29:53,409 - INFO - allennlp.nn.initializers -    text_field_embedder.token_embedder_tokens.transformer_model.encoder.layer.11.output.dense.weight\n",
      "2023-04-12 15:29:53,409 - INFO - allennlp.nn.initializers -    text_field_embedder.token_embedder_tokens.transformer_model.encoder.layer.2.attention.output.LayerNorm.bias\n",
      "2023-04-12 15:29:53,410 - INFO - allennlp.nn.initializers -    text_field_embedder.token_embedder_tokens.transformer_model.encoder.layer.2.attention.output.LayerNorm.weight\n",
      "2023-04-12 15:29:53,410 - INFO - allennlp.nn.initializers -    text_field_embedder.token_embedder_tokens.transformer_model.encoder.layer.2.attention.output.dense.bias\n",
      "2023-04-12 15:29:53,411 - INFO - allennlp.nn.initializers -    text_field_embedder.token_embedder_tokens.transformer_model.encoder.layer.2.attention.output.dense.weight\n",
      "2023-04-12 15:29:53,412 - INFO - allennlp.nn.initializers -    text_field_embedder.token_embedder_tokens.transformer_model.encoder.layer.2.attention.self.key.bias\n",
      "2023-04-12 15:29:53,412 - INFO - allennlp.nn.initializers -    text_field_embedder.token_embedder_tokens.transformer_model.encoder.layer.2.attention.self.key.weight\n",
      "2023-04-12 15:29:53,413 - INFO - allennlp.nn.initializers -    text_field_embedder.token_embedder_tokens.transformer_model.encoder.layer.2.attention.self.query.bias\n",
      "2023-04-12 15:29:53,413 - INFO - allennlp.nn.initializers -    text_field_embedder.token_embedder_tokens.transformer_model.encoder.layer.2.attention.self.query.weight\n",
      "2023-04-12 15:29:53,414 - INFO - allennlp.nn.initializers -    text_field_embedder.token_embedder_tokens.transformer_model.encoder.layer.2.attention.self.value.bias\n",
      "2023-04-12 15:29:53,414 - INFO - allennlp.nn.initializers -    text_field_embedder.token_embedder_tokens.transformer_model.encoder.layer.2.attention.self.value.weight\n",
      "2023-04-12 15:29:53,415 - INFO - allennlp.nn.initializers -    text_field_embedder.token_embedder_tokens.transformer_model.encoder.layer.2.intermediate.dense.bias\n",
      "2023-04-12 15:29:53,415 - INFO - allennlp.nn.initializers -    text_field_embedder.token_embedder_tokens.transformer_model.encoder.layer.2.intermediate.dense.weight\n",
      "2023-04-12 15:29:53,416 - INFO - allennlp.nn.initializers -    text_field_embedder.token_embedder_tokens.transformer_model.encoder.layer.2.output.LayerNorm.bias\n",
      "2023-04-12 15:29:53,416 - INFO - allennlp.nn.initializers -    text_field_embedder.token_embedder_tokens.transformer_model.encoder.layer.2.output.LayerNorm.weight\n",
      "2023-04-12 15:29:53,417 - INFO - allennlp.nn.initializers -    text_field_embedder.token_embedder_tokens.transformer_model.encoder.layer.2.output.dense.bias\n",
      "2023-04-12 15:29:53,417 - INFO - allennlp.nn.initializers -    text_field_embedder.token_embedder_tokens.transformer_model.encoder.layer.2.output.dense.weight\n",
      "2023-04-12 15:29:53,418 - INFO - allennlp.nn.initializers -    text_field_embedder.token_embedder_tokens.transformer_model.encoder.layer.3.attention.output.LayerNorm.bias\n",
      "2023-04-12 15:29:53,419 - INFO - allennlp.nn.initializers -    text_field_embedder.token_embedder_tokens.transformer_model.encoder.layer.3.attention.output.LayerNorm.weight\n",
      "2023-04-12 15:29:53,419 - INFO - allennlp.nn.initializers -    text_field_embedder.token_embedder_tokens.transformer_model.encoder.layer.3.attention.output.dense.bias\n",
      "2023-04-12 15:29:53,420 - INFO - allennlp.nn.initializers -    text_field_embedder.token_embedder_tokens.transformer_model.encoder.layer.3.attention.output.dense.weight\n",
      "2023-04-12 15:29:53,420 - INFO - allennlp.nn.initializers -    text_field_embedder.token_embedder_tokens.transformer_model.encoder.layer.3.attention.self.key.bias\n",
      "2023-04-12 15:29:53,421 - INFO - allennlp.nn.initializers -    text_field_embedder.token_embedder_tokens.transformer_model.encoder.layer.3.attention.self.key.weight\n",
      "2023-04-12 15:29:53,421 - INFO - allennlp.nn.initializers -    text_field_embedder.token_embedder_tokens.transformer_model.encoder.layer.3.attention.self.query.bias\n",
      "2023-04-12 15:29:53,422 - INFO - allennlp.nn.initializers -    text_field_embedder.token_embedder_tokens.transformer_model.encoder.layer.3.attention.self.query.weight\n",
      "2023-04-12 15:29:53,422 - INFO - allennlp.nn.initializers -    text_field_embedder.token_embedder_tokens.transformer_model.encoder.layer.3.attention.self.value.bias\n",
      "2023-04-12 15:29:53,423 - INFO - allennlp.nn.initializers -    text_field_embedder.token_embedder_tokens.transformer_model.encoder.layer.3.attention.self.value.weight\n",
      "2023-04-12 15:29:53,423 - INFO - allennlp.nn.initializers -    text_field_embedder.token_embedder_tokens.transformer_model.encoder.layer.3.intermediate.dense.bias\n",
      "2023-04-12 15:29:53,424 - INFO - allennlp.nn.initializers -    text_field_embedder.token_embedder_tokens.transformer_model.encoder.layer.3.intermediate.dense.weight\n",
      "2023-04-12 15:29:53,424 - INFO - allennlp.nn.initializers -    text_field_embedder.token_embedder_tokens.transformer_model.encoder.layer.3.output.LayerNorm.bias\n",
      "2023-04-12 15:29:53,425 - INFO - allennlp.nn.initializers -    text_field_embedder.token_embedder_tokens.transformer_model.encoder.layer.3.output.LayerNorm.weight\n",
      "2023-04-12 15:29:53,426 - INFO - allennlp.nn.initializers -    text_field_embedder.token_embedder_tokens.transformer_model.encoder.layer.3.output.dense.bias\n",
      "2023-04-12 15:29:53,426 - INFO - allennlp.nn.initializers -    text_field_embedder.token_embedder_tokens.transformer_model.encoder.layer.3.output.dense.weight\n",
      "2023-04-12 15:29:53,427 - INFO - allennlp.nn.initializers -    text_field_embedder.token_embedder_tokens.transformer_model.encoder.layer.4.attention.output.LayerNorm.bias\n",
      "2023-04-12 15:29:53,428 - INFO - allennlp.nn.initializers -    text_field_embedder.token_embedder_tokens.transformer_model.encoder.layer.4.attention.output.LayerNorm.weight\n",
      "2023-04-12 15:29:53,428 - INFO - allennlp.nn.initializers -    text_field_embedder.token_embedder_tokens.transformer_model.encoder.layer.4.attention.output.dense.bias\n",
      "2023-04-12 15:29:53,429 - INFO - allennlp.nn.initializers -    text_field_embedder.token_embedder_tokens.transformer_model.encoder.layer.4.attention.output.dense.weight\n",
      "2023-04-12 15:29:53,429 - INFO - allennlp.nn.initializers -    text_field_embedder.token_embedder_tokens.transformer_model.encoder.layer.4.attention.self.key.bias\n",
      "2023-04-12 15:29:53,430 - INFO - allennlp.nn.initializers -    text_field_embedder.token_embedder_tokens.transformer_model.encoder.layer.4.attention.self.key.weight\n",
      "2023-04-12 15:29:53,430 - INFO - allennlp.nn.initializers -    text_field_embedder.token_embedder_tokens.transformer_model.encoder.layer.4.attention.self.query.bias\n",
      "2023-04-12 15:29:53,431 - INFO - allennlp.nn.initializers -    text_field_embedder.token_embedder_tokens.transformer_model.encoder.layer.4.attention.self.query.weight\n",
      "2023-04-12 15:29:53,431 - INFO - allennlp.nn.initializers -    text_field_embedder.token_embedder_tokens.transformer_model.encoder.layer.4.attention.self.value.bias\n",
      "2023-04-12 15:29:53,432 - INFO - allennlp.nn.initializers -    text_field_embedder.token_embedder_tokens.transformer_model.encoder.layer.4.attention.self.value.weight\n",
      "2023-04-12 15:29:53,432 - INFO - allennlp.nn.initializers -    text_field_embedder.token_embedder_tokens.transformer_model.encoder.layer.4.intermediate.dense.bias\n",
      "2023-04-12 15:29:53,433 - INFO - allennlp.nn.initializers -    text_field_embedder.token_embedder_tokens.transformer_model.encoder.layer.4.intermediate.dense.weight\n"
     ]
    },
    {
     "name": "stdout",
     "output_type": "stream",
     "text": [
      "2023-04-12 15:29:53,433 - INFO - allennlp.nn.initializers -    text_field_embedder.token_embedder_tokens.transformer_model.encoder.layer.4.output.LayerNorm.bias\n",
      "2023-04-12 15:29:53,434 - INFO - allennlp.nn.initializers -    text_field_embedder.token_embedder_tokens.transformer_model.encoder.layer.4.output.LayerNorm.weight\n",
      "2023-04-12 15:29:53,434 - INFO - allennlp.nn.initializers -    text_field_embedder.token_embedder_tokens.transformer_model.encoder.layer.4.output.dense.bias\n",
      "2023-04-12 15:29:53,435 - INFO - allennlp.nn.initializers -    text_field_embedder.token_embedder_tokens.transformer_model.encoder.layer.4.output.dense.weight\n",
      "2023-04-12 15:29:53,435 - INFO - allennlp.nn.initializers -    text_field_embedder.token_embedder_tokens.transformer_model.encoder.layer.5.attention.output.LayerNorm.bias\n",
      "2023-04-12 15:29:53,436 - INFO - allennlp.nn.initializers -    text_field_embedder.token_embedder_tokens.transformer_model.encoder.layer.5.attention.output.LayerNorm.weight\n",
      "2023-04-12 15:29:53,437 - INFO - allennlp.nn.initializers -    text_field_embedder.token_embedder_tokens.transformer_model.encoder.layer.5.attention.output.dense.bias\n",
      "2023-04-12 15:29:53,437 - INFO - allennlp.nn.initializers -    text_field_embedder.token_embedder_tokens.transformer_model.encoder.layer.5.attention.output.dense.weight\n",
      "2023-04-12 15:29:53,438 - INFO - allennlp.nn.initializers -    text_field_embedder.token_embedder_tokens.transformer_model.encoder.layer.5.attention.self.key.bias\n",
      "2023-04-12 15:29:53,438 - INFO - allennlp.nn.initializers -    text_field_embedder.token_embedder_tokens.transformer_model.encoder.layer.5.attention.self.key.weight\n",
      "2023-04-12 15:29:53,439 - INFO - allennlp.nn.initializers -    text_field_embedder.token_embedder_tokens.transformer_model.encoder.layer.5.attention.self.query.bias\n",
      "2023-04-12 15:29:53,439 - INFO - allennlp.nn.initializers -    text_field_embedder.token_embedder_tokens.transformer_model.encoder.layer.5.attention.self.query.weight\n",
      "2023-04-12 15:29:53,440 - INFO - allennlp.nn.initializers -    text_field_embedder.token_embedder_tokens.transformer_model.encoder.layer.5.attention.self.value.bias\n",
      "2023-04-12 15:29:53,440 - INFO - allennlp.nn.initializers -    text_field_embedder.token_embedder_tokens.transformer_model.encoder.layer.5.attention.self.value.weight\n",
      "2023-04-12 15:29:53,441 - INFO - allennlp.nn.initializers -    text_field_embedder.token_embedder_tokens.transformer_model.encoder.layer.5.intermediate.dense.bias\n",
      "2023-04-12 15:29:53,441 - INFO - allennlp.nn.initializers -    text_field_embedder.token_embedder_tokens.transformer_model.encoder.layer.5.intermediate.dense.weight\n",
      "2023-04-12 15:29:53,442 - INFO - allennlp.nn.initializers -    text_field_embedder.token_embedder_tokens.transformer_model.encoder.layer.5.output.LayerNorm.bias\n",
      "2023-04-12 15:29:53,442 - INFO - allennlp.nn.initializers -    text_field_embedder.token_embedder_tokens.transformer_model.encoder.layer.5.output.LayerNorm.weight\n",
      "2023-04-12 15:29:53,443 - INFO - allennlp.nn.initializers -    text_field_embedder.token_embedder_tokens.transformer_model.encoder.layer.5.output.dense.bias\n",
      "2023-04-12 15:29:53,444 - INFO - allennlp.nn.initializers -    text_field_embedder.token_embedder_tokens.transformer_model.encoder.layer.5.output.dense.weight\n",
      "2023-04-12 15:29:53,444 - INFO - allennlp.nn.initializers -    text_field_embedder.token_embedder_tokens.transformer_model.encoder.layer.6.attention.output.LayerNorm.bias\n",
      "2023-04-12 15:29:53,445 - INFO - allennlp.nn.initializers -    text_field_embedder.token_embedder_tokens.transformer_model.encoder.layer.6.attention.output.LayerNorm.weight\n",
      "2023-04-12 15:29:53,445 - INFO - allennlp.nn.initializers -    text_field_embedder.token_embedder_tokens.transformer_model.encoder.layer.6.attention.output.dense.bias\n",
      "2023-04-12 15:29:53,446 - INFO - allennlp.nn.initializers -    text_field_embedder.token_embedder_tokens.transformer_model.encoder.layer.6.attention.output.dense.weight\n",
      "2023-04-12 15:29:53,446 - INFO - allennlp.nn.initializers -    text_field_embedder.token_embedder_tokens.transformer_model.encoder.layer.6.attention.self.key.bias\n",
      "2023-04-12 15:29:53,447 - INFO - allennlp.nn.initializers -    text_field_embedder.token_embedder_tokens.transformer_model.encoder.layer.6.attention.self.key.weight\n",
      "2023-04-12 15:29:53,447 - INFO - allennlp.nn.initializers -    text_field_embedder.token_embedder_tokens.transformer_model.encoder.layer.6.attention.self.query.bias\n",
      "2023-04-12 15:29:53,448 - INFO - allennlp.nn.initializers -    text_field_embedder.token_embedder_tokens.transformer_model.encoder.layer.6.attention.self.query.weight\n",
      "2023-04-12 15:29:53,448 - INFO - allennlp.nn.initializers -    text_field_embedder.token_embedder_tokens.transformer_model.encoder.layer.6.attention.self.value.bias\n",
      "2023-04-12 15:29:53,449 - INFO - allennlp.nn.initializers -    text_field_embedder.token_embedder_tokens.transformer_model.encoder.layer.6.attention.self.value.weight\n",
      "2023-04-12 15:29:53,449 - INFO - allennlp.nn.initializers -    text_field_embedder.token_embedder_tokens.transformer_model.encoder.layer.6.intermediate.dense.bias\n",
      "2023-04-12 15:29:53,450 - INFO - allennlp.nn.initializers -    text_field_embedder.token_embedder_tokens.transformer_model.encoder.layer.6.intermediate.dense.weight\n",
      "2023-04-12 15:29:53,450 - INFO - allennlp.nn.initializers -    text_field_embedder.token_embedder_tokens.transformer_model.encoder.layer.6.output.LayerNorm.bias\n",
      "2023-04-12 15:29:53,451 - INFO - allennlp.nn.initializers -    text_field_embedder.token_embedder_tokens.transformer_model.encoder.layer.6.output.LayerNorm.weight\n",
      "2023-04-12 15:29:53,452 - INFO - allennlp.nn.initializers -    text_field_embedder.token_embedder_tokens.transformer_model.encoder.layer.6.output.dense.bias\n",
      "2023-04-12 15:29:53,452 - INFO - allennlp.nn.initializers -    text_field_embedder.token_embedder_tokens.transformer_model.encoder.layer.6.output.dense.weight\n",
      "2023-04-12 15:29:53,453 - INFO - allennlp.nn.initializers -    text_field_embedder.token_embedder_tokens.transformer_model.encoder.layer.7.attention.output.LayerNorm.bias\n",
      "2023-04-12 15:29:53,453 - INFO - allennlp.nn.initializers -    text_field_embedder.token_embedder_tokens.transformer_model.encoder.layer.7.attention.output.LayerNorm.weight\n",
      "2023-04-12 15:29:53,454 - INFO - allennlp.nn.initializers -    text_field_embedder.token_embedder_tokens.transformer_model.encoder.layer.7.attention.output.dense.bias\n",
      "2023-04-12 15:29:53,454 - INFO - allennlp.nn.initializers -    text_field_embedder.token_embedder_tokens.transformer_model.encoder.layer.7.attention.output.dense.weight\n",
      "2023-04-12 15:29:53,455 - INFO - allennlp.nn.initializers -    text_field_embedder.token_embedder_tokens.transformer_model.encoder.layer.7.attention.self.key.bias\n",
      "2023-04-12 15:29:53,455 - INFO - allennlp.nn.initializers -    text_field_embedder.token_embedder_tokens.transformer_model.encoder.layer.7.attention.self.key.weight\n",
      "2023-04-12 15:29:53,456 - INFO - allennlp.nn.initializers -    text_field_embedder.token_embedder_tokens.transformer_model.encoder.layer.7.attention.self.query.bias\n",
      "2023-04-12 15:29:53,456 - INFO - allennlp.nn.initializers -    text_field_embedder.token_embedder_tokens.transformer_model.encoder.layer.7.attention.self.query.weight\n",
      "2023-04-12 15:29:53,457 - INFO - allennlp.nn.initializers -    text_field_embedder.token_embedder_tokens.transformer_model.encoder.layer.7.attention.self.value.bias\n",
      "2023-04-12 15:29:53,457 - INFO - allennlp.nn.initializers -    text_field_embedder.token_embedder_tokens.transformer_model.encoder.layer.7.attention.self.value.weight\n",
      "2023-04-12 15:29:53,458 - INFO - allennlp.nn.initializers -    text_field_embedder.token_embedder_tokens.transformer_model.encoder.layer.7.intermediate.dense.bias\n",
      "2023-04-12 15:29:53,458 - INFO - allennlp.nn.initializers -    text_field_embedder.token_embedder_tokens.transformer_model.encoder.layer.7.intermediate.dense.weight\n",
      "2023-04-12 15:29:53,459 - INFO - allennlp.nn.initializers -    text_field_embedder.token_embedder_tokens.transformer_model.encoder.layer.7.output.LayerNorm.bias\n",
      "2023-04-12 15:29:53,460 - INFO - allennlp.nn.initializers -    text_field_embedder.token_embedder_tokens.transformer_model.encoder.layer.7.output.LayerNorm.weight\n"
     ]
    },
    {
     "name": "stdout",
     "output_type": "stream",
     "text": [
      "2023-04-12 15:29:53,460 - INFO - allennlp.nn.initializers -    text_field_embedder.token_embedder_tokens.transformer_model.encoder.layer.7.output.dense.bias\n",
      "2023-04-12 15:29:53,461 - INFO - allennlp.nn.initializers -    text_field_embedder.token_embedder_tokens.transformer_model.encoder.layer.7.output.dense.weight\n",
      "2023-04-12 15:29:53,461 - INFO - allennlp.nn.initializers -    text_field_embedder.token_embedder_tokens.transformer_model.encoder.layer.8.attention.output.LayerNorm.bias\n",
      "2023-04-12 15:29:53,462 - INFO - allennlp.nn.initializers -    text_field_embedder.token_embedder_tokens.transformer_model.encoder.layer.8.attention.output.LayerNorm.weight\n",
      "2023-04-12 15:29:53,462 - INFO - allennlp.nn.initializers -    text_field_embedder.token_embedder_tokens.transformer_model.encoder.layer.8.attention.output.dense.bias\n",
      "2023-04-12 15:29:53,463 - INFO - allennlp.nn.initializers -    text_field_embedder.token_embedder_tokens.transformer_model.encoder.layer.8.attention.output.dense.weight\n",
      "2023-04-12 15:29:53,463 - INFO - allennlp.nn.initializers -    text_field_embedder.token_embedder_tokens.transformer_model.encoder.layer.8.attention.self.key.bias\n",
      "2023-04-12 15:29:53,464 - INFO - allennlp.nn.initializers -    text_field_embedder.token_embedder_tokens.transformer_model.encoder.layer.8.attention.self.key.weight\n",
      "2023-04-12 15:29:53,464 - INFO - allennlp.nn.initializers -    text_field_embedder.token_embedder_tokens.transformer_model.encoder.layer.8.attention.self.query.bias\n",
      "2023-04-12 15:29:53,465 - INFO - allennlp.nn.initializers -    text_field_embedder.token_embedder_tokens.transformer_model.encoder.layer.8.attention.self.query.weight\n",
      "2023-04-12 15:29:53,465 - INFO - allennlp.nn.initializers -    text_field_embedder.token_embedder_tokens.transformer_model.encoder.layer.8.attention.self.value.bias\n",
      "2023-04-12 15:29:53,466 - INFO - allennlp.nn.initializers -    text_field_embedder.token_embedder_tokens.transformer_model.encoder.layer.8.attention.self.value.weight\n",
      "2023-04-12 15:29:53,466 - INFO - allennlp.nn.initializers -    text_field_embedder.token_embedder_tokens.transformer_model.encoder.layer.8.intermediate.dense.bias\n",
      "2023-04-12 15:29:53,467 - INFO - allennlp.nn.initializers -    text_field_embedder.token_embedder_tokens.transformer_model.encoder.layer.8.intermediate.dense.weight\n",
      "2023-04-12 15:29:53,468 - INFO - allennlp.nn.initializers -    text_field_embedder.token_embedder_tokens.transformer_model.encoder.layer.8.output.LayerNorm.bias\n",
      "2023-04-12 15:29:53,468 - INFO - allennlp.nn.initializers -    text_field_embedder.token_embedder_tokens.transformer_model.encoder.layer.8.output.LayerNorm.weight\n",
      "2023-04-12 15:29:53,469 - INFO - allennlp.nn.initializers -    text_field_embedder.token_embedder_tokens.transformer_model.encoder.layer.8.output.dense.bias\n",
      "2023-04-12 15:29:53,469 - INFO - allennlp.nn.initializers -    text_field_embedder.token_embedder_tokens.transformer_model.encoder.layer.8.output.dense.weight\n",
      "2023-04-12 15:29:53,470 - INFO - allennlp.nn.initializers -    text_field_embedder.token_embedder_tokens.transformer_model.encoder.layer.9.attention.output.LayerNorm.bias\n",
      "2023-04-12 15:29:53,470 - INFO - allennlp.nn.initializers -    text_field_embedder.token_embedder_tokens.transformer_model.encoder.layer.9.attention.output.LayerNorm.weight\n",
      "2023-04-12 15:29:53,471 - INFO - allennlp.nn.initializers -    text_field_embedder.token_embedder_tokens.transformer_model.encoder.layer.9.attention.output.dense.bias\n",
      "2023-04-12 15:29:53,471 - INFO - allennlp.nn.initializers -    text_field_embedder.token_embedder_tokens.transformer_model.encoder.layer.9.attention.output.dense.weight\n",
      "2023-04-12 15:29:53,472 - INFO - allennlp.nn.initializers -    text_field_embedder.token_embedder_tokens.transformer_model.encoder.layer.9.attention.self.key.bias\n",
      "2023-04-12 15:29:53,472 - INFO - allennlp.nn.initializers -    text_field_embedder.token_embedder_tokens.transformer_model.encoder.layer.9.attention.self.key.weight\n",
      "2023-04-12 15:29:53,473 - INFO - allennlp.nn.initializers -    text_field_embedder.token_embedder_tokens.transformer_model.encoder.layer.9.attention.self.query.bias\n",
      "2023-04-12 15:29:53,473 - INFO - allennlp.nn.initializers -    text_field_embedder.token_embedder_tokens.transformer_model.encoder.layer.9.attention.self.query.weight\n",
      "2023-04-12 15:29:53,474 - INFO - allennlp.nn.initializers -    text_field_embedder.token_embedder_tokens.transformer_model.encoder.layer.9.attention.self.value.bias\n",
      "2023-04-12 15:29:53,474 - INFO - allennlp.nn.initializers -    text_field_embedder.token_embedder_tokens.transformer_model.encoder.layer.9.attention.self.value.weight\n",
      "2023-04-12 15:29:53,475 - INFO - allennlp.nn.initializers -    text_field_embedder.token_embedder_tokens.transformer_model.encoder.layer.9.intermediate.dense.bias\n",
      "2023-04-12 15:29:53,476 - INFO - allennlp.nn.initializers -    text_field_embedder.token_embedder_tokens.transformer_model.encoder.layer.9.intermediate.dense.weight\n",
      "2023-04-12 15:29:53,476 - INFO - allennlp.nn.initializers -    text_field_embedder.token_embedder_tokens.transformer_model.encoder.layer.9.output.LayerNorm.bias\n",
      "2023-04-12 15:29:53,477 - INFO - allennlp.nn.initializers -    text_field_embedder.token_embedder_tokens.transformer_model.encoder.layer.9.output.LayerNorm.weight\n",
      "2023-04-12 15:29:53,477 - INFO - allennlp.nn.initializers -    text_field_embedder.token_embedder_tokens.transformer_model.encoder.layer.9.output.dense.bias\n",
      "2023-04-12 15:29:53,478 - INFO - allennlp.nn.initializers -    text_field_embedder.token_embedder_tokens.transformer_model.encoder.layer.9.output.dense.weight\n",
      "2023-04-12 15:29:53,478 - INFO - allennlp.nn.initializers -    text_field_embedder.token_embedder_tokens.transformer_model.pooler.dense.bias\n",
      "2023-04-12 15:29:53,479 - INFO - allennlp.nn.initializers -    text_field_embedder.token_embedder_tokens.transformer_model.pooler.dense.weight\n",
      "2023-04-12 15:29:53,904 - INFO - allennlp.models.archival - removing temporary unarchived model dir at /var/folders/lp/l_mzhpjs6bg95plfkl_n_vsc0000gn/T/tmpgcp4fpvn\n",
      "2023-04-12 15:29:53,934 - INFO - allennlp.models.archival - loading archive file /Users/rubenkruiper/dev/irec/SPaR.txt/trained_models/debugger_train/model.tar.gz from cache at /Users/rubenkruiper/dev/irec/SPaR.txt/trained_models/debugger_train/model.tar.gz\n",
      "2023-04-12 15:29:53,935 - INFO - allennlp.models.archival - extracting archive file /Users/rubenkruiper/dev/irec/SPaR.txt/trained_models/debugger_train/model.tar.gz to temp dir /var/folders/lp/l_mzhpjs6bg95plfkl_n_vsc0000gn/T/tmppj621rxt\n",
      "2023-04-12 15:29:56,479 - INFO - allennlp.common.params - dataset_reader.type = tag_reader\n",
      "2023-04-12 15:29:56,480 - INFO - allennlp.common.params - dataset_reader.max_instances = None\n",
      "2023-04-12 15:29:56,481 - INFO - allennlp.common.params - dataset_reader.manual_distributed_sharding = False\n",
      "2023-04-12 15:29:56,482 - INFO - allennlp.common.params - dataset_reader.manual_multiprocess_sharding = False\n",
      "2023-04-12 15:29:56,483 - INFO - allennlp.common.params - dataset_reader.bert_model_name = bert-base-cased\n",
      "2023-04-12 15:29:56,484 - INFO - allennlp.common.params - dataset_reader.token_indexers.tokens.type = pretrained_transformer\n",
      "2023-04-12 15:29:56,484 - INFO - allennlp.common.params - dataset_reader.token_indexers.tokens.token_min_padding_length = 0\n",
      "2023-04-12 15:29:56,485 - INFO - allennlp.common.params - dataset_reader.token_indexers.tokens.model_name = bert-base-cased\n",
      "2023-04-12 15:29:56,486 - INFO - allennlp.common.params - dataset_reader.token_indexers.tokens.namespace = tags\n",
      "2023-04-12 15:29:56,486 - INFO - allennlp.common.params - dataset_reader.token_indexers.tokens.max_length = 512\n",
      "2023-04-12 15:29:56,487 - INFO - allennlp.common.params - dataset_reader.token_indexers.tokens.tokenizer_kwargs.use_fast = False\n",
      "2023-04-12 15:29:56,488 - INFO - allennlp.common.params - dataset_reader.type = tag_reader\n",
      "2023-04-12 15:29:56,489 - INFO - allennlp.common.params - dataset_reader.max_instances = None\n",
      "2023-04-12 15:29:56,490 - INFO - allennlp.common.params - dataset_reader.manual_distributed_sharding = False\n",
      "2023-04-12 15:29:56,490 - INFO - allennlp.common.params - dataset_reader.manual_multiprocess_sharding = False\n",
      "2023-04-12 15:29:56,491 - INFO - allennlp.common.params - dataset_reader.bert_model_name = bert-base-cased\n"
     ]
    },
    {
     "name": "stdout",
     "output_type": "stream",
     "text": [
      "2023-04-12 15:29:56,491 - INFO - allennlp.common.params - dataset_reader.token_indexers.tokens.type = pretrained_transformer\n",
      "2023-04-12 15:29:56,492 - INFO - allennlp.common.params - dataset_reader.token_indexers.tokens.token_min_padding_length = 0\n",
      "2023-04-12 15:29:56,493 - INFO - allennlp.common.params - dataset_reader.token_indexers.tokens.model_name = bert-base-cased\n",
      "2023-04-12 15:29:56,493 - INFO - allennlp.common.params - dataset_reader.token_indexers.tokens.namespace = tags\n",
      "2023-04-12 15:29:56,494 - INFO - allennlp.common.params - dataset_reader.token_indexers.tokens.max_length = 512\n",
      "2023-04-12 15:29:56,494 - INFO - allennlp.common.params - dataset_reader.token_indexers.tokens.tokenizer_kwargs.use_fast = False\n",
      "2023-04-12 15:29:56,496 - INFO - allennlp.common.params - type = from_instances\n",
      "2023-04-12 15:29:56,496 - INFO - allennlp.data.vocabulary - Loading token dictionary from /var/folders/lp/l_mzhpjs6bg95plfkl_n_vsc0000gn/T/tmppj621rxt/vocabulary.\n",
      "2023-04-12 15:29:56,497 - INFO - filelock - Lock 140614564662672 acquired on /var/folders/lp/l_mzhpjs6bg95plfkl_n_vsc0000gn/T/tmppj621rxt/vocabulary/.lock\n",
      "2023-04-12 15:29:56,499 - INFO - filelock - Lock 140614564662672 released on /var/folders/lp/l_mzhpjs6bg95plfkl_n_vsc0000gn/T/tmppj621rxt/vocabulary/.lock\n",
      "2023-04-12 15:29:56,500 - INFO - allennlp.common.params - model.type = attention_tagger\n",
      "2023-04-12 15:29:56,500 - INFO - allennlp.common.params - model.regularizer = None\n",
      "2023-04-12 15:29:56,501 - INFO - allennlp.common.params - model.text_field_embedder.type = basic\n",
      "2023-04-12 15:29:56,502 - INFO - allennlp.common.params - model.text_field_embedder.token_embedders.tokens.type = pretrained_transformer\n",
      "2023-04-12 15:29:56,502 - INFO - allennlp.common.params - model.text_field_embedder.token_embedders.tokens.model_name = bert-base-cased\n",
      "2023-04-12 15:29:56,503 - INFO - allennlp.common.params - model.text_field_embedder.token_embedders.tokens.max_length = 512\n",
      "2023-04-12 15:29:56,503 - INFO - allennlp.common.params - model.text_field_embedder.token_embedders.tokens.sub_module = None\n",
      "2023-04-12 15:29:56,504 - INFO - allennlp.common.params - model.text_field_embedder.token_embedders.tokens.train_parameters = False\n",
      "2023-04-12 15:29:56,504 - INFO - allennlp.common.params - model.text_field_embedder.token_embedders.tokens.eval_mode = False\n",
      "2023-04-12 15:29:56,505 - INFO - allennlp.common.params - model.text_field_embedder.token_embedders.tokens.last_layer_only = True\n",
      "2023-04-12 15:29:56,505 - INFO - allennlp.common.params - model.text_field_embedder.token_embedders.tokens.override_weights_file = None\n",
      "2023-04-12 15:29:56,506 - INFO - allennlp.common.params - model.text_field_embedder.token_embedders.tokens.override_weights_strip_prefix = None\n",
      "2023-04-12 15:29:56,506 - INFO - allennlp.common.params - model.text_field_embedder.token_embedders.tokens.load_weights = True\n",
      "2023-04-12 15:29:56,507 - INFO - allennlp.common.params - model.text_field_embedder.token_embedders.tokens.gradient_checkpointing = None\n",
      "2023-04-12 15:29:56,507 - INFO - allennlp.common.params - model.text_field_embedder.token_embedders.tokens.tokenizer_kwargs.use_fast = False\n",
      "2023-04-12 15:29:56,508 - INFO - allennlp.common.params - model.text_field_embedder.token_embedders.tokens.transformer_kwargs = None\n",
      "2023-04-12 15:29:56,626 - INFO - allennlp.common.params - model.encoder.type = lstm\n",
      "2023-04-12 15:29:56,627 - INFO - allennlp.common.params - model.encoder.input_size = 768\n",
      "2023-04-12 15:29:56,627 - INFO - allennlp.common.params - model.encoder.hidden_size = 384\n",
      "2023-04-12 15:29:56,628 - INFO - allennlp.common.params - model.encoder.num_layers = 1\n",
      "2023-04-12 15:29:56,628 - INFO - allennlp.common.params - model.encoder.bias = True\n",
      "2023-04-12 15:29:56,629 - INFO - allennlp.common.params - model.encoder.dropout = 0.0\n",
      "2023-04-12 15:29:56,630 - INFO - allennlp.common.params - model.encoder.bidirectional = True\n",
      "2023-04-12 15:29:56,631 - INFO - allennlp.common.params - model.encoder.stateful = False\n",
      "2023-04-12 15:29:56,646 - INFO - allennlp.common.params - model.label_namespace = labels\n",
      "2023-04-12 15:29:56,647 - INFO - allennlp.common.params - model.feedforward.input_dim = 1536\n",
      "2023-04-12 15:29:56,648 - INFO - allennlp.common.params - model.feedforward.num_layers = 1\n",
      "2023-04-12 15:29:56,648 - INFO - allennlp.common.params - model.feedforward.hidden_dims = 60\n",
      "2023-04-12 15:29:56,649 - INFO - allennlp.common.params - model.feedforward.activations = relu\n",
      "2023-04-12 15:29:56,650 - INFO - allennlp.common.params - type = relu\n",
      "2023-04-12 15:29:56,650 - INFO - allennlp.common.params - model.feedforward.dropout = 0.05\n",
      "2023-04-12 15:29:56,652 - INFO - allennlp.common.params - model.label_encoding = DiscontiguousTest\n",
      "2023-04-12 15:29:56,653 - INFO - allennlp.common.params - model.include_start_end_transitions = False\n",
      "2023-04-12 15:29:56,653 - INFO - allennlp.common.params - model.constrain_crf_decoding = None\n",
      "2023-04-12 15:29:56,654 - INFO - allennlp.common.params - model.calculate_span_f1 = None\n",
      "2023-04-12 15:29:56,654 - INFO - allennlp.common.params - model.dropout = 0.05\n",
      "2023-04-12 15:29:56,655 - INFO - allennlp.common.params - model.verbose_metrics = False\n",
      "2023-04-12 15:29:56,655 - INFO - allennlp.common.params - model.initializer = <allennlp.nn.initializers.InitializerApplicator object at 0x7fe3bbdf5f10>\n",
      "2023-04-12 15:29:56,656 - INFO - allennlp.common.params - model.top_k = 1\n",
      "2023-04-12 15:29:56,656 - INFO - allennlp.common.params - model.ignore_loss_on_o_tags = False\n",
      "2023-04-12 15:29:56,670 - INFO - allennlp.nn.initializers - Initializing parameters\n",
      "2023-04-12 15:29:56,672 - INFO - allennlp.nn.initializers - Done initializing parameters; the following parameters are using their default initialization from their code\n",
      "2023-04-12 15:29:56,672 - INFO - allennlp.nn.initializers -    _attention.Er\n",
      "2023-04-12 15:29:56,673 - INFO - allennlp.nn.initializers -    _attention.key.bias\n",
      "2023-04-12 15:29:56,674 - INFO - allennlp.nn.initializers -    _attention.key.weight\n",
      "2023-04-12 15:29:56,674 - INFO - allennlp.nn.initializers -    _attention.query.bias\n",
      "2023-04-12 15:29:56,675 - INFO - allennlp.nn.initializers -    _attention.query.weight\n",
      "2023-04-12 15:29:56,675 - INFO - allennlp.nn.initializers -    _attention.value.bias\n",
      "2023-04-12 15:29:56,676 - INFO - allennlp.nn.initializers -    _attention.value.weight\n",
      "2023-04-12 15:29:56,677 - INFO - allennlp.nn.initializers -    _feedforward._linear_layers.0.bias\n",
      "2023-04-12 15:29:56,677 - INFO - allennlp.nn.initializers -    _feedforward._linear_layers.0.weight\n",
      "2023-04-12 15:29:56,678 - INFO - allennlp.nn.initializers -    crf._constraint_mask\n",
      "2023-04-12 15:29:56,678 - INFO - allennlp.nn.initializers -    crf.transitions\n",
      "2023-04-12 15:29:56,679 - INFO - allennlp.nn.initializers -    encoder._module.bias_hh_l0\n",
      "2023-04-12 15:29:56,679 - INFO - allennlp.nn.initializers -    encoder._module.bias_hh_l0_reverse\n",
      "2023-04-12 15:29:56,680 - INFO - allennlp.nn.initializers -    encoder._module.bias_ih_l0\n",
      "2023-04-12 15:29:56,680 - INFO - allennlp.nn.initializers -    encoder._module.bias_ih_l0_reverse\n",
      "2023-04-12 15:29:56,681 - INFO - allennlp.nn.initializers -    encoder._module.weight_hh_l0\n",
      "2023-04-12 15:29:56,682 - INFO - allennlp.nn.initializers -    encoder._module.weight_hh_l0_reverse\n",
      "2023-04-12 15:29:56,682 - INFO - allennlp.nn.initializers -    encoder._module.weight_ih_l0\n",
      "2023-04-12 15:29:56,683 - INFO - allennlp.nn.initializers -    encoder._module.weight_ih_l0_reverse\n",
      "2023-04-12 15:29:56,683 - INFO - allennlp.nn.initializers -    tag_projection_layer._module.bias\n",
      "2023-04-12 15:29:56,684 - INFO - allennlp.nn.initializers -    tag_projection_layer._module.weight\n",
      "2023-04-12 15:29:56,684 - INFO - allennlp.nn.initializers -    text_field_embedder.token_embedder_tokens.transformer_model.embeddings.LayerNorm.bias\n",
      "2023-04-12 15:29:56,685 - INFO - allennlp.nn.initializers -    text_field_embedder.token_embedder_tokens.transformer_model.embeddings.LayerNorm.weight\n",
      "2023-04-12 15:29:56,685 - INFO - allennlp.nn.initializers -    text_field_embedder.token_embedder_tokens.transformer_model.embeddings.position_embeddings.weight\n",
      "2023-04-12 15:29:56,685 - INFO - allennlp.nn.initializers -    text_field_embedder.token_embedder_tokens.transformer_model.embeddings.token_type_embeddings.weight\n"
     ]
    },
    {
     "name": "stdout",
     "output_type": "stream",
     "text": [
      "2023-04-12 15:29:56,686 - INFO - allennlp.nn.initializers -    text_field_embedder.token_embedder_tokens.transformer_model.embeddings.word_embeddings.weight\n",
      "2023-04-12 15:29:56,686 - INFO - allennlp.nn.initializers -    text_field_embedder.token_embedder_tokens.transformer_model.encoder.layer.0.attention.output.LayerNorm.bias\n",
      "2023-04-12 15:29:56,687 - INFO - allennlp.nn.initializers -    text_field_embedder.token_embedder_tokens.transformer_model.encoder.layer.0.attention.output.LayerNorm.weight\n",
      "2023-04-12 15:29:56,687 - INFO - allennlp.nn.initializers -    text_field_embedder.token_embedder_tokens.transformer_model.encoder.layer.0.attention.output.dense.bias\n",
      "2023-04-12 15:29:56,688 - INFO - allennlp.nn.initializers -    text_field_embedder.token_embedder_tokens.transformer_model.encoder.layer.0.attention.output.dense.weight\n",
      "2023-04-12 15:29:56,688 - INFO - allennlp.nn.initializers -    text_field_embedder.token_embedder_tokens.transformer_model.encoder.layer.0.attention.self.key.bias\n",
      "2023-04-12 15:29:56,689 - INFO - allennlp.nn.initializers -    text_field_embedder.token_embedder_tokens.transformer_model.encoder.layer.0.attention.self.key.weight\n",
      "2023-04-12 15:29:56,689 - INFO - allennlp.nn.initializers -    text_field_embedder.token_embedder_tokens.transformer_model.encoder.layer.0.attention.self.query.bias\n",
      "2023-04-12 15:29:56,690 - INFO - allennlp.nn.initializers -    text_field_embedder.token_embedder_tokens.transformer_model.encoder.layer.0.attention.self.query.weight\n",
      "2023-04-12 15:29:56,690 - INFO - allennlp.nn.initializers -    text_field_embedder.token_embedder_tokens.transformer_model.encoder.layer.0.attention.self.value.bias\n",
      "2023-04-12 15:29:56,691 - INFO - allennlp.nn.initializers -    text_field_embedder.token_embedder_tokens.transformer_model.encoder.layer.0.attention.self.value.weight\n",
      "2023-04-12 15:29:56,691 - INFO - allennlp.nn.initializers -    text_field_embedder.token_embedder_tokens.transformer_model.encoder.layer.0.intermediate.dense.bias\n",
      "2023-04-12 15:29:56,692 - INFO - allennlp.nn.initializers -    text_field_embedder.token_embedder_tokens.transformer_model.encoder.layer.0.intermediate.dense.weight\n",
      "2023-04-12 15:29:56,692 - INFO - allennlp.nn.initializers -    text_field_embedder.token_embedder_tokens.transformer_model.encoder.layer.0.output.LayerNorm.bias\n",
      "2023-04-12 15:29:56,693 - INFO - allennlp.nn.initializers -    text_field_embedder.token_embedder_tokens.transformer_model.encoder.layer.0.output.LayerNorm.weight\n",
      "2023-04-12 15:29:56,693 - INFO - allennlp.nn.initializers -    text_field_embedder.token_embedder_tokens.transformer_model.encoder.layer.0.output.dense.bias\n",
      "2023-04-12 15:29:56,694 - INFO - allennlp.nn.initializers -    text_field_embedder.token_embedder_tokens.transformer_model.encoder.layer.0.output.dense.weight\n",
      "2023-04-12 15:29:56,694 - INFO - allennlp.nn.initializers -    text_field_embedder.token_embedder_tokens.transformer_model.encoder.layer.1.attention.output.LayerNorm.bias\n",
      "2023-04-12 15:29:56,695 - INFO - allennlp.nn.initializers -    text_field_embedder.token_embedder_tokens.transformer_model.encoder.layer.1.attention.output.LayerNorm.weight\n",
      "2023-04-12 15:29:56,695 - INFO - allennlp.nn.initializers -    text_field_embedder.token_embedder_tokens.transformer_model.encoder.layer.1.attention.output.dense.bias\n",
      "2023-04-12 15:29:56,696 - INFO - allennlp.nn.initializers -    text_field_embedder.token_embedder_tokens.transformer_model.encoder.layer.1.attention.output.dense.weight\n",
      "2023-04-12 15:29:56,696 - INFO - allennlp.nn.initializers -    text_field_embedder.token_embedder_tokens.transformer_model.encoder.layer.1.attention.self.key.bias\n",
      "2023-04-12 15:29:56,697 - INFO - allennlp.nn.initializers -    text_field_embedder.token_embedder_tokens.transformer_model.encoder.layer.1.attention.self.key.weight\n",
      "2023-04-12 15:29:56,697 - INFO - allennlp.nn.initializers -    text_field_embedder.token_embedder_tokens.transformer_model.encoder.layer.1.attention.self.query.bias\n",
      "2023-04-12 15:29:56,698 - INFO - allennlp.nn.initializers -    text_field_embedder.token_embedder_tokens.transformer_model.encoder.layer.1.attention.self.query.weight\n",
      "2023-04-12 15:29:56,698 - INFO - allennlp.nn.initializers -    text_field_embedder.token_embedder_tokens.transformer_model.encoder.layer.1.attention.self.value.bias\n",
      "2023-04-12 15:29:56,699 - INFO - allennlp.nn.initializers -    text_field_embedder.token_embedder_tokens.transformer_model.encoder.layer.1.attention.self.value.weight\n",
      "2023-04-12 15:29:56,699 - INFO - allennlp.nn.initializers -    text_field_embedder.token_embedder_tokens.transformer_model.encoder.layer.1.intermediate.dense.bias\n",
      "2023-04-12 15:29:56,700 - INFO - allennlp.nn.initializers -    text_field_embedder.token_embedder_tokens.transformer_model.encoder.layer.1.intermediate.dense.weight\n",
      "2023-04-12 15:29:56,700 - INFO - allennlp.nn.initializers -    text_field_embedder.token_embedder_tokens.transformer_model.encoder.layer.1.output.LayerNorm.bias\n",
      "2023-04-12 15:29:56,701 - INFO - allennlp.nn.initializers -    text_field_embedder.token_embedder_tokens.transformer_model.encoder.layer.1.output.LayerNorm.weight\n",
      "2023-04-12 15:29:56,701 - INFO - allennlp.nn.initializers -    text_field_embedder.token_embedder_tokens.transformer_model.encoder.layer.1.output.dense.bias\n",
      "2023-04-12 15:29:56,702 - INFO - allennlp.nn.initializers -    text_field_embedder.token_embedder_tokens.transformer_model.encoder.layer.1.output.dense.weight\n",
      "2023-04-12 15:29:56,702 - INFO - allennlp.nn.initializers -    text_field_embedder.token_embedder_tokens.transformer_model.encoder.layer.10.attention.output.LayerNorm.bias\n",
      "2023-04-12 15:29:56,703 - INFO - allennlp.nn.initializers -    text_field_embedder.token_embedder_tokens.transformer_model.encoder.layer.10.attention.output.LayerNorm.weight\n",
      "2023-04-12 15:29:56,703 - INFO - allennlp.nn.initializers -    text_field_embedder.token_embedder_tokens.transformer_model.encoder.layer.10.attention.output.dense.bias\n",
      "2023-04-12 15:29:56,704 - INFO - allennlp.nn.initializers -    text_field_embedder.token_embedder_tokens.transformer_model.encoder.layer.10.attention.output.dense.weight\n",
      "2023-04-12 15:29:56,704 - INFO - allennlp.nn.initializers -    text_field_embedder.token_embedder_tokens.transformer_model.encoder.layer.10.attention.self.key.bias\n",
      "2023-04-12 15:29:56,705 - INFO - allennlp.nn.initializers -    text_field_embedder.token_embedder_tokens.transformer_model.encoder.layer.10.attention.self.key.weight\n",
      "2023-04-12 15:29:56,705 - INFO - allennlp.nn.initializers -    text_field_embedder.token_embedder_tokens.transformer_model.encoder.layer.10.attention.self.query.bias\n",
      "2023-04-12 15:29:56,706 - INFO - allennlp.nn.initializers -    text_field_embedder.token_embedder_tokens.transformer_model.encoder.layer.10.attention.self.query.weight\n",
      "2023-04-12 15:29:56,706 - INFO - allennlp.nn.initializers -    text_field_embedder.token_embedder_tokens.transformer_model.encoder.layer.10.attention.self.value.bias\n",
      "2023-04-12 15:29:56,707 - INFO - allennlp.nn.initializers -    text_field_embedder.token_embedder_tokens.transformer_model.encoder.layer.10.attention.self.value.weight\n",
      "2023-04-12 15:29:56,707 - INFO - allennlp.nn.initializers -    text_field_embedder.token_embedder_tokens.transformer_model.encoder.layer.10.intermediate.dense.bias\n",
      "2023-04-12 15:29:56,708 - INFO - allennlp.nn.initializers -    text_field_embedder.token_embedder_tokens.transformer_model.encoder.layer.10.intermediate.dense.weight\n",
      "2023-04-12 15:29:56,708 - INFO - allennlp.nn.initializers -    text_field_embedder.token_embedder_tokens.transformer_model.encoder.layer.10.output.LayerNorm.bias\n",
      "2023-04-12 15:29:56,709 - INFO - allennlp.nn.initializers -    text_field_embedder.token_embedder_tokens.transformer_model.encoder.layer.10.output.LayerNorm.weight\n",
      "2023-04-12 15:29:56,709 - INFO - allennlp.nn.initializers -    text_field_embedder.token_embedder_tokens.transformer_model.encoder.layer.10.output.dense.bias\n",
      "2023-04-12 15:29:56,710 - INFO - allennlp.nn.initializers -    text_field_embedder.token_embedder_tokens.transformer_model.encoder.layer.10.output.dense.weight\n",
      "2023-04-12 15:29:56,711 - INFO - allennlp.nn.initializers -    text_field_embedder.token_embedder_tokens.transformer_model.encoder.layer.11.attention.output.LayerNorm.bias\n"
     ]
    },
    {
     "name": "stdout",
     "output_type": "stream",
     "text": [
      "2023-04-12 15:29:56,711 - INFO - allennlp.nn.initializers -    text_field_embedder.token_embedder_tokens.transformer_model.encoder.layer.11.attention.output.LayerNorm.weight\n",
      "2023-04-12 15:29:56,712 - INFO - allennlp.nn.initializers -    text_field_embedder.token_embedder_tokens.transformer_model.encoder.layer.11.attention.output.dense.bias\n",
      "2023-04-12 15:29:56,712 - INFO - allennlp.nn.initializers -    text_field_embedder.token_embedder_tokens.transformer_model.encoder.layer.11.attention.output.dense.weight\n",
      "2023-04-12 15:29:56,713 - INFO - allennlp.nn.initializers -    text_field_embedder.token_embedder_tokens.transformer_model.encoder.layer.11.attention.self.key.bias\n",
      "2023-04-12 15:29:56,713 - INFO - allennlp.nn.initializers -    text_field_embedder.token_embedder_tokens.transformer_model.encoder.layer.11.attention.self.key.weight\n",
      "2023-04-12 15:29:56,714 - INFO - allennlp.nn.initializers -    text_field_embedder.token_embedder_tokens.transformer_model.encoder.layer.11.attention.self.query.bias\n",
      "2023-04-12 15:29:56,714 - INFO - allennlp.nn.initializers -    text_field_embedder.token_embedder_tokens.transformer_model.encoder.layer.11.attention.self.query.weight\n",
      "2023-04-12 15:29:56,715 - INFO - allennlp.nn.initializers -    text_field_embedder.token_embedder_tokens.transformer_model.encoder.layer.11.attention.self.value.bias\n",
      "2023-04-12 15:29:56,715 - INFO - allennlp.nn.initializers -    text_field_embedder.token_embedder_tokens.transformer_model.encoder.layer.11.attention.self.value.weight\n",
      "2023-04-12 15:29:56,716 - INFO - allennlp.nn.initializers -    text_field_embedder.token_embedder_tokens.transformer_model.encoder.layer.11.intermediate.dense.bias\n",
      "2023-04-12 15:29:56,716 - INFO - allennlp.nn.initializers -    text_field_embedder.token_embedder_tokens.transformer_model.encoder.layer.11.intermediate.dense.weight\n",
      "2023-04-12 15:29:56,717 - INFO - allennlp.nn.initializers -    text_field_embedder.token_embedder_tokens.transformer_model.encoder.layer.11.output.LayerNorm.bias\n",
      "2023-04-12 15:29:56,717 - INFO - allennlp.nn.initializers -    text_field_embedder.token_embedder_tokens.transformer_model.encoder.layer.11.output.LayerNorm.weight\n",
      "2023-04-12 15:29:56,718 - INFO - allennlp.nn.initializers -    text_field_embedder.token_embedder_tokens.transformer_model.encoder.layer.11.output.dense.bias\n",
      "2023-04-12 15:29:56,718 - INFO - allennlp.nn.initializers -    text_field_embedder.token_embedder_tokens.transformer_model.encoder.layer.11.output.dense.weight\n",
      "2023-04-12 15:29:56,719 - INFO - allennlp.nn.initializers -    text_field_embedder.token_embedder_tokens.transformer_model.encoder.layer.2.attention.output.LayerNorm.bias\n",
      "2023-04-12 15:29:56,719 - INFO - allennlp.nn.initializers -    text_field_embedder.token_embedder_tokens.transformer_model.encoder.layer.2.attention.output.LayerNorm.weight\n",
      "2023-04-12 15:29:56,719 - INFO - allennlp.nn.initializers -    text_field_embedder.token_embedder_tokens.transformer_model.encoder.layer.2.attention.output.dense.bias\n",
      "2023-04-12 15:29:56,720 - INFO - allennlp.nn.initializers -    text_field_embedder.token_embedder_tokens.transformer_model.encoder.layer.2.attention.output.dense.weight\n",
      "2023-04-12 15:29:56,720 - INFO - allennlp.nn.initializers -    text_field_embedder.token_embedder_tokens.transformer_model.encoder.layer.2.attention.self.key.bias\n",
      "2023-04-12 15:29:56,721 - INFO - allennlp.nn.initializers -    text_field_embedder.token_embedder_tokens.transformer_model.encoder.layer.2.attention.self.key.weight\n",
      "2023-04-12 15:29:56,721 - INFO - allennlp.nn.initializers -    text_field_embedder.token_embedder_tokens.transformer_model.encoder.layer.2.attention.self.query.bias\n",
      "2023-04-12 15:29:56,722 - INFO - allennlp.nn.initializers -    text_field_embedder.token_embedder_tokens.transformer_model.encoder.layer.2.attention.self.query.weight\n",
      "2023-04-12 15:29:56,723 - INFO - allennlp.nn.initializers -    text_field_embedder.token_embedder_tokens.transformer_model.encoder.layer.2.attention.self.value.bias\n",
      "2023-04-12 15:29:56,723 - INFO - allennlp.nn.initializers -    text_field_embedder.token_embedder_tokens.transformer_model.encoder.layer.2.attention.self.value.weight\n",
      "2023-04-12 15:29:56,724 - INFO - allennlp.nn.initializers -    text_field_embedder.token_embedder_tokens.transformer_model.encoder.layer.2.intermediate.dense.bias\n",
      "2023-04-12 15:29:56,724 - INFO - allennlp.nn.initializers -    text_field_embedder.token_embedder_tokens.transformer_model.encoder.layer.2.intermediate.dense.weight\n",
      "2023-04-12 15:29:56,725 - INFO - allennlp.nn.initializers -    text_field_embedder.token_embedder_tokens.transformer_model.encoder.layer.2.output.LayerNorm.bias\n",
      "2023-04-12 15:29:56,725 - INFO - allennlp.nn.initializers -    text_field_embedder.token_embedder_tokens.transformer_model.encoder.layer.2.output.LayerNorm.weight\n",
      "2023-04-12 15:29:56,725 - INFO - allennlp.nn.initializers -    text_field_embedder.token_embedder_tokens.transformer_model.encoder.layer.2.output.dense.bias\n",
      "2023-04-12 15:29:56,726 - INFO - allennlp.nn.initializers -    text_field_embedder.token_embedder_tokens.transformer_model.encoder.layer.2.output.dense.weight\n",
      "2023-04-12 15:29:56,726 - INFO - allennlp.nn.initializers -    text_field_embedder.token_embedder_tokens.transformer_model.encoder.layer.3.attention.output.LayerNorm.bias\n",
      "2023-04-12 15:29:56,727 - INFO - allennlp.nn.initializers -    text_field_embedder.token_embedder_tokens.transformer_model.encoder.layer.3.attention.output.LayerNorm.weight\n",
      "2023-04-12 15:29:56,727 - INFO - allennlp.nn.initializers -    text_field_embedder.token_embedder_tokens.transformer_model.encoder.layer.3.attention.output.dense.bias\n",
      "2023-04-12 15:29:56,728 - INFO - allennlp.nn.initializers -    text_field_embedder.token_embedder_tokens.transformer_model.encoder.layer.3.attention.output.dense.weight\n",
      "2023-04-12 15:29:56,728 - INFO - allennlp.nn.initializers -    text_field_embedder.token_embedder_tokens.transformer_model.encoder.layer.3.attention.self.key.bias\n",
      "2023-04-12 15:29:56,729 - INFO - allennlp.nn.initializers -    text_field_embedder.token_embedder_tokens.transformer_model.encoder.layer.3.attention.self.key.weight\n",
      "2023-04-12 15:29:56,729 - INFO - allennlp.nn.initializers -    text_field_embedder.token_embedder_tokens.transformer_model.encoder.layer.3.attention.self.query.bias\n",
      "2023-04-12 15:29:56,730 - INFO - allennlp.nn.initializers -    text_field_embedder.token_embedder_tokens.transformer_model.encoder.layer.3.attention.self.query.weight\n",
      "2023-04-12 15:29:56,730 - INFO - allennlp.nn.initializers -    text_field_embedder.token_embedder_tokens.transformer_model.encoder.layer.3.attention.self.value.bias\n",
      "2023-04-12 15:29:56,731 - INFO - allennlp.nn.initializers -    text_field_embedder.token_embedder_tokens.transformer_model.encoder.layer.3.attention.self.value.weight\n",
      "2023-04-12 15:29:56,731 - INFO - allennlp.nn.initializers -    text_field_embedder.token_embedder_tokens.transformer_model.encoder.layer.3.intermediate.dense.bias\n",
      "2023-04-12 15:29:56,732 - INFO - allennlp.nn.initializers -    text_field_embedder.token_embedder_tokens.transformer_model.encoder.layer.3.intermediate.dense.weight\n",
      "2023-04-12 15:29:56,732 - INFO - allennlp.nn.initializers -    text_field_embedder.token_embedder_tokens.transformer_model.encoder.layer.3.output.LayerNorm.bias\n",
      "2023-04-12 15:29:56,733 - INFO - allennlp.nn.initializers -    text_field_embedder.token_embedder_tokens.transformer_model.encoder.layer.3.output.LayerNorm.weight\n",
      "2023-04-12 15:29:56,733 - INFO - allennlp.nn.initializers -    text_field_embedder.token_embedder_tokens.transformer_model.encoder.layer.3.output.dense.bias\n",
      "2023-04-12 15:29:56,734 - INFO - allennlp.nn.initializers -    text_field_embedder.token_embedder_tokens.transformer_model.encoder.layer.3.output.dense.weight\n",
      "2023-04-12 15:29:56,735 - INFO - allennlp.nn.initializers -    text_field_embedder.token_embedder_tokens.transformer_model.encoder.layer.4.attention.output.LayerNorm.bias\n",
      "2023-04-12 15:29:56,735 - INFO - allennlp.nn.initializers -    text_field_embedder.token_embedder_tokens.transformer_model.encoder.layer.4.attention.output.LayerNorm.weight\n",
      "2023-04-12 15:29:56,736 - INFO - allennlp.nn.initializers -    text_field_embedder.token_embedder_tokens.transformer_model.encoder.layer.4.attention.output.dense.bias\n"
     ]
    },
    {
     "name": "stdout",
     "output_type": "stream",
     "text": [
      "2023-04-12 15:29:56,736 - INFO - allennlp.nn.initializers -    text_field_embedder.token_embedder_tokens.transformer_model.encoder.layer.4.attention.output.dense.weight\n",
      "2023-04-12 15:29:56,737 - INFO - allennlp.nn.initializers -    text_field_embedder.token_embedder_tokens.transformer_model.encoder.layer.4.attention.self.key.bias\n",
      "2023-04-12 15:29:56,737 - INFO - allennlp.nn.initializers -    text_field_embedder.token_embedder_tokens.transformer_model.encoder.layer.4.attention.self.key.weight\n",
      "2023-04-12 15:29:56,738 - INFO - allennlp.nn.initializers -    text_field_embedder.token_embedder_tokens.transformer_model.encoder.layer.4.attention.self.query.bias\n",
      "2023-04-12 15:29:56,738 - INFO - allennlp.nn.initializers -    text_field_embedder.token_embedder_tokens.transformer_model.encoder.layer.4.attention.self.query.weight\n",
      "2023-04-12 15:29:56,739 - INFO - allennlp.nn.initializers -    text_field_embedder.token_embedder_tokens.transformer_model.encoder.layer.4.attention.self.value.bias\n",
      "2023-04-12 15:29:56,739 - INFO - allennlp.nn.initializers -    text_field_embedder.token_embedder_tokens.transformer_model.encoder.layer.4.attention.self.value.weight\n",
      "2023-04-12 15:29:56,740 - INFO - allennlp.nn.initializers -    text_field_embedder.token_embedder_tokens.transformer_model.encoder.layer.4.intermediate.dense.bias\n",
      "2023-04-12 15:29:56,740 - INFO - allennlp.nn.initializers -    text_field_embedder.token_embedder_tokens.transformer_model.encoder.layer.4.intermediate.dense.weight\n",
      "2023-04-12 15:29:56,741 - INFO - allennlp.nn.initializers -    text_field_embedder.token_embedder_tokens.transformer_model.encoder.layer.4.output.LayerNorm.bias\n",
      "2023-04-12 15:29:56,741 - INFO - allennlp.nn.initializers -    text_field_embedder.token_embedder_tokens.transformer_model.encoder.layer.4.output.LayerNorm.weight\n",
      "2023-04-12 15:29:56,742 - INFO - allennlp.nn.initializers -    text_field_embedder.token_embedder_tokens.transformer_model.encoder.layer.4.output.dense.bias\n",
      "2023-04-12 15:29:56,742 - INFO - allennlp.nn.initializers -    text_field_embedder.token_embedder_tokens.transformer_model.encoder.layer.4.output.dense.weight\n",
      "2023-04-12 15:29:56,743 - INFO - allennlp.nn.initializers -    text_field_embedder.token_embedder_tokens.transformer_model.encoder.layer.5.attention.output.LayerNorm.bias\n",
      "2023-04-12 15:29:56,743 - INFO - allennlp.nn.initializers -    text_field_embedder.token_embedder_tokens.transformer_model.encoder.layer.5.attention.output.LayerNorm.weight\n",
      "2023-04-12 15:29:56,744 - INFO - allennlp.nn.initializers -    text_field_embedder.token_embedder_tokens.transformer_model.encoder.layer.5.attention.output.dense.bias\n",
      "2023-04-12 15:29:56,744 - INFO - allennlp.nn.initializers -    text_field_embedder.token_embedder_tokens.transformer_model.encoder.layer.5.attention.output.dense.weight\n",
      "2023-04-12 15:29:56,745 - INFO - allennlp.nn.initializers -    text_field_embedder.token_embedder_tokens.transformer_model.encoder.layer.5.attention.self.key.bias\n",
      "2023-04-12 15:29:56,745 - INFO - allennlp.nn.initializers -    text_field_embedder.token_embedder_tokens.transformer_model.encoder.layer.5.attention.self.key.weight\n",
      "2023-04-12 15:29:56,746 - INFO - allennlp.nn.initializers -    text_field_embedder.token_embedder_tokens.transformer_model.encoder.layer.5.attention.self.query.bias\n",
      "2023-04-12 15:29:56,746 - INFO - allennlp.nn.initializers -    text_field_embedder.token_embedder_tokens.transformer_model.encoder.layer.5.attention.self.query.weight\n",
      "2023-04-12 15:29:56,747 - INFO - allennlp.nn.initializers -    text_field_embedder.token_embedder_tokens.transformer_model.encoder.layer.5.attention.self.value.bias\n",
      "2023-04-12 15:29:56,747 - INFO - allennlp.nn.initializers -    text_field_embedder.token_embedder_tokens.transformer_model.encoder.layer.5.attention.self.value.weight\n",
      "2023-04-12 15:29:56,748 - INFO - allennlp.nn.initializers -    text_field_embedder.token_embedder_tokens.transformer_model.encoder.layer.5.intermediate.dense.bias\n",
      "2023-04-12 15:29:56,748 - INFO - allennlp.nn.initializers -    text_field_embedder.token_embedder_tokens.transformer_model.encoder.layer.5.intermediate.dense.weight\n",
      "2023-04-12 15:29:56,749 - INFO - allennlp.nn.initializers -    text_field_embedder.token_embedder_tokens.transformer_model.encoder.layer.5.output.LayerNorm.bias\n",
      "2023-04-12 15:29:56,749 - INFO - allennlp.nn.initializers -    text_field_embedder.token_embedder_tokens.transformer_model.encoder.layer.5.output.LayerNorm.weight\n",
      "2023-04-12 15:29:56,750 - INFO - allennlp.nn.initializers -    text_field_embedder.token_embedder_tokens.transformer_model.encoder.layer.5.output.dense.bias\n",
      "2023-04-12 15:29:56,750 - INFO - allennlp.nn.initializers -    text_field_embedder.token_embedder_tokens.transformer_model.encoder.layer.5.output.dense.weight\n",
      "2023-04-12 15:29:56,750 - INFO - allennlp.nn.initializers -    text_field_embedder.token_embedder_tokens.transformer_model.encoder.layer.6.attention.output.LayerNorm.bias\n",
      "2023-04-12 15:29:56,751 - INFO - allennlp.nn.initializers -    text_field_embedder.token_embedder_tokens.transformer_model.encoder.layer.6.attention.output.LayerNorm.weight\n",
      "2023-04-12 15:29:56,752 - INFO - allennlp.nn.initializers -    text_field_embedder.token_embedder_tokens.transformer_model.encoder.layer.6.attention.output.dense.bias\n",
      "2023-04-12 15:29:56,752 - INFO - allennlp.nn.initializers -    text_field_embedder.token_embedder_tokens.transformer_model.encoder.layer.6.attention.output.dense.weight\n",
      "2023-04-12 15:29:56,752 - INFO - allennlp.nn.initializers -    text_field_embedder.token_embedder_tokens.transformer_model.encoder.layer.6.attention.self.key.bias\n",
      "2023-04-12 15:29:56,753 - INFO - allennlp.nn.initializers -    text_field_embedder.token_embedder_tokens.transformer_model.encoder.layer.6.attention.self.key.weight\n",
      "2023-04-12 15:29:56,753 - INFO - allennlp.nn.initializers -    text_field_embedder.token_embedder_tokens.transformer_model.encoder.layer.6.attention.self.query.bias\n",
      "2023-04-12 15:29:56,754 - INFO - allennlp.nn.initializers -    text_field_embedder.token_embedder_tokens.transformer_model.encoder.layer.6.attention.self.query.weight\n",
      "2023-04-12 15:29:56,754 - INFO - allennlp.nn.initializers -    text_field_embedder.token_embedder_tokens.transformer_model.encoder.layer.6.attention.self.value.bias\n",
      "2023-04-12 15:29:56,755 - INFO - allennlp.nn.initializers -    text_field_embedder.token_embedder_tokens.transformer_model.encoder.layer.6.attention.self.value.weight\n",
      "2023-04-12 15:29:56,755 - INFO - allennlp.nn.initializers -    text_field_embedder.token_embedder_tokens.transformer_model.encoder.layer.6.intermediate.dense.bias\n",
      "2023-04-12 15:29:56,756 - INFO - allennlp.nn.initializers -    text_field_embedder.token_embedder_tokens.transformer_model.encoder.layer.6.intermediate.dense.weight\n",
      "2023-04-12 15:29:56,756 - INFO - allennlp.nn.initializers -    text_field_embedder.token_embedder_tokens.transformer_model.encoder.layer.6.output.LayerNorm.bias\n",
      "2023-04-12 15:29:56,757 - INFO - allennlp.nn.initializers -    text_field_embedder.token_embedder_tokens.transformer_model.encoder.layer.6.output.LayerNorm.weight\n",
      "2023-04-12 15:29:56,758 - INFO - allennlp.nn.initializers -    text_field_embedder.token_embedder_tokens.transformer_model.encoder.layer.6.output.dense.bias\n",
      "2023-04-12 15:29:56,758 - INFO - allennlp.nn.initializers -    text_field_embedder.token_embedder_tokens.transformer_model.encoder.layer.6.output.dense.weight\n",
      "2023-04-12 15:29:56,758 - INFO - allennlp.nn.initializers -    text_field_embedder.token_embedder_tokens.transformer_model.encoder.layer.7.attention.output.LayerNorm.bias\n",
      "2023-04-12 15:29:56,759 - INFO - allennlp.nn.initializers -    text_field_embedder.token_embedder_tokens.transformer_model.encoder.layer.7.attention.output.LayerNorm.weight\n",
      "2023-04-12 15:29:56,759 - INFO - allennlp.nn.initializers -    text_field_embedder.token_embedder_tokens.transformer_model.encoder.layer.7.attention.output.dense.bias\n",
      "2023-04-12 15:29:56,760 - INFO - allennlp.nn.initializers -    text_field_embedder.token_embedder_tokens.transformer_model.encoder.layer.7.attention.output.dense.weight\n",
      "2023-04-12 15:29:56,760 - INFO - allennlp.nn.initializers -    text_field_embedder.token_embedder_tokens.transformer_model.encoder.layer.7.attention.self.key.bias\n"
     ]
    },
    {
     "name": "stdout",
     "output_type": "stream",
     "text": [
      "2023-04-12 15:29:56,761 - INFO - allennlp.nn.initializers -    text_field_embedder.token_embedder_tokens.transformer_model.encoder.layer.7.attention.self.key.weight\n",
      "2023-04-12 15:29:56,761 - INFO - allennlp.nn.initializers -    text_field_embedder.token_embedder_tokens.transformer_model.encoder.layer.7.attention.self.query.bias\n",
      "2023-04-12 15:29:56,762 - INFO - allennlp.nn.initializers -    text_field_embedder.token_embedder_tokens.transformer_model.encoder.layer.7.attention.self.query.weight\n",
      "2023-04-12 15:29:56,762 - INFO - allennlp.nn.initializers -    text_field_embedder.token_embedder_tokens.transformer_model.encoder.layer.7.attention.self.value.bias\n",
      "2023-04-12 15:29:56,763 - INFO - allennlp.nn.initializers -    text_field_embedder.token_embedder_tokens.transformer_model.encoder.layer.7.attention.self.value.weight\n",
      "2023-04-12 15:29:56,763 - INFO - allennlp.nn.initializers -    text_field_embedder.token_embedder_tokens.transformer_model.encoder.layer.7.intermediate.dense.bias\n",
      "2023-04-12 15:29:56,764 - INFO - allennlp.nn.initializers -    text_field_embedder.token_embedder_tokens.transformer_model.encoder.layer.7.intermediate.dense.weight\n",
      "2023-04-12 15:29:56,764 - INFO - allennlp.nn.initializers -    text_field_embedder.token_embedder_tokens.transformer_model.encoder.layer.7.output.LayerNorm.bias\n",
      "2023-04-12 15:29:56,765 - INFO - allennlp.nn.initializers -    text_field_embedder.token_embedder_tokens.transformer_model.encoder.layer.7.output.LayerNorm.weight\n",
      "2023-04-12 15:29:56,765 - INFO - allennlp.nn.initializers -    text_field_embedder.token_embedder_tokens.transformer_model.encoder.layer.7.output.dense.bias\n",
      "2023-04-12 15:29:56,766 - INFO - allennlp.nn.initializers -    text_field_embedder.token_embedder_tokens.transformer_model.encoder.layer.7.output.dense.weight\n",
      "2023-04-12 15:29:56,766 - INFO - allennlp.nn.initializers -    text_field_embedder.token_embedder_tokens.transformer_model.encoder.layer.8.attention.output.LayerNorm.bias\n",
      "2023-04-12 15:29:56,767 - INFO - allennlp.nn.initializers -    text_field_embedder.token_embedder_tokens.transformer_model.encoder.layer.8.attention.output.LayerNorm.weight\n",
      "2023-04-12 15:29:56,767 - INFO - allennlp.nn.initializers -    text_field_embedder.token_embedder_tokens.transformer_model.encoder.layer.8.attention.output.dense.bias\n",
      "2023-04-12 15:29:56,768 - INFO - allennlp.nn.initializers -    text_field_embedder.token_embedder_tokens.transformer_model.encoder.layer.8.attention.output.dense.weight\n",
      "2023-04-12 15:29:56,768 - INFO - allennlp.nn.initializers -    text_field_embedder.token_embedder_tokens.transformer_model.encoder.layer.8.attention.self.key.bias\n",
      "2023-04-12 15:29:56,769 - INFO - allennlp.nn.initializers -    text_field_embedder.token_embedder_tokens.transformer_model.encoder.layer.8.attention.self.key.weight\n",
      "2023-04-12 15:29:56,769 - INFO - allennlp.nn.initializers -    text_field_embedder.token_embedder_tokens.transformer_model.encoder.layer.8.attention.self.query.bias\n",
      "2023-04-12 15:29:56,770 - INFO - allennlp.nn.initializers -    text_field_embedder.token_embedder_tokens.transformer_model.encoder.layer.8.attention.self.query.weight\n",
      "2023-04-12 15:29:56,770 - INFO - allennlp.nn.initializers -    text_field_embedder.token_embedder_tokens.transformer_model.encoder.layer.8.attention.self.value.bias\n",
      "2023-04-12 15:29:56,771 - INFO - allennlp.nn.initializers -    text_field_embedder.token_embedder_tokens.transformer_model.encoder.layer.8.attention.self.value.weight\n",
      "2023-04-12 15:29:56,771 - INFO - allennlp.nn.initializers -    text_field_embedder.token_embedder_tokens.transformer_model.encoder.layer.8.intermediate.dense.bias\n",
      "2023-04-12 15:29:56,772 - INFO - allennlp.nn.initializers -    text_field_embedder.token_embedder_tokens.transformer_model.encoder.layer.8.intermediate.dense.weight\n",
      "2023-04-12 15:29:56,772 - INFO - allennlp.nn.initializers -    text_field_embedder.token_embedder_tokens.transformer_model.encoder.layer.8.output.LayerNorm.bias\n",
      "2023-04-12 15:29:56,773 - INFO - allennlp.nn.initializers -    text_field_embedder.token_embedder_tokens.transformer_model.encoder.layer.8.output.LayerNorm.weight\n",
      "2023-04-12 15:29:56,773 - INFO - allennlp.nn.initializers -    text_field_embedder.token_embedder_tokens.transformer_model.encoder.layer.8.output.dense.bias\n",
      "2023-04-12 15:29:56,774 - INFO - allennlp.nn.initializers -    text_field_embedder.token_embedder_tokens.transformer_model.encoder.layer.8.output.dense.weight\n",
      "2023-04-12 15:29:56,774 - INFO - allennlp.nn.initializers -    text_field_embedder.token_embedder_tokens.transformer_model.encoder.layer.9.attention.output.LayerNorm.bias\n",
      "2023-04-12 15:29:56,775 - INFO - allennlp.nn.initializers -    text_field_embedder.token_embedder_tokens.transformer_model.encoder.layer.9.attention.output.LayerNorm.weight\n",
      "2023-04-12 15:29:56,775 - INFO - allennlp.nn.initializers -    text_field_embedder.token_embedder_tokens.transformer_model.encoder.layer.9.attention.output.dense.bias\n",
      "2023-04-12 15:29:56,776 - INFO - allennlp.nn.initializers -    text_field_embedder.token_embedder_tokens.transformer_model.encoder.layer.9.attention.output.dense.weight\n",
      "2023-04-12 15:29:56,776 - INFO - allennlp.nn.initializers -    text_field_embedder.token_embedder_tokens.transformer_model.encoder.layer.9.attention.self.key.bias\n",
      "2023-04-12 15:29:56,777 - INFO - allennlp.nn.initializers -    text_field_embedder.token_embedder_tokens.transformer_model.encoder.layer.9.attention.self.key.weight\n",
      "2023-04-12 15:29:56,777 - INFO - allennlp.nn.initializers -    text_field_embedder.token_embedder_tokens.transformer_model.encoder.layer.9.attention.self.query.bias\n",
      "2023-04-12 15:29:56,778 - INFO - allennlp.nn.initializers -    text_field_embedder.token_embedder_tokens.transformer_model.encoder.layer.9.attention.self.query.weight\n",
      "2023-04-12 15:29:56,778 - INFO - allennlp.nn.initializers -    text_field_embedder.token_embedder_tokens.transformer_model.encoder.layer.9.attention.self.value.bias\n",
      "2023-04-12 15:29:56,779 - INFO - allennlp.nn.initializers -    text_field_embedder.token_embedder_tokens.transformer_model.encoder.layer.9.attention.self.value.weight\n",
      "2023-04-12 15:29:56,779 - INFO - allennlp.nn.initializers -    text_field_embedder.token_embedder_tokens.transformer_model.encoder.layer.9.intermediate.dense.bias\n",
      "2023-04-12 15:29:56,780 - INFO - allennlp.nn.initializers -    text_field_embedder.token_embedder_tokens.transformer_model.encoder.layer.9.intermediate.dense.weight\n",
      "2023-04-12 15:29:56,780 - INFO - allennlp.nn.initializers -    text_field_embedder.token_embedder_tokens.transformer_model.encoder.layer.9.output.LayerNorm.bias\n",
      "2023-04-12 15:29:56,781 - INFO - allennlp.nn.initializers -    text_field_embedder.token_embedder_tokens.transformer_model.encoder.layer.9.output.LayerNorm.weight\n",
      "2023-04-12 15:29:56,781 - INFO - allennlp.nn.initializers -    text_field_embedder.token_embedder_tokens.transformer_model.encoder.layer.9.output.dense.bias\n",
      "2023-04-12 15:29:56,782 - INFO - allennlp.nn.initializers -    text_field_embedder.token_embedder_tokens.transformer_model.encoder.layer.9.output.dense.weight\n",
      "2023-04-12 15:29:56,782 - INFO - allennlp.nn.initializers -    text_field_embedder.token_embedder_tokens.transformer_model.pooler.dense.bias\n",
      "2023-04-12 15:29:56,783 - INFO - allennlp.nn.initializers -    text_field_embedder.token_embedder_tokens.transformer_model.pooler.dense.weight\n",
      "2023-04-12 15:29:57,322 - INFO - allennlp.models.archival - removing temporary unarchived model dir at /var/folders/lp/l_mzhpjs6bg95plfkl_n_vsc0000gn/T/tmppj621rxt\n"
     ]
    }
   ],
   "source": [
    "# We initialize `max_num_cpu_threads` number of SPaR.txt predictors (see spar_utils for details)\n",
    "# you may want to reduce `max_num_cpu_threads` if the cell below runs into issues\n",
    "te = spar_utils.TermExtractor(max_num_cpu_threads=4)"
   ]
  },
  {
   "cell_type": "code",
   "execution_count": 19,
   "id": "b3d086b3",
   "metadata": {
    "scrolled": true
   },
   "outputs": [
    {
     "name": "stdout",
     "output_type": "stream",
     "text": [
      "Working on: data/term_extraction_input/The Merged Approved Documents.pdf\n"
     ]
    },
    {
     "name": "stderr",
     "output_type": "stream",
     "text": [
      " 16%|██████████████████████████▍                                                                                                                                       | 237/1455 [02:32<19:32,  1.04it/s]Token indices sequence length is longer than the specified maximum sequence length for this model (885 > 512). Running this sequence through the model will result in indexing errors\n",
      "100%|█████████████████████████████████████████████████████████████████████████████████████████████████████████████████████████████████████████████████████████████████| 1455/1455 [17:47<00:00,  1.36it/s]\n"
     ]
    },
    {
     "name": "stdout",
     "output_type": "stream",
     "text": [
      "Number of sentences found: 20598\n",
      "Working on: data/term_extraction_input/EUR-Lex - 31993L0042 - EN.html\n"
     ]
    },
    {
     "name": "stderr",
     "output_type": "stream",
     "text": [
      "100%|███████████████████████████████████████████████████████████████████████████████████████████████████████████████████████████████████████████████████████████████████| 826/826 [02:12<00:00,  6.25it/s]\n"
     ]
    },
    {
     "name": "stdout",
     "output_type": "stream",
     "text": [
      "Number of sentences found: 1728\n",
      "Working on: data/term_extraction_input/CELEX 32017R0746 EN TXT.html\n"
     ]
    },
    {
     "name": "stderr",
     "output_type": "stream",
     "text": [
      "100%|█████████████████████████████████████████████████████████████████████████████████████████████████████████████████████████████████████████████████████████████████| 4344/4344 [05:46<00:00, 12.54it/s]\n"
     ]
    },
    {
     "name": "stdout",
     "output_type": "stream",
     "text": [
      "Number of sentences found: 3422\n",
      "Working on: data/term_extraction_input/CELEX 32017R0745 EN TXT.html\n"
     ]
    },
    {
     "name": "stderr",
     "output_type": "stream",
     "text": [
      "100%|█████████████████████████████████████████████████████████████████████████████████████████████████████████████████████████████████████████████████████████████████| 4799/4799 [06:35<00:00, 12.13it/s]\n"
     ]
    },
    {
     "name": "stdout",
     "output_type": "stream",
     "text": [
      "Number of sentences found: 3867\n",
      "Working on: data/term_extraction_input/EUR-Lex - 31998L0079 - EN.html\n"
     ]
    },
    {
     "name": "stderr",
     "output_type": "stream",
     "text": [
      "100%|███████████████████████████████████████████████████████████████████████████████████████████████████████████████████████████████████████████████████████████████████| 623/623 [01:43<00:00,  6.02it/s]\n"
     ]
    },
    {
     "name": "stdout",
     "output_type": "stream",
     "text": [
      "Number of sentences found: 1300\n",
      "Working on: data/term_extraction_input/EUR-Lex - 31990L0385 - EN.html\n"
     ]
    },
    {
     "name": "stderr",
     "output_type": "stream",
     "text": [
      "100%|███████████████████████████████████████████████████████████████████████████████████████████████████████████████████████████████████████████████████████████████████| 511/511 [00:58<00:00,  8.79it/s]"
     ]
    },
    {
     "name": "stdout",
     "output_type": "stream",
     "text": [
      "Number of sentences found: 789\n"
     ]
    },
    {
     "name": "stderr",
     "output_type": "stream",
     "text": [
      "\n"
     ]
    }
   ],
   "source": [
    "# Run SPaR.txt on all documents and write to file\n",
    "for converted_document in foreground_corpus + background_corpus:\n",
    "    # re-load the document from file, to make sure we don't overwrite existing SPaR.txt labels\n",
    "    converted_document = converted_document.load_document(converted_document.output_fp)\n",
    "    te.process_custom_document(converted_document)\n",
    "    "
   ]
  },
  {
   "cell_type": "markdown",
   "id": "4835185f",
   "metadata": {},
   "source": [
    "<div class=\"alert alert-block alert-info\">\n",
    "Number of sentences (longer than 10 characters) found in: <ul>\n",
    "    <li>Merged Approved documents: 20598</li>\n",
    "    <li>Background corpus (1728+3422+3867+1300+789): 11106</li>\n",
    "    </ul>\n",
    "</div>"
   ]
  },
  {
   "cell_type": "markdown",
   "id": "c6b15878",
   "metadata": {},
   "source": [
    "### 3 Filtering\n",
    "<div class=\"alert alert-block alert-info\">\n",
    "The objects identified by SPaR.txt contain a lot of noise. Here, we clean and filter them; based on our background corpus we try to identify which terms belong to the AEC domain. \n",
    "</div>"
   ]
  },
  {
   "cell_type": "markdown",
   "id": "b511762d",
   "metadata": {},
   "source": [
    "<div class=\"alert alert-block alert-info\">\n",
    "First, load all terms from the processed files and apply some basic cleaning.\n",
    "</div>"
   ]
  },
  {
   "cell_type": "code",
   "execution_count": 20,
   "id": "80b48432",
   "metadata": {},
   "outputs": [],
   "source": [
    "regex_filter = cleaning_utils.RegexFilter()\n",
    "def run_filters(to_be_cleaned):\n",
    "    # some basic cleaning steps\n",
    "    _, regex_cleaned  = regex_filter.run_filter(to_be_cleaned) # _ would be the list of terms removed by our regex filters\n",
    "    basic_cleaned = cleaning_utils.custom_cleaning_rules(regex_cleaned)\n",
    "    determiners_removed = [cleaning_utils.remove_determiners(t) for t in basic_cleaned]\n",
    "    cleaned_terms = [t for t in determiners_removed if t]\n",
    "    cleaned_counter = Counter(cleaned_terms)\n",
    "    \n",
    "    # We only want terms to occur at least X times in a corpus, e.g., 2 times:\n",
    "    cleaned_terms = [t for t in cleaned_terms if cleaned_counter[t] >= 2]\n",
    "    cleaned_counter = Counter({t: c for t, c in cleaned_counter.items() if c >= 2})\n",
    "    return cleaned_terms, cleaned_counter"
   ]
  },
  {
   "cell_type": "code",
   "execution_count": 21,
   "id": "4fb5373f",
   "metadata": {},
   "outputs": [
    {
     "name": "stdout",
     "output_type": "stream",
     "text": [
      "Total number of extracted foreground terms: 123359\n",
      "Total unique extracted foreground terms: 43937\n",
      "Total number of cleaned foreground terms: 6348\n",
      "Total number of UNIQUE foreground terms: 2623\n"
     ]
    },
    {
     "data": {
      "text/plain": [
       "[('building', 7),\n",
       " ('performance', 6),\n",
       " ('source', 6),\n",
       " ('opening', 6),\n",
       " ('appliance', 6),\n",
       " ('notice', 6),\n",
       " ('escape route', 6),\n",
       " ('extension', 6),\n",
       " ('section', 6),\n",
       " ('entrance', 5)]"
      ]
     },
     "execution_count": 21,
     "metadata": {},
     "output_type": "execute_result"
    }
   ],
   "source": [
    "foreground_terms_lists = [c.NER_labels for d in foreground_corpus for c in d.load_document(d.output_fp).all_contents]\n",
    "foreground_terms_raw = [t for t_list in foreground_terms_lists for t in t_list if t]\n",
    "print(f\"Total number of extracted foreground terms: {len(foreground_terms_raw)}\")\n",
    "print(f\"Total unique extracted foreground terms: {len(list(set(foreground_terms_raw)))}\")\n",
    "\n",
    "# cleaning of terms, including removal of determiners\n",
    "cleaned_foreground_terms, cleaned_foreground_terms_c = run_filters(foreground_terms_raw)\n",
    "print(f\"Total number of cleaned foreground terms: {len(cleaned_foreground_terms)}\")\n",
    "print(f\"Total number of UNIQUE foreground terms: {len(cleaned_foreground_terms_c)}\")\n",
    "cleaned_foreground_terms_c.most_common(10)"
   ]
  },
  {
   "cell_type": "code",
   "execution_count": 22,
   "id": "8006f6f0",
   "metadata": {},
   "outputs": [
    {
     "name": "stdout",
     "output_type": "stream",
     "text": [
      "Total number of extracted background terms: 72375\n",
      "Total unique extracted background terms: 10408\n",
      "Total number of cleaned background terms: 2729\n",
      "Total number of UNIQUE background terms: 1150\n"
     ]
    },
    {
     "data": {
      "text/plain": [
       "[('purpose', 5),\n",
       " ('EU declaration of conformity', 5),\n",
       " ('report', 5),\n",
       " ('function', 5),\n",
       " ('authority', 5),\n",
       " ('opinion', 5),\n",
       " ('evaluation', 5),\n",
       " ('electronic system', 5),\n",
       " ('assessment', 5),\n",
       " ('conformity assessment procedure', 5)]"
      ]
     },
     "execution_count": 22,
     "metadata": {},
     "output_type": "execute_result"
    }
   ],
   "source": [
    "background_terms_lists = [c.NER_labels for d in background_corpus for c in d.load_document(d.output_fp).all_contents]\n",
    "background_terms_raw = [t for t_list in background_terms_lists for t in t_list if t]\n",
    "print(f\"Total number of extracted background terms: {len(background_terms_raw)}\")\n",
    "print(f\"Total unique extracted background terms: {len(list(set(background_terms_raw)))}\")\n",
    "\n",
    "# cleaning of terms, including removal of determiners\n",
    "cleaned_background_terms, cleaned_background_terms_c  = run_filters(background_terms_raw)\n",
    "\n",
    "print(f\"Total number of cleaned background terms: {len(cleaned_background_terms)}\")\n",
    "print(f\"Total number of UNIQUE background terms: {len(cleaned_background_terms_c)}\")\n",
    "cleaned_background_terms_c.most_common(10)"
   ]
  },
  {
   "cell_type": "code",
   "execution_count": 23,
   "id": "e79727a3",
   "metadata": {},
   "outputs": [
    {
     "name": "stdout",
     "output_type": "stream",
     "text": [
      "Total number of clean, unique term candidates identified by SPaR.txt:3462\n"
     ]
    }
   ],
   "source": [
    "print(f\"Total number of clean, unique term candidates identified by SPaR.txt:{len(cleaned_foreground_terms_c+cleaned_background_terms_c)}\")"
   ]
  },
  {
   "cell_type": "markdown",
   "id": "406d6ca8",
   "metadata": {},
   "source": [
    "<div class=\"alert alert-block alert-info\">\n",
    "Second, we compute the embeddings for both foreground and background terms.\n",
    "</div>\n",
    "\n",
    "\n",
    "* Note: **embeddings** will be IDF weighted (IDF weights over both foreground and background corpora)\n",
    "  * Could add more sentences to the computation of IDF weights, e.g., definitions from vocabularies/WikiData."
   ]
  },
  {
   "cell_type": "code",
   "execution_count": 24,
   "id": "0b177bf4",
   "metadata": {},
   "outputs": [],
   "source": [
    "# Which tokenizer to use for IDF computation and Embedding;\n",
    "bert_model_name = 'bert-base-cased'\n",
    "embedding_output_fp = Path.cwd().joinpath(\"data\", \"term_embedding\")\n",
    "embedding_output_fp.mkdir(parents=True, exist_ok=True) # create the term_embedding directory if needed"
   ]
  },
  {
   "cell_type": "code",
   "execution_count": 25,
   "id": "b68eef07",
   "metadata": {},
   "outputs": [],
   "source": [
    "# store the cleaned unique_background_spans\n",
    "with open(Path(embedding_output_fp.joinpath(\"unique_background_spans.pkl\")), 'wb') as f:\n",
    "    pickle.dump([span for span in cleaned_background_terms_c.keys()], f)"
   ]
  },
  {
   "cell_type": "code",
   "execution_count": 26,
   "id": "10278f75",
   "metadata": {},
   "outputs": [],
   "source": [
    "all_terms_c = cleaned_foreground_terms_c + cleaned_background_terms_c"
   ]
  },
  {
   "cell_type": "code",
   "execution_count": 27,
   "id": "8f403d14",
   "metadata": {},
   "outputs": [
    {
     "data": {
      "text/plain": [
       "3462"
      ]
     },
     "execution_count": 27,
     "metadata": {},
     "output_type": "execute_result"
    }
   ],
   "source": [
    "len(all_terms_c)"
   ]
  },
  {
   "cell_type": "code",
   "execution_count": 28,
   "id": "a1000a90",
   "metadata": {},
   "outputs": [
    {
     "data": {
      "text/plain": [
       "[('assessment', 10),\n",
       " ('number', 10),\n",
       " ('source', 9),\n",
       " ('procedure', 9),\n",
       " ('notice', 9),\n",
       " ('system', 9),\n",
       " ('purpose', 9),\n",
       " ('performance', 8),\n",
       " ('designation', 8),\n",
       " ('report', 8)]"
      ]
     },
     "execution_count": 28,
     "metadata": {},
     "output_type": "execute_result"
    }
   ],
   "source": [
    "all_terms_c.most_common(10)"
   ]
  },
  {
   "cell_type": "code",
   "execution_count": 29,
   "id": "ac5654c4",
   "metadata": {
    "scrolled": true
   },
   "outputs": [],
   "source": [
    "# identify which terms are MWEs\n",
    "mwes = []\n",
    "for t in all_terms_c.keys():\n",
    "    words = t.split(' ')\n",
    "    if len(words) > 1:\n",
    "        mwes.append(t)"
   ]
  },
  {
   "cell_type": "code",
   "execution_count": 30,
   "id": "7fa5a153",
   "metadata": {},
   "outputs": [
    {
     "name": "stdout",
     "output_type": "stream",
     "text": [
      "Number of MWEs: 1811 (52.31%)\n"
     ]
    },
    {
     "data": {
      "text/plain": [
       "['closed position',\n",
       " 'EU technical documentation assessment certificate',\n",
       " 'floor structure',\n",
       " 'clear landing',\n",
       " 'criteria a',\n",
       " 'parking space',\n",
       " 'safety protection',\n",
       " 'building characteristics',\n",
       " 'EU declaration',\n",
       " 'background ventilator']"
      ]
     },
     "execution_count": 30,
     "metadata": {},
     "output_type": "execute_result"
    }
   ],
   "source": [
    "# some insight in number of MWEs to be expected that these still contain a substantial amount of erroneous spans\n",
    "print(\"Number of MWEs: {} ({:.2f}%)\".format(len(mwes), (len(mwes)/len(all_terms_c))*100))\n",
    "random.sample(mwes, 10)"
   ]
  },
  {
   "cell_type": "code",
   "execution_count": 31,
   "id": "d8d0d4ad",
   "metadata": {},
   "outputs": [],
   "source": [
    "# Compute IDF weights\n",
    "sentence_lists = [c.sentences for d in foreground_corpus + background_corpus for c in d.load_document(d.output_fp).all_contents]\n",
    "all_sentences = [s for sent_list in sentence_lists for s in sent_list if s]"
   ]
  },
  {
   "cell_type": "code",
   "execution_count": 32,
   "id": "7bf4a15f",
   "metadata": {},
   "outputs": [
    {
     "name": "stdout",
     "output_type": "stream",
     "text": [
      "31704\n"
     ]
    },
    {
     "data": {
      "text/plain": [
       "['The Merged Approved Documents',\n",
       " 'This document of the Approved Documents includes the 2021 editions of: Approved Document L Volume 1 Conservation of fuel and power Dwellings Approved Document L Volume 2 Conservation of fuel and power Buildings other than dwellings Approved Document F Volume 1 Ventilation Dwellings Approved Document F Volume 2 Ventilation Buildings other than dwellings',\n",
       " 'Approved Document O Overheatings, and Approved Document S Infrastructure for the charging of electric vehicles These Approved Documents took effect on 15 June 2022, for use in England.',\n",
       " 'Approved Document L Volume 1 and Volume 2 provides guidance on how to comply with Part L of Schedule 1 to the Building Regulations and in a number of specific building regulations regarding the energy efficiency requirements for dwellings and buildings other than dwellings.',\n",
       " 'Approved Document F Volume 1 and Volume 2 provides guidance on how to comply with Part F of Schedule 1 to the Building Regulations and in a number of specific building regulations regarding the ventilation requirements for dwellings and buildings other than dwellings.',\n",
       " 'Approved Document O provides guidance on how to comply with Part O of Schedule 1 to the Building Regulations and in a number of specific building regulations.',\n",
       " 'Approved Document O applies to new residential buildings.',\n",
       " 'Approved Document S provides guidance on how to comply with Part S of Schedule 1 of the Building Regulations, which mandates that the following properties should have a charge point: New dwellings with associated parking within the site boundary of the building New dwellings created through a material change of use, which have associated parking within the site boundary of the building.',\n",
       " 'Date Amendment July 2021 edition Incorporating 2020 editions of Approved Document B1 and Approved Document B2 June 2022 edition Incorporating 2021 edition of Approved Document L1, Approved Document L2, Approved',\n",
       " 'How to use the Merged Approved Documents This document combines the approved documents into a single PDF.']"
      ]
     },
     "execution_count": 32,
     "metadata": {},
     "output_type": "execute_result"
    }
   ],
   "source": [
    "print(len(all_sentences))\n",
    "all_sentences[:10]"
   ]
  },
  {
   "cell_type": "code",
   "execution_count": 33,
   "id": "c09c984e",
   "metadata": {},
   "outputs": [
    {
     "name": "stdout",
     "output_type": "stream",
     "text": [
      "Computing IDF weights.\n",
      "Printing some IDF values, should be subword units!\n",
      "['cluster']\n",
      "['##of']\n",
      "['deposits']\n",
      "['ultimate']\n",
      "['horizontal']\n",
      "['proximity']\n",
      "['estates']\n",
      "['exploration']\n",
      "['##most']\n",
      "['rendered']\n"
     ]
    }
   ],
   "source": [
    "IDF_path = embedding_output_fp.joinpath(\"IDF_weights.json\")\n",
    "IDF_c = IDF_computation.IdfComputer(IDF_path, bert_model_name=bert_model_name)\n",
    "IDF_path = IDF_c.compute_or_load_IDF_weights(all_sentences, overwrite=False)"
   ]
  },
  {
   "cell_type": "markdown",
   "id": "34c1e56d",
   "metadata": {},
   "source": [
    "#### Embed each of the terms identified by SPaR.txt\n",
    "* TF-IDF weighting and threshold"
   ]
  },
  {
   "cell_type": "code",
   "execution_count": 34,
   "id": "5b1959bd",
   "metadata": {},
   "outputs": [
    {
     "name": "stdout",
     "output_type": "stream",
     "text": [
      "Number of unique terms: 3462\n"
     ]
    },
    {
     "data": {
      "text/plain": [
       "['listed buildings',\n",
       " 'Door and Hardware Federation',\n",
       " 'Energy Performance',\n",
       " 'residential accommodation',\n",
       " 'watercourse',\n",
       " 'submission',\n",
       " 'sewer',\n",
       " 'Institute',\n",
       " 'obstacle',\n",
       " 'sewer system']"
      ]
     },
     "execution_count": 34,
     "metadata": {},
     "output_type": "execute_result"
    }
   ],
   "source": [
    "all_terms = [k for k in all_terms_c.keys()] # counter keys, so already unique\n",
    "print(f\"Number of unique terms: {len(all_terms)}\")\n",
    "all_terms[:10]"
   ]
  },
  {
   "cell_type": "code",
   "execution_count": 35,
   "id": "26f20d44",
   "metadata": {},
   "outputs": [
    {
     "name": "stderr",
     "output_type": "stream",
     "text": [
      "Some weights of the model checkpoint at bert-base-cased were not used when initializing BertModel: ['cls.predictions.transform.dense.weight', 'cls.seq_relationship.weight', 'cls.predictions.transform.LayerNorm.weight', 'cls.predictions.bias', 'cls.predictions.transform.dense.bias', 'cls.predictions.transform.LayerNorm.bias', 'cls.predictions.decoder.weight', 'cls.seq_relationship.bias']\n",
      "- This IS expected if you are initializing BertModel from the checkpoint of a model trained on another task or with another architecture (e.g. initializing a BertForSequenceClassification model from a BertForPreTraining model).\n",
      "- This IS NOT expected if you are initializing BertModel from the checkpoint of a model that you expect to be exactly identical (initializing a BertForSequenceClassification model from a BertForSequenceClassification model).\n"
     ]
    }
   ],
   "source": [
    "tokenizer = BertTokenizer.from_pretrained(bert_model_name)\n",
    "bert_model = BertModel.from_pretrained(bert_model_name, output_hidden_states=True)"
   ]
  },
  {
   "cell_type": "code",
   "execution_count": 36,
   "id": "a669a4a8",
   "metadata": {},
   "outputs": [],
   "source": [
    "embedder = embedding.Embedder(tokenizer, bert_model, \n",
    "                              IDF_dict=json.load(open(IDF_path)), \n",
    "                              embedding_fp=embedding_output_fp,\n",
    "                              layers_to_use = [12],         # we'll use the output of the last layer\n",
    "                              layer_combination = \"avg\",    # how to combine layers if multiple are used\n",
    "                              idf_threshold = 1.5,          # minimum IDF value for a token to contribute\n",
    "                              idf_weight_factor = 1.0,      # modify how strong the influence of IDF weighting is\n",
    "                              not_found_idf_value = 0.5)    # IDF value for tokens that weren't seen during IDF computation (doesn't apply here)"
   ]
  },
  {
   "cell_type": "code",
   "execution_count": 37,
   "id": "ce59ea93",
   "metadata": {},
   "outputs": [
    {
     "name": "stdout",
     "output_type": "stream",
     "text": [
      "Preparing embeddings for 3462 spans, in groups of: 1000\n"
     ]
    },
    {
     "name": "stderr",
     "output_type": "stream",
     "text": [
      "100%|███████████████████████████████████████████████████████████████████████████████████████████████████████████████████████████████████████████████████████████████████████| 4/4 [00:55<00:00, 13.88s/it]\n"
     ]
    }
   ],
   "source": [
    "# Compute the embeddings, this is split into subsets so we don't overload your memory (adjust these values if needed)\n",
    "max_num_cpu_threads = 4\n",
    "subset_size = 1000\n",
    "\n",
    "# Checks which of the embeddings for the clustering cluster_data already exist, so they can be re-used\n",
    "term_subsets = cleaning_utils.split_list(all_terms, subset_size)\n",
    "embedding_files = [f for f in embedder.embedding_fp.glob('embeddings*.pkl')]\n",
    "span_and_embedding_pairs = []\n",
    "if len(embedding_files) == len(term_subsets):\n",
    "    for e in embedding_files:\n",
    "        span_and_embedding_pairs += pickle.load(open(e, 'rb'))\n",
    "else:\n",
    "    print(f\"Preparing embeddings for {len(all_terms)} spans, in groups of: {subset_size}\")\n",
    "    subset_idx = 0            # iterator index outside of tqdm \n",
    "    for subset in tqdm(term_subsets):\n",
    "        subset_embeddings = []\n",
    "        subset_file_name = embedder.embedding_fp.joinpath(\"embeddings_part_{}.pkl\".format(subset_idx))\n",
    "        subset_idx += 1\n",
    "        if subset_file_name.exists():\n",
    "            # already computed previously\n",
    "            continue\n",
    "        \n",
    "        with concurrent.futures.ThreadPoolExecutor(max_workers=max_num_cpu_threads) as executor:\n",
    "            futures = [executor.submit(embedder.embed_a_span, subset[idx]) for idx in range(len(subset))]\n",
    "\n",
    "        subset_embeddings += [f.result() for f in futures if f.result()]\n",
    "\n",
    "        with open(subset_file_name, 'wb') as f:\n",
    "            pickle.dump(subset_embeddings, f)\n",
    "\n",
    "    # Once all embeddings are created; combine them in span_and_embedding_pairs\n",
    "    embedding_files = [f for f in embedder.embedding_fp.glob('embeddings*.pkl')]\n",
    "    for e in embedding_files:\n",
    "        span_and_embedding_pairs += pickle.load(open(e, 'rb'))"
   ]
  },
  {
   "cell_type": "code",
   "execution_count": 38,
   "id": "b4e8b64b",
   "metadata": {},
   "outputs": [
    {
     "name": "stdout",
     "output_type": "stream",
     "text": [
      "Normalising and combining computed/existing 4 embeddings from files into single file\n"
     ]
    }
   ],
   "source": [
    "# Create a single file with all embeddings, in the meantime standardising the embeddings to improve the representation\n",
    "unique_spans, unique_embeddings = zip(*span_and_embedding_pairs)\n",
    "standardised_clustering_data_fp = embedder.embedding_fp.joinpath(\"standardised_embeddings.pkl\")\n",
    "\n",
    "if not standardised_clustering_data_fp.exists():\n",
    "    print(f\"Normalising and combining computed/existing {len(embedding_files)} embeddings from files into single file\")\n",
    "    with open(embedder.embedding_fp.joinpath(\"unique_spans.pkl\"), 'wb') as f:\n",
    "        pickle.dump(unique_spans, f)\n",
    "\n",
    "    with open(embedder.embedding_fp.joinpath(\"unique_embeddings.pkl\"), 'wb') as f:\n",
    "        # we average over the token embeddings in a term\n",
    "        unique_clustering_data = np.stack([np.mean(e, axis=0) if len(e.shape) > 1 else e for e in unique_embeddings])\n",
    "\n",
    "        # standardise the unique clustering data, as suggested by https://github.com/wtimkey/rogue-dimensions\n",
    "        embedder.emb_mean = unique_clustering_data.mean(axis=0)\n",
    "        embedder.emb_std = unique_clustering_data.std(axis=0)\n",
    "        pickle.dump(embedder.emb_mean, open(embedder.embedding_fp.joinpath(\"standardisation_mean.pkl\"), 'wb'))\n",
    "        pickle.dump(embedder.emb_std, open(embedder.embedding_fp.joinpath(\"standardisation_std.pkl\"), 'wb'))\n",
    "\n",
    "        standardised_clustering_data = (unique_clustering_data - embedder.emb_mean) / embedder.emb_std\n",
    "\n",
    "        pickle.dump(standardised_clustering_data, f)\n",
    "\n",
    "    # Store the standardised embeddings for reuse; could honeslty remove all the other embedding files but will keep them just in case\n",
    "    pickle.dump(standardised_clustering_data, open(standardised_clustering_data_fp, 'wb'))\n",
    "    spans_and_standardised_embeddings_dict = dict(zip(unique_spans, standardised_clustering_data))\n",
    "else:\n",
    "    standardised_clustering_data = pickle.load(open(standardised_clustering_data_fp, 'rb'))\n",
    "    spans_and_standardised_embeddings_dict = dict(zip(unique_spans, standardised_clustering_data))\n",
    "    print(f\"Loaded previously computed normalised embedding files.\")"
   ]
  },
  {
   "cell_type": "markdown",
   "id": "8409ece9",
   "metadata": {},
   "source": [
    "<div class=\"alert alert-block alert-info\">\n",
    "Fourth, we determine which terms may be domain-specific. We compare on (1) the number of nearest neighbours of a term that occur in the background corpus, (2) the frequency of terms in each corpus including a simplified version of KL divergence, and (3) a foreground/background TF-IDF for each span.\n",
    "</div>"
   ]
  },
  {
   "cell_type": "code",
   "execution_count": 39,
   "id": "3bfbbe80",
   "metadata": {},
   "outputs": [],
   "source": [
    "# 1 check the kNNs based on the standardised embeddings\n",
    "n_neighbors = 500 # the number of neighbours we compute for each term\n",
    "knn_graph = kneighbors_graph(standardised_clustering_data, \n",
    "                             n_neighbors,    \n",
    "                             metric=\"cosine\", \n",
    "                             n_jobs=8)"
   ]
  },
  {
   "cell_type": "code",
   "execution_count": 40,
   "id": "9701c2c5",
   "metadata": {},
   "outputs": [],
   "source": [
    "span_df_dict = {}\n",
    "for span_idx, span in enumerate(unique_spans):\n",
    "    number_of_background_corpus_neighbours = 0\n",
    "    for neighbour_idx in knn_graph[span_idx].indices:\n",
    "        if unique_spans[neighbour_idx] in cleaned_background_terms_c.keys():\n",
    "            number_of_background_corpus_neighbours += 1\n",
    "    \n",
    "    span_df_dict[span] = {'span_idx': span_idx, \n",
    "                          'num_background_neighbours': number_of_background_corpus_neighbours,\n",
    "                          'num_foreground_neighbours': n_neighbors - number_of_background_corpus_neighbours}"
   ]
  },
  {
   "cell_type": "code",
   "execution_count": 41,
   "id": "c58ead97",
   "metadata": {},
   "outputs": [],
   "source": [
    "# 2 Grab a KL divergence type of notion for each span --> only modified TFIDF \n",
    "total_foreground = sum(cleaned_foreground_terms_c.values())\n",
    "total_background = sum(cleaned_background_terms_c.values())\n",
    "    \n",
    "\n",
    "for span in unique_spans:\n",
    "    foreground_cnt = cleaned_foreground_terms_c[span]\n",
    "    background_cnt = cleaned_background_terms_c[span]\n",
    "    \n",
    "    span_df_dict[span]['foreground_cnt'] = foreground_cnt\n",
    "    span_df_dict[span]['background_cnt'] = background_cnt\n",
    "    if (foreground_cnt == 0 and background_cnt == 0):\n",
    "        print(span)\n",
    "#     TF_fore_back = foreground_cnt/(foreground_cnt+background_cnt) Adding +1 above to avoid NAN and INF results\n",
    "    TF_fore_back = np.log(1+(foreground_cnt/(foreground_cnt+background_cnt)))\n",
    "    \n",
    "    tokens, indices = embedder.prepare_tokens(span)\n",
    "    idf_weights = embedder.get_IDF_weights_for_indices(tokens, indices)\n",
    "    TFIDF_fore_back = TF_fore_back * np.log(np.mean(idf_weights))\n",
    "    \n",
    "    span_df_dict[span]['TFIDF_fore_back'] = TFIDF_fore_back\n",
    "    \n",
    "    # DEPRECATED; simplified version of KL divergence based on Meyers et al. 2018. \n",
    "    # The KLD feature has extreme outliers that occur VERY often in the foreground corpus, and a few times in the background corpus\n",
    "    # an  example is \"guidance\" (400+/17), which clearly is a general domain term. So the KLD doesn't necessarily provide the information we want\n",
    "#     KLD = (np.log(foreground_cnt + 1) - np.log(background_cnt + 1))* (foreground_cnt + 1)\n",
    "#     span_df_dict[span]['KLD'] = KLD\n",
    "    \n",
    "    "
   ]
  },
  {
   "cell_type": "code",
   "execution_count": 42,
   "id": "f39837e0",
   "metadata": {},
   "outputs": [
    {
     "data": {
      "text/plain": [
       "{'span_idx': 2275,\n",
       " 'num_background_neighbours': 213,\n",
       " 'num_foreground_neighbours': 287,\n",
       " 'foreground_cnt': 3,\n",
       " 'background_cnt': 0,\n",
       " 'TFIDF_fore_back': 0.8064534127161667}"
      ]
     },
     "execution_count": 42,
     "metadata": {},
     "output_type": "execute_result"
    }
   ],
   "source": [
    "# example of a clear AEC domain term\n",
    "span_df_dict['mortar']"
   ]
  },
  {
   "cell_type": "code",
   "execution_count": 43,
   "id": "fcfbc94c",
   "metadata": {},
   "outputs": [
    {
     "data": {
      "text/plain": [
       "{'span_idx': 1376,\n",
       " 'num_background_neighbours': 253,\n",
       " 'num_foreground_neighbours': 247,\n",
       " 'foreground_cnt': 0,\n",
       " 'background_cnt': 2,\n",
       " 'TFIDF_fore_back': 0.0}"
      ]
     },
     "execution_count": 43,
     "metadata": {},
     "output_type": "execute_result"
    }
   ],
   "source": [
    "# example of a clear medical domain term\n",
    "span_df_dict['patients']"
   ]
  },
  {
   "cell_type": "code",
   "execution_count": 44,
   "id": "d701ca89",
   "metadata": {},
   "outputs": [
    {
     "data": {
      "text/plain": [
       "{'span_idx': 3042,\n",
       " 'num_background_neighbours': 274,\n",
       " 'num_foreground_neighbours': 226,\n",
       " 'foreground_cnt': 3,\n",
       " 'background_cnt': 2,\n",
       " 'TFIDF_fore_back': 0.424883828127935}"
      ]
     },
     "execution_count": 44,
     "metadata": {},
     "output_type": "execute_result"
    }
   ],
   "source": [
    "# example of a clear general domain term\n",
    "span_df_dict['test']"
   ]
  },
  {
   "cell_type": "code",
   "execution_count": 45,
   "id": "67ab9922",
   "metadata": {},
   "outputs": [
    {
     "data": {
      "text/plain": [
       "{'span_idx': 1666,\n",
       " 'num_background_neighbours': 99,\n",
       " 'num_foreground_neighbours': 401,\n",
       " 'foreground_cnt': 3,\n",
       " 'background_cnt': 0,\n",
       " 'TFIDF_fore_back': 0.8983407716830061}"
      ]
     },
     "execution_count": 45,
     "metadata": {},
     "output_type": "execute_result"
    }
   ],
   "source": [
    "# example of a long AEC domain term\n",
    "span_df_dict['hot water storage system']"
   ]
  },
  {
   "cell_type": "code",
   "execution_count": 46,
   "id": "1beb5f45",
   "metadata": {},
   "outputs": [
    {
     "data": {
      "text/html": [
       "<div>\n",
       "<style scoped>\n",
       "    .dataframe tbody tr th:only-of-type {\n",
       "        vertical-align: middle;\n",
       "    }\n",
       "\n",
       "    .dataframe tbody tr th {\n",
       "        vertical-align: top;\n",
       "    }\n",
       "\n",
       "    .dataframe thead th {\n",
       "        text-align: right;\n",
       "    }\n",
       "</style>\n",
       "<table border=\"1\" class=\"dataframe\">\n",
       "  <thead>\n",
       "    <tr style=\"text-align: right;\">\n",
       "      <th></th>\n",
       "      <th>span_idx</th>\n",
       "      <th>num_background_neighbours</th>\n",
       "      <th>num_foreground_neighbours</th>\n",
       "      <th>foreground_cnt</th>\n",
       "      <th>background_cnt</th>\n",
       "      <th>TFIDF_fore_back</th>\n",
       "    </tr>\n",
       "  </thead>\n",
       "  <tbody>\n",
       "    <tr>\n",
       "      <th>performance test results</th>\n",
       "      <td>0</td>\n",
       "      <td>211</td>\n",
       "      <td>289</td>\n",
       "      <td>2</td>\n",
       "      <td>0</td>\n",
       "      <td>0.862148</td>\n",
       "    </tr>\n",
       "    <tr>\n",
       "      <th>water efficiency</th>\n",
       "      <td>1</td>\n",
       "      <td>130</td>\n",
       "      <td>370</td>\n",
       "      <td>2</td>\n",
       "      <td>0</td>\n",
       "      <td>0.772926</td>\n",
       "    </tr>\n",
       "    <tr>\n",
       "      <th>dispersal</th>\n",
       "      <td>2</td>\n",
       "      <td>133</td>\n",
       "      <td>367</td>\n",
       "      <td>2</td>\n",
       "      <td>0</td>\n",
       "      <td>1.117684</td>\n",
       "    </tr>\n",
       "    <tr>\n",
       "      <th>spread</th>\n",
       "      <td>3</td>\n",
       "      <td>216</td>\n",
       "      <td>284</td>\n",
       "      <td>3</td>\n",
       "      <td>0</td>\n",
       "      <td>0.694072</td>\n",
       "    </tr>\n",
       "    <tr>\n",
       "      <th>enclosed space</th>\n",
       "      <td>4</td>\n",
       "      <td>35</td>\n",
       "      <td>465</td>\n",
       "      <td>2</td>\n",
       "      <td>0</td>\n",
       "      <td>0.866570</td>\n",
       "    </tr>\n",
       "    <tr>\n",
       "      <th>...</th>\n",
       "      <td>...</td>\n",
       "      <td>...</td>\n",
       "      <td>...</td>\n",
       "      <td>...</td>\n",
       "      <td>...</td>\n",
       "      <td>...</td>\n",
       "    </tr>\n",
       "    <tr>\n",
       "      <th>scheme</th>\n",
       "      <td>3457</td>\n",
       "      <td>238</td>\n",
       "      <td>262</td>\n",
       "      <td>3</td>\n",
       "      <td>0</td>\n",
       "      <td>0.773679</td>\n",
       "    </tr>\n",
       "    <tr>\n",
       "      <th>building control</th>\n",
       "      <td>3458</td>\n",
       "      <td>182</td>\n",
       "      <td>318</td>\n",
       "      <td>2</td>\n",
       "      <td>0</td>\n",
       "      <td>0.644232</td>\n",
       "    </tr>\n",
       "    <tr>\n",
       "      <th>fuel storage systems</th>\n",
       "      <td>3459</td>\n",
       "      <td>128</td>\n",
       "      <td>372</td>\n",
       "      <td>2</td>\n",
       "      <td>0</td>\n",
       "      <td>0.889355</td>\n",
       "    </tr>\n",
       "    <tr>\n",
       "      <th>series</th>\n",
       "      <td>3460</td>\n",
       "      <td>234</td>\n",
       "      <td>266</td>\n",
       "      <td>2</td>\n",
       "      <td>0</td>\n",
       "      <td>0.798468</td>\n",
       "    </tr>\n",
       "    <tr>\n",
       "      <th>kitchen area</th>\n",
       "      <td>3461</td>\n",
       "      <td>149</td>\n",
       "      <td>351</td>\n",
       "      <td>2</td>\n",
       "      <td>0</td>\n",
       "      <td>0.831209</td>\n",
       "    </tr>\n",
       "  </tbody>\n",
       "</table>\n",
       "<p>3462 rows × 6 columns</p>\n",
       "</div>"
      ],
      "text/plain": [
       "                          span_idx  num_background_neighbours  \\\n",
       "performance test results         0                        211   \n",
       "water efficiency                 1                        130   \n",
       "dispersal                        2                        133   \n",
       "spread                           3                        216   \n",
       "enclosed space                   4                         35   \n",
       "...                            ...                        ...   \n",
       "scheme                        3457                        238   \n",
       "building control              3458                        182   \n",
       "fuel storage systems          3459                        128   \n",
       "series                        3460                        234   \n",
       "kitchen area                  3461                        149   \n",
       "\n",
       "                          num_foreground_neighbours  foreground_cnt  \\\n",
       "performance test results                        289               2   \n",
       "water efficiency                                370               2   \n",
       "dispersal                                       367               2   \n",
       "spread                                          284               3   \n",
       "enclosed space                                  465               2   \n",
       "...                                             ...             ...   \n",
       "scheme                                          262               3   \n",
       "building control                                318               2   \n",
       "fuel storage systems                            372               2   \n",
       "series                                          266               2   \n",
       "kitchen area                                    351               2   \n",
       "\n",
       "                          background_cnt  TFIDF_fore_back  \n",
       "performance test results               0         0.862148  \n",
       "water efficiency                       0         0.772926  \n",
       "dispersal                              0         1.117684  \n",
       "spread                                 0         0.694072  \n",
       "enclosed space                         0         0.866570  \n",
       "...                                  ...              ...  \n",
       "scheme                                 0         0.773679  \n",
       "building control                       0         0.644232  \n",
       "fuel storage systems                   0         0.889355  \n",
       "series                                 0         0.798468  \n",
       "kitchen area                           0         0.831209  \n",
       "\n",
       "[3462 rows x 6 columns]"
      ]
     },
     "execution_count": 46,
     "metadata": {},
     "output_type": "execute_result"
    }
   ],
   "source": [
    "span_features_df = pd.DataFrame.from_dict(span_df_dict, orient='index')\n",
    "span_features_df"
   ]
  },
  {
   "cell_type": "code",
   "execution_count": 47,
   "id": "0e3ddada",
   "metadata": {},
   "outputs": [
    {
     "name": "stdout",
     "output_type": "stream",
     "text": [
      "most FORE-groundy terms according to TF_fore_back:\n"
     ]
    },
    {
     "data": {
      "text/plain": [
       "Scientific Advisory Group for Emergencies    1.240041\n",
       "Product Characteristics Database             1.238311\n",
       "United Kingdom Accreditation Service         1.235163\n",
       "UV - C germicidal irradiation system         1.227871\n",
       "Football Licensing Authority                 1.213267\n",
       "subsurface                                   1.211733\n",
       "illuminance                                  1.210774\n",
       "Pipelines Safety Regulations 1996            1.201825\n",
       "British Geological Survey                    1.197895\n",
       "bungalows                                    1.196361\n",
       "Name: TFIDF_fore_back, dtype: float64"
      ]
     },
     "execution_count": 47,
     "metadata": {},
     "output_type": "execute_result"
    }
   ],
   "source": [
    "print(\"most FORE-groundy terms according to TF_fore_back:\")\n",
    "span_features_df['TFIDF_fore_back'].nlargest(10)"
   ]
  },
  {
   "cell_type": "code",
   "execution_count": 48,
   "id": "47893d92",
   "metadata": {},
   "outputs": [
    {
     "name": "stdout",
     "output_type": "stream",
     "text": [
      "most BACK-groundy terms according to TF_fore_back:\n"
     ]
    },
    {
     "data": {
      "text/plain": [
       "coordination                      0.0\n",
       "quality programmes                0.0\n",
       "prescription                      0.0\n",
       "clinical                          0.0\n",
       "Joint Research Centre             0.0\n",
       "field safety corrective action    0.0\n",
       "device identification             0.0\n",
       "association                       0.0\n",
       "classification rules              0.0\n",
       "proof                             0.0\n",
       "Name: TFIDF_fore_back, dtype: float64"
      ]
     },
     "execution_count": 48,
     "metadata": {},
     "output_type": "execute_result"
    }
   ],
   "source": [
    "print(\"most BACK-groundy terms according to TF_fore_back:\")\n",
    "span_features_df['TFIDF_fore_back'].nsmallest(10)"
   ]
  },
  {
   "cell_type": "code",
   "execution_count": 49,
   "id": "d54164a1",
   "metadata": {},
   "outputs": [],
   "source": [
    "from matplotlib.patches import Rectangle"
   ]
  },
  {
   "cell_type": "code",
   "execution_count": 50,
   "id": "a06f579f",
   "metadata": {},
   "outputs": [
    {
     "data": {
      "text/plain": [
       "Text(0, 0.5, 'Foreground/Background TFIDF')"
      ]
     },
     "execution_count": 50,
     "metadata": {},
     "output_type": "execute_result"
    },
    {
     "data": {
      "image/png": "[encoded data removed]",
      "text/plain": [
       "<Figure size 640x480 with 1 Axes>"
      ]
     },
     "metadata": {},
     "output_type": "display_data"
    }
   ],
   "source": [
    "sns.set_style (\"darkgrid\")\n",
    "axes = sns.scatterplot(x=\"num_foreground_neighbours\",\n",
    "                       y=\"TFIDF_fore_back\",\n",
    "                       data=span_features_df)\n",
    "\n",
    "axes.set_xlabel(\"Nr. of neighbours that occur only in the foreground corpus\")\n",
    "axes.set_ylabel(\"Foreground/Background TFIDF\")"
   ]
  },
  {
   "cell_type": "markdown",
   "id": "a0b38416",
   "metadata": {},
   "source": [
    "This plot shows:\n",
    "1. the number of foreground neighbours (the rest of the neighbours occur in the background corpus as well)\n",
    "2. the TF-IDF inspired value for a span, a value of 0 indicating that the term only appears in the background corpus\n",
    "\n",
    "Our assumption is that at certain combinations of these two values, a term is more likely to be 'domain-specific'. This allows for a crude division into domain vs out-of-domain/general domain terms. For now, we'll assume that general background domain terms have:\n",
    "* a low TF-IDF value, e.g., smaller than 0.6\n",
    "* at least half of the NNs being foreground terms, e.g., cut-off at 250/500"
   ]
  },
  {
   "cell_type": "code",
   "execution_count": 51,
   "id": "a34e77c9",
   "metadata": {},
   "outputs": [],
   "source": [
    "min_TFIDF_value = 0.6\n",
    "min_num_foreground_neighbours = 250"
   ]
  },
  {
   "cell_type": "code",
   "execution_count": 52,
   "id": "4bb923fc",
   "metadata": {},
   "outputs": [
    {
     "data": {
      "text/html": [
       "<div>\n",
       "<style scoped>\n",
       "    .dataframe tbody tr th:only-of-type {\n",
       "        vertical-align: middle;\n",
       "    }\n",
       "\n",
       "    .dataframe tbody tr th {\n",
       "        vertical-align: top;\n",
       "    }\n",
       "\n",
       "    .dataframe thead th {\n",
       "        text-align: right;\n",
       "    }\n",
       "</style>\n",
       "<table border=\"1\" class=\"dataframe\">\n",
       "  <thead>\n",
       "    <tr style=\"text-align: right;\">\n",
       "      <th></th>\n",
       "      <th>span_idx</th>\n",
       "      <th>num_background_neighbours</th>\n",
       "      <th>num_foreground_neighbours</th>\n",
       "      <th>foreground_cnt</th>\n",
       "      <th>background_cnt</th>\n",
       "      <th>TFIDF_fore_back</th>\n",
       "    </tr>\n",
       "  </thead>\n",
       "  <tbody>\n",
       "    <tr>\n",
       "      <th>responsible person</th>\n",
       "      <td>355</td>\n",
       "      <td>302</td>\n",
       "      <td>198</td>\n",
       "      <td>2</td>\n",
       "      <td>0</td>\n",
       "      <td>0.803902</td>\n",
       "    </tr>\n",
       "    <tr>\n",
       "      <th>test procedure</th>\n",
       "      <td>512</td>\n",
       "      <td>321</td>\n",
       "      <td>179</td>\n",
       "      <td>2</td>\n",
       "      <td>0</td>\n",
       "      <td>0.787724</td>\n",
       "    </tr>\n",
       "    <tr>\n",
       "      <th>registration body</th>\n",
       "      <td>514</td>\n",
       "      <td>305</td>\n",
       "      <td>195</td>\n",
       "      <td>2</td>\n",
       "      <td>0</td>\n",
       "      <td>0.847372</td>\n",
       "    </tr>\n",
       "    <tr>\n",
       "      <th>test data</th>\n",
       "      <td>1803</td>\n",
       "      <td>311</td>\n",
       "      <td>189</td>\n",
       "      <td>2</td>\n",
       "      <td>0</td>\n",
       "      <td>0.790518</td>\n",
       "    </tr>\n",
       "    <tr>\n",
       "      <th>certification body</th>\n",
       "      <td>2397</td>\n",
       "      <td>306</td>\n",
       "      <td>194</td>\n",
       "      <td>2</td>\n",
       "      <td>0</td>\n",
       "      <td>0.802906</td>\n",
       "    </tr>\n",
       "    <tr>\n",
       "      <th>test evidence</th>\n",
       "      <td>2916</td>\n",
       "      <td>323</td>\n",
       "      <td>177</td>\n",
       "      <td>2</td>\n",
       "      <td>0</td>\n",
       "      <td>0.848365</td>\n",
       "    </tr>\n",
       "    <tr>\n",
       "      <th>test standards</th>\n",
       "      <td>2958</td>\n",
       "      <td>319</td>\n",
       "      <td>181</td>\n",
       "      <td>3</td>\n",
       "      <td>0</td>\n",
       "      <td>0.782034</td>\n",
       "    </tr>\n",
       "    <tr>\n",
       "      <th>recommendations report</th>\n",
       "      <td>2969</td>\n",
       "      <td>308</td>\n",
       "      <td>192</td>\n",
       "      <td>2</td>\n",
       "      <td>0</td>\n",
       "      <td>0.897145</td>\n",
       "    </tr>\n",
       "    <tr>\n",
       "      <th>management procedures</th>\n",
       "      <td>3255</td>\n",
       "      <td>306</td>\n",
       "      <td>194</td>\n",
       "      <td>2</td>\n",
       "      <td>0</td>\n",
       "      <td>0.792067</td>\n",
       "    </tr>\n",
       "  </tbody>\n",
       "</table>\n",
       "</div>"
      ],
      "text/plain": [
       "                        span_idx  num_background_neighbours  \\\n",
       "responsible person           355                        302   \n",
       "test procedure               512                        321   \n",
       "registration body            514                        305   \n",
       "test data                   1803                        311   \n",
       "certification body          2397                        306   \n",
       "test evidence               2916                        323   \n",
       "test standards              2958                        319   \n",
       "recommendations report      2969                        308   \n",
       "management procedures       3255                        306   \n",
       "\n",
       "                        num_foreground_neighbours  foreground_cnt  \\\n",
       "responsible person                            198               2   \n",
       "test procedure                                179               2   \n",
       "registration body                             195               2   \n",
       "test data                                     189               2   \n",
       "certification body                            194               2   \n",
       "test evidence                                 177               2   \n",
       "test standards                                181               3   \n",
       "recommendations report                        192               2   \n",
       "management procedures                         194               2   \n",
       "\n",
       "                        background_cnt  TFIDF_fore_back  \n",
       "responsible person                   0         0.803902  \n",
       "test procedure                       0         0.787724  \n",
       "registration body                    0         0.847372  \n",
       "test data                            0         0.790518  \n",
       "certification body                   0         0.802906  \n",
       "test evidence                        0         0.848365  \n",
       "test standards                       0         0.782034  \n",
       "recommendations report               0         0.897145  \n",
       "management procedures                0         0.792067  "
      ]
     },
     "execution_count": 52,
     "metadata": {},
     "output_type": "execute_result"
    }
   ],
   "source": [
    "# Example terms VERY TOP LEFT of the plot (expectinggeneral domain)\n",
    "top = span_features_df['TFIDF_fore_back'] > 1.3 * min_TFIDF_value\n",
    "left = span_features_df['num_foreground_neighbours'] < min_num_foreground_neighbours - 50\n",
    "span_features_df.loc[top & left]"
   ]
  },
  {
   "cell_type": "code",
   "execution_count": 53,
   "id": "b2f5262b",
   "metadata": {},
   "outputs": [
    {
     "data": {
      "text/html": [
       "<div>\n",
       "<style scoped>\n",
       "    .dataframe tbody tr th:only-of-type {\n",
       "        vertical-align: middle;\n",
       "    }\n",
       "\n",
       "    .dataframe tbody tr th {\n",
       "        vertical-align: top;\n",
       "    }\n",
       "\n",
       "    .dataframe thead th {\n",
       "        text-align: right;\n",
       "    }\n",
       "</style>\n",
       "<table border=\"1\" class=\"dataframe\">\n",
       "  <thead>\n",
       "    <tr style=\"text-align: right;\">\n",
       "      <th></th>\n",
       "      <th>span_idx</th>\n",
       "      <th>num_background_neighbours</th>\n",
       "      <th>num_foreground_neighbours</th>\n",
       "      <th>foreground_cnt</th>\n",
       "      <th>background_cnt</th>\n",
       "      <th>TFIDF_fore_back</th>\n",
       "    </tr>\n",
       "  </thead>\n",
       "  <tbody>\n",
       "    <tr>\n",
       "      <th>smoke reservoir</th>\n",
       "      <td>89</td>\n",
       "      <td>33</td>\n",
       "      <td>467</td>\n",
       "      <td>2</td>\n",
       "      <td>0</td>\n",
       "      <td>0.999581</td>\n",
       "    </tr>\n",
       "    <tr>\n",
       "      <th>cooker hood</th>\n",
       "      <td>184</td>\n",
       "      <td>38</td>\n",
       "      <td>462</td>\n",
       "      <td>3</td>\n",
       "      <td>0</td>\n",
       "      <td>1.073432</td>\n",
       "    </tr>\n",
       "    <tr>\n",
       "      <th>hallway approach</th>\n",
       "      <td>321</td>\n",
       "      <td>33</td>\n",
       "      <td>467</td>\n",
       "      <td>2</td>\n",
       "      <td>0</td>\n",
       "      <td>0.994431</td>\n",
       "    </tr>\n",
       "    <tr>\n",
       "      <th>Rooflight dome light</th>\n",
       "      <td>525</td>\n",
       "      <td>37</td>\n",
       "      <td>463</td>\n",
       "      <td>2</td>\n",
       "      <td>0</td>\n",
       "      <td>1.173692</td>\n",
       "    </tr>\n",
       "    <tr>\n",
       "      <th>liftway enclosure</th>\n",
       "      <td>1721</td>\n",
       "      <td>39</td>\n",
       "      <td>461</td>\n",
       "      <td>2</td>\n",
       "      <td>0</td>\n",
       "      <td>1.035645</td>\n",
       "    </tr>\n",
       "    <tr>\n",
       "      <th>rafters</th>\n",
       "      <td>1910</td>\n",
       "      <td>30</td>\n",
       "      <td>470</td>\n",
       "      <td>3</td>\n",
       "      <td>0</td>\n",
       "      <td>1.040589</td>\n",
       "    </tr>\n",
       "    <tr>\n",
       "      <th>flanking constructions</th>\n",
       "      <td>2299</td>\n",
       "      <td>38</td>\n",
       "      <td>462</td>\n",
       "      <td>2</td>\n",
       "      <td>0</td>\n",
       "      <td>0.992443</td>\n",
       "    </tr>\n",
       "    <tr>\n",
       "      <th>loading gallery</th>\n",
       "      <td>2435</td>\n",
       "      <td>35</td>\n",
       "      <td>465</td>\n",
       "      <td>2</td>\n",
       "      <td>0</td>\n",
       "      <td>1.000015</td>\n",
       "    </tr>\n",
       "    <tr>\n",
       "      <th>glazed screens</th>\n",
       "      <td>2443</td>\n",
       "      <td>27</td>\n",
       "      <td>473</td>\n",
       "      <td>2</td>\n",
       "      <td>0</td>\n",
       "      <td>1.006365</td>\n",
       "    </tr>\n",
       "  </tbody>\n",
       "</table>\n",
       "</div>"
      ],
      "text/plain": [
       "                        span_idx  num_background_neighbours  \\\n",
       "smoke reservoir               89                         33   \n",
       "cooker hood                  184                         38   \n",
       "hallway approach             321                         33   \n",
       "Rooflight dome light         525                         37   \n",
       "liftway enclosure           1721                         39   \n",
       "rafters                     1910                         30   \n",
       "flanking constructions      2299                         38   \n",
       "loading gallery             2435                         35   \n",
       "glazed screens              2443                         27   \n",
       "\n",
       "                        num_foreground_neighbours  foreground_cnt  \\\n",
       "smoke reservoir                               467               2   \n",
       "cooker hood                                   462               3   \n",
       "hallway approach                              467               2   \n",
       "Rooflight dome light                          463               2   \n",
       "liftway enclosure                             461               2   \n",
       "rafters                                       470               3   \n",
       "flanking constructions                        462               2   \n",
       "loading gallery                               465               2   \n",
       "glazed screens                                473               2   \n",
       "\n",
       "                        background_cnt  TFIDF_fore_back  \n",
       "smoke reservoir                      0         0.999581  \n",
       "cooker hood                          0         1.073432  \n",
       "hallway approach                     0         0.994431  \n",
       "Rooflight dome light                 0         1.173692  \n",
       "liftway enclosure                    0         1.035645  \n",
       "rafters                              0         1.040589  \n",
       "flanking constructions               0         0.992443  \n",
       "loading gallery                      0         1.000015  \n",
       "glazed screens                       0         1.006365  "
      ]
     },
     "execution_count": 53,
     "metadata": {},
     "output_type": "execute_result"
    }
   ],
   "source": [
    "# Example terms very TOP RIGHT of the plot (expecting very foreground domainy)\n",
    "top = span_features_df['TFIDF_fore_back'] > 1.65 * min_TFIDF_value\n",
    "right = span_features_df['num_foreground_neighbours'] > 210 + min_num_foreground_neighbours\n",
    "span_features_df.loc[top & right]"
   ]
  },
  {
   "cell_type": "code",
   "execution_count": 54,
   "id": "817b3fd4",
   "metadata": {},
   "outputs": [
    {
     "data": {
      "text/html": [
       "<div>\n",
       "<style scoped>\n",
       "    .dataframe tbody tr th:only-of-type {\n",
       "        vertical-align: middle;\n",
       "    }\n",
       "\n",
       "    .dataframe tbody tr th {\n",
       "        vertical-align: top;\n",
       "    }\n",
       "\n",
       "    .dataframe thead th {\n",
       "        text-align: right;\n",
       "    }\n",
       "</style>\n",
       "<table border=\"1\" class=\"dataframe\">\n",
       "  <thead>\n",
       "    <tr style=\"text-align: right;\">\n",
       "      <th></th>\n",
       "      <th>span_idx</th>\n",
       "      <th>num_background_neighbours</th>\n",
       "      <th>num_foreground_neighbours</th>\n",
       "      <th>foreground_cnt</th>\n",
       "      <th>background_cnt</th>\n",
       "      <th>TFIDF_fore_back</th>\n",
       "    </tr>\n",
       "  </thead>\n",
       "  <tbody>\n",
       "    <tr>\n",
       "      <th>type examination</th>\n",
       "      <td>752</td>\n",
       "      <td>321</td>\n",
       "      <td>179</td>\n",
       "      <td>0</td>\n",
       "      <td>2</td>\n",
       "      <td>0.0</td>\n",
       "    </tr>\n",
       "    <tr>\n",
       "      <th>clinical investigation</th>\n",
       "      <td>895</td>\n",
       "      <td>346</td>\n",
       "      <td>154</td>\n",
       "      <td>0</td>\n",
       "      <td>4</td>\n",
       "      <td>0.0</td>\n",
       "    </tr>\n",
       "    <tr>\n",
       "      <th>clinical investigations</th>\n",
       "      <td>1086</td>\n",
       "      <td>341</td>\n",
       "      <td>159</td>\n",
       "      <td>0</td>\n",
       "      <td>3</td>\n",
       "      <td>0.0</td>\n",
       "    </tr>\n",
       "    <tr>\n",
       "      <th>evaluation report</th>\n",
       "      <td>1299</td>\n",
       "      <td>334</td>\n",
       "      <td>166</td>\n",
       "      <td>0</td>\n",
       "      <td>2</td>\n",
       "      <td>0.0</td>\n",
       "    </tr>\n",
       "  </tbody>\n",
       "</table>\n",
       "</div>"
      ],
      "text/plain": [
       "                         span_idx  num_background_neighbours  \\\n",
       "type examination              752                        321   \n",
       "clinical investigation        895                        346   \n",
       "clinical investigations      1086                        341   \n",
       "evaluation report            1299                        334   \n",
       "\n",
       "                         num_foreground_neighbours  foreground_cnt  \\\n",
       "type examination                               179               0   \n",
       "clinical investigation                         154               0   \n",
       "clinical investigations                        159               0   \n",
       "evaluation report                              166               0   \n",
       "\n",
       "                         background_cnt  TFIDF_fore_back  \n",
       "type examination                      2              0.0  \n",
       "clinical investigation                4              0.0  \n",
       "clinical investigations               3              0.0  \n",
       "evaluation report                     2              0.0  "
      ]
     },
     "execution_count": 54,
     "metadata": {},
     "output_type": "execute_result"
    }
   ],
   "source": [
    "# Example terms very BOTTOM LEFT of the plot (expecting very background domainy)\n",
    "bottom = span_features_df['TFIDF_fore_back'] < .1 * min_TFIDF_value\n",
    "left = span_features_df['num_foreground_neighbours'] < min_num_foreground_neighbours - 65\n",
    "span_features_df.loc[bottom & left]"
   ]
  },
  {
   "cell_type": "code",
   "execution_count": 55,
   "id": "196d8f8f",
   "metadata": {},
   "outputs": [
    {
     "data": {
      "text/html": [
       "<div>\n",
       "<style scoped>\n",
       "    .dataframe tbody tr th:only-of-type {\n",
       "        vertical-align: middle;\n",
       "    }\n",
       "\n",
       "    .dataframe tbody tr th {\n",
       "        vertical-align: top;\n",
       "    }\n",
       "\n",
       "    .dataframe thead th {\n",
       "        text-align: right;\n",
       "    }\n",
       "</style>\n",
       "<table border=\"1\" class=\"dataframe\">\n",
       "  <thead>\n",
       "    <tr style=\"text-align: right;\">\n",
       "      <th></th>\n",
       "      <th>span_idx</th>\n",
       "      <th>num_background_neighbours</th>\n",
       "      <th>num_foreground_neighbours</th>\n",
       "      <th>foreground_cnt</th>\n",
       "      <th>background_cnt</th>\n",
       "      <th>TFIDF_fore_back</th>\n",
       "    </tr>\n",
       "  </thead>\n",
       "  <tbody>\n",
       "    <tr>\n",
       "      <th>mucous membrane</th>\n",
       "      <td>838</td>\n",
       "      <td>98</td>\n",
       "      <td>402</td>\n",
       "      <td>0</td>\n",
       "      <td>3</td>\n",
       "      <td>0.0</td>\n",
       "    </tr>\n",
       "    <tr>\n",
       "      <th>nasal cavity</th>\n",
       "      <td>1144</td>\n",
       "      <td>98</td>\n",
       "      <td>402</td>\n",
       "      <td>0</td>\n",
       "      <td>2</td>\n",
       "      <td>0.0</td>\n",
       "    </tr>\n",
       "    <tr>\n",
       "      <th>sterile pack</th>\n",
       "      <td>1241</td>\n",
       "      <td>98</td>\n",
       "      <td>402</td>\n",
       "      <td>0</td>\n",
       "      <td>2</td>\n",
       "      <td>0.0</td>\n",
       "    </tr>\n",
       "    <tr>\n",
       "      <th>vertical dimension</th>\n",
       "      <td>1266</td>\n",
       "      <td>94</td>\n",
       "      <td>406</td>\n",
       "      <td>0</td>\n",
       "      <td>2</td>\n",
       "      <td>0.0</td>\n",
       "    </tr>\n",
       "  </tbody>\n",
       "</table>\n",
       "</div>"
      ],
      "text/plain": [
       "                    span_idx  num_background_neighbours  \\\n",
       "mucous membrane          838                         98   \n",
       "nasal cavity            1144                         98   \n",
       "sterile pack            1241                         98   \n",
       "vertical dimension      1266                         94   \n",
       "\n",
       "                    num_foreground_neighbours  foreground_cnt  background_cnt  \\\n",
       "mucous membrane                           402               0               3   \n",
       "nasal cavity                              402               0               2   \n",
       "sterile pack                              402               0               2   \n",
       "vertical dimension                        406               0               2   \n",
       "\n",
       "                    TFIDF_fore_back  \n",
       "mucous membrane                 0.0  \n",
       "nasal cavity                    0.0  \n",
       "sterile pack                    0.0  \n",
       "vertical dimension              0.0  "
      ]
     },
     "execution_count": 55,
     "metadata": {},
     "output_type": "execute_result"
    }
   ],
   "source": [
    "# Example terms BOTTOM RIGHT of the plot (expecting general domain)\n",
    "bottom = span_features_df['TFIDF_fore_back'] < .1 * min_TFIDF_value\n",
    "right = span_features_df['num_foreground_neighbours'] > 150 + min_num_foreground_neighbours\n",
    "span_features_df.loc[bottom & right]"
   ]
  },
  {
   "cell_type": "code",
   "execution_count": 71,
   "id": "1acabd72",
   "metadata": {},
   "outputs": [
    {
     "data": {
      "image/png": "[encoded data removed]",
      "text/plain": [
       "<Figure size 640x480 with 1 Axes>"
      ]
     },
     "metadata": {},
     "output_type": "display_data"
    }
   ],
   "source": [
    "# We'll save the plot as a figure with example terms\n",
    "fig = plt.figure()\n",
    "sns.set_style (\"darkgrid\")\n",
    "axes = sns.scatterplot(x=\"num_foreground_neighbours\",\n",
    "                       y=\"TFIDF_fore_back\",\n",
    "                       data=span_features_df)\n",
    "\n",
    "axes.set_xlabel(\"Nr. of neighbours that occur only in the foreground corpus\")\n",
    "axes.set_ylabel(\"Foreground/Background TFIDF\")\n",
    "\n",
    "axes.axhline(y=min_TFIDF_value, color=(1,0,0,.8), linestyle='dotted')\n",
    "axes.axvline(x=min_num_foreground_neighbours, color=(1,0,0,.8), linestyle='dotted')\n",
    "\n",
    "topleft_term = \"general domain:\\t\\t \" + \"test evidence\"\n",
    "topright_term = \"building regulations:\\t \" + \"glazed screens\"\n",
    "bottomleft_term = \"medical domain:\\t\\t \" + \"clinical investigation\"\n",
    "bottomright_term = \"general domain:\\t\\t \" + \"vertical dimension\"\n",
    "\n",
    "plt.text(530, 1.1, \"Expected domains and example terms:\", fontsize = 10)\n",
    "for idx, term in enumerate([topleft_term, topright_term, bottomleft_term, bottomright_term]):\n",
    "    x = span_features_df[\"num_foreground_neighbours\"][term.split(\"\\t \")[1]]\n",
    "    y = span_features_df[\"TFIDF_fore_back\"][term.split(\"\\t \")[1]]\n",
    "    colour = \"green\" if (x > min_num_foreground_neighbours and y > min_TFIDF_value) else \"red\"\n",
    "    plt.text(x, y, f\"${chr(97 + idx).upper()}$\", fontsize = 10, bbox = dict(facecolor=colour, \n",
    "                                                                            boxstyle='circle',\n",
    "                                                                            alpha = 0.5))\n",
    "    plt.text(530, 1 - (.1 * idx), f\"${chr(97 + idx).upper()}$) \" + term, fontsize = 10)\n",
    "\n",
    "    \n",
    "# Create a Rectangle patch\n",
    "rect = Rectangle((min_num_foreground_neighbours, min_TFIDF_value), \n",
    "                 520 - min_num_foreground_neighbours, \n",
    "                 1.4 - min_TFIDF_value, facecolor=(0,0.8,0.2,0.2))\n",
    "# Add the patch to the Axes\n",
    "axes.add_patch(rect)\n",
    "fig.savefig(embedding_output_fp.joinpath(\"plot.jpg\"), dpi=300, bbox_inches = \"tight\") #save as jpg\n",
    "\n",
    "# we'll also save span_features_df for reuse elsewhere\n",
    "span_features_df.to_csv(embedding_output_fp.joinpath(\"span_features.csv\"))"
   ]
  },
  {
   "cell_type": "markdown",
   "id": "74b3ad55",
   "metadata": {},
   "source": [
    "* compute domain terms and exemplify"
   ]
  },
  {
   "cell_type": "code",
   "execution_count": 58,
   "id": "50de716f",
   "metadata": {},
   "outputs": [],
   "source": [
    "domain_terms = span_features_df[(span_features_df['TFIDF_fore_back'] >= min_TFIDF_value) & (span_features_df['num_foreground_neighbours'] >= min_num_foreground_neighbours)]\n",
    "ood_terms = span_features_df[(span_features_df['TFIDF_fore_back'] < min_TFIDF_value) | (span_features_df['num_foreground_neighbours'] < min_num_foreground_neighbours)]\n"
   ]
  },
  {
   "cell_type": "code",
   "execution_count": 59,
   "id": "d2062da2",
   "metadata": {
    "scrolled": true
   },
   "outputs": [],
   "source": [
    "# we will store the domain / out-of-domain decision so we can re-use it as a dataset for a kNN voting classifier\n",
    "domain_term_list = domain_terms.index.tolist()\n",
    "for term in span_df_dict.keys():\n",
    "    span_df_dict[term]['domain'] = 'y' if term in domain_term_list else 'n'\n",
    "\n",
    "with open(embedding_output_fp.joinpath(\"span_domain_ood_dict.json\"), 'w') as f:\n",
    "    json.dump(span_df_dict, f)  "
   ]
  },
  {
   "cell_type": "code",
   "execution_count": 60,
   "id": "98ac9022",
   "metadata": {},
   "outputs": [
    {
     "name": "stdout",
     "output_type": "stream",
     "text": [
      "Examples of our 2191 AEC domain terms\n"
     ]
    },
    {
     "data": {
      "text/plain": [
       "['habitable area',\n",
       " 'site investigation',\n",
       " 'outlet',\n",
       " 'wind direction',\n",
       " 'risk of blockages',\n",
       " 'atmosphere',\n",
       " 'sound insulation',\n",
       " 'commencement',\n",
       " 'wall cladding',\n",
       " 'course']"
      ]
     },
     "execution_count": 60,
     "metadata": {},
     "output_type": "execute_result"
    }
   ],
   "source": [
    "\n",
    "domain_unique = list(set(domain_terms.index.tolist()))\n",
    "print(f\"Examples of our {len(domain_unique)} AEC domain terms\")\n",
    "random.sample(domain_unique, 10)"
   ]
  },
  {
   "cell_type": "code",
   "execution_count": 61,
   "id": "65828086",
   "metadata": {},
   "outputs": [
    {
     "name": "stdout",
     "output_type": "stream",
     "text": [
      "Examples of our 1271 general domain terms\n"
     ]
    },
    {
     "data": {
      "text/plain": [
       "['PMCF plan',\n",
       " 'means of',\n",
       " 'approach',\n",
       " 'relevant information',\n",
       " 'revision',\n",
       " 'test equipment',\n",
       " 'surgical intervention',\n",
       " 'comparison',\n",
       " 'national provisions',\n",
       " 'surveillance assessment']"
      ]
     },
     "execution_count": 61,
     "metadata": {},
     "output_type": "execute_result"
    }
   ],
   "source": [
    "print(f\"Examples of our {len(ood_terms)} general domain terms\")\n",
    "random.sample(ood_terms.index.tolist(), 10)"
   ]
  },
  {
   "cell_type": "markdown",
   "id": "3e875c60",
   "metadata": {},
   "source": [
    "* save the domain terms in the folder with inputs for our graph"
   ]
  },
  {
   "cell_type": "code",
   "execution_count": 62,
   "id": "35e57bc3",
   "metadata": {},
   "outputs": [],
   "source": [
    "graph_data_fp = Path(\"data/graph_data/\")\n",
    "pickle.dump(domain_unique, open(graph_data_fp.joinpath('domain_terms.pkl'), 'wb'))"
   ]
  },
  {
   "cell_type": "code",
   "execution_count": null,
   "id": "58381bfa",
   "metadata": {},
   "outputs": [],
   "source": []
  },
  {
   "cell_type": "code",
   "execution_count": null,
   "id": "5af0c2a0",
   "metadata": {},
   "outputs": [],
   "source": []
  }
 ],
 "metadata": {
  "kernelspec": {
   "display_name": "Python 3 (ipykernel)",
   "language": "python",
   "name": "python3"
  },
  "language_info": {
   "codemirror_mode": {
    "name": "ipython",
    "version": 3
   },
   "file_extension": ".py",
   "mimetype": "text/x-python",
   "name": "python",
   "nbconvert_exporter": "python",
   "pygments_lexer": "ipython3",
   "version": "3.9.16"
  }
 },
 "nbformat": 4,
 "nbformat_minor": 5
}
