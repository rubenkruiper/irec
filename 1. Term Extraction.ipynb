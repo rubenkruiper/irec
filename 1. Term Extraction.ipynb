{
 "cells": [
  {
   "cell_type": "markdown",
   "id": "95ac68d8",
   "metadata": {},
   "source": [
    "Run the code by either:\n",
    "1. selecting `Run all` from the `Cell` dropdown menu above\n",
    "2. run cell-by-cell, by pressing `Shift + Enter` on your keyboard\n",
    "  * note; `Alt + Enter` runs a cell and inserts an empty cell below"
   ]
  },
  {
   "cell_type": "code",
   "execution_count": 1,
   "id": "788a8bca",
   "metadata": {},
   "outputs": [],
   "source": [
    "from typing import Union, List, Any, Optional, Dict\n",
    "\n",
    "import os\n",
    "import re\n",
    "import time\n",
    "import json\n",
    "import glob\n",
    "import pickle\n",
    "import random\n",
    "import urllib\n",
    "import requests\n",
    "import subprocess\n",
    "import concurrent.futures\n",
    "\n",
    "import numpy as np\n",
    "import pandas as pd\n",
    "import seaborn as sns\n",
    "\n",
    "from bs4 import BeautifulSoup\n",
    "from tqdm import tqdm\n",
    "from pathlib import Path\n",
    "from textblob import TextBlob\n",
    "from threading import current_thread\n",
    "from matplotlib import pyplot as plt\n",
    "from collections import Counter\n",
    "from transformers import BertTokenizer, BertModel\n",
    "from gap_statistic import OptimalK\n",
    "from sklearn.cluster import KMeans #, AgglomerativeClustering\n",
    "from sklearn.neighbors import kneighbors_graph\n",
    "\n",
    "from utils import cluster_utils\n",
    "from utils import cleaning_utils\n",
    "from utils import IDF_computation\n",
    "from utils import embedding_utils as embedding\n",
    "from utils.customdocument import CustomDocument"
   ]
  },
  {
   "cell_type": "markdown",
   "id": "d081bf43",
   "metadata": {},
   "source": [
    "<div class=\"alert alert-block alert-info\"> \n",
    "We will run our term extraction on the Merged Approved Documents, the .pdf file can be found in the `data/` directory. For filtering of out-of-domain terms we will also process a set of EU regulations for medical device design, the .html files for these can be found in the same directory.\n",
    "</div>\n",
    "\n",
    "1. Preprocessing will consist only of removing headers/footers from PDF files. \n",
    "\n",
    "2. Candidate terms are identified using SPaR.txt (Kruiper et al., 2021), sentence splitting is done with the PunkSentTokenizer (Strunk, 2006).\n",
    "\n",
    "3. Filtering of term candidates consists of:\n",
    "  * a set of regular expressions found in utils.py\n",
    "  * clustering of terms found in (1) the Approved Documents, and (2) a set of EU regulations for medical device design; any clusters containing terms from (2) will be designated as terms that are irrelevant to the AEC domain.\n",
    "  \n",
    " \n"
   ]
  },
  {
   "cell_type": "markdown",
   "id": "996a98d0",
   "metadata": {},
   "source": [
    "### 1 Preprocessing: get text from PDF and HTML\n",
    "\n",
    "<div class=\"alert alert-block alert-info\">\n",
    "Here, we grab the text from our foreground and background corpora.\n",
    "</div>\n"
   ]
  },
  {
   "cell_type": "code",
   "execution_count": 2,
   "id": "0f74d6fb",
   "metadata": {},
   "outputs": [
    {
     "name": "stdout",
     "output_type": "stream",
     "text": [
      "Approved Documents: data/term_extraction_input/The Merged Approved Documents.pdf\n",
      "Reference corpus: ['data/term_extraction_input/EUR-Lex - 31993L0042 - EN.html', 'data/term_extraction_input/CELEX 32017R0746 EN TXT.html', 'data/term_extraction_input/CELEX 32017R0745 EN TXT.html', 'data/term_extraction_input/EUR-Lex - 31998L0079 - EN.html', 'data/term_extraction_input/EUR-Lex - 31990L0385 - EN.html']\n"
     ]
    }
   ],
   "source": [
    "input_path = Path(\"data/term_extraction_input/\")\n",
    "output_dir = Path(\"data/converted_documents/\")\n",
    "output_dir.mkdir(parents=True, exist_ok=True) # create the converted_documents directory if needed\n",
    "\n",
    "# NOTE: in our case the foreground corpus is the merged_approved_pdf_file, \n",
    "#       and the background corpus is a set of html files\n",
    "merged_approved_pdf_file = [x for x in input_path.glob(\"*.pdf\")][0]\n",
    "eu_html_files = [x for x in input_path.glob(\"*.html\")]\n",
    "\n",
    "print(f\"Approved Documents: {merged_approved_pdf_file}\")\n",
    "print(f\"Reference corpus: {[str(x) for x in eu_html_files]}\")"
   ]
  },
  {
   "cell_type": "code",
   "execution_count": 3,
   "id": "75175bc6",
   "metadata": {},
   "outputs": [
    {
     "data": {
      "text/plain": [
       "True"
      ]
     },
     "execution_count": 3,
     "metadata": {},
     "output_type": "execute_result"
    }
   ],
   "source": [
    "merged_approved_pdf_file.exists()"
   ]
  },
  {
   "cell_type": "markdown",
   "id": "271bdc02",
   "metadata": {},
   "source": [
    "<div class=\"alert alert-block alert-info\">\n",
    "First we grab the text from the Merged Approved Documents pdf file. Our implementation on based on the pdf conversion pipeline in Haystack.\n",
    "</div>"
   ]
  },
  {
   "cell_type": "code",
   "execution_count": 4,
   "id": "3e0d20e7",
   "metadata": {},
   "outputs": [],
   "source": [
    "def read_pdf(file_path: Path, layout: bool = True, encoding: Optional[str] = \"Latin1\") -> List[str]:\n",
    "        \"\"\"\n",
    "        Extract pages from the pdf file at file_path; based on Haystack.\n",
    "\n",
    "        :param file_path: path of the pdf file\n",
    "        :param layout: whether to retain the original physical layout for a page. If disabled, PDF pages are read in\n",
    "                       the content stream order.\n",
    "        \"\"\"\n",
    "        if layout:\n",
    "            command = [\"pdftotext\", \"-enc\", encoding, \"-layout\", str(file_path), \"-\"]\n",
    "        else:\n",
    "            command = [\"pdftotext\", \"-enc\", encoding, str(file_path), \"-\"]\n",
    "        output = subprocess.run(command, stdout=subprocess.PIPE, shell=False)  # type: ignore\n",
    "        document = output.stdout.decode(errors=\"ignore\")\n",
    "        pages = document.split(\"\\f\")\n",
    "        pages = pages[:-1]  # the last page in the split is always empty.\n",
    "        return pages\n",
    "\n",
    "def convert_pdf_to_mydoc(source_file_path: Path, \n",
    "                         output_file_path: Path, \n",
    "                         meta: Optional[Dict[str, str]] = None,\n",
    "                         remove_header_and_footer: Optional[bool] = True,\n",
    "                         clean_whitespace: Optional[bool] = True,\n",
    "                         clean_empty_lines: Optional[bool] = True,\n",
    "                         encoding: Optional[str] = \"Latin1\") -> CustomDocument:\n",
    "        \"\"\"\n",
    "        Extract pages from the pdf file at file_path; based on Haystack.\n",
    "\n",
    "        :param output_file_path:    Path to the .json file to store the converted file.\n",
    "        :param source_file_path:    Path to the .pdf file you want to convert\n",
    "        :param meta: Optional dictionary with metadata that shall be attached to all resulting documents.\n",
    "                     Can be any custom keys and values.\n",
    "        :param encoding: Encoding that will be passed as -enc parameter to pdftotext. \"Latin 1\" is the default encoding\n",
    "                         of pdftotext. While this works well on many PDFs, it might be needed to switch to \"UTF-8\" or\n",
    "                         others if your doc contains special characters (e.g. German Umlauts, Cyrillic characters ...).\n",
    "                         Note: With \"UTF-8\" we experienced cases, where a simple \"fi\" gets wrongly parsed as\n",
    "                         \"xef\\xac\\x81c\" (see test cases). That's why we keep \"Latin 1\" as default here.\n",
    "                         (See list of available encodings by running `pdftotext -listenc` in the terminal)\n",
    "        \"\"\"\n",
    "        pages = read_pdf(source_file_path, layout=True, encoding=encoding)\n",
    "\n",
    "        if not pages:\n",
    "            # empty input file\n",
    "            return None\n",
    "        \n",
    "        pages = [\"\\n\".join(p.splitlines()) for p in pages]\n",
    "\n",
    "        # splitting text happens during preprocessing, so no split_size passed here;\n",
    "        # split_size will be set to -1 during conversion.\n",
    "        document = CustomDocument(output_file_path, source_file_path, split_size=-1)\n",
    "        \n",
    "        print(\"Converted PDF file to pages of text, combining to a single CustomDocument to keep track of page nrs.\")\n",
    "        for page_idx, page in tqdm(enumerate(pages)):\n",
    "            \n",
    "            # some simple cleaning -- roughly based on haystack.\n",
    "            lines = page.splitlines()\n",
    "            if remove_header_and_footer:\n",
    "                # simplest way for removing header and footer \n",
    "                lines = lines[1:-2]\n",
    "\n",
    "            if clean_whitespace:\n",
    "                cleaned_lines = []\n",
    "                for line in lines:\n",
    "                    line = line.strip()\n",
    "                    cleaned_lines.append(line)\n",
    "                text = \" \".join(cleaned_lines)\n",
    "\n",
    "            if clean_empty_lines:\n",
    "                text = re.sub(r\"\\n\\n+\", \"\\n\\n\", text)\n",
    "                text = re.sub(r\"[\\s]+\", \" \", text)\n",
    "            \n",
    "            # no splitting here yet, so simply using page_nr as a place holder and split_id is left blank\n",
    "            page_nr = str(page_idx + 1)\n",
    "            document.add_content(text=text, \n",
    "                                 page_nr=page_nr, \n",
    "                                 doc_title=source_file_path.name)   # we're using the pdf file name for simplicity\n",
    "\n",
    "        return document"
   ]
  },
  {
   "cell_type": "code",
   "execution_count": 5,
   "id": "71184fcf",
   "metadata": {},
   "outputs": [
    {
     "name": "stdout",
     "output_type": "stream",
     "text": [
      "Converted PDF file to pages of text, combining to a single CustomDocument to keep track of page nrs.\n"
     ]
    },
    {
     "name": "stderr",
     "output_type": "stream",
     "text": [
      "1455it [00:00, 9007.79it/s]\n"
     ]
    }
   ],
   "source": [
    "output_path = output_dir.joinpath(\"merged_approved.json\")\n",
    "merged_approved_document = convert_pdf_to_mydoc(merged_approved_pdf_file, output_path)"
   ]
  },
  {
   "cell_type": "code",
   "execution_count": 6,
   "id": "1473ee8b",
   "metadata": {},
   "outputs": [
    {
     "name": "stdout",
     "output_type": "stream",
     "text": [
      "Maximum character length for a single block of text: 5349\n"
     ]
    }
   ],
   "source": [
    "print(f\"Maximum character length for a single block of text: {max([len(c.text) for c in merged_approved_document.all_contents])}\")"
   ]
  },
  {
   "cell_type": "markdown",
   "id": "84117041",
   "metadata": {},
   "source": [
    "<div class=\"alert alert-block alert-info\">\n",
    "Second, we grab the text from the EU regulation HTML files. Because the text in HTML files isn't split into pages, the blocks of text are much longer.\n",
    "</div>"
   ]
  },
  {
   "cell_type": "code",
   "execution_count": 7,
   "id": "c5bb53f9",
   "metadata": {},
   "outputs": [],
   "source": [
    "def grab_HTML_text_simple(file_path: Path):\n",
    "    \"\"\"\n",
    "    All text in the EU htmls seems to be captured neatly in <p> tags, we don't care about structure currently.\n",
    "    We do remove all unicode characters, see `utils.remove_unicode_chars()`.\n",
    "    \"\"\" \n",
    "    with open(file_path, 'r') as f:\n",
    "        text = f.read()\n",
    "    soup = BeautifulSoup(text, 'html.parser')\n",
    "    return [cleaning_utils.remove_unicode_chars(x.text) for x in soup.body.find_all('p')]"
   ]
  },
  {
   "cell_type": "code",
   "execution_count": 8,
   "id": "6630e6ba",
   "metadata": {},
   "outputs": [],
   "source": [
    "def convert_html_to_mydoc(source_file_path: Path, \n",
    "                          output_file_path: Path) -> CustomDocument:\n",
    "    \n",
    "    document = CustomDocument(output_file_path, source_file_path, split_size=-1)\n",
    "    document_paragraphs = []\n",
    "    list_of_paragraphs = grab_HTML_text_simple(source_file_path)\n",
    "    for paragraph in list_of_paragraphs:\n",
    "        if paragraph.strip() != '':\n",
    "            document_paragraphs.append(paragraph)\n",
    "    \n",
    "    for paragraph_idx, paragraph in tqdm(enumerate(document_paragraphs)):\n",
    "            # no splitting here yet, so simply using page_nr as a place holder and split_id is left blank\n",
    "            paragraph_nr = str(paragraph_idx + 1)\n",
    "            document.add_content(text=paragraph, \n",
    "                                 page_nr=paragraph_nr, \n",
    "                                 doc_title=source_file_path.name) # we're using the html file name for simplicity\n",
    "    return document"
   ]
  },
  {
   "cell_type": "code",
   "execution_count": 9,
   "id": "91b68b58",
   "metadata": {},
   "outputs": [
    {
     "name": "stderr",
     "output_type": "stream",
     "text": [
      "  0%|                                                                                                                                                                                 | 0/5 [00:00<?, ?it/s]\n",
      "826it [00:00, 301548.88it/s]\n",
      "\n",
      "4344it [00:00, 399922.22it/s]\n",
      " 40%|███████████████████████████████████████████████████████████████████▌                                                                                                     | 2/5 [00:00<00:01,  2.52it/s]\n",
      "4799it [00:00, 402295.74it/s]\n",
      " 60%|█████████████████████████████████████████████████████████████████████████████████████████████████████▍                                                                   | 3/5 [00:01<00:01,  1.87it/s]\n",
      "623it [00:00, 278636.32it/s]\n",
      " 80%|███████████████████████████████████████████████████████████████████████████████████████████████████████████████████████████████████████▏                                 | 4/5 [00:01<00:00,  2.55it/s]\n",
      "511it [00:00, 359612.31it/s]\n",
      "100%|█████████████████████████████████████████████████████████████████████████████████████████████████████████████████████████████████████████████████████████████████████████| 5/5 [00:01<00:00,  2.94it/s]\n"
     ]
    }
   ],
   "source": [
    "eu_regulation_documents = []\n",
    "\n",
    "for html_file in tqdm(eu_html_files):\n",
    "    output_path = output_dir.joinpath(html_file.stem + \".json\")\n",
    "    eu_regulation_documents.append(convert_html_to_mydoc(html_file, output_path))\n"
   ]
  },
  {
   "cell_type": "code",
   "execution_count": 10,
   "id": "033634ca",
   "metadata": {},
   "outputs": [
    {
     "name": "stdout",
     "output_type": "stream",
     "text": [
      "Maximum character length for a single paragraph: 143428\n"
     ]
    }
   ],
   "source": [
    "print(f\"Maximum character length for a single paragraph: {max([len(c.text) for d in eu_regulation_documents for c in d.all_contents])}\")"
   ]
  },
  {
   "cell_type": "markdown",
   "id": "77347abc",
   "metadata": {},
   "source": [
    "<div class=\"alert alert-block alert-info\">\n",
    "Third, if the output document doesn't exist (yet), we save the ConvertedDocument.\n",
    "</div>"
   ]
  },
  {
   "cell_type": "code",
   "execution_count": 11,
   "id": "24237e3e",
   "metadata": {},
   "outputs": [],
   "source": [
    "foreground_corpus = [merged_approved_document]\n",
    "background_corpus = eu_regulation_documents"
   ]
  },
  {
   "cell_type": "code",
   "execution_count": 12,
   "id": "7a00ed81",
   "metadata": {},
   "outputs": [],
   "source": [
    "for d in foreground_corpus + background_corpus:\n",
    "    if not os.path.exists(d.output_fp):\n",
    "        d.write_document()"
   ]
  },
  {
   "cell_type": "markdown",
   "id": "20f6e56a",
   "metadata": {},
   "source": [
    "### 2 Term extraction: identify object spans with SPaR.txt\n",
    "\n",
    "<div class=\"alert alert-block alert-info\">\n",
    "For each of the sentences in our corpora, we run SPaR.txt for object identification.\n",
    "</div>\n",
    "\n",
    "\n",
    "Note; on a mac, you may have to install the Xcode commandline developer tools. Open a terminal window and run `xcode-select --install` or download Xcode through the App store.\n",
    "\n"
   ]
  },
  {
   "cell_type": "code",
   "execution_count": 13,
   "id": "edf22a14",
   "metadata": {},
   "outputs": [],
   "source": [
    "# download SPaR.txt if required\n",
    "from pathlib import Path\n",
    "spartxt_path = Path(\"SPaR.txt/\")\n",
    "if not spartxt_path.exists():\n",
    "    !git clone https://github.com/rubenkruiper/SPaR.txt.git"
   ]
  },
  {
   "cell_type": "code",
   "execution_count": 14,
   "id": "b19aa4ce",
   "metadata": {},
   "outputs": [
    {
     "name": "stderr",
     "output_type": "stream",
     "text": [
      "/var/folders/lp/l_mzhpjs6bg95plfkl_n_vsc0000gn/T/ipykernel_42416/67904731.py:1: DeprecationWarning: the imp module is deprecated in favour of importlib; see the module's documentation for alternative uses\n",
      "  import imp\n"
     ]
    }
   ],
   "source": [
    "import imp\n",
    "with open(spartxt_path.joinpath('spar_predictor.py'), 'rb') as fp:\n",
    "    spar_predictor = imp.load_module(\n",
    "        'spar_predictor', fp, 'SPaR.txt.spar_predictor.py',\n",
    "        ('.py', 'rb', imp.PY_SOURCE)\n",
    "    )"
   ]
  },
  {
   "cell_type": "code",
   "execution_count": 15,
   "id": "9daef1de",
   "metadata": {
    "scrolled": true
   },
   "outputs": [
    {
     "name": "stderr",
     "output_type": "stream",
     "text": [
      "Some weights of the model checkpoint at bert-base-cased were not used when initializing BertModel: ['cls.seq_relationship.bias', 'cls.predictions.decoder.weight', 'cls.predictions.transform.dense.bias', 'cls.predictions.transform.LayerNorm.bias', 'cls.predictions.bias', 'cls.seq_relationship.weight', 'cls.predictions.transform.LayerNorm.weight', 'cls.predictions.transform.dense.weight']\n",
      "- This IS expected if you are initializing BertModel from the checkpoint of a model trained on another task or with another architecture (e.g. initializing a BertForSequenceClassification model from a BertForPreTraining model).\n",
      "- This IS NOT expected if you are initializing BertModel from the checkpoint of a model that you expect to be exactly identical (initializing a BertForSequenceClassification model from a BertForSequenceClassification model).\n"
     ]
    }
   ],
   "source": [
    "# trains a model if needed, otherwise loads from archive; \n",
    "# - best F1 on dev/validation in the paper is 80,96 trained on a GPU, CPU will be a bit lower ~77.x I think\n",
    "sp = spar_predictor.SparPredictor()"
   ]
  },
  {
   "cell_type": "code",
   "execution_count": 16,
   "id": "a0206ea8",
   "metadata": {},
   "outputs": [
    {
     "name": "stdout",
     "output_type": "stream",
     "text": [
      "Example input: An example sentence to show how ACC terminology will be extracted from the British Standards.\n",
      "{'obj': ['An', 'sentence', 'ACC terminology', 'the British Standards']}\n",
      "Parsing took 0.10886216163635254\n"
     ]
    }
   ],
   "source": [
    "# example \n",
    "example = \"An example sentence to show how ACC terminology will be extracted from the British Standards.\"\n",
    "start_time = time.time()\n",
    "# prepare instance and run model on single instance\n",
    "docid = ''                  # ToDo - add doc_id during pre_processing?\n",
    "token_list = sp.predictor._dataset_reader.tokenizer.tokenize(example)\n",
    "instance = sp.predictor._dataset_reader.text_to_instance(docid,\n",
    "                                                      example,\n",
    "                                                      token_list,\n",
    "                                                      sp.predictor._dataset_reader._token_indexer)\n",
    "result = sp.predictor.predict_instance(instance)\n",
    "printable_result = sp.parse_output(result, ['obj'])\n",
    "print(f\"Example input: {example}\")\n",
    "print(printable_result)\n",
    "print(\"Parsing took {}\".format(time.time() - start_time))"
   ]
  },
  {
   "cell_type": "markdown",
   "id": "faaf4fe0",
   "metadata": {},
   "source": [
    "* To run SPaR.txt, we split the text in our corpora into sentences. We set up multiple instances of SPaR.txt predictors to speed up the processing a little."
   ]
  },
  {
   "cell_type": "code",
   "execution_count": 17,
   "id": "bc415227",
   "metadata": {},
   "outputs": [],
   "source": [
    "from utils import spar_utils"
   ]
  },
  {
   "cell_type": "code",
   "execution_count": 18,
   "id": "c5f7c27f",
   "metadata": {},
   "outputs": [],
   "source": [
    "# We initialize `max_num_cpu_threads` number of SPaR.txt predictors (see spar_utils for details)\n",
    "# you may want to reduce `max_num_cpu_threads` if the cell below runs into issues\n",
    "te = spar_utils.TermExtractor(max_num_cpu_threads=4)"
   ]
  },
  {
   "cell_type": "code",
   "execution_count": 19,
   "id": "b3d086b3",
   "metadata": {
    "scrolled": true
   },
   "outputs": [
    {
     "name": "stdout",
     "output_type": "stream",
     "text": [
      "Working on: data/term_extraction_input/The Merged Approved Documents.pdf\n"
     ]
    },
    {
     "name": "stderr",
     "output_type": "stream",
     "text": [
      "100%|██████████████████████████████████████████████████████████████████████████████████████████████████████████████████████████████████████████████████████████████████| 1455/1455 [00:01<00:00, 974.65it/s]\n"
     ]
    },
    {
     "name": "stdout",
     "output_type": "stream",
     "text": [
      "Number of sentences found: 20598\n",
      "Working on: data/term_extraction_input/EUR-Lex - 31993L0042 - EN.html\n"
     ]
    },
    {
     "name": "stderr",
     "output_type": "stream",
     "text": [
      "100%|███████████████████████████████████████████████████████████████████████████████████████████████████████████████████████████████████████████████████████████████████| 826/826 [00:00<00:00, 4222.13it/s]\n"
     ]
    },
    {
     "name": "stdout",
     "output_type": "stream",
     "text": [
      "Number of sentences found: 1728\n",
      "Working on: data/term_extraction_input/CELEX 32017R0746 EN TXT.html\n"
     ]
    },
    {
     "name": "stderr",
     "output_type": "stream",
     "text": [
      "100%|█████████████████████████████████████████████████████████████████████████████████████████████████████████████████████████████████████████████████████████████████| 4344/4344 [00:01<00:00, 3419.96it/s]\n"
     ]
    },
    {
     "name": "stdout",
     "output_type": "stream",
     "text": [
      "Number of sentences found: 3422\n",
      "Working on: data/term_extraction_input/CELEX 32017R0745 EN TXT.html\n"
     ]
    },
    {
     "name": "stderr",
     "output_type": "stream",
     "text": [
      "100%|█████████████████████████████████████████████████████████████████████████████████████████████████████████████████████████████████████████████████████████████████| 4799/4799 [00:01<00:00, 3870.07it/s]\n"
     ]
    },
    {
     "name": "stdout",
     "output_type": "stream",
     "text": [
      "Number of sentences found: 3867\n",
      "Working on: data/term_extraction_input/EUR-Lex - 31998L0079 - EN.html\n"
     ]
    },
    {
     "name": "stderr",
     "output_type": "stream",
     "text": [
      "100%|███████████████████████████████████████████████████████████████████████████████████████████████████████████████████████████████████████████████████████████████████| 623/623 [00:00<00:00, 1600.41it/s]\n"
     ]
    },
    {
     "name": "stdout",
     "output_type": "stream",
     "text": [
      "Number of sentences found: 1300\n",
      "Working on: data/term_extraction_input/EUR-Lex - 31990L0385 - EN.html\n"
     ]
    },
    {
     "name": "stderr",
     "output_type": "stream",
     "text": [
      "100%|███████████████████████████████████████████████████████████████████████████████████████████████████████████████████████████████████████████████████████████████████| 511/511 [00:00<00:00, 3046.89it/s]\n"
     ]
    },
    {
     "name": "stdout",
     "output_type": "stream",
     "text": [
      "Number of sentences found: 789\n"
     ]
    }
   ],
   "source": [
    "# Run SPaR.txt on all documents and write to file\n",
    "for converted_document in foreground_corpus + background_corpus:\n",
    "    # re-load the document from file, to make sure we don't overwrite existing SPaR.txt labels\n",
    "    converted_document = converted_document.load_document(converted_document.output_fp)\n",
    "    te.process_custom_document(converted_document)\n",
    "    "
   ]
  },
  {
   "cell_type": "markdown",
   "id": "4835185f",
   "metadata": {},
   "source": [
    "<div class=\"alert alert-block alert-info\">\n",
    "Number of sentences (longer than 10 characters) found in: <ul>\n",
    "    <li>Merged Approved documents: 20598</li>\n",
    "    <li>Background corpus (1728+3422+3867+1300+789): 11106</li>\n",
    "    </ul>\n",
    "</div>"
   ]
  },
  {
   "cell_type": "markdown",
   "id": "c6b15878",
   "metadata": {},
   "source": [
    "### 3 Filtering\n",
    "<div class=\"alert alert-block alert-info\">\n",
    "The objects identified by SPaR.txt contain a lot of noise. Here, we clean and filter them; based on our background corpus we try to identify which terms belong to the AEC domain. \n",
    "</div>"
   ]
  },
  {
   "cell_type": "markdown",
   "id": "b511762d",
   "metadata": {},
   "source": [
    "<div class=\"alert alert-block alert-info\">\n",
    "First, load all terms from the processed files and apply some basic cleaning.\n",
    "</div>"
   ]
  },
  {
   "cell_type": "code",
   "execution_count": 20,
   "id": "80b48432",
   "metadata": {},
   "outputs": [],
   "source": [
    "regex_filter = cleaning_utils.RegexFilter()\n",
    "def run_filters(to_be_cleaned):\n",
    "    # some basic cleaning steps\n",
    "    _, regex_cleaned  = regex_filter.run_filter(to_be_cleaned) # _ would be the list of terms removed by our regex filters\n",
    "    basic_cleaned = cleaning_utils.custom_cleaning_rules(regex_cleaned)\n",
    "    determiners_removed = [cleaning_utils.remove_determiners(t) for t in basic_cleaned]\n",
    "    cleaned_terms = [t for t in determiners_removed if t]\n",
    "    cleaned_counter = Counter(cleaned_terms)\n",
    "    \n",
    "    # We only want terms to occur at least X times in a corpus, e.g., 5 times:\n",
    "    cleaned_terms = [t for t in cleaned_terms if cleaned_counter[t] >= 5]\n",
    "    cleaned_counter = Counter({t: c for t, c in cleaned_counter.items() if c >= 5})\n",
    "    return cleaned_terms, cleaned_counter"
   ]
  },
  {
   "cell_type": "code",
   "execution_count": 21,
   "id": "4fb5373f",
   "metadata": {},
   "outputs": [
    {
     "name": "stdout",
     "output_type": "stream",
     "text": [
      "Total number of extracted foreground terms: 123359\n",
      "Total unique extracted foreground terms: 43937\n",
      "Total number of cleaned foreground terms: 64339\n",
      "Total number of UNIQUE foreground terms: 3151\n"
     ]
    },
    {
     "data": {
      "text/plain": [
       "[('building', 1824),\n",
       " ('buildings', 934),\n",
       " ('guidance', 887),\n",
       " ('requirements', 641),\n",
       " ('Building Regulations', 636),\n",
       " ('dwelling', 500),\n",
       " ('work', 490),\n",
       " ('dwellings', 385),\n",
       " ('building work', 365),\n",
       " ('document', 351)]"
      ]
     },
     "execution_count": 21,
     "metadata": {},
     "output_type": "execute_result"
    }
   ],
   "source": [
    "foreground_terms_lists = [c.NER_labels for d in foreground_corpus for c in d.load_document(d.output_fp).all_contents]\n",
    "foreground_terms_raw = [t for t_list in foreground_terms_lists for t in t_list if t]\n",
    "print(f\"Total number of extracted foreground terms: {len(foreground_terms_raw)}\")\n",
    "print(f\"Total unique extracted foreground terms: {len(list(set(foreground_terms_raw)))}\")\n",
    "\n",
    "# cleaning of terms, including removal of determiners\n",
    "cleaned_foreground_terms, cleaned_foreground_terms_c = run_filters(foreground_terms_raw)\n",
    "print(f\"Total number of cleaned foreground terms: {len(cleaned_foreground_terms)}\")\n",
    "print(f\"Total number of UNIQUE foreground terms: {len(cleaned_foreground_terms_c)}\")\n",
    "cleaned_foreground_terms_c.most_common(10)"
   ]
  },
  {
   "cell_type": "code",
   "execution_count": 22,
   "id": "8006f6f0",
   "metadata": {},
   "outputs": [
    {
     "name": "stdout",
     "output_type": "stream",
     "text": [
      "Total number of extracted background terms: 72375\n",
      "Total unique extracted background terms: 10408\n",
      "Total number of cleaned background terms: 57084\n",
      "Total number of UNIQUE background terms: 1896\n"
     ]
    },
    {
     "data": {
      "text/plain": [
       "[('device', 1885),\n",
       " ('devices', 1696),\n",
       " ('manufacturer', 1587),\n",
       " ('notified body', 1199),\n",
       " ('information', 799),\n",
       " ('Member States', 686),\n",
       " ('Commission', 652),\n",
       " ('requirements', 604),\n",
       " ('Regulation', 596),\n",
       " ('market', 475)]"
      ]
     },
     "execution_count": 22,
     "metadata": {},
     "output_type": "execute_result"
    }
   ],
   "source": [
    "background_terms_lists = [c.NER_labels for d in background_corpus for c in d.load_document(d.output_fp).all_contents]\n",
    "background_terms_raw = [t for t_list in background_terms_lists for t in t_list if t]\n",
    "print(f\"Total number of extracted background terms: {len(background_terms_raw)}\")\n",
    "print(f\"Total unique extracted background terms: {len(list(set(background_terms_raw)))}\")\n",
    "\n",
    "# cleaning of terms, including removal of determiners\n",
    "cleaned_background_terms, cleaned_background_terms_c  = run_filters(background_terms_raw)\n",
    "\n",
    "print(f\"Total number of cleaned background terms: {len(cleaned_background_terms)}\")\n",
    "print(f\"Total number of UNIQUE background terms: {len(cleaned_background_terms_c)}\")\n",
    "cleaned_background_terms_c.most_common(10)"
   ]
  },
  {
   "cell_type": "code",
   "execution_count": 23,
   "id": "e79727a3",
   "metadata": {},
   "outputs": [
    {
     "name": "stdout",
     "output_type": "stream",
     "text": [
      "Total number of clean, unique term candidates identified by SPaR.txt:4636\n"
     ]
    }
   ],
   "source": [
    "print(f\"Total number of clean, unique term candidates identified by SPaR.txt:{len(cleaned_foreground_terms_c+cleaned_background_terms_c)}\")"
   ]
  },
  {
   "cell_type": "markdown",
   "id": "406d6ca8",
   "metadata": {},
   "source": [
    "<div class=\"alert alert-block alert-info\">\n",
    "Second, we compute the embeddings for both foreground and background terms.\n",
    "</div>\n",
    "\n",
    "\n",
    "* Note: **embeddings** will be IDF weighted (IDF weights over both foreground and background corpora)\n",
    "  * Could add more sentences to the computation of IDF weights, e.g., definitions from vocabularies/WikiData."
   ]
  },
  {
   "cell_type": "code",
   "execution_count": 24,
   "id": "0b177bf4",
   "metadata": {},
   "outputs": [],
   "source": [
    "# Which tokenizer to use for IDF computation and Embedding;\n",
    "bert_model_name = 'bert-base-cased'\n",
    "embedding_output_fp = Path.cwd().joinpath(\"data\", \"term_embedding\")\n",
    "embedding_output_fp.mkdir(parents=True, exist_ok=True) # create the term_embedding directory if needed"
   ]
  },
  {
   "cell_type": "code",
   "execution_count": 25,
   "id": "b68eef07",
   "metadata": {},
   "outputs": [],
   "source": [
    "# store the cleaned unique_background_spans\n",
    "with open(Path(embedding_output_fp.joinpath(\"unique_background_spans.pkl\")), 'wb') as f:\n",
    "    pickle.dump([span for span in cleaned_background_terms_c.keys()], f)"
   ]
  },
  {
   "cell_type": "code",
   "execution_count": 26,
   "id": "10278f75",
   "metadata": {},
   "outputs": [],
   "source": [
    "all_terms_c = cleaned_foreground_terms_c + cleaned_background_terms_c"
   ]
  },
  {
   "cell_type": "code",
   "execution_count": 27,
   "id": "8f403d14",
   "metadata": {},
   "outputs": [
    {
     "data": {
      "text/plain": [
       "4636"
      ]
     },
     "execution_count": 27,
     "metadata": {},
     "output_type": "execute_result"
    }
   ],
   "source": [
    "len(all_terms_c)"
   ]
  },
  {
   "cell_type": "code",
   "execution_count": 28,
   "id": "a1000a90",
   "metadata": {},
   "outputs": [
    {
     "data": {
      "text/plain": [
       "[('device', 1920),\n",
       " ('building', 1824),\n",
       " ('devices', 1707),\n",
       " ('manufacturer', 1669),\n",
       " ('requirements', 1245),\n",
       " ('notified body', 1199),\n",
       " ('information', 1031),\n",
       " ('buildings', 934),\n",
       " ('guidance', 904),\n",
       " ('Member States', 686)]"
      ]
     },
     "execution_count": 28,
     "metadata": {},
     "output_type": "execute_result"
    }
   ],
   "source": [
    "all_terms_c.most_common(10)"
   ]
  },
  {
   "cell_type": "code",
   "execution_count": 29,
   "id": "ac5654c4",
   "metadata": {
    "scrolled": true
   },
   "outputs": [],
   "source": [
    "# identify which terms are MWEs\n",
    "mwes = []\n",
    "for t in all_terms_c.keys():\n",
    "    words = t.split(' ')\n",
    "    if len(words) > 1:\n",
    "        mwes.append(t)"
   ]
  },
  {
   "cell_type": "code",
   "execution_count": 30,
   "id": "7fa5a153",
   "metadata": {},
   "outputs": [
    {
     "name": "stdout",
     "output_type": "stream",
     "text": [
      "Number of MWEs: 2501 (53.95%)\n"
     ]
    },
    {
     "data": {
      "text/plain": [
       "['service life',\n",
       " 'trend reports',\n",
       " 'application Internal fire spread',\n",
       " 'Regulations 1998',\n",
       " 'alarm systems',\n",
       " 'information obligations',\n",
       " 'named standard',\n",
       " 'Table 1 2',\n",
       " 'septic tank',\n",
       " 'Requirement E3']"
      ]
     },
     "execution_count": 30,
     "metadata": {},
     "output_type": "execute_result"
    }
   ],
   "source": [
    "# some insight in number of MWEs to be expected that these still contain a substantial amount of erroneous spans\n",
    "print(\"Number of MWEs: {} ({:.2f}%)\".format(len(mwes), (len(mwes)/len(all_terms_c))*100))\n",
    "random.sample(mwes, 10)"
   ]
  },
  {
   "cell_type": "code",
   "execution_count": 31,
   "id": "d8d0d4ad",
   "metadata": {},
   "outputs": [],
   "source": [
    "# Compute IDF weights\n",
    "sentence_lists = [c.sentences for d in foreground_corpus + background_corpus for c in d.load_document(d.output_fp).all_contents]\n",
    "all_sentences = [s for sent_list in sentence_lists for s in sent_list if s]"
   ]
  },
  {
   "cell_type": "code",
   "execution_count": 32,
   "id": "7bf4a15f",
   "metadata": {},
   "outputs": [
    {
     "name": "stdout",
     "output_type": "stream",
     "text": [
      "31704\n"
     ]
    },
    {
     "data": {
      "text/plain": [
       "['The Merged Approved Documents',\n",
       " 'This document of the Approved Documents includes the 2021 editions of: Approved Document L Volume 1 Conservation of fuel and power Dwellings Approved Document L Volume 2 Conservation of fuel and power Buildings other than dwellings Approved Document F Volume 1 Ventilation Dwellings Approved Document F Volume 2 Ventilation Buildings other than dwellings',\n",
       " 'Approved Document O Overheatings, and Approved Document S Infrastructure for the charging of electric vehicles These Approved Documents took effect on 15 June 2022, for use in England.',\n",
       " 'Approved Document L Volume 1 and Volume 2 provides guidance on how to comply with Part L of Schedule 1 to the Building Regulations and in a number of specific building regulations regarding the energy efficiency requirements for dwellings and buildings other than dwellings.',\n",
       " 'Approved Document F Volume 1 and Volume 2 provides guidance on how to comply with Part F of Schedule 1 to the Building Regulations and in a number of specific building regulations regarding the ventilation requirements for dwellings and buildings other than dwellings.',\n",
       " 'Approved Document O provides guidance on how to comply with Part O of Schedule 1 to the Building Regulations and in a number of specific building regulations.',\n",
       " 'Approved Document O applies to new residential buildings.',\n",
       " 'Approved Document S provides guidance on how to comply with Part S of Schedule 1 of the Building Regulations, which mandates that the following properties should have a charge point: New dwellings with associated parking within the site boundary of the building New dwellings created through a material change of use, which have associated parking within the site boundary of the building.',\n",
       " 'Date Amendment July 2021 edition Incorporating 2020 editions of Approved Document B1 and Approved Document B2 June 2022 edition Incorporating 2021 edition of Approved Document L1, Approved Document L2, Approved',\n",
       " 'How to use the Merged Approved Documents This document combines the approved documents into a single PDF.']"
      ]
     },
     "execution_count": 32,
     "metadata": {},
     "output_type": "execute_result"
    }
   ],
   "source": [
    "print(len(all_sentences))\n",
    "all_sentences[:10]"
   ]
  },
  {
   "cell_type": "code",
   "execution_count": 33,
   "id": "c09c984e",
   "metadata": {},
   "outputs": [
    {
     "name": "stdout",
     "output_type": "stream",
     "text": [
      "Computing IDF weights.\n",
      "Printing some IDF values, should be subword units!\n",
      "['cluster']\n",
      "['##of']\n",
      "['deposits']\n",
      "['ultimate']\n",
      "['horizontal']\n",
      "['proximity']\n",
      "['estates']\n",
      "['exploration']\n",
      "['##most']\n",
      "['rendered']\n"
     ]
    }
   ],
   "source": [
    "IDF_path = embedding_output_fp.joinpath(\"IDF_weights.json\")\n",
    "IDF_c = IDF_computation.IdfComputer(IDF_path, bert_model_name=bert_model_name)\n",
    "IDF_path = IDF_c.compute_or_load_IDF_weights(all_sentences, overwrite=False)"
   ]
  },
  {
   "cell_type": "markdown",
   "id": "34c1e56d",
   "metadata": {},
   "source": [
    "#### Embed each of the terms identified by SPaR.txt\n",
    "* TF-IDF weighting and threshold"
   ]
  },
  {
   "cell_type": "code",
   "execution_count": 34,
   "id": "5b1959bd",
   "metadata": {},
   "outputs": [
    {
     "name": "stdout",
     "output_type": "stream",
     "text": [
      "Number of unique terms: 4636\n"
     ]
    },
    {
     "data": {
      "text/plain": [
       "['document',\n",
       " 'Approved Documents',\n",
       " 'fuel',\n",
       " 'dwellings',\n",
       " 'June 2022',\n",
       " 'England',\n",
       " 'Approved',\n",
       " 'Volume 2',\n",
       " 'guidance',\n",
       " 'Part L']"
      ]
     },
     "execution_count": 34,
     "metadata": {},
     "output_type": "execute_result"
    }
   ],
   "source": [
    "all_terms = [k for k in all_terms_c.keys()] # counter keys, so already unique\n",
    "print(f\"Number of unique terms: {len(all_terms)}\")\n",
    "all_terms[:10]"
   ]
  },
  {
   "cell_type": "code",
   "execution_count": 35,
   "id": "26f20d44",
   "metadata": {},
   "outputs": [
    {
     "name": "stderr",
     "output_type": "stream",
     "text": [
      "Some weights of the model checkpoint at bert-base-cased were not used when initializing BertModel: ['cls.seq_relationship.bias', 'cls.predictions.decoder.weight', 'cls.predictions.transform.dense.bias', 'cls.predictions.transform.LayerNorm.bias', 'cls.predictions.bias', 'cls.seq_relationship.weight', 'cls.predictions.transform.LayerNorm.weight', 'cls.predictions.transform.dense.weight']\n",
      "- This IS expected if you are initializing BertModel from the checkpoint of a model trained on another task or with another architecture (e.g. initializing a BertForSequenceClassification model from a BertForPreTraining model).\n",
      "- This IS NOT expected if you are initializing BertModel from the checkpoint of a model that you expect to be exactly identical (initializing a BertForSequenceClassification model from a BertForSequenceClassification model).\n"
     ]
    }
   ],
   "source": [
    "tokenizer = BertTokenizer.from_pretrained(bert_model_name)\n",
    "bert_model = BertModel.from_pretrained(bert_model_name, output_hidden_states=True)"
   ]
  },
  {
   "cell_type": "code",
   "execution_count": 36,
   "id": "a669a4a8",
   "metadata": {},
   "outputs": [],
   "source": [
    "embedder = embedding.Embedder(tokenizer, bert_model, \n",
    "                              IDF_dict=json.load(open(IDF_path)), \n",
    "                              embedding_fp=embedding_output_fp,\n",
    "                              layers_to_use = [12],         # we'll use the output of the last layer\n",
    "                              layer_combination = \"avg\",    # how to combine layers if multiple are used\n",
    "                              idf_threshold = 1.5,          # minimum IDF value for a token to contribute\n",
    "                              idf_weight_factor = 1.0,      # modify how strong the influence of IDF weighting is\n",
    "                              not_found_idf_value = 0.5)    # IDF value for tokens that weren't seen during IDF computation (doesn't apply here)"
   ]
  },
  {
   "cell_type": "code",
   "execution_count": 37,
   "id": "ce59ea93",
   "metadata": {},
   "outputs": [
    {
     "name": "stdout",
     "output_type": "stream",
     "text": [
      "Preparing embeddings for 4636 spans, in groups of: 1000\n"
     ]
    },
    {
     "name": "stderr",
     "output_type": "stream",
     "text": [
      "100%|█████████████████████████████████████████████████████████████████████████████████████████████████████████████████████████████████████████████████████████████████████████| 5/5 [01:15<00:00, 15.14s/it]\n"
     ]
    }
   ],
   "source": [
    "# Compute the embeddings, this is split into subsets so we don't overload your memory (adjust these values if needed)\n",
    "max_num_cpu_threads = 4\n",
    "subset_size = 1000\n",
    "\n",
    "# Checks which of the embeddings for the clustering cluster_data already exist, so they can be re-used\n",
    "term_subsets = cleaning_utils.split_list(all_terms, subset_size)\n",
    "embedding_files = [f for f in embedder.embedding_fp.glob('embeddings*.pkl')]\n",
    "span_and_embedding_pairs = []\n",
    "if len(embedding_files) == len(term_subsets):\n",
    "    for e in embedding_files:\n",
    "        span_and_embedding_pairs += pickle.load(open(e, 'rb'))\n",
    "else:\n",
    "    print(f\"Preparing embeddings for {len(all_terms)} spans, in groups of: {subset_size}\")\n",
    "    subset_idx = 0            # iterator index outside of tqdm \n",
    "    for subset in tqdm(term_subsets):\n",
    "        subset_embeddings = []\n",
    "        subset_file_name = embedder.embedding_fp.joinpath(\"embeddings_part_{}.pkl\".format(subset_idx))\n",
    "        subset_idx += 1\n",
    "        if subset_file_name.exists():\n",
    "            # already computed previously\n",
    "            continue\n",
    "        \n",
    "        with concurrent.futures.ThreadPoolExecutor(max_workers=max_num_cpu_threads) as executor:\n",
    "            futures = [executor.submit(embedder.embed_a_span, subset[idx]) for idx in range(len(subset))]\n",
    "\n",
    "        subset_embeddings += [f.result() for f in futures if f.result()]\n",
    "\n",
    "        with open(subset_file_name, 'wb') as f:\n",
    "            pickle.dump(subset_embeddings, f)\n",
    "\n",
    "    # Once all embeddings are created; combine them in span_and_embedding_pairs\n",
    "    embedding_files = [f for f in embedder.embedding_fp.glob('embeddings*.pkl')]\n",
    "    for e in embedding_files:\n",
    "        span_and_embedding_pairs += pickle.load(open(e, 'rb'))"
   ]
  },
  {
   "cell_type": "code",
   "execution_count": 38,
   "id": "b4e8b64b",
   "metadata": {},
   "outputs": [
    {
     "name": "stdout",
     "output_type": "stream",
     "text": [
      "Normalising and combining computed/existing 5 embeddings from files into single file\n"
     ]
    }
   ],
   "source": [
    "# Create a single file with all embeddings, in the meantime standardising the embeddings to improve the representation\n",
    "unique_spans, unique_embeddings = zip(*span_and_embedding_pairs)\n",
    "standardised_clustering_data_fp = embedder.embedding_fp.joinpath(\"standardised_embeddings.pkl\")\n",
    "\n",
    "if not standardised_clustering_data_fp.exists():\n",
    "    print(f\"Normalising and combining computed/existing {len(embedding_files)} embeddings from files into single file\")\n",
    "    with open(embedder.embedding_fp.joinpath(\"unique_spans.pkl\"), 'wb') as f:\n",
    "        pickle.dump(unique_spans, f)\n",
    "\n",
    "    with open(embedder.embedding_fp.joinpath(\"unique_embeddings.pkl\"), 'wb') as f:\n",
    "        # we average over the token embeddings in a term\n",
    "        unique_clustering_data = np.stack([np.mean(e, axis=0) if len(e.shape) > 1 else e for e in unique_embeddings])\n",
    "\n",
    "        # standardise the unique clustering data, as suggested by https://github.com/wtimkey/rogue-dimensions\n",
    "        embedder.emb_mean = unique_clustering_data.mean(axis=0)\n",
    "        embedder.emb_std = unique_clustering_data.std(axis=0)\n",
    "        pickle.dump(embedder.emb_mean, open(embedder.embedding_fp.joinpath(\"standardisation_mean.pkl\"), 'wb'))\n",
    "        pickle.dump(embedder.emb_std, open(embedder.embedding_fp.joinpath(\"standardisation_std.pkl\"), 'wb'))\n",
    "\n",
    "        standardised_clustering_data = (unique_clustering_data - embedder.emb_mean) / embedder.emb_std\n",
    "\n",
    "        pickle.dump(standardised_clustering_data, f)\n",
    "\n",
    "    # Store the standardised embeddings for reuse; could honeslty remove all the other embedding files but will keep them just in case\n",
    "    pickle.dump(standardised_clustering_data, open(standardised_clustering_data_fp, 'wb'))\n",
    "    spans_and_standardised_embeddings_dict = dict(zip(unique_spans, standardised_clustering_data))\n",
    "else:\n",
    "    standardised_clustering_data = pickle.load(open(standardised_clustering_data_fp, 'rb'))\n",
    "    spans_and_standardised_embeddings_dict = dict(zip(unique_spans, standardised_clustering_data))\n",
    "    print(f\"Loaded previously computed normalised embedding files.\")"
   ]
  },
  {
   "cell_type": "markdown",
   "id": "8409ece9",
   "metadata": {},
   "source": [
    "<div class=\"alert alert-block alert-info\">\n",
    "Fourth, we determine which terms may be domain-specific. We compare on (1) the number of nearest neighbours of a term that occur in the background corpus, (2) the frequency of terms in each corpus including a simplified version of KL divergence, and (3) a foreground/background TF-IDF for each span.\n",
    "</div>"
   ]
  },
  {
   "cell_type": "code",
   "execution_count": 39,
   "id": "3bfbbe80",
   "metadata": {},
   "outputs": [],
   "source": [
    "# 1 check the kNNs based on the standardised embeddings\n",
    "n_neighbors = 500 # the number of neighbours we compute for each term\n",
    "knn_graph = kneighbors_graph(standardised_clustering_data, \n",
    "                             n_neighbors,    \n",
    "                             metric=\"cosine\", \n",
    "                             n_jobs=8)"
   ]
  },
  {
   "cell_type": "code",
   "execution_count": 40,
   "id": "9701c2c5",
   "metadata": {},
   "outputs": [],
   "source": [
    "span_df_dict = {}\n",
    "for span_idx, span in enumerate(unique_spans):\n",
    "    number_of_background_corpus_neighbours = 0\n",
    "    for neighbour_idx in knn_graph[span_idx].indices:\n",
    "        if unique_spans[neighbour_idx] in cleaned_background_terms_c.keys():\n",
    "            number_of_background_corpus_neighbours += 1\n",
    "    \n",
    "    span_df_dict[span] = {'span_idx': span_idx, \n",
    "                          'num_background_neighbours': number_of_background_corpus_neighbours,\n",
    "                          'num_foreground_neighbours': n_neighbors - number_of_background_corpus_neighbours}"
   ]
  },
  {
   "cell_type": "code",
   "execution_count": 41,
   "id": "c58ead97",
   "metadata": {},
   "outputs": [],
   "source": [
    "# 2 Grab a KL divergence type of notion for each span --> only modified TFIDF \n",
    "total_foreground = sum(cleaned_foreground_terms_c.values())\n",
    "total_background = sum(cleaned_background_terms_c.values())\n",
    "    \n",
    "\n",
    "for span in unique_spans:\n",
    "    foreground_cnt = cleaned_foreground_terms_c[span]\n",
    "    background_cnt = cleaned_background_terms_c[span]\n",
    "    \n",
    "    span_df_dict[span]['foreground_cnt'] = foreground_cnt\n",
    "    span_df_dict[span]['background_cnt'] = background_cnt\n",
    "    if (foreground_cnt == 0 and background_cnt == 0):\n",
    "        print(span)\n",
    "#     TF_fore_back = foreground_cnt/(foreground_cnt+background_cnt) Adding +1 above to avoid NAN and INF results\n",
    "    TF_fore_back = np.log(1+(foreground_cnt/(foreground_cnt+background_cnt)))\n",
    "    \n",
    "    tokens, indices = embedder.prepare_tokens(span)\n",
    "    idf_weights = embedder.get_IDF_weights_for_indices(tokens, indices)\n",
    "    TFIDF_fore_back = TF_fore_back * np.log(np.mean(idf_weights))\n",
    "    \n",
    "    span_df_dict[span]['TFIDF_fore_back'] = TFIDF_fore_back\n",
    "    \n",
    "    # DEPRECATED; simplified version of KL divergence based on Meyers et al. 2018. \n",
    "    # The KLD feature has extreme outliers that occur VERY often in the foreground corpus, and a few times in the background corpus\n",
    "    # an  example is \"guidance\" (400+/17), which clearly is a general domain term. So the KLD doesn't necessarily provide the information we want\n",
    "#     KLD = (np.log(foreground_cnt + 1) - np.log(background_cnt + 1))* (foreground_cnt + 1)\n",
    "#     span_df_dict[span]['KLD'] = KLD\n",
    "    \n",
    "    "
   ]
  },
  {
   "cell_type": "code",
   "execution_count": 42,
   "id": "f39837e0",
   "metadata": {},
   "outputs": [
    {
     "data": {
      "text/plain": [
       "{'span_idx': 2290,\n",
       " 'num_background_neighbours': 243,\n",
       " 'num_foreground_neighbours': 257,\n",
       " 'foreground_cnt': 19,\n",
       " 'background_cnt': 0,\n",
       " 'TFIDF_fore_back': 0.8064534127161667}"
      ]
     },
     "execution_count": 42,
     "metadata": {},
     "output_type": "execute_result"
    }
   ],
   "source": [
    "# example of a clear AEC domain term\n",
    "span_df_dict['mortar']"
   ]
  },
  {
   "cell_type": "code",
   "execution_count": 43,
   "id": "fcfbc94c",
   "metadata": {},
   "outputs": [
    {
     "data": {
      "text/plain": [
       "{'span_idx': 1166,\n",
       " 'num_background_neighbours': 301,\n",
       " 'num_foreground_neighbours': 199,\n",
       " 'foreground_cnt': 0,\n",
       " 'background_cnt': 132,\n",
       " 'TFIDF_fore_back': 0.0}"
      ]
     },
     "execution_count": 43,
     "metadata": {},
     "output_type": "execute_result"
    }
   ],
   "source": [
    "# example of a clear medical domain term\n",
    "span_df_dict['patients']"
   ]
  },
  {
   "cell_type": "code",
   "execution_count": 44,
   "id": "d701ca89",
   "metadata": {},
   "outputs": [
    {
     "data": {
      "text/plain": [
       "{'span_idx': 3273,\n",
       " 'num_background_neighbours': 314,\n",
       " 'num_foreground_neighbours': 186,\n",
       " 'foreground_cnt': 55,\n",
       " 'background_cnt': 9,\n",
       " 'TFIDF_fore_back': 0.5606980526467908}"
      ]
     },
     "execution_count": 44,
     "metadata": {},
     "output_type": "execute_result"
    }
   ],
   "source": [
    "# example of a clear general domain term\n",
    "span_df_dict['test']"
   ]
  },
  {
   "cell_type": "code",
   "execution_count": 45,
   "id": "67ab9922",
   "metadata": {},
   "outputs": [
    {
     "data": {
      "text/plain": [
       "{'span_idx': 515,\n",
       " 'num_background_neighbours': 135,\n",
       " 'num_foreground_neighbours': 365,\n",
       " 'foreground_cnt': 8,\n",
       " 'background_cnt': 0,\n",
       " 'TFIDF_fore_back': 0.8983407716830061}"
      ]
     },
     "execution_count": 45,
     "metadata": {},
     "output_type": "execute_result"
    }
   ],
   "source": [
    "# example of a long AEC domain term\n",
    "span_df_dict['hot water storage system']"
   ]
  },
  {
   "cell_type": "code",
   "execution_count": 46,
   "id": "1beb5f45",
   "metadata": {},
   "outputs": [
    {
     "data": {
      "text/html": [
       "<div>\n",
       "<style scoped>\n",
       "    .dataframe tbody tr th:only-of-type {\n",
       "        vertical-align: middle;\n",
       "    }\n",
       "\n",
       "    .dataframe tbody tr th {\n",
       "        vertical-align: top;\n",
       "    }\n",
       "\n",
       "    .dataframe thead th {\n",
       "        text-align: right;\n",
       "    }\n",
       "</style>\n",
       "<table border=\"1\" class=\"dataframe\">\n",
       "  <thead>\n",
       "    <tr style=\"text-align: right;\">\n",
       "      <th></th>\n",
       "      <th>span_idx</th>\n",
       "      <th>num_background_neighbours</th>\n",
       "      <th>num_foreground_neighbours</th>\n",
       "      <th>foreground_cnt</th>\n",
       "      <th>background_cnt</th>\n",
       "      <th>TFIDF_fore_back</th>\n",
       "    </tr>\n",
       "  </thead>\n",
       "  <tbody>\n",
       "    <tr>\n",
       "      <th>plastic</th>\n",
       "      <td>0</td>\n",
       "      <td>241</td>\n",
       "      <td>259</td>\n",
       "      <td>5</td>\n",
       "      <td>0</td>\n",
       "      <td>0.804792</td>\n",
       "    </tr>\n",
       "    <tr>\n",
       "      <th>hot weather</th>\n",
       "      <td>1</td>\n",
       "      <td>131</td>\n",
       "      <td>369</td>\n",
       "      <td>5</td>\n",
       "      <td>0</td>\n",
       "      <td>0.931691</td>\n",
       "    </tr>\n",
       "    <tr>\n",
       "      <th>Document 7</th>\n",
       "      <td>2</td>\n",
       "      <td>190</td>\n",
       "      <td>310</td>\n",
       "      <td>5</td>\n",
       "      <td>0</td>\n",
       "      <td>0.864749</td>\n",
       "    </tr>\n",
       "    <tr>\n",
       "      <th>relevant recommendations</th>\n",
       "      <td>3</td>\n",
       "      <td>292</td>\n",
       "      <td>208</td>\n",
       "      <td>5</td>\n",
       "      <td>0</td>\n",
       "      <td>0.842235</td>\n",
       "    </tr>\n",
       "    <tr>\n",
       "      <th>sheet roof</th>\n",
       "      <td>4</td>\n",
       "      <td>37</td>\n",
       "      <td>463</td>\n",
       "      <td>16</td>\n",
       "      <td>0</td>\n",
       "      <td>0.848430</td>\n",
       "    </tr>\n",
       "    <tr>\n",
       "      <th>...</th>\n",
       "      <td>...</td>\n",
       "      <td>...</td>\n",
       "      <td>...</td>\n",
       "      <td>...</td>\n",
       "      <td>...</td>\n",
       "      <td>...</td>\n",
       "    </tr>\n",
       "    <tr>\n",
       "      <th>quality - system documentation</th>\n",
       "      <td>4631</td>\n",
       "      <td>249</td>\n",
       "      <td>251</td>\n",
       "      <td>0</td>\n",
       "      <td>12</td>\n",
       "      <td>0.000000</td>\n",
       "    </tr>\n",
       "    <tr>\n",
       "      <th>post - marketing surveillance system</th>\n",
       "      <td>4632</td>\n",
       "      <td>266</td>\n",
       "      <td>234</td>\n",
       "      <td>0</td>\n",
       "      <td>6</td>\n",
       "      <td>0.000000</td>\n",
       "    </tr>\n",
       "    <tr>\n",
       "      <th>inaccuracies</th>\n",
       "      <td>4633</td>\n",
       "      <td>185</td>\n",
       "      <td>315</td>\n",
       "      <td>0</td>\n",
       "      <td>6</td>\n",
       "      <td>0.000000</td>\n",
       "    </tr>\n",
       "    <tr>\n",
       "      <th>reasoned evaluation</th>\n",
       "      <td>4634</td>\n",
       "      <td>303</td>\n",
       "      <td>197</td>\n",
       "      <td>0</td>\n",
       "      <td>8</td>\n",
       "      <td>0.000000</td>\n",
       "    </tr>\n",
       "    <tr>\n",
       "      <th>EC design examination certificate</th>\n",
       "      <td>4635</td>\n",
       "      <td>243</td>\n",
       "      <td>257</td>\n",
       "      <td>0</td>\n",
       "      <td>8</td>\n",
       "      <td>0.000000</td>\n",
       "    </tr>\n",
       "  </tbody>\n",
       "</table>\n",
       "<p>4636 rows × 6 columns</p>\n",
       "</div>"
      ],
      "text/plain": [
       "                                      span_idx  num_background_neighbours  \\\n",
       "plastic                                      0                        241   \n",
       "hot weather                                  1                        131   \n",
       "Document 7                                   2                        190   \n",
       "relevant recommendations                     3                        292   \n",
       "sheet roof                                   4                         37   \n",
       "...                                        ...                        ...   \n",
       "quality - system documentation            4631                        249   \n",
       "post - marketing surveillance system      4632                        266   \n",
       "inaccuracies                              4633                        185   \n",
       "reasoned evaluation                       4634                        303   \n",
       "EC design examination certificate         4635                        243   \n",
       "\n",
       "                                      num_foreground_neighbours  \\\n",
       "plastic                                                     259   \n",
       "hot weather                                                 369   \n",
       "Document 7                                                  310   \n",
       "relevant recommendations                                    208   \n",
       "sheet roof                                                  463   \n",
       "...                                                         ...   \n",
       "quality - system documentation                              251   \n",
       "post - marketing surveillance system                        234   \n",
       "inaccuracies                                                315   \n",
       "reasoned evaluation                                         197   \n",
       "EC design examination certificate                           257   \n",
       "\n",
       "                                      foreground_cnt  background_cnt  \\\n",
       "plastic                                            5               0   \n",
       "hot weather                                        5               0   \n",
       "Document 7                                         5               0   \n",
       "relevant recommendations                           5               0   \n",
       "sheet roof                                        16               0   \n",
       "...                                              ...             ...   \n",
       "quality - system documentation                     0              12   \n",
       "post - marketing surveillance system               0               6   \n",
       "inaccuracies                                       0               6   \n",
       "reasoned evaluation                                0               8   \n",
       "EC design examination certificate                  0               8   \n",
       "\n",
       "                                      TFIDF_fore_back  \n",
       "plastic                                      0.804792  \n",
       "hot weather                                  0.931691  \n",
       "Document 7                                   0.864749  \n",
       "relevant recommendations                     0.842235  \n",
       "sheet roof                                   0.848430  \n",
       "...                                               ...  \n",
       "quality - system documentation               0.000000  \n",
       "post - marketing surveillance system         0.000000  \n",
       "inaccuracies                                 0.000000  \n",
       "reasoned evaluation                          0.000000  \n",
       "EC design examination certificate            0.000000  \n",
       "\n",
       "[4636 rows x 6 columns]"
      ]
     },
     "execution_count": 46,
     "metadata": {},
     "output_type": "execute_result"
    }
   ],
   "source": [
    "span_features_df = pd.DataFrame.from_dict(span_df_dict, orient='index')\n",
    "span_features_df"
   ]
  },
  {
   "cell_type": "code",
   "execution_count": 47,
   "id": "0e3ddada",
   "metadata": {},
   "outputs": [
    {
     "name": "stdout",
     "output_type": "stream",
     "text": [
      "most FORE-groundy terms according to TF_fore_back:\n"
     ]
    },
    {
     "data": {
      "text/plain": [
       "Volatile Organic Compounds                          1.300064\n",
       "United Kingdom Accreditation Service                1.235163\n",
       "Polycarbonate                                       1.210918\n",
       "National Calculation Methodology Modelling Guide    1.208156\n",
       "polyethylene                                        1.205810\n",
       "WITH A RATED INPUT UP TO 70kW                       1.205692\n",
       "Furniture                                           1.200554\n",
       "light source lumens per circuit - watt              1.198903\n",
       "bungalows                                           1.196361\n",
       "typographical arrangement                           1.195620\n",
       "Name: TFIDF_fore_back, dtype: float64"
      ]
     },
     "execution_count": 47,
     "metadata": {},
     "output_type": "execute_result"
    }
   ],
   "source": [
    "print(\"most FORE-groundy terms according to TF_fore_back:\")\n",
    "span_features_df['TFIDF_fore_back'].nlargest(10)"
   ]
  },
  {
   "cell_type": "code",
   "execution_count": 48,
   "id": "47893d92",
   "metadata": {},
   "outputs": [
    {
     "name": "stdout",
     "output_type": "stream",
     "text": [
      "most BACK-groundy terms according to TF_fore_back:\n"
     ]
    },
    {
     "data": {
      "text/plain": [
       "unlimited                   -0.126376\n",
       "medical devices              0.000000\n",
       "Treaty                       0.000000\n",
       "Article 100a                 0.000000\n",
       "cooperation                  0.000000\n",
       "European Parliament          0.000000\n",
       "opinion                      0.000000\n",
       "internal market              0.000000\n",
       "laws                         0.000000\n",
       "administrative provisions    0.000000\n",
       "Name: TFIDF_fore_back, dtype: float64"
      ]
     },
     "execution_count": 48,
     "metadata": {},
     "output_type": "execute_result"
    }
   ],
   "source": [
    "print(\"most BACK-groundy terms according to TF_fore_back:\")\n",
    "span_features_df['TFIDF_fore_back'].nsmallest(10)"
   ]
  },
  {
   "cell_type": "code",
   "execution_count": 49,
   "id": "d54164a1",
   "metadata": {},
   "outputs": [],
   "source": [
    "from matplotlib.patches import Rectangle"
   ]
  },
  {
   "cell_type": "code",
   "execution_count": 50,
   "id": "a06f579f",
   "metadata": {},
   "outputs": [
    {
     "data": {
      "text/plain": [
       "Text(0, 0.5, 'Foreground/Background TFIDF')"
      ]
     },
     "execution_count": 50,
     "metadata": {},
     "output_type": "execute_result"
    },
    {
     "data": {
      "image/png": "[encoded data removed]",
      "text/plain": [
       "<Figure size 640x480 with 1 Axes>"
      ]
     },
     "metadata": {},
     "output_type": "display_data"
    }
   ],
   "source": [
    "sns.set_style (\"darkgrid\")\n",
    "axes = sns.scatterplot(x=\"num_foreground_neighbours\",\n",
    "                       y=\"TFIDF_fore_back\",\n",
    "                       data=span_features_df)\n",
    "\n",
    "axes.set_xlabel(\"Nr. of neighbours that occur only in the foreground corpus\")\n",
    "axes.set_ylabel(\"Foreground/Background TFIDF\")"
   ]
  },
  {
   "cell_type": "markdown",
   "id": "a0b38416",
   "metadata": {},
   "source": [
    "This plot shows:\n",
    "1. the number of foreground neighbours (the rest of the neighbours occur in the background corpus as well)\n",
    "2. the TF-IDF inspired value for a span, a value of 0 indicating that the term only appears in the background corpus\n",
    "\n",
    "Our assumption is that at certain combinations of these two values, a term is more likely to be 'domain-specific'. This allows for a crude division into domain vs out-of-domain/general domain terms. For now, we'll assume that general background domain terms have:\n",
    "* a low TF-IDF value, e.g., smaller than 0.6\n",
    "* at least half of the NNs being foreground terms, e.g., cut-off at 250/500"
   ]
  },
  {
   "cell_type": "code",
   "execution_count": 51,
   "id": "a34e77c9",
   "metadata": {},
   "outputs": [],
   "source": [
    "min_TFIDF_value = 0.6\n",
    "min_num_foreground_neighbours = 250"
   ]
  },
  {
   "cell_type": "code",
   "execution_count": 52,
   "id": "4bb923fc",
   "metadata": {},
   "outputs": [
    {
     "data": {
      "text/html": [
       "<div>\n",
       "<style scoped>\n",
       "    .dataframe tbody tr th:only-of-type {\n",
       "        vertical-align: middle;\n",
       "    }\n",
       "\n",
       "    .dataframe tbody tr th {\n",
       "        vertical-align: top;\n",
       "    }\n",
       "\n",
       "    .dataframe thead th {\n",
       "        text-align: right;\n",
       "    }\n",
       "</style>\n",
       "<table border=\"1\" class=\"dataframe\">\n",
       "  <thead>\n",
       "    <tr style=\"text-align: right;\">\n",
       "      <th></th>\n",
       "      <th>span_idx</th>\n",
       "      <th>num_background_neighbours</th>\n",
       "      <th>num_foreground_neighbours</th>\n",
       "      <th>foreground_cnt</th>\n",
       "      <th>background_cnt</th>\n",
       "      <th>TFIDF_fore_back</th>\n",
       "    </tr>\n",
       "  </thead>\n",
       "  <tbody>\n",
       "    <tr>\n",
       "      <th>specialist advice</th>\n",
       "      <td>111</td>\n",
       "      <td>324</td>\n",
       "      <td>176</td>\n",
       "      <td>19</td>\n",
       "      <td>0</td>\n",
       "      <td>0.938020</td>\n",
       "    </tr>\n",
       "    <tr>\n",
       "      <th>correct procedures</th>\n",
       "      <td>232</td>\n",
       "      <td>302</td>\n",
       "      <td>198</td>\n",
       "      <td>6</td>\n",
       "      <td>0</td>\n",
       "      <td>0.812516</td>\n",
       "    </tr>\n",
       "    <tr>\n",
       "      <th>legal term</th>\n",
       "      <td>238</td>\n",
       "      <td>307</td>\n",
       "      <td>193</td>\n",
       "      <td>6</td>\n",
       "      <td>0</td>\n",
       "      <td>0.926079</td>\n",
       "    </tr>\n",
       "    <tr>\n",
       "      <th>regulatory requirements</th>\n",
       "      <td>323</td>\n",
       "      <td>318</td>\n",
       "      <td>182</td>\n",
       "      <td>6</td>\n",
       "      <td>0</td>\n",
       "      <td>0.804087</td>\n",
       "    </tr>\n",
       "    <tr>\n",
       "      <th>reasonable standard</th>\n",
       "      <td>926</td>\n",
       "      <td>310</td>\n",
       "      <td>190</td>\n",
       "      <td>10</td>\n",
       "      <td>0</td>\n",
       "      <td>0.847609</td>\n",
       "    </tr>\n",
       "    <tr>\n",
       "      <th>limiting standards</th>\n",
       "      <td>932</td>\n",
       "      <td>322</td>\n",
       "      <td>178</td>\n",
       "      <td>12</td>\n",
       "      <td>0</td>\n",
       "      <td>0.885288</td>\n",
       "    </tr>\n",
       "    <tr>\n",
       "      <th>test methods</th>\n",
       "      <td>2408</td>\n",
       "      <td>337</td>\n",
       "      <td>163</td>\n",
       "      <td>18</td>\n",
       "      <td>0</td>\n",
       "      <td>0.826993</td>\n",
       "    </tr>\n",
       "    <tr>\n",
       "      <th>responsible person</th>\n",
       "      <td>2527</td>\n",
       "      <td>325</td>\n",
       "      <td>175</td>\n",
       "      <td>6</td>\n",
       "      <td>0</td>\n",
       "      <td>0.803902</td>\n",
       "    </tr>\n",
       "    <tr>\n",
       "      <th>test evidence</th>\n",
       "      <td>2590</td>\n",
       "      <td>343</td>\n",
       "      <td>157</td>\n",
       "      <td>15</td>\n",
       "      <td>0</td>\n",
       "      <td>0.848365</td>\n",
       "    </tr>\n",
       "    <tr>\n",
       "      <th>material consideration</th>\n",
       "      <td>2860</td>\n",
       "      <td>339</td>\n",
       "      <td>161</td>\n",
       "      <td>6</td>\n",
       "      <td>0</td>\n",
       "      <td>0.862601</td>\n",
       "    </tr>\n",
       "    <tr>\n",
       "      <th>expert advice</th>\n",
       "      <td>2953</td>\n",
       "      <td>330</td>\n",
       "      <td>170</td>\n",
       "      <td>16</td>\n",
       "      <td>0</td>\n",
       "      <td>0.927820</td>\n",
       "    </tr>\n",
       "    <tr>\n",
       "      <th>practical guidance</th>\n",
       "      <td>3324</td>\n",
       "      <td>326</td>\n",
       "      <td>174</td>\n",
       "      <td>12</td>\n",
       "      <td>0</td>\n",
       "      <td>0.831952</td>\n",
       "    </tr>\n",
       "  </tbody>\n",
       "</table>\n",
       "</div>"
      ],
      "text/plain": [
       "                         span_idx  num_background_neighbours  \\\n",
       "specialist advice             111                        324   \n",
       "correct procedures            232                        302   \n",
       "legal term                    238                        307   \n",
       "regulatory requirements       323                        318   \n",
       "reasonable standard           926                        310   \n",
       "limiting standards            932                        322   \n",
       "test methods                 2408                        337   \n",
       "responsible person           2527                        325   \n",
       "test evidence                2590                        343   \n",
       "material consideration       2860                        339   \n",
       "expert advice                2953                        330   \n",
       "practical guidance           3324                        326   \n",
       "\n",
       "                         num_foreground_neighbours  foreground_cnt  \\\n",
       "specialist advice                              176              19   \n",
       "correct procedures                             198               6   \n",
       "legal term                                     193               6   \n",
       "regulatory requirements                        182               6   \n",
       "reasonable standard                            190              10   \n",
       "limiting standards                             178              12   \n",
       "test methods                                   163              18   \n",
       "responsible person                             175               6   \n",
       "test evidence                                  157              15   \n",
       "material consideration                         161               6   \n",
       "expert advice                                  170              16   \n",
       "practical guidance                             174              12   \n",
       "\n",
       "                         background_cnt  TFIDF_fore_back  \n",
       "specialist advice                     0         0.938020  \n",
       "correct procedures                    0         0.812516  \n",
       "legal term                            0         0.926079  \n",
       "regulatory requirements               0         0.804087  \n",
       "reasonable standard                   0         0.847609  \n",
       "limiting standards                    0         0.885288  \n",
       "test methods                          0         0.826993  \n",
       "responsible person                    0         0.803902  \n",
       "test evidence                         0         0.848365  \n",
       "material consideration                0         0.862601  \n",
       "expert advice                         0         0.927820  \n",
       "practical guidance                    0         0.831952  "
      ]
     },
     "execution_count": 52,
     "metadata": {},
     "output_type": "execute_result"
    }
   ],
   "source": [
    "# Example terms VERY TOP LEFT of the plot (expectinggeneral domain)\n",
    "top = span_features_df['TFIDF_fore_back'] > 1.3 * min_TFIDF_value\n",
    "left = span_features_df['num_foreground_neighbours'] < min_num_foreground_neighbours - 50\n",
    "span_features_df.loc[top & left]"
   ]
  },
  {
   "cell_type": "code",
   "execution_count": 53,
   "id": "b2f5262b",
   "metadata": {},
   "outputs": [
    {
     "data": {
      "text/html": [
       "<div>\n",
       "<style scoped>\n",
       "    .dataframe tbody tr th:only-of-type {\n",
       "        vertical-align: middle;\n",
       "    }\n",
       "\n",
       "    .dataframe tbody tr th {\n",
       "        vertical-align: top;\n",
       "    }\n",
       "\n",
       "    .dataframe thead th {\n",
       "        text-align: right;\n",
       "    }\n",
       "</style>\n",
       "<table border=\"1\" class=\"dataframe\">\n",
       "  <thead>\n",
       "    <tr style=\"text-align: right;\">\n",
       "      <th></th>\n",
       "      <th>span_idx</th>\n",
       "      <th>num_background_neighbours</th>\n",
       "      <th>num_foreground_neighbours</th>\n",
       "      <th>foreground_cnt</th>\n",
       "      <th>background_cnt</th>\n",
       "      <th>TFIDF_fore_back</th>\n",
       "    </tr>\n",
       "  </thead>\n",
       "  <tbody>\n",
       "    <tr>\n",
       "      <th>natural stone cladding</th>\n",
       "      <td>3704</td>\n",
       "      <td>36</td>\n",
       "      <td>464</td>\n",
       "      <td>5</td>\n",
       "      <td>0</td>\n",
       "      <td>1.104269</td>\n",
       "    </tr>\n",
       "  </tbody>\n",
       "</table>\n",
       "</div>"
      ],
      "text/plain": [
       "                        span_idx  num_background_neighbours  \\\n",
       "natural stone cladding      3704                         36   \n",
       "\n",
       "                        num_foreground_neighbours  foreground_cnt  \\\n",
       "natural stone cladding                        464               5   \n",
       "\n",
       "                        background_cnt  TFIDF_fore_back  \n",
       "natural stone cladding               0         1.104269  "
      ]
     },
     "execution_count": 53,
     "metadata": {},
     "output_type": "execute_result"
    }
   ],
   "source": [
    "# Example terms very TOP RIGHT of the plot (expecting very foreground domainy)\n",
    "top = span_features_df['TFIDF_fore_back'] > 1.65 * min_TFIDF_value\n",
    "right = span_features_df['num_foreground_neighbours'] > 210 + min_num_foreground_neighbours\n",
    "span_features_df.loc[top & right]"
   ]
  },
  {
   "cell_type": "code",
   "execution_count": 54,
   "id": "817b3fd4",
   "metadata": {},
   "outputs": [
    {
     "data": {
      "text/html": [
       "<div>\n",
       "<style scoped>\n",
       "    .dataframe tbody tr th:only-of-type {\n",
       "        vertical-align: middle;\n",
       "    }\n",
       "\n",
       "    .dataframe tbody tr th {\n",
       "        vertical-align: top;\n",
       "    }\n",
       "\n",
       "    .dataframe thead th {\n",
       "        text-align: right;\n",
       "    }\n",
       "</style>\n",
       "<table border=\"1\" class=\"dataframe\">\n",
       "  <thead>\n",
       "    <tr style=\"text-align: right;\">\n",
       "      <th></th>\n",
       "      <th>span_idx</th>\n",
       "      <th>num_background_neighbours</th>\n",
       "      <th>num_foreground_neighbours</th>\n",
       "      <th>foreground_cnt</th>\n",
       "      <th>background_cnt</th>\n",
       "      <th>TFIDF_fore_back</th>\n",
       "    </tr>\n",
       "  </thead>\n",
       "  <tbody>\n",
       "    <tr>\n",
       "      <th>national provisions</th>\n",
       "      <td>1193</td>\n",
       "      <td>324</td>\n",
       "      <td>176</td>\n",
       "      <td>0</td>\n",
       "      <td>22</td>\n",
       "      <td>0.0</td>\n",
       "    </tr>\n",
       "    <tr>\n",
       "      <th>conformity</th>\n",
       "      <td>1211</td>\n",
       "      <td>331</td>\n",
       "      <td>169</td>\n",
       "      <td>0</td>\n",
       "      <td>366</td>\n",
       "      <td>0.0</td>\n",
       "    </tr>\n",
       "    <tr>\n",
       "      <th>general guidelines</th>\n",
       "      <td>1221</td>\n",
       "      <td>324</td>\n",
       "      <td>176</td>\n",
       "      <td>0</td>\n",
       "      <td>12</td>\n",
       "      <td>0.0</td>\n",
       "    </tr>\n",
       "    <tr>\n",
       "      <th>Committee</th>\n",
       "      <td>1230</td>\n",
       "      <td>317</td>\n",
       "      <td>183</td>\n",
       "      <td>0</td>\n",
       "      <td>59</td>\n",
       "      <td>0.0</td>\n",
       "    </tr>\n",
       "    <tr>\n",
       "      <th>clinical investigations</th>\n",
       "      <td>1252</td>\n",
       "      <td>386</td>\n",
       "      <td>114</td>\n",
       "      <td>0</td>\n",
       "      <td>139</td>\n",
       "      <td>0.0</td>\n",
       "    </tr>\n",
       "    <tr>\n",
       "      <th>...</th>\n",
       "      <td>...</td>\n",
       "      <td>...</td>\n",
       "      <td>...</td>\n",
       "      <td>...</td>\n",
       "      <td>...</td>\n",
       "      <td>...</td>\n",
       "    </tr>\n",
       "    <tr>\n",
       "      <th>decision making</th>\n",
       "      <td>4505</td>\n",
       "      <td>317</td>\n",
       "      <td>183</td>\n",
       "      <td>0</td>\n",
       "      <td>6</td>\n",
       "      <td>0.0</td>\n",
       "    </tr>\n",
       "    <tr>\n",
       "      <th>surveillance assessment</th>\n",
       "      <td>4515</td>\n",
       "      <td>336</td>\n",
       "      <td>164</td>\n",
       "      <td>0</td>\n",
       "      <td>6</td>\n",
       "      <td>0.0</td>\n",
       "    </tr>\n",
       "    <tr>\n",
       "      <th>clinical evaluation</th>\n",
       "      <td>4535</td>\n",
       "      <td>342</td>\n",
       "      <td>158</td>\n",
       "      <td>0</td>\n",
       "      <td>73</td>\n",
       "      <td>0.0</td>\n",
       "    </tr>\n",
       "    <tr>\n",
       "      <th>clinical evaluations</th>\n",
       "      <td>4538</td>\n",
       "      <td>327</td>\n",
       "      <td>173</td>\n",
       "      <td>0</td>\n",
       "      <td>6</td>\n",
       "      <td>0.0</td>\n",
       "    </tr>\n",
       "    <tr>\n",
       "      <th>national regulations</th>\n",
       "      <td>4599</td>\n",
       "      <td>318</td>\n",
       "      <td>182</td>\n",
       "      <td>0</td>\n",
       "      <td>6</td>\n",
       "      <td>0.0</td>\n",
       "    </tr>\n",
       "  </tbody>\n",
       "</table>\n",
       "<p>81 rows × 6 columns</p>\n",
       "</div>"
      ],
      "text/plain": [
       "                         span_idx  num_background_neighbours  \\\n",
       "national provisions          1193                        324   \n",
       "conformity                   1211                        331   \n",
       "general guidelines           1221                        324   \n",
       "Committee                    1230                        317   \n",
       "clinical investigations      1252                        386   \n",
       "...                           ...                        ...   \n",
       "decision making              4505                        317   \n",
       "surveillance assessment      4515                        336   \n",
       "clinical evaluation          4535                        342   \n",
       "clinical evaluations         4538                        327   \n",
       "national regulations         4599                        318   \n",
       "\n",
       "                         num_foreground_neighbours  foreground_cnt  \\\n",
       "national provisions                            176               0   \n",
       "conformity                                     169               0   \n",
       "general guidelines                             176               0   \n",
       "Committee                                      183               0   \n",
       "clinical investigations                        114               0   \n",
       "...                                            ...             ...   \n",
       "decision making                                183               0   \n",
       "surveillance assessment                        164               0   \n",
       "clinical evaluation                            158               0   \n",
       "clinical evaluations                           173               0   \n",
       "national regulations                           182               0   \n",
       "\n",
       "                         background_cnt  TFIDF_fore_back  \n",
       "national provisions                  22              0.0  \n",
       "conformity                          366              0.0  \n",
       "general guidelines                   12              0.0  \n",
       "Committee                            59              0.0  \n",
       "clinical investigations             139              0.0  \n",
       "...                                 ...              ...  \n",
       "decision making                       6              0.0  \n",
       "surveillance assessment               6              0.0  \n",
       "clinical evaluation                  73              0.0  \n",
       "clinical evaluations                  6              0.0  \n",
       "national regulations                  6              0.0  \n",
       "\n",
       "[81 rows x 6 columns]"
      ]
     },
     "execution_count": 54,
     "metadata": {},
     "output_type": "execute_result"
    }
   ],
   "source": [
    "# Example terms very BOTTOM LEFT of the plot (expecting very background domainy)\n",
    "bottom = span_features_df['TFIDF_fore_back'] < .1 * min_TFIDF_value\n",
    "left = span_features_df['num_foreground_neighbours'] < min_num_foreground_neighbours - 65\n",
    "span_features_df.loc[bottom & left]"
   ]
  },
  {
   "cell_type": "code",
   "execution_count": 55,
   "id": "196d8f8f",
   "metadata": {},
   "outputs": [
    {
     "data": {
      "text/html": [
       "<div>\n",
       "<style scoped>\n",
       "    .dataframe tbody tr th:only-of-type {\n",
       "        vertical-align: middle;\n",
       "    }\n",
       "\n",
       "    .dataframe tbody tr th {\n",
       "        vertical-align: top;\n",
       "    }\n",
       "\n",
       "    .dataframe thead th {\n",
       "        text-align: right;\n",
       "    }\n",
       "</style>\n",
       "<table border=\"1\" class=\"dataframe\">\n",
       "  <thead>\n",
       "    <tr style=\"text-align: right;\">\n",
       "      <th></th>\n",
       "      <th>span_idx</th>\n",
       "      <th>num_background_neighbours</th>\n",
       "      <th>num_foreground_neighbours</th>\n",
       "      <th>foreground_cnt</th>\n",
       "      <th>background_cnt</th>\n",
       "      <th>TFIDF_fore_back</th>\n",
       "    </tr>\n",
       "  </thead>\n",
       "  <tbody>\n",
       "  </tbody>\n",
       "</table>\n",
       "</div>"
      ],
      "text/plain": [
       "Empty DataFrame\n",
       "Columns: [span_idx, num_background_neighbours, num_foreground_neighbours, foreground_cnt, background_cnt, TFIDF_fore_back]\n",
       "Index: []"
      ]
     },
     "execution_count": 55,
     "metadata": {},
     "output_type": "execute_result"
    }
   ],
   "source": [
    "# Example terms BOTTOM RIGHT of the plot (expecting general domain)\n",
    "bottom = span_features_df['TFIDF_fore_back'] < .1 * min_TFIDF_value\n",
    "right = span_features_df['num_foreground_neighbours'] > 150 + min_num_foreground_neighbours\n",
    "span_features_df.loc[bottom & right]"
   ]
  },
  {
   "cell_type": "code",
   "execution_count": 56,
   "id": "1acabd72",
   "metadata": {},
   "outputs": [
    {
     "data": {
      "image/png": "[encoded data removed]",
      "text/plain": [
       "<Figure size 640x480 with 1 Axes>"
      ]
     },
     "metadata": {},
     "output_type": "display_data"
    }
   ],
   "source": [
    "# We'll save the plot as a figure with example terms\n",
    "fig = plt.figure()\n",
    "sns.set_style (\"darkgrid\")\n",
    "axes = sns.scatterplot(x=\"num_foreground_neighbours\",\n",
    "                       y=\"TFIDF_fore_back\",\n",
    "                       data=span_features_df)\n",
    "\n",
    "axes.set_xlabel(\"Nr. of neighbours that occur only in the foreground corpus\")\n",
    "axes.set_ylabel(\"Foreground/Background TFIDF\")\n",
    "\n",
    "axes.axhline(y=min_TFIDF_value, color=(1,0,0,.8), linestyle='dotted')\n",
    "axes.axvline(x=min_num_foreground_neighbours, color=(1,0,0,.8), linestyle='dotted')\n",
    "\n",
    "topleft_term = \"general domain:\\t\\t \" + \"test evidence\"\n",
    "topright_term = \"building regulations:\\t \" + \"glazed screens\"\n",
    "bottomleft_term = \"medical domain:\\t\\t \" + \"clinical investigation\"\n",
    "bottomright_term = \"general domain:\\t\\t \" + \"vertical dimension\"\n",
    "\n",
    "plt.text(530, 1.1, \"Expected domains and example terms:\", fontsize = 10)\n",
    "for idx, term in enumerate([topleft_term, topright_term, bottomleft_term, bottomright_term]):\n",
    "    x = span_features_df[\"num_foreground_neighbours\"][term.split(\"\\t \")[1]]\n",
    "    y = span_features_df[\"TFIDF_fore_back\"][term.split(\"\\t \")[1]]\n",
    "    colour = \"green\" if (x > min_num_foreground_neighbours and y > min_TFIDF_value) else \"red\"\n",
    "    plt.text(x, y, f\"${chr(97 + idx).upper()}$\", fontsize = 10, bbox = dict(facecolor=colour, \n",
    "                                                                            boxstyle='circle',\n",
    "                                                                            alpha = 0.5))\n",
    "    plt.text(530, 1 - (.1 * idx), f\"${chr(97 + idx).upper()}$) \" + term, fontsize = 10)\n",
    "\n",
    "    \n",
    "# Create a Rectangle patch\n",
    "rect = Rectangle((min_num_foreground_neighbours, min_TFIDF_value), \n",
    "                 520 - min_num_foreground_neighbours, \n",
    "                 1.4 - min_TFIDF_value, facecolor=(0,0.8,0.2,0.2))\n",
    "# Add the patch to the Axes\n",
    "axes.add_patch(rect)\n",
    "fig.savefig(embedding_output_fp.joinpath(\"plot.jpg\"), dpi=300, bbox_inches = \"tight\") #save as jpg\n",
    "\n",
    "# we'll also save span_features_df for reuse elsewhere\n",
    "span_features_df.to_csv(embedding_output_fp.joinpath(\"span_features.csv\"))"
   ]
  },
  {
   "cell_type": "markdown",
   "id": "74b3ad55",
   "metadata": {},
   "source": [
    "* compute domain terms and exemplify"
   ]
  },
  {
   "cell_type": "code",
   "execution_count": 57,
   "id": "50de716f",
   "metadata": {},
   "outputs": [],
   "source": [
    "domain_terms = span_features_df[(span_features_df['TFIDF_fore_back'] >= min_TFIDF_value) & (span_features_df['num_foreground_neighbours'] >= min_num_foreground_neighbours)]\n",
    "ood_terms = span_features_df[(span_features_df['TFIDF_fore_back'] < min_TFIDF_value) | (span_features_df['num_foreground_neighbours'] < min_num_foreground_neighbours)]\n"
   ]
  },
  {
   "cell_type": "code",
   "execution_count": 58,
   "id": "d2062da2",
   "metadata": {
    "scrolled": true
   },
   "outputs": [],
   "source": [
    "# we will store the domain / out-of-domain decision so we can re-use it as a dataset for a kNN voting classifier\n",
    "domain_term_list = domain_terms.index.tolist()\n",
    "for term in span_df_dict.keys():\n",
    "    span_df_dict[term]['domain'] = 'y' if term in domain_term_list else 'n'\n",
    "\n",
    "with open(embedding_output_fp.joinpath(\"span_domain_ood_dict.json\"), 'w') as f:\n",
    "    json.dump(span_df_dict, f)  "
   ]
  },
  {
   "cell_type": "code",
   "execution_count": 59,
   "id": "98ac9022",
   "metadata": {},
   "outputs": [
    {
     "name": "stdout",
     "output_type": "stream",
     "text": [
      "Examples of our 2165 AEC domain terms\n"
     ]
    },
    {
     "data": {
      "text/plain": [
       "['Consideration',\n",
       " 'hot water safety',\n",
       " 'Part 1',\n",
       " 'public buildings',\n",
       " 'energy savings',\n",
       " 'open air vents',\n",
       " 'elevation',\n",
       " 'plasterboard',\n",
       " 'Maximum area',\n",
       " 'UK National Annex']"
      ]
     },
     "execution_count": 59,
     "metadata": {},
     "output_type": "execute_result"
    }
   ],
   "source": [
    "\n",
    "domain_unique = list(set(domain_terms.index.tolist()))\n",
    "print(f\"Examples of our {len(domain_unique)} AEC domain terms\")\n",
    "random.sample(domain_unique, 10)"
   ]
  },
  {
   "cell_type": "code",
   "execution_count": 60,
   "id": "65828086",
   "metadata": {},
   "outputs": [
    {
     "name": "stdout",
     "output_type": "stream",
     "text": [
      "Examples of our 2471 general domain terms\n"
     ]
    },
    {
     "data": {
      "text/plain": [
       "['consistency',\n",
       " 'registers',\n",
       " 'pitch',\n",
       " 'roots',\n",
       " 'building a',\n",
       " 'barrier',\n",
       " 'Section 8',\n",
       " 'single use',\n",
       " 'delegation',\n",
       " 'private']"
      ]
     },
     "execution_count": 60,
     "metadata": {},
     "output_type": "execute_result"
    }
   ],
   "source": [
    "print(f\"Examples of our {len(ood_terms)} general domain terms\")\n",
    "random.sample(ood_terms.index.tolist(), 10)"
   ]
  },
  {
   "cell_type": "markdown",
   "id": "3e875c60",
   "metadata": {},
   "source": [
    "* save the domain terms in the folder with inputs for our graph"
   ]
  },
  {
   "cell_type": "code",
   "execution_count": 61,
   "id": "35e57bc3",
   "metadata": {},
   "outputs": [],
   "source": [
    "graph_data_fp = Path(\"data/graph_data/\")\n",
    "pickle.dump(domain_unique, open(graph_data_fp.joinpath('domain_terms.pkl'), 'wb'))"
   ]
  },
  {
   "cell_type": "code",
   "execution_count": null,
   "id": "58381bfa",
   "metadata": {},
   "outputs": [],
   "source": []
  },
  {
   "cell_type": "code",
   "execution_count": null,
   "id": "5af0c2a0",
   "metadata": {},
   "outputs": [],
   "source": []
  }
 ],
 "metadata": {
  "kernelspec": {
   "display_name": "Python 3 (ipykernel)",
   "language": "python",
   "name": "python3"
  },
  "language_info": {
   "codemirror_mode": {
    "name": "ipython",
    "version": 3
   },
   "file_extension": ".py",
   "mimetype": "text/x-python",
   "name": "python",
   "nbconvert_exporter": "python",
   "pygments_lexer": "ipython3",
   "version": "3.9.16"
  }
 },
 "nbformat": 4,
 "nbformat_minor": 5
}
