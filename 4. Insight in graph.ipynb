{
 "cells": [
  {
   "cell_type": "code",
   "execution_count": 1,
   "id": "5a1c08ee",
   "metadata": {},
   "outputs": [],
   "source": [
    "from typing import List, Dict, Any, Optional, Union\n",
    "\n",
    "import urllib\n",
    "import pandas as pd\n",
    "import networkx as nx\n",
    "\n",
    "from tqdm import tqdm\n",
    "from time import time\n",
    "from rdflib import Graph, URIRef, Literal, Namespace, URIRef\n",
    "from pathlib import Path\n",
    "from operator import itemgetter\n",
    "from matplotlib import pyplot as plt\n",
    "from collections import Counter\n",
    "from rdflib.namespace import XSD, RDF, RDFS, SKOS\n",
    "\n",
    "from rdflib.extras.external_graph_libs import *"
   ]
  },
  {
   "cell_type": "markdown",
   "id": "45f1d42d",
   "metadata": {},
   "source": [
    "**Note**: \n",
    "Visualizing the graph may improve our understanding of the data in the graph. **The IReC GitHub repository contains some instructions for visualizing the graph with GraphDB**. \n",
    "\n",
    "In this notebook, we focus on: \n",
    "1. counting the number of defined concepts in the graph\n",
    "2. checking some graph-based measures to identify potential concepts"
   ]
  },
  {
   "cell_type": "code",
   "execution_count": 2,
   "id": "04b1f7d8",
   "metadata": {},
   "outputs": [],
   "source": [
    "graph_output_fp = Path.cwd().joinpath(\"data\", \"graph_output\")"
   ]
  },
  {
   "cell_type": "code",
   "execution_count": 3,
   "id": "19e48633",
   "metadata": {},
   "outputs": [],
   "source": [
    "IREC_spans_URL = \"https://spans.irec.org/\"\n",
    "IREC_concepts_URL = \"https://concepts.irec.org/\""
   ]
  },
  {
   "cell_type": "markdown",
   "id": "9862a25f",
   "metadata": {},
   "source": [
    "### 0. Load Graph"
   ]
  },
  {
   "cell_type": "code",
   "execution_count": 4,
   "id": "afb3809c",
   "metadata": {},
   "outputs": [
    {
     "data": {
      "text/plain": [
       "<Graph identifier=N40414482ce954b5ba1fb78dc55a962c2 (<class 'rdflib.graph.Graph'>)>"
      ]
     },
     "execution_count": 4,
     "metadata": {},
     "output_type": "execute_result"
    }
   ],
   "source": [
    "irec_graph = Graph()\n",
    "graph_data_fp = Path.cwd().joinpath(\"data\", \"graph_data\")\n",
    "irec_graph.parse(graph_data_fp.joinpath(\"IREC.rdf\"))"
   ]
  },
  {
   "cell_type": "code",
   "execution_count": 5,
   "id": "6319462e",
   "metadata": {},
   "outputs": [
    {
     "data": {
      "text/plain": [
       "<Graph identifier=N40414482ce954b5ba1fb78dc55a962c2 (<class 'rdflib.graph.Graph'>)>"
      ]
     },
     "execution_count": 5,
     "metadata": {},
     "output_type": "execute_result"
    }
   ],
   "source": [
    "irec_graph.parse(graph_output_fp.joinpath(\"featured_graph.ttl\")) "
   ]
  },
  {
   "cell_type": "markdown",
   "id": "25da675d",
   "metadata": {},
   "source": [
    "### 1. Counting concepts and their definitions\n",
    "<div class=\"alert alert-block alert-info\">\n",
    " First, we'll run some SPARQL queries to count the number of concepts and definitions\n",
    "</div>"
   ]
  },
  {
   "cell_type": "markdown",
   "id": "e48428b8",
   "metadata": {},
   "source": [
    "* We want to know which concepts have a definition\n",
    "  * grab UIDs for concepts that have a definition\n",
    "  * grab the labels (text) for concets with definitions"
   ]
  },
  {
   "cell_type": "code",
   "execution_count": 6,
   "id": "cf41d8f5",
   "metadata": {},
   "outputs": [],
   "source": [
    "definitions_query = \"\"\"\n",
    "PREFIX rdfs: <http://www.w3.org/2000/01/rdf-schema#>\n",
    "PREFIX rdf: <http://www.w3.org/1999/02/22-rdf-syntax-ns#>\n",
    "PREFIX irec: <https://schema.irec.org/#>\n",
    "PREFIX skos: <http://www.w3.org/2004/02/skos/core#>\n",
    "\n",
    "\n",
    "SELECT DISTINCT ?nodeUID ?label ?definition WHERE {  \n",
    "        ?nodeUID a skos:Concept ;\n",
    "                 skos:prefLabel ?label ;\n",
    "                 skos:definition|^skos:exactMatch/irec:wikiDefinition ?definition .\n",
    "        \n",
    "        VALUES (?definition) {(UNDEF)} \n",
    "} GROUP BY ?nodeUID\n",
    "\n",
    "\"\"\"\n",
    "sparql_result = irec_graph.query(definitions_query)"
   ]
  },
  {
   "cell_type": "code",
   "execution_count": 7,
   "id": "c846ccdf",
   "metadata": {},
   "outputs": [],
   "source": [
    "concepts_with_definitions = {}\n",
    "for r in sparql_result:\n",
    "    concept_node = r['nodeUID'] \n",
    "    if concept_node not in concepts_with_definitions:\n",
    "        concepts_with_definitions[concept_node] = [r['definition']]\n",
    "    else:\n",
    "        concepts_with_definitions[concept_node].append(r['definition'])"
   ]
  },
  {
   "cell_type": "code",
   "execution_count": 8,
   "id": "610bfe25",
   "metadata": {},
   "outputs": [
    {
     "data": {
      "text/plain": [
       "1315"
      ]
     },
     "execution_count": 8,
     "metadata": {},
     "output_type": "execute_result"
    }
   ],
   "source": [
    "len(concepts_with_definitions)"
   ]
  },
  {
   "cell_type": "code",
   "execution_count": 9,
   "id": "30348dcc",
   "metadata": {},
   "outputs": [],
   "source": [
    "concept_labels_with_definitions = {}\n",
    "for r in sparql_result:\n",
    "    concept_node = r['label'] \n",
    "    if concept_node not in concept_labels_with_definitions:\n",
    "        concept_labels_with_definitions[concept_node] = [r['definition']]\n",
    "    else:\n",
    "        concept_labels_with_definitions[concept_node].append(r['definition'])"
   ]
  },
  {
   "cell_type": "code",
   "execution_count": 10,
   "id": "e9c991eb",
   "metadata": {},
   "outputs": [
    {
     "data": {
      "text/plain": [
       "867"
      ]
     },
     "execution_count": 10,
     "metadata": {},
     "output_type": "execute_result"
    }
   ],
   "source": [
    "len(concept_labels_with_definitions)"
   ]
  },
  {
   "cell_type": "code",
   "execution_count": 11,
   "id": "9d189173",
   "metadata": {},
   "outputs": [
    {
     "data": {
      "text/plain": [
       "[(rdflib.term.Literal('house', lang='en'), 61),\n",
       " (rdflib.term.Literal('Woodlands', lang='en'), 58),\n",
       " (rdflib.term.Literal('residential building', lang='en'), 52),\n",
       " (rdflib.term.Literal('Chimneys', lang='en'), 10),\n",
       " (rdflib.term.Literal('Springs', lang='en'), 6),\n",
       " (rdflib.term.Literal('Wall', lang='en'), 6),\n",
       " (rdflib.term.Literal('frequency', lang='en'), 5),\n",
       " (rdflib.term.Literal('gallery', lang='en'), 5),\n",
       " (rdflib.term.Literal('span', lang='en'), 5),\n",
       " (rdflib.term.Literal('building', lang='en'), 5),\n",
       " (rdflib.term.Literal('Buildings', lang='en'), 5),\n",
       " (rdflib.term.Literal('extension', lang='en'), 5),\n",
       " (rdflib.term.Literal('block', lang='en'), 5),\n",
       " (rdflib.term.Literal('platform', lang='en'), 5),\n",
       " (rdflib.term.Literal('landing', lang='en'), 4),\n",
       " (rdflib.term.Literal('pier', lang='en'), 4),\n",
       " (rdflib.term.Literal('Pathways', lang='en'), 4),\n",
       " (rdflib.term.Literal('enclosure', lang='en'), 4),\n",
       " (rdflib.term.Literal('wall', lang='en'), 4),\n",
       " (rdflib.term.Literal('kitchen', lang='en'), 3),\n",
       " (rdflib.term.Literal('level', lang='en'), 3),\n",
       " (rdflib.term.Literal('pipe', lang='en'), 3),\n",
       " (rdflib.term.Literal('ramp', lang='en'), 3),\n",
       " (rdflib.term.Literal('renovation', lang='en'), 3),\n",
       " (rdflib.term.Literal('school', lang='en'), 3),\n",
       " (rdflib.term.Literal('sink', lang='en'), 3),\n",
       " (rdflib.term.Literal('boundary', lang='en'), 3),\n",
       " (rdflib.term.Literal('urinal', lang='en'), 3),\n",
       " (rdflib.term.Literal('ceiling', lang='en'), 3),\n",
       " (rdflib.term.Literal('compartment', lang='en'), 3),\n",
       " (rdflib.term.Literal('density', lang='en'), 3),\n",
       " (rdflib.term.Literal('Cranes', lang='en'), 3),\n",
       " (rdflib.term.Literal('Bridges', lang='en'), 3),\n",
       " (rdflib.term.Literal('shape', lang='en'), 3),\n",
       " (rdflib.term.Literal('area', lang='en'), 3),\n",
       " (rdflib.term.Literal('slope', lang='en'), 3),\n",
       " (rdflib.term.Literal('mica', lang='en'), 3),\n",
       " (rdflib.term.Literal('thermal resistance', lang='en'), 3),\n",
       " (rdflib.term.Literal('bath', lang='en'), 3),\n",
       " (rdflib.term.Literal('basin', lang='en'), 3),\n",
       " (rdflib.term.Literal('base', lang='en'), 3),\n",
       " (rdflib.term.Literal('stone', lang='en'), 3),\n",
       " (rdflib.term.Literal('green', lang='en'), 3),\n",
       " (rdflib.term.Literal('factory', lang='en'), 3),\n",
       " (rdflib.term.Literal('accessibility', lang='en'), 3),\n",
       " (rdflib.term.Literal('semi-detached house', lang='en'), 3),\n",
       " (rdflib.term.Literal('grating', lang='en'), 3),\n",
       " (rdflib.term.Literal('brick', lang='en'), 3),\n",
       " (rdflib.term.Literal('weight', lang='en'), 3),\n",
       " (rdflib.term.Literal('compression', lang='en'), 3),\n",
       " (rdflib.term.Literal('seal', lang='en'), 3),\n",
       " (rdflib.term.Literal('assembly', lang='en'), 3),\n",
       " (rdflib.term.Literal('deformation', lang='en'), 3),\n",
       " (rdflib.term.Literal('substrate', lang='en'), 3),\n",
       " (rdflib.term.Literal('gate', lang='en'), 3),\n",
       " (rdflib.term.Literal('absorption coefficient', lang='en'), 2),\n",
       " (rdflib.term.Literal('flat', lang='en'), 2),\n",
       " (rdflib.term.Literal('flight', lang='en'), 2),\n",
       " (rdflib.term.Literal('frequency band', lang='en'), 2),\n",
       " (rdflib.term.Literal('greywater', lang='en'), 2),\n",
       " (rdflib.term.Literal('handrail', lang='en'), 2),\n",
       " (rdflib.term.Literal('hertz', lang='en'), 2),\n",
       " (rdflib.term.Literal('infiltration', lang='en'), 2),\n",
       " (rdflib.term.Literal('isolation', lang='en'), 2),\n",
       " (rdflib.term.Literal('ladder', lang='en'), 2),\n",
       " (rdflib.term.Literal('atrium', lang='en'), 2),\n",
       " (rdflib.term.Literal('noise', lang='en'), 2),\n",
       " (rdflib.term.Literal('perimeter', lang='en'), 2),\n",
       " (rdflib.term.Literal('automatic control', lang='en'), 2),\n",
       " (rdflib.term.Literal('pitch', lang='en'), 2),\n",
       " (rdflib.term.Literal('barrier', lang='en'), 2),\n",
       " (rdflib.term.Literal('reverberation', lang='en'), 2),\n",
       " (rdflib.term.Literal('reverberation time', lang='en'), 2),\n",
       " (rdflib.term.Literal('risk assessment', lang='en'), 2),\n",
       " (rdflib.term.Literal('basement', lang='en'), 2),\n",
       " (rdflib.term.Literal('room', lang='en'), 2),\n",
       " (rdflib.term.Literal('sheltered housing', lang='en'), 2),\n",
       " (rdflib.term.Literal('sound pressure level', lang='en'), 2),\n",
       " (rdflib.term.Literal('bathroom', lang='en'), 2),\n",
       " (rdflib.term.Literal('spacing', lang='en'), 2),\n",
       " (rdflib.term.Literal('spectrum', lang='en'), 2),\n",
       " (rdflib.term.Literal('travel distance', lang='en'), 2),\n",
       " (rdflib.term.Literal('utility room', lang='en'), 2),\n",
       " (rdflib.term.Literal('ventilation', lang='en'), 2),\n",
       " (rdflib.term.Literal('wet room', lang='en'), 2),\n",
       " (rdflib.term.Literal('wind load', lang='en'), 2),\n",
       " (rdflib.term.Literal('building envelope', lang='en'), 2),\n",
       " (rdflib.term.Literal('cavity', lang='en'), 2),\n",
       " (rdflib.term.Literal('cellar', lang='en'), 2),\n",
       " (rdflib.term.Literal('decibel', lang='en'), 2),\n",
       " (rdflib.term.Literal('display window', lang='en'), 2),\n",
       " (rdflib.term.Literal('electrical installation', lang='en'), 2),\n",
       " (rdflib.term.Literal('Foundations', lang='en'), 2),\n",
       " (rdflib.term.Literal('Walls', lang='en'), 2),\n",
       " (rdflib.term.Literal('Sand', lang='en'), 2),\n",
       " (rdflib.term.Literal('Lockers', lang='en'), 2),\n",
       " (rdflib.term.Literal('Wards', lang='en'), 2),\n",
       " (rdflib.term.Literal('Keys', lang='en'), 2),\n",
       " (rdflib.term.Literal('Dimensions', lang='en'), 2),\n",
       " (rdflib.term.Literal('quantity', lang='en'), 2),\n",
       " (rdflib.term.Literal('length', lang='en'), 2),\n",
       " (rdflib.term.Literal('height', lang='en'), 2),\n",
       " (rdflib.term.Literal('width', lang='en'), 2),\n",
       " (rdflib.term.Literal('mass', lang='en'), 2),\n",
       " (rdflib.term.Literal('temperature', lang='en'), 2),\n",
       " (rdflib.term.Literal('melting point', lang='en'), 2),\n",
       " (rdflib.term.Literal('radius', lang='en'), 2),\n",
       " (rdflib.term.Literal('cost', lang='en'), 2),\n",
       " (rdflib.term.Literal('beam', lang='en'), 2),\n",
       " (rdflib.term.Literal('diameter', lang='en'), 2),\n",
       " (rdflib.term.Literal('voltage', lang='en'), 2),\n",
       " (rdflib.term.Literal('thickness', lang='en'), 2),\n",
       " (rdflib.term.Literal('compressive strength', lang='en'), 2),\n",
       " (rdflib.term.Literal('force', lang='en'), 2),\n",
       " (rdflib.term.Literal('test', lang='en'), 2),\n",
       " (rdflib.term.Literal('aisle', lang='en'), 2),\n",
       " (rdflib.term.Literal('loft', lang='en'), 2),\n",
       " (rdflib.term.Literal('stud', lang='en'), 2),\n",
       " (rdflib.term.Literal('weathering steel', lang='en'), 2),\n",
       " (rdflib.term.Literal('column', lang='en'), 2),\n",
       " (rdflib.term.Literal('efficiency', lang='en'), 2),\n",
       " (rdflib.term.Literal('Concrete', lang='en'), 2),\n",
       " (rdflib.term.Literal('volume', lang='en'), 2),\n",
       " (rdflib.term.Literal('trench', lang='en'), 2),\n",
       " (rdflib.term.Literal('elasticity', lang='en'), 2),\n",
       " (rdflib.term.Literal('common area', lang='en'), 2),\n",
       " (rdflib.term.Literal('lobby', lang='en'), 2),\n",
       " (rdflib.term.Literal('chamber', lang='en'), 2),\n",
       " (rdflib.term.Literal('panel', lang='en'), 2),\n",
       " (rdflib.term.Literal('clamp', lang='en'), 2),\n",
       " (rdflib.term.Literal('bolt', lang='en'), 2),\n",
       " (rdflib.term.Literal('hinge', lang='en'), 2),\n",
       " (rdflib.term.Literal('deep', lang='en'), 2),\n",
       " (rdflib.term.Literal('infrared radiation', lang='en'), 2),\n",
       " (rdflib.term.Literal('tin', lang='en'), 2),\n",
       " (rdflib.term.Literal('screw', lang='en'), 2),\n",
       " (rdflib.term.Literal('light', lang='en'), 2),\n",
       " (rdflib.term.Literal('frame', lang='en'), 2),\n",
       " (rdflib.term.Literal('conversion', lang='en'), 2),\n",
       " (rdflib.term.Literal('brickwork', lang='en'), 2),\n",
       " (rdflib.term.Literal('hazard', lang='en'), 2),\n",
       " (rdflib.term.Literal('lock', lang='en'), 2),\n",
       " (rdflib.term.Literal('drain', lang='en'), 2),\n",
       " (rdflib.term.Literal('lamp', lang='en'), 2),\n",
       " (rdflib.term.Literal('canal', lang='en'), 2),\n",
       " (rdflib.term.Literal('hospital', lang='en'), 2),\n",
       " (rdflib.term.Literal('glazing', lang='en'), 2),\n",
       " (rdflib.term.Literal('ball bearing', lang='en'), 2),\n",
       " (rdflib.term.Literal('electric current', lang='en'), 2),\n",
       " (rdflib.term.Literal('sign', lang='en'), 2),\n",
       " (rdflib.term.Literal('fitting', lang='en'), 2),\n",
       " (rdflib.term.Literal('lead', lang='en'), 2),\n",
       " (rdflib.term.Literal('walkway', lang='en'), 2),\n",
       " (rdflib.term.Literal('curtain wall', lang='en'), 2),\n",
       " (rdflib.term.Literal('pissoir', lang='en'), 2),\n",
       " (rdflib.term.Literal('step', lang='en'), 2),\n",
       " (rdflib.term.Literal('material', lang='en'), 2),\n",
       " (rdflib.term.Literal('square', lang='en'), 2),\n",
       " (rdflib.term.Literal('fireplace', lang='en'), 2),\n",
       " (rdflib.term.Literal('mortar', lang='en'), 2),\n",
       " (rdflib.term.Literal('tonne', lang='en'), 2),\n",
       " (rdflib.term.Literal('water level', lang='en'), 2),\n",
       " (rdflib.term.Literal('elevation', lang='en'), 2),\n",
       " (rdflib.term.Literal('cladding', lang='en'), 2),\n",
       " (rdflib.term.Literal('deck', lang='en'), 2),\n",
       " (rdflib.term.Literal('gold', lang='en'), 2),\n",
       " (rdflib.term.Literal('structure', lang='en'), 2),\n",
       " (rdflib.term.Literal('lighting', lang='en'), 2),\n",
       " (rdflib.term.Literal('shaft', lang='en'), 2),\n",
       " (rdflib.term.Literal('plywood', lang='en'), 2),\n",
       " (rdflib.term.Literal('concrete', lang='en'), 2),\n",
       " (rdflib.term.Literal('covering', lang='en'), 2),\n",
       " (rdflib.term.Literal('hall', lang='en'), 2),\n",
       " (rdflib.term.Literal('attic', lang='en'), 2),\n",
       " (rdflib.term.Literal('mesh', lang='en'), 2),\n",
       " (rdflib.term.Literal('sheet', lang='en'), 2),\n",
       " (rdflib.term.Literal('terrace', lang='en'), 2),\n",
       " (rdflib.term.Literal('batten', lang='en'), 2),\n",
       " (rdflib.term.Literal('purlin', lang='en'), 2),\n",
       " (rdflib.term.Literal('threshold', lang='en'), 2),\n",
       " (rdflib.term.Literal('cable', lang='en'), 2),\n",
       " (rdflib.term.Literal('granite', lang='en'), 2),\n",
       " (rdflib.term.Literal('depth', lang='en'), 2),\n",
       " (rdflib.term.Literal('terminal', lang='en'), 2),\n",
       " (rdflib.term.Literal('soil', lang='en'), 2),\n",
       " (rdflib.term.Literal('door', lang='en'), 2),\n",
       " (rdflib.term.Literal('vessel', lang='en'), 2),\n",
       " (rdflib.term.Literal('pressure', lang='en'), 2),\n",
       " (rdflib.term.Literal('vehicle', lang='en'), 2),\n",
       " (rdflib.term.Literal('roof', lang='en'), 2),\n",
       " (rdflib.term.Literal('iron', lang='en'), 2),\n",
       " (rdflib.term.Literal('buckling', lang='en'), 2),\n",
       " (rdflib.term.Literal('water tank', lang='en'), 2),\n",
       " (rdflib.term.Literal('magnesium', lang='en'), 2),\n",
       " (rdflib.term.Literal('trap', lang='en'), 2),\n",
       " (rdflib.term.Literal('toilet', lang='en'), 2),\n",
       " (rdflib.term.Literal('Dwelling', lang='en'), 2),\n",
       " (rdflib.term.Literal('airborne sound insulation', lang='en'), 1),\n",
       " (rdflib.term.Literal('fire alarm system', lang='en'), 1),\n",
       " (rdflib.term.Literal('fire and smoke damper', lang='en'), 1),\n",
       " (rdflib.term.Literal('fire damper', lang='en'), 1),\n",
       " (rdflib.term.Literal('fire doorset', lang='en'), 1),\n",
       " (rdflib.term.Literal('fire resisting', lang='en'), 1),\n",
       " (rdflib.term.Literal('fire-separating element', lang='en'), 1),\n",
       " (rdflib.term.Literal('fire-stop', lang='en'), 1),\n",
       " (rdflib.term.Literal('firefighting lift', lang='en'), 1),\n",
       " (rdflib.term.Literal('firefighting lobby', lang='en'), 1),\n",
       " (rdflib.term.Literal('firefighting shaft', lang='en'), 1),\n",
       " (rdflib.term.Literal('airtightness', lang='en'), 1),\n",
       " (rdflib.term.Literal('firefighting stair', lang='en'), 1),\n",
       " (rdflib.term.Literal('fit-out work', lang='en'), 1),\n",
       " (rdflib.term.Literal('fixed building services', lang='en'), 1),\n",
       " (rdflib.term.Literal('flanking element', lang='en'), 1),\n",
       " (rdflib.term.Literal('flanking transmission', lang='en'), 1),\n",
       " (rdflib.term.Literal('floating floor', lang='en'), 1),\n",
       " (rdflib.term.Literal('floating layer', lang='en'), 1),\n",
       " (rdflib.term.Literal('following edge', lang='en'), 1),\n",
       " (rdflib.term.Literal('alternating tread stair', lang='en'), 1),\n",
       " (rdflib.term.Literal('framed wall', lang='en'), 1),\n",
       " (rdflib.term.Literal('free area', lang='en'), 1),\n",
       " (rdflib.term.Literal('general access stair', lang='en'), 1),\n",
       " (rdflib.term.Literal('gently sloping', lang='en'), 1),\n",
       " (rdflib.term.Literal('going', lang='en'), 1),\n",
       " (rdflib.term.Literal('gross internal volume', lang='en'), 1),\n",
       " (rdflib.term.Literal('alternative escape route', lang='en'), 1),\n",
       " (rdflib.term.Literal('guarding', lang='en'), 1),\n",
       " (rdflib.term.Literal('habitable room', lang='en'), 1),\n",
       " (rdflib.term.Literal('harvested rainwater', lang='en'), 1),\n",
       " (rdflib.term.Literal('heated wholesome water', lang='en'), 1),\n",
       " (rdflib.term.Literal('helical stair', lang='en'), 1),\n",
       " (rdflib.term.Literal('high-speed electronic communications network', lang='en'),\n",
       "  1),\n",
       " (rdflib.term.Literal('high-speed-ready in-building physical infrastructure', lang='en'),\n",
       "  1),\n",
       " (rdflib.term.Literal('high-usage entrance door', lang='en'), 1),\n",
       " (rdflib.term.Literal('alternative exit', lang='en'), 1),\n",
       " (rdflib.term.Literal('hot water storage system', lang='en'), 1),\n",
       " (rdflib.term.Literal('hot water storage system package', lang='en'), 1),\n",
       " (rdflib.term.Literal('impact sound', lang='en'), 1),\n",
       " (rdflib.term.Literal('impact sound insulation', lang='en'), 1),\n",
       " (rdflib.term.Literal('imposed load', lang='en'), 1),\n",
       " (rdflib.term.Literal('in-building physical infrastructure', lang='en'), 1),\n",
       " (rdflib.term.Literal('independent ceiling', lang='en'), 1),\n",
       " (rdflib.term.Literal('indirect heating', lang='en'), 1),\n",
       " (rdflib.term.Literal('inner room', lang='en'), 1),\n",
       " (rdflib.term.Literal('appliance ventilation duct', lang='en'), 1),\n",
       " (rdflib.term.Literal('installed level access shower', lang='en'), 1),\n",
       " (rdflib.term.Literal('intermediate landing', lang='en'), 1),\n",
       " (rdflib.term.Literal('intermittent operation', lang='en'), 1),\n",
       " (rdflib.term.Literal('internal floor', lang='en'), 1),\n",
       " (rdflib.term.Literal('internal wall', lang='en'), 1),\n",
       " (rdflib.term.Literal('international organization for standardization', lang='en'),\n",
       "  1),\n",
       " (rdflib.term.Literal('key elements', lang='en'), 1),\n",
       " (rdflib.term.Literal('approach route', lang='en'), 1),\n",
       " (rdflib.term.Literal('leading edge', lang='en'), 1),\n",
       " (rdflib.term.Literal('liftway', lang='en'), 1),\n",
       " (rdflib.term.Literal('light reflectance value', lang='en'), 1),\n",
       " (rdflib.term.Literal('limiting air permeability', lang='en'), 1),\n",
       " (rdflib.term.Literal('live/work unit', lang='en'), 1),\n",
       " (rdflib.term.Literal('load-bearing construction', lang='en'), 1),\n",
       " (rdflib.term.Literal('localised obstruction', lang='en'), 1),\n",
       " (rdflib.term.Literal('low voltage', lang='en'), 1),\n",
       " (rdflib.term.Literal('assessed air permeability', lang='en'), 1),\n",
       " (rdflib.term.Literal('major renovation', lang='en'), 1),\n",
       " (rdflib.term.Literal('major renovation works', lang='en'), 1),\n",
       " (rdflib.term.Literal('manoeuvring space', lang='en'), 1),\n",
       " (rdflib.term.Literal('manual control', lang='en'), 1),\n",
       " (rdflib.term.Literal('mass per unit area', lang='en'), 1),\n",
       " (rdflib.term.Literal('material alteration', lang='en'), 1),\n",
       " (rdflib.term.Literal('materials', lang='en'), 1),\n",
       " (rdflib.term.Literal('means of escape', lang='en'), 1),\n",
       " (rdflib.term.Literal('network termination point', lang='en'), 1),\n",
       " (rdflib.term.Literal('new approach notified and designated organisations', lang='en'),\n",
       "  1),\n",
       " (rdflib.term.Literal('non-self-resetting energy cut-out', lang='en'), 1),\n",
       " (rdflib.term.Literal('nosing', lang='en'), 1),\n",
       " (rdflib.term.Literal('notional boundary', lang='en'), 1),\n",
       " (rdflib.term.Literal('occupiable room', lang='en'), 1),\n",
       " (rdflib.term.Literal('octave band', lang='en'), 1),\n",
       " (rdflib.term.Literal('one-third octave band', lang='en'), 1),\n",
       " (rdflib.term.Literal('open spatial planning', lang='en'), 1),\n",
       " (rdflib.term.Literal('passive stack ventilation', lang='en'), 1),\n",
       " (rdflib.term.Literal('permanent opening', lang='en'), 1),\n",
       " (rdflib.term.Literal('pitch line', lang='en'), 1),\n",
       " (rdflib.term.Literal('platform floor', lang='en'), 1),\n",
       " (rdflib.term.Literal('plot gradient', lang='en'), 1),\n",
       " (rdflib.term.Literal('point of access', lang='en'), 1),\n",
       " (rdflib.term.Literal('potential level access shower', lang='en'), 1),\n",
       " (rdflib.term.Literal('preparation of food', lang='en'), 1),\n",
       " (rdflib.term.Literal('absorptive material', lang='en'), 1),\n",
       " (rdflib.term.Literal('automatic release mechanism', lang='en'), 1),\n",
       " (rdflib.term.Literal('pressure relief valve', lang='en'), 1),\n",
       " (rdflib.term.Literal('primary thermal store', lang='en'), 1),\n",
       " (rdflib.term.Literal('principal communal entrance', lang='en'), 1),\n",
       " (rdflib.term.Literal('principal entrance', lang='en'), 1),\n",
       " (rdflib.term.Literal('principal private entrance', lang='en'), 1),\n",
       " (rdflib.term.Literal('principal storey', lang='en'), 1),\n",
       " (rdflib.term.Literal('principal works', lang='en'), 1),\n",
       " (rdflib.term.Literal('private area', lang='en'), 1),\n",
       " (rdflib.term.Literal('private stair', lang='en'), 1),\n",
       " (rdflib.term.Literal('protected circuit', lang='en'), 1),\n",
       " (rdflib.term.Literal('background ventilator', lang='en'), 1),\n",
       " (rdflib.term.Literal('protected corridor', lang='en'), 1),\n",
       " (rdflib.term.Literal('protected entrance hall', lang='en'), 1),\n",
       " (rdflib.term.Literal('protected shaft', lang='en'), 1),\n",
       " (rdflib.term.Literal('protected stairway', lang='en'), 1),\n",
       " (rdflib.term.Literal('purge ventilation', lang='en'), 1),\n",
       " (rdflib.term.Literal('purpose group', lang='en'), 1),\n",
       " (rdflib.term.Literal('purpose-provided ventilation', lang='en'), 1),\n",
       " (rdflib.term.Literal('radial gangway', lang='en'), 1),\n",
       " (rdflib.term.Literal('ramped', lang='en'), 1),\n",
       " (rdflib.term.Literal('registered competent person', lang='en'), 1),\n",
       " (rdflib.term.Literal('registered third-party certifier', lang='en'), 1),\n",
       " (rdflib.term.Literal('relevant boundary', lang='en'), 1),\n",
       " (rdflib.term.Literal('resilient layer', lang='en'), 1),\n",
       " (rdflib.term.Literal('rise', lang='en'), 1),\n",
       " (rdflib.term.Literal('rooflight', lang='en'), 1),\n",
       " (rdflib.term.Literal('room for residential purposes', lang='en'), 1),\n",
       " (rdflib.term.Literal('rw', lang='en'), 1),\n",
       " (rdflib.term.Literal('sanitary accommodation', lang='en'), 1),\n",
       " (rdflib.term.Literal('sanitary appliance', lang='en'), 1),\n",
       " (rdflib.term.Literal('sanitary convenience', lang='en'), 1),\n",
       " (rdflib.term.Literal('secure window', lang='en'), 1),\n",
       " (rdflib.term.Literal('secured doorest', lang='en'), 1),\n",
       " (rdflib.term.Literal('self-closing device', lang='en'), 1),\n",
       " (rdflib.term.Literal('basement storey', lang='en'), 1),\n",
       " (rdflib.term.Literal('separated part', lang='en'), 1),\n",
       " (rdflib.term.Literal('separating floor', lang='en'), 1),\n",
       " (rdflib.term.Literal('separating wall', lang='en'), 1),\n",
       " (rdflib.term.Literal('single storey building', lang='en'), 1),\n",
       " (rdflib.term.Literal('site', lang='en'), 1),\n",
       " (rdflib.term.Literal('softened wholesome water', lang='en'), 1),\n",
       " (rdflib.term.Literal('sound reduction index', lang='en'), 1),\n",
       " (rdflib.term.Literal('specialist process lighting', lang='en'), 1),\n",
       " (rdflib.term.Literal('specified attachment', lang='en'), 1),\n",
       " (rdflib.term.Literal('spiral stair', lang='en'), 1),\n",
       " (rdflib.term.Literal('stack effect', lang='en'), 1),\n",
       " (rdflib.term.Literal('stair width', lang='en'), 1),\n",
       " (rdflib.term.Literal('standard parking bay', lang='en'), 1),\n",
       " (rdflib.term.Literal('steeply sloping plot', lang='en'), 1),\n",
       " (rdflib.term.Literal('bedspace', lang='en'), 1),\n",
       " (rdflib.term.Literal('step-free', lang='en'), 1),\n",
       " (rdflib.term.Literal('storey', lang='en'), 1),\n",
       " (rdflib.term.Literal('storey exit', lang='en'), 1),\n",
       " (rdflib.term.Literal('structure-borne sound', lang='en'), 1),\n",
       " (rdflib.term.Literal('suitable ground surface', lang='en'), 1),\n",
       " (rdflib.term.Literal('suitable tread nosings', lang='en'), 1),\n",
       " (rdflib.term.Literal('supported wall', lang='en'), 1),\n",
       " (rdflib.term.Literal('surface water activity', lang='en'), 1),\n",
       " (rdflib.term.Literal('suspended ceiling', lang='en'), 1),\n",
       " (rdflib.term.Literal('tapered tread', lang='en'), 1),\n",
       " (rdflib.term.Literal('target co2 emission rate', lang='en'), 1),\n",
       " (rdflib.term.Literal('target fabric energy efficiency rate', lang='en'), 1),\n",
       " (rdflib.term.Literal('temperature relief valve', lang='en'), 1),\n",
       " (rdflib.term.Literal('thermoplastic material', lang='en'), 1),\n",
       " (rdflib.term.Literal('total useful floor area', lang='en'), 1),\n",
       " (rdflib.term.Literal('transverse gangway', lang='en'), 1),\n",
       " (rdflib.term.Literal('tundish', lang='en'), 1),\n",
       " (rdflib.term.Literal('united kingdom accreditation service', lang='en'), 1),\n",
       " (rdflib.term.Literal('unprotected area', lang='en'), 1),\n",
       " (rdflib.term.Literal('british standards institution', lang='en'), 1),\n",
       " (rdflib.term.Literal('unvented hot water storage system', lang='en'), 1),\n",
       " (rdflib.term.Literal('utility stair', lang='en'), 1),\n",
       " (rdflib.term.Literal('vented hot water storage system', lang='en'), 1),\n",
       " (rdflib.term.Literal('ventilation opening', lang='en'), 1),\n",
       " (rdflib.term.Literal('visual contrast', lang='en'), 1),\n",
       " (rdflib.term.Literal('vomitory exits', lang='en'), 1),\n",
       " (rdflib.term.Literal('water-closet', lang='en'), 1),\n",
       " (rdflib.term.Literal('wheelchair accessible', lang='en'), 1),\n",
       " (rdflib.term.Literal('wheelchair adaptable', lang='en'), 1),\n",
       " (rdflib.term.Literal('whole building ventilation', lang='en'), 1),\n",
       " (rdflib.term.Literal('wholesome water', lang='en'), 1),\n",
       " (rdflib.term.Literal('access point', lang='en'), 1),\n",
       " (rdflib.term.Literal('building control body', lang='en'), 1),\n",
       " (rdflib.term.Literal('building work', lang='en'), 1),\n",
       " (rdflib.term.Literal('buttressing wall', lang='en'), 1),\n",
       " (rdflib.term.Literal('caulking', lang='en'), 1),\n",
       " (rdflib.term.Literal('cavity barrier', lang='en'), 1),\n",
       " (rdflib.term.Literal('cavity stop', lang='en'), 1),\n",
       " (rdflib.term.Literal('cavity width', lang='en'), 1),\n",
       " (rdflib.term.Literal('access room', lang='en'), 1),\n",
       " (rdflib.term.Literal('circulation space', lang='en'), 1),\n",
       " (rdflib.term.Literal('clear access route', lang='en'), 1),\n",
       " (rdflib.term.Literal('clear access zone', lang='en'), 1),\n",
       " (rdflib.term.Literal('clear opening width', lang='en'), 1),\n",
       " (rdflib.term.Literal('clear turning circle', lang='en'), 1),\n",
       " (rdflib.term.Literal('clear width', lang='en'), 1),\n",
       " (rdflib.term.Literal('closable opening', lang='en'), 1),\n",
       " (rdflib.term.Literal('combined temperature and pressure relief valve', lang='en'),\n",
       "  1),\n",
       " (rdflib.term.Literal('comité européen de normalisation', lang='en'), 1),\n",
       " (rdflib.term.Literal('accessible entrance', lang='en'), 1),\n",
       " (rdflib.term.Literal('commissioning', lang='en'), 1),\n",
       " (rdflib.term.Literal('common balcony', lang='en'), 1),\n",
       " (rdflib.term.Literal('common space', lang='en'), 1),\n",
       " (rdflib.term.Literal('common stair', lang='en'), 1),\n",
       " (rdflib.term.Literal('communal area', lang='en'), 1),\n",
       " (rdflib.term.Literal('compartment wall', lang='en'), 1),\n",
       " (rdflib.term.Literal('compartment wall or floor', lang='en'), 1),\n",
       " (rdflib.term.Literal('continuous operation', lang='en'), 1),\n",
       " (rdflib.term.Literal('controlled service', lang='en'), 1),\n",
       " (rdflib.term.Literal('accessible threshold', lang='en'), 1),\n",
       " (rdflib.term.Literal('corridor access', lang='en'), 1),\n",
       " (rdflib.term.Literal('coupled assembly', lang='en'), 1),\n",
       " (rdflib.term.Literal('dead end', lang='en'), 1),\n",
       " (rdflib.term.Literal('dead load', lang='en'), 1),\n",
       " (rdflib.term.Literal('design air permeability', lang='en'), 1),\n",
       " (rdflib.term.Literal('direct distance', lang='en'), 1),\n",
       " (rdflib.term.Literal('direct heating', lang='en'), 1),\n",
       " (rdflib.term.Literal('direct transmission', lang='en'), 1),\n",
       " (rdflib.term.Literal('air path', lang='en'), 1),\n",
       " (rdflib.term.Literal('\\u200b\\u200bdisplay lighting', lang='en'), 1),\n",
       " (rdflib.term.Literal('domestic hot water', lang='en'), 1),\n",
       " (rdflib.term.Literal('doorset', lang='en'), 1),\n",
       " (rdflib.term.Literal('dwelling', lang='en'), 1),\n",
       " (rdflib.term.Literal('dwelling emission rate', lang='en'), 1),\n",
       " (rdflib.term.Literal('dwelling fabric energy efficiency rate', lang='en'), 1),\n",
       " (rdflib.term.Literal('dwelling type', lang='en'), 1),\n",
       " (rdflib.term.Literal('dwellinghouse', lang='en'), 1),\n",
       " (rdflib.term.Literal('dynamic stiffness', lang='en'), 1),\n",
       " (rdflib.term.Literal('air permeability', lang='en'), 1),\n",
       " (rdflib.term.Literal('earth-closet', lang='en'), 1),\n",
       " (rdflib.term.Literal('easily accessible', lang='en'), 1),\n",
       " (rdflib.term.Literal('element of structure', lang='en'), 1),\n",
       " (rdflib.term.Literal('emergency escape lighting', lang='en'), 1),\n",
       " (rdflib.term.Literal('emergency lighting', lang='en'), 1),\n",
       " (rdflib.term.Literal('energy performance certificate', lang='en'), 1),\n",
       " (rdflib.term.Literal('entrance storey', lang='en'), 1),\n",
       " (rdflib.term.Literal('equivalent area', lang='en'), 1),\n",
       " (rdflib.term.Literal('escape lighting', lang='en'), 1),\n",
       " (rdflib.term.Literal('airborne sound', lang='en'), 1),\n",
       " (rdflib.term.Literal('escape route', lang='en'), 1),\n",
       " (rdflib.term.Literal('european co-operation for accreditation', lang='en'),\n",
       "  1),\n",
       " (rdflib.term.Literal('european technical assessments', lang='en'), 1),\n",
       " (rdflib.term.Literal('evacuation lift', lang='en'), 1),\n",
       " (rdflib.term.Literal('exit passageway', lang='en'), 1),\n",
       " (rdflib.term.Literal('expansion vessel', lang='en'), 1),\n",
       " (rdflib.term.Literal('external wall', lang='en'), 1),\n",
       " (rdflib.term.Literal('extra-low voltage', lang='en'), 1),\n",
       " (rdflib.term.Literal('extract ventilation', lang='en'), 1),\n",
       " (rdflib.term.Literal('final exit', lang='en'), 1),\n",
       " (rdflib.term.Literal('Plumbing', lang='en'), 1),\n",
       " (rdflib.term.Literal('Renovation', lang='en'), 1),\n",
       " (rdflib.term.Literal('Sheltered housing', lang='en'), 1),\n",
       " (rdflib.term.Literal('Span', lang='en'), 1),\n",
       " (rdflib.term.Literal('Water supply', lang='en'), 1),\n",
       " (rdflib.term.Literal('Air conditioning', lang='en'), 1),\n",
       " (rdflib.term.Literal('Security', lang='en'), 1),\n",
       " (rdflib.term.Literal('Protection', lang='en'), 1),\n",
       " (rdflib.term.Literal('Clay', lang='en'), 1),\n",
       " (rdflib.term.Literal('Gypsum', lang='en'), 1),\n",
       " (rdflib.term.Literal('Offices', lang='en'), 1),\n",
       " (rdflib.term.Literal('Light', lang='en'), 1),\n",
       " (rdflib.term.Literal('occupant', lang='en'), 1),\n",
       " (rdflib.term.Literal('fresh water', lang='en'), 1),\n",
       " (rdflib.term.Literal('maintenance', lang='en'), 1),\n",
       " (rdflib.term.Literal('BSI', lang='en'), 1),\n",
       " (rdflib.term.Literal('thick', lang='en'), 1),\n",
       " (rdflib.term.Literal('risk', lang='en'), 1),\n",
       " (rdflib.term.Literal('safety', lang='en'), 1),\n",
       " (rdflib.term.Literal('staircase', lang='en'), 1),\n",
       " (rdflib.term.Literal('primary energy', lang='en'), 1),\n",
       " (rdflib.term.Literal('water supply', lang='en'), 1),\n",
       " (rdflib.term.Literal('window frame', lang='en'), 1),\n",
       " (rdflib.term.Literal('swing door', lang='en'), 1),\n",
       " (rdflib.term.Literal('energy efficiency', lang='en'), 1),\n",
       " (rdflib.term.Literal('bending', lang='en'), 1),\n",
       " (rdflib.term.Literal('Dwellings', lang='en'), 1),\n",
       " (rdflib.term.Literal('lag screw', lang='en'), 1),\n",
       " (rdflib.term.Literal('car park', lang='en'), 1),\n",
       " (rdflib.term.Literal('joint', lang='en'), 1),\n",
       " (rdflib.term.Literal('flow rate', lang='en'), 1),\n",
       " (rdflib.term.Literal('shutter', lang='en'), 1),\n",
       " (rdflib.term.Literal('sewage', lang='en'), 1),\n",
       " (rdflib.term.Literal('garden', lang='en'), 1),\n",
       " (rdflib.term.Literal('light fitting', lang='en'), 1),\n",
       " (rdflib.term.Literal('wheelchair user', lang='en'), 1),\n",
       " (rdflib.term.Literal('gasket', lang='en'), 1),\n",
       " (rdflib.term.Literal('housing', lang='en'), 1),\n",
       " (rdflib.term.Literal('radon', lang='en'), 1),\n",
       " (rdflib.term.Literal('corridor', lang='en'), 1),\n",
       " (rdflib.term.Literal('user-centered design', lang='en'), 1),\n",
       " (rdflib.term.Literal('entrance', lang='en'), 1),\n",
       " (rdflib.term.Literal('tempered glass', lang='en'), 1),\n",
       " (rdflib.term.Literal('metal', lang='en'), 1),\n",
       " (rdflib.term.Literal('steel', lang='en'), 1),\n",
       " (rdflib.term.Literal('gas', lang='en'), 1),\n",
       " (rdflib.term.Literal('solid', lang='en'), 1),\n",
       " (rdflib.term.Literal('building site', lang='en'), 1),\n",
       " (rdflib.term.Literal('sound', lang='en'), 1),\n",
       " (rdflib.term.Literal('glass', lang='en'), 1),\n",
       " (rdflib.term.Literal('plastic', lang='en'), 1),\n",
       " (rdflib.term.Literal('hydrostatic pressure', lang='en'), 1),\n",
       " (rdflib.term.Literal('rafter', lang='en'), 1),\n",
       " (rdflib.term.Literal('waterproof', lang='en'), 1),\n",
       " (rdflib.term.Literal('England and Wales', lang='en'), 1),\n",
       " (rdflib.term.Literal('number', lang='en'), 1),\n",
       " (rdflib.term.Literal('litre', lang='en'), 1),\n",
       " (rdflib.term.Literal('tile floor', lang='en'), 1),\n",
       " (rdflib.term.Literal('automatic door', lang='en'), 1),\n",
       " (rdflib.term.Literal('transformer', lang='en'), 1),\n",
       " (rdflib.term.Literal('open', lang='en'), 1),\n",
       " (rdflib.term.Literal('closed', lang='en'), 1),\n",
       " (rdflib.term.Literal('roof flashing', lang='en'), 1),\n",
       " (rdflib.term.Literal('restaurant', lang='en'), 1),\n",
       " (rdflib.term.Literal('inlet', lang='en'), 1),\n",
       " (rdflib.term.Literal('opening', lang='en'), 1),\n",
       " (rdflib.term.Literal('offices', lang='en'), 1),\n",
       " (rdflib.term.Literal('appliance', lang='en'), 1),\n",
       " (rdflib.term.Literal('gross floor area', lang='en'), 1),\n",
       " (rdflib.term.Literal('landfill gas', lang='en'), 1),\n",
       " (rdflib.term.Literal('beams', lang='en'), 1),\n",
       " (rdflib.term.Literal('shingle', lang='en'), 1),\n",
       " (rdflib.term.Literal('electrical power supply', lang='en'), 1),\n",
       " (rdflib.term.Literal('Department of Health', lang='en'), 1),\n",
       " (rdflib.term.Literal('fume', lang='en'), 1),\n",
       " (rdflib.term.Literal('newton', lang='en'), 1),\n",
       " (rdflib.term.Literal('washing machine', lang='en'), 1),\n",
       " (rdflib.term.Literal('measurement', lang='en'), 1),\n",
       " (rdflib.term.Literal('stairs', lang='en'), 1),\n",
       " (rdflib.term.Literal('helical stairs', lang='en'), 1),\n",
       " (rdflib.term.Literal('revolving door', lang='en'), 1),\n",
       " (rdflib.term.Literal('climate change', lang='en'), 1),\n",
       " (rdflib.term.Literal('distance', lang='en'), 1),\n",
       " (rdflib.term.Literal('air conditioner', lang='en'), 1),\n",
       " (rdflib.term.Literal('thermal insulation material', lang='en'), 1),\n",
       " (rdflib.term.Literal('electricity', lang='en'), 1),\n",
       " (rdflib.term.Literal('water consumption', lang='en'), 1),\n",
       " (rdflib.term.Literal('gas meter', lang='en'), 1),\n",
       " (rdflib.term.Literal('smoke', lang='en'), 1),\n",
       " (rdflib.term.Literal('sandstone', lang='en'), 1),\n",
       " (rdflib.term.Literal('adhesive', lang='en'), 1),\n",
       " (rdflib.term.Literal('facility', lang='en'), 1),\n",
       " (rdflib.term.Literal('mechanical ventilation', lang='en'), 1),\n",
       " (rdflib.term.Literal('truss', lang='en'), 1),\n",
       " (rdflib.term.Literal('elevator', lang='en'), 1),\n",
       " (rdflib.term.Literal('combustion', lang='en'), 1),\n",
       " (rdflib.term.Literal('pump', lang='en'), 1),\n",
       " (rdflib.term.Literal('classification', lang='en'), 1),\n",
       " (rdflib.term.Literal('coping', lang='en'), 1),\n",
       " (rdflib.term.Literal('lintel', lang='en'), 1),\n",
       " (rdflib.term.Literal('laminate', lang='en'), 1),\n",
       " (rdflib.term.Literal('fiber-reinforced concrete', lang='en'), 1),\n",
       " (rdflib.term.Literal('lining', lang='en'), 1),\n",
       " (rdflib.term.Literal('solid fuel', lang='en'), 1),\n",
       " (rdflib.term.Literal('hot water', lang='en'), 1),\n",
       " (rdflib.term.Literal('natural ventilation', lang='en'), 1),\n",
       " (rdflib.term.Literal('sealant', lang='en'), 1),\n",
       " (rdflib.term.Literal('foyer', lang='en'), 1),\n",
       " (rdflib.term.Literal('polytetrafluoroethylene', lang='en'), 1),\n",
       " (rdflib.term.Literal('expansion joint', lang='en'), 1),\n",
       " (rdflib.term.Literal('screed', lang='en'), 1),\n",
       " (rdflib.term.Literal('polyethylene', lang='en'), 1),\n",
       " (rdflib.term.Literal('alabaster', lang='en'), 1),\n",
       " (rdflib.term.Literal('ETFE', lang='en'), 1),\n",
       " (rdflib.term.Literal('duct', lang='en'), 1),\n",
       " (rdflib.term.Literal('polyacrylonitrile', lang='en'), 1),\n",
       " (rdflib.term.Literal('polystyrene', lang='en'), 1),\n",
       " (rdflib.term.Literal('polyvinyl chloride', lang='en'), 1),\n",
       " (rdflib.term.Literal('solar power', lang='en'), 1),\n",
       " (rdflib.term.Literal('flat roof', lang='en'), 1),\n",
       " (rdflib.term.Literal('pine', lang='en'), 1),\n",
       " (rdflib.term.Literal('bathtub', lang='en'), 1),\n",
       " (rdflib.term.Literal('river', lang='en'), 1),\n",
       " (rdflib.term.Literal('rain gutter', lang='en'), 1),\n",
       " (rdflib.term.Literal('flue', lang='en'), 1),\n",
       " (rdflib.term.Literal('door frame', lang='en'), 1),\n",
       " (rdflib.term.Literal('boarding house', lang='en'), 1),\n",
       " (rdflib.term.Literal('foam board', lang='en'), 1),\n",
       " (rdflib.term.Literal('canopy', lang='en'), 1),\n",
       " (rdflib.term.Literal('radiator', lang='en'), 1),\n",
       " (rdflib.term.Literal('convection', lang='en'), 1),\n",
       " (rdflib.term.Literal('groundwater', lang='en'), 1),\n",
       " (rdflib.term.Literal('carpet', lang='en'), 1),\n",
       " (rdflib.term.Literal('eaves', lang='en'), 1),\n",
       " (rdflib.term.Literal('condensation', lang='en'), 1),\n",
       " (rdflib.term.Literal('greenhouse gas', lang='en'), 1),\n",
       " (rdflib.term.Literal('bitumen', lang='en'), 1),\n",
       " (rdflib.term.Literal('dexterity', lang='en'), 1),\n",
       " (rdflib.term.Literal('dolomite', lang='en'), 1),\n",
       " (rdflib.term.Literal('timber', lang='en'), 1),\n",
       " (rdflib.term.Literal('feldspar', lang='en'), 1),\n",
       " (rdflib.term.Literal('chimney', lang='en'), 1),\n",
       " (rdflib.term.Literal('balcony', lang='en'), 1),\n",
       " (rdflib.term.Literal('carriage bolt', lang='en'), 1),\n",
       " (rdflib.term.Literal('calcite', lang='en'), 1),\n",
       " (rdflib.term.Literal('stainless steel', lang='en'), 1),\n",
       " (rdflib.term.Literal('air conditioning', lang='en'), 1),\n",
       " (rdflib.term.Literal('paint', lang='en'), 1),\n",
       " (rdflib.term.Literal('millimetre', lang='en'), 1),\n",
       " (rdflib.term.Literal('membrane', lang='en'), 1),\n",
       " (rdflib.term.Literal('junction', lang='en'), 1),\n",
       " (rdflib.term.Literal('party wall', lang='en'), 1),\n",
       " (rdflib.term.Literal('blackwater', lang='en'), 1),\n",
       " (rdflib.term.Literal('composting toilet', lang='en'), 1),\n",
       " (rdflib.term.Literal('heat capacity', lang='en'), 1),\n",
       " (rdflib.term.Literal('heat transfer', lang='en'), 1),\n",
       " (rdflib.term.Literal('HVAC', lang='en'), 1),\n",
       " (rdflib.term.Literal('solar radiation', lang='en'), 1),\n",
       " (rdflib.term.Literal('onyx', lang='en'), 1),\n",
       " (rdflib.term.Literal('measurement method', lang='en'), 1),\n",
       " (rdflib.term.Literal('office', lang='en'), 1),\n",
       " (rdflib.term.Literal('crystalline silicon', lang='en'), 1),\n",
       " (rdflib.term.Literal('plumbing', lang='en'), 1),\n",
       " (rdflib.term.Literal('radiation', lang='en'), 1),\n",
       " (rdflib.term.Literal('architrave', lang='en'), 1),\n",
       " (rdflib.term.Literal('reinforced concrete', lang='en'), 1),\n",
       " (rdflib.term.Literal('biomass', lang='en'), 1),\n",
       " (rdflib.term.Literal('travertine', lang='en'), 1),\n",
       " (rdflib.term.Literal('thermostat', lang='en'), 1),\n",
       " (rdflib.term.Literal('apartment', lang='en'), 1),\n",
       " (rdflib.term.Literal('privacy', lang='en'), 1),\n",
       " (rdflib.term.Literal('heat exchanger', lang='en'), 1),\n",
       " (rdflib.term.Literal('turntable ladder', lang='en'), 1),\n",
       " (rdflib.term.Literal('foundation', lang='en'), 1),\n",
       " (rdflib.term.Literal('wheelchair', lang='en'), 1),\n",
       " (rdflib.term.Literal('electrical wiring', lang='en'), 1),\n",
       " (rdflib.term.Literal('thermal radiation', lang='en'), 1),\n",
       " (rdflib.term.Literal('proximity', lang='en'), 1),\n",
       " (rdflib.term.Literal('Limit', lang='en'), 1),\n",
       " (rdflib.term.Literal('scale', lang='en'), 1),\n",
       " (rdflib.term.Literal('bedroom', lang='en'), 1),\n",
       " (rdflib.term.Literal('transom', lang='en'), 1),\n",
       " (rdflib.term.Literal('illuminance', lang='en'), 1),\n",
       " (rdflib.term.Literal('lift', lang='en'), 1),\n",
       " (rdflib.term.Literal('pollutant', lang='en'), 1),\n",
       " (rdflib.term.Literal('glass wool', lang='en'), 1),\n",
       " (rdflib.term.Literal('carbon dioxide', lang='en'), 1),\n",
       " (rdflib.term.Literal('fastener', lang='en'), 1),\n",
       " (rdflib.term.Literal('laminate flooring', lang='en'), 1),\n",
       " (rdflib.term.Literal('conservatory', lang='en'), 1),\n",
       " (rdflib.term.Literal('furnace', lang='en'), 1),\n",
       " (rdflib.term.Literal('open space', lang='en'), 1),\n",
       " (rdflib.term.Literal('carbon monoxide', lang='en'), 1),\n",
       " (rdflib.term.Literal('mullion', lang='en'), 1),\n",
       " (rdflib.term.Literal('strut', lang='en'), 1),\n",
       " (rdflib.term.Literal('power supply', lang='en'), 1),\n",
       " (rdflib.term.Literal('ground floor', lang='en'), 1),\n",
       " (rdflib.term.Literal('slate', lang='en'), 1),\n",
       " (rdflib.term.Literal('deflection', lang='en'), 1),\n",
       " (rdflib.term.Literal('valve', lang='en'), 1),\n",
       " (rdflib.term.Literal('thermal energy', lang='en'), 1),\n",
       " (rdflib.term.Literal('asphalt shingle', lang='en'), 1),\n",
       " (rdflib.term.Literal('doorway', lang='en'), 1),\n",
       " (rdflib.term.Literal('shop', lang='en'), 1),\n",
       " (rdflib.term.Literal('exit sign', lang='en'), 1),\n",
       " (rdflib.term.Literal('storage space', lang='en'), 1),\n",
       " (rdflib.term.Literal('rainwater', lang='en'), 1),\n",
       " (rdflib.term.Literal('floor', lang='en'), 1),\n",
       " (rdflib.term.Literal('solar cell panel', lang='en'), 1),\n",
       " (rdflib.term.Literal('dressing room', lang='en'), 1),\n",
       " (rdflib.term.Literal('cogeneration', lang='en'), 1),\n",
       " (rdflib.term.Literal('frost damage', lang='en'), 1),\n",
       " (rdflib.term.Literal('protection', lang='en'), 1),\n",
       " (rdflib.term.Literal('hardwood', lang='en'), 1),\n",
       " (rdflib.term.Literal('garage', lang='en'), 1),\n",
       " (rdflib.term.Literal('tension', lang='en'), 1),\n",
       " (rdflib.term.Literal('corrective maintenance', lang='en'), 1),\n",
       " (rdflib.term.Literal('hard water', lang='en'), 1),\n",
       " (rdflib.term.Literal('stability', lang='en'), 1),\n",
       " (rdflib.term.Literal('layer', lang='en'), 1),\n",
       " (rdflib.term.Literal('limestone', lang='en'), 1),\n",
       " (rdflib.term.Literal('calcium carbonate', lang='en'), 1),\n",
       " (rdflib.term.Literal('quartzite', lang='en'), 1),\n",
       " (rdflib.term.Literal('carpet tile', lang='en'), 1),\n",
       " (rdflib.term.Literal('heating system', lang='en'), 1),\n",
       " (rdflib.term.Literal('cylinder', lang='en'), 1),\n",
       " (rdflib.term.Literal('latch', lang='en'), 1),\n",
       " (rdflib.term.Literal('softwood', lang='en'), 1),\n",
       " (rdflib.term.Literal('watt', lang='en'), 1),\n",
       " (rdflib.term.Literal('security', lang='en'), 1),\n",
       " (rdflib.term.Literal('ampere', lang='en'), 1),\n",
       " (rdflib.term.Literal('square metre', lang='en'), 1),\n",
       " (rdflib.term.Literal('cubic metre', lang='en'), 1),\n",
       " (rdflib.term.Literal('sulfate', lang='en'), 1),\n",
       " (rdflib.term.Literal('preventive maintenance', lang='en'), 1),\n",
       " (rdflib.term.Literal('Shop', lang='en'), 1),\n",
       " (rdflib.term.Literal('Storey', lang='en'), 1),\n",
       " (rdflib.term.Literal('Flats', lang='en'), 1),\n",
       " (rdflib.term.Literal('roof tile', lang='en'), 1),\n",
       " (rdflib.term.Literal('cold water', lang='en'), 1),\n",
       " (rdflib.term.Literal('skylight', lang='en'), 1),\n",
       " (rdflib.term.Literal('electric power', lang='en'), 1),\n",
       " (rdflib.term.Literal('masonry', lang='en'), 1),\n",
       " (rdflib.term.Literal('jamb', lang='en'), 1),\n",
       " (rdflib.term.Literal('plaster', lang='en'), 1),\n",
       " (rdflib.term.Literal('bamboo', lang='en'), 1),\n",
       " (rdflib.term.Literal('perlite', lang='en'), 1),\n",
       " (rdflib.term.Literal('water', lang='en'), 1),\n",
       " (rdflib.term.Literal('capacity', lang='en'), 1),\n",
       " (rdflib.term.Literal('wood', lang='en'), 1),\n",
       " (rdflib.term.Literal('alteration', lang='en'), 1),\n",
       " (rdflib.term.Literal('public building', lang='en'), 1),\n",
       " (rdflib.term.Literal('decay', lang='en'), 1),\n",
       " (rdflib.term.Literal('hotel', lang='en'), 1),\n",
       " (rdflib.term.Literal('CAD/CAM', lang='en'), 1),\n",
       " (rdflib.term.Literal('contaminant', lang='en'), 1),\n",
       " (rdflib.term.Literal('stack', lang='en'), 1),\n",
       " (rdflib.term.Literal('anchor bolt', lang='en'), 1),\n",
       " (rdflib.term.Literal('fire safety', lang='en'), 1),\n",
       " (rdflib.term.Literal('load', lang='en'), 1),\n",
       " (rdflib.term.Literal('shielding', lang='en'), 1),\n",
       " (rdflib.term.Literal('vestibule', lang='en'), 1),\n",
       " (rdflib.term.Literal('horizontal structural element', lang='en'), 1),\n",
       " (rdflib.term.Literal('carbon monoxide detector', lang='en'), 1),\n",
       " (rdflib.term.Literal('courtyard', lang='en'), 1),\n",
       " (rdflib.term.Literal('boiler', lang='en'), 1),\n",
       " (rdflib.term.Literal('acrylic acid', lang='en'), 1),\n",
       " (rdflib.term.Literal('tread', lang='en'), 1),\n",
       " (rdflib.term.Literal('kilowatt', lang='en'), 1),\n",
       " (rdflib.term.Literal('safety glass', lang='en'), 1),\n",
       " (rdflib.term.Literal('wastewater', lang='en'), 1),\n",
       " (rdflib.term.Literal('bronze', lang='en'), 1),\n",
       " (rdflib.term.Literal('trapping', lang='en'), 1),\n",
       " (rdflib.term.Literal('exit', lang='en'), 1),\n",
       " (rdflib.term.Literal('soffit', lang='en'), 1),\n",
       " (rdflib.term.Literal('historic building', lang='en'), 1),\n",
       " (rdflib.term.Literal('liquefied petroleum gas', lang='en'), 1),\n",
       " (rdflib.term.Literal('window', lang='en'), 1),\n",
       " (rdflib.term.Literal('heater', lang='en'), 1),\n",
       " (rdflib.term.Literal('thermal transmittance', lang='en'), 1),\n",
       " (rdflib.term.Literal('appearance', lang='en'), 1),\n",
       " (rdflib.term.Literal('operation', lang='en'), 1),\n",
       " (rdflib.term.Literal('ozone', lang='en'), 1),\n",
       " (rdflib.term.Literal('foot', lang='en'), 1),\n",
       " (rdflib.term.Literal('bidet', lang='en'), 1),\n",
       " (rdflib.term.Literal('methane', lang='en'), 1),\n",
       " (rdflib.term.Literal('certification', lang='en'), 1),\n",
       " (rdflib.term.Literal('alloy', lang='en'), 1),\n",
       " (rdflib.term.Literal('sash', lang='en'), 1),\n",
       " (rdflib.term.Literal('energy conservation', lang='en'), 1),\n",
       " (rdflib.term.Literal('thermoplastic', lang='en'), 1),\n",
       " (rdflib.term.Literal('gas appliance', lang='en'), 1),\n",
       " (rdflib.term.Literal('entrance hall', lang='en'), 1),\n",
       " (rdflib.term.Literal('cooling', lang='en'), 1),\n",
       " (rdflib.term.Literal('brass', lang='en'), 1),\n",
       " (rdflib.term.Literal('hopper', lang='en'), 1),\n",
       " (rdflib.term.Literal('solar energy', lang='en'), 1),\n",
       " (rdflib.term.Literal('natural gas', lang='en'), 1),\n",
       " (rdflib.term.Literal('marble', lang='en'), 1),\n",
       " (rdflib.term.Literal('fire protection', lang='en'), 1),\n",
       " (rdflib.term.Literal('gram', lang='en'), 1),\n",
       " (rdflib.term.Literal('igneous rock', lang='en'), 1),\n",
       " (rdflib.term.Literal('clay', lang='en'), 1),\n",
       " (rdflib.term.Literal('quartz', lang='en'), 1),\n",
       " (rdflib.term.Literal('heating', lang='en'), 1),\n",
       " (rdflib.term.Literal('insurance', lang='en'), 1),\n",
       " (rdflib.term.Literal('basalt', lang='en'), 1),\n",
       " (rdflib.term.Literal('plain tile', lang='en'), 1),\n",
       " (rdflib.term.Literal('heat', lang='en'), 1),\n",
       " (rdflib.term.Literal('chloride', lang='en'), 1),\n",
       " (rdflib.term.Literal('cement', lang='en'), 1),\n",
       " (rdflib.term.Literal('fabric', lang='en'), 1),\n",
       " (rdflib.term.Literal('tile', lang='en'), 1),\n",
       " (rdflib.term.Literal('damp', lang='en'), 1),\n",
       " (rdflib.term.Literal('metamorphic rock', lang='en'), 1),\n",
       " (rdflib.term.Literal('ohm', lang='en'), 1),\n",
       " (rdflib.term.Literal('protected area', lang='en'), 1),\n",
       " (rdflib.term.Literal('reduction', lang='en'), 1),\n",
       " (rdflib.term.Literal('living room', lang='en'), 1),\n",
       " (rdflib.term.Literal('sandwich panel', lang='en'), 1),\n",
       " (rdflib.term.Literal('Automatic', lang='en'), 1),\n",
       " (rdflib.term.Literal('cast iron', lang='en'), 1),\n",
       " (rdflib.term.Literal('back garden', lang='en'), 1),\n",
       " (rdflib.term.Literal('lumen', lang='en'), 1),\n",
       " (rdflib.term.Literal('green roof', lang='en'), 1),\n",
       " (rdflib.term.Literal('meter', lang='en'), 1),\n",
       " (rdflib.term.Literal('glue', lang='en'), 1),\n",
       " (rdflib.term.Literal('vinyl', lang='en'), 1),\n",
       " (rdflib.term.Literal('casing', lang='en'), 1),\n",
       " (rdflib.term.Literal('ferrite', lang='en'), 1),\n",
       " (rdflib.term.Literal('convenience', lang='en'), 1),\n",
       " (rdflib.term.Literal('partition', lang='en'), 1),\n",
       " (rdflib.term.Literal('manhole', lang='en'), 1),\n",
       " (rdflib.term.Literal('picowatt', lang='en'), 1),\n",
       " (rdflib.term.Literal('nanowatt', lang='en'), 1),\n",
       " (rdflib.term.Literal('LPG', lang='en'), 1),\n",
       " (rdflib.term.Literal('adjacent', lang='en'), 1),\n",
       " (rdflib.term.Literal('product', lang='en'), 1),\n",
       " (rdflib.term.Literal('daylighting', lang='en'), 1),\n",
       " (rdflib.term.Literal('fascia', lang='en'), 1),\n",
       " (rdflib.term.Literal('Provide', lang='en'), 1),\n",
       " (rdflib.term.Literal('flame spread', lang='en'), 1),\n",
       " (rdflib.term.Literal('floor area', lang='en'), 1),\n",
       " (rdflib.term.Literal('ceramic tile', lang='en'), 1),\n",
       " (rdflib.term.Literal('air quality', lang='en'), 1),\n",
       " (rdflib.term.Literal('smoke detector', lang='en'), 1),\n",
       " (rdflib.term.Literal('bicarbonate', lang='en'), 1),\n",
       " (rdflib.term.Literal('conditioned space', lang='en'), 1),\n",
       " (rdflib.term.Literal('conveyor system', lang='en'), 1),\n",
       " (rdflib.term.Literal('water reuse', lang='en'), 1),\n",
       " (rdflib.term.Literal('gigawatt', lang='en'), 1),\n",
       " (rdflib.term.Literal('ridge tile', lang='en'), 1),\n",
       " (rdflib.term.Literal('Access', lang='en'), 1),\n",
       " (rdflib.term.Literal('planned maintenance', lang='en'), 1),\n",
       " (rdflib.term.Literal('noise barrier', lang='en'), 1),\n",
       " (rdflib.term.Literal('dwelling house', lang='en'), 1),\n",
       " (rdflib.term.Literal('mineral wool', lang='en'), 1),\n",
       " (rdflib.term.Literal('electricity meter', lang='en'), 1),\n",
       " (rdflib.term.Literal('carbon', lang='en'), 1),\n",
       " (rdflib.term.Literal('workplace', lang='en'), 1),\n",
       " (rdflib.term.Literal('fire hydrant', lang='en'), 1),\n",
       " (rdflib.term.Literal('heat transfer coefficient', lang='en'), 1),\n",
       " (rdflib.term.Literal('corner', lang='en'), 1),\n",
       " (rdflib.term.Literal('glued laminated timber', lang='en'), 1),\n",
       " (rdflib.term.Literal('flashing', lang='en'), 1),\n",
       " (rdflib.term.Literal('commercial building', lang='en'), 1),\n",
       " (rdflib.term.Literal('tap', lang='en'), 1),\n",
       " (rdflib.term.Literal('veneer', lang='en'), 1),\n",
       " (rdflib.term.Literal('thermal expansion', lang='en'), 1),\n",
       " (rdflib.term.Literal('joist', lang='en'), 1),\n",
       " (rdflib.term.Literal('artificial lighting', lang='en'), 1),\n",
       " (rdflib.term.Literal('aluminium', lang='en'), 1),\n",
       " (rdflib.term.Literal('air pressure', lang='en'), 1),\n",
       " (rdflib.term.Literal('megawatt', lang='en'), 1),\n",
       " (rdflib.term.Literal('accreditation', lang='en'), 1),\n",
       " (rdflib.term.Literal('calcium', lang='en'), 1),\n",
       " (rdflib.term.Literal('occupancy', lang='en'), 1),\n",
       " (rdflib.term.Literal('titanium', lang='en'), 1),\n",
       " (rdflib.term.Literal('circuit', lang='en'), 1),\n",
       " (rdflib.term.Literal('drywall', lang='en'), 1),\n",
       " (rdflib.term.Literal('resistance', lang='en'), 1),\n",
       " (rdflib.term.Literal('nickel', lang='en'), 1),\n",
       " (rdflib.term.Literal('limescale', lang='en'), 1),\n",
       " (rdflib.term.Literal('shale', lang='en'), 1),\n",
       " (rdflib.term.Literal('surface water', lang='en'), 1),\n",
       " (rdflib.term.Literal('copper', lang='en'), 1),\n",
       " (rdflib.term.Literal('solar', lang='en'), 1),\n",
       " (rdflib.term.Literal('zinc', lang='en'), 1),\n",
       " (rdflib.term.Literal('tank', lang='en'), 1),\n",
       " (rdflib.term.Literal('solar panel', lang='en'), 1),\n",
       " (rdflib.term.Literal('expansion tank', lang='en'), 1),\n",
       " (rdflib.term.Literal('universal design', lang='en'), 1),\n",
       " (rdflib.term.Literal('shower', lang='en'), 1),\n",
       " (rdflib.term.Literal('drinking water', lang='en'), 1),\n",
       " (rdflib.term.Literal('balustrade', lang='en'), 1),\n",
       " (rdflib.term.Literal('mineral', lang='en'), 1),\n",
       " (rdflib.term.Literal('water efficiency', lang='en'), 1),\n",
       " (rdflib.term.Literal('water storage', lang='en'), 1),\n",
       " (rdflib.term.Literal('ridge', lang='en'), 1),\n",
       " (rdflib.term.Literal('wind', lang='en'), 1),\n",
       " (rdflib.term.Literal('atmosphere', lang='en'), 1),\n",
       " (rdflib.term.Literal('polymer', lang='en'), 1),\n",
       " (rdflib.term.Literal('structural element', lang='en'), 1),\n",
       " (rdflib.term.Literal('ventilator', lang='en'), 1),\n",
       " (rdflib.term.Literal('porch', lang='en'), 1),\n",
       " (rdflib.term.Literal('sort', lang='en'), 1),\n",
       " (rdflib.term.Literal('friction', lang='en'), 1),\n",
       " (rdflib.term.Literal('gypsum', lang='en'), 1),\n",
       " (rdflib.term.Literal('kilometre', lang='en'), 1),\n",
       " (rdflib.term.Literal('local authority', lang='en'), 1),\n",
       " (rdflib.term.Literal('cistern', lang='en'), 1),\n",
       " (rdflib.term.Literal('bungalow', lang='en'), 1),\n",
       " (rdflib.term.Literal('birch', lang='en'), 1),\n",
       " (rdflib.term.Literal('terrace house', lang='en'), 1),\n",
       " (rdflib.term.Literal('value', lang='en'), 1),\n",
       " (rdflib.term.Literal('firefighting', lang='en'), 1),\n",
       " (rdflib.term.Literal('fire door', lang='en'), 1),\n",
       " (rdflib.term.Literal('polycrystalline', lang='en'), 1),\n",
       " (rdflib.term.Literal('sealing', lang='en'), 1),\n",
       " (rdflib.term.Literal('diffuser', lang='en'), 1),\n",
       " (rdflib.term.Literal('nitrous oxide', lang='en'), 1),\n",
       " (rdflib.term.Literal('fastening', lang='en'), 1),\n",
       " (rdflib.term.Literal('thermal insulation', lang='en'), 1),\n",
       " (rdflib.term.Literal('noise pollution', lang='en'), 1),\n",
       " (rdflib.term.Literal('lifting device', lang='en'), 1),\n",
       " (rdflib.term.Literal('slab', lang='en'), 1),\n",
       " (rdflib.term.Literal('cloakroom', lang='en'), 1),\n",
       " (rdflib.term.Literal('chemical toilet', lang='en'), 1),\n",
       " (rdflib.term.Literal('redwood', lang='en'), 1),\n",
       " (rdflib.term.Literal('sex bolt', lang='en'), 1)]"
      ]
     },
     "execution_count": 11,
     "metadata": {},
     "output_type": "execute_result"
    }
   ],
   "source": [
    "Counter({k: len(v) for k, v in concept_labels_with_definitions.items()}).most_common()"
   ]
  },
  {
   "cell_type": "markdown",
   "id": "4fd1bc3e",
   "metadata": {},
   "source": [
    "* next check overall nr of concepts in graph"
   ]
  },
  {
   "cell_type": "code",
   "execution_count": 12,
   "id": "ddd8bedd",
   "metadata": {},
   "outputs": [],
   "source": [
    "unique_concepts_query = \"\"\"\n",
    "PREFIX rdfs: <http://www.w3.org/2000/01/rdf-schema#>\n",
    "PREFIX rdf: <http://www.w3.org/1999/02/22-rdf-syntax-ns#>\n",
    "PREFIX irec: <https://schema.irec.org/#>\n",
    "\n",
    "SELECT DISTINCT ?nodeUID ?label WHERE {  \n",
    "        ?nodeUID a skos:Concept ;\n",
    "                 skos:prefLabel ?label .\n",
    "        VALUES (?label) {(UNDEF)}\n",
    "} GROUP BY ?nodeUID ?label\n",
    "\n",
    "\"\"\"\n",
    "sparql_result = irec_graph.query(unique_concepts_query)"
   ]
  },
  {
   "cell_type": "code",
   "execution_count": 13,
   "id": "c0d6a332",
   "metadata": {},
   "outputs": [],
   "source": [
    "concepts = {}\n",
    "for r in sparql_result:\n",
    "    concept_node = r['nodeUID'] \n",
    "    if concept_node not in concepts:\n",
    "        concepts[concept_node] = [r['label']]\n",
    "    else:\n",
    "        concepts[concept_node].append(r['label'])"
   ]
  },
  {
   "cell_type": "code",
   "execution_count": 14,
   "id": "378ab808",
   "metadata": {},
   "outputs": [
    {
     "data": {
      "text/plain": [
       "1916"
      ]
     },
     "execution_count": 14,
     "metadata": {},
     "output_type": "execute_result"
    }
   ],
   "source": [
    "concept_cnt = Counter({str(k): len(v) for k, v in concepts.items()})\n",
    "len(concept_cnt)"
   ]
  },
  {
   "cell_type": "code",
   "execution_count": 15,
   "id": "ea18662e",
   "metadata": {},
   "outputs": [],
   "source": [
    "# not taking into account alternative labels\n",
    "concept_labels = {}\n",
    "for r in sparql_result:\n",
    "    concept_node = r['label'] \n",
    "    if concept_node not in concept_labels:\n",
    "        concept_labels[concept_node] = [r['nodeUID']]\n",
    "    else:\n",
    "        concept_labels[concept_node].append(r['nodeUID'])"
   ]
  },
  {
   "cell_type": "code",
   "execution_count": 16,
   "id": "4ad94fa4",
   "metadata": {},
   "outputs": [
    {
     "data": {
      "text/plain": [
       "1441"
      ]
     },
     "execution_count": 16,
     "metadata": {},
     "output_type": "execute_result"
    }
   ],
   "source": [
    "concept_label_cnt = Counter({str(k): len(v) for k, v in concept_labels.items()})\n",
    "len(concept_label_cnt)"
   ]
  },
  {
   "cell_type": "code",
   "execution_count": 17,
   "id": "398f663f",
   "metadata": {},
   "outputs": [
    {
     "data": {
      "text/plain": [
       "False"
      ]
     },
     "execution_count": 17,
     "metadata": {},
     "output_type": "execute_result"
    }
   ],
   "source": [
    "x = [1,2,3,4]\n",
    "any([v for v in x if v == 5])"
   ]
  },
  {
   "cell_type": "code",
   "execution_count": 18,
   "id": "38e194d4",
   "metadata": {},
   "outputs": [
    {
     "name": "stdout",
     "output_type": "stream",
     "text": [
      "number of nodes:  295\n",
      "number of labels:  295\n"
     ]
    }
   ],
   "source": [
    "# nr Merged Approved documents\n",
    "print(\"number of nodes: \", len([k for k, v in concepts.items() if \"irec\" in k]))\n",
    "print(\"number of labels: \", len([k for k, v in concept_labels.items() if any([n for n in v if \"irec\" in n])]))"
   ]
  },
  {
   "cell_type": "code",
   "execution_count": 19,
   "id": "7ac00d49",
   "metadata": {},
   "outputs": [
    {
     "name": "stdout",
     "output_type": "stream",
     "text": [
      "number of nodes:  598\n",
      "number of labels:  580\n"
     ]
    }
   ],
   "source": [
    "# nr uniclass, expecting 598 nodes ~ less labels mean some unique UID nodes have the same label\n",
    "print(\"number of nodes: \", len([k for k, v in concepts.items() if \"uniclass\" in k]))\n",
    "print(\"number of labels: \", len([k for k, v in concept_labels.items() if any([n for n in v if \"uniclass\" in n])]))"
   ]
  },
  {
   "cell_type": "code",
   "execution_count": 20,
   "id": "9e8ff825",
   "metadata": {},
   "outputs": [
    {
     "name": "stdout",
     "output_type": "stream",
     "text": [
      "number of nodes:  1023\n",
      "number of labels:  645\n"
     ]
    }
   ],
   "source": [
    "# nr wiki ~ less labels mean some unique UID nodes have the same label\n",
    "print(\"number of nodes: \", len([k for k, v in concepts.items() if \"wiki\" in k]))\n",
    "print(\"number of labels: \", len([k for k, v in concept_labels.items() if any([n for n in v if \"wiki\" in n])]))"
   ]
  },
  {
   "cell_type": "code",
   "execution_count": 21,
   "id": "d0f9e113",
   "metadata": {},
   "outputs": [],
   "source": [
    "# any overlap? \n",
    "irec_keys = [k for k in concepts if \"irec\" in k]\n",
    "unic_keys = [k for k in concepts if \"uniclass\" in k]\n",
    "wiki_keys = [k for k in concepts if \"wiki\" in k]"
   ]
  },
  {
   "cell_type": "code",
   "execution_count": 22,
   "id": "dd8ae91b",
   "metadata": {},
   "outputs": [],
   "source": [
    "def check_overlap(keys_one, keys_two, concepts=concepts):\n",
    "    overlap = []\n",
    "    for k1 in keys_one:\n",
    "        for k2 in keys_two:\n",
    "            for label in concepts[k1]:\n",
    "                if label in concepts[k2]:\n",
    "                    overlap.append(label)\n",
    "    return overlap"
   ]
  },
  {
   "cell_type": "code",
   "execution_count": 23,
   "id": "9f43b5d2",
   "metadata": {},
   "outputs": [
    {
     "name": "stdout",
     "output_type": "stream",
     "text": [
      "irec <--> wiki (overlap unique) 62 90\n",
      "irec <--> uniclass: 0 0\n",
      "uniclass <--> wiki: 17 96\n"
     ]
    }
   ],
   "source": [
    "print(\"irec <--> wiki (overlap unique)\", len(list(set(check_overlap(irec_keys, wiki_keys)))), len(check_overlap(irec_keys, wiki_keys)))\n",
    "print(\"irec <--> uniclass:\", len(list(set(check_overlap(irec_keys, unic_keys)))), len(check_overlap(irec_keys, unic_keys)))\n",
    "print(\"uniclass <--> wiki:\", len(list(set(check_overlap(unic_keys, wiki_keys)))), len(check_overlap(unic_keys, wiki_keys)))"
   ]
  },
  {
   "cell_type": "markdown",
   "id": "0cd28e42",
   "metadata": {},
   "source": [
    "* what are the concepts without definitions?"
   ]
  },
  {
   "cell_type": "code",
   "execution_count": 24,
   "id": "f41b282f",
   "metadata": {},
   "outputs": [
    {
     "name": "stdout",
     "output_type": "stream",
     "text": [
      "Nr of defined concepts:  1315\n",
      "Nr of defined MAD nodes:  295\n",
      "Nr of defined UNICLASS nodes:  27\n",
      "Nr of defined WIKI nodes:  993\n"
     ]
    }
   ],
   "source": [
    "print(\"Nr of defined concepts: \", len(concepts_with_definitions))\n",
    "print(\"Nr of defined MAD nodes: \", len([k for k in concepts_with_definitions if \"irec\" in k]))\n",
    "print(\"Nr of defined UNICLASS nodes: \", len([k for k in concepts_with_definitions if \"uniclass\" in k]))\n",
    "print(\"Nr of defined WIKI nodes: \", len([k for k in concepts_with_definitions if \"wiki\" in k]))"
   ]
  },
  {
   "cell_type": "code",
   "execution_count": 25,
   "id": "84dd75f5",
   "metadata": {},
   "outputs": [],
   "source": [
    "concept_labels_without_definitions = {}\n",
    "for r in sparql_result:\n",
    "    concept_node = r['label'] \n",
    "    if concept_node not in concept_labels_without_definitions:\n",
    "        concept_labels_without_definitions[concept_node] = [r['nodeUID']]\n",
    "    else:\n",
    "        concept_labels_without_definitions[concept_node].append(r['nodeUID'])"
   ]
  },
  {
   "cell_type": "code",
   "execution_count": 26,
   "id": "97dfd640",
   "metadata": {},
   "outputs": [],
   "source": [
    "undefined_concepts_query = \"\"\"\n",
    "PREFIX rdfs: <http://www.w3.org/2000/01/rdf-schema#>\n",
    "PREFIX rdf: <http://www.w3.org/1999/02/22-rdf-syntax-ns#>\n",
    "PREFIX irec: <https://schema.irec.org/#>\n",
    "PREFIX skos: <http://www.w3.org/2004/02/skos/core#>\n",
    "\n",
    "\n",
    "SELECT DISTINCT ?nodeUID ?label WHERE {  \n",
    "        ?nodeUID a skos:Concept ;\n",
    "                 skos:prefLabel ?label .\n",
    "                 \n",
    "    FILTER NOT EXISTS {?nodeUID skos:definition|^skos:exactMatch/irec:wikiDefinition ?definition .}\n",
    "} GROUP BY ?nodeUID ?label\n",
    "\n",
    "\"\"\"\n",
    "sparql_result = irec_graph.query(undefined_concepts_query)"
   ]
  },
  {
   "cell_type": "code",
   "execution_count": 27,
   "id": "46631c11",
   "metadata": {},
   "outputs": [],
   "source": [
    "concepts_without_definitions = {}\n",
    "for r in sparql_result:\n",
    "    concept_node = r['nodeUID'] \n",
    "    if concept_node not in concepts_without_definitions:\n",
    "        concepts_without_definitions[concept_node] = [r['label']]\n",
    "    else:\n",
    "        concepts_without_definitions[concept_node].append(r['label'])"
   ]
  },
  {
   "cell_type": "code",
   "execution_count": 28,
   "id": "0d297095",
   "metadata": {},
   "outputs": [
    {
     "name": "stdout",
     "output_type": "stream",
     "text": [
      "Nr of undefined concepts:  601\n",
      "Nr of undefined MAD nodes:  0\n",
      "Nr of undefined UNICLASS nodes:  571\n",
      "Nr of undefined WIKI nodes:  30\n"
     ]
    }
   ],
   "source": [
    "print(\"Nr of undefined concepts: \", len(concepts_without_definitions))\n",
    "print(\"Nr of undefined MAD nodes: \", len([k for k in concepts_without_definitions if \"irec\" in k]))\n",
    "print(\"Nr of undefined UNICLASS nodes: \", len([k for k in concepts_without_definitions if \"uniclass\" in k]))\n",
    "print(\"Nr of undefined WIKI nodes: \", len([k for k in concepts_without_definitions if \"wiki\" in k]))"
   ]
  },
  {
   "cell_type": "code",
   "execution_count": 29,
   "id": "34a18975",
   "metadata": {},
   "outputs": [],
   "source": [
    "concept_labels_without_definitions = {}\n",
    "for r in sparql_result:\n",
    "    concept_node = r['label'] \n",
    "    if concept_node not in concept_labels_without_definitions:\n",
    "        concept_labels_without_definitions[concept_node] = [r['nodeUID']]\n",
    "    else:\n",
    "        concept_labels_without_definitions[concept_node].append(r['nodeUID'])"
   ]
  },
  {
   "cell_type": "code",
   "execution_count": 30,
   "id": "63002c92",
   "metadata": {},
   "outputs": [
    {
     "data": {
      "text/plain": [
       "581"
      ]
     },
     "execution_count": 30,
     "metadata": {},
     "output_type": "execute_result"
    }
   ],
   "source": [
    "undefined_concept_cnt = Counter({str(k): len(v) for k, v in concept_labels_without_definitions.items()})\n",
    "len(undefined_concept_cnt)"
   ]
  },
  {
   "cell_type": "code",
   "execution_count": 31,
   "id": "5c623122",
   "metadata": {},
   "outputs": [
    {
     "name": "stdout",
     "output_type": "stream",
     "text": [
      "7\n",
      "['floating floor', 'low voltage', 'sound reduction index', 'wheelchair accessible', 'building work', 'dead load', 'domestic hot water']\n"
     ]
    }
   ],
   "source": [
    "# concept where one label has a definition, and another doesn't\n",
    "defined_and_not_defined = [str(label) for label in concept_labels_with_definitions if label in concept_labels_without_definitions]\n",
    "print(len(defined_and_not_defined))\n",
    "print(defined_and_not_defined)"
   ]
  },
  {
   "cell_type": "code",
   "execution_count": 32,
   "id": "6ea78f01",
   "metadata": {},
   "outputs": [],
   "source": [
    "# how many altLabels overlap?\n",
    "altlabel_query = \"\"\"\n",
    "PREFIX rdfs: <http://www.w3.org/2000/01/rdf-schema#>\n",
    "PREFIX rdf: <http://www.w3.org/1999/02/22-rdf-syntax-ns#>\n",
    "PREFIX irec: <https://schema.irec.org/#>\n",
    "\n",
    "SELECT DISTINCT ?nodeUID ?label WHERE {  \n",
    "        ?nodeUID a skos:Concept ;\n",
    "                 skos:altLabel ?label .\n",
    "        VALUES (?label) {(UNDEF)}\n",
    "} GROUP BY ?nodeUID ?label\n",
    "\n",
    "\"\"\"\n",
    "sparql_result = irec_graph.query(altlabel_query)"
   ]
  },
  {
   "cell_type": "code",
   "execution_count": 33,
   "id": "9ef99f7b",
   "metadata": {},
   "outputs": [],
   "source": [
    "altlabels = {}\n",
    "for r in sparql_result:\n",
    "    altlabel = r['label'] \n",
    "    if altlabel not in altlabels:\n",
    "        altlabels[altlabel] = [r['nodeUID']]\n",
    "    else:\n",
    "        altlabels[altlabel].append(r['nodeUID'])"
   ]
  },
  {
   "cell_type": "code",
   "execution_count": 34,
   "id": "817e77d5",
   "metadata": {},
   "outputs": [
    {
     "data": {
      "text/plain": [
       "55"
      ]
     },
     "execution_count": 34,
     "metadata": {},
     "output_type": "execute_result"
    }
   ],
   "source": [
    "len(altlabels)"
   ]
  },
  {
   "cell_type": "code",
   "execution_count": 35,
   "id": "78ccb093",
   "metadata": {},
   "outputs": [
    {
     "data": {
      "text/plain": [
       "[rdflib.term.Literal('compartment wall', lang='en'),\n",
       " rdflib.term.Literal('BSI', lang='en'),\n",
       " rdflib.term.Literal('staircase', lang='en'),\n",
       " rdflib.term.Literal('common area', lang='en'),\n",
       " rdflib.term.Literal('building site', lang='en'),\n",
       " rdflib.term.Literal('gross floor area', lang='en'),\n",
       " rdflib.term.Literal('stairs', lang='en'),\n",
       " rdflib.term.Literal('pissoir', lang='en'),\n",
       " rdflib.term.Literal('balcony', lang='en'),\n",
       " rdflib.term.Literal('skylight', lang='en')]"
      ]
     },
     "execution_count": 35,
     "metadata": {},
     "output_type": "execute_result"
    }
   ],
   "source": [
    "altlabels_with_corresponding_concept_node = [k for k in concept_labels.keys() if k in altlabels]\n",
    "len(altlabels_with_corresponding_concept_node)\n",
    "altlabels_with_corresponding_concept_node"
   ]
  },
  {
   "cell_type": "code",
   "execution_count": 36,
   "id": "c88776aa",
   "metadata": {},
   "outputs": [
    {
     "name": "stdout",
     "output_type": "stream",
     "text": [
      "Nr of altlabels with corresponding nodes:  10\n",
      "Nr altlabels corresponding to MAD nodes:  1\n",
      "Nr altlabels corresponding to UNICLASS nodes:  0\n",
      "Nr altlabels corresponding to WIKI nodes:  9\n"
     ]
    }
   ],
   "source": [
    "print(\"Nr of altlabels with corresponding nodes: \", len(altlabels_with_corresponding_concept_node))\n",
    "print(\"Nr altlabels corresponding to MAD nodes: \", \n",
    "      len([k for k in altlabels_with_corresponding_concept_node if any([n for n in concept_labels[k] if \"irec\" in n])]))\n",
    "print(\"Nr altlabels corresponding to UNICLASS nodes: \", \n",
    "      len([k for k in altlabels_with_corresponding_concept_node if any([n for n in concept_labels[k] if \"uniclass\" in n])]))\n",
    "print(\"Nr altlabels corresponding to WIKI nodes: \", \n",
    "      len([k for k in altlabels_with_corresponding_concept_node if any([n for n in concept_labels[k] if \"wiki\" in n])]))"
   ]
  },
  {
   "cell_type": "markdown",
   "id": "9100d4be",
   "metadata": {},
   "source": [
    "### 2. Combine SPARQL and graph computations"
   ]
  },
  {
   "cell_type": "markdown",
   "id": "35c98459",
   "metadata": {},
   "source": [
    "<div class=\"alert alert-block alert-info\">\n",
    "To compute graph-based measures, we will create a weighted graph based on the types of relations we find in the KG.\n",
    "</div>"
   ]
  },
  {
   "cell_type": "code",
   "execution_count": 37,
   "id": "6d2e3558",
   "metadata": {},
   "outputs": [],
   "source": [
    "def get_single_type_edges(graph: Graph, edge_type: str = \"irec:related\"):\n",
    "    \"\"\"\n",
    "        Helper method to grab all the subject-object pairs for a specific type of edge.\n",
    "        Notably, we do not take the direction of a relation into account for now. Relations that exist between\n",
    "        A -> B and B -> A are currenlty counted twice.\n",
    "    \"\"\"\n",
    "    test_query = \"\"\"\n",
    "    prefix rdfs: <http://www.w3.org/2000/01/rdf-schema#>\n",
    "    prefix irec: <https://schema.irec.org/#>\n",
    "    prefix skos: <http://www.w3.org/2004/02/skos/core#>\n",
    "\n",
    "    SELECT DISTINCT ?subject ?object ?subject_is_concept\n",
    "    WHERE {\n",
    "        ?subject_node PREDICATE|^PREDICATE ?object_node .\n",
    "        ?subject_node rdfs:label ?subject .\n",
    "        ?object_node rdfs:label|skos:prefLabel ?object . \n",
    "        \n",
    "        OPTIONAL {?subject_node skos:exactMatch ?concept}\n",
    "        BIND (EXISTS{?subject_node skos:exactMatch ?concept} AS ?has_exact_match)\n",
    "        BIND (IF(?has_exact_match, \"true\", \"false\") AS ?subject_is_concept)\n",
    "    }\n",
    "    \n",
    "    \"\"\".replace(\"PREDICATE\", edge_type)\n",
    "    return graph.query(test_query)"
   ]
  },
  {
   "cell_type": "markdown",
   "id": "ae7a0a5a",
   "metadata": {},
   "source": [
    "**Community detection**; we're trying to find groups of closely connected nodes, we'll use the Louvain method to compute a bottom-up grouping of connected nodes.\n",
    "\n",
    "First, compute all the combined distances between pairs of spans:\n",
    "1. The weights will actually be distances, so a high value is less related (rather than what you might expect for a weight)\n",
    "2. For each span-span combination, the maximum distance is that of the sum of all weights. \n",
    "3. If the span-span combination occurs in multiple relations, then the corresponding weight is detracted from the max distance.\n",
    "  * So a span-span pair that is often related ends up with a small distance."
   ]
  },
  {
   "cell_type": "code",
   "execution_count": 38,
   "id": "9ce6669a",
   "metadata": {},
   "outputs": [],
   "source": [
    "edge_types = [\n",
    "    \"irec:definitionRelation\",             # related through occurence in definition\n",
    "    \"irec:constitutes\",                    # exact word overlap\n",
    "    \"irec:isMorphologicallySimilarTo\",     # similar words\n",
    "    \"irec:isSemanticallySimilarTo\",        # similar contexts\n",
    "    \"irec:related\",                        # manually grabbed from Approved documents indices\n",
    "    \"irec:hasAcronym\",                     # acronyms are naive or index based, not very important \n",
    "    \"irec:hasAntonym\",                     # overlapping except for antonym\n",
    "] "
   ]
  },
  {
   "cell_type": "code",
   "execution_count": 39,
   "id": "ebd4a97f",
   "metadata": {},
   "outputs": [
    {
     "data": {
      "text/plain": [
       "21"
      ]
     },
     "execution_count": 39,
     "metadata": {},
     "output_type": "execute_result"
    }
   ],
   "source": [
    "edge_weights = [\n",
    "    5,                   # related through occurence in definition\n",
    "    1,                    # exact word overlap\n",
    "    1,                    # similar words\n",
    "    1,                    # similar contexts\n",
    "    1,                    # manually grabbed from Approved documents indices\n",
    "    1,                    # acronyms are naive or index based, not very important \n",
    "    -1,                   # overlapping except for antonym\n",
    "] \n",
    "exactMatch_weight = 1     # adjusts weight when either of the span nodes correspond to a concept\n",
    "\n",
    "maximum_distance = 2 * sum(i for i in edge_weights if i > 0) + exactMatch_weight\n",
    "maximum_distance "
   ]
  },
  {
   "cell_type": "code",
   "execution_count": 40,
   "id": "a1ac1734",
   "metadata": {},
   "outputs": [
    {
     "name": "stdout",
     "output_type": "stream",
     "text": [
      "Working on irec:definitionRelation: 5\n",
      "Working on irec:constitutes: 1\n",
      "Working on irec:isMorphologicallySimilarTo: 1\n",
      "Working on irec:isSemanticallySimilarTo: 1\n",
      "Working on irec:related: 1\n",
      "Working on irec:hasAcronym: 1\n",
      "Working on irec:hasAntonym: -1\n"
     ]
    }
   ],
   "source": [
    "# we're planning to create an undirectional, weighted graph\n",
    "distance_dict = {}\n",
    "subjects_that_are_concepts = []\n",
    "for edge_type, edge_weight in zip(edge_types, edge_weights):\n",
    "    print(f\"Working on {edge_type}: {edge_weight}\")\n",
    "    sparql_result = get_single_type_edges(irec_graph, edge_type)\n",
    "    for r in sparql_result:\n",
    "        subj = str(r.subject)\n",
    "        obj = str(r.object)\n",
    "        \n",
    "        # keep track of spans that are concepts\n",
    "        subject_is_concept = True if str(r.subject_is_concept) == \"true\" else False\n",
    "        if subject_is_concept:\n",
    "            subjects_that_are_concepts.append(subj)\n",
    "            \n",
    "        if subj != obj:\n",
    "            if subj not in distance_dict and obj not in distance_dict:\n",
    "                distance_dict[subj] = {obj : maximum_distance - edge_weight}\n",
    "            elif subj not in distance_dict and obj in distance_dict: \n",
    "                if subj not in distance_dict[obj]:\n",
    "                    # obj is there already\n",
    "                    distance_dict[obj] = {subj : maximum_distance - edge_weight}\n",
    "                else:\n",
    "                    # both are here already in obj-subj order\n",
    "                    distance_dict[obj][subj] = distance_dict[obj][subj] - edge_weight\n",
    "            else:\n",
    "                # subj is there already\n",
    "                if obj not in distance_dict[subj]:\n",
    "                    distance_dict[subj][obj] = maximum_distance - edge_weight\n",
    "                else:\n",
    "                    # both are here already in subj-obj order\n",
    "                    distance_dict[subj][obj] = distance_dict[subj][obj] - edge_weight\n"
   ]
  },
  {
   "cell_type": "code",
   "execution_count": 41,
   "id": "57619369",
   "metadata": {},
   "outputs": [],
   "source": [
    "# increase general importance of those spans where an exactMatch to a concept exists\n",
    "subjects_that_are_concepts = list(set(subjects_that_are_concepts))\n",
    "for span in subjects_that_are_concepts:\n",
    "    if span in distance_dict:\n",
    "        for obj in distance_dict[span]:\n",
    "            distance_dict[span][obj] = distance_dict[span][obj] - exactMatch_weight\n",
    "            \n",
    "    for subj, obj_dict in distance_dict.items():\n",
    "        if span in obj_dict:\n",
    "            distance_dict[subj][span] = distance_dict[subj][span] - exactMatch_weight\n",
    "        "
   ]
  },
  {
   "cell_type": "code",
   "execution_count": 42,
   "id": "190a3cae",
   "metadata": {},
   "outputs": [
    {
     "data": {
      "text/plain": [
       "[]"
      ]
     },
     "execution_count": 42,
     "metadata": {},
     "output_type": "execute_result"
    }
   ],
   "source": [
    "# some insight in edges with low weight/distance (closely related)\n",
    "[(k,v,w) for k, v_dict in distance_dict.items() for v, w in v_dict.items() if w < 5]"
   ]
  },
  {
   "cell_type": "markdown",
   "id": "95edf2a0",
   "metadata": {},
   "source": [
    "* We will create a weighted NetworkX graph from the span-span pairs"
   ]
  },
  {
   "cell_type": "code",
   "execution_count": 43,
   "id": "9a8ffb21",
   "metadata": {},
   "outputs": [],
   "source": [
    "network = nx.Graph()\n",
    "network.add_weighted_edges_from([(str(s), str(o), w) for s, r in distance_dict.items() for o, w in r.items()])"
   ]
  },
  {
   "cell_type": "code",
   "execution_count": 44,
   "id": "d6a0dea0",
   "metadata": {},
   "outputs": [],
   "source": [
    "def show_community(idx: Union[str, int], community: set, network: nx.Graph = network):\n",
    "    \"\"\"\n",
    "    Helper function to visualize/plot a community. We compute the Minimum Spanning Tree of the community\n",
    "    to help visualise some of the more central nodes and how to transverse from node X to node Y using the\n",
    "    shortest paths ~ assuming these shortest paths indicate the strongest relations-ish.\n",
    "    \"\"\"\n",
    "    print(f\"Community [{idx}] of size {len(community)}, top 10 spans by degree:\")\n",
    "    span_degree_dict = dict(network.degree(g for g in community))\n",
    "    spans_sorted_by_num_edges = sorted(span_degree_dict.items(), key=itemgetter(1), reverse=True)\n",
    "    for idx, span_nedges in enumerate(spans_sorted_by_num_edges[:10]):\n",
    "        span_node, num_edges = span_nedges\n",
    "        [print(f\"{idx}: {s_triple[2]} [{num_edges}]\") for s_triple in irec_graph.triples((None, RDFS.label, Literal(span_node, lang='en')))]\n",
    "\n",
    "    mst = nx.minimum_spanning_tree(network.subgraph(community))\n",
    "    plt.figure(figsize=(15, 7))\n",
    "    pos = nx.spring_layout(mst)\n",
    "    # draw node labels\n",
    "    nx.draw_networkx(mst, pos=pos, with_labels=True, node_size = 10)\n",
    "    \n",
    "    draw_edges = False\n",
    "    if draw_edges:\n",
    "        # also label edges with distances (weights)\n",
    "        edge_labels = nx.get_edge_attributes(mst,'weight')\n",
    "        nx.draw_networkx_edge_labels(mst, pos=pos, edge_labels=edge_labels)\n",
    "        \n",
    "    plt.show()\n",
    "#     plt.savefig(\"plot.jpg\", dpi=300, bbox_inches = \"tight\") #save as jpg"
   ]
  },
  {
   "cell_type": "code",
   "execution_count": 45,
   "id": "83246f15",
   "metadata": {},
   "outputs": [],
   "source": [
    "def divide_into_communities(network: nx.Graph, \n",
    "                            node_of_interest: str = None,\n",
    "                            max_community_size: int = 30,\n",
    "                            existing_community: set = None, \n",
    "                            existing_community_idx: str = None):\n",
    "    \"\"\"\n",
    "    We recursively call Louvain! We divide the graph into communities, if a community is\n",
    "    larger than `max_community_size` we call Louvain again on this community etc. until all  \n",
    "    communities are of a more or less comprehensible/desired size.\n",
    "    \"\"\"\n",
    "    # divide the network into communities\n",
    "    louvain = nx.algorithms.community.louvain.louvain_communities(network)\n",
    "    community_of_interest = None\n",
    "    for idx, community in enumerate(louvain):\n",
    "        if node_of_interest:\n",
    "            if not node_of_interest in community:\n",
    "                continue\n",
    "            else:\n",
    "                community_of_interest = community\n",
    "        \n",
    "        new_idx = f\"{existing_community_idx}.{idx}\" if existing_community_idx else str(idx)\n",
    "            \n",
    "        if len(community) > max_community_size: # max size of community\n",
    "            divide_into_communities(network.subgraph(community), \n",
    "                                    node_of_interest, max_community_size,\n",
    "                                    existing_community=community, \n",
    "                                    existing_community_idx=new_idx)\n",
    "        else:\n",
    "            show_community(idx, community)\n",
    "    \n",
    "    return community_of_interest"
   ]
  },
  {
   "cell_type": "markdown",
   "id": "a27640c0",
   "metadata": {},
   "source": [
    "**Run Louvain on the weighted graph and visualise the community that includes a specific node of interest**\n",
    "* **Note that Louvain is non-deterministic so outputs will be different each time.**\n",
    "* Simply run multiple times to get an idea of the related nodes for your `node_of_interest`"
   ]
  },
  {
   "cell_type": "code",
   "execution_count": 46,
   "id": "2754c634",
   "metadata": {},
   "outputs": [],
   "source": [
    "node_of_interest = \"mechanical ventilation\""
   ]
  },
  {
   "cell_type": "code",
   "execution_count": 47,
   "id": "dd70fdd2",
   "metadata": {
    "scrolled": false
   },
   "outputs": [
    {
     "name": "stdout",
     "output_type": "stream",
     "text": [
      "Community [4] of size 15, top 10 spans by degree:\n",
      "0: mechanical [29]\n",
      "1: mechanical ventilation [26]\n",
      "2: mechanical ventilation systems [21]\n",
      "3: natural ventilation [20]\n",
      "4: continuous mechanical extract ventilation [19]\n",
      "5: mechanical ventilation system [17]\n",
      "6: mechanical extract ventilation [16]\n",
      "7: Mechanical ventilation [16]\n",
      "8: VOC [10]\n",
      "9: Mechanical extract ventilation systems [7]\n"
     ]
    },
    {
     "data": {
      "image/png": "[encoded data removed]",
      "text/plain": [
       "<Figure size 1500x700 with 1 Axes>"
      ]
     },
     "metadata": {},
     "output_type": "display_data"
    }
   ],
   "source": [
    "radius = 15\n",
    "max_community = 15\n",
    "\n",
    "focussed_graph = nx.ego_graph(network, node_of_interest, radius=radius)\n",
    "community_of_interest = divide_into_communities(focussed_graph, \n",
    "                                                node_of_interest, \n",
    "                                                max_community_size=max_community)\n",
    "\n",
    "# num_hops = 2\n",
    "# nodes_with_x_hops_distance = nx.single_source_shortest_path_length(network, node_of_interest, cutoff=num_hops)\n",
    "# nodes_with_x_hops_distance"
   ]
  },
  {
   "cell_type": "markdown",
   "id": "f85f0a02",
   "metadata": {},
   "source": []
  },
  {
   "cell_type": "code",
   "execution_count": null,
   "id": "414b5b0f",
   "metadata": {},
   "outputs": [],
   "source": []
  },
  {
   "cell_type": "code",
   "execution_count": null,
   "id": "ff1ac19e",
   "metadata": {},
   "outputs": [],
   "source": []
  },
  {
   "cell_type": "code",
   "execution_count": null,
   "id": "397b94fc",
   "metadata": {},
   "outputs": [],
   "source": []
  }
 ],
 "metadata": {
  "kernelspec": {
   "display_name": "Python 3 (ipykernel)",
   "language": "python",
   "name": "python3"
  },
  "language_info": {
   "codemirror_mode": {
    "name": "ipython",
    "version": 3
   },
   "file_extension": ".py",
   "mimetype": "text/x-python",
   "name": "python",
   "nbconvert_exporter": "python",
   "pygments_lexer": "ipython3",
   "version": "3.9.16"
  }
 },
 "nbformat": 4,
 "nbformat_minor": 5
}
