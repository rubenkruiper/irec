{
 "cells": [
  {
   "cell_type": "code",
   "execution_count": 1,
   "id": "788a8bca",
   "metadata": {},
   "outputs": [
    {
     "name": "stdout",
     "output_type": "stream",
     "text": [
      "KM cuda not found, defaulting to sklearn CPU version of kmeans\n"
     ]
    }
   ],
   "source": [
    "from typing import List, Any, Optional, Dict\n",
    "\n",
    "import os\n",
    "import re\n",
    "import time\n",
    "import json\n",
    "import glob\n",
    "import pickle\n",
    "import random\n",
    "import urllib\n",
    "import requests\n",
    "import subprocess\n",
    "import concurrent.futures\n",
    "\n",
    "import numpy as np\n",
    "\n",
    "from bs4 import BeautifulSoup\n",
    "from tqdm import tqdm\n",
    "from pathlib import Path\n",
    "from textblob import TextBlob\n",
    "from threading import current_thread\n",
    "from collections import Counter\n",
    "from transformers import BertTokenizer, BertModel\n",
    "from sklearn.cluster import KMeans\n",
    "\n",
    "try:\n",
    "    from libKMCUDA import kmeans_cuda\n",
    "except:\n",
    "    print(\"KM cuda not found, defaulting to sklearn CPU version of kmeans\")\n",
    "    kmeans_cuda = None\n",
    "\n",
    "import utils\n",
    "import embedding\n",
    "import cluster_utils\n",
    "import IDF_computation\n",
    "from customdocument import CustomDocument"
   ]
  },
  {
   "cell_type": "markdown",
   "id": "d081bf43",
   "metadata": {},
   "source": [
    "<div class=\"alert alert-block alert-info\"> \n",
    "We will run our term extraction on the Merged Approved Documents, the .pdf file can be found in the `data/` directory. For filtering of out-of-domain terms we will also process a set of EU regulations for medical device design, the .html files for these can be found in the same directory.\n",
    "</div>\n",
    "\n",
    "1. Preprocessing will consist only of removing headers/footers from PDF files. \n",
    "\n",
    "2. Candidate terms are identified using SPaR.txt (Kruiper et al., 2021), sentence splitting is done with the PunkSentTokenizer (Strunk, 2006).\n",
    "\n",
    "3. Filtering of term candidates consists of:\n",
    "  * a set of regular expressions found in utils.py\n",
    "  * clustering of terms found in (1) the Approved Documents, and (2) a set of EU regulations for medical device design; any clusters containing terms from (2) will be designated as terms that are irrelevant to the AEC domain.\n",
    "  \n",
    " \n"
   ]
  },
  {
   "cell_type": "markdown",
   "id": "996a98d0",
   "metadata": {},
   "source": [
    "### 1 Preprocessing: get text from PDF and HTML"
   ]
  },
  {
   "cell_type": "code",
   "execution_count": 2,
   "id": "0f74d6fb",
   "metadata": {},
   "outputs": [
    {
     "name": "stdout",
     "output_type": "stream",
     "text": [
      "Approved Documents: data/input/The Merged Approved Documents.pdf\n",
      "Reference corpus: ['data/input/EUR-Lex - 31993L0042 - EN.html', 'data/input/CELEX 32017R0746 EN TXT.html', 'data/input/CELEX 32017R0745 EN TXT.html', 'data/input/EUR-Lex - 31998L0079 - EN.html', 'data/input/EUR-Lex - 31990L0385 - EN.html']\n"
     ]
    }
   ],
   "source": [
    "merged_approved_pdf_file = glob.glob(\"data/input/*.pdf\")[0]\n",
    "eu_html_files = glob.glob(\"data/input/*.html\")\n",
    "print(f\"Approved Documents: {merged_approved_pdf_file}\")\n",
    "print(f\"Reference corpus: {eu_html_files}\")"
   ]
  },
  {
   "cell_type": "markdown",
   "id": "271bdc02",
   "metadata": {},
   "source": [
    "<div class=\"alert alert-block alert-info\">\n",
    "First we grab the text from the Merged Approved Documents pdf file. Our implementation on based on the pdf conversion pipeline in Haystack.\n",
    "</div>"
   ]
  },
  {
   "cell_type": "code",
   "execution_count": 3,
   "id": "3e0d20e7",
   "metadata": {},
   "outputs": [],
   "source": [
    "def read_pdf(file_path: Path, layout: bool = True, encoding: Optional[str] = \"Latin1\") -> List[str]:\n",
    "        \"\"\"\n",
    "        Extract pages from the pdf file at file_path; based on Haystack.\n",
    "\n",
    "        :param file_path: path of the pdf file\n",
    "        :param layout: whether to retain the original physical layout for a page. If disabled, PDF pages are read in\n",
    "                       the content stream order.\n",
    "        \"\"\"\n",
    "        if layout:\n",
    "            command = [\"pdftotext\", \"-enc\", encoding, \"-layout\", str(file_path), \"-\"]\n",
    "        else:\n",
    "            command = [\"pdftotext\", \"-enc\", encoding, str(file_path), \"-\"]\n",
    "        output = subprocess.run(command, stdout=subprocess.PIPE, shell=False)  # type: ignore\n",
    "        document = output.stdout.decode(errors=\"ignore\")\n",
    "        pages = document.split(\"\\f\")\n",
    "        pages = pages[:-1]  # the last page in the split is always empty.\n",
    "        return pages\n",
    "\n",
    "def convert_pdf_to_mydoc(source_file_path: Path, \n",
    "                         output_file_path: Path, \n",
    "                         meta: Optional[Dict[str, str]] = None,\n",
    "                         remove_header_and_footer: Optional[bool] = True,\n",
    "                         clean_whitespace: Optional[bool] = True,\n",
    "                         clean_empty_lines: Optional[bool] = True,\n",
    "                         encoding: Optional[str] = \"Latin1\") -> CustomDocument:\n",
    "        \"\"\"\n",
    "        Extract pages from the pdf file at file_path; based on Haystack.\n",
    "\n",
    "        :param output_file_path:    Path to the .json file to store the converted file.\n",
    "        :param source_file_path:    Path to the .pdf file you want to convert\n",
    "        :param meta: Optional dictionary with metadata that shall be attached to all resulting documents.\n",
    "                     Can be any custom keys and values.\n",
    "        :param encoding: Encoding that will be passed as -enc parameter to pdftotext. \"Latin 1\" is the default encoding\n",
    "                         of pdftotext. While this works well on many PDFs, it might be needed to switch to \"UTF-8\" or\n",
    "                         others if your doc contains special characters (e.g. German Umlauts, Cyrillic characters ...).\n",
    "                         Note: With \"UTF-8\" we experienced cases, where a simple \"fi\" gets wrongly parsed as\n",
    "                         \"xef\\xac\\x81c\" (see test cases). That's why we keep \"Latin 1\" as default here.\n",
    "                         (See list of available encodings by running `pdftotext -listenc` in the terminal)\n",
    "        \"\"\"\n",
    "        pages = read_pdf(source_file_path, layout=True, encoding=encoding)\n",
    "\n",
    "        if not pages:\n",
    "            # empty input file\n",
    "            return None\n",
    "        \n",
    "        pages = [\"\\n\".join(p.splitlines()) for p in pages]\n",
    "\n",
    "        # splitting text happens during preprocessing, so no split_size passed here;\n",
    "        # split_size will be set to -1 during conversion.\n",
    "        document = CustomDocument(output_file_path, source_file_path, split_size=-1)\n",
    "        \n",
    "        print(\"Converted PDF file to pages of text, combining to a single CustomDocument to keep track of page nrs.\")\n",
    "        for page_idx, page in tqdm(enumerate(pages)):\n",
    "            \n",
    "            # some simple cleaning -- roughly based on haystack.\n",
    "            lines = page.splitlines()\n",
    "            if remove_header_and_footer:\n",
    "                # simplest way for removing header and footer \n",
    "                lines = lines[1:-2]\n",
    "\n",
    "            if clean_whitespace:\n",
    "                cleaned_lines = []\n",
    "                for line in lines:\n",
    "                    line = line.strip()\n",
    "                    cleaned_lines.append(line)\n",
    "                text = \" \".join(cleaned_lines)\n",
    "\n",
    "            if clean_empty_lines:\n",
    "                text = re.sub(r\"\\n\\n+\", \"\\n\\n\", text)\n",
    "                text = re.sub(r\"[\\s]+\", \" \", text)\n",
    "            \n",
    "            # no splitting here yet, so simply using page_nr as a place holder and split_id is left blank\n",
    "            page_nr = str(page_idx + 1)\n",
    "            document.add_content(text=text, \n",
    "                                 page_nr=page_nr, \n",
    "                                 doc_title=source_file_path.rsplit('/',1)[1])   # we're using the pdf file name for simplicity\n",
    "\n",
    "        return document"
   ]
  },
  {
   "cell_type": "code",
   "execution_count": 4,
   "id": "71184fcf",
   "metadata": {},
   "outputs": [
    {
     "name": "stdout",
     "output_type": "stream",
     "text": [
      "Converted PDF file to pages of text, combining to a single CustomDocument to keep track of page nrs.\n"
     ]
    },
    {
     "name": "stderr",
     "output_type": "stream",
     "text": [
      "1274it [00:00, 7327.78it/s]\n"
     ]
    }
   ],
   "source": [
    "merged_approved_document = convert_pdf_to_mydoc(merged_approved_pdf_file, \"data/converted_documents/merged_approved.json\")"
   ]
  },
  {
   "cell_type": "code",
   "execution_count": 5,
   "id": "1473ee8b",
   "metadata": {},
   "outputs": [
    {
     "name": "stdout",
     "output_type": "stream",
     "text": [
      "Maximum character length for a single block of text: 5537\n"
     ]
    }
   ],
   "source": [
    "print(f\"Maximum character length for a single block of text: {max([len(c.text) for c in merged_approved_document.all_contents])}\")"
   ]
  },
  {
   "cell_type": "code",
   "execution_count": null,
   "id": "203400ce",
   "metadata": {},
   "outputs": [],
   "source": []
  },
  {
   "cell_type": "markdown",
   "id": "84117041",
   "metadata": {},
   "source": [
    "<div class=\"alert alert-block alert-info\">\n",
    "Second, we grab the text from the EU regulation HTML files. Because the text in HTML files isn't split into pages, the blocks of text are much longer.\n",
    "</div>"
   ]
  },
  {
   "cell_type": "code",
   "execution_count": 6,
   "id": "c5bb53f9",
   "metadata": {},
   "outputs": [],
   "source": [
    "def grab_HTML_text_simple(file):\n",
    "    \"\"\"\n",
    "    All text in the EU htmls seems to be captured neatly in <p> tags, we don't care about structure currently.\n",
    "    We do remove all unicode characters, see `utils.remove_unicode_chars()`.\n",
    "    \"\"\" \n",
    "    with open(file, 'r') as f:\n",
    "        text = f.read()\n",
    "    soup = BeautifulSoup(text, 'html.parser')\n",
    "    return [utils.remove_unicode_chars(x.text) for x in soup.body.find_all('p')]"
   ]
  },
  {
   "cell_type": "code",
   "execution_count": 7,
   "id": "6630e6ba",
   "metadata": {},
   "outputs": [],
   "source": [
    "def convert_html_to_mydoc(source_file_path: Path, \n",
    "                          output_file_path: Path) -> CustomDocument:\n",
    "    \n",
    "    document = CustomDocument(output_file_path, source_file_path, split_size=-1)\n",
    "    document_paragraphs = []\n",
    "    list_of_paragraphs = grab_HTML_text_simple(html_file)\n",
    "    for paragraph in list_of_paragraphs:\n",
    "        if paragraph.strip() != '':\n",
    "            document_paragraphs.append(paragraph)\n",
    "    \n",
    "    for paragraph_idx, paragraph in tqdm(enumerate(document_paragraphs)):\n",
    "            # no splitting here yet, so simply using page_nr as a place holder and split_id is left blank\n",
    "            paragraph_nr = str(paragraph_idx + 1)\n",
    "            document.add_content(text=paragraph, \n",
    "                                 page_nr=paragraph_nr, \n",
    "                                 doc_title=source_file_path) # we're using the html file name for simplicity\n",
    "    return document"
   ]
  },
  {
   "cell_type": "code",
   "execution_count": 8,
   "id": "91b68b58",
   "metadata": {},
   "outputs": [
    {
     "name": "stderr",
     "output_type": "stream",
     "text": [
      "  0%|                                                                                                                                                                               | 0/5 [00:00<?, ?it/s]\n",
      "826it [00:00, 312172.92it/s]\n",
      "\n",
      "4344it [00:00, 348442.47it/s]\n",
      " 40%|██████████████████████████████████████████████████████████████████▊                                                                                                    | 2/5 [00:00<00:01,  2.29it/s]\n",
      "4799it [00:00, 362139.99it/s]\n",
      " 60%|████████████████████████████████████████████████████████████████████████████████████████████████████▏                                                                  | 3/5 [00:01<00:01,  1.69it/s]\n",
      "623it [00:00, 234228.34it/s]\n",
      "\n",
      "511it [00:00, 263692.09it/s]\n",
      "100%|███████████████████████████████████████████████████████████████████████████████████████████████████████████████████████████████████████████████████████████████████████| 5/5 [00:01<00:00,  2.86it/s]\n"
     ]
    }
   ],
   "source": [
    "eu_regulation_documents = []\n",
    "for html_file in tqdm(eu_html_files):\n",
    "    outfile = f\"data/converted_documents/{html_file.rsplit('/',1)[1]}.json\"\n",
    "    eu_regulation_documents.append(convert_html_to_mydoc(html_file, outfile))\n"
   ]
  },
  {
   "cell_type": "code",
   "execution_count": 9,
   "id": "033634ca",
   "metadata": {},
   "outputs": [
    {
     "name": "stdout",
     "output_type": "stream",
     "text": [
      "Maximum character length for a single paragraph: 143428\n"
     ]
    }
   ],
   "source": [
    "print(f\"Maximum character length for a single paragraph: {max([len(c.text) for d in eu_regulation_documents for c in d.all_contents])}\")"
   ]
  },
  {
   "cell_type": "markdown",
   "id": "77347abc",
   "metadata": {},
   "source": [
    "<div class=\"alert alert-block alert-info\">\n",
    "Third, if the output document doesn't exist (yet), we save the ConvertedDocument.\n",
    "</div>"
   ]
  },
  {
   "cell_type": "code",
   "execution_count": 10,
   "id": "24237e3e",
   "metadata": {},
   "outputs": [],
   "source": [
    "foreground_corpus = [merged_approved_document]\n",
    "background_corpus = eu_regulation_documents"
   ]
  },
  {
   "cell_type": "code",
   "execution_count": 11,
   "id": "7a00ed81",
   "metadata": {},
   "outputs": [],
   "source": [
    "for d in foreground_corpus + background_corpus:\n",
    "    if not os.path.exists(d.output_fp):\n",
    "        d.write_document()"
   ]
  },
  {
   "cell_type": "markdown",
   "id": "20f6e56a",
   "metadata": {},
   "source": [
    "### 2 Term extraction: identify object spans with SPaR.txt\n",
    "\n",
    "<div class=\"alert alert-block alert-info\">\n",
    "For each of the contents in a document, run SPaR.txt for object identification. To this end, we split the text into sentences and pass a sentence to a running instance fo a SPaR.txt predictor.\n",
    "</div>\n",
    "\n"
   ]
  },
  {
   "cell_type": "code",
   "execution_count": 12,
   "id": "edf22a14",
   "metadata": {},
   "outputs": [],
   "source": [
    "# download SPaR.txt if required\n",
    "if not os.path.exists(\"SPaR.txt/README.md\"):\n",
    "    !git clone https://github.com/rubenkruiper/SPaR.txt.git"
   ]
  },
  {
   "cell_type": "code",
   "execution_count": 13,
   "id": "b19aa4ce",
   "metadata": {},
   "outputs": [],
   "source": [
    "import imp\n",
    "with open('SPaR.txt/spar_predictor.py', 'rb') as fp:\n",
    "    spar_predictor = imp.load_module(\n",
    "        'spar_predictor', fp, 'SPaR.txt.spar_predictor.py',\n",
    "        ('.py', 'rb', imp.PY_SOURCE)\n",
    "    )"
   ]
  },
  {
   "cell_type": "code",
   "execution_count": 14,
   "id": "9daef1de",
   "metadata": {},
   "outputs": [
    {
     "name": "stderr",
     "output_type": "stream",
     "text": [
      "Some weights of the model checkpoint at bert-base-cased were not used when initializing BertModel: ['cls.predictions.bias', 'cls.predictions.transform.LayerNorm.bias', 'cls.predictions.transform.dense.weight', 'cls.predictions.decoder.weight', 'cls.seq_relationship.bias', 'cls.predictions.transform.LayerNorm.weight', 'cls.predictions.transform.dense.bias', 'cls.seq_relationship.weight']\n",
      "- This IS expected if you are initializing BertModel from the checkpoint of a model trained on another task or with another architecture (e.g. initializing a BertForSequenceClassification model from a BertForPreTraining model).\n",
      "- This IS NOT expected if you are initializing BertModel from the checkpoint of a model that you expect to be exactly identical (initializing a BertForSequenceClassification model from a BertForSequenceClassification model).\n"
     ]
    }
   ],
   "source": [
    "# trains a model if needed, otherwise loads from archive; \n",
    "# - best F1 on dev/validation in the paper is 80,96 trained on a GPU, CPU will be a bit lower ~77.x I think\n",
    "sp = spar_predictor.SparPredictor()"
   ]
  },
  {
   "cell_type": "code",
   "execution_count": 15,
   "id": "a0206ea8",
   "metadata": {},
   "outputs": [
    {
     "name": "stdout",
     "output_type": "stream",
     "text": [
      "{'obj': ['An example sentence', 'ACC terminology', 'the British Standards']}\n",
      "Parsing took 0.11192679405212402\n"
     ]
    }
   ],
   "source": [
    "example = \"An example sentence to show how ACC terminology will be extracted from the British Standards.\"\n",
    "start_time = time.time()\n",
    "# prepare instance and run model on single instance\n",
    "docid = ''                  # ToDo - add doc_id during pre_processing?\n",
    "token_list = sp.predictor._dataset_reader.tokenizer.tokenize(example)\n",
    "instance = sp.predictor._dataset_reader.text_to_instance(docid,\n",
    "                                                      example,\n",
    "                                                      token_list,\n",
    "                                                      sp.predictor._dataset_reader._token_indexer)\n",
    "result = sp.predictor.predict_instance(instance)\n",
    "printable_result = sp.parse_output(result, ['obj'])\n",
    "print(printable_result)\n",
    "print(\"Parsing took {}\".format(time.time() - start_time))"
   ]
  },
  {
   "cell_type": "code",
   "execution_count": 16,
   "id": "c5f7c27f",
   "metadata": {},
   "outputs": [],
   "source": [
    "# These should automatically run on your Nvidia GPU if available\n",
    "class SparInstance:\n",
    "    def __init__(self):\n",
    "        self.sp = spar_predictor.SparPredictor()\n",
    "    \n",
    "    def call(self, input_str:str=''):\n",
    "        if input_str:\n",
    "            # prepare instance and run model on single instance\n",
    "            docid = ''  # ToDo - add doc_id during pre_processing?\n",
    "            token_list = self.sp.predictor._dataset_reader.tokenizer.tokenize(input_str)\n",
    "\n",
    "            # truncating the input to SPaR.txt to maximum 512 tokens\n",
    "            token_length = len(token_list)\n",
    "            if token_length > 512:\n",
    "                token_list = token_list[:511] + [token_list[-1]]\n",
    "                token_length = 512\n",
    "\n",
    "            instance = self.sp.predictor._dataset_reader.text_to_instance(docid, input_str, token_list,\n",
    "                                                              self.sp.predictor._dataset_reader._token_indexer)\n",
    "            result = self.sp.predictor.predict_instance(instance)\n",
    "            printable_result = self.sp.parse_output(result, ['obj'])\n",
    "            return {\n",
    "                    \"prediction\": printable_result,\n",
    "                    \"num_input_tokens\": token_length,\n",
    "            }\n",
    "            \n",
    "        # If the input is None, or too long, return an empty list of objects\n",
    "        return {\n",
    "                \"prediction\": {'obj': []},\n",
    "                \"num_input_tokens\": 0\n",
    "            }\n"
   ]
  },
  {
   "cell_type": "code",
   "execution_count": 17,
   "id": "fb733c61",
   "metadata": {},
   "outputs": [],
   "source": [
    "class TermExtractor:\n",
    "    \n",
    "    def __init__(self, split_length=300, max_num_cpu_threads=4):\n",
    "        \"\"\"\n",
    "        Initialise SPaR.txt predictors `max_num_cpu_threads` \n",
    "        \"\"\"\n",
    "        self.split_length = split_length   # in number of tokens\n",
    "        self.max_num_cpu_threads = max_num_cpu_threads\n",
    "        self.PREDICTORS = []\n",
    "        for i in range(max_num_cpu_threads + 1):\n",
    "            self.PREDICTORS.append(SparInstance())\n",
    "    \n",
    "    \n",
    "    def process_sentence(self, sentence: str = ''):\n",
    "        \"\"\"\n",
    "        \"\"\"\n",
    "        predictor_to_use = int(current_thread().name.rsplit('_', 1)[1])\n",
    "        spartxt = self.PREDICTORS[predictor_to_use]\n",
    "\n",
    "        # SPaR doesn't handle ALL uppercase sentences well, which the OCR system sometimes outputs    \n",
    "        sentence = sentence.lower() if sentence.isupper() else sentence\n",
    "        prediction_dict =  spartxt.call(sentence)\n",
    "        if not prediction_dict:\n",
    "            return []\n",
    "\n",
    "        pred_labels = prediction_dict[\"prediction\"]\n",
    "        return pred_labels['obj']\n",
    "        \n",
    "\n",
    "    def split_into_sentences_and_run_spar(self, input_document):\n",
    "        \"\"\"\n",
    "        \"\"\"\n",
    "        print(f\"Working on: {input_document.source_fp}\")\n",
    "        content_as_list_of_dicts = input_document.to_list_of_dicts()\n",
    "        total_number_of_sentences_found = 0\n",
    "        content_idx = 0\n",
    "        for content_dict in tqdm(content_as_list_of_dicts):\n",
    "\n",
    "            text = ' '.join([x for x in content_dict[\"content\"].split(' ') if x != ''])\n",
    "            # some really long paragraphs in the EU regulations are summations that should be split at ';'\n",
    "            if len(text) > 3000:\n",
    "                text = text.replace(\";\", \".\\n\")\n",
    "\n",
    "            # We'll split into sentences even if this has been done before, it doesn't take long\n",
    "            sentences = []\n",
    "            for part in text.split('\\n'):\n",
    "                # split into sentences using PunktSentTokenizer (TextBlob implements NLTK's version under the hood) \n",
    "                sentences += [str(s) for s in TextBlob(part).sentences if len(str(s)) > 10]\n",
    "\n",
    "            content_dict[\"meta\"][\"sentences\"] = '###'.join(sentences)\n",
    "                \n",
    "            total_number_of_sentences_found += len(sentences)\n",
    "\n",
    "            # process sentences in the content and add SPaR.txt object tags to the content dict.        \n",
    "            if not content_dict[\"meta\"][\"SPaR_labels\"]:\n",
    "                with concurrent.futures.ThreadPoolExecutor(max_workers=self.max_num_cpu_threads) as executor:\n",
    "                    futures = [executor.submit(self.process_sentence, sentences[idx]) for idx in range(len(sentences))]\n",
    "\n",
    "                content_spar_objects = [f.result() for f in futures]\n",
    "                content_dict[\"meta\"][\"SPaR_labels\"] = ', '.join([tag for tags in content_spar_objects for tag in tags])\n",
    "                \n",
    "            # immediately update the list of content_dicts and every X iterations we save the file \n",
    "            content_as_list_of_dicts[content_idx] = content_dict\n",
    "            if content_idx // 5 == 0:\n",
    "                converted_document.replace_contents(content_as_list_of_dicts)\n",
    "                converted_document.write_document()\n",
    "            \n",
    "            content_idx += 1\n",
    "\n",
    "        print(f\"Number of sentences found: {total_number_of_sentences_found}\")\n",
    "        converted_document.replace_contents(content_as_list_of_dicts)\n",
    "        converted_document.write_document()\n",
    "        "
   ]
  },
  {
   "cell_type": "code",
   "execution_count": 18,
   "id": "a7dc2f46",
   "metadata": {},
   "outputs": [],
   "source": [
    "te = TermExtractor()"
   ]
  },
  {
   "cell_type": "code",
   "execution_count": 19,
   "id": "b3d086b3",
   "metadata": {},
   "outputs": [
    {
     "name": "stdout",
     "output_type": "stream",
     "text": [
      "Working on: data/input/The Merged Approved Documents.pdf\n"
     ]
    },
    {
     "name": "stderr",
     "output_type": "stream",
     "text": [
      "100%|████████████████████████████████████████████████████████████████████████████████████████████████████████████████████████████████████████████████████████████████| 1274/1274 [00:01<00:00, 784.58it/s]\n"
     ]
    },
    {
     "name": "stdout",
     "output_type": "stream",
     "text": [
      "Number of sentences found: 17745\n",
      "Working on: data/input/EUR-Lex - 31993L0042 - EN.html\n"
     ]
    },
    {
     "name": "stderr",
     "output_type": "stream",
     "text": [
      "100%|█████████████████████████████████████████████████████████████████████████████████████████████████████████████████████████████████████████████████████████████████| 826/826 [00:00<00:00, 3916.79it/s]\n"
     ]
    },
    {
     "name": "stdout",
     "output_type": "stream",
     "text": [
      "Number of sentences found: 1679\n",
      "Working on: data/input/CELEX 32017R0746 EN TXT.html\n"
     ]
    },
    {
     "name": "stderr",
     "output_type": "stream",
     "text": [
      "100%|███████████████████████████████████████████████████████████████████████████████████████████████████████████████████████████████████████████████████████████████| 4344/4344 [00:01<00:00, 2691.12it/s]\n"
     ]
    },
    {
     "name": "stdout",
     "output_type": "stream",
     "text": [
      "Number of sentences found: 3405\n",
      "Working on: data/input/CELEX 32017R0745 EN TXT.html\n"
     ]
    },
    {
     "name": "stderr",
     "output_type": "stream",
     "text": [
      "100%|███████████████████████████████████████████████████████████████████████████████████████████████████████████████████████████████████████████████████████████████| 4799/4799 [00:01<00:00, 3377.10it/s]\n"
     ]
    },
    {
     "name": "stdout",
     "output_type": "stream",
     "text": [
      "Number of sentences found: 3838\n",
      "Working on: data/input/EUR-Lex - 31998L0079 - EN.html\n"
     ]
    },
    {
     "name": "stderr",
     "output_type": "stream",
     "text": [
      "100%|█████████████████████████████████████████████████████████████████████████████████████████████████████████████████████████████████████████████████████████████████| 623/623 [00:00<00:00, 2808.78it/s]\n"
     ]
    },
    {
     "name": "stdout",
     "output_type": "stream",
     "text": [
      "Number of sentences found: 1255\n",
      "Working on: data/input/EUR-Lex - 31990L0385 - EN.html\n"
     ]
    },
    {
     "name": "stderr",
     "output_type": "stream",
     "text": [
      "100%|█████████████████████████████████████████████████████████████████████████████████████████████████████████████████████████████████████████████████████████████████| 511/511 [00:00<00:00, 5005.35it/s]"
     ]
    },
    {
     "name": "stdout",
     "output_type": "stream",
     "text": [
      "Number of sentences found: 771\n"
     ]
    },
    {
     "name": "stderr",
     "output_type": "stream",
     "text": [
      "\n"
     ]
    }
   ],
   "source": [
    "# Run SPaR.txt on all documents and write to file\n",
    "for converted_document in foreground_corpus + background_corpus:\n",
    "    # re-load the document from file, to make sure we don't overwrite existing SPaR.txt labels\n",
    "    converted_document = converted_document.load_document(converted_document.output_fp)\n",
    "    te.split_into_sentences_and_run_spar(converted_document)\n",
    "    "
   ]
  },
  {
   "cell_type": "markdown",
   "id": "4835185f",
   "metadata": {},
   "source": [
    "<div class=\"alert alert-block alert-info\">\n",
    "Number of sentences (longer than 10 characters) found in: <ul>\n",
    "    <li>Merged Approved documents: 17745</li>\n",
    "    <li>Background corpus (1679+3405+3838+1255+771): 10948</li>\n",
    "    </ul>\n",
    "</div>"
   ]
  },
  {
   "cell_type": "markdown",
   "id": "c6b15878",
   "metadata": {},
   "source": [
    "### 3 Filtering"
   ]
  },
  {
   "cell_type": "markdown",
   "id": "b511762d",
   "metadata": {},
   "source": [
    "<div class=\"alert alert-block alert-info\">\n",
    "First, load all terms from the processed files.\n",
    "</div>"
   ]
  },
  {
   "cell_type": "code",
   "execution_count": 20,
   "id": "4fb5373f",
   "metadata": {},
   "outputs": [
    {
     "name": "stdout",
     "output_type": "stream",
     "text": [
      "Total number of foreground terms: 114333\n",
      "Total number of UNIQUE foreground terms: 42657\n"
     ]
    },
    {
     "data": {
      "text/plain": [
       "[('the', 2130),\n",
       " ('a', 930),\n",
       " ('the building', 864),\n",
       " ('buildings', 839),\n",
       " ('guidance', 522),\n",
       " ('a building', 455),\n",
       " ('the Building Regulations', 434),\n",
       " ('document', 303),\n",
       " ('people', 301),\n",
       " ('the requirements', 297)]"
      ]
     },
     "execution_count": 20,
     "metadata": {},
     "output_type": "execute_result"
    }
   ],
   "source": [
    "foreground_terms_lists = [c.NER_labels for d in foreground_corpus for c in d.load_document(d.output_fp).all_contents]\n",
    "foreground_terms = [t for t_list in foreground_terms_lists for t in t_list if t]\n",
    "foreground_terms_c = Counter(foreground_terms)\n",
    "print(f\"Total number of foreground terms: {len(foreground_terms)}\")\n",
    "print(f\"Total number of UNIQUE foreground terms: {len(foreground_terms_c)}\")\n",
    "foreground_terms_c.most_common(10)"
   ]
  },
  {
   "cell_type": "code",
   "execution_count": 21,
   "id": "8006f6f0",
   "metadata": {},
   "outputs": [
    {
     "name": "stdout",
     "output_type": "stream",
     "text": [
      "Total number of background terms: 73124\n",
      "Total number of UNIQUE background terms: 10245\n"
     ]
    },
    {
     "data": {
      "text/plain": [
       "[('the', 2651),\n",
       " ('devices', 1641),\n",
       " ('the manufacturer', 1243),\n",
       " ('the device', 1187),\n",
       " ('Regulation', 624),\n",
       " ('the notified body', 595),\n",
       " ('information', 550),\n",
       " ('Member States', 489),\n",
       " ('a', 451),\n",
       " ('the market', 447)]"
      ]
     },
     "execution_count": 21,
     "metadata": {},
     "output_type": "execute_result"
    }
   ],
   "source": [
    "background_terms_lists = [c.NER_labels for d in background_corpus for c in d.load_document(d.output_fp).all_contents]\n",
    "background_terms = [t for t_list in background_terms_lists for t in t_list if t]\n",
    "background_terms_c = Counter(background_terms)\n",
    "print(f\"Total number of background terms: {len(background_terms)}\")\n",
    "print(f\"Total number of UNIQUE background terms: {len(background_terms_c)}\")\n",
    "background_terms_c.most_common(10)"
   ]
  },
  {
   "cell_type": "code",
   "execution_count": 22,
   "id": "e79727a3",
   "metadata": {},
   "outputs": [
    {
     "name": "stdout",
     "output_type": "stream",
     "text": [
      "Total number of unique spans identified by SPaR.txt:51296\n"
     ]
    }
   ],
   "source": [
    "print(f\"Total number of unique spans identified by SPaR.txt:{len(foreground_terms_c+background_terms_c)}\")"
   ]
  },
  {
   "cell_type": "markdown",
   "id": "464451e8",
   "metadata": {},
   "source": [
    "<div class=\"alert alert-block alert-info\">\n",
    "Second, clean the terms with the regular expressions we've defined in utils.py\n",
    "</div>"
   ]
  },
  {
   "cell_type": "code",
   "execution_count": 23,
   "id": "2503708d",
   "metadata": {},
   "outputs": [],
   "source": [
    "regex_filter = utils.RegexFilter()\n",
    "def run_filters(input_counter):\n",
    "    cleaned_counter = Counter()\n",
    "    for k, v in input_counter.items():\n",
    "        # terms should occur twice at least\n",
    "        if v < 2:\n",
    "            continue\n",
    "\n",
    "        # todo; clean up these util functions and how to call them|\n",
    "        _, k = regex_filter.run_filter(k)\n",
    "        if k:\n",
    "            cleaned_k = utils.custom_cleaning_rules(k)\n",
    "            if cleaned_k:\n",
    "                cleaned_counter[cleaned_k[0]] = v\n",
    "    return cleaned_counter"
   ]
  },
  {
   "cell_type": "code",
   "execution_count": 24,
   "id": "2e42c7fb",
   "metadata": {},
   "outputs": [
    {
     "name": "stdout",
     "output_type": "stream",
     "text": [
      "11202\n"
     ]
    },
    {
     "data": {
      "text/plain": [
       "[('guidance', 522),\n",
       " ('a building', 455),\n",
       " ('document', 303),\n",
       " ('the requirements', 297),\n",
       " ('requirements', 266),\n",
       " ('work', 242),\n",
       " ('the guidance', 240),\n",
       " ('the work', 232),\n",
       " ('Schedule 1', 226),\n",
       " ('the dwelling', 215)]"
      ]
     },
     "execution_count": 24,
     "metadata": {},
     "output_type": "execute_result"
    }
   ],
   "source": [
    "cleaned_foreground_terms_c = run_filters(foreground_terms_c)\n",
    "print(len(cleaned_foreground_terms_c))\n",
    "cleaned_foreground_terms_c.most_common(10)"
   ]
  },
  {
   "cell_type": "code",
   "execution_count": 25,
   "id": "899b1cbc",
   "metadata": {},
   "outputs": [
    {
     "name": "stdout",
     "output_type": "stream",
     "text": [
      "6191\n"
     ]
    },
    {
     "data": {
      "text/plain": [
       "[('devices', 1641),\n",
       " ('the device', 1187),\n",
       " ('the notified body', 595),\n",
       " ('Member States', 489),\n",
       " ('accordance', 429),\n",
       " ('a device', 405),\n",
       " ('conformity', 357),\n",
       " ('the requirements', 350),\n",
       " ('The notified body', 328),\n",
       " ('notified bodies', 324)]"
      ]
     },
     "execution_count": 25,
     "metadata": {},
     "output_type": "execute_result"
    }
   ],
   "source": [
    "cleaned_background_terms_c = run_filters(background_terms_c)\n",
    "print(len(cleaned_background_terms_c))\n",
    "cleaned_background_terms_c.most_common(10)"
   ]
  },
  {
   "cell_type": "markdown",
   "id": "406d6ca8",
   "metadata": {},
   "source": [
    "<div class=\"alert alert-block alert-info\">\n",
    "Third, we cluster the embeddings for both foreground and background terms with KMeans.\n",
    "</div>\n",
    "\n",
    "\n",
    "* Note: embeddings will be IDF weighted (IDF weights over both foreground and background corpora)\n",
    "  * Could add more sentences to the computation of IDF weights, e.g., definitions from vocabularies/WikiData."
   ]
  },
  {
   "cell_type": "code",
   "execution_count": 26,
   "id": "0b177bf4",
   "metadata": {},
   "outputs": [],
   "source": [
    "# Which tokenizer to use for IDF computation and Embedding;\n",
    "bert_model_name = 'bert-base-cased'"
   ]
  },
  {
   "cell_type": "code",
   "execution_count": 27,
   "id": "10278f75",
   "metadata": {},
   "outputs": [],
   "source": [
    "all_terms_c = cleaned_foreground_terms_c + cleaned_background_terms_c"
   ]
  },
  {
   "cell_type": "code",
   "execution_count": 28,
   "id": "8f403d14",
   "metadata": {},
   "outputs": [
    {
     "data": {
      "text/plain": [
       "16458"
      ]
     },
     "execution_count": 28,
     "metadata": {},
     "output_type": "execute_result"
    }
   ],
   "source": [
    "len(all_terms_c)"
   ]
  },
  {
   "cell_type": "code",
   "execution_count": 29,
   "id": "a1000a90",
   "metadata": {},
   "outputs": [
    {
     "data": {
      "text/plain": [
       "[('devices', 1665),\n",
       " ('the device', 1195),\n",
       " ('the requirements', 647),\n",
       " ('accordance', 631),\n",
       " ('the notified body', 595),\n",
       " ('guidance', 539),\n",
       " ('Member States', 491),\n",
       " ('requirements', 457),\n",
       " ('a building', 455),\n",
       " ('a device', 412)]"
      ]
     },
     "execution_count": 29,
     "metadata": {},
     "output_type": "execute_result"
    }
   ],
   "source": [
    "all_terms_c.most_common(10)"
   ]
  },
  {
   "cell_type": "code",
   "execution_count": 30,
   "id": "ac5654c4",
   "metadata": {},
   "outputs": [
    {
     "name": "stdout",
     "output_type": "stream",
     "text": [
      "Number of MWEs: 10850\n"
     ]
    },
    {
     "data": {
      "text/plain": [
       "['The Building Approved Inspectors',\n",
       " 'paragraph 6 18',\n",
       " 'low - lying sites',\n",
       " 'emergency escape lighting process lighting',\n",
       " 'severe deterioration',\n",
       " 'firefighting stairs',\n",
       " 'the rafter members',\n",
       " 'blood products',\n",
       " 'No 45 / 2001',\n",
       " 'an external stair']"
      ]
     },
     "execution_count": 30,
     "metadata": {},
     "output_type": "execute_result"
    }
   ],
   "source": [
    "# some insight in number of MWEs\n",
    "mwes = []\n",
    "for t in all_terms_c.keys():\n",
    "    words = t.split(' ')\n",
    "    if words[0] in ['the', 'a', 'The', 'A', 'an', 'An', 'any', 'Any', 'this', 'This']:\n",
    "        words = words[1:]\n",
    "    if len(words) > 1:\n",
    "        mwes.append(t)\n",
    "\n",
    "print(f\"Number of MWEs: {len(mwes)}\")\n",
    "random.sample(mwes, 10)\n"
   ]
  },
  {
   "cell_type": "code",
   "execution_count": 31,
   "id": "d8d0d4ad",
   "metadata": {},
   "outputs": [],
   "source": [
    "# Compute IDF weights\n",
    "sentence_lists = [c.sentences for d in foreground_corpus + background_corpus for c in d.load_document(d.output_fp).all_contents]\n",
    "all_sentences = [s for sent_list in sentence_lists for s in sent_list if s]"
   ]
  },
  {
   "cell_type": "code",
   "execution_count": 32,
   "id": "7bf4a15f",
   "metadata": {},
   "outputs": [
    {
     "name": "stdout",
     "output_type": "stream",
     "text": [
      "28693\n"
     ]
    },
    {
     "data": {
      "text/plain": [
       "['The Merged Approved Documents',\n",
       " 'How to use the Merged Approved Documents This document combines the approved documents into a single PDF.',\n",
       " 'Each approved document is self-contained and has its own introduction.',\n",
       " 'Each introduction relates only to the corresponding approved document.',\n",
       " \"Each introduction also contains information on when the document's guidance came into effect (or will come into effect).\",\n",
       " 'It is important to check that the version of each approved document you are using remains current and is the correct version for your project.',\n",
       " 'Please refer to the Ministry of Housing, Communities and Local Government website to check, and confirm with your building control body if in doubt.',\n",
       " 'Key features The Merged Approved Documents enable the user to: undertake a word search across all of the approved documents cut and paste text and diagrams into other documents add notes to a saved copy use an index to access individual sections of the guidance Correction to Approved Document K The heading in section 1.18 of the online version of Approved Document K have been corrected to match the print version.',\n",
       " \"Forthcoming changes Please check the Ministry of Housing, Communities and Local Government's website to ensure that each approved document you are using is current for your project.\",\n",
       " 'This is particularly important in relation to Approved Document B as this has been subject to frequent update.']"
      ]
     },
     "execution_count": 32,
     "metadata": {},
     "output_type": "execute_result"
    }
   ],
   "source": [
    "print(len(all_sentences))\n",
    "all_sentences[:10]"
   ]
  },
  {
   "cell_type": "code",
   "execution_count": 33,
   "id": "c09c984e",
   "metadata": {},
   "outputs": [
    {
     "name": "stdout",
     "output_type": "stream",
     "text": [
      "Loading existing IDF weights.\n",
      "Printing some IDF values, should be subword units!\n",
      "['cluster']\n",
      "['##of']\n",
      "['deposits']\n",
      "['ultimate']\n",
      "['horizontal']\n",
      "['proximity']\n",
      "['estates']\n",
      "['exploration']\n",
      "['##most']\n",
      "['rendered']\n"
     ]
    }
   ],
   "source": [
    "IDF_c = IDF_computation.IdfComputer(\"data/IDF_weights.json\", bert_model_name=bert_model_name)\n",
    "IDF_path = IDF_c.compute_or_load_IDF_weights(all_sentences, overwrite=False)"
   ]
  },
  {
   "cell_type": "code",
   "execution_count": 34,
   "id": "411b8d88",
   "metadata": {},
   "outputs": [],
   "source": [
    "# Embed each of the terms identified by SPaR.txt, applies IDF weights"
   ]
  },
  {
   "cell_type": "code",
   "execution_count": 35,
   "id": "5b1959bd",
   "metadata": {},
   "outputs": [
    {
     "name": "stdout",
     "output_type": "stream",
     "text": [
      "Number of unique terms: 16458\n"
     ]
    },
    {
     "data": {
      "text/plain": [
       "['the Merged Approved Documents',\n",
       " 'document',\n",
       " 'documents',\n",
       " 'Each introduction',\n",
       " 'approved',\n",
       " 'information',\n",
       " 'guidance',\n",
       " 'the version',\n",
       " 'project',\n",
       " 'the Ministry']"
      ]
     },
     "execution_count": 35,
     "metadata": {},
     "output_type": "execute_result"
    }
   ],
   "source": [
    "all_terms = [k for k in all_terms_c.keys()] # counter keys, so already unique\n",
    "print(f\"Number of unique terms: {len(all_terms)}\")\n",
    "all_terms[:10]"
   ]
  },
  {
   "cell_type": "code",
   "execution_count": 36,
   "id": "26f20d44",
   "metadata": {},
   "outputs": [
    {
     "name": "stderr",
     "output_type": "stream",
     "text": [
      "Some weights of the model checkpoint at bert-base-cased were not used when initializing BertModel: ['cls.predictions.bias', 'cls.predictions.transform.LayerNorm.bias', 'cls.predictions.transform.dense.weight', 'cls.predictions.decoder.weight', 'cls.seq_relationship.bias', 'cls.predictions.transform.LayerNorm.weight', 'cls.predictions.transform.dense.bias', 'cls.seq_relationship.weight']\n",
      "- This IS expected if you are initializing BertModel from the checkpoint of a model trained on another task or with another architecture (e.g. initializing a BertForSequenceClassification model from a BertForPreTraining model).\n",
      "- This IS NOT expected if you are initializing BertModel from the checkpoint of a model that you expect to be exactly identical (initializing a BertForSequenceClassification model from a BertForSequenceClassification model).\n"
     ]
    }
   ],
   "source": [
    "tokenizer = BertTokenizer.from_pretrained(bert_model_name)\n",
    "bert_model = BertModel.from_pretrained(bert_model_name, output_hidden_states=True)"
   ]
  },
  {
   "cell_type": "code",
   "execution_count": 37,
   "id": "a669a4a8",
   "metadata": {},
   "outputs": [],
   "source": [
    "embedder = embedding.Embedder(tokenizer, bert_model, \n",
    "                              IDF_dict=json.load(open(IDF_path)), \n",
    "                              embedding_fp=\"output/\",\n",
    "                              layers_to_use = [12],         # we'll use the output of the last layer\n",
    "                              layer_combination = \"avg\",    # how to combine layers if multiple are used\n",
    "                              idf_threshold = 1.5,          # minimum IDF value for a token to contribute\n",
    "                              idf_weight_factor = 1.0,      # modify how strong the influence of IDF weighting is\n",
    "                              not_found_idf_value = 0.5)    # IDF value for tokens that weren't seen during IDF computation (doesn't apply here)"
   ]
  },
  {
   "cell_type": "code",
   "execution_count": 38,
   "id": "ce59ea93",
   "metadata": {},
   "outputs": [],
   "source": [
    "# Compute the embeddings, this is split into subsets so we don't overload your memory (adjust these values if needed)\n",
    "max_num_cpu_threads = 4\n",
    "subset_size = 1000\n",
    "\n",
    "# Checks which of the embeddings for the clustering cluster_data already exist, so they can be re-used\n",
    "term_subsets = utils.split_list(all_terms, subset_size)\n",
    "embedding_files = glob.glob(embedder.embedding_fp + 'embeddings*.pkl')\n",
    "span_and_embedding_pairs = []\n",
    "if len(embedding_files) == len(term_subsets):\n",
    "    for e in embedding_files:\n",
    "        span_and_embedding_pairs += pickle.load(open(e, 'rb'))\n",
    "else:\n",
    "    print(f\"Preparing embeddings for {len(all_terms)} spans, in groups of: {subset_size}\")\n",
    "    subset_idx = 0            # iterator index outside of tqdm \n",
    "    for subset in tqdm(term_subsets):\n",
    "        subset_embeddings = []\n",
    "        subset_file_name = embedder.embedding_fp + \"embeddings_part_\" + '{}.pkl'.format(subset_idx)\n",
    "        subset_idx += 1\n",
    "        if os.path.exists(subset_file_name):\n",
    "            # already computed previously\n",
    "            continue\n",
    "        \n",
    "        with concurrent.futures.ThreadPoolExecutor(max_workers=max_num_cpu_threads) as executor:\n",
    "            futures = [executor.submit(embedder.embed_a_span, subset[idx]) for idx in range(len(subset))]\n",
    "\n",
    "        subset_embeddings += [f.result() for f in futures if f.result()]\n",
    "\n",
    "        with open(subset_file_name, 'wb') as f:\n",
    "            pickle.dump(subset_embeddings, f)\n",
    "\n",
    "    # Once all embeddings are created; combine them in span_and_embedding_pairs\n",
    "    embedding_files = glob.glob(embedder.embedding_fp + \"embeddings_part_\" + '*.pkl')\n",
    "    for e in embedding_files:\n",
    "        span_and_embedding_pairs += pickle.load(open(e, 'rb'))"
   ]
  },
  {
   "cell_type": "code",
   "execution_count": 39,
   "id": "b4e8b64b",
   "metadata": {},
   "outputs": [
    {
     "name": "stdout",
     "output_type": "stream",
     "text": [
      "Normalising and combining computed/existing 17 embeddings from files into single file\n"
     ]
    }
   ],
   "source": [
    "# Create a single file with all embeddings, in the meantime standardising the embeddings to improve the representation\n",
    "print(f\"Normalising and combining computed/existing {len(embedding_files)} embeddings from files into single file\")\n",
    "unique_spans, unique_embeddings = zip(*span_and_embedding_pairs)\n",
    "with open(embedder.embedding_fp + \"unique_spans.pkl\", 'wb') as f:\n",
    "    pickle.dump(unique_spans, f)\n",
    "\n",
    "with open(embedder.embedding_fp + \"unique_embeddings.pkl\", 'wb') as f:\n",
    "    # we average over the token embeddings in a term\n",
    "    unique_clustering_data = np.stack([np.mean(e, axis=0) if len(e.shape) > 1 else e for e in unique_embeddings])\n",
    "\n",
    "    # standardise the unique clustering data, as suggested by https://github.com/wtimkey/rogue-dimensions\n",
    "    embedder.emb_mean = unique_clustering_data.mean(axis=0)\n",
    "    embedder.emb_std = unique_clustering_data.std(axis=0)\n",
    "    pickle.dump(embedder.emb_mean, open(embedder.embedding_fp + \"standardisation_mean.pkl\", 'wb'))\n",
    "    pickle.dump(embedder.emb_std, open(embedder.embedding_fp + \"standardisation_std.pkl\", 'wb'))\n",
    "\n",
    "    standardised_clustering_data = (unique_clustering_data - embedder.emb_mean) / embedder.emb_std\n",
    "\n",
    "    pickle.dump(standardised_clustering_data, f)\n",
    "    \n",
    "# COULD/SHOULD remove the embedding files now"
   ]
  },
  {
   "cell_type": "code",
   "execution_count": 40,
   "id": "30daa510",
   "metadata": {},
   "outputs": [],
   "source": [
    "# functions to compute clusters on either CPU or GPU\n",
    "def compute_clusters_sklearn(unique_clustering_data, cluster_model_fp, num_clusters=10):\n",
    "    \"\"\"\n",
    "    Note that this clustering function relies on the CPU. It won't be able to compute clusters for large \n",
    "    amounts of inputs, e.g., 100.000 spans. When using a large number of clusters (e.g. 5000) it is also\n",
    "    a lot slower than a GPU implementation for. Or it may simply not converge! \n",
    "    For large inputs/num_clusters you'll need to use compute_clusters_kmcuda, and have access to a GPU.\n",
    "    \"\"\"\n",
    "    print(f\"Computing {num_clusters} clusters from scratch, using sklearn on the CPU\")\n",
    "    start_time = time.time()\n",
    "    sklearn_kmeans = KMeans(n_clusters=num_clusters, init='k-means++', max_iter=3, n_init=1, random_state=14,\n",
    "                            tol=0.0001, verbose=0)\n",
    "    assignments = sklearn_kmeans.fit_predict(unique_clustering_data)\n",
    "    centroids = sklearn_kmeans.cluster_centers_\n",
    "    print(\"Clustering took {}\".format(time.time() - start_time))\n",
    "    with open(cluster_model_fp, 'wb') as f:\n",
    "        pickle.dump((centroids, assignments), f)\n",
    "        \n",
    "# compute clusters on CPU for now\n",
    "def compute_clusters_kmcuda(unique_clustering_data, cluster_model_fp, num_clusters=10000):\n",
    "    \"\"\"\n",
    "    Won't implement cosine KMeans here, as I want to predict with sklearn in this notebook. \n",
    "    Also not sure if the results are really that much better.\n",
    "    \"\"\"\n",
    "    centroids, assignments = kmeans_cuda(unique_clustering_data, num_clusters, init=\"k-means++\",\n",
    "                                                 verbosity=1, seed=14) # , device=0)\n",
    "    with open(cluster_model_fp, 'wb') as f:\n",
    "        pickle.dump((centroids, assignments), f)"
   ]
  },
  {
   "cell_type": "code",
   "execution_count": 41,
   "id": "b39d48c0",
   "metadata": {},
   "outputs": [
    {
     "name": "stdout",
     "output_type": "stream",
     "text": [
      "sklearn cluster file exists for 2000 clusters\n",
      "sklearn cluster file exists for 2500 clusters\n",
      "sklearn cluster file exists for 3000 clusters\n",
      "sklearn cluster file exists for 3500 clusters\n",
      "sklearn cluster file exists for 4000 clusters\n",
      "sklearn cluster file exists for 4500 clusters\n",
      "sklearn cluster file exists for 5000 clusters\n",
      "sklearn cluster file exists for 5500 clusters\n",
      "sklearn cluster file exists for 6000 clusters\n",
      "sklearn cluster file exists for 6500 clusters\n",
      "sklearn cluster file exists for 7000 clusters\n",
      "sklearn cluster file exists for 7500 clusters\n",
      "sklearn cluster file exists for 8000 clusters\n"
     ]
    }
   ],
   "source": [
    "if not kmeans_cuda:\n",
    "    # Computing clusters on the CPU\n",
    "    for num_clusters in range(2000,8001, 500):\n",
    "        cluster_file = f\"output/sklearn_{num_clusters}_clusters.pkl\"\n",
    "        if not os.path.exists(cluster_file):\n",
    "            compute_clusters_sklearn(standardised_clustering_data, cluster_file, num_clusters)\n",
    "        else:\n",
    "            print(f\"sklearn cluster file exists for {num_clusters} clusters\")\n",
    "else:     \n",
    "    for num_clusters in range(4000,10001, 500):\n",
    "        cluster_file = f\"output/kmcuda_{num_clusters}_clusters.pkl\"\n",
    "        if not os.path.exists(cluster_file):\n",
    "            compute_clusters_kmcuda(standardised_clustering_data, cluster_file, num_clusters) \n",
    "        else:\n",
    "            print(f\"kmcuda cluster file exists for {num_clusters} clusters\")"
   ]
  },
  {
   "cell_type": "markdown",
   "id": "fc97b112",
   "metadata": {},
   "source": [
    "* Select the 'best' cluster model using Elbow and Silhouette"
   ]
  },
  {
   "cell_type": "code",
   "execution_count": 42,
   "id": "9b6810b1",
   "metadata": {},
   "outputs": [],
   "source": [
    "clustering_type = \"sklearn\"\n",
    "clustering_files = glob.glob(f'output/{clustering_type}_*.pkl')"
   ]
  },
  {
   "cell_type": "code",
   "execution_count": 43,
   "id": "a8d87f41",
   "metadata": {},
   "outputs": [
    {
     "name": "stdout",
     "output_type": "stream",
     "text": [
      "Computing elbow and silhouette (if not too many num_clusters) scores.\n"
     ]
    },
    {
     "name": "stderr",
     "output_type": "stream",
     "text": [
      "100%|███████████████████████████████████████████████████████████████████████████████████████████████████████████████████████████████████████████████████████████████████| 14/14 [00:00<00:00, 1672.85it/s]"
     ]
    },
    {
     "name": "stdout",
     "output_type": "stream",
     "text": [
      "Loading values from existing csv file: output/sklearn_4500_clusters.pkl\n",
      "Loading values from existing csv file: output/sklearn_5000_clusters.pkl\n",
      "Loading values from existing csv file: output/sklearn_3500_clusters.pkl\n",
      "Loading values from existing csv file: output/sklearn_2000_clusters.pkl\n",
      "Loading values from existing csv file: output/sklearn_2500_clusters.pkl\n",
      "Loading values from existing csv file: output/sklearn_3000_clusters.pkl\n",
      "Loading values from existing csv file: output/sklearn_5500_clusters.pkl\n",
      "Loading values from existing csv file: output/sklearn_4000_clusters.pkl\n",
      "Loading values from existing csv file: output/sklearn_7500_clusters.pkl\n",
      "Loading values from existing csv file: output/sklearn_6000_clusters.pkl\n",
      "File may not have the right naming format: output/sklearn_clusters.pkl\n",
      "Loading values from existing csv file: output/sklearn_6500_clusters.pkl\n",
      "Loading values from existing csv file: output/sklearn_7000_clusters.pkl\n",
      "Loading values from existing csv file: output/sklearn_8000_clusters.pkl\n",
      "Plotting the figure\n"
     ]
    },
    {
     "name": "stderr",
     "output_type": "stream",
     "text": [
      "\n"
     ]
    },
    {
     "data": {
      "image/png": "[encoded data removed]",
      "text/plain": [
       "<Figure size 432x288 with 3 Axes>"
      ]
     },
     "metadata": {
      "needs_background": "light"
     },
     "output_type": "display_data"
    }
   ],
   "source": [
    "# This takes a bit of time; 6-10 minutes per cluster size for 2000-6000 clusters \n",
    "# but resulting scores are saved in a csv and reused\n",
    "clustering_data_fp = \"output/\"\n",
    "es = cluster_utils.ElbowAndSilhouette(clustering_data_fp)\n",
    "es.compute_scores_for_models(clustering_type, clustering_files)"
   ]
  },
  {
   "cell_type": "markdown",
   "id": "b93f80fc",
   "metadata": {},
   "source": [
    "* Based on the number of clusters we'd like to use, we create a lookup-dictionary for the embedding and assigned cluster of each span"
   ]
  },
  {
   "cell_type": "code",
   "execution_count": 56,
   "id": "7db65503",
   "metadata": {},
   "outputs": [],
   "source": [
    "chosen_num_clusters = 6000\n",
    "cluster_model_to_use = f'output/{clustering_type}_{chosen_num_clusters}_clusters.pkl'"
   ]
  },
  {
   "cell_type": "code",
   "execution_count": 57,
   "id": "733bd1fd",
   "metadata": {},
   "outputs": [],
   "source": [
    "centroids, assignments = pickle.load(open(cluster_model_to_use, 'rb'))\n",
    "\n",
    "unique_background_terms = [k for k in background_terms_c.keys()]\n",
    "cluster_dict_creator = cluster_utils.ClusterDict(unique_background_terms, unique_spans, unique_embeddings, \n",
    "                 centroids, \n",
    "                 assignments,\n",
    "                 embedding_fp=\"output/\")"
   ]
  },
  {
   "cell_type": "code",
   "execution_count": 58,
   "id": "a5692ed5",
   "metadata": {},
   "outputs": [
    {
     "name": "stdout",
     "output_type": "stream",
     "text": [
      "Computing the cluster dictionary.\n"
     ]
    }
   ],
   "source": [
    "phrase_cluster_dict, clusters_to_filter = cluster_dict_creator.prep_cluster_dict(chosen_num_clusters)"
   ]
  },
  {
   "cell_type": "code",
   "execution_count": 59,
   "id": "63bbc5f0",
   "metadata": {},
   "outputs": [
    {
     "name": "stdout",
     "output_type": "stream",
     "text": [
      "AEC domain: ['the stairway', 'the ladder', 'a ladder', 'a switch']\n",
      "AEC domain: ['the worktop', 'worktop', 'kitchen worktop']\n",
      "AEC domain: ['the subsoil', 'subsoils']\n",
      "AEC domain: ['layout']\n",
      "AEC domain: ['surcharging']\n",
      "Filtered: ['the designation', 'the name', 'The designation', 'The name', 'his name']\n",
      "Filtered: ['the relevant']\n",
      "AEC domain: ['heat loss', 'heat losses', 'heat gain', 'heat gains']\n",
      "AEC domain: ['execution']\n",
      "AEC domain: ['seats']\n"
     ]
    },
    {
     "name": "stderr",
     "output_type": "stream",
     "text": [
      "/var/folders/lp/l_mzhpjs6bg95plfkl_n_vsc0000gn/T/ipykernel_22386/378847011.py:3: DeprecationWarning: Sampling from a set deprecated\n",
      "since Python 3.9 and will be removed in a subsequent version.\n",
      "  for k in random.sample(phrase_cluster_dict.keys(), 10):\n"
     ]
    }
   ],
   "source": [
    "# print some insight in the clusters\n",
    "max_terms_to_show = 5\n",
    "for k in random.sample(phrase_cluster_dict.keys(), 10):\n",
    "    some_terms = [span for score, span in phrase_cluster_dict[k]]\n",
    "    if k in clusters_to_filter:\n",
    "        print(f\"Filtered: {some_terms[:max_terms_to_show]}\")\n",
    "    else:\n",
    "        print(f\"AEC domain: {some_terms[:max_terms_to_show]}\")"
   ]
  },
  {
   "cell_type": "code",
   "execution_count": 60,
   "id": "a5aa123c",
   "metadata": {},
   "outputs": [],
   "source": [
    "removed_terms = [span for k, v in phrase_cluster_dict.items() for score, span in v if k in clusters_to_filter]"
   ]
  },
  {
   "cell_type": "code",
   "execution_count": 61,
   "id": "824968e9",
   "metadata": {},
   "outputs": [],
   "source": [
    "filtered_terms = [t for t in removed_terms if t in foreground_terms]"
   ]
  },
  {
   "cell_type": "code",
   "execution_count": 62,
   "id": "b97c6c24",
   "metadata": {},
   "outputs": [],
   "source": [
    "domain_terms = [span for k, v in phrase_cluster_dict.items() for score, span in v  if k not in clusters_to_filter]"
   ]
  },
  {
   "cell_type": "code",
   "execution_count": 63,
   "id": "e89aff4f",
   "metadata": {},
   "outputs": [
    {
     "name": "stdout",
     "output_type": "stream",
     "text": [
      "3703\n",
      "Terms that were filtered:\n"
     ]
    },
    {
     "data": {
      "text/plain": [
       "['circuits',\n",
       " 'components',\n",
       " 'control equipment',\n",
       " 'member',\n",
       " 'a inside face',\n",
       " 'the detailed design',\n",
       " 'local authorities',\n",
       " 'common',\n",
       " 'section of',\n",
       " 'background ventilators']"
      ]
     },
     "execution_count": 63,
     "metadata": {},
     "output_type": "execute_result"
    }
   ],
   "source": [
    "print(len(filtered_terms))\n",
    "print(\"Terms that were filtered:\")\n",
    "random.sample(filtered_terms,10)"
   ]
  },
  {
   "cell_type": "code",
   "execution_count": 64,
   "id": "24378f15",
   "metadata": {},
   "outputs": [
    {
     "name": "stdout",
     "output_type": "stream",
     "text": [
      "7782\n",
      "Terms that were kept:\n"
     ]
    },
    {
     "data": {
      "text/plain": [
       "['suspended concrete floor',\n",
       " 'the physical property',\n",
       " 'parapet gutters',\n",
       " 'oil pollution',\n",
       " 'Parts F J',\n",
       " 'Department',\n",
       " 'veranda',\n",
       " 'Approved Document C',\n",
       " 'a fire and rescue service pumping appliance',\n",
       " 'floor floor']"
      ]
     },
     "execution_count": 64,
     "metadata": {},
     "output_type": "execute_result"
    }
   ],
   "source": [
    "print(len(domain_terms))\n",
    "print(\"Terms that were kept:\")\n",
    "random.sample(domain_terms,10)"
   ]
  },
  {
   "cell_type": "code",
   "execution_count": 67,
   "id": "27a2ecd1",
   "metadata": {},
   "outputs": [
    {
     "data": {
      "text/plain": [
       "53"
      ]
     },
     "execution_count": 67,
     "metadata": {},
     "output_type": "execute_result"
    }
   ],
   "source": [
    "# cluster avg nr of items\n",
    "np.max([len(v) for v in phrase_cluster_dict.values()])"
   ]
  },
  {
   "cell_type": "code",
   "execution_count": 73,
   "id": "f4d79937",
   "metadata": {},
   "outputs": [
    {
     "data": {
      "text/plain": [
       "[[[1282.649658203125, 'consumption']],\n",
       " [[4366.1826171875, 'feasibility']],\n",
       " [[2603.40673828125, 'MTP']],\n",
       " [[2987.36181640625, 'Rainwater']],\n",
       " [[1577.7880859375, 'wells']],\n",
       " [[1875.974853515625, 'the optional requirement']],\n",
       " [[3671.099609375, 'person per day']],\n",
       " [[2652.797607421875, 'the planning permission']],\n",
       " [[2817.74365234375, 'white goods']],\n",
       " [[1042.362548828125, 'the methodology']],\n",
       " [[3455.48583984375, 'person / day']],\n",
       " [[816.0550537109375, 'the target']],\n",
       " [[4821.2568359375, 'UPPLY']],\n",
       " [[8007.8076171875, 'SYSTEMS']],\n",
       " [[800.4744873046875, 'the outlet']],\n",
       " [[718.946044921875, 'the application']],\n",
       " [[2033.6915283203125, 'the stored water']],\n",
       " [[7189.8779296875, 'cistern lids']],\n",
       " [[3542.37890625, 'Unvented']],\n",
       " [[6759.2998046875, 'Calorifiers']],\n",
       " [[2338.06396484375, 'the operating pressure']],\n",
       " [[876.7068481445312, 'the boiler']],\n",
       " [[7913.62109375, 'WARNING']],\n",
       " [[1315.650390625, 'TO']],\n",
       " [[2338.38232421875, 'Particular']],\n",
       " [[843.3309326171875, 'the choice']],\n",
       " [[5478.2216796875, 'Discharge']],\n",
       " [[2788.459716796875, 'a manifold']],\n",
       " [[1521.029296875, 'advance']],\n",
       " [[9092.48046875, 'fixed immersion heaters']],\n",
       " [[1628.987060546875, 'elbows']],\n",
       " [[3613.83642578125, 'a straight length']],\n",
       " [[6344.244140625, 'Symbols']],\n",
       " [[1026.048583984375, 'drain']],\n",
       " [[3988.82275390625, 'a wire cage']],\n",
       " [[1601.328369140625, 'visibility']],\n",
       " [[1775.281982421875, 'steam']],\n",
       " [[2942.01708984375, 'static completion']],\n",
       " [[2352.9765625, 'working order']],\n",
       " [[2688.181396484375, 'Low pressure']],\n",
       " [[2946.169677734375, 'blending valves']],\n",
       " [[4279.5390625, 'TMVs']],\n",
       " [[792.5240478515625, 'the principal']],\n",
       " [[2723.1767578125, 'WC suites']],\n",
       " [[1902.9820556640625, 'the hot tap']],\n",
       " [[781.6764526367188, 'the total']],\n",
       " [[1506.70849609375, 'women']],\n",
       " [[4462.7275390625, 'Lifting plants']],\n",
       " [[786.6837158203125, 'the drain']],\n",
       " [[738.1416015625, 'the place']],\n",
       " [[2923.7861328125, 'Taps']],\n",
       " [[3054.11669921875, 'overflow']],\n",
       " [[825.74853515625, 'the average']],\n",
       " [[2465.232177734375, 'dry load']],\n",
       " [[3955.02001953125, 'Shower outlets']],\n",
       " [[3230.22265625, 'Rainfall']],\n",
       " [[5289.7216796875, 'Percentage']],\n",
       " [[2436.459228515625, 'the regeneration cycle']],\n",
       " [[3225.71875, 'regeneration cycle']],\n",
       " [[2411.7880859375, 'Average number']],\n",
       " [[750.9859619140625, 'the fitting']],\n",
       " [[815.8475952148438, 'the benefit']],\n",
       " [[14309.9248046875, 'CALCULATOR FOR']],\n",
       " [[1703.531982421875, 'totals']],\n",
       " [[9812.353515625, 'litres per kilogram']],\n",
       " [[1008.2862548828125, 'the hardness']],\n",
       " [[2257.86962890625, 'per cent']],\n",
       " [[5604.68701171875, 'regeneration cycles per day']],\n",
       " [[1549.27685546875, 'regeneration']],\n",
       " [[846.87744140625, 'the proportion']],\n",
       " [[888.5647583007812, 'the savings']],\n",
       " [[894.988525390625, 'the WC']],\n",
       " [[3911.165771484375, 'hydraulic filter efficiency']],\n",
       " [[5254.48583984375, 'Daily rainwater per']],\n",
       " [[3690.980224609375, 'yield coefficient']],\n",
       " [[4539.4736328125, 'mg / l']],\n",
       " [[5378.068359375, 'nitrite']],\n",
       " [[2633.696533203125, 'Water Quality']],\n",
       " [[4851.8994140625, 'coli parameter']],\n",
       " [[1608.4034423828125, 'parasite']],\n",
       " [[1018.537841796875, 'the ii .']],\n",
       " [[3915.14990234375, 'nitrate']],\n",
       " [[4895.203125, 'hmso']],\n",
       " [[3436.4228515625, 'wras']],\n",
       " [[7345.484375, 'Market Transformation Programme']],\n",
       " [[3729.880859375, 'cibse']],\n",
       " [[2782.8642578125, 'page 18']],\n",
       " [[6750.8642578125, 'iti ed 15 20']],\n",
       " [[1229.2509765625, 'Power']],\n",
       " [[1612.2686767578125, 'wetlands']],\n",
       " [[5329.03173828125, 'Cesspools']],\n",
       " [[2158.72802734375, 'Combined systems']],\n",
       " [[5904.73291015625, 'rainfall intensities']],\n",
       " [[4642.173828125, 'Contaminated']],\n",
       " [[1595.667724609375, 'runoff']],\n",
       " [[2890.783447265625, 'Disused']],\n",
       " [[2816.68212890625, 'paved areas']],\n",
       " [[3966.69970703125, 'unventilated']],\n",
       " [[2686.29931640625, 'Bedding']],\n",
       " [[1384.693603515625, 'gradient']],\n",
       " [[2840.39697265625, 'seal depths']],\n",
       " [[1074.7554931640625, 'the tail']],\n",
       " [[1089.763916015625, 'the bend']],\n",
       " [[834.679443359375, 'the stack']],\n",
       " [[875.5451049804688, 'the trap']],\n",
       " [[891.6571044921875, 'the branch']],\n",
       " [[2822.41845703125, 'water seals']],\n",
       " [[1288.197509765625, 'short']],\n",
       " [[878.0557861328125, 'the highest']],\n",
       " [[7214.34619140625, 'surcharging']],\n",
       " [[4871.525390625, 'Rodding points']],\n",
       " [[1606.1024169921875, 'lengths']],\n",
       " [[1005.6260986328125, 'the offset']],\n",
       " [[2969.7314453125, 'corrosion']],\n",
       " [[4325.6376953125, 'rodent control']],\n",
       " [[1527.575439453125, 'PP']],\n",
       " [[9043.560546875, 'Polyethylene']],\n",
       " [[2439.32666015625, 'positive pressure']],\n",
       " [[5265.197265625, 'low - lying sites']],\n",
       " [[2330.28857421875, 'gully']],\n",
       " [[911.4617919921875, 'the right']],\n",
       " [[3027.733642578125, 'private land']],\n",
       " [[876.8843383789062, 'the developer']],\n",
       " [[8155.75439453125, 'prefabricated components']],\n",
       " [[5908.0029296875, 'surcharge']],\n",
       " [[2148.49658203125, 'Vent']],\n",
       " [[1413.51708984375, 'rats']],\n",
       " [[3025.586669921875, 'straight lines']],\n",
       " [[4825.40869140625, 'granular']],\n",
       " [[2818.19091796875, 'manholes']],\n",
       " [[934.3239135742188, 'the crown']],\n",
       " [[3190.00244140625, 'manhole']],\n",
       " [[2862.8916015625, 'personnel entry']],\n",
       " [[915.3795166015625, 'the trench']],\n",
       " [[1509.4761962890625, 'buried']],\n",
       " [[5429.5244140625, 'Pipe gradients']],\n",
       " [[4336.603515625, 'Sewers']],\n",
       " [[4839.3037109375, 'watertight']],\n",
       " [[3681.510009765625, 'flexible filler']],\n",
       " [[3793.18798828125, 'fields Laid']],\n",
       " [[5616.828125, 'light roads Laid']],\n",
       " [[2645.6494140625, 'Alternative designs']],\n",
       " [[2426.76318359375, 'economic options']],\n",
       " [[1577.282958984375, 'roads']],\n",
       " [[955.3731079101562, 'the channel']],\n",
       " [[1715.209716796875, 'highways']],\n",
       " [[3468.1484375, 'public open space']],\n",
       " [[1551.697998046875, 'traffic']],\n",
       " [[3856.328125, 'piling works']],\n",
       " [[1342.433349609375, 'survey']],\n",
       " [[2299.83984375, 'the piling']],\n",
       " [[3538.650634765625, 'trial holes']],\n",
       " [[2600.6982421875, 'Piling']],\n",
       " [[932.0462646484375, 'the pile']],\n",
       " [[3055.93310546875, 'Manholes']],\n",
       " [[2837.642578125, 'test lengths']],\n",
       " [[3655.71337890625, 'Reclaimed']],\n",
       " [[5612.1904296875, 'the Water Regulations Advisory Scheme']],\n",
       " [[4055.1787109375, 'leaflet No .']],\n",
       " [[2679.2294921875, 'Repair']],\n",
       " [[1155.021240234375, 'grounds']],\n",
       " [[857.109130859375, 'the cost']],\n",
       " [[4236.287109375, 'grout filled']],\n",
       " [[1623.349609375, 'Right']],\n",
       " [[2688.51025390625, 'Requisition']],\n",
       " [[4941.04931640625, 'Adoption']],\n",
       " [[1554.77197265625, 'costs']],\n",
       " [[1701.409912109375, 'appeals']],\n",
       " [[805.060546875, 'the accessible']],\n",
       " [[1366.273193359375, 'foundation']],\n",
       " [[3163.442626953125, 'man entry']],\n",
       " [[943.8441162109375, 'the contents']],\n",
       " [[2379.28759765625, 'drainage fields']],\n",
       " [[861.1410522460938, 'the availability']],\n",
       " [[2483.138916015625, 'drainage mounds']],\n",
       " [[1610.16943359375, 'discussions']],\n",
       " [[4495.87548828125, 'waterlogged']],\n",
       " [[2749.60205078125, 'watercourse']],\n",
       " [[4142.9970703125, 'Septic tanks']],\n",
       " [[2667.93798828125, 'Access covers']],\n",
       " [[2213.364990234375, 'the tank contents']],\n",
       " [[4341.22998046875, 'free - flowing']],\n",
       " [[768.236572265625, 'the tank']],\n",
       " [[1440.6453857421875, 'once']],\n",
       " [[6442.15625, 'cementsand ratio']],\n",
       " [[1352.49560546875, 'underground']],\n",
       " [[2361.14697265625, 'the 300mm']],\n",
       " [[934.1835327148438, 'the hole']],\n",
       " [[1362.787353515625, 'sand']],\n",
       " [[5427.87646484375, 'percolation characteristics']],\n",
       " [[1476.80126953125, 'steep']],\n",
       " [[2946.9443359375, 'seepage']],\n",
       " [[3759.351806640625, 'ammonia']],\n",
       " [[2685.29052734375, 'the gravel bed']],\n",
       " [[5853.564453125, 'Horizontal flow systems']],\n",
       " [[1397.488037109375, 'bottom']],\n",
       " [[2608.53759765625, 'Marking']],\n",
       " [[5149.0224609375, 'fortnightly']],\n",
       " [[4494.9892578125, 'Offences']],\n",
       " [[4078.44775390625, 'the Water Resources Act']],\n",
       " [[1605.7978515625, 'lake']],\n",
       " [[6436.7646484375, 'the Public Health Act 1936']],\n",
       " [[2732.18603515625, 'settlement tank']],\n",
       " [[2738.56884765625, 'the pores']],\n",
       " [[4168.5908203125, 'a monthly basis']],\n",
       " [[3531.791748046875, 'rainfall intensity']],\n",
       " [[1361.928955078125, 'round']],\n",
       " [[6207.10400390625, 'parapet gutters']],\n",
       " [[1543.85205078125, 'pitched']],\n",
       " [[2328.5458984375, 'Information about']],\n",
       " [[795.8270263671875, 'the movement']],\n",
       " [[1035.816162109375, 'the pavement']],\n",
       " [[1386.179931640625, 'channels']],\n",
       " [[1283.203369140625, 'lined']],\n",
       " [[990.4434814453125, 'the storm']],\n",
       " [[5886.68505859375, 'oil separators']],\n",
       " [[996.8883056640625, 'the permission']],\n",
       " [[884.40576171875, 'the owners']],\n",
       " [[1508.9716796875, 'adoption']],\n",
       " [[971.702392578125, 'the consent']],\n",
       " [[3358.32861328125, 'the waste collection authority']],\n",
       " [[1521.5928955078125, 'shelter']],\n",
       " [[1499.147216796875, 'pedestrian']],\n",
       " [[5508.2568359375, 'amenity']],\n",
       " [[1422.29150390625, 'compounds']],\n",
       " [[7564.4638671875, 'recyclable']],\n",
       " [[3490.25732421875, 'a polluted']],\n",
       " [[3076.099609375, 'disuse']],\n",
       " [[3746.392578125, 'Drain and']],\n",
       " [[7777.48974609375, 'Plumbing fittings']],\n",
       " [[3257.97998046875, 'compression ends']],\n",
       " [[8641.447265625, 'cast iron spigot']],\n",
       " [[3517.7060546875, 'Generalities']],\n",
       " [[9793.1337890625, 'Hydraulic design']],\n",
       " [[11208.7470703125, 'Polypropylene']],\n",
       " [[3854.134765625, 'vinyl chloride']],\n",
       " [[2342.91259765625, 'poly']],\n",
       " [[7714.0283203125, 'unreinforced']],\n",
       " [[3076.0234375, 'Layout']],\n",
       " [[3090.6064453125, 'Lifting']],\n",
       " [[2324.3203125, 'Other publications']],\n",
       " [[3313.381103515625, 'WRAS']],\n",
       " [[7637.5751953125, 'carbon monoxide alarms']],\n",
       " [[3031.580078125, 'older houses']],\n",
       " [[2783.209716796875, 'informative']],\n",
       " [[2682.322021484375, 'relining']],\n",
       " [[1333.2113037109375, 'decorative']],\n",
       " [[2734.64990234375, 'Connect']],\n",
       " [[2406.5556640625, 'Tank location']],\n",
       " [[3965.486328125, 'footnotes']],\n",
       " [[2474.9287109375, 'Paragraphs']],\n",
       " [[2011.0401611328125, 'the exemptions']],\n",
       " [[1263.5780029296875, 'Body']],\n",
       " [[4085.3466796875, 'the Clean Air Act']],\n",
       " [[1475.817138671875, 'electricity']],\n",
       " [[4650.9580078125, 'incinerators']],\n",
       " [[3481.26318359375, 'overheating']],\n",
       " [[2976.286376953125, 'kW net']],\n",
       " [[1543.265869140625, 'ratings']],\n",
       " [[2022.9442138671875, 'the combustion chamber']],\n",
       " [[3438.146484375, 'fireplace recess']],\n",
       " [[1251.2373046875, 'sets']],\n",
       " [[890.30908203125, 'the hearth']],\n",
       " [[1588.1484375, 'gross']],\n",
       " [[2739.1259765625, 'proprietary assembly']],\n",
       " [[1473.98583984375, 'smooth']],\n",
       " [[992.4988403320312, 'Technical']],\n",
       " [[1521.334228515625, 'cutting']],\n",
       " [[2721.491455078125, 'Bends']],\n",
       " [[3100.765869140625, 'Liners']],\n",
       " [[2785.5888671875, 'combust']],\n",
       " [[1610.208984375, 'deposits']],\n",
       " [[3464.372314453125, 'xxmm']],\n",
       " [[923.824462890625, 'the void']],\n",
       " [[1541.734375, 'sweeping']],\n",
       " [[1188.558837890625, 'straight']],\n",
       " [[938.0123901367188, 'the client']],\n",
       " [[1178.761474609375, 'liner']],\n",
       " [[1564.994873046875, 'balance']],\n",
       " [[2233.7705078125, 'rectangular /']],\n",
       " [[828.3743896484375, 'the basis']],\n",
       " [[3041.420166015625, 'the total face area']],\n",
       " [[860.9653930664062, 'the fireplace']],\n",
       " [[983.101318359375, 'the ridge']],\n",
       " [[2554.041259765625, 'Chim']],\n",
       " [[2238.130859375, 'the burn hazard']],\n",
       " [[1558.457275390625, 'rear']],\n",
       " [[812.322998046875, 'the ways']],\n",
       " [[4125.10107421875, 'RATED']],\n",
       " [[5656.140625, 'UT UP TO']],\n",
       " [[1220.0413818359375, 'variants']],\n",
       " [[2711.808837890625, 'Some ways']],\n",
       " [[860.7282104492188, 'the intake']],\n",
       " [[3336.57470703125, 'The plume']],\n",
       " [[3535.21484375, 'frequent wetting']],\n",
       " [[1023.194580078125, 'terminal']],\n",
       " [[1744.3348388671875, 'nests']],\n",
       " [[1224.4202880859375, 'reach']],\n",
       " [[4577.5322265625, 'veranda']],\n",
       " [[4054.883056640625, 'ILFE']],\n",
       " [[874.7223510742188, 'the options']],\n",
       " [[2839.65673828125, 'straight blocks']],\n",
       " [[2684.283203125, 'Relining']],\n",
       " [[854.9092407226562, 'the liner']],\n",
       " [[1259.8790283203125, 'debris']],\n",
       " [[4961.36767578125, 'fire / back boilers']],\n",
       " [[4029.930908203125, 'st 2nd']],\n",
       " [[4999.4541015625, 'dispersal']],\n",
       " [[2687.35546875, 'Suitable']],\n",
       " [[2402.33544921875, 'the outer surface']],\n",
       " [[3292.49755859375, 'oil firing']],\n",
       " [[3198.21826171875, 'Pollution']],\n",
       " [[1242.0594482421875, 'Publications']],\n",
       " [[1535.627197265625, 'copies']],\n",
       " [[2399.09619140625, 'the main contractor']],\n",
       " [[4887.1357421875, 'Firing capability']],\n",
       " [[3678.82861328125, 'Intended type']],\n",
       " [[2433.46044921875, 'AD J']],\n",
       " [[5032.38134765625, 'Sweep']],\n",
       " [[4110.32666015625, 'Inspection']],\n",
       " [[1234.1693115234375, 'Smith']],\n",
       " [[2592.943359375, 'Print name']],\n",
       " [[1425.302001953125, 'title .']],\n",
       " [[8407.1669921875, 'Profession Capacity .']],\n",
       " [[4596.1708984375, 'Authorising Engineer']],\n",
       " [[7151.18017578125, 'Brown plc ) Tel no .']],\n",
       " [[6349.55419921875, 'Address Postcode .']],\n",
       " [[1663.5780029296875, 'Date .']],\n",
       " [[1528.9979248046875, 'Register']],\n",
       " [[1711.833984375, 'membership']],\n",
       " [[5481.87890625, 'GasSafe']],\n",
       " [[4730.552734375, 'HETAS']],\n",
       " [[1008.4708251953125, 'measure']],\n",
       " [[2228.5732421875, 'the full length']],\n",
       " [[1532.4752197265625, 'pieces']],\n",
       " [[4137.7275390625, 'the pellets']],\n",
       " [[1461.206787109375, 'older']],\n",
       " [[3347.75390625, 'TV aerial']],\n",
       " [[2272.8134765625, 'National Association']],\n",
       " [[1024.6453857421875, 'single']],\n",
       " [[1528.113037109375, 'agricultural']],\n",
       " [[2639.606689453125, 'green c .']],\n",
       " [[2364.3369140625, 'Permanent methods']],\n",
       " [[2139.53173828125, 'the workplace premises']],\n",
       " [[3067.829345703125, 'loading bays']],\n",
       " [[3822.31591796875, 'windows skylights']],\n",
       " [[1283.51806640625, 'gates']],\n",
       " [[3036.3740234375, 'headroom']],\n",
       " [[3616.23095703125, 'Steepness']],\n",
       " [[886.336181640625, 'the rise']],\n",
       " [[7072.77880859375, 'tapered treads']],\n",
       " [[1329.6719970703125, 'Going']],\n",
       " [[915.7239379882812, 'the going']],\n",
       " [[3134.62109375, 'dimensional constraints']],\n",
       " [[1386.8818359375, 'spectators']],\n",
       " [[1492.6845703125, 'seats']],\n",
       " [[5196.236328125, 'transverse gangways']],\n",
       " [[3903.538818359375, 'tiered seating']],\n",
       " [[1261.6708984375, 'front']],\n",
       " [[2472.027099609375, 'the rise going']],\n",
       " [[921.4469604492188, 'the front']],\n",
       " [[831.659912109375, 'the flight']],\n",
       " [[1351.8984375, 'firm']],\n",
       " [[1572.974853515625, 'consecutive']],\n",
       " [[2644.37744140625, 'handrail']],\n",
       " [[956.4080200195312, 'the background']],\n",
       " [[5812.169921875, 'vandalism']],\n",
       " [[2263.287109375, 'low maintenance']],\n",
       " [[3080.97607421875, 'key factors']],\n",
       " [[4311.830078125, 'thermal conductivity']],\n",
       " [[1525.149658203125, 'clothing']],\n",
       " [[3575.51318359375, 'rounded edges']],\n",
       " [[852.26806640625, 'the guarding']],\n",
       " [[2663.08056640625, 'mm sphere']],\n",
       " [[881.463623046875, 'the sides']],\n",
       " [[2497.22265625, 'per month']],\n",
       " [[2307.115234375, 'ramp gradient']],\n",
       " [[3434.54443359375, 'the frictional characteristics']],\n",
       " [[2689.5771484375, 'landing surfaces']],\n",
       " [[1938.7884521484375, 'the open side']],\n",
       " [[4632.46484375, 'upstands']],\n",
       " [[2680.23046875, 'door swings']],\n",
       " [[3113.903564453125, 'passing places']],\n",
       " [[4221.1376953125, 'sunken area']],\n",
       " [[1594.0738525390625, 'familiar']],\n",
       " [[2815.32568359375, 'parapet']],\n",
       " [[806.8519287109375, 'the loads']],\n",
       " [[848.1486206054688, 'the approaches']],\n",
       " [[1485.294921875, 'Steps']],\n",
       " [[2890.3701171875, 'critical locations']],\n",
       " [[4121.400390625, 'small panes']],\n",
       " [[4754.1552734375, 'annealed']],\n",
       " [[1538.49267578125, 'strong']],\n",
       " [[1655.1689453125, 'factories']],\n",
       " [[7011.22998046875, 'Manifestation']],\n",
       " [[2439.968017578125, 'the leading edge']],\n",
       " [[2855.24072265625, 'stable surface']],\n",
       " [[1115.2518310546875, 'gate']],\n",
       " [[1051.02001953125, 'the track']],\n",
       " [[1597.27880859375, 'disability']],\n",
       " [[5767.3427734375, 'Light reflectance value']],\n",
       " [[2595.46435546875, 'visible light']],\n",
       " [[1505.4315185546875, 'illuminated']],\n",
       " [[1559.72265625, 'visitor']],\n",
       " [[969.983154296875, 'the rows']],\n",
       " [[2663.93603515625, 'imposed loads']],\n",
       " [[885.1433715820312, 'the agent']],\n",
       " [[2710.31494140625, 'an overview']],\n",
       " [[978.2444458007812, 'the earliest']],\n",
       " [[7516.14453125, 'Statutory']],\n",
       " [[824.94921875, 'the five']],\n",
       " [[2219.156005859375, 'statutory guidance']],\n",
       " [[1267.2806396484375, 'criterion']],\n",
       " [[4899.037109375, 'trade - offs']],\n",
       " [[4007.3134765625, 'uncertain service lives']],\n",
       " [[2517.614990234375, 'One way']],\n",
       " [[5558.73291015625, 'inter alia']],\n",
       " [[3461.843505859375, 'asset ratings']],\n",
       " [[3482.8291015625, 'operational ratings']],\n",
       " [[945.9398803710938, 'the occupation']],\n",
       " [[5689.59521484375, 'Developers']],\n",
       " [[2280.7529296875, 'the community scheme']],\n",
       " [[1335.803466796875, 'shape']],\n",
       " [[4148.646484375, 'an apartment block']],\n",
       " [[1409.92041015625, 'Evidence']],\n",
       " [[1133.03857421875, 'the fraction']],\n",
       " [[1452.942626953125, 'algorithms']],\n",
       " [[893.4007568359375, 'the role']],\n",
       " [[5818.4658203125, 'the National Planning Policy Framework']],\n",
       " [[3282.295166015625, 'The predicted effect']],\n",
       " [[1021.6412353515625, 'the integration']],\n",
       " [[2596.98291015625, 'distribution temperatures']],\n",
       " [[1646.3599853515625, 'priority']],\n",
       " [[5702.18798828125, 'carbon - intensive option']],\n",
       " [[3188.03857421875, 'enhancements']],\n",
       " [[1656.0419921875, 'cheaper']],\n",
       " [[1127.669921875, 'environmental']],\n",
       " [[9123.439453125, 'decentralised energy supply systems']],\n",
       " [[1248.927490234375, 'officer']],\n",
       " [[4564.138671875, 'cogeneration']],\n",
       " [[2770.1962890625, 'renewable sources']],\n",
       " [[1345.385986328125, 'solar']],\n",
       " [[4777.72705078125, 'hydrothermal']],\n",
       " [[5298.8720703125, 'hydropower']],\n",
       " [[3504.056396484375, 'biomass']],\n",
       " [[2560.0576171875, 'reversible']],\n",
       " [[2210.89013671875, 'the natural surroundings']],\n",
       " [[3427.4658203125, 'technology neutral']],\n",
       " [[2203.5810546875, 'special areas']],\n",
       " [[885.7030029296875, 'the properties']],\n",
       " [[2141.7587890625, 'the vertical position']],\n",
       " [[3058.8125, 'the minimum acceptable value']],\n",
       " [[1465.9215087890625, 'innovation']],\n",
       " [[899.83056640625, 'the summer']],\n",
       " [[2692.663330078125, 'levels daylight']],\n",
       " [[2299.0048828125, 'the key features']],\n",
       " [[2472.39599609375, 'thermal bridges']],\n",
       " [[816.8362426757812, 'the software']],\n",
       " [[935.1505126953125, 'the majority']],\n",
       " [[6783.86328125, 'Measuring Association']],\n",
       " [[4136.31298828125, 'ATTMA']],\n",
       " [[3742.1806640625, 'publication Meas']],\n",
       " [[4039.42724609375, 'the previous 12 months']],\n",
       " [[1217.692626953125, 'facility']],\n",
       " [[2911.972900390625, 'the templates']],\n",
       " [[2148.7841796875, 'power 40 .']],\n",
       " [[1480.2357177734375, 'hearing']],\n",
       " [[5722.4248046875, 'vehicular']],\n",
       " [[4066.997314453125, 'pushchairs']],\n",
       " [[1541.835205078125, 'luggage']],\n",
       " [[855.8270263671875, 'the machine']],\n",
       " [[1803.95849609375, 'passengers']],\n",
       " [[3312.3486328125, 'parking bays']],\n",
       " [[4316.09765625, 'sign - posted']],\n",
       " [[1666.9517822265625, 'feet']],\n",
       " [[982.5013427734375, 'the projection']],\n",
       " [[1450.662109375, 'circular']],\n",
       " [[1058.93115234375, 'the touch']],\n",
       " [[1739.416748046875, 'the ramped']],\n",
       " [[2823.30517578125, 'visual contrast']],\n",
       " [[1784.7158203125, 'deaf']],\n",
       " [[4126.0615234375, 'hard of hearing']],\n",
       " [[6407.2021484375, 'not coir matting']],\n",
       " [[3546.5859375, 'mat wells']],\n",
       " [[1698.909423828125, 'parents']],\n",
       " [[3584.89404296875, 'accessible sports facilities']],\n",
       " [[3790.7255859375, 'upper body strength']],\n",
       " [[1657.64404296875, 'dogs']],\n",
       " [[4026.65283203125, 'a closed fist']],\n",
       " [[3595.5322265625, 'push buttons']],\n",
       " [[1636.9918212890625, 'reflections']],\n",
       " [[1689.648681640625, 'shoes']],\n",
       " [[5961.7431640625, 'DL1 DL2']],\n",
       " [[3617.595703125, 'reception desk']],\n",
       " [[1333.74267578125, 'reception']],\n",
       " [[856.6473388671875, 'the surroundings']],\n",
       " [[4183.5009765625, 'ent M1']],\n",
       " [[5922.8115234375, 'stairlift']],\n",
       " [[1419.15966796875, 'glare']],\n",
       " [[2917.696533203125, 'acoustically']],\n",
       " [[1500.6002197265625, 'things']],\n",
       " [[4317.3212890625, 'Machinery Safety']],\n",
       " [[1255.286376953125, 'platform']],\n",
       " [[858.8314208984375, 'the platform']],\n",
       " [[4969.2958984375, 'mobility - impaired']],\n",
       " [[5432.27734375, 'Facilities']],\n",
       " [[3841.279296875, 'lip reading']],\n",
       " [[5451.052734375, 'lecture / conference facilities']],\n",
       " [[3494.81884765625, 'learning difficulties']],\n",
       " [[1651.357177734375, 'conferences']],\n",
       " [[7253.25927734375, 'Accessible stadia']],\n",
       " [[857.2000732421875, 'the arrangement']],\n",
       " [[6291.5263671875, 'a hearing enhancement system']],\n",
       " [[1691.6207275390625, 'companions']],\n",
       " [[3769.228515625, 'en - suite']],\n",
       " [[3713.484619140625, 'hinged']],\n",
       " [[1631.4464111328125, 'hands']],\n",
       " [[3188.4990234375, 'visually impaired']],\n",
       " [[3297.17236328125, 'push pads']],\n",
       " [[3217.56591796875, 'induction loop']],\n",
       " [[2031.07421875, 'the standard symbol .']],\n",
       " [[1310.996337890625, 'customers']],\n",
       " [[4137.4931640625, 'left - hand']],\n",
       " [[5836.22412109375, 'right - hand transfer']],\n",
       " [[3718.7421875, 'the horizontal support rail']],\n",
       " [[953.2620239257812, 'the privacy']],\n",
       " [[9306.482421875, 'www sportengland org /']],\n",
       " [[1312.51513671875, 'note']],\n",
       " [[3524.21875, 'domestic greenhouses']],\n",
       " [[2278.723388671875, 'business premises']],\n",
       " [[2868.7353515625, 'shower tray']],\n",
       " [[5035.701171875, 'Certification']],\n",
       " [[2402.583740234375, 'Part Q']],\n",
       " [[3250.40283203125, 'physical attack']],\n",
       " [[5012.994140625, 'Secured']],\n",
       " [[8120.9814453125, \"Design ' s New Homes 2014\"]],\n",
       " [[1675.4619140625, 'keys']],\n",
       " [[1741.570556640625, 'sticks']],\n",
       " [[2937.114501953125, 'Letter plates']],\n",
       " [[11354.1953125, 'technical specification TS 008 : 2012']],\n",
       " [[928.8531494140625, 'the attacks']],\n",
       " [[3895.03271484375, 'a warden']],\n",
       " [[1730.2205810546875, 'crime']],\n",
       " [[3067.900390625, 'rim lock']],\n",
       " [[3788.822509765625, 'major renovation works']],\n",
       " [[9231.55859375, 'fibre - optic cables']],\n",
       " [[1558.6689453125, 'speeds']],\n",
       " [[3871.43701171875, 'Mbps']],\n",
       " [[7421.88720703125, 'Listed Buildings Conservation Areas']],\n",
       " [[6805.3349609375, 'the Electronic Communications Universal Service']],\n",
       " [[4451.6572265625, 'Next generation access']],\n",
       " [[1437.013916015625, 'BT']],\n",
       " [[11108.904296875, 'Avis juridique']],\n",
       " [[950.8941650390625, 'the Treaty']],\n",
       " [[1554.79541015625, 'capital']],\n",
       " [[878.588623046875, 'the laws']],\n",
       " [[7354.0068359375, 'disparities']],\n",
       " [[2930.220947265625, 'harmonized']],\n",
       " [[1026.15625, 'the funding']],\n",
       " [[4352.16552734375, 'sickness insurance schemes']],\n",
       " [[2968.96533203125, 'administrative action']],\n",
       " [[851.1292724609375, 'the placing']],\n",
       " [[1810.6990966796875, 'economical']],\n",
       " [[2846.43896484375, 'the Council resolution']],\n",
       " [[1722.3095703125, 'discretion']],\n",
       " [[2242.6875, 'the technological level']],\n",
       " [[805.3759765625, 'the interest']],\n",
       " [[980.6481323242188, 'the authorization']],\n",
       " [[1334.0950927734375, 'workers']],\n",
       " [[932.37890625, 'the dangers']],\n",
       " [[2854.37353515625, 'mandatory texts']],\n",
       " [[4102.373046875, 'Cenelec']],\n",
       " [[1262.44873046875, 'fields']],\n",
       " [[1030.4178466796875, 'the framework']],\n",
       " [[925.5745849609375, 'the modules']],\n",
       " [[744.1234130859375, 'the Council']],\n",
       " [[948.8343505859375, 'the vulnerability']],\n",
       " [[885.8341674804688, 'the intervention']],\n",
       " [[3873.666015625, 'emergencies']],\n",
       " [[820.5205078125, 'the light']],\n",
       " [[801.8121948242188, 'the conclusions']],\n",
       " [[3411.678466796875, 'AIDS prevention']],\n",
       " [[2684.107421875, 'the HIV virus']],\n",
       " [[1072.607421875, 'field']],\n",
       " [[6335.78271484375, 'reclassification']],\n",
       " [[3829.623779296875, 'procedure IIIa']],\n",
       " [[3485.39111328125, 'veterinary medicine']],\n",
       " [[1427.699951171875, 'instrument']],\n",
       " [[1172.47021484375, 'article']],\n",
       " [[2760.802978515625, 'prevention disease']],\n",
       " [[2436.467041015625, 'injuryp']],\n",
       " [[935.0916748046875, 'the anatomy']],\n",
       " [[5946.76318359375, 'immunological']],\n",
       " [[2150.16015625, 'information state']],\n",
       " [[1134.49853515625, 'party']],\n",
       " [[4626.189453125, 'refurb']],\n",
       " [[1131.978515625, 'placing']],\n",
       " [[805.7000732421875, 'the first']],\n",
       " [[3959.389892578125, 'free of charge']],\n",
       " [[813.1310424804688, 'the stage']],\n",
       " [[3338.7626953125, 'single integral product']],\n",
       " [[2502.259765625, 'blood cells']],\n",
       " [[1351.47119140625, 'plasma']],\n",
       " [[4015.49951171875, 'personal protective equipment']],\n",
       " [[2270.09619140625, 'Essential requirements']],\n",
       " [[5283.0498046875, 'Article 4 Free movement']],\n",
       " [[1429.4278564453125, 'demonstrations']],\n",
       " [[2629.0048828125, 'Community language']],\n",
       " [[4389.8916015625, 'surgical sutures']],\n",
       " [[1411.7716064453125, 'interaction']],\n",
       " [[948.30322265625, 'the chairman']],\n",
       " [[910.8802490234375, 'the urgency']],\n",
       " [[818.9173583984375, 'the matter']],\n",
       " [[823.1412353515625, 'the minutes']],\n",
       " [[2957.848388671875, 'Article 148']],\n",
       " [[2486.6630859375, 'The votes']],\n",
       " [[860.5579833984375, 'the representatives']],\n",
       " [[2537.37060546875, 'a qualified']],\n",
       " [[1548.4569091796875, 'majority']],\n",
       " [[891.6259155273438, 'the parties']],\n",
       " [[876.9805297851562, 'the initiative']],\n",
       " [[1359.724365234375, 'parties']],\n",
       " [[888.7786254882812, 'the progress']],\n",
       " [[790.4799194335938, 'the incidents']],\n",
       " [[902.690185546875, 'the death']],\n",
       " [[821.017333984375, 'the incident']],\n",
       " [[886.712158203125, 'the contract']],\n",
       " [[895.5709228515625, 'the territory']],\n",
       " [[2471.2626953125, 'By way']],\n",
       " [[2305.79443359375, 'the mutual compatibility']],\n",
       " [[2552.421875, 'Annexes']],\n",
       " [[1481.211181640625, 'family']],\n",
       " [[805.4462890625, 'the description']],\n",
       " [[875.498291015625, 'the category']],\n",
       " [[3486.1396484375, 'fication']],\n",
       " [[1022.7777099609375, 'the contrary']],\n",
       " [[2653.20556640625, 'public policy']],\n",
       " [[921.1119995117188, 'the second']],\n",
       " [[2884.97265625, 'Bodies']],\n",
       " [[2940.080810546875, 'time limits']],\n",
       " [[1660.7696533203125, 'marks']],\n",
       " [[1610.887451171875, 'inscriptions']],\n",
       " [[964.9742431640625, 'the graphics']],\n",
       " [[897.3095092773438, 'the visibility']],\n",
       " [[3108.322265625, 'legibility']],\n",
       " [[977.76806640625, 'the infringement']],\n",
       " [[864.7769775390625, 'the party']],\n",
       " [[1557.4373779296875, 'viewpoint']],\n",
       " [[1405.068603515625, 'practices']],\n",
       " [[878.4149169921875, 'the obligation']],\n",
       " [[4666.3681640625, 'the dissemination']],\n",
       " [[3112.38525390625, 'criminal law']],\n",
       " [[931.1624755859375, 'the texts']],\n",
       " [[1512.0631103515625, 'Luxembourg']],\n",
       " [[2408.169189453125, 'Accession']],\n",
       " [[1592.2296142578125, 'Spain']],\n",
       " [[1660.39794921875, 'Portugal']],\n",
       " [[798.51220703125, 'the performances']],\n",
       " [[919.8934936523438, 'the lifetime']],\n",
       " [[916.924560546875, 'the stresses']],\n",
       " [[1277.1236572265625, 'transport']],\n",
       " [[929.7584228515625, 'the compatibility']],\n",
       " [[2519.05126953125, 'body fluids']],\n",
       " [[920.1912231445312, 'the persons']],\n",
       " [[2178.65380859375, 'the duration frequency']],\n",
       " [[3738.46875, 'Infection']],\n",
       " [[4922.6533203125, 'Tissues']],\n",
       " [[3450.211669921875, 'veterinary controls']],\n",
       " [[2861.17236328125, 'Notified']],\n",
       " [[2627.658447265625, 'the geographical origin']],\n",
       " [[904.912353515625, 'the animals']],\n",
       " [[2153.52783203125, 'Processing']],\n",
       " [[3832.594970703125, 'transferable agents']],\n",
       " [[4205.9970703125, 'validated methods']],\n",
       " [[1548.841796875, 'elimination']],\n",
       " [[5956.97265625, 'viral inactivation']],\n",
       " [[837.4140014648438, 'the course']],\n",
       " [[2052.326416015625, 'the protective packaging']],\n",
       " [[3123.2470703125, 'cleanliness']],\n",
       " [[1444.22265625, 'identical']],\n",
       " [[4313.33349609375, 'electrostatic discharge']],\n",
       " [[2815.110595703125, 'pressure acceleration']],\n",
       " [[2989.671630859375, 'implants']],\n",
       " [[2957.50244140625, 'flam']],\n",
       " [[2356.6640625, 'Protection against']],\n",
       " [[1799.8765869140625, 'medical purpose']],\n",
       " [[3057.03271484375, 'variable parameters']],\n",
       " [[1436.109619140625, 'displays']],\n",
       " [[4916.53076171875, 'Unintended']],\n",
       " [[882.752685546875, 'the quantity']],\n",
       " [[1678.492919921875, 'geometry']],\n",
       " [[2624.544677734375, 'image quality']],\n",
       " [[1000.4785766601562, 'the dose']],\n",
       " [[2649.849853515625, 'electromagnetic fields']],\n",
       " [[2944.28271484375, 'technical progress']],\n",
       " [[5631.060546875, 'STERILE']],\n",
       " [[4923.732421875, 'slipperiness']],\n",
       " [[3733.9375, 'Finishes']],\n",
       " [[1235.752197265625, 'surfaces']],\n",
       " [[2763.9716796875, 'Ramps']],\n",
       " [[1362.1934814453125, 'degrees']],\n",
       " [[2730.07958984375, 'Lighting']],\n",
       " [[3044.025390625, 'Advice']],\n",
       " [[1415.2353515625, 'cables']],\n",
       " [[2314.38623046875, 'Cable routes']],\n",
       " [[949.6455078125, 'the cable']],\n",
       " [[1273.143310546875, 'circuit']],\n",
       " [[1115.700439453125, 'base']],\n",
       " [[1189.621337890625, 'head']],\n",
       " [[2746.7685546875, 'Vents']],\n",
       " [[5795.5458984375, 'Refuse chutes']],\n",
       " [[4033.14990234375, 'refuse hoppers']],\n",
       " [[1844.6195068359375, 'the open air']],\n",
       " [[4831.86328125, 'Width']],\n",
       " [[1738.475341796875, 'strings']],\n",
       " [[2288.602783203125, 'Acco']],\n",
       " [[2489.76904296875, 'mm min']],\n",
       " [[3263.61279296875, 'mm zone above']],\n",
       " [[1668.687255859375, 'podium']],\n",
       " [[2635.853515625, 'a podium']],\n",
       " [[5340.37255859375, 'Dimensional']],\n",
       " [[815.0546264648438, 'the line']],\n",
       " [[2814.546875, 'latch']],\n",
       " [[2890.6689453125, 'the fastening']],\n",
       " [[3180.613037109375, 'Operable']],\n",
       " [[1375.0294189453125, 'empty']],\n",
       " [[9512.623046875, 'combination keypad swipe']],\n",
       " [[3474.8828125, 'proximity card']],\n",
       " [[4559.45751953125, 'biometric data']],\n",
       " [[5721.67333984375, 'Electrically powered locks']],\n",
       " [[2566.549560546875, 'the unlocked position']],\n",
       " [[1478.199462890625, 'locks']],\n",
       " [[1640.614501953125, 'Direction']],\n",
       " [[861.8803100585938, 'the direction']],\n",
       " [[4853.37841796875, 'Amount']],\n",
       " [[1213.7626953125, 'Open']],\n",
       " [[853.483642578125, 'the effective']],\n",
       " [[2531.41845703125, 'Vision panels']],\n",
       " [[3585.2001953125, 'revolving doors']],\n",
       " [[5646.26953125, 'turnstiles']],\n",
       " [[2360.487548828125, 'outward opening']],\n",
       " [[2217.17724609375, 'the revolving']],\n",
       " [[4422.87255859375, 'turnstile']],\n",
       " [[1012.1656494140625, 'walkway']],\n",
       " [[3383.76904296875, 'a level threshold']],\n",
       " [[4357.78564453125, 'transformer chambers']],\n",
       " [[2120.50244140625, 'internal structure']],\n",
       " [[2484.8798828125, 'fumes']],\n",
       " [[6558.81689453125, 'Furniture']],\n",
       " [[4191.046875, 'Wallcoverings']],\n",
       " [[1420.4066162109375, 'substrate']],\n",
       " [[2915.713623046875, 'Window frames']],\n",
       " [[5721.63232421875, 'Architraves']],\n",
       " [[7108.37548828125, 'cover moulds']],\n",
       " [[3620.873291015625, 'picture rails']],\n",
       " [[3449.77294921875, 'skirtings']],\n",
       " [[3016.325439453125, 'narrow members']],\n",
       " [[4248.0810546875, 'Fireplace surrounds']],\n",
       " [[3738.590087890625, 'mantle shelves']],\n",
       " [[1115.578857421875, 'Parts']],\n",
       " [[5978.37841796875, 'Glazed surfaces']],\n",
       " [[909.53466796875, 'the limitations']],\n",
       " [[2527.166015625, 'Special applications']],\n",
       " [[2460.7861328125, 'flexible membrane']],\n",
       " [[2534.457275390625, 'Fire behaviour']],\n",
       " [[5171.515625, 'insulating core panels']],\n",
       " [[1504.2186279296875, 'internally']],\n",
       " [[1399.71728515625, 'proximity']],\n",
       " [[6066.41796875, 'delaminate']],\n",
       " [[2356.521484375, 'the lower face']],\n",
       " [[4815.01171875, 'PART OF']],\n",
       " [[6853.689453125, 'FORMING']],\n",
       " [[5184.1484375, 'Suspended']],\n",
       " [[1375.35791015625, 'Upper']],\n",
       " [[6349.21728515625, 'No restriction D - s3']],\n",
       " [[3898.18310546875, 'the maximum percentage quoted']],\n",
       " [[2350.92578125, 'concealed spaces']],\n",
       " [[3227.215576171875, 'stabilis']],\n",
       " [[2707.503662109375, 'curtain walls']],\n",
       " [[5930.2958984375, 'forms of cladding']],\n",
       " [[2087.029052734375, 'the structural members']],\n",
       " [[4843.64013671875, 'semi - detached']],\n",
       " [[827.9571533203125, 'the garage']],\n",
       " [[844.4193115234375, 'the rest']],\n",
       " [[4798.05908203125, 'rafters']],\n",
       " [[4101.38232421875, 'trussed']],\n",
       " [[2628.848876953125, 'the truss']],\n",
       " [[7549.09765625, 'timber tiling battens']],\n",
       " [[3086.2705078125, 'ANY']],\n",
       " [[1460.8385009765625, 'deck']],\n",
       " [[7510.357421875, 'profiled steel cladding']],\n",
       " [[851.1690673828125, 'the junction']],\n",
       " [[4374.251953125, 'OTHER']],\n",
       " [[2730.478271484375, 'Boarding']],\n",
       " [[2970.63427734375, 'bedded']],\n",
       " [[3062.834228515625, 'boarding slab']],\n",
       " [[1269.443115234375, 'felt']],\n",
       " [[10419.2734375, 'the upstand / parapet wall']],\n",
       " [[932.0146484375, 'the edges']],\n",
       " [[5729.66162109375, 'Domestic meter cupboards']],\n",
       " [[2473.593017578125, 'Two leaves']],\n",
       " [[1386.2767333984375, 'Steel']],\n",
       " [[3174.822998046875, 'Timber']],\n",
       " [[7700.43603515625, 'Polythene']],\n",
       " [[5251.720703125, 'sleeved mineral wool']],\n",
       " [[1666.8489990234375, 'compression']],\n",
       " [[10462.81640625, 'Calcium silicate']],\n",
       " [[790.6383666992188, 'the frame']],\n",
       " [[1524.8038330078125, 'tiles']],\n",
       " [[1517.1304931640625, 'melting']],\n",
       " [[1686.0718994140625, 'expectation']],\n",
       " [[3033.909423828125, 'Ducts']],\n",
       " [[3523.48193359375, 'parking vehicles']],\n",
       " [[863.8120727539062, 'the note']],\n",
       " [[2958.079833984375, 'deform']],\n",
       " [[2423.234375, 'vertical load']],\n",
       " [[3760.39794921875, 'the middle half of']],\n",
       " [[1451.566162109375, 'zero']],\n",
       " [[936.191650390625, 'the supports']],\n",
       " [[1296.3828125, 'Junction']],\n",
       " [[1968.277099609375, '` Office']],\n",
       " [[2430.755859375, 'service cables']],\n",
       " [[2576.7216796875, 'Atria']],\n",
       " [[6184.7060546875, 'Escalators']],\n",
       " [[4477.9599609375, 'uninsulated']],\n",
       " [[2711.322021484375, 'compartment bounded']],\n",
       " [[4345.19873046875, 'sides walls fourth']],\n",
       " [[3551.0732421875, 'corridor Pipes']],\n",
       " [[909.283935546875, 'the mechanism']],\n",
       " [[2479.88134765625, 'LPG']],\n",
       " [[4266.39013671875, 'Of screwed steel']],\n",
       " [[6793.06689453125, 'welded steel construction']],\n",
       " [[3273.46240234375, 'Situations']],\n",
       " [[2482.65380859375, 'Inlets']],\n",
       " [[921.126220703125, 'the bottom']],\n",
       " [[2518.78271484375, 'Both surfaces']],\n",
       " [[2453.009521484375, 'the inner skins']],\n",
       " [[5524.9853515625, 'demountable']],\n",
       " [[4731.0751953125, 'Soffit']],\n",
       " [[1586.62255859375, 'skins']],\n",
       " [[5525.3232421875, 'Fibre - cement']],\n",
       " [[1193.849609375, 'limit']],\n",
       " [[4371.5791015625, 'flaming droplets']],\n",
       " [[2320.314697265625, 'the casing']],\n",
       " [[4366.01708984375, 'Pipe specification']],\n",
       " [[4942.0068359375, 'Sleeve']],\n",
       " [[3589.849853515625, 'aluminium alloy']],\n",
       " [[1073.69677734375, 'Structure']],\n",
       " [[3099.165771484375, 'exhaust points']],\n",
       " [[1583.0107421875, 'filters']],\n",
       " [[2574.192626953125, 'Cause the system']],\n",
       " [[1358.3118896484375, 'extraction']],\n",
       " [[6178.4384765625, 'Thermally actuated']],\n",
       " [[2467.116455078125, 'grease']],\n",
       " [[4627.59423828125, 'actuating mechanism']],\n",
       " [[5871.68603515625, 'the ASFP Grey Book']],\n",
       " [[1547.611083984375, 'cable']],\n",
       " [[1754.386962890625, 'displacement']],\n",
       " [[1237.665283203125, 'span']],\n",
       " [[2727.97314453125, 'Different materials']],\n",
       " [[8628.0849609375, 'vermiculite']],\n",
       " [[4386.5146484375, 'perlite mixes']],\n",
       " [[2986.5947265625, 'crushed rock']],\n",
       " [[3558.34375, 'Intumes']],\n",
       " [[3980.87060546875, 'mastics']],\n",
       " [[2847.60302734375, 'Best Practice']],\n",
       " [[2903.582275390625, 'ASFP']],\n",
       " [[2343.482421875, 'the functions b']],\n",
       " [[877.5731201171875, 'Classification']],\n",
       " [[4316.54931640625, 'th March 2007']],\n",
       " [[4891.51513671875, 'backer rods i']],\n",
       " [[1214.857666015625, 'hotel']],\n",
       " [[1573.8135986328125, 'ignition']],\n",
       " [[1595.382080078125, 'Flame']],\n",
       " [[784.8150634765625, 'the advice']],\n",
       " [[2613.403564453125, 'Profiled']],\n",
       " [[6570.22900390625, 'Timber cladding']],\n",
       " [[3777.7998046875, 'metal composite panels']],\n",
       " [[2978.59521484375, 'student accommodation']],\n",
       " [[5112.9306640625, 'dormitories']],\n",
       " [[2730.5625, 'boarding schools']],\n",
       " [[3066.79541015625, 'attachments number']],\n",
       " [[1660.176025390625, 'orientation']],\n",
       " [[6349.2490234375, 'Membranes']],\n",
       " [[5240.02978515625, 'laminated glass']],\n",
       " [[4606.78271484375, 'Shop front signs']],\n",
       " [[1558.073974609375, 'boundaries']],\n",
       " [[1217.4609375, 'influence']],\n",
       " [[1557.1688232421875, 'railway']],\n",
       " [[1324.041748046875, 'canal']],\n",
       " [[1495.547119140625, 'river']],\n",
       " [[1177.1087646484375, 'boundary']],\n",
       " [[2651.55419921875, 'boundary coincide']],\n",
       " [[904.810302734375, 'the inside']],\n",
       " [[903.5245971679688, 'the canopy']],\n",
       " [[4359.01171875, 'Canopies']],\n",
       " [[2468.44921875, 'Exempt Buildings']],\n",
       " [[1017.5283203125, 'Work']],\n",
       " [[3176.3857421875, 'Free - standing']],\n",
       " [[5705.873046875, 'Canopy 2m']],\n",
       " [[2210.075439453125, 'boundary relevant']],\n",
       " [[3329.64599609375, 'Projections']],\n",
       " [[2667.57275390625, 'Vert']],\n",
       " [[4672.47265625, 'dormer windows']],\n",
       " [[879.4928588867188, 'the slope']],\n",
       " [[4604.1962890625, 'urning']],\n",
       " [[2733.99755859375, 'portal frames']],\n",
       " [[2574.485595703125, 'reinforced concrete']],\n",
       " [[4005.1796875, 'overturning']],\n",
       " [[2789.220703125, 'size depth']],\n",
       " [[929.1370239257812, 'the columns']],\n",
       " [[2759.78369140625, 'Intermediate values']],\n",
       " [[1375.520263671875, 'percentage']],\n",
       " [[7763.1201171875, 'a rectangle']],\n",
       " [[2638.737548828125, 'Thatch']],\n",
       " [[5918.37744140625, 'Surrounding']],\n",
       " [[2536.8701171875, 'roof Distance']],\n",
       " [[2159.076904296875, 'm At']],\n",
       " [[12587.900390625, 'l l l l CROOF']],\n",
       " [[2672.11962890625, 'l   l']],\n",
       " [[3312.277587890625, 'a cubic capacity']],\n",
       " [[6157.9189453125, 'verandah']],\n",
       " [[2623.025390625, 'outbuilding']],\n",
       " [[4303.17041015625, 'laminate products']],\n",
       " [[2597.80322265625, 'upper surfaces']],\n",
       " [[2760.21484375, 'fight fire']],\n",
       " [[3069.8212890625, 'statutory duty']],\n",
       " [[899.969482421875, 'the hose']],\n",
       " [[3153.746337890625, 'Turning circle']],\n",
       " [[3746.71630859375, 'hammerhead']],\n",
       " [[6979.6416015625, 'Exit 20m max']],\n",
       " [[4344.4248046875, 'tonne capacity']],\n",
       " [[1627.3570556640625, 'tonnes']],\n",
       " [[2556.578125, 'Within sight']],\n",
       " [[907.4149780273438, 'the inlet']],\n",
       " [[3928.630615234375, 'the suction tank']],\n",
       " [[1195.560791015625, 'Normally']],\n",
       " [[3464.97998046875, 'Kept']],\n",
       " [[3869.451416015625, 'a conspicuous position']],\n",
       " [[4028.2685546875, 'BS 3251']],\n",
       " [[2227.170654296875, 'An source']],\n",
       " [[1146.0826416015625, 'supply']],\n",
       " [[1663.211669921875, 'pond']],\n",
       " [[3114.55712890625, 'Provid']],\n",
       " [[2995.3525390625, 'Outlets']],\n",
       " [[5703.72900390625, 'Hose laying distance']],\n",
       " [[3736.6044921875, 'the hose laying distance']],\n",
       " [[1553.224609375, 'Additionally']],\n",
       " [[3335.130859375, 'Only services']],\n",
       " [[1102.47314453125, 'lighting']],\n",
       " [[2168.52001953125, 'the basement levels']],\n",
       " [[2904.2919921875, 'cooler air']],\n",
       " [[888.7740478515625, 'the perimeter']],\n",
       " [[12342.693359375, 'a class A1 grille louvre']],\n",
       " [[5005.138671875, 'a panel stallboard']],\n",
       " [[2709.318359375, 'pavement light']],\n",
       " [[5833.044921875, 'air changes per hour']],\n",
       " [[3868.88916015625, 'bulkheads']],\n",
       " [[869.63671875, 'the element']],\n",
       " [[797.9781494140625, 'the responsible']],\n",
       " [[757.7864990234375, 'the services']],\n",
       " [[872.8271484375, 'the meaning']],\n",
       " [[845.577392578125, 'the project']],\n",
       " [[3878.40234375, 'routine maintenance schedules']],\n",
       " [[837.4710693359375, 'the evacuation']],\n",
       " [[1185.21728515625, 'complex']],\n",
       " [[4694.90966796875, 'effect matrix / strategy']],\n",
       " [[2677.3173828125, 'clause 9']],\n",
       " [[5043.7333984375, 'Muster points .']],\n",
       " [[3735.7880859375, 'electronic security locks']],\n",
       " [[5563.45703125, 'Duct dampers']],\n",
       " [[4199.3564453125, 'Fire shutters']],\n",
       " [[6048.873046875, 'Alarm call points']],\n",
       " [[4505.33251953125, 'Detection']],\n",
       " [[6051.326171875, 'Alarm sounders']],\n",
       " [[781.6009521484375, 'the above']],\n",
       " [[3748.745361328125, \"Operators '\"]],\n",
       " [[5122.22265625, 'System zoning']],\n",
       " [[6587.5361328125, 'Routine inspection']],\n",
       " [[2872.406982421875, 'maintenance schedules']],\n",
       " [[1631.193115234375, 'Records']],\n",
       " [[1606.50537109375, 'acceptance']],\n",
       " [[2371.1103515625, 'common because']],\n",
       " [[2330.66015625, 'railway room']],\n",
       " [[1391.30517578125, 'erection']],\n",
       " [[4460.9267578125, 'chute duct']],\n",
       " [[2725.021728515625, 'Atrium']],\n",
       " [[2167.220947265625, 'atria']],\n",
       " [[8564.2314453125, 'enclosed escalator wells']],\n",
       " [[4928.3466796875, 'Common balcony A walkway']],\n",
       " [[2766.36376953125, 'sides member']],\n",
       " [[1162.0721435546875, 'frame']],\n",
       " [[1122.3961181640625, 'column']],\n",
       " [[3097.63134765625, 'stage grid']],\n",
       " [[2244.5498046875, 'lighting bridge']],\n",
       " [[4858.7490234375, 'Dead end An area']],\n",
       " [[7590.6015625, 'Evacuation lift A']],\n",
       " [[1526.454833984375, 'residents']],\n",
       " [[1413.0303955078125, 'component']],\n",
       " [[709.3365478515625, 'the relevant']],\n",
       " ...]"
      ]
     },
     "execution_count": 73,
     "metadata": {},
     "output_type": "execute_result"
    }
   ],
   "source": [
    "[v for v in phrase_cluster_dict.values() if len(v) == 1]"
   ]
  },
  {
   "cell_type": "code",
   "execution_count": null,
   "id": "d4090b16",
   "metadata": {},
   "outputs": [],
   "source": []
  }
 ],
 "metadata": {
  "kernelspec": {
   "display_name": "Python 3 (ipykernel)",
   "language": "python",
   "name": "python3"
  },
  "language_info": {
   "codemirror_mode": {
    "name": "ipython",
    "version": 3
   },
   "file_extension": ".py",
   "mimetype": "text/x-python",
   "name": "python",
   "nbconvert_exporter": "python",
   "pygments_lexer": "ipython3",
   "version": "3.9.7"
  }
 },
 "nbformat": 4,
 "nbformat_minor": 5
}
