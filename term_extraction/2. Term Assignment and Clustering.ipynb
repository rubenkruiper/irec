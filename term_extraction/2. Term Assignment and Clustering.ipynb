{
 "cells": [
  {
   "cell_type": "code",
   "execution_count": 1,
   "id": "e3659dd2",
   "metadata": {},
   "outputs": [],
   "source": [
    "from typing import Union, List, Any, Optional, Dict\n",
    "\n",
    "import os\n",
    "import re\n",
    "import time\n",
    "import json\n",
    "import glob\n",
    "import pickle\n",
    "import random\n",
    "import urllib\n",
    "import requests\n",
    "import subprocess\n",
    "import concurrent.futures\n",
    "\n",
    "import numpy as np\n",
    "import pandas as pd\n",
    "\n",
    "from tqdm import tqdm\n",
    "from pathlib import Path\n",
    "\n",
    "\n",
    "from utils import cleaning_utils\n",
    "from utils import cluster_utils\n",
    "from utils import IDF_computation\n",
    "from utils import embedding_utils as embedding\n",
    "from utils.customdocument import CustomDocument"
   ]
  },
  {
   "cell_type": "markdown",
   "id": "5c444bb6",
   "metadata": {},
   "source": [
    "### 1 Clustering the terms"
   ]
  },
  {
   "cell_type": "markdown",
   "id": "ae929a56",
   "metadata": {},
   "source": [
    "<div class=\"alert alert-block alert-info\">\n",
    "We'll also try an unsupervised clustering-based approach. The aim is to assign a domain to UNSEEN spans. <br>\n",
    "    \n",
    "Using unsupervised clustering means we have to pick a value for K ~ the number of clusters. K determines roughly how many terms are filtered (each cluster that has a background term in it), a low K will have many terms removed and a high K will have few terms removed.\n",
    "</div>\n",
    "\n",
    "* As a heuristic for determining a reasonable value for K we rely on the Elbow method and sillhouette score; these are not optimal solutions but this doesn't matter much in our case. \n",
    "  * In general, our dataset is larger and more diverse than usually desired with KMeans. As an example, a rule of thumb for selecting K is the square root of half the number of samples `k = (16000/2)**.5 = 89.4`. This is a completely unrealistic value of K for our usecase, as it would mean there are only 90-odd concepts that occur in our sets of input corpora.\n",
    "  * However, we will see that (1) the elbow method, (2) sillhouette scores, as well as (3) gap statistics indicate how hard it is to cluster a large set of text embeddings. \n",
    "  \n",
    "Based on these heuristics we'll pick a K that could reasonable well distinguish whether an unseen term is within the AEC domain.\n",
    "  "
   ]
  },
  {
   "cell_type": "code",
   "execution_count": 2,
   "id": "83e4bbc5",
   "metadata": {},
   "outputs": [],
   "source": [
    "embedding_output_fp = Path(\"output/\")\n",
    "unique_background_spans = pickle.load(open(embedding_output_fp.joinpath(\"unique_background_spans.pkl\"), 'rb'))\n",
    "unique_spans = pickle.load(open(embedding_output_fp.joinpath(\"unique_spans.pkl\"), 'rb'))\n",
    "standardised_clustering_data = pickle.load(open(embedding_output_fp.joinpath(\"standardised_embeddings.pkl\"), 'rb'))"
   ]
  },
  {
   "cell_type": "code",
   "execution_count": 3,
   "id": "1127e5ec",
   "metadata": {},
   "outputs": [],
   "source": [
    "# clustering approach (I think I'll simply use the kNN approach)\n",
    "def compute_clusters_sklearn(standardised_clustering_data, cluster_model_fp: Path, num_clusters=10):\n",
    "    \"\"\"\n",
    "    Note that this clustering function relies on the CPU. It won't be able to compute clusters for large \n",
    "    amounts of inputs, e.g., 100.000 spans. When using a large number of clusters (e.g. 20K) it is also\n",
    "    a lot slower than a GPU implementation for. Or it may simply not converge! \n",
    "    For large inputs/num_clusters you'll need to use compute_clusters_kmcuda, and have access to a GPU.\n",
    "    \"\"\"\n",
    "    print(f\"Computing {num_clusters} clusters from scratch, using sklearn on the CPU\")\n",
    "    start_time = time.time()\n",
    "    sklearn_kmeans = KMeans(n_clusters=num_clusters, init='k-means++', max_iter=5, n_init=1, random_state=14,\n",
    "                            tol=0.0001, verbose=0)\n",
    "    assignments = sklearn_kmeans.fit_predict(standardised_clustering_data)\n",
    "    centroids = sklearn_kmeans.cluster_centers_\n",
    "    print(\"Clustering took {}\".format(time.time() - start_time))\n",
    "    with open(cluster_model_fp, 'wb') as f:\n",
    "        pickle.dump((centroids, assignments), f)"
   ]
  },
  {
   "cell_type": "code",
   "execution_count": 4,
   "id": "7fb67c87",
   "metadata": {},
   "outputs": [
    {
     "name": "stdout",
     "output_type": "stream",
     "text": [
      "sklearn cluster file exists for 500 clusters\n",
      "sklearn cluster file exists for 1000 clusters\n",
      "sklearn cluster file exists for 1500 clusters\n",
      "sklearn cluster file exists for 2000 clusters\n",
      "sklearn cluster file exists for 2500 clusters\n",
      "sklearn cluster file exists for 3000 clusters\n",
      "sklearn cluster file exists for 3500 clusters\n",
      "sklearn cluster file exists for 4000 clusters\n",
      "sklearn cluster file exists for 4500 clusters\n",
      "sklearn cluster file exists for 5000 clusters\n",
      "sklearn cluster file exists for 5500 clusters\n",
      "sklearn cluster file exists for 6000 clusters\n",
      "sklearn cluster file exists for 6500 clusters\n",
      "sklearn cluster file exists for 7000 clusters\n",
      "sklearn cluster file exists for 7500 clusters\n",
      "sklearn cluster file exists for 8000 clusters\n",
      "sklearn cluster file exists for 8500 clusters\n",
      "sklearn cluster file exists for 9000 clusters\n",
      "sklearn cluster file exists for 9500 clusters\n",
      "sklearn cluster file exists for 10000 clusters\n",
      "sklearn cluster file exists for 10500 clusters\n",
      "sklearn cluster file exists for 11000 clusters\n",
      "sklearn cluster file exists for 11500 clusters\n",
      "sklearn cluster file exists for 12000 clusters\n"
     ]
    }
   ],
   "source": [
    "clustering_type = \"sklearn\"   # deprecated; we're only using the sklearn implementation of kmeans \n",
    "# Computing clusters on the CPU\n",
    "for num_clusters in range(500,12001, 500):\n",
    "    cluster_file = embedding_output_fp.joinpath(f\"sklearn_{num_clusters}_clusters.pkl\")\n",
    "    if not os.path.exists(cluster_file):\n",
    "        compute_clusters_sklearn(standardised_clustering_data, cluster_file, num_clusters)\n",
    "    else:\n",
    "        print(f\"sklearn cluster file exists for {num_clusters} clusters\")"
   ]
  },
  {
   "cell_type": "code",
   "execution_count": 5,
   "id": "a00ed5ad",
   "metadata": {},
   "outputs": [],
   "source": [
    "clustering_files = embedding_output_fp.glob(f'{clustering_type}_*.pkl')"
   ]
  },
  {
   "cell_type": "code",
   "execution_count": 6,
   "id": "dd912443",
   "metadata": {},
   "outputs": [
    {
     "name": "stdout",
     "output_type": "stream",
     "text": [
      "Computing elbow and silhouette (if not too many num_clusters) scores.\n"
     ]
    },
    {
     "name": "stderr",
     "output_type": "stream",
     "text": [
      "24it [00:00, 1441.09it/s]"
     ]
    },
    {
     "name": "stdout",
     "output_type": "stream",
     "text": [
      "Loading values from existing csv file: output/sklearn_4500_clusters.pkl\n",
      "Loading values from existing csv file: output/sklearn_5000_clusters.pkl\n",
      "Loading values from existing csv file: output/sklearn_3500_clusters.pkl\n",
      "Loading values from existing csv file: output/sklearn_2000_clusters.pkl\n",
      "Loading values from existing csv file: output/sklearn_12000_clusters.pkl\n",
      "Loading values from existing csv file: output/sklearn_500_clusters.pkl\n",
      "Loading values from existing csv file: output/sklearn_2500_clusters.pkl\n",
      "Loading values from existing csv file: output/sklearn_3000_clusters.pkl\n",
      "Loading values from existing csv file: output/sklearn_5500_clusters.pkl\n",
      "Loading values from existing csv file: output/sklearn_4000_clusters.pkl\n",
      "Loading values from existing csv file: output/sklearn_1000_clusters.pkl\n",
      "Loading values from existing csv file: output/sklearn_11500_clusters.pkl\n",
      "Loading values from existing csv file: output/sklearn_10000_clusters.pkl\n",
      "Loading values from existing csv file: output/sklearn_7500_clusters.pkl\n",
      "Loading values from existing csv file: output/sklearn_6000_clusters.pkl\n",
      "Loading values from existing csv file: output/sklearn_9000_clusters.pkl\n",
      "Loading values from existing csv file: output/sklearn_8500_clusters.pkl\n",
      "Loading values from existing csv file: output/sklearn_6500_clusters.pkl\n",
      "Loading values from existing csv file: output/sklearn_7000_clusters.pkl\n",
      "Loading values from existing csv file: output/sklearn_8000_clusters.pkl\n",
      "Loading values from existing csv file: output/sklearn_9500_clusters.pkl\n",
      "Loading values from existing csv file: output/sklearn_1500_clusters.pkl\n",
      "Loading values from existing csv file: output/sklearn_10500_clusters.pkl\n",
      "Loading values from existing csv file: output/sklearn_11000_clusters.pkl\n",
      "Plotting the figure\n"
     ]
    },
    {
     "name": "stderr",
     "output_type": "stream",
     "text": [
      "\n"
     ]
    },
    {
     "data": {
      "image/png": "[encoded data removed]",
      "text/plain": [
       "<Figure size 1440x480 with 3 Axes>"
      ]
     },
     "metadata": {},
     "output_type": "display_data"
    }
   ],
   "source": [
    "# This takes a bit of time; 6-10 minutes per cluster size for 2000-6000 clusters \n",
    "# but resulting scores are saved in a csv and reused\n",
    "es = cluster_utils.ElbowAndSilhouette(embedding_output_fp)\n",
    "es.compute_scores_for_models(clustering_type, clustering_files)"
   ]
  },
  {
   "cell_type": "markdown",
   "id": "0c41b3a8",
   "metadata": {},
   "source": [
    "* Sum of Squared Errors (SSE) is an indication of the sum of squared distances between points in a cluster and the cluster centroid.\n",
    "* The silhouette score of a point measures how close that point lies to its nearest neighbor points, across all clusters. \n",
    "\n",
    "While SSE and the silhouette score are often used for determining a good value for K, they do not always provide the right type of insight in the optimal K. Better alternatives exist (Schubert, 2022) and one of these options is the gap statistic (Tibshirani et al., 2001)."
   ]
  },
  {
   "cell_type": "code",
   "execution_count": 7,
   "id": "1479e2d7",
   "metadata": {},
   "outputs": [],
   "source": [
    "## Gap statistic; \n",
    "## Uncomment to run, takes a while and basically ends up saying that K should be close to the number of input data points\n",
    "# optimalK = OptimalK(n_jobs=6, parallel_backend='joblib')\n",
    "# n_clusters = optimalK(standardised_clustering_data, cluster_array=np.arange(250, 16251, 500))\n",
    "# optimalK.gap_df.head()"
   ]
  },
  {
   "cell_type": "code",
   "execution_count": 8,
   "id": "cc1d310a",
   "metadata": {},
   "outputs": [],
   "source": [
    "# print(f\"Optimal number of clusters: {n_clusters}\")\n",
    "# plt.plot(optimalK.gap_df.n_clusters, optimalK.gap_df.gap_value, linewidth=3)\n",
    "# plt.scatter(optimalK.gap_df[optimalK.gap_df.n_clusters == n_clusters].n_clusters,\n",
    "#             optimalK.gap_df[optimalK.gap_df.n_clusters == n_clusters].gap_value, s=250, c='r')\n",
    "# plt.grid(True)\n",
    "# plt.xlabel('Cluster Count')\n",
    "# plt.ylabel('Gap Value')\n",
    "# plt.title('Gap Values by Cluster Count')\n",
    "# plt.show()"
   ]
  },
  {
   "cell_type": "markdown",
   "id": "cad216d0",
   "metadata": {},
   "source": [
    "* Based on the Elbow score, we might expect K to lie around 3000. \n",
    "* Based on the sillhouette scores the ideal K may be closer to 7500.\n",
    "* Based on the Gap Statistics K should be somewhere closer to 15000.\n",
    "\n",
    "We are using the cluster-assignment to distinguish between AEC and non-AEC terms. Based on the number of non-domain terms in a cluster, we will assign a likelihood of the cluster being within the AEC domain. A large number of clusters will make it hard to classify unseen terms into a group of similar spans. A very small number of clusters will make it hard to distinguish whether a cluster contains mostly AEC or non-AEC terms."
   ]
  },
  {
   "cell_type": "markdown",
   "id": "75b7bace",
   "metadata": {},
   "source": [
    "### 2 Filtering terms based on cluster assignment"
   ]
  },
  {
   "cell_type": "markdown",
   "id": "551021da",
   "metadata": {},
   "source": [
    "<div class=\"alert alert-block alert-info\">\n",
    "We first create a lookup-dictionary for the embedding and assigned cluster of each span\n",
    "</div>"
   ]
  },
  {
   "cell_type": "code",
   "execution_count": 9,
   "id": "fe4c5ccb",
   "metadata": {},
   "outputs": [],
   "source": [
    "# Based on the above we will set the number of clusters to 4500\n",
    "chosen_num_clusters = 4500\n",
    "cluster_model_to_use = embedding_output_fp.joinpath(f'{clustering_type}_{chosen_num_clusters}_clusters.pkl')"
   ]
  },
  {
   "cell_type": "code",
   "execution_count": 10,
   "id": "1d36c869",
   "metadata": {},
   "outputs": [],
   "source": [
    "centroids, assignments = pickle.load(open(cluster_model_to_use, 'rb'))\n",
    "cluster_dict_creator = cluster_utils.ClusterDict(unique_background_spans, \n",
    "                                                 unique_spans, \n",
    "                                                 standardised_clustering_data,  # important to use standardised embeddings\n",
    "                                                 centroids, \n",
    "                                                 assignments,\n",
    "                                                 embedding_fp=embedding_output_fp)"
   ]
  },
  {
   "cell_type": "code",
   "execution_count": 11,
   "id": "74063bf5",
   "metadata": {},
   "outputs": [
    {
     "name": "stdout",
     "output_type": "stream",
     "text": [
      "Computing the cluster dictionary.\n"
     ]
    }
   ],
   "source": [
    "phrase_cluster_dict, clusters_with_background_terms = cluster_dict_creator.prep_cluster_dict(chosen_num_clusters)"
   ]
  },
  {
   "cell_type": "code",
   "execution_count": 32,
   "id": "13c33c79",
   "metadata": {},
   "outputs": [
    {
     "data": {
      "text/html": [
       "<div>\n",
       "<style scoped>\n",
       "    .dataframe tbody tr th:only-of-type {\n",
       "        vertical-align: middle;\n",
       "    }\n",
       "\n",
       "    .dataframe tbody tr th {\n",
       "        vertical-align: top;\n",
       "    }\n",
       "\n",
       "    .dataframe thead th {\n",
       "        text-align: right;\n",
       "    }\n",
       "</style>\n",
       "<table border=\"1\" class=\"dataframe\">\n",
       "  <thead>\n",
       "    <tr style=\"text-align: right;\">\n",
       "      <th></th>\n",
       "      <th>span</th>\n",
       "      <th>num_background_neighbours</th>\n",
       "      <th>num_foreground_neighbours</th>\n",
       "      <th>foreground_cnt</th>\n",
       "      <th>background_cnt</th>\n",
       "      <th>TFIDF_fore_back</th>\n",
       "    </tr>\n",
       "    <tr>\n",
       "      <th>span_idx</th>\n",
       "      <th></th>\n",
       "      <th></th>\n",
       "      <th></th>\n",
       "      <th></th>\n",
       "      <th></th>\n",
       "      <th></th>\n",
       "    </tr>\n",
       "  </thead>\n",
       "  <tbody>\n",
       "    <tr>\n",
       "      <th>0</th>\n",
       "      <td>vessel</td>\n",
       "      <td>236</td>\n",
       "      <td>264</td>\n",
       "      <td>3</td>\n",
       "      <td>0</td>\n",
       "      <td>0.829818</td>\n",
       "    </tr>\n",
       "    <tr>\n",
       "      <th>1</th>\n",
       "      <td>expansion water</td>\n",
       "      <td>47</td>\n",
       "      <td>453</td>\n",
       "      <td>2</td>\n",
       "      <td>0</td>\n",
       "      <td>0.942027</td>\n",
       "    </tr>\n",
       "    <tr>\n",
       "      <th>2</th>\n",
       "      <td>a hot water system</td>\n",
       "      <td>48</td>\n",
       "      <td>452</td>\n",
       "      <td>2</td>\n",
       "      <td>0</td>\n",
       "      <td>0.797904</td>\n",
       "    </tr>\n",
       "  </tbody>\n",
       "</table>\n",
       "</div>"
      ],
      "text/plain": [
       "                        span  num_background_neighbours  \\\n",
       "span_idx                                                  \n",
       "0                     vessel                        236   \n",
       "1            expansion water                         47   \n",
       "2         a hot water system                         48   \n",
       "\n",
       "          num_foreground_neighbours  foreground_cnt  background_cnt  \\\n",
       "span_idx                                                              \n",
       "0                               264               3               0   \n",
       "1                               453               2               0   \n",
       "2                               452               2               0   \n",
       "\n",
       "          TFIDF_fore_back  \n",
       "span_idx                   \n",
       "0                0.829818  \n",
       "1                0.942027  \n",
       "2                0.797904  "
      ]
     },
     "execution_count": 32,
     "metadata": {},
     "output_type": "execute_result"
    }
   ],
   "source": [
    "# reload kNN based features\n",
    "span_features_df = pd.read_csv(embedding_output_fp.joinpath(\"span_features.csv\"), index_col=1)\n",
    "columns = ['span', 'num_background_neighbours', 'num_foreground_neighbours', 'foreground_cnt', 'background_cnt', 'TFIDF_fore_back']\n",
    "span_features_df.set_axis(columns, axis='columns', inplace=True)\n",
    "span_features_df[:3]"
   ]
  },
  {
   "cell_type": "code",
   "execution_count": 42,
   "id": "792d8151",
   "metadata": {},
   "outputs": [
    {
     "data": {
      "text/plain": [
       "0.8298175215895447"
      ]
     },
     "execution_count": 42,
     "metadata": {},
     "output_type": "execute_result"
    }
   ],
   "source": [
    "row = span_features_df.loc[span_features_df['span'] == 'vessel']\n",
    "row['TFIDF_fore_back'].values[0]"
   ]
  },
  {
   "cell_type": "code",
   "execution_count": 129,
   "id": "10f1321a",
   "metadata": {},
   "outputs": [],
   "source": [
    "def span_filter(all_spans_in_cluster, background_spans_in_cluster, span_features_df):\n",
    "    \"\"\"\n",
    "    We want to (1) identify clusters that we might want to remove and (2) spans that we might want to keep within\n",
    "    those clusters. Could play around with different settings or add features here.\n",
    "    \"\"\"\n",
    "    \n",
    "    # span-level features\n",
    "    min_TFIDF = .4\n",
    "    minimum_foreground_neighbours = 200\n",
    "    \n",
    "    spans_making_the_cut = []\n",
    "    for span in all_spans_in_cluster:\n",
    "        row = span_features_df.loc[span_features_df['span'] == 'vessel']\n",
    "        \n",
    "#         nbckgrn = row['num_background_neighbours'].values[0]\n",
    "        nfrgrn = row['num_foreground_neighbours'].values[0]\n",
    "#         fc = row['foreground_cnt'].values[0]\n",
    "#         bc = row['background_cnt'].values[0]\n",
    "        TFIDF = row['TFIDF_fore_back'].values[0]\n",
    "        \n",
    "        if TFIDF > min_TFIDF and (nfrgrn > minimum_foreground_neighbours):\n",
    "            spans_making_the_cut.append(span)\n",
    "    \n",
    "     \n",
    "    # cluster-level feature\n",
    "    ratio_fore_ground_background = len(background_spans_in_cluster) / len(all_spans_in_cluster)\n",
    "    ratio_making_the_cut = 1 - (len(number_of_spans_making_the_cut) / len(all_spans_in_cluster))\n",
    "    \n",
    "    \n",
    "    # cluster-level decision\n",
    "    cluster_ratio_w = 1\n",
    "    domain_spans_w = 1\n",
    "    if (ratio_fore_ground_background * cluster_ratio_w) + (ratio_making_the_cut * domain_spans_w) > 1:\n",
    "        # cluster will be removed!\n",
    "        return (True, spans_making_the_cut)\n",
    "    else:\n",
    "        \n",
    "        return (False, spans_making_the_cut)\n",
    "    \n",
    "        "
   ]
  },
  {
   "cell_type": "code",
   "execution_count": 133,
   "id": "02fa8b0a",
   "metadata": {},
   "outputs": [
    {
     "name": "stdout",
     "output_type": "stream",
     "text": [
      "\n",
      "False\n"
     ]
    },
    {
     "ename": "NameError",
     "evalue": "name 'cluster_made_it' is not defined",
     "output_type": "error",
     "traceback": [
      "\u001b[0;31m---------------------------------------------------------------------------\u001b[0m",
      "\u001b[0;31mNameError\u001b[0m                                 Traceback (most recent call last)",
      "\u001b[0;32m/var/folders/lp/l_mzhpjs6bg95plfkl_n_vsc0000gn/T/ipykernel_48187/3434313787.py\u001b[0m in \u001b[0;36m<module>\u001b[0;34m\u001b[0m\n\u001b[1;32m     17\u001b[0m                                                                   span_features_df)\n\u001b[1;32m     18\u001b[0m     \u001b[0mprint\u001b[0m\u001b[0;34m(\u001b[0m\u001b[0mx\u001b[0m\u001b[0;34m)\u001b[0m\u001b[0;34m\u001b[0m\u001b[0;34m\u001b[0m\u001b[0m\n\u001b[0;32m---> 19\u001b[0;31m     \u001b[0;32mif\u001b[0m \u001b[0mcluster_made_it\u001b[0m\u001b[0;34m:\u001b[0m\u001b[0;34m\u001b[0m\u001b[0;34m\u001b[0m\u001b[0m\n\u001b[0m\u001b[1;32m     20\u001b[0m         \u001b[0mfiltered_terms\u001b[0m \u001b[0;34m+=\u001b[0m \u001b[0;34m[\u001b[0m\u001b[0mx\u001b[0m \u001b[0;32mfor\u001b[0m \u001b[0mx\u001b[0m \u001b[0;32min\u001b[0m \u001b[0mall_spans_in_cluster\u001b[0m \u001b[0;32mif\u001b[0m \u001b[0mx\u001b[0m \u001b[0;32mnot\u001b[0m \u001b[0;32min\u001b[0m \u001b[0mspans_that_made_it\u001b[0m\u001b[0;34m]\u001b[0m\u001b[0;34m\u001b[0m\u001b[0;34m\u001b[0m\u001b[0m\n\u001b[1;32m     21\u001b[0m         \u001b[0mpotential_domain_terms\u001b[0m \u001b[0;34m+=\u001b[0m \u001b[0mspans_that_made_it\u001b[0m\u001b[0;34m\u001b[0m\u001b[0;34m\u001b[0m\u001b[0m\n",
      "\u001b[0;31mNameError\u001b[0m: name 'cluster_made_it' is not defined"
     ]
    }
   ],
   "source": [
    "# Preparing the filter based on cluster assignment\n",
    "domain_terms = []\n",
    "filtered_terms = []\n",
    "clusters_to_filter = []\n",
    "potential_domain_terms = []\n",
    "\n",
    "max_terms_to_show = 5\n",
    "for cluster_id in phrase_cluster_dict.keys():\n",
    "    all_spans_in_cluster = [span for score, span in phrase_cluster_dict[cluster_id]]\n",
    "    if cluster_id in clusters_with_background_terms:\n",
    "        background_spans_in_cluster = clusters_with_background_terms[cluster_id]\n",
    "    else:\n",
    "        background_spans_in_cluster = []\n",
    "    print()\n",
    "    x = cluster_feature_filter(all_spans_in_cluster, \n",
    "                                                                  background_spans_in_cluster, \n",
    "                                                                  span_features_df)\n",
    "    print(x)\n",
    "    if cluster_made_it:\n",
    "        filtered_terms += [x for x in all_spans_in_cluster if x not in spans_that_made_it]\n",
    "        potential_domain_terms += spans_that_made_it\n",
    "        clusters_to_filter.append(cluster_id)\n",
    "#         print(f\"Filtered terms: {all_spans_in_cluster[:max_terms_to_show]}\")\n",
    "    else:\n",
    "#         print(f\"AEC domain: {all_spans_in_cluster[:max_terms_to_show]}\")\n",
    "        domain_terms += all_spans_in_cluster"
   ]
  },
  {
   "cell_type": "code",
   "execution_count": 123,
   "id": "1b11e958",
   "metadata": {},
   "outputs": [
    {
     "name": "stdout",
     "output_type": "stream",
     "text": [
      "AEC domain terms:  16441\n"
     ]
    },
    {
     "data": {
      "text/plain": [
       "['roof venting',\n",
       " 'arrangements access',\n",
       " 'Building Regulation Fire safety',\n",
       " 'Reagents',\n",
       " 'All data',\n",
       " 'a legal requirement',\n",
       " 'the correlation table',\n",
       " 'performance safety characteristics',\n",
       " 'the integrity',\n",
       " 'protective barriers',\n",
       " 'Thermoplastic materials',\n",
       " 'closers',\n",
       " 'the guidance 5 14',\n",
       " 'a globally',\n",
       " 'a mass per']"
      ]
     },
     "execution_count": 123,
     "metadata": {},
     "output_type": "execute_result"
    }
   ],
   "source": [
    "print(\"AEC domain terms: \", len(domain_terms))\n",
    "random.sample(domain_terms, 15)"
   ]
  },
  {
   "cell_type": "code",
   "execution_count": 124,
   "id": "59149020",
   "metadata": {},
   "outputs": [
    {
     "name": "stdout",
     "output_type": "stream",
     "text": [
      "Filtered clusters:  0\n",
      "Filtered terms:  0\n"
     ]
    },
    {
     "ename": "ValueError",
     "evalue": "Sample larger than population or is negative",
     "output_type": "error",
     "traceback": [
      "\u001b[0;31m---------------------------------------------------------------------------\u001b[0m",
      "\u001b[0;31mValueError\u001b[0m                                Traceback (most recent call last)",
      "\u001b[0;32m/var/folders/lp/l_mzhpjs6bg95plfkl_n_vsc0000gn/T/ipykernel_48187/769620038.py\u001b[0m in \u001b[0;36m<module>\u001b[0;34m\u001b[0m\n\u001b[1;32m      1\u001b[0m \u001b[0mprint\u001b[0m\u001b[0;34m(\u001b[0m\u001b[0;34m\"Filtered clusters: \"\u001b[0m\u001b[0;34m,\u001b[0m \u001b[0mlen\u001b[0m\u001b[0;34m(\u001b[0m\u001b[0mclusters_to_filter\u001b[0m\u001b[0;34m)\u001b[0m\u001b[0;34m)\u001b[0m\u001b[0;34m\u001b[0m\u001b[0;34m\u001b[0m\u001b[0m\n\u001b[1;32m      2\u001b[0m \u001b[0mprint\u001b[0m\u001b[0;34m(\u001b[0m\u001b[0;34m\"Filtered terms: \"\u001b[0m\u001b[0;34m,\u001b[0m \u001b[0mlen\u001b[0m\u001b[0;34m(\u001b[0m\u001b[0mfiltered_terms\u001b[0m\u001b[0;34m)\u001b[0m\u001b[0;34m)\u001b[0m\u001b[0;34m\u001b[0m\u001b[0;34m\u001b[0m\u001b[0m\n\u001b[0;32m----> 3\u001b[0;31m \u001b[0mrandom\u001b[0m\u001b[0;34m.\u001b[0m\u001b[0msample\u001b[0m\u001b[0;34m(\u001b[0m\u001b[0mfiltered_terms\u001b[0m\u001b[0;34m,\u001b[0m \u001b[0;36m15\u001b[0m\u001b[0;34m)\u001b[0m\u001b[0;34m\u001b[0m\u001b[0;34m\u001b[0m\u001b[0m\n\u001b[0m",
      "\u001b[0;32m~/.conda/envs/haystack/lib/python3.9/random.py\u001b[0m in \u001b[0;36msample\u001b[0;34m(self, population, k, counts)\u001b[0m\n\u001b[1;32m    447\u001b[0m         \u001b[0mrandbelow\u001b[0m \u001b[0;34m=\u001b[0m \u001b[0mself\u001b[0m\u001b[0;34m.\u001b[0m\u001b[0m_randbelow\u001b[0m\u001b[0;34m\u001b[0m\u001b[0;34m\u001b[0m\u001b[0m\n\u001b[1;32m    448\u001b[0m         \u001b[0;32mif\u001b[0m \u001b[0;32mnot\u001b[0m \u001b[0;36m0\u001b[0m \u001b[0;34m<=\u001b[0m \u001b[0mk\u001b[0m \u001b[0;34m<=\u001b[0m \u001b[0mn\u001b[0m\u001b[0;34m:\u001b[0m\u001b[0;34m\u001b[0m\u001b[0;34m\u001b[0m\u001b[0m\n\u001b[0;32m--> 449\u001b[0;31m             \u001b[0;32mraise\u001b[0m \u001b[0mValueError\u001b[0m\u001b[0;34m(\u001b[0m\u001b[0;34m\"Sample larger than population or is negative\"\u001b[0m\u001b[0;34m)\u001b[0m\u001b[0;34m\u001b[0m\u001b[0;34m\u001b[0m\u001b[0m\n\u001b[0m\u001b[1;32m    450\u001b[0m         \u001b[0mresult\u001b[0m \u001b[0;34m=\u001b[0m \u001b[0;34m[\u001b[0m\u001b[0;32mNone\u001b[0m\u001b[0;34m]\u001b[0m \u001b[0;34m*\u001b[0m \u001b[0mk\u001b[0m\u001b[0;34m\u001b[0m\u001b[0;34m\u001b[0m\u001b[0m\n\u001b[1;32m    451\u001b[0m         \u001b[0msetsize\u001b[0m \u001b[0;34m=\u001b[0m \u001b[0;36m21\u001b[0m        \u001b[0;31m# size of a small set minus size of an empty list\u001b[0m\u001b[0;34m\u001b[0m\u001b[0;34m\u001b[0m\u001b[0m\n",
      "\u001b[0;31mValueError\u001b[0m: Sample larger than population or is negative"
     ]
    }
   ],
   "source": [
    "print(\"Filtered clusters: \", len(clusters_to_filter))\n",
    "print(\"Filtered terms: \", len(filtered_terms))\n",
    "random.sample(filtered_terms, 15)"
   ]
  },
  {
   "cell_type": "code",
   "execution_count": null,
   "id": "32fc16ee",
   "metadata": {},
   "outputs": [],
   "source": [
    "removed_terms = [span for span in unique_spans if span in filtered_terms and span not in unique_background_spans]"
   ]
  },
  {
   "cell_type": "code",
   "execution_count": null,
   "id": "84e7b45b",
   "metadata": {},
   "outputs": [],
   "source": [
    "print(\"Terms extracted from the Approved documents, removed through filtering: \", len(removed_terms))\n",
    "removed_terms"
   ]
  },
  {
   "cell_type": "code",
   "execution_count": null,
   "id": "b6830fae",
   "metadata": {},
   "outputs": [],
   "source": []
  },
  {
   "cell_type": "code",
   "execution_count": 19,
   "id": "7d995502",
   "metadata": {},
   "outputs": [],
   "source": []
  },
  {
   "cell_type": "code",
   "execution_count": 20,
   "id": "49dc7b5c",
   "metadata": {},
   "outputs": [
    {
     "name": "stdout",
     "output_type": "stream",
     "text": [
      "3664 terms were filtered (35.74%)\n",
      "Terms that were filtered:\n"
     ]
    },
    {
     "data": {
      "text/plain": [
       "['utility space',\n",
       " 'the thermal performance',\n",
       " '] resistance of elements of',\n",
       " 'a spread',\n",
       " 'Open appliance',\n",
       " 'a performance',\n",
       " 'sub - paragraph ii',\n",
       " 'regeneration',\n",
       " 'a band material',\n",
       " 'length of']"
      ]
     },
     "execution_count": 20,
     "metadata": {},
     "output_type": "execute_result"
    }
   ],
   "source": [
    "print(\"{} terms were filtered ({:.2f}%)\".format(len(filtered_terms), len(filtered_terms)/len(filtered_terms+domain_terms)*100))\n",
    "print(\"Terms that were filtered:\")\n",
    "random.sample(filtered_terms,10)"
   ]
  },
  {
   "cell_type": "code",
   "execution_count": 21,
   "id": "b6d7b4be",
   "metadata": {},
   "outputs": [
    {
     "name": "stdout",
     "output_type": "stream",
     "text": [
      "6588 terms were kept (64.26%)\n",
      "Terms that were kept:\n"
     ]
    },
    {
     "data": {
      "text/plain": [
       "['Lifts',\n",
       " 'a fixed building service',\n",
       " 'Table 12',\n",
       " 'The enclosure',\n",
       " 'the firefighting stair',\n",
       " 'www wras co uk',\n",
       " 'THE PROVISION',\n",
       " 'the total useful',\n",
       " 'Lifts Regulations 1997',\n",
       " 'Interpretation']"
      ]
     },
     "execution_count": 21,
     "metadata": {},
     "output_type": "execute_result"
    }
   ],
   "source": [
    "print(\"{} terms were kept ({:.2f}%)\".format(len(domain_terms), len(domain_terms)/len(filtered_terms+domain_terms)*100))\n",
    "print(\"Terms that were kept:\")\n",
    "random.sample(domain_terms,10)"
   ]
  },
  {
   "cell_type": "code",
   "execution_count": 22,
   "id": "9d7bd63e",
   "metadata": {},
   "outputs": [
    {
     "name": "stdout",
     "output_type": "stream",
     "text": [
      "Average number of terms per cluster: 3.6535555555555557\n"
     ]
    }
   ],
   "source": [
    "cluster_sizes = [len(v) for v in phrase_cluster_dict.values()]\n",
    "print(f'Average number of terms per cluster: {sum(cluster_sizes)/len(cluster_sizes)}')\n"
   ]
  },
  {
   "cell_type": "code",
   "execution_count": 23,
   "id": "8cdfc746",
   "metadata": {
    "scrolled": true
   },
   "outputs": [
    {
     "name": "stdout",
     "output_type": "stream",
     "text": [
      "99\n"
     ]
    },
    {
     "data": {
      "text/plain": [
       "[[[139.01773071289062, 'necessary'],\n",
       "  [152.12646484375, 'provisions'],\n",
       "  [162.94393920898438, 'particular'],\n",
       "  [163.99697875976562, 'competent'],\n",
       "  [165.74684143066406, 'these'],\n",
       "  [170.29425048828125, 'certificate'],\n",
       "  [170.53988647460938, 'external'],\n",
       "  [172.15859985351562, 'approved'],\n",
       "  [172.29647827148438, 'type'],\n",
       "  [172.86874389648438, 'specified'],\n",
       "  [173.8490753173828, 'provided'],\n",
       "  [174.46298217773438, 'carried'],\n",
       "  [176.34771728515625, 'need'],\n",
       "  [176.40216064453125, 'risks'],\n",
       "  [178.16590881347656, 'dwelling'],\n",
       "  [178.54881286621094, 'cavity'],\n",
       "  [182.03683471679688, 'internal'],\n",
       "  [183.06903076171875, 'protected'],\n",
       "  [183.52154541015625, 'resistance'],\n",
       "  [183.56385803222656, 'applicable'],\n",
       "  [185.00723266601562, 'there'],\n",
       "  [186.37130737304688, 'compartment'],\n",
       "  [189.62973022460938, 'areas'],\n",
       "  [194.02357482910156, 'elements'],\n",
       "  [195.21621704101562, 'comply'],\n",
       "  [195.38121032714844, 'details'],\n",
       "  [196.44729614257812, 'apply'],\n",
       "  [198.8440704345703, 'escape'],\n",
       "  [201.61647033691406, 'clinical'],\n",
       "  [202.46115112304688, 'either'],\n",
       "  [203.9901123046875, 'diagnostic'],\n",
       "  [204.95440673828125, 'place'],\n",
       "  [205.26535034179688, 'medical'],\n",
       "  [205.63351440429688, 'authorities'],\n",
       "  [206.45956420898438, 'provision'],\n",
       "  [206.56016540527344, 'purposes'],\n",
       "  [206.85488891601562, 'appliances'],\n",
       "  [207.71664428710938, 'cases'],\n",
       "  [208.06805419921875, 'issued'],\n",
       "  [208.23800659179688, 'possible'],\n",
       "  [208.4246063232422, 'subject'],\n",
       "  [208.57986450195312, 'changes'],\n",
       "  [210.1670684814453, 'common'],\n",
       "  [210.3955535888672, 'above'],\n",
       "  [211.33499145507812, 'examination'],\n",
       "  [213.70724487304688, 'correct'],\n",
       "  [213.8903045654297, 'equivalent'],\n",
       "  [214.14004516601562, 'instructions'],\n",
       "  [215.2632598876953, 'experience'],\n",
       "  [219.05142211914062, 'treatment'],\n",
       "  [221.186279296875, 'sound'],\n",
       "  [222.40634155273438, 'both'],\n",
       "  [222.63296508789062, 'dwellings'],\n",
       "  [222.77003479003906, 'procedure'],\n",
       "  [223.70175170898438, 'clear'],\n",
       "  [226.02308654785156, 'acts'],\n",
       "  [227.04397583007812, 'windows'],\n",
       "  [227.19692993164062, 'less'],\n",
       "  [229.36080932617188, 'characteristics'],\n",
       "  [232.23788452148438, 'compliance'],\n",
       "  [232.38340759277344, 'similar'],\n",
       "  [232.8292694091797, 'scientific'],\n",
       "  [233.631103515625, 'EC'],\n",
       "  [233.902587890625, 'accommodation'],\n",
       "  [234.62026977539062, 'parts'],\n",
       "  [236.56460571289062, 'protection'],\n",
       "  [237.45846557617188, 'flats'],\n",
       "  [237.78958129882812, 'However'],\n",
       "  [241.07028198242188, 'minimum'],\n",
       "  [243.25628662109375, 'persons'],\n",
       "  [247.17539978027344, 'representative'],\n",
       "  [247.32302856445312, 'fitted'],\n",
       "  [248.8329315185547, 'vent'],\n",
       "  [249.31849670410156, 'evidence'],\n",
       "  [251.95787048339844, 'whole'],\n",
       "  [252.95535278320312, 'individual'],\n",
       "  [254.08689880371094, 'levels'],\n",
       "  [257.3148193359375, 'normal'],\n",
       "  [257.719970703125, 'CE'],\n",
       "  [258.1217041015625, 'high'],\n",
       "  [259.0376892089844, 'ventilation'],\n",
       "  [262.4124450683594, 'main'],\n",
       "  [262.89764404296875, 'marking'],\n",
       "  [265.40850830078125, 'decision'],\n",
       "  [266.07489013671875, 'human'],\n",
       "  [269.2376708984375, 'units'],\n",
       "  [270.3123779296875, 'patient'],\n",
       "  [272.83258056640625, 'services'],\n",
       "  [274.3885498046875, 'lift'],\n",
       "  [279.88427734375, 'total'],\n",
       "  [280.3819885253906, 'opening'],\n",
       "  [282.00640869140625, 'below'],\n",
       "  [288.09722900390625, 'ground'],\n",
       "  [289.06805419921875, 'patients'],\n",
       "  [293.5667724609375, 'special'],\n",
       "  [299.8352966308594, 'side'],\n",
       "  [302.3083801269531, 'controls'],\n",
       "  [388.65411376953125, 'England'],\n",
       "  [420.45458984375, 'All invasive']]]"
      ]
     },
     "execution_count": 23,
     "metadata": {},
     "output_type": "execute_result"
    }
   ],
   "source": [
    "# Check the largest cluster(s)\n",
    "largest_cluster_size = np.max([len(v) for v in phrase_cluster_dict.values()])\n",
    "print(largest_cluster_size)\n",
    "[v for v in phrase_cluster_dict.values() if len(v) == largest_cluster_size]"
   ]
  },
  {
   "cell_type": "code",
   "execution_count": 24,
   "id": "e6d95fc3",
   "metadata": {},
   "outputs": [
    {
     "name": "stdout",
     "output_type": "stream",
     "text": [
      "2244\n"
     ]
    },
    {
     "data": {
      "text/plain": [
       "[[[0.0, 'UT UP TO']],\n",
       " [[0.0, 'downslope']],\n",
       " [[0.0, 'Diagram D5 Number Plant Roof']],\n",
       " [[0.0, 'Sa classification']],\n",
       " [[0.0, 'Number of occupants']],\n",
       " [[0.0, 'prolongation']],\n",
       " [[0.0, 'Vert']],\n",
       " [[0.0, 'cover moulds']],\n",
       " [[0.0, 'a multicentre']],\n",
       " [[0.0, 'supporting structure']]]"
      ]
     },
     "execution_count": 24,
     "metadata": {},
     "output_type": "execute_result"
    }
   ],
   "source": [
    "# check the smallest clusters, select 10 examples\n",
    "print(len([v for v in phrase_cluster_dict.values() if len(v) == 1]))\n",
    "random.sample([v for v in phrase_cluster_dict.values() if len(v) == 1], 10)"
   ]
  },
  {
   "cell_type": "code",
   "execution_count": null,
   "id": "ac85aa96",
   "metadata": {},
   "outputs": [],
   "source": []
  },
  {
   "cell_type": "code",
   "execution_count": null,
   "id": "b42dc901",
   "metadata": {},
   "outputs": [],
   "source": []
  },
  {
   "cell_type": "code",
   "execution_count": null,
   "id": "4f5b81ac",
   "metadata": {},
   "outputs": [],
   "source": []
  }
 ],
 "metadata": {
  "kernelspec": {
   "display_name": "Python 3 (ipykernel)",
   "language": "python",
   "name": "python3"
  },
  "language_info": {
   "codemirror_mode": {
    "name": "ipython",
    "version": 3
   },
   "file_extension": ".py",
   "mimetype": "text/x-python",
   "name": "python",
   "nbconvert_exporter": "python",
   "pygments_lexer": "ipython3",
   "version": "3.9.7"
  }
 },
 "nbformat": 4,
 "nbformat_minor": 5
}
